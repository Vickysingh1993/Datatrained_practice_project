{
 "cells": [
  {
   "cell_type": "markdown",
   "metadata": {},
   "source": [
    "# PROBLEM STATEMENT:"
   ]
  },
  {
   "cell_type": "markdown",
   "metadata": {},
   "source": [
    "As per reports Cars growth of new cars in the upcoming 5 years is an average of 3.5% while for used cars 5% and the ratio of used cars to new cars is increasing continuously. So the used cars market is increasing day by day and a consumer wants the best resale price of his car.\n",
    "\n",
    "Problem Statement\n",
    "Currently, if anyone wants to sell their car either they have to take their car to a respective company workshop or have to make an appointment for the company to get an estimate of the price. This process involves a lot of time and resources. Our Objective is to make a model for third-party companies that will make an estimate of the Price of the customer’s car directly from their online portal. This will save customers time and help the company to reduce its cost and also streamline the process of selling used cars.\n",
    "\n",
    "Task that we have to perform \n",
    "📌Clean and preprocess the data\n",
    "📌 Do Exploratory Data Analysis (EDA) to get some insight into data\n",
    "📌 Do Feature Engineering\n",
    "📌 Build a model i.e Regression Analysis\n",
    "📌 Evaluate the model\n",
    "📌 Go back to any of the previous steps unless the result is sufficient."
   ]
  },
  {
   "cell_type": "markdown",
   "metadata": {},
   "source": [
    "# Importing Libraries"
   ]
  },
  {
   "cell_type": "code",
   "execution_count": 1,
   "metadata": {},
   "outputs": [],
   "source": [
    "import numpy as np\n",
    "import pandas as pd\n",
    "import matplotlib.pyplot as plt\n",
    "import seaborn as sns\n",
    "import warnings\n",
    "warnings.filterwarnings('ignore')"
   ]
  },
  {
   "cell_type": "markdown",
   "metadata": {},
   "source": [
    "# Importing Datasets"
   ]
  },
  {
   "cell_type": "code",
   "execution_count": 2,
   "metadata": {},
   "outputs": [
    {
     "data": {
      "text/html": [
       "<div>\n",
       "<style scoped>\n",
       "    .dataframe tbody tr th:only-of-type {\n",
       "        vertical-align: middle;\n",
       "    }\n",
       "\n",
       "    .dataframe tbody tr th {\n",
       "        vertical-align: top;\n",
       "    }\n",
       "\n",
       "    .dataframe thead th {\n",
       "        text-align: right;\n",
       "    }\n",
       "</style>\n",
       "<table border=\"1\" class=\"dataframe\">\n",
       "  <thead>\n",
       "    <tr style=\"text-align: right;\">\n",
       "      <th></th>\n",
       "      <th>Unnamed: 0.1</th>\n",
       "      <th>Unnamed: 0</th>\n",
       "      <th>Year of Car</th>\n",
       "      <th>Make of Car</th>\n",
       "      <th>Model</th>\n",
       "      <th>Price of Car</th>\n",
       "      <th>Location of Car</th>\n",
       "      <th>Kilometers</th>\n",
       "      <th>Diseal/Petrol</th>\n",
       "      <th>Body</th>\n",
       "      <th>Owner</th>\n",
       "    </tr>\n",
       "  </thead>\n",
       "  <tbody>\n",
       "    <tr>\n",
       "      <th>0</th>\n",
       "      <td>0</td>\n",
       "      <td>0.0</td>\n",
       "      <td>2016</td>\n",
       "      <td>Datsun</td>\n",
       "      <td>Go T</td>\n",
       "      <td>3 Lakhs</td>\n",
       "      <td>Noida</td>\n",
       "      <td>18,000 Kms</td>\n",
       "      <td>Petrol</td>\n",
       "      <td>Hatchback</td>\n",
       "      <td>1st Owner</td>\n",
       "    </tr>\n",
       "    <tr>\n",
       "      <th>1</th>\n",
       "      <td>1</td>\n",
       "      <td>1.0</td>\n",
       "      <td>2012</td>\n",
       "      <td>Volkswagen</td>\n",
       "      <td>Polo COMFORTLINE 1.2...</td>\n",
       "      <td>3 Lakhs</td>\n",
       "      <td>Delhi</td>\n",
       "      <td>77,366 Kms</td>\n",
       "      <td>Diesel</td>\n",
       "      <td>Hatchback</td>\n",
       "      <td>1st Owner</td>\n",
       "    </tr>\n",
       "    <tr>\n",
       "      <th>2</th>\n",
       "      <td>2</td>\n",
       "      <td>2.0</td>\n",
       "      <td>2012</td>\n",
       "      <td>Hyundai</td>\n",
       "      <td>I10 MAGNA 1.1 IRDE2</td>\n",
       "      <td>3 Lakhs</td>\n",
       "      <td>Ghaziabad</td>\n",
       "      <td>55,343 Kms</td>\n",
       "      <td>Petrol</td>\n",
       "      <td>Hatchback</td>\n",
       "      <td>1st Owner</td>\n",
       "    </tr>\n",
       "    <tr>\n",
       "      <th>3</th>\n",
       "      <td>3</td>\n",
       "      <td>3.0</td>\n",
       "      <td>2014</td>\n",
       "      <td>Toyota</td>\n",
       "      <td>Etios Liva V</td>\n",
       "      <td>3 Lakhs</td>\n",
       "      <td>Faridabad</td>\n",
       "      <td>80,530 Kms</td>\n",
       "      <td>Diesel</td>\n",
       "      <td>Hatchback</td>\n",
       "      <td>1st Owner</td>\n",
       "    </tr>\n",
       "    <tr>\n",
       "      <th>4</th>\n",
       "      <td>4</td>\n",
       "      <td>4.0</td>\n",
       "      <td>2011</td>\n",
       "      <td>Chevrolet</td>\n",
       "      <td>Cruze LT</td>\n",
       "      <td>3 Lakhs</td>\n",
       "      <td>Delhi</td>\n",
       "      <td>55,982 Kms</td>\n",
       "      <td>Diesel</td>\n",
       "      <td>Sedan</td>\n",
       "      <td>2nd Owner</td>\n",
       "    </tr>\n",
       "  </tbody>\n",
       "</table>\n",
       "</div>"
      ],
      "text/plain": [
       "   Unnamed: 0.1  Unnamed: 0  Year of Car Make of Car                    Model  \\\n",
       "0             0         0.0         2016      Datsun                     Go T   \n",
       "1             1         1.0         2012  Volkswagen  Polo COMFORTLINE 1.2...   \n",
       "2             2         2.0         2012     Hyundai      I10 MAGNA 1.1 IRDE2   \n",
       "3             3         3.0         2014      Toyota             Etios Liva V   \n",
       "4             4         4.0         2011   Chevrolet                 Cruze LT   \n",
       "\n",
       "  Price of Car Location of Car  Kilometers Diseal/Petrol       Body      Owner  \n",
       "0      3 Lakhs           Noida  18,000 Kms        Petrol  Hatchback  1st Owner  \n",
       "1      3 Lakhs           Delhi  77,366 Kms        Diesel  Hatchback  1st Owner  \n",
       "2      3 Lakhs       Ghaziabad  55,343 Kms        Petrol  Hatchback  1st Owner  \n",
       "3      3 Lakhs       Faridabad  80,530 Kms        Diesel  Hatchback  1st Owner  \n",
       "4      3 Lakhs           Delhi  55,982 Kms        Diesel      Sedan  2nd Owner  "
      ]
     },
     "execution_count": 2,
     "metadata": {},
     "output_type": "execute_result"
    }
   ],
   "source": [
    "df=pd.read_csv(r\"cars_data.csv\")\n",
    "df.head()"
   ]
  },
  {
   "cell_type": "markdown",
   "metadata": {},
   "source": [
    "# Exploratory Data Analysis (EDA)"
   ]
  },
  {
   "cell_type": "code",
   "execution_count": 3,
   "metadata": {},
   "outputs": [
    {
     "data": {
      "text/plain": [
       "(3635, 11)"
      ]
     },
     "execution_count": 3,
     "metadata": {},
     "output_type": "execute_result"
    }
   ],
   "source": [
    "#Checking shape of datasets as we are getting there are 3635 rows and 11 columns.\n",
    "df.shape"
   ]
  },
  {
   "cell_type": "code",
   "execution_count": 4,
   "metadata": {},
   "outputs": [
    {
     "data": {
      "text/plain": [
       "Index(['Unnamed: 0.1', 'Unnamed: 0', 'Year of Car', 'Make of Car', 'Model',\n",
       "       'Price of Car', 'Location of Car', 'Kilometers', 'Diseal/Petrol',\n",
       "       'Body', 'Owner'],\n",
       "      dtype='object')"
      ]
     },
     "execution_count": 4,
     "metadata": {},
     "output_type": "execute_result"
    }
   ],
   "source": [
    "#Total Columns Names\n",
    "df.columns"
   ]
  },
  {
   "cell_type": "code",
   "execution_count": 5,
   "metadata": {},
   "outputs": [
    {
     "data": {
      "text/plain": [
       "array([0.000e+00, 1.000e+00, 2.000e+00, ..., 1.003e+03, 1.004e+03,\n",
       "             nan])"
      ]
     },
     "execution_count": 5,
     "metadata": {},
     "output_type": "execute_result"
    }
   ],
   "source": [
    "df['Unnamed: 0'].unique()"
   ]
  },
  {
   "cell_type": "code",
   "execution_count": 6,
   "metadata": {},
   "outputs": [
    {
     "data": {
      "text/plain": [
       "array([2016, 2012, 2014, 2011, 2013, 2015, 2019, 2017, 2020, 2018, 2009,\n",
       "       2008, 2007, 2010, 2021, 2006, 2004, 2005, 2003, 2002, 2000, 1999,\n",
       "       1996], dtype=int64)"
      ]
     },
     "execution_count": 6,
     "metadata": {},
     "output_type": "execute_result"
    }
   ],
   "source": [
    "df['Year of Car'].unique()"
   ]
  },
  {
   "cell_type": "code",
   "execution_count": 7,
   "metadata": {},
   "outputs": [
    {
     "data": {
      "text/plain": [
       "array(['Datsun', 'Volkswagen', 'Hyundai', 'Toyota', 'Chevrolet',\n",
       "       'Renault', 'Nissan', 'Mahindra', 'Maruti Suzuki', 'Honda', 'Tata',\n",
       "       'Ford', 'Skoda', 'Mitsubishi', 'Ssangyong', 'BMW', 'Jeep', 'Mg',\n",
       "       'Mercedes Benz', 'Kia', 'Audi', 'Fiat', 'Landrover', 'Volvo',\n",
       "       'Mahindra Renault'], dtype=object)"
      ]
     },
     "execution_count": 7,
     "metadata": {},
     "output_type": "execute_result"
    }
   ],
   "source": [
    "df['Make of Car'].unique()"
   ]
  },
  {
   "cell_type": "code",
   "execution_count": 8,
   "metadata": {},
   "outputs": [
    {
     "data": {
      "text/plain": [
       "array(['3 Lakhs', '2 Lakhs', '3.25 Lakhs', '3.3 Lakhs', '3.5 Lakhs',\n",
       "       '15 Lakhs', '8 Lakhs', '5.5 Lakhs', '6.5 Lakhs', '4.95 Lakhs',\n",
       "       '3.75 Lakhs', '3.8 Lakhs', '3.99 Lakhs', '4.25 Lakhs', '4.5 Lakhs',\n",
       "       '4.75 Lakhs', '4.85 Lakhs', '3.85 Lakhs', '4 Lakhs', '4.35 Lakhs',\n",
       "       '4.55 Lakhs', '4.6 Lakhs', '4.65 Lakhs', '4.68 Lakhs', '4.7 Lakhs',\n",
       "       '5 Lakhs', '5.15 Lakhs', '5.2 Lakhs', '5.25 Lakhs', '5.35 Lakhs',\n",
       "       '5.49 Lakhs', '5.6 Lakhs', '5.7 Lakhs', '5.75 Lakhs', '5.85 Lakhs',\n",
       "       '5.95 Lakhs', '6 Lakhs', '6.15 Lakhs', '6.25 Lakhs', '6.65 Lakhs',\n",
       "       '6.75 Lakhs', '6.85 Lakhs', '6.9 Lakhs', '6.95 Lakhs',\n",
       "       '7.15 Lakhs', '7.25 Lakhs', '7.45 Lakhs', '7.49 Lakhs',\n",
       "       '7.5 Lakhs', '7.8 Lakhs', '7.9 Lakhs', '2.75 Lakhs', '2.4 Lakhs',\n",
       "       '1.45 Lakhs', '7.95 Lakhs', '27 Lakhs', '5.9 Lakhs', '2.9 Lakhs',\n",
       "       '5.1 Lakhs', '9 Lakhs', '8.25 Lakhs', '1.65 Lakhs', '2.45 Lakhs',\n",
       "       '6.45 Lakhs', '6.28 Lakhs', '2.99 Lakhs', '9.25 Lakhs', '37,500',\n",
       "       '5.3 Lakhs', '4.78 Lakhs', '4.45 Lakhs', '9.75 Lakhs',\n",
       "       '18.25 Lakhs', '11.75 Lakhs', '1.8 Lakhs', '2.5 Lakhs',\n",
       "       '3.7 Lakhs', '3.55 Lakhs', '9.6 Lakhs', '4.9 Lakhs', '19.5 Lakhs',\n",
       "       '7.65 Lakhs', '4.15 Lakhs', '1.35 Lakhs', '2.65 Lakhs',\n",
       "       '3.6 Lakhs', '3.9 Lakhs', '5.45 Lakhs', '6.05 Lakhs', '6.35 Lakhs',\n",
       "       '6.41 Lakhs', '6.55 Lakhs', '7.85 Lakhs', '11.25 Lakhs',\n",
       "       '8.15 Lakhs', '10.75 Lakhs', '11 Lakhs', '7.75 Lakhs',\n",
       "       '22.75 Lakhs', '6.1 Lakhs', '5.65 Lakhs', '12.45 Lakhs',\n",
       "       '10.5 Lakhs', '5.55 Lakhs', '25.75 Lakhs', '17.85 Lakhs',\n",
       "       '8.1 Lakhs', '17.25 Lakhs', '8.65 Lakhs', '7.35 Lakhs',\n",
       "       '20.11 Lakhs', '14.35 Lakhs', '6.7 Lakhs', '5.4 Lakhs',\n",
       "       '2.85 Lakhs', '8.95 Lakhs', '7.3 Lakhs', '3.65 Lakhs',\n",
       "       '8.75 Lakhs', '4.2 Lakhs', '7.55 Lakhs', '5.21 Lakhs', '4.8 Lakhs',\n",
       "       '12.5 Lakhs', '3.45 Lakhs', '8.55 Lakhs', '8.74 Lakhs',\n",
       "       '9.95 Lakhs', '6.2 Lakhs', '3.35 Lakhs', '15.75 Lakhs',\n",
       "       '3.1 Lakhs', '11.85 Lakhs', '16.65 Lakhs', '9.74 Lakhs',\n",
       "       '20.35 Lakhs', '11.9 Lakhs', '2.95 Lakhs', '13.5 Lakhs',\n",
       "       '18.75 Lakhs', '4.61 Lakhs', '5.51 Lakhs', '4.3 Lakhs',\n",
       "       '1.95 Lakhs', '7 Lakhs', '8.5 Lakhs', '12.75 Lakhs', '11.5 Lakhs',\n",
       "       '3.2 Lakhs', '18.35 Lakhs', '8.35 Lakhs', '9.35 Lakhs',\n",
       "       '5.05 Lakhs', '3.15 Lakhs', '16.45 Lakhs', '1.85 Lakhs',\n",
       "       '9.55 Lakhs', '2.55 Lakhs', '1.7 Lakhs', '2.2 Lakhs',\n",
       "       '13.85 Lakhs', '12.25 Lakhs', '60,000', '20.75 Lakhs',\n",
       "       '21.55 Lakhs', '14.2 Lakhs', '14.25 Lakhs', '28 Lakhs',\n",
       "       '10.11 Lakhs', '10.25 Lakhs', '15.25 Lakhs', '18.5 Lakhs',\n",
       "       '13.45 Lakhs', '26 Lakhs', '5.50 Lakhs', '23.5 Lakhs', '10 Lakhs',\n",
       "       '1.75 Lakhs', '1 Lakhs', '16.5 Lakhs', '8.4 Lakhs', '12 Lakhs',\n",
       "       '9.15 Lakhs', '2.05 Lakhs', '6.31 Lakhs', '3.18 Lakhs',\n",
       "       '14.75 Lakhs', nan, '2.8 Lakhs', '5.8 Lakhs', '3.4 Lakhs',\n",
       "       '18 Lakhs', '9.9 Lakhs', '2.25 Lakhs', '14.5 Lakhs', '4.4 Lakhs',\n",
       "       '13.25 Lakhs', '11.99 Lakhs', '22.5 Lakhs', '5.48 Lakhs',\n",
       "       '17.5 Lakhs', '6.8 Lakhs', '9.5 Lakhs', '4.1 Lakhs', '2.96 Lakhs',\n",
       "       '10.85 Lakhs', '8.45 Lakhs', '3.98 Lakhs', '1.55 Lakhs',\n",
       "       '5.38 Lakhs', '2.30 Lakhs', '1.1 Lakhs', '14.8 Lakhs', '8.3 Lakhs',\n",
       "       '3.59 Lakhs', '26.8 Lakhs', '4.98 Lakhs', '10.00 Lakhs',\n",
       "       '19 Lakhs', '10.95 Lakhs', '2.82 Lakhs', '2.92 Lakhs',\n",
       "       '11.95 Lakhs', '4.49 Lakhs', '4.31 Lakhs', '6.11 Lakhs',\n",
       "       '7.6 Lakhs', '2.1 Lakhs', '9.4 Lakhs', '2.7 Lakhs', '66.5 Lakhs',\n",
       "       '13.75 Lakhs', '8.9 Lakhs', '11.49 Lakhs', '5.47 Lakhs',\n",
       "       '12.49 Lakhs', '15.95 Lakhs', '5.99 Lakhs', '2.18 Lakhs',\n",
       "       '2.35 Lakhs', '2.59 Lakhs', '4.29 Lakhs', '5.78 Lakhs',\n",
       "       '1.25 Lakhs', '1.4 Lakhs', '1.9 Lakhs', '10.99 Lakhs',\n",
       "       '16.9 Lakhs', '1.39 Lakhs', '19.75 Lakhs', '32 Lakhs',\n",
       "       '12.7 Lakhs', '9.2 Lakhs', '2.58 Lakhs', '6.87 Lakhs',\n",
       "       '6.99 Lakhs', '4.99 Lakhs', '27.75 Lakhs', '41 Lakhs', '90,000',\n",
       "       '2.68 Lakhs', '3.95 Lakhs', '2.15 Lakhs', '37 Lakhs', '1.69 Lakhs',\n",
       "       '9.85 Lakhs', '1.2 Lakhs', '1.05 Lakhs', '95,000', '7.7 Lakhs',\n",
       "       '42 Lakhs', '33 Lakhs', '1.78 Lakhs', '1.5 Lakhs', '2.37 Lakhs',\n",
       "       '4.26 Lakhs', '1.15 Lakhs', '2.3 Lakhs', '12.85 Lakhs',\n",
       "       '13.99 Lakhs', '2.84 Lakhs', '20.9 Lakhs', '4.05 Lakhs',\n",
       "       '8.85 Lakhs', '9.45 Lakhs', '2.98 Lakhs', '10.55 Lakhs',\n",
       "       '3.05 Lakhs', '9.16 Lakhs', '3.28 Lakhs', '2.38 Lakhs', '85,000',\n",
       "       '1.6 Lakhs', '2.6 Lakhs', '9.65 Lakhs', '7.12 Lakhs', '6.94 Lakhs',\n",
       "       '6.78 Lakhs', '8.71 Lakhs', '1.3 Lakhs', '99,000', '4.91 Lakhs',\n",
       "       '5.11 Lakhs', '2.62 Lakhs', '1.51 Lakhs', '3.51 Lakhs',\n",
       "       '6.21 Lakhs', '8.51 Lakhs', '1.99 Lakhs', '2.61 Lakhs',\n",
       "       '1.68 Lakhs', '4.51 Lakhs', '21 Lakhs', '7.51 Lakhs', '6.51 Lakhs',\n",
       "       '6.91 Lakhs', '7.71 Lakhs', '2.91 Lakhs', '9.91 Lakhs',\n",
       "       '5.91 Lakhs', '7.31 Lakhs', '9.11 Lakhs', '14.11 Lakhs',\n",
       "       '6.6 Lakhs', '9.8 Lakhs', '11.8 Lakhs', '15.51 Lakhs',\n",
       "       '11.21 Lakhs', '9.51 Lakhs', '15.5 Lakhs', '4.11 Lakhs',\n",
       "       '2.11 Lakhs', '35 Lakhs', '7.81 Lakhs', '15.8 Lakhs',\n",
       "       '16.75 Lakhs', '11.7 Lakhs', '10.81 Lakhs', '14.3 Lakhs',\n",
       "       '42.5 Lakhs', '13 Lakhs', '17 Lakhs', '11.3 Lakhs', '28.5 Lakhs',\n",
       "       '4.02 Lakhs', '6.71 Lakhs', '24 Lakhs', '10.9 Lakhs', '17.9 Lakhs',\n",
       "       '36.9 Lakhs', '6.4 Lakhs', '18.85 Lakhs', '13.9 Lakhs', '99,999',\n",
       "       '80,000', '40,000', '10.8 Lakhs', '7.4 Lakhs', '75,000', '92,000',\n",
       "       '62,000', '70,000', '9.3 Lakhs', '8.05 Lakhs', '13.95 Lakhs',\n",
       "       '8.2 Lakhs', '3.49 Lakhs', '3.66 Lakhs', '8.99 Lakhs',\n",
       "       '9.99 Lakhs', '3.64 Lakhs', '3.68 Lakhs', '4.08 Lakhs',\n",
       "       '5.68 Lakhs', '5.92 Lakhs', '2.87 Lakhs', '39.9 Lakhs',\n",
       "       '6.12 Lakhs', '6.82 Lakhs', '8.12 Lakhs', '6.76 Lakhs',\n",
       "       '7.36 Lakhs', '6.83 Lakhs', '2.78 Lakhs', '12.35 Lakhs'],\n",
       "      dtype=object)"
      ]
     },
     "execution_count": 8,
     "metadata": {},
     "output_type": "execute_result"
    }
   ],
   "source": [
    "df['Price of Car'].unique()"
   ]
  },
  {
   "cell_type": "code",
   "execution_count": 9,
   "metadata": {},
   "outputs": [
    {
     "data": {
      "text/plain": [
       "array(['Noida', 'Delhi', 'Ghaziabad', 'Faridabad', 'Gurgaon', 'Mumbai',\n",
       "       'Thane', 'Panvel', 'Vasai', 'Navi Mumbai', 'Virar', 'Kalyan',\n",
       "       'Bangalore', 'Tumkur', 'Bhopal', 'Indore', 'Surat', 'Pune',\n",
       "       'Nashik', 'Kottayam', 'Kollam', 'Thiruvananthapuram', 'Trivandrum',\n",
       "       'Vikasnagar', 'Dehradun', 'Jaipur', 'Kota', 'Amritsar',\n",
       "       'Tarn Taran', 'Zirakpur', 'Chandigarh', 'Mohali', 'Gorakhpur',\n",
       "       'Coimbatore', 'Chennai', 'Hosur', 'Meerut'], dtype=object)"
      ]
     },
     "execution_count": 9,
     "metadata": {},
     "output_type": "execute_result"
    }
   ],
   "source": [
    "df['Location of Car'].unique()"
   ]
  },
  {
   "cell_type": "code",
   "execution_count": 10,
   "metadata": {},
   "outputs": [
    {
     "data": {
      "text/plain": [
       "array(['18,000 Kms', '77,366 Kms', '55,343 Kms', ..., '41,094 Kms',\n",
       "       '9,500 Kms', '1.5 Lakhs Kms'], dtype=object)"
      ]
     },
     "execution_count": 10,
     "metadata": {},
     "output_type": "execute_result"
    }
   ],
   "source": [
    "df['Kilometers'].unique()"
   ]
  },
  {
   "cell_type": "code",
   "execution_count": 11,
   "metadata": {},
   "outputs": [
    {
     "data": {
      "text/plain": [
       "array(['Petrol', 'Diesel',\n",
       "       'Petrol\\n                                        +  CNG Kit',\n",
       "       'CNG\\n                                        +  CNG Kit', 'CNG',\n",
       "       'Electric', 'LPG',\n",
       "       'Petrol                                    \\n+ CNG Kit',\n",
       "       'CNG                                    \\n+ CNG Kit',\n",
       "       'LPG\\n                                        +  CNG Kit'],\n",
       "      dtype=object)"
      ]
     },
     "execution_count": 11,
     "metadata": {},
     "output_type": "execute_result"
    }
   ],
   "source": [
    "df['Diseal/Petrol'].unique()"
   ]
  },
  {
   "cell_type": "code",
   "execution_count": 12,
   "metadata": {},
   "outputs": [
    {
     "data": {
      "text/plain": [
       "array(['Hatchback', 'Sedan', 'SUV', 'MUV', 'MPV', 'CompactSUV', 'Van',\n",
       "       '--', 'Saloon', nan, 'Coupe', 'Compact SUV'], dtype=object)"
      ]
     },
     "execution_count": 12,
     "metadata": {},
     "output_type": "execute_result"
    }
   ],
   "source": [
    "df['Body'].unique()"
   ]
  },
  {
   "cell_type": "code",
   "execution_count": 13,
   "metadata": {},
   "outputs": [
    {
     "data": {
      "text/plain": [
       "array(['1st Owner', '2nd Owner', '3rd Owner', '4th Owner', '--'],\n",
       "      dtype=object)"
      ]
     },
     "execution_count": 13,
     "metadata": {},
     "output_type": "execute_result"
    }
   ],
   "source": [
    "df['Owner'].unique()"
   ]
  },
  {
   "cell_type": "markdown",
   "metadata": {},
   "source": [
    "Checking All features Unique values and trying to analyse how features looking."
   ]
  },
  {
   "cell_type": "code",
   "execution_count": 14,
   "metadata": {},
   "outputs": [
    {
     "data": {
      "text/plain": [
       "Unnamed: 0.1         int64\n",
       "Unnamed: 0         float64\n",
       "Year of Car          int64\n",
       "Make of Car         object\n",
       "Model               object\n",
       "Price of Car        object\n",
       "Location of Car     object\n",
       "Kilometers          object\n",
       "Diseal/Petrol       object\n",
       "Body                object\n",
       "Owner               object\n",
       "dtype: object"
      ]
     },
     "execution_count": 14,
     "metadata": {},
     "output_type": "execute_result"
    }
   ],
   "source": [
    "#Checking data types of all features. As we know All features is object data types except \"Year of Car\".\n",
    "df.dtypes"
   ]
  },
  {
   "cell_type": "code",
   "execution_count": 15,
   "metadata": {},
   "outputs": [],
   "source": [
    "#Here we are droping two columns which are not usefull to our data.\n",
    "df.drop(['Unnamed: 0'], axis=1, inplace=True)\n",
    "df.drop(['Unnamed: 0.1'], axis=1, inplace=True)"
   ]
  },
  {
   "cell_type": "code",
   "execution_count": 16,
   "metadata": {},
   "outputs": [
    {
     "data": {
      "text/html": [
       "<div>\n",
       "<style scoped>\n",
       "    .dataframe tbody tr th:only-of-type {\n",
       "        vertical-align: middle;\n",
       "    }\n",
       "\n",
       "    .dataframe tbody tr th {\n",
       "        vertical-align: top;\n",
       "    }\n",
       "\n",
       "    .dataframe thead th {\n",
       "        text-align: right;\n",
       "    }\n",
       "</style>\n",
       "<table border=\"1\" class=\"dataframe\">\n",
       "  <thead>\n",
       "    <tr style=\"text-align: right;\">\n",
       "      <th></th>\n",
       "      <th>Year of Car</th>\n",
       "      <th>Make of Car</th>\n",
       "      <th>Model</th>\n",
       "      <th>Price of Car</th>\n",
       "      <th>Location of Car</th>\n",
       "      <th>Kilometers</th>\n",
       "      <th>Diseal/Petrol</th>\n",
       "      <th>Body</th>\n",
       "      <th>Owner</th>\n",
       "    </tr>\n",
       "  </thead>\n",
       "  <tbody>\n",
       "    <tr>\n",
       "      <th>0</th>\n",
       "      <td>2016</td>\n",
       "      <td>Datsun</td>\n",
       "      <td>Go T</td>\n",
       "      <td>3 Lakhs</td>\n",
       "      <td>Noida</td>\n",
       "      <td>18,000 Kms</td>\n",
       "      <td>Petrol</td>\n",
       "      <td>Hatchback</td>\n",
       "      <td>1st Owner</td>\n",
       "    </tr>\n",
       "    <tr>\n",
       "      <th>1</th>\n",
       "      <td>2012</td>\n",
       "      <td>Volkswagen</td>\n",
       "      <td>Polo COMFORTLINE 1.2...</td>\n",
       "      <td>3 Lakhs</td>\n",
       "      <td>Delhi</td>\n",
       "      <td>77,366 Kms</td>\n",
       "      <td>Diesel</td>\n",
       "      <td>Hatchback</td>\n",
       "      <td>1st Owner</td>\n",
       "    </tr>\n",
       "    <tr>\n",
       "      <th>2</th>\n",
       "      <td>2012</td>\n",
       "      <td>Hyundai</td>\n",
       "      <td>I10 MAGNA 1.1 IRDE2</td>\n",
       "      <td>3 Lakhs</td>\n",
       "      <td>Ghaziabad</td>\n",
       "      <td>55,343 Kms</td>\n",
       "      <td>Petrol</td>\n",
       "      <td>Hatchback</td>\n",
       "      <td>1st Owner</td>\n",
       "    </tr>\n",
       "    <tr>\n",
       "      <th>3</th>\n",
       "      <td>2014</td>\n",
       "      <td>Toyota</td>\n",
       "      <td>Etios Liva V</td>\n",
       "      <td>3 Lakhs</td>\n",
       "      <td>Faridabad</td>\n",
       "      <td>80,530 Kms</td>\n",
       "      <td>Diesel</td>\n",
       "      <td>Hatchback</td>\n",
       "      <td>1st Owner</td>\n",
       "    </tr>\n",
       "    <tr>\n",
       "      <th>4</th>\n",
       "      <td>2011</td>\n",
       "      <td>Chevrolet</td>\n",
       "      <td>Cruze LT</td>\n",
       "      <td>3 Lakhs</td>\n",
       "      <td>Delhi</td>\n",
       "      <td>55,982 Kms</td>\n",
       "      <td>Diesel</td>\n",
       "      <td>Sedan</td>\n",
       "      <td>2nd Owner</td>\n",
       "    </tr>\n",
       "  </tbody>\n",
       "</table>\n",
       "</div>"
      ],
      "text/plain": [
       "   Year of Car Make of Car                    Model Price of Car  \\\n",
       "0         2016      Datsun                     Go T      3 Lakhs   \n",
       "1         2012  Volkswagen  Polo COMFORTLINE 1.2...      3 Lakhs   \n",
       "2         2012     Hyundai      I10 MAGNA 1.1 IRDE2      3 Lakhs   \n",
       "3         2014      Toyota             Etios Liva V      3 Lakhs   \n",
       "4         2011   Chevrolet                 Cruze LT      3 Lakhs   \n",
       "\n",
       "  Location of Car  Kilometers Diseal/Petrol       Body      Owner  \n",
       "0           Noida  18,000 Kms        Petrol  Hatchback  1st Owner  \n",
       "1           Delhi  77,366 Kms        Diesel  Hatchback  1st Owner  \n",
       "2       Ghaziabad  55,343 Kms        Petrol  Hatchback  1st Owner  \n",
       "3       Faridabad  80,530 Kms        Diesel  Hatchback  1st Owner  \n",
       "4           Delhi  55,982 Kms        Diesel      Sedan  2nd Owner  "
      ]
     },
     "execution_count": 16,
     "metadata": {},
     "output_type": "execute_result"
    }
   ],
   "source": [
    "df.head()"
   ]
  },
  {
   "cell_type": "markdown",
   "metadata": {},
   "source": [
    "# Data Cleaning"
   ]
  },
  {
   "cell_type": "code",
   "execution_count": 17,
   "metadata": {},
   "outputs": [
    {
     "data": {
      "text/plain": [
       "2015.0"
      ]
     },
     "execution_count": 17,
     "metadata": {},
     "output_type": "execute_result"
    }
   ],
   "source": [
    "\n",
    "Year=df['Year of Car'].median()\n",
    "Year"
   ]
  },
  {
   "cell_type": "code",
   "execution_count": 18,
   "metadata": {},
   "outputs": [],
   "source": [
    "\n",
    "df['Year of Car']=df['Year of Car'].apply(lambda x: x if x!=0 else Year)"
   ]
  },
  {
   "cell_type": "code",
   "execution_count": 19,
   "metadata": {},
   "outputs": [
    {
     "data": {
      "text/html": [
       "<div>\n",
       "<style scoped>\n",
       "    .dataframe tbody tr th:only-of-type {\n",
       "        vertical-align: middle;\n",
       "    }\n",
       "\n",
       "    .dataframe tbody tr th {\n",
       "        vertical-align: top;\n",
       "    }\n",
       "\n",
       "    .dataframe thead th {\n",
       "        text-align: right;\n",
       "    }\n",
       "</style>\n",
       "<table border=\"1\" class=\"dataframe\">\n",
       "  <thead>\n",
       "    <tr style=\"text-align: right;\">\n",
       "      <th></th>\n",
       "      <th>Year of Car</th>\n",
       "      <th>Make of Car</th>\n",
       "      <th>Model</th>\n",
       "      <th>Price of Car</th>\n",
       "      <th>Location of Car</th>\n",
       "      <th>Kilometers</th>\n",
       "      <th>Diseal/Petrol</th>\n",
       "      <th>Body</th>\n",
       "      <th>Owner</th>\n",
       "    </tr>\n",
       "  </thead>\n",
       "  <tbody>\n",
       "    <tr>\n",
       "      <th>0</th>\n",
       "      <td>2016</td>\n",
       "      <td>Datsun</td>\n",
       "      <td>Go T</td>\n",
       "      <td>3 Lakhs</td>\n",
       "      <td>Noida</td>\n",
       "      <td>18,000 Kms</td>\n",
       "      <td>Petrol</td>\n",
       "      <td>Hatchback</td>\n",
       "      <td>1st Owner</td>\n",
       "    </tr>\n",
       "    <tr>\n",
       "      <th>1</th>\n",
       "      <td>2012</td>\n",
       "      <td>Volkswagen</td>\n",
       "      <td>Polo COMFORTLINE 1.2...</td>\n",
       "      <td>3 Lakhs</td>\n",
       "      <td>Delhi</td>\n",
       "      <td>77,366 Kms</td>\n",
       "      <td>Diesel</td>\n",
       "      <td>Hatchback</td>\n",
       "      <td>1st Owner</td>\n",
       "    </tr>\n",
       "    <tr>\n",
       "      <th>2</th>\n",
       "      <td>2012</td>\n",
       "      <td>Hyundai</td>\n",
       "      <td>I10 MAGNA 1.1 IRDE2</td>\n",
       "      <td>3 Lakhs</td>\n",
       "      <td>Ghaziabad</td>\n",
       "      <td>55,343 Kms</td>\n",
       "      <td>Petrol</td>\n",
       "      <td>Hatchback</td>\n",
       "      <td>1st Owner</td>\n",
       "    </tr>\n",
       "    <tr>\n",
       "      <th>3</th>\n",
       "      <td>2014</td>\n",
       "      <td>Toyota</td>\n",
       "      <td>Etios Liva V</td>\n",
       "      <td>3 Lakhs</td>\n",
       "      <td>Faridabad</td>\n",
       "      <td>80,530 Kms</td>\n",
       "      <td>Diesel</td>\n",
       "      <td>Hatchback</td>\n",
       "      <td>1st Owner</td>\n",
       "    </tr>\n",
       "    <tr>\n",
       "      <th>4</th>\n",
       "      <td>2011</td>\n",
       "      <td>Chevrolet</td>\n",
       "      <td>Cruze LT</td>\n",
       "      <td>3 Lakhs</td>\n",
       "      <td>Delhi</td>\n",
       "      <td>55,982 Kms</td>\n",
       "      <td>Diesel</td>\n",
       "      <td>Sedan</td>\n",
       "      <td>2nd Owner</td>\n",
       "    </tr>\n",
       "  </tbody>\n",
       "</table>\n",
       "</div>"
      ],
      "text/plain": [
       "   Year of Car Make of Car                    Model Price of Car  \\\n",
       "0         2016      Datsun                     Go T      3 Lakhs   \n",
       "1         2012  Volkswagen  Polo COMFORTLINE 1.2...      3 Lakhs   \n",
       "2         2012     Hyundai      I10 MAGNA 1.1 IRDE2      3 Lakhs   \n",
       "3         2014      Toyota             Etios Liva V      3 Lakhs   \n",
       "4         2011   Chevrolet                 Cruze LT      3 Lakhs   \n",
       "\n",
       "  Location of Car  Kilometers Diseal/Petrol       Body      Owner  \n",
       "0           Noida  18,000 Kms        Petrol  Hatchback  1st Owner  \n",
       "1           Delhi  77,366 Kms        Diesel  Hatchback  1st Owner  \n",
       "2       Ghaziabad  55,343 Kms        Petrol  Hatchback  1st Owner  \n",
       "3       Faridabad  80,530 Kms        Diesel  Hatchback  1st Owner  \n",
       "4           Delhi  55,982 Kms        Diesel      Sedan  2nd Owner  "
      ]
     },
     "execution_count": 19,
     "metadata": {},
     "output_type": "execute_result"
    }
   ],
   "source": [
    "df.head()"
   ]
  },
  {
   "cell_type": "code",
   "execution_count": 20,
   "metadata": {},
   "outputs": [],
   "source": [
    "df['Kilometers']=df['Kilometers'].apply(lambda x: x.replace(',','') if x!='-' else '-')"
   ]
  },
  {
   "cell_type": "code",
   "execution_count": 21,
   "metadata": {},
   "outputs": [
    {
     "data": {
      "text/html": [
       "<div>\n",
       "<style scoped>\n",
       "    .dataframe tbody tr th:only-of-type {\n",
       "        vertical-align: middle;\n",
       "    }\n",
       "\n",
       "    .dataframe tbody tr th {\n",
       "        vertical-align: top;\n",
       "    }\n",
       "\n",
       "    .dataframe thead th {\n",
       "        text-align: right;\n",
       "    }\n",
       "</style>\n",
       "<table border=\"1\" class=\"dataframe\">\n",
       "  <thead>\n",
       "    <tr style=\"text-align: right;\">\n",
       "      <th></th>\n",
       "      <th>Year of Car</th>\n",
       "      <th>Make of Car</th>\n",
       "      <th>Model</th>\n",
       "      <th>Price of Car</th>\n",
       "      <th>Location of Car</th>\n",
       "      <th>Kilometers</th>\n",
       "      <th>Diseal/Petrol</th>\n",
       "      <th>Body</th>\n",
       "      <th>Owner</th>\n",
       "    </tr>\n",
       "  </thead>\n",
       "  <tbody>\n",
       "    <tr>\n",
       "      <th>0</th>\n",
       "      <td>2016</td>\n",
       "      <td>Datsun</td>\n",
       "      <td>Go T</td>\n",
       "      <td>3 Lakhs</td>\n",
       "      <td>Noida</td>\n",
       "      <td>18000 Kms</td>\n",
       "      <td>Petrol</td>\n",
       "      <td>Hatchback</td>\n",
       "      <td>1st Owner</td>\n",
       "    </tr>\n",
       "    <tr>\n",
       "      <th>1</th>\n",
       "      <td>2012</td>\n",
       "      <td>Volkswagen</td>\n",
       "      <td>Polo COMFORTLINE 1.2...</td>\n",
       "      <td>3 Lakhs</td>\n",
       "      <td>Delhi</td>\n",
       "      <td>77366 Kms</td>\n",
       "      <td>Diesel</td>\n",
       "      <td>Hatchback</td>\n",
       "      <td>1st Owner</td>\n",
       "    </tr>\n",
       "    <tr>\n",
       "      <th>2</th>\n",
       "      <td>2012</td>\n",
       "      <td>Hyundai</td>\n",
       "      <td>I10 MAGNA 1.1 IRDE2</td>\n",
       "      <td>3 Lakhs</td>\n",
       "      <td>Ghaziabad</td>\n",
       "      <td>55343 Kms</td>\n",
       "      <td>Petrol</td>\n",
       "      <td>Hatchback</td>\n",
       "      <td>1st Owner</td>\n",
       "    </tr>\n",
       "    <tr>\n",
       "      <th>3</th>\n",
       "      <td>2014</td>\n",
       "      <td>Toyota</td>\n",
       "      <td>Etios Liva V</td>\n",
       "      <td>3 Lakhs</td>\n",
       "      <td>Faridabad</td>\n",
       "      <td>80530 Kms</td>\n",
       "      <td>Diesel</td>\n",
       "      <td>Hatchback</td>\n",
       "      <td>1st Owner</td>\n",
       "    </tr>\n",
       "    <tr>\n",
       "      <th>4</th>\n",
       "      <td>2011</td>\n",
       "      <td>Chevrolet</td>\n",
       "      <td>Cruze LT</td>\n",
       "      <td>3 Lakhs</td>\n",
       "      <td>Delhi</td>\n",
       "      <td>55982 Kms</td>\n",
       "      <td>Diesel</td>\n",
       "      <td>Sedan</td>\n",
       "      <td>2nd Owner</td>\n",
       "    </tr>\n",
       "  </tbody>\n",
       "</table>\n",
       "</div>"
      ],
      "text/plain": [
       "   Year of Car Make of Car                    Model Price of Car  \\\n",
       "0         2016      Datsun                     Go T      3 Lakhs   \n",
       "1         2012  Volkswagen  Polo COMFORTLINE 1.2...      3 Lakhs   \n",
       "2         2012     Hyundai      I10 MAGNA 1.1 IRDE2      3 Lakhs   \n",
       "3         2014      Toyota             Etios Liva V      3 Lakhs   \n",
       "4         2011   Chevrolet                 Cruze LT      3 Lakhs   \n",
       "\n",
       "  Location of Car Kilometers Diseal/Petrol       Body      Owner  \n",
       "0           Noida  18000 Kms        Petrol  Hatchback  1st Owner  \n",
       "1           Delhi  77366 Kms        Diesel  Hatchback  1st Owner  \n",
       "2       Ghaziabad  55343 Kms        Petrol  Hatchback  1st Owner  \n",
       "3       Faridabad  80530 Kms        Diesel  Hatchback  1st Owner  \n",
       "4           Delhi  55982 Kms        Diesel      Sedan  2nd Owner  "
      ]
     },
     "execution_count": 21,
     "metadata": {},
     "output_type": "execute_result"
    }
   ],
   "source": [
    "df.head()"
   ]
  },
  {
   "cell_type": "code",
   "execution_count": 22,
   "metadata": {},
   "outputs": [
    {
     "data": {
      "text/plain": [
       "1"
      ]
     },
     "execution_count": 22,
     "metadata": {},
     "output_type": "execute_result"
    }
   ],
   "source": [
    "int(float('1.37'))"
   ]
  },
  {
   "cell_type": "code",
   "execution_count": 23,
   "metadata": {},
   "outputs": [],
   "source": [
    "df['Owner']=df['Owner'].apply(lambda x: int(x[0]) if x!='--' else 2)"
   ]
  },
  {
   "cell_type": "code",
   "execution_count": 24,
   "metadata": {},
   "outputs": [
    {
     "data": {
      "text/html": [
       "<div>\n",
       "<style scoped>\n",
       "    .dataframe tbody tr th:only-of-type {\n",
       "        vertical-align: middle;\n",
       "    }\n",
       "\n",
       "    .dataframe tbody tr th {\n",
       "        vertical-align: top;\n",
       "    }\n",
       "\n",
       "    .dataframe thead th {\n",
       "        text-align: right;\n",
       "    }\n",
       "</style>\n",
       "<table border=\"1\" class=\"dataframe\">\n",
       "  <thead>\n",
       "    <tr style=\"text-align: right;\">\n",
       "      <th></th>\n",
       "      <th>Year of Car</th>\n",
       "      <th>Make of Car</th>\n",
       "      <th>Model</th>\n",
       "      <th>Price of Car</th>\n",
       "      <th>Location of Car</th>\n",
       "      <th>Kilometers</th>\n",
       "      <th>Diseal/Petrol</th>\n",
       "      <th>Body</th>\n",
       "      <th>Owner</th>\n",
       "    </tr>\n",
       "  </thead>\n",
       "  <tbody>\n",
       "    <tr>\n",
       "      <th>0</th>\n",
       "      <td>2016</td>\n",
       "      <td>Datsun</td>\n",
       "      <td>Go T</td>\n",
       "      <td>3 Lakhs</td>\n",
       "      <td>Noida</td>\n",
       "      <td>18000 Kms</td>\n",
       "      <td>Petrol</td>\n",
       "      <td>Hatchback</td>\n",
       "      <td>1</td>\n",
       "    </tr>\n",
       "    <tr>\n",
       "      <th>1</th>\n",
       "      <td>2012</td>\n",
       "      <td>Volkswagen</td>\n",
       "      <td>Polo COMFORTLINE 1.2...</td>\n",
       "      <td>3 Lakhs</td>\n",
       "      <td>Delhi</td>\n",
       "      <td>77366 Kms</td>\n",
       "      <td>Diesel</td>\n",
       "      <td>Hatchback</td>\n",
       "      <td>1</td>\n",
       "    </tr>\n",
       "    <tr>\n",
       "      <th>2</th>\n",
       "      <td>2012</td>\n",
       "      <td>Hyundai</td>\n",
       "      <td>I10 MAGNA 1.1 IRDE2</td>\n",
       "      <td>3 Lakhs</td>\n",
       "      <td>Ghaziabad</td>\n",
       "      <td>55343 Kms</td>\n",
       "      <td>Petrol</td>\n",
       "      <td>Hatchback</td>\n",
       "      <td>1</td>\n",
       "    </tr>\n",
       "    <tr>\n",
       "      <th>3</th>\n",
       "      <td>2014</td>\n",
       "      <td>Toyota</td>\n",
       "      <td>Etios Liva V</td>\n",
       "      <td>3 Lakhs</td>\n",
       "      <td>Faridabad</td>\n",
       "      <td>80530 Kms</td>\n",
       "      <td>Diesel</td>\n",
       "      <td>Hatchback</td>\n",
       "      <td>1</td>\n",
       "    </tr>\n",
       "    <tr>\n",
       "      <th>4</th>\n",
       "      <td>2011</td>\n",
       "      <td>Chevrolet</td>\n",
       "      <td>Cruze LT</td>\n",
       "      <td>3 Lakhs</td>\n",
       "      <td>Delhi</td>\n",
       "      <td>55982 Kms</td>\n",
       "      <td>Diesel</td>\n",
       "      <td>Sedan</td>\n",
       "      <td>2</td>\n",
       "    </tr>\n",
       "  </tbody>\n",
       "</table>\n",
       "</div>"
      ],
      "text/plain": [
       "   Year of Car Make of Car                    Model Price of Car  \\\n",
       "0         2016      Datsun                     Go T      3 Lakhs   \n",
       "1         2012  Volkswagen  Polo COMFORTLINE 1.2...      3 Lakhs   \n",
       "2         2012     Hyundai      I10 MAGNA 1.1 IRDE2      3 Lakhs   \n",
       "3         2014      Toyota             Etios Liva V      3 Lakhs   \n",
       "4         2011   Chevrolet                 Cruze LT      3 Lakhs   \n",
       "\n",
       "  Location of Car Kilometers Diseal/Petrol       Body  Owner  \n",
       "0           Noida  18000 Kms        Petrol  Hatchback      1  \n",
       "1           Delhi  77366 Kms        Diesel  Hatchback      1  \n",
       "2       Ghaziabad  55343 Kms        Petrol  Hatchback      1  \n",
       "3       Faridabad  80530 Kms        Diesel  Hatchback      1  \n",
       "4           Delhi  55982 Kms        Diesel      Sedan      2  "
      ]
     },
     "execution_count": 24,
     "metadata": {},
     "output_type": "execute_result"
    }
   ],
   "source": [
    "df.head()"
   ]
  },
  {
   "cell_type": "code",
   "execution_count": 25,
   "metadata": {},
   "outputs": [
    {
     "data": {
      "text/plain": [
       "array([1, 2, 3, 4], dtype=int64)"
      ]
     },
     "execution_count": 25,
     "metadata": {},
     "output_type": "execute_result"
    }
   ],
   "source": [
    "df['Owner'].unique()"
   ]
  },
  {
   "cell_type": "code",
   "execution_count": 26,
   "metadata": {},
   "outputs": [
    {
     "data": {
      "text/html": [
       "<div>\n",
       "<style scoped>\n",
       "    .dataframe tbody tr th:only-of-type {\n",
       "        vertical-align: middle;\n",
       "    }\n",
       "\n",
       "    .dataframe tbody tr th {\n",
       "        vertical-align: top;\n",
       "    }\n",
       "\n",
       "    .dataframe thead th {\n",
       "        text-align: right;\n",
       "    }\n",
       "</style>\n",
       "<table border=\"1\" class=\"dataframe\">\n",
       "  <thead>\n",
       "    <tr style=\"text-align: right;\">\n",
       "      <th></th>\n",
       "      <th>Year of Car</th>\n",
       "      <th>Make of Car</th>\n",
       "      <th>Model</th>\n",
       "      <th>Price of Car</th>\n",
       "      <th>Location of Car</th>\n",
       "      <th>Kilometers</th>\n",
       "      <th>Diseal/Petrol</th>\n",
       "      <th>Body</th>\n",
       "      <th>Owner</th>\n",
       "    </tr>\n",
       "  </thead>\n",
       "  <tbody>\n",
       "    <tr>\n",
       "      <th>0</th>\n",
       "      <td>2016</td>\n",
       "      <td>Datsun</td>\n",
       "      <td>Go T</td>\n",
       "      <td>3 Lakhs</td>\n",
       "      <td>Noida</td>\n",
       "      <td>18000 Kms</td>\n",
       "      <td>Petrol</td>\n",
       "      <td>Hatchback</td>\n",
       "      <td>1</td>\n",
       "    </tr>\n",
       "    <tr>\n",
       "      <th>1</th>\n",
       "      <td>2012</td>\n",
       "      <td>Volkswagen</td>\n",
       "      <td>Polo COMFORTLINE 1.2...</td>\n",
       "      <td>3 Lakhs</td>\n",
       "      <td>Delhi</td>\n",
       "      <td>77366 Kms</td>\n",
       "      <td>Diesel</td>\n",
       "      <td>Hatchback</td>\n",
       "      <td>1</td>\n",
       "    </tr>\n",
       "    <tr>\n",
       "      <th>2</th>\n",
       "      <td>2012</td>\n",
       "      <td>Hyundai</td>\n",
       "      <td>I10 MAGNA 1.1 IRDE2</td>\n",
       "      <td>3 Lakhs</td>\n",
       "      <td>Ghaziabad</td>\n",
       "      <td>55343 Kms</td>\n",
       "      <td>Petrol</td>\n",
       "      <td>Hatchback</td>\n",
       "      <td>1</td>\n",
       "    </tr>\n",
       "    <tr>\n",
       "      <th>3</th>\n",
       "      <td>2014</td>\n",
       "      <td>Toyota</td>\n",
       "      <td>Etios Liva V</td>\n",
       "      <td>3 Lakhs</td>\n",
       "      <td>Faridabad</td>\n",
       "      <td>80530 Kms</td>\n",
       "      <td>Diesel</td>\n",
       "      <td>Hatchback</td>\n",
       "      <td>1</td>\n",
       "    </tr>\n",
       "    <tr>\n",
       "      <th>4</th>\n",
       "      <td>2011</td>\n",
       "      <td>Chevrolet</td>\n",
       "      <td>Cruze LT</td>\n",
       "      <td>3 Lakhs</td>\n",
       "      <td>Delhi</td>\n",
       "      <td>55982 Kms</td>\n",
       "      <td>Diesel</td>\n",
       "      <td>Sedan</td>\n",
       "      <td>2</td>\n",
       "    </tr>\n",
       "    <tr>\n",
       "      <th>...</th>\n",
       "      <td>...</td>\n",
       "      <td>...</td>\n",
       "      <td>...</td>\n",
       "      <td>...</td>\n",
       "      <td>...</td>\n",
       "      <td>...</td>\n",
       "      <td>...</td>\n",
       "      <td>...</td>\n",
       "      <td>...</td>\n",
       "    </tr>\n",
       "    <tr>\n",
       "      <th>3630</th>\n",
       "      <td>2019</td>\n",
       "      <td>Mahindra</td>\n",
       "      <td>Scorpio S5 2WD</td>\n",
       "      <td>12.25 Lakhs</td>\n",
       "      <td>Meerut</td>\n",
       "      <td>35000 Kms</td>\n",
       "      <td>Diesel</td>\n",
       "      <td>SUV</td>\n",
       "      <td>1</td>\n",
       "    </tr>\n",
       "    <tr>\n",
       "      <th>3631</th>\n",
       "      <td>2016</td>\n",
       "      <td>Mahindra</td>\n",
       "      <td>Scorpio S10</td>\n",
       "      <td>9.5 Lakhs</td>\n",
       "      <td>Meerut</td>\n",
       "      <td>50000 Kms</td>\n",
       "      <td>Diesel</td>\n",
       "      <td>SUV</td>\n",
       "      <td>3</td>\n",
       "    </tr>\n",
       "    <tr>\n",
       "      <th>3632</th>\n",
       "      <td>2018</td>\n",
       "      <td>Hyundai</td>\n",
       "      <td>Elite I20 MAGNA EXEC...</td>\n",
       "      <td>5.5 Lakhs</td>\n",
       "      <td>Meerut</td>\n",
       "      <td>47000 Kms</td>\n",
       "      <td>Petrol</td>\n",
       "      <td>Hatchback</td>\n",
       "      <td>1</td>\n",
       "    </tr>\n",
       "    <tr>\n",
       "      <th>3633</th>\n",
       "      <td>2017</td>\n",
       "      <td>Renault</td>\n",
       "      <td>Kwid RXL</td>\n",
       "      <td>2.5 Lakhs</td>\n",
       "      <td>Meerut</td>\n",
       "      <td>55000 Kms</td>\n",
       "      <td>Petrol</td>\n",
       "      <td>Hatchback</td>\n",
       "      <td>2</td>\n",
       "    </tr>\n",
       "    <tr>\n",
       "      <th>3634</th>\n",
       "      <td>2011</td>\n",
       "      <td>Maruti Suzuki</td>\n",
       "      <td>Eeco 5 STR CNG WITH ...</td>\n",
       "      <td>1.5 Lakhs</td>\n",
       "      <td>Meerut</td>\n",
       "      <td>1.5 Lakhs Kms</td>\n",
       "      <td>CNG                                    \\n+ CNG...</td>\n",
       "      <td>Van</td>\n",
       "      <td>3</td>\n",
       "    </tr>\n",
       "  </tbody>\n",
       "</table>\n",
       "<p>3635 rows × 9 columns</p>\n",
       "</div>"
      ],
      "text/plain": [
       "      Year of Car    Make of Car                    Model Price of Car  \\\n",
       "0            2016         Datsun                     Go T      3 Lakhs   \n",
       "1            2012     Volkswagen  Polo COMFORTLINE 1.2...      3 Lakhs   \n",
       "2            2012        Hyundai      I10 MAGNA 1.1 IRDE2      3 Lakhs   \n",
       "3            2014         Toyota             Etios Liva V      3 Lakhs   \n",
       "4            2011      Chevrolet                 Cruze LT      3 Lakhs   \n",
       "...           ...            ...                      ...          ...   \n",
       "3630         2019       Mahindra           Scorpio S5 2WD  12.25 Lakhs   \n",
       "3631         2016       Mahindra              Scorpio S10    9.5 Lakhs   \n",
       "3632         2018        Hyundai  Elite I20 MAGNA EXEC...    5.5 Lakhs   \n",
       "3633         2017        Renault                 Kwid RXL    2.5 Lakhs   \n",
       "3634         2011  Maruti Suzuki  Eeco 5 STR CNG WITH ...    1.5 Lakhs   \n",
       "\n",
       "     Location of Car     Kilometers  \\\n",
       "0              Noida      18000 Kms   \n",
       "1              Delhi      77366 Kms   \n",
       "2          Ghaziabad      55343 Kms   \n",
       "3          Faridabad      80530 Kms   \n",
       "4              Delhi      55982 Kms   \n",
       "...              ...            ...   \n",
       "3630          Meerut      35000 Kms   \n",
       "3631          Meerut      50000 Kms   \n",
       "3632          Meerut      47000 Kms   \n",
       "3633          Meerut      55000 Kms   \n",
       "3634          Meerut  1.5 Lakhs Kms   \n",
       "\n",
       "                                          Diseal/Petrol       Body  Owner  \n",
       "0                                                Petrol  Hatchback      1  \n",
       "1                                                Diesel  Hatchback      1  \n",
       "2                                                Petrol  Hatchback      1  \n",
       "3                                                Diesel  Hatchback      1  \n",
       "4                                                Diesel      Sedan      2  \n",
       "...                                                 ...        ...    ...  \n",
       "3630                                             Diesel        SUV      1  \n",
       "3631                                             Diesel        SUV      3  \n",
       "3632                                             Petrol  Hatchback      1  \n",
       "3633                                             Petrol  Hatchback      2  \n",
       "3634  CNG                                    \\n+ CNG...        Van      3  \n",
       "\n",
       "[3635 rows x 9 columns]"
      ]
     },
     "execution_count": 26,
     "metadata": {},
     "output_type": "execute_result"
    }
   ],
   "source": [
    "df"
   ]
  },
  {
   "cell_type": "code",
   "execution_count": 27,
   "metadata": {},
   "outputs": [],
   "source": [
    "df['Price of Car'] = df['Price of Car'].str[0:3]"
   ]
  },
  {
   "cell_type": "code",
   "execution_count": 28,
   "metadata": {},
   "outputs": [],
   "source": [
    "df['Kilometers'] = df['Kilometers'].str[0:5]"
   ]
  },
  {
   "cell_type": "code",
   "execution_count": 29,
   "metadata": {},
   "outputs": [
    {
     "data": {
      "text/html": [
       "<div>\n",
       "<style scoped>\n",
       "    .dataframe tbody tr th:only-of-type {\n",
       "        vertical-align: middle;\n",
       "    }\n",
       "\n",
       "    .dataframe tbody tr th {\n",
       "        vertical-align: top;\n",
       "    }\n",
       "\n",
       "    .dataframe thead th {\n",
       "        text-align: right;\n",
       "    }\n",
       "</style>\n",
       "<table border=\"1\" class=\"dataframe\">\n",
       "  <thead>\n",
       "    <tr style=\"text-align: right;\">\n",
       "      <th></th>\n",
       "      <th>Year of Car</th>\n",
       "      <th>Make of Car</th>\n",
       "      <th>Model</th>\n",
       "      <th>Price of Car</th>\n",
       "      <th>Location of Car</th>\n",
       "      <th>Kilometers</th>\n",
       "      <th>Diseal/Petrol</th>\n",
       "      <th>Body</th>\n",
       "      <th>Owner</th>\n",
       "    </tr>\n",
       "  </thead>\n",
       "  <tbody>\n",
       "    <tr>\n",
       "      <th>3625</th>\n",
       "      <td>2016</td>\n",
       "      <td>Mahindra</td>\n",
       "      <td>Xuv500 W8</td>\n",
       "      <td>7.2</td>\n",
       "      <td>Meerut</td>\n",
       "      <td>65000</td>\n",
       "      <td>Diesel</td>\n",
       "      <td>SUV</td>\n",
       "      <td>2</td>\n",
       "    </tr>\n",
       "    <tr>\n",
       "      <th>3626</th>\n",
       "      <td>2013</td>\n",
       "      <td>Mahindra</td>\n",
       "      <td>Scorpio VLX 2WD BS I...</td>\n",
       "      <td>3.5</td>\n",
       "      <td>Meerut</td>\n",
       "      <td>1.25</td>\n",
       "      <td>Diesel</td>\n",
       "      <td>SUV</td>\n",
       "      <td>1</td>\n",
       "    </tr>\n",
       "    <tr>\n",
       "      <th>3627</th>\n",
       "      <td>2017</td>\n",
       "      <td>Datsun</td>\n",
       "      <td>Redi Go 1.0 S</td>\n",
       "      <td>2.5</td>\n",
       "      <td>Meerut</td>\n",
       "      <td>48000</td>\n",
       "      <td>Petrol</td>\n",
       "      <td>Hatchback</td>\n",
       "      <td>2</td>\n",
       "    </tr>\n",
       "    <tr>\n",
       "      <th>3628</th>\n",
       "      <td>2019</td>\n",
       "      <td>Mahindra</td>\n",
       "      <td>Scorpio S7 140 2WD</td>\n",
       "      <td>12.</td>\n",
       "      <td>Meerut</td>\n",
       "      <td>9500</td>\n",
       "      <td>Diesel</td>\n",
       "      <td>SUV</td>\n",
       "      <td>1</td>\n",
       "    </tr>\n",
       "    <tr>\n",
       "      <th>3629</th>\n",
       "      <td>2018</td>\n",
       "      <td>Mahindra</td>\n",
       "      <td>Marazzo M8 7 STR</td>\n",
       "      <td>6 L</td>\n",
       "      <td>Meerut</td>\n",
       "      <td>21000</td>\n",
       "      <td>Diesel</td>\n",
       "      <td>MPV</td>\n",
       "      <td>1</td>\n",
       "    </tr>\n",
       "    <tr>\n",
       "      <th>3630</th>\n",
       "      <td>2019</td>\n",
       "      <td>Mahindra</td>\n",
       "      <td>Scorpio S5 2WD</td>\n",
       "      <td>12.</td>\n",
       "      <td>Meerut</td>\n",
       "      <td>35000</td>\n",
       "      <td>Diesel</td>\n",
       "      <td>SUV</td>\n",
       "      <td>1</td>\n",
       "    </tr>\n",
       "    <tr>\n",
       "      <th>3631</th>\n",
       "      <td>2016</td>\n",
       "      <td>Mahindra</td>\n",
       "      <td>Scorpio S10</td>\n",
       "      <td>9.5</td>\n",
       "      <td>Meerut</td>\n",
       "      <td>50000</td>\n",
       "      <td>Diesel</td>\n",
       "      <td>SUV</td>\n",
       "      <td>3</td>\n",
       "    </tr>\n",
       "    <tr>\n",
       "      <th>3632</th>\n",
       "      <td>2018</td>\n",
       "      <td>Hyundai</td>\n",
       "      <td>Elite I20 MAGNA EXEC...</td>\n",
       "      <td>5.5</td>\n",
       "      <td>Meerut</td>\n",
       "      <td>47000</td>\n",
       "      <td>Petrol</td>\n",
       "      <td>Hatchback</td>\n",
       "      <td>1</td>\n",
       "    </tr>\n",
       "    <tr>\n",
       "      <th>3633</th>\n",
       "      <td>2017</td>\n",
       "      <td>Renault</td>\n",
       "      <td>Kwid RXL</td>\n",
       "      <td>2.5</td>\n",
       "      <td>Meerut</td>\n",
       "      <td>55000</td>\n",
       "      <td>Petrol</td>\n",
       "      <td>Hatchback</td>\n",
       "      <td>2</td>\n",
       "    </tr>\n",
       "    <tr>\n",
       "      <th>3634</th>\n",
       "      <td>2011</td>\n",
       "      <td>Maruti Suzuki</td>\n",
       "      <td>Eeco 5 STR CNG WITH ...</td>\n",
       "      <td>1.5</td>\n",
       "      <td>Meerut</td>\n",
       "      <td>1.5 L</td>\n",
       "      <td>CNG                                    \\n+ CNG...</td>\n",
       "      <td>Van</td>\n",
       "      <td>3</td>\n",
       "    </tr>\n",
       "  </tbody>\n",
       "</table>\n",
       "</div>"
      ],
      "text/plain": [
       "      Year of Car    Make of Car                    Model Price of Car  \\\n",
       "3625         2016       Mahindra                Xuv500 W8          7.2   \n",
       "3626         2013       Mahindra  Scorpio VLX 2WD BS I...          3.5   \n",
       "3627         2017         Datsun            Redi Go 1.0 S          2.5   \n",
       "3628         2019       Mahindra       Scorpio S7 140 2WD          12.   \n",
       "3629         2018       Mahindra         Marazzo M8 7 STR          6 L   \n",
       "3630         2019       Mahindra           Scorpio S5 2WD          12.   \n",
       "3631         2016       Mahindra              Scorpio S10          9.5   \n",
       "3632         2018        Hyundai  Elite I20 MAGNA EXEC...          5.5   \n",
       "3633         2017        Renault                 Kwid RXL          2.5   \n",
       "3634         2011  Maruti Suzuki  Eeco 5 STR CNG WITH ...          1.5   \n",
       "\n",
       "     Location of Car Kilometers  \\\n",
       "3625          Meerut      65000   \n",
       "3626          Meerut      1.25    \n",
       "3627          Meerut      48000   \n",
       "3628          Meerut      9500    \n",
       "3629          Meerut      21000   \n",
       "3630          Meerut      35000   \n",
       "3631          Meerut      50000   \n",
       "3632          Meerut      47000   \n",
       "3633          Meerut      55000   \n",
       "3634          Meerut      1.5 L   \n",
       "\n",
       "                                          Diseal/Petrol       Body  Owner  \n",
       "3625                                             Diesel        SUV      2  \n",
       "3626                                             Diesel        SUV      1  \n",
       "3627                                             Petrol  Hatchback      2  \n",
       "3628                                             Diesel        SUV      1  \n",
       "3629                                             Diesel        MPV      1  \n",
       "3630                                             Diesel        SUV      1  \n",
       "3631                                             Diesel        SUV      3  \n",
       "3632                                             Petrol  Hatchback      1  \n",
       "3633                                             Petrol  Hatchback      2  \n",
       "3634  CNG                                    \\n+ CNG...        Van      3  "
      ]
     },
     "execution_count": 29,
     "metadata": {},
     "output_type": "execute_result"
    }
   ],
   "source": [
    "df.tail(10)"
   ]
  },
  {
   "cell_type": "code",
   "execution_count": 30,
   "metadata": {},
   "outputs": [],
   "source": [
    "df['Body'] = df['Body'].replace(['--'],'NaN')"
   ]
  },
  {
   "cell_type": "code",
   "execution_count": 31,
   "metadata": {},
   "outputs": [
    {
     "data": {
      "text/plain": [
       "array(['Petrol', 'Diesel',\n",
       "       'Petrol\\n                                        +  CNG Kit',\n",
       "       'CNG\\n                                        +  CNG Kit', 'CNG',\n",
       "       'Electric', 'LPG',\n",
       "       'Petrol                                    \\n+ CNG Kit',\n",
       "       'CNG                                    \\n+ CNG Kit',\n",
       "       'LPG\\n                                        +  CNG Kit'],\n",
       "      dtype=object)"
      ]
     },
     "execution_count": 31,
     "metadata": {},
     "output_type": "execute_result"
    }
   ],
   "source": [
    "df['Diseal/Petrol'].unique()"
   ]
  },
  {
   "cell_type": "code",
   "execution_count": 32,
   "metadata": {},
   "outputs": [],
   "source": [
    "df['Diseal/Petrol'] = df['Diseal/Petrol'].replace(['Petrol\\n                                        +  CNG Kit'],'Petrol + CNG Kit')\n",
    "df['Diseal/Petrol'] = df['Diseal/Petrol'].replace(['CNG\\n                                        +  CNG Kit'],'CNG Kit')\n",
    "df['Diseal/Petrol'] = df['Diseal/Petrol'].replace(['Petrol                                    \\n+ CNG Kit'],'Petrol + CNG Kit')\n",
    "df['Diseal/Petrol'] = df['Diseal/Petrol'].replace(['CNG                                    \\n+ CNG Kit'],'CNG Kit')\n",
    "df['Diseal/Petrol'] = df['Diseal/Petrol'].replace(['LPG\\n                                        +  CNG Kit'],'LPG + CNG Kit')"
   ]
  },
  {
   "cell_type": "code",
   "execution_count": 33,
   "metadata": {},
   "outputs": [
    {
     "data": {
      "text/plain": [
       "array(['Petrol', 'Diesel', 'Petrol + CNG Kit', 'CNG Kit', 'CNG',\n",
       "       'Electric', 'LPG', 'LPG + CNG Kit'], dtype=object)"
      ]
     },
     "execution_count": 33,
     "metadata": {},
     "output_type": "execute_result"
    }
   ],
   "source": [
    "df['Diseal/Petrol'].unique()"
   ]
  },
  {
   "cell_type": "markdown",
   "metadata": {},
   "source": [
    "# Removing Null Values"
   ]
  },
  {
   "cell_type": "code",
   "execution_count": 34,
   "metadata": {},
   "outputs": [
    {
     "data": {
      "text/plain": [
       "Year of Car         0\n",
       "Make of Car         0\n",
       "Model               0\n",
       "Price of Car        5\n",
       "Location of Car     0\n",
       "Kilometers          0\n",
       "Diseal/Petrol       0\n",
       "Body               12\n",
       "Owner               0\n",
       "dtype: int64"
      ]
     },
     "execution_count": 34,
     "metadata": {},
     "output_type": "execute_result"
    }
   ],
   "source": [
    "#Removing Null Values.\n",
    "df.isnull().sum()"
   ]
  },
  {
   "cell_type": "code",
   "execution_count": 35,
   "metadata": {},
   "outputs": [],
   "source": [
    "from sklearn.impute import SimpleImputer\n",
    "imp=SimpleImputer(strategy=\"most_frequent\")\n",
    "df['Price of Car']=imp.fit_transform(df['Price of Car'].values.reshape(-1,1))\n",
    "df['Body']=imp.fit_transform(df['Body'].values.reshape(-1,1))"
   ]
  },
  {
   "cell_type": "code",
   "execution_count": 36,
   "metadata": {},
   "outputs": [
    {
     "data": {
      "text/plain": [
       "Year of Car        0\n",
       "Make of Car        0\n",
       "Model              0\n",
       "Price of Car       0\n",
       "Location of Car    0\n",
       "Kilometers         0\n",
       "Diseal/Petrol      0\n",
       "Body               0\n",
       "Owner              0\n",
       "dtype: int64"
      ]
     },
     "execution_count": 36,
     "metadata": {},
     "output_type": "execute_result"
    }
   ],
   "source": [
    "df.isnull().sum()"
   ]
  },
  {
   "cell_type": "markdown",
   "metadata": {},
   "source": [
    "# Data Visualization"
   ]
  },
  {
   "cell_type": "code",
   "execution_count": 37,
   "metadata": {},
   "outputs": [
    {
     "data": {
      "text/plain": [
       "Index(['Year of Car', 'Make of Car', 'Model', 'Price of Car',\n",
       "       'Location of Car', 'Kilometers', 'Diseal/Petrol', 'Body', 'Owner'],\n",
       "      dtype='object')"
      ]
     },
     "execution_count": 37,
     "metadata": {},
     "output_type": "execute_result"
    }
   ],
   "source": [
    "df.columns"
   ]
  },
  {
   "cell_type": "code",
   "execution_count": 38,
   "metadata": {},
   "outputs": [
    {
     "data": {
      "text/plain": [
       "Text(0.5, 1.0, 'Year of Car')"
      ]
     },
     "execution_count": 38,
     "metadata": {},
     "output_type": "execute_result"
    },
    {
     "data": {
      "image/png": "[encoded data removed]",
      "text/plain": [
       "<Figure size 800x500 with 1 Axes>"
      ]
     },
     "metadata": {},
     "output_type": "display_data"
    }
   ],
   "source": [
    "fig_size = (8,5)\n",
    "fig, ax = plt.subplots(figsize = fig_size)\n",
    "sns.countplot(data=df, x=\"Year of Car\")\n",
    "plt.xticks(rotation=90)\n",
    "plt.title(\"Year of Car\", fontsize = 20)"
   ]
  },
  {
   "cell_type": "markdown",
   "metadata": {},
   "source": [
    "According to above diagram the maximum cars belongs to 2016 its means the cars which made nearby 2016(2015 to 2018 ) are in highly demand."
   ]
  },
  {
   "cell_type": "code",
   "execution_count": 39,
   "metadata": {},
   "outputs": [
    {
     "data": {
      "text/plain": [
       "Text(0.5, 1.0, 'Make of Car')"
      ]
     },
     "execution_count": 39,
     "metadata": {},
     "output_type": "execute_result"
    },
    {
     "data": {
      "image/png": "[encoded data removed]",
      "text/plain": [
       "<Figure size 800x500 with 1 Axes>"
      ]
     },
     "metadata": {},
     "output_type": "display_data"
    }
   ],
   "source": [
    "fig_size = (8,5)\n",
    "fig, ax = plt.subplots(figsize = fig_size)\n",
    "sns.countplot(data=df, x=\"Make of Car\")\n",
    "plt.xticks(rotation=90)\n",
    "plt.title(\"Make of Car\", fontsize = 20)"
   ]
  },
  {
   "cell_type": "markdown",
   "metadata": {},
   "source": [
    "Accroding to the above diagram the Maruti Suzuki and Hyundai are the only Manufacturer who are highly in demand. Mahindra and Honda are also but very less from them. There are others company also but those are very less in demand."
   ]
  },
  {
   "cell_type": "code",
   "execution_count": 40,
   "metadata": {},
   "outputs": [
    {
     "data": {
      "text/plain": [
       "Text(0.5, 1.0, 'Location of Car')"
      ]
     },
     "execution_count": 40,
     "metadata": {},
     "output_type": "execute_result"
    },
    {
     "data": {
      "image/png": "[encoded data removed]",
      "text/plain": [
       "<Figure size 800x500 with 1 Axes>"
      ]
     },
     "metadata": {},
     "output_type": "display_data"
    }
   ],
   "source": [
    "fig_size = (8,5)\n",
    "fig, ax = plt.subplots(figsize = fig_size)\n",
    "sns.countplot(data=df, x=\"Location of Car\")\n",
    "plt.xticks(rotation=90)\n",
    "plt.title(\"Location of Car\", fontsize = 20)"
   ]
  },
  {
   "cell_type": "markdown",
   "metadata": {},
   "source": [
    "As we know the Delhi is metropolitan city this is the main reason the maximum Cars belongs to Delhi and also in Demand. \n",
    "\n",
    "The Second highest is Gurgaon and Third highest are Noida/Fridabad.\n",
    "\n",
    "Gurgaon, Noida and Fridabad they all are border areas of Delhi so this is also reason of high Sale/Purchase of Cars."
   ]
  },
  {
   "cell_type": "code",
   "execution_count": 41,
   "metadata": {},
   "outputs": [
    {
     "data": {
      "text/plain": [
       "Text(0.5, 1.0, 'Diseal/Petrol')"
      ]
     },
     "execution_count": 41,
     "metadata": {},
     "output_type": "execute_result"
    },
    {
     "data": {
      "image/png": "[encoded data removed]",
      "text/plain": [
       "<Figure size 800x500 with 1 Axes>"
      ]
     },
     "metadata": {},
     "output_type": "display_data"
    }
   ],
   "source": [
    "fig_size = (8,5)\n",
    "fig, ax = plt.subplots(figsize = fig_size)\n",
    "sns.countplot(data=df, x=\"Diseal/Petrol\")\n",
    "plt.xticks(rotation=90)\n",
    "plt.title(\"Diseal/Petrol\", fontsize = 20)"
   ]
  },
  {
   "cell_type": "markdown",
   "metadata": {},
   "source": [
    "The maximum cars are in Petrol variant and Diesel is second highest."
   ]
  },
  {
   "cell_type": "code",
   "execution_count": 42,
   "metadata": {},
   "outputs": [
    {
     "data": {
      "text/plain": [
       "Text(0.5, 1.0, 'Body')"
      ]
     },
     "execution_count": 42,
     "metadata": {},
     "output_type": "execute_result"
    },
    {
     "data": {
      "image/png": "[encoded data removed]",
      "text/plain": [
       "<Figure size 800x500 with 1 Axes>"
      ]
     },
     "metadata": {},
     "output_type": "display_data"
    }
   ],
   "source": [
    "fig_size = (8,5)\n",
    "fig, ax = plt.subplots(figsize = fig_size)\n",
    "sns.countplot(data=df, x=\"Body\")\n",
    "plt.xticks(rotation=90)\n",
    "plt.title(\"Body\", fontsize = 20)"
   ]
  },
  {
   "cell_type": "markdown",
   "metadata": {},
   "source": [
    "According to datasets the Hatchback Cars are highly counted. The Sedan and SUV are the second highest counted."
   ]
  },
  {
   "cell_type": "code",
   "execution_count": 43,
   "metadata": {},
   "outputs": [
    {
     "data": {
      "text/plain": [
       "Text(0.5, 1.0, 'Owner')"
      ]
     },
     "execution_count": 43,
     "metadata": {},
     "output_type": "execute_result"
    },
    {
     "data": {
      "image/png": "[encoded data removed]",
      "text/plain": [
       "<Figure size 800x500 with 1 Axes>"
      ]
     },
     "metadata": {},
     "output_type": "display_data"
    }
   ],
   "source": [
    "fig_size = (8,5)\n",
    "fig, ax = plt.subplots(figsize = fig_size)\n",
    "sns.countplot(data=df, x=\"Owner\")\n",
    "plt.xticks(rotation=90)\n",
    "plt.title(\"Owner\", fontsize = 20)"
   ]
  },
  {
   "cell_type": "markdown",
   "metadata": {},
   "source": [
    "Maximum Cars belongs to first owner."
   ]
  },
  {
   "cell_type": "code",
   "execution_count": 44,
   "metadata": {},
   "outputs": [
    {
     "data": {
      "text/plain": [
       "Index(['Year of Car', 'Make of Car', 'Model', 'Price of Car',\n",
       "       'Location of Car', 'Kilometers', 'Diseal/Petrol', 'Body', 'Owner'],\n",
       "      dtype='object')"
      ]
     },
     "execution_count": 44,
     "metadata": {},
     "output_type": "execute_result"
    }
   ],
   "source": [
    "df.columns"
   ]
  },
  {
   "cell_type": "code",
   "execution_count": 45,
   "metadata": {},
   "outputs": [
    {
     "data": {
      "text/plain": [
       "<AxesSubplot:xlabel='Year of Car', ylabel='count'>"
      ]
     },
     "execution_count": 45,
     "metadata": {},
     "output_type": "execute_result"
    },
    {
     "data": {
      "image/png": "[encoded data removed]",
      "text/plain": [
       "<Figure size 1200x600 with 1 Axes>"
      ]
     },
     "metadata": {},
     "output_type": "display_data"
    }
   ],
   "source": [
    "plt.figure(figsize = (12,6))\n",
    "sns.countplot(x = 'Year of Car' , hue = 'Owner' , data = df , dodge = True , color = 'Blue' , saturation = 1)"
   ]
  },
  {
   "cell_type": "markdown",
   "metadata": {},
   "source": [
    "Here we are trying to compare Year of cars with Ownership. As we are getting from above maximum cars belongs to nearby 2016 and all are first owner cars."
   ]
  },
  {
   "cell_type": "code",
   "execution_count": null,
   "metadata": {},
   "outputs": [],
   "source": []
  },
  {
   "cell_type": "code",
   "execution_count": 46,
   "metadata": {},
   "outputs": [
    {
     "data": {
      "text/html": [
       "<div>\n",
       "<style scoped>\n",
       "    .dataframe tbody tr th:only-of-type {\n",
       "        vertical-align: middle;\n",
       "    }\n",
       "\n",
       "    .dataframe tbody tr th {\n",
       "        vertical-align: top;\n",
       "    }\n",
       "\n",
       "    .dataframe thead th {\n",
       "        text-align: right;\n",
       "    }\n",
       "</style>\n",
       "<table border=\"1\" class=\"dataframe\">\n",
       "  <thead>\n",
       "    <tr style=\"text-align: right;\">\n",
       "      <th></th>\n",
       "      <th>Year of Car</th>\n",
       "      <th>Make of Car</th>\n",
       "      <th>Model</th>\n",
       "      <th>Price of Car</th>\n",
       "      <th>Location of Car</th>\n",
       "      <th>Kilometers</th>\n",
       "      <th>Diseal/Petrol</th>\n",
       "      <th>Body</th>\n",
       "      <th>Owner</th>\n",
       "    </tr>\n",
       "  </thead>\n",
       "  <tbody>\n",
       "    <tr>\n",
       "      <th>0</th>\n",
       "      <td>2016</td>\n",
       "      <td>Datsun</td>\n",
       "      <td>Go T</td>\n",
       "      <td>3 L</td>\n",
       "      <td>Noida</td>\n",
       "      <td>18000</td>\n",
       "      <td>Petrol</td>\n",
       "      <td>Hatchback</td>\n",
       "      <td>1</td>\n",
       "    </tr>\n",
       "    <tr>\n",
       "      <th>1</th>\n",
       "      <td>2012</td>\n",
       "      <td>Volkswagen</td>\n",
       "      <td>Polo COMFORTLINE 1.2...</td>\n",
       "      <td>3 L</td>\n",
       "      <td>Delhi</td>\n",
       "      <td>77366</td>\n",
       "      <td>Diesel</td>\n",
       "      <td>Hatchback</td>\n",
       "      <td>1</td>\n",
       "    </tr>\n",
       "    <tr>\n",
       "      <th>2</th>\n",
       "      <td>2012</td>\n",
       "      <td>Hyundai</td>\n",
       "      <td>I10 MAGNA 1.1 IRDE2</td>\n",
       "      <td>3 L</td>\n",
       "      <td>Ghaziabad</td>\n",
       "      <td>55343</td>\n",
       "      <td>Petrol</td>\n",
       "      <td>Hatchback</td>\n",
       "      <td>1</td>\n",
       "    </tr>\n",
       "    <tr>\n",
       "      <th>3</th>\n",
       "      <td>2014</td>\n",
       "      <td>Toyota</td>\n",
       "      <td>Etios Liva V</td>\n",
       "      <td>3 L</td>\n",
       "      <td>Faridabad</td>\n",
       "      <td>80530</td>\n",
       "      <td>Diesel</td>\n",
       "      <td>Hatchback</td>\n",
       "      <td>1</td>\n",
       "    </tr>\n",
       "    <tr>\n",
       "      <th>4</th>\n",
       "      <td>2011</td>\n",
       "      <td>Chevrolet</td>\n",
       "      <td>Cruze LT</td>\n",
       "      <td>3 L</td>\n",
       "      <td>Delhi</td>\n",
       "      <td>55982</td>\n",
       "      <td>Diesel</td>\n",
       "      <td>Sedan</td>\n",
       "      <td>2</td>\n",
       "    </tr>\n",
       "    <tr>\n",
       "      <th>5</th>\n",
       "      <td>2012</td>\n",
       "      <td>Renault</td>\n",
       "      <td>Duster RXL DIESEL 11...</td>\n",
       "      <td>2 L</td>\n",
       "      <td>Faridabad</td>\n",
       "      <td>85000</td>\n",
       "      <td>Diesel</td>\n",
       "      <td>SUV</td>\n",
       "      <td>2</td>\n",
       "    </tr>\n",
       "    <tr>\n",
       "      <th>6</th>\n",
       "      <td>2012</td>\n",
       "      <td>Nissan</td>\n",
       "      <td>Sunny XV DIESEL</td>\n",
       "      <td>2 L</td>\n",
       "      <td>Faridabad</td>\n",
       "      <td>1.37</td>\n",
       "      <td>Diesel</td>\n",
       "      <td>SUV</td>\n",
       "      <td>2</td>\n",
       "    </tr>\n",
       "    <tr>\n",
       "      <th>7</th>\n",
       "      <td>2013</td>\n",
       "      <td>Renault</td>\n",
       "      <td>Duster 85 PS RXE DIE...</td>\n",
       "      <td>3.2</td>\n",
       "      <td>Delhi</td>\n",
       "      <td>93000</td>\n",
       "      <td>Diesel</td>\n",
       "      <td>SUV</td>\n",
       "      <td>1</td>\n",
       "    </tr>\n",
       "    <tr>\n",
       "      <th>8</th>\n",
       "      <td>2016</td>\n",
       "      <td>Mahindra</td>\n",
       "      <td>Kuv100(2016_2017) K2...</td>\n",
       "      <td>3.3</td>\n",
       "      <td>Faridabad</td>\n",
       "      <td>60200</td>\n",
       "      <td>Diesel</td>\n",
       "      <td>SUV</td>\n",
       "      <td>1</td>\n",
       "    </tr>\n",
       "    <tr>\n",
       "      <th>9</th>\n",
       "      <td>2015</td>\n",
       "      <td>Renault</td>\n",
       "      <td>Duster 85 PS DSL RXZ</td>\n",
       "      <td>3.5</td>\n",
       "      <td>Delhi</td>\n",
       "      <td>85000</td>\n",
       "      <td>Diesel</td>\n",
       "      <td>SUV</td>\n",
       "      <td>1</td>\n",
       "    </tr>\n",
       "    <tr>\n",
       "      <th>10</th>\n",
       "      <td>2019</td>\n",
       "      <td>Mahindra</td>\n",
       "      <td>Scorpio S9 2WD</td>\n",
       "      <td>15</td>\n",
       "      <td>Delhi</td>\n",
       "      <td>24700</td>\n",
       "      <td>Diesel</td>\n",
       "      <td>SUV</td>\n",
       "      <td>1</td>\n",
       "    </tr>\n",
       "    <tr>\n",
       "      <th>11</th>\n",
       "      <td>2017</td>\n",
       "      <td>Maruti Suzuki</td>\n",
       "      <td>Ciaz ALPHA 1.4 AT</td>\n",
       "      <td>8 L</td>\n",
       "      <td>Ghaziabad</td>\n",
       "      <td>35148</td>\n",
       "      <td>Petrol</td>\n",
       "      <td>Sedan</td>\n",
       "      <td>1</td>\n",
       "    </tr>\n",
       "    <tr>\n",
       "      <th>12</th>\n",
       "      <td>2017</td>\n",
       "      <td>Maruti Suzuki</td>\n",
       "      <td>Baleno DELTA</td>\n",
       "      <td>5.5</td>\n",
       "      <td>Noida</td>\n",
       "      <td>78000</td>\n",
       "      <td>Petrol</td>\n",
       "      <td>Hatchback</td>\n",
       "      <td>1</td>\n",
       "    </tr>\n",
       "    <tr>\n",
       "      <th>13</th>\n",
       "      <td>2015</td>\n",
       "      <td>Maruti Suzuki</td>\n",
       "      <td>Ciaz ZDI PLUS  SHVS</td>\n",
       "      <td>6.5</td>\n",
       "      <td>Delhi</td>\n",
       "      <td>27400</td>\n",
       "      <td>Diesel</td>\n",
       "      <td>Sedan</td>\n",
       "      <td>1</td>\n",
       "    </tr>\n",
       "    <tr>\n",
       "      <th>14</th>\n",
       "      <td>2015</td>\n",
       "      <td>Maruti Suzuki</td>\n",
       "      <td>Baleno DELTA</td>\n",
       "      <td>4.9</td>\n",
       "      <td>Noida</td>\n",
       "      <td>75000</td>\n",
       "      <td>Petrol</td>\n",
       "      <td>Hatchback</td>\n",
       "      <td>1</td>\n",
       "    </tr>\n",
       "    <tr>\n",
       "      <th>15</th>\n",
       "      <td>2013</td>\n",
       "      <td>Hyundai</td>\n",
       "      <td>Grand I10 ASTA 1.1 C...</td>\n",
       "      <td>3.5</td>\n",
       "      <td>Ghaziabad</td>\n",
       "      <td>35000</td>\n",
       "      <td>Diesel</td>\n",
       "      <td>Hatchback</td>\n",
       "      <td>2</td>\n",
       "    </tr>\n",
       "    <tr>\n",
       "      <th>16</th>\n",
       "      <td>2016</td>\n",
       "      <td>Mahindra</td>\n",
       "      <td>Kuv100 K4 5 SEATER P...</td>\n",
       "      <td>3.7</td>\n",
       "      <td>Noida</td>\n",
       "      <td>30000</td>\n",
       "      <td>Petrol</td>\n",
       "      <td>Hatchback</td>\n",
       "      <td>1</td>\n",
       "    </tr>\n",
       "    <tr>\n",
       "      <th>17</th>\n",
       "      <td>2014</td>\n",
       "      <td>Hyundai</td>\n",
       "      <td>Grand I10 1.2 KAPPA ...</td>\n",
       "      <td>3.7</td>\n",
       "      <td>Noida</td>\n",
       "      <td>78000</td>\n",
       "      <td>Petrol</td>\n",
       "      <td>Hatchback</td>\n",
       "      <td>1</td>\n",
       "    </tr>\n",
       "    <tr>\n",
       "      <th>18</th>\n",
       "      <td>2014</td>\n",
       "      <td>Volkswagen</td>\n",
       "      <td>Polo COMFORTLINE 1.2...</td>\n",
       "      <td>3.8</td>\n",
       "      <td>Gurgaon</td>\n",
       "      <td>57906</td>\n",
       "      <td>Petrol</td>\n",
       "      <td>Hatchback</td>\n",
       "      <td>1</td>\n",
       "    </tr>\n",
       "    <tr>\n",
       "      <th>19</th>\n",
       "      <td>2012</td>\n",
       "      <td>Honda</td>\n",
       "      <td>City  1.5 V MT</td>\n",
       "      <td>3.9</td>\n",
       "      <td>Delhi</td>\n",
       "      <td>70122</td>\n",
       "      <td>Petrol</td>\n",
       "      <td>Sedan</td>\n",
       "      <td>1</td>\n",
       "    </tr>\n",
       "  </tbody>\n",
       "</table>\n",
       "</div>"
      ],
      "text/plain": [
       "    Year of Car    Make of Car                    Model Price of Car  \\\n",
       "0          2016         Datsun                     Go T          3 L   \n",
       "1          2012     Volkswagen  Polo COMFORTLINE 1.2...          3 L   \n",
       "2          2012        Hyundai      I10 MAGNA 1.1 IRDE2          3 L   \n",
       "3          2014         Toyota             Etios Liva V          3 L   \n",
       "4          2011      Chevrolet                 Cruze LT          3 L   \n",
       "5          2012        Renault  Duster RXL DIESEL 11...          2 L   \n",
       "6          2012         Nissan          Sunny XV DIESEL          2 L   \n",
       "7          2013        Renault  Duster 85 PS RXE DIE...          3.2   \n",
       "8          2016       Mahindra  Kuv100(2016_2017) K2...          3.3   \n",
       "9          2015        Renault     Duster 85 PS DSL RXZ          3.5   \n",
       "10         2019       Mahindra           Scorpio S9 2WD          15    \n",
       "11         2017  Maruti Suzuki        Ciaz ALPHA 1.4 AT          8 L   \n",
       "12         2017  Maruti Suzuki             Baleno DELTA          5.5   \n",
       "13         2015  Maruti Suzuki      Ciaz ZDI PLUS  SHVS          6.5   \n",
       "14         2015  Maruti Suzuki             Baleno DELTA          4.9   \n",
       "15         2013        Hyundai  Grand I10 ASTA 1.1 C...          3.5   \n",
       "16         2016       Mahindra  Kuv100 K4 5 SEATER P...          3.7   \n",
       "17         2014        Hyundai  Grand I10 1.2 KAPPA ...          3.7   \n",
       "18         2014     Volkswagen  Polo COMFORTLINE 1.2...          3.8   \n",
       "19         2012          Honda           City  1.5 V MT          3.9   \n",
       "\n",
       "   Location of Car Kilometers Diseal/Petrol       Body  Owner  \n",
       "0            Noida      18000        Petrol  Hatchback      1  \n",
       "1            Delhi      77366        Diesel  Hatchback      1  \n",
       "2        Ghaziabad      55343        Petrol  Hatchback      1  \n",
       "3        Faridabad      80530        Diesel  Hatchback      1  \n",
       "4            Delhi      55982        Diesel      Sedan      2  \n",
       "5        Faridabad      85000        Diesel        SUV      2  \n",
       "6        Faridabad      1.37         Diesel        SUV      2  \n",
       "7            Delhi      93000        Diesel        SUV      1  \n",
       "8        Faridabad      60200        Diesel        SUV      1  \n",
       "9            Delhi      85000        Diesel        SUV      1  \n",
       "10           Delhi      24700        Diesel        SUV      1  \n",
       "11       Ghaziabad      35148        Petrol      Sedan      1  \n",
       "12           Noida      78000        Petrol  Hatchback      1  \n",
       "13           Delhi      27400        Diesel      Sedan      1  \n",
       "14           Noida      75000        Petrol  Hatchback      1  \n",
       "15       Ghaziabad      35000        Diesel  Hatchback      2  \n",
       "16           Noida      30000        Petrol  Hatchback      1  \n",
       "17           Noida      78000        Petrol  Hatchback      1  \n",
       "18         Gurgaon      57906        Petrol  Hatchback      1  \n",
       "19           Delhi      70122        Petrol      Sedan      1  "
      ]
     },
     "execution_count": 46,
     "metadata": {},
     "output_type": "execute_result"
    }
   ],
   "source": [
    "df.head(20)"
   ]
  },
  {
   "cell_type": "code",
   "execution_count": 47,
   "metadata": {},
   "outputs": [
    {
     "data": {
      "text/plain": [
       "Year of Car         int64\n",
       "Make of Car        object\n",
       "Model              object\n",
       "Price of Car       object\n",
       "Location of Car    object\n",
       "Kilometers         object\n",
       "Diseal/Petrol      object\n",
       "Body               object\n",
       "Owner               int64\n",
       "dtype: object"
      ]
     },
     "execution_count": 47,
     "metadata": {},
     "output_type": "execute_result"
    }
   ],
   "source": [
    "df.dtypes"
   ]
  },
  {
   "cell_type": "code",
   "execution_count": 48,
   "metadata": {},
   "outputs": [],
   "source": [
    "df2=df"
   ]
  },
  {
   "cell_type": "code",
   "execution_count": 49,
   "metadata": {},
   "outputs": [],
   "source": [
    "df2['Kilometers'] = df2['Kilometers'].str[0:-1]"
   ]
  },
  {
   "cell_type": "code",
   "execution_count": 50,
   "metadata": {},
   "outputs": [],
   "source": [
    "df2['Kilometers'] = df2['Kilometers'].str[0:-1]"
   ]
  },
  {
   "cell_type": "code",
   "execution_count": 51,
   "metadata": {},
   "outputs": [],
   "source": [
    "#df2['Kilometers'] = df2['Kilometers'].str[0:-1]"
   ]
  },
  {
   "cell_type": "code",
   "execution_count": 52,
   "metadata": {},
   "outputs": [
    {
     "data": {
      "text/html": [
       "<div>\n",
       "<style scoped>\n",
       "    .dataframe tbody tr th:only-of-type {\n",
       "        vertical-align: middle;\n",
       "    }\n",
       "\n",
       "    .dataframe tbody tr th {\n",
       "        vertical-align: top;\n",
       "    }\n",
       "\n",
       "    .dataframe thead th {\n",
       "        text-align: right;\n",
       "    }\n",
       "</style>\n",
       "<table border=\"1\" class=\"dataframe\">\n",
       "  <thead>\n",
       "    <tr style=\"text-align: right;\">\n",
       "      <th></th>\n",
       "      <th>Year of Car</th>\n",
       "      <th>Make of Car</th>\n",
       "      <th>Model</th>\n",
       "      <th>Price of Car</th>\n",
       "      <th>Location of Car</th>\n",
       "      <th>Kilometers</th>\n",
       "      <th>Diseal/Petrol</th>\n",
       "      <th>Body</th>\n",
       "      <th>Owner</th>\n",
       "    </tr>\n",
       "  </thead>\n",
       "  <tbody>\n",
       "    <tr>\n",
       "      <th>0</th>\n",
       "      <td>2016</td>\n",
       "      <td>Datsun</td>\n",
       "      <td>Go T</td>\n",
       "      <td>3 L</td>\n",
       "      <td>Noida</td>\n",
       "      <td>180</td>\n",
       "      <td>Petrol</td>\n",
       "      <td>Hatchback</td>\n",
       "      <td>1</td>\n",
       "    </tr>\n",
       "    <tr>\n",
       "      <th>1</th>\n",
       "      <td>2012</td>\n",
       "      <td>Volkswagen</td>\n",
       "      <td>Polo COMFORTLINE 1.2...</td>\n",
       "      <td>3 L</td>\n",
       "      <td>Delhi</td>\n",
       "      <td>773</td>\n",
       "      <td>Diesel</td>\n",
       "      <td>Hatchback</td>\n",
       "      <td>1</td>\n",
       "    </tr>\n",
       "    <tr>\n",
       "      <th>2</th>\n",
       "      <td>2012</td>\n",
       "      <td>Hyundai</td>\n",
       "      <td>I10 MAGNA 1.1 IRDE2</td>\n",
       "      <td>3 L</td>\n",
       "      <td>Ghaziabad</td>\n",
       "      <td>553</td>\n",
       "      <td>Petrol</td>\n",
       "      <td>Hatchback</td>\n",
       "      <td>1</td>\n",
       "    </tr>\n",
       "    <tr>\n",
       "      <th>3</th>\n",
       "      <td>2014</td>\n",
       "      <td>Toyota</td>\n",
       "      <td>Etios Liva V</td>\n",
       "      <td>3 L</td>\n",
       "      <td>Faridabad</td>\n",
       "      <td>805</td>\n",
       "      <td>Diesel</td>\n",
       "      <td>Hatchback</td>\n",
       "      <td>1</td>\n",
       "    </tr>\n",
       "    <tr>\n",
       "      <th>4</th>\n",
       "      <td>2011</td>\n",
       "      <td>Chevrolet</td>\n",
       "      <td>Cruze LT</td>\n",
       "      <td>3 L</td>\n",
       "      <td>Delhi</td>\n",
       "      <td>559</td>\n",
       "      <td>Diesel</td>\n",
       "      <td>Sedan</td>\n",
       "      <td>2</td>\n",
       "    </tr>\n",
       "    <tr>\n",
       "      <th>5</th>\n",
       "      <td>2012</td>\n",
       "      <td>Renault</td>\n",
       "      <td>Duster RXL DIESEL 11...</td>\n",
       "      <td>2 L</td>\n",
       "      <td>Faridabad</td>\n",
       "      <td>850</td>\n",
       "      <td>Diesel</td>\n",
       "      <td>SUV</td>\n",
       "      <td>2</td>\n",
       "    </tr>\n",
       "    <tr>\n",
       "      <th>6</th>\n",
       "      <td>2012</td>\n",
       "      <td>Nissan</td>\n",
       "      <td>Sunny XV DIESEL</td>\n",
       "      <td>2 L</td>\n",
       "      <td>Faridabad</td>\n",
       "      <td>1.3</td>\n",
       "      <td>Diesel</td>\n",
       "      <td>SUV</td>\n",
       "      <td>2</td>\n",
       "    </tr>\n",
       "    <tr>\n",
       "      <th>7</th>\n",
       "      <td>2013</td>\n",
       "      <td>Renault</td>\n",
       "      <td>Duster 85 PS RXE DIE...</td>\n",
       "      <td>3.2</td>\n",
       "      <td>Delhi</td>\n",
       "      <td>930</td>\n",
       "      <td>Diesel</td>\n",
       "      <td>SUV</td>\n",
       "      <td>1</td>\n",
       "    </tr>\n",
       "    <tr>\n",
       "      <th>8</th>\n",
       "      <td>2016</td>\n",
       "      <td>Mahindra</td>\n",
       "      <td>Kuv100(2016_2017) K2...</td>\n",
       "      <td>3.3</td>\n",
       "      <td>Faridabad</td>\n",
       "      <td>602</td>\n",
       "      <td>Diesel</td>\n",
       "      <td>SUV</td>\n",
       "      <td>1</td>\n",
       "    </tr>\n",
       "    <tr>\n",
       "      <th>9</th>\n",
       "      <td>2015</td>\n",
       "      <td>Renault</td>\n",
       "      <td>Duster 85 PS DSL RXZ</td>\n",
       "      <td>3.5</td>\n",
       "      <td>Delhi</td>\n",
       "      <td>850</td>\n",
       "      <td>Diesel</td>\n",
       "      <td>SUV</td>\n",
       "      <td>1</td>\n",
       "    </tr>\n",
       "  </tbody>\n",
       "</table>\n",
       "</div>"
      ],
      "text/plain": [
       "   Year of Car Make of Car                    Model Price of Car  \\\n",
       "0         2016      Datsun                     Go T          3 L   \n",
       "1         2012  Volkswagen  Polo COMFORTLINE 1.2...          3 L   \n",
       "2         2012     Hyundai      I10 MAGNA 1.1 IRDE2          3 L   \n",
       "3         2014      Toyota             Etios Liva V          3 L   \n",
       "4         2011   Chevrolet                 Cruze LT          3 L   \n",
       "5         2012     Renault  Duster RXL DIESEL 11...          2 L   \n",
       "6         2012      Nissan          Sunny XV DIESEL          2 L   \n",
       "7         2013     Renault  Duster 85 PS RXE DIE...          3.2   \n",
       "8         2016    Mahindra  Kuv100(2016_2017) K2...          3.3   \n",
       "9         2015     Renault     Duster 85 PS DSL RXZ          3.5   \n",
       "\n",
       "  Location of Car Kilometers Diseal/Petrol       Body  Owner  \n",
       "0           Noida        180        Petrol  Hatchback      1  \n",
       "1           Delhi        773        Diesel  Hatchback      1  \n",
       "2       Ghaziabad        553        Petrol  Hatchback      1  \n",
       "3       Faridabad        805        Diesel  Hatchback      1  \n",
       "4           Delhi        559        Diesel      Sedan      2  \n",
       "5       Faridabad        850        Diesel        SUV      2  \n",
       "6       Faridabad        1.3        Diesel        SUV      2  \n",
       "7           Delhi        930        Diesel        SUV      1  \n",
       "8       Faridabad        602        Diesel        SUV      1  \n",
       "9           Delhi        850        Diesel        SUV      1  "
      ]
     },
     "execution_count": 52,
     "metadata": {},
     "output_type": "execute_result"
    }
   ],
   "source": [
    "df2.head(10)"
   ]
  },
  {
   "cell_type": "markdown",
   "metadata": {},
   "source": [
    "# Data Encoding"
   ]
  },
  {
   "cell_type": "code",
   "execution_count": 53,
   "metadata": {},
   "outputs": [],
   "source": [
    "from sklearn.preprocessing import LabelEncoder\n",
    "encoded = ['Year of Car', 'Make of Car', 'Model', 'Price of Car', 'Location of Car', 'Kilometers', 'Diseal/Petrol',\n",
    "       'Body', 'Owner']\n",
    "\n",
    "encoders = {column: LabelEncoder() for column in encoded}\n",
    "\n",
    "for column in encoded:\n",
    "    df[column] = encoders[column].fit_transform(df[column])"
   ]
  },
  {
   "cell_type": "code",
   "execution_count": 54,
   "metadata": {},
   "outputs": [
    {
     "data": {
      "text/html": [
       "<div>\n",
       "<style scoped>\n",
       "    .dataframe tbody tr th:only-of-type {\n",
       "        vertical-align: middle;\n",
       "    }\n",
       "\n",
       "    .dataframe tbody tr th {\n",
       "        vertical-align: top;\n",
       "    }\n",
       "\n",
       "    .dataframe thead th {\n",
       "        text-align: right;\n",
       "    }\n",
       "</style>\n",
       "<table border=\"1\" class=\"dataframe\">\n",
       "  <thead>\n",
       "    <tr style=\"text-align: right;\">\n",
       "      <th></th>\n",
       "      <th>Year of Car</th>\n",
       "      <th>Make of Car</th>\n",
       "      <th>Model</th>\n",
       "      <th>Price of Car</th>\n",
       "      <th>Location of Car</th>\n",
       "      <th>Kilometers</th>\n",
       "      <th>Diseal/Petrol</th>\n",
       "      <th>Body</th>\n",
       "      <th>Owner</th>\n",
       "    </tr>\n",
       "  </thead>\n",
       "  <tbody>\n",
       "    <tr>\n",
       "      <th>0</th>\n",
       "      <td>17</td>\n",
       "      <td>3</td>\n",
       "      <td>415</td>\n",
       "      <td>53</td>\n",
       "      <td>24</td>\n",
       "      <td>64</td>\n",
       "      <td>6</td>\n",
       "      <td>3</td>\n",
       "      <td>0</td>\n",
       "    </tr>\n",
       "    <tr>\n",
       "      <th>1</th>\n",
       "      <td>13</td>\n",
       "      <td>23</td>\n",
       "      <td>627</td>\n",
       "      <td>53</td>\n",
       "      <td>7</td>\n",
       "      <td>578</td>\n",
       "      <td>2</td>\n",
       "      <td>3</td>\n",
       "      <td>0</td>\n",
       "    </tr>\n",
       "    <tr>\n",
       "      <th>2</th>\n",
       "      <td>13</td>\n",
       "      <td>7</td>\n",
       "      <td>457</td>\n",
       "      <td>53</td>\n",
       "      <td>9</td>\n",
       "      <td>385</td>\n",
       "      <td>6</td>\n",
       "      <td>3</td>\n",
       "      <td>0</td>\n",
       "    </tr>\n",
       "    <tr>\n",
       "      <th>3</th>\n",
       "      <td>15</td>\n",
       "      <td>22</td>\n",
       "      <td>366</td>\n",
       "      <td>53</td>\n",
       "      <td>8</td>\n",
       "      <td>604</td>\n",
       "      <td>2</td>\n",
       "      <td>3</td>\n",
       "      <td>0</td>\n",
       "    </tr>\n",
       "    <tr>\n",
       "      <th>4</th>\n",
       "      <td>12</td>\n",
       "      <td>2</td>\n",
       "      <td>254</td>\n",
       "      <td>53</td>\n",
       "      <td>7</td>\n",
       "      <td>391</td>\n",
       "      <td>2</td>\n",
       "      <td>9</td>\n",
       "      <td>1</td>\n",
       "    </tr>\n",
       "    <tr>\n",
       "      <th>...</th>\n",
       "      <td>...</td>\n",
       "      <td>...</td>\n",
       "      <td>...</td>\n",
       "      <td>...</td>\n",
       "      <td>...</td>\n",
       "      <td>...</td>\n",
       "      <td>...</td>\n",
       "      <td>...</td>\n",
       "      <td>...</td>\n",
       "    </tr>\n",
       "    <tr>\n",
       "      <th>3630</th>\n",
       "      <td>20</td>\n",
       "      <td>11</td>\n",
       "      <td>733</td>\n",
       "      <td>16</td>\n",
       "      <td>19</td>\n",
       "      <td>198</td>\n",
       "      <td>2</td>\n",
       "      <td>7</td>\n",
       "      <td>0</td>\n",
       "    </tr>\n",
       "    <tr>\n",
       "      <th>3631</th>\n",
       "      <td>17</td>\n",
       "      <td>11</td>\n",
       "      <td>731</td>\n",
       "      <td>141</td>\n",
       "      <td>19</td>\n",
       "      <td>341</td>\n",
       "      <td>2</td>\n",
       "      <td>7</td>\n",
       "      <td>2</td>\n",
       "    </tr>\n",
       "    <tr>\n",
       "      <th>3632</th>\n",
       "      <td>19</td>\n",
       "      <td>7</td>\n",
       "      <td>312</td>\n",
       "      <td>92</td>\n",
       "      <td>19</td>\n",
       "      <td>313</td>\n",
       "      <td>6</td>\n",
       "      <td>3</td>\n",
       "      <td>0</td>\n",
       "    </tr>\n",
       "    <tr>\n",
       "      <th>3633</th>\n",
       "      <td>18</td>\n",
       "      <td>18</td>\n",
       "      <td>560</td>\n",
       "      <td>35</td>\n",
       "      <td>19</td>\n",
       "      <td>382</td>\n",
       "      <td>6</td>\n",
       "      <td>3</td>\n",
       "      <td>1</td>\n",
       "    </tr>\n",
       "    <tr>\n",
       "      <th>3634</th>\n",
       "      <td>12</td>\n",
       "      <td>13</td>\n",
       "      <td>299</td>\n",
       "      <td>6</td>\n",
       "      <td>19</td>\n",
       "      <td>6</td>\n",
       "      <td>1</td>\n",
       "      <td>10</td>\n",
       "      <td>2</td>\n",
       "    </tr>\n",
       "  </tbody>\n",
       "</table>\n",
       "<p>3635 rows × 9 columns</p>\n",
       "</div>"
      ],
      "text/plain": [
       "      Year of Car  Make of Car  Model  Price of Car  Location of Car  \\\n",
       "0              17            3    415            53               24   \n",
       "1              13           23    627            53                7   \n",
       "2              13            7    457            53                9   \n",
       "3              15           22    366            53                8   \n",
       "4              12            2    254            53                7   \n",
       "...           ...          ...    ...           ...              ...   \n",
       "3630           20           11    733            16               19   \n",
       "3631           17           11    731           141               19   \n",
       "3632           19            7    312            92               19   \n",
       "3633           18           18    560            35               19   \n",
       "3634           12           13    299             6               19   \n",
       "\n",
       "      Kilometers  Diseal/Petrol  Body  Owner  \n",
       "0             64              6     3      0  \n",
       "1            578              2     3      0  \n",
       "2            385              6     3      0  \n",
       "3            604              2     3      0  \n",
       "4            391              2     9      1  \n",
       "...          ...            ...   ...    ...  \n",
       "3630         198              2     7      0  \n",
       "3631         341              2     7      2  \n",
       "3632         313              6     3      0  \n",
       "3633         382              6     3      1  \n",
       "3634           6              1    10      2  \n",
       "\n",
       "[3635 rows x 9 columns]"
      ]
     },
     "execution_count": 54,
     "metadata": {},
     "output_type": "execute_result"
    }
   ],
   "source": [
    "df"
   ]
  },
  {
   "cell_type": "code",
   "execution_count": 55,
   "metadata": {},
   "outputs": [
    {
     "data": {
      "text/plain": [
       "Year of Car        int64\n",
       "Make of Car        int32\n",
       "Model              int32\n",
       "Price of Car       int32\n",
       "Location of Car    int32\n",
       "Kilometers         int32\n",
       "Diseal/Petrol      int32\n",
       "Body               int32\n",
       "Owner              int64\n",
       "dtype: object"
      ]
     },
     "execution_count": 55,
     "metadata": {},
     "output_type": "execute_result"
    }
   ],
   "source": [
    "df.dtypes"
   ]
  },
  {
   "cell_type": "markdown",
   "metadata": {},
   "source": [
    "# Statistical Summary"
   ]
  },
  {
   "cell_type": "code",
   "execution_count": 56,
   "metadata": {},
   "outputs": [
    {
     "data": {
      "text/html": [
       "<div>\n",
       "<style scoped>\n",
       "    .dataframe tbody tr th:only-of-type {\n",
       "        vertical-align: middle;\n",
       "    }\n",
       "\n",
       "    .dataframe tbody tr th {\n",
       "        vertical-align: top;\n",
       "    }\n",
       "\n",
       "    .dataframe thead th {\n",
       "        text-align: right;\n",
       "    }\n",
       "</style>\n",
       "<table border=\"1\" class=\"dataframe\">\n",
       "  <thead>\n",
       "    <tr style=\"text-align: right;\">\n",
       "      <th></th>\n",
       "      <th>Year of Car</th>\n",
       "      <th>Make of Car</th>\n",
       "      <th>Model</th>\n",
       "      <th>Price of Car</th>\n",
       "      <th>Location of Car</th>\n",
       "      <th>Kilometers</th>\n",
       "      <th>Diseal/Petrol</th>\n",
       "      <th>Body</th>\n",
       "      <th>Owner</th>\n",
       "    </tr>\n",
       "  </thead>\n",
       "  <tbody>\n",
       "    <tr>\n",
       "      <th>count</th>\n",
       "      <td>3635.000000</td>\n",
       "      <td>3635.000000</td>\n",
       "      <td>3635.000000</td>\n",
       "      <td>3635.000000</td>\n",
       "      <td>3635.000000</td>\n",
       "      <td>3635.000000</td>\n",
       "      <td>3635.000000</td>\n",
       "      <td>3635.000000</td>\n",
       "      <td>3635.000000</td>\n",
       "    </tr>\n",
       "    <tr>\n",
       "      <th>mean</th>\n",
       "      <td>15.612105</td>\n",
       "      <td>11.457221</td>\n",
       "      <td>486.045942</td>\n",
       "      <td>69.509216</td>\n",
       "      <td>13.710041</td>\n",
       "      <td>345.316094</td>\n",
       "      <td>4.480880</td>\n",
       "      <td>5.441265</td>\n",
       "      <td>0.185420</td>\n",
       "    </tr>\n",
       "    <tr>\n",
       "      <th>std</th>\n",
       "      <td>3.077027</td>\n",
       "      <td>5.575422</td>\n",
       "      <td>293.201092</td>\n",
       "      <td>36.126316</td>\n",
       "      <td>8.396647</td>\n",
       "      <td>201.351501</td>\n",
       "      <td>1.995139</td>\n",
       "      <td>2.637324</td>\n",
       "      <td>0.431629</td>\n",
       "    </tr>\n",
       "    <tr>\n",
       "      <th>min</th>\n",
       "      <td>0.000000</td>\n",
       "      <td>0.000000</td>\n",
       "      <td>0.000000</td>\n",
       "      <td>0.000000</td>\n",
       "      <td>0.000000</td>\n",
       "      <td>0.000000</td>\n",
       "      <td>0.000000</td>\n",
       "      <td>0.000000</td>\n",
       "      <td>0.000000</td>\n",
       "    </tr>\n",
       "    <tr>\n",
       "      <th>25%</th>\n",
       "      <td>14.000000</td>\n",
       "      <td>7.000000</td>\n",
       "      <td>238.500000</td>\n",
       "      <td>37.000000</td>\n",
       "      <td>7.000000</td>\n",
       "      <td>181.500000</td>\n",
       "      <td>2.000000</td>\n",
       "      <td>3.000000</td>\n",
       "      <td>0.000000</td>\n",
       "    </tr>\n",
       "    <tr>\n",
       "      <th>50%</th>\n",
       "      <td>16.000000</td>\n",
       "      <td>11.000000</td>\n",
       "      <td>458.000000</td>\n",
       "      <td>74.000000</td>\n",
       "      <td>11.000000</td>\n",
       "      <td>351.000000</td>\n",
       "      <td>6.000000</td>\n",
       "      <td>4.000000</td>\n",
       "      <td>0.000000</td>\n",
       "    </tr>\n",
       "    <tr>\n",
       "      <th>75%</th>\n",
       "      <td>18.000000</td>\n",
       "      <td>13.000000</td>\n",
       "      <td>751.000000</td>\n",
       "      <td>96.000000</td>\n",
       "      <td>24.000000</td>\n",
       "      <td>508.500000</td>\n",
       "      <td>6.000000</td>\n",
       "      <td>9.000000</td>\n",
       "      <td>0.000000</td>\n",
       "    </tr>\n",
       "    <tr>\n",
       "      <th>max</th>\n",
       "      <td>22.000000</td>\n",
       "      <td>24.000000</td>\n",
       "      <td>1016.000000</td>\n",
       "      <td>149.000000</td>\n",
       "      <td>36.000000</td>\n",
       "      <td>736.000000</td>\n",
       "      <td>7.000000</td>\n",
       "      <td>10.000000</td>\n",
       "      <td>3.000000</td>\n",
       "    </tr>\n",
       "  </tbody>\n",
       "</table>\n",
       "</div>"
      ],
      "text/plain": [
       "       Year of Car  Make of Car        Model  Price of Car  Location of Car  \\\n",
       "count  3635.000000  3635.000000  3635.000000   3635.000000      3635.000000   \n",
       "mean     15.612105    11.457221   486.045942     69.509216        13.710041   \n",
       "std       3.077027     5.575422   293.201092     36.126316         8.396647   \n",
       "min       0.000000     0.000000     0.000000      0.000000         0.000000   \n",
       "25%      14.000000     7.000000   238.500000     37.000000         7.000000   \n",
       "50%      16.000000    11.000000   458.000000     74.000000        11.000000   \n",
       "75%      18.000000    13.000000   751.000000     96.000000        24.000000   \n",
       "max      22.000000    24.000000  1016.000000    149.000000        36.000000   \n",
       "\n",
       "        Kilometers  Diseal/Petrol         Body        Owner  \n",
       "count  3635.000000    3635.000000  3635.000000  3635.000000  \n",
       "mean    345.316094       4.480880     5.441265     0.185420  \n",
       "std     201.351501       1.995139     2.637324     0.431629  \n",
       "min       0.000000       0.000000     0.000000     0.000000  \n",
       "25%     181.500000       2.000000     3.000000     0.000000  \n",
       "50%     351.000000       6.000000     4.000000     0.000000  \n",
       "75%     508.500000       6.000000     9.000000     0.000000  \n",
       "max     736.000000       7.000000    10.000000     3.000000  "
      ]
     },
     "execution_count": 56,
     "metadata": {},
     "output_type": "execute_result"
    }
   ],
   "source": [
    "df.describe()"
   ]
  },
  {
   "cell_type": "markdown",
   "metadata": {},
   "source": [
    "Statistical Summary provide information about whole data statistically i.e. Count, Mean, Standard Deviation, Minimum value, 25%, 50% 75% and Maximum Value and statistical report is mentioned above."
   ]
  },
  {
   "cell_type": "code",
   "execution_count": 57,
   "metadata": {},
   "outputs": [
    {
     "data": {
      "text/plain": [
       "<AxesSubplot:>"
      ]
     },
     "execution_count": 57,
     "metadata": {},
     "output_type": "execute_result"
    },
    {
     "data": {
      "image/png": "[encoded data removed]",
      "text/plain": [
       "<Figure size 640x480 with 2 Axes>"
      ]
     },
     "metadata": {},
     "output_type": "display_data"
    },
    {
     "data": {
      "image/png": "[encoded data removed]",
      "text/plain": [
       "<Figure size 2000x1000 with 2 Axes>"
      ]
     },
     "metadata": {},
     "output_type": "display_data"
    }
   ],
   "source": [
    "datacor=df.corr()\n",
    "datacor\n",
    "sns.heatmap(datacor)\n",
    "\n",
    "import matplotlib.pyplot as plt\n",
    "plt.figure(figsize=(20,10))\n",
    "sns.heatmap(datacor,cmap='Blues',annot=True)"
   ]
  },
  {
   "cell_type": "markdown",
   "metadata": {},
   "source": [
    "# Removing Outliers from Data"
   ]
  },
  {
   "cell_type": "code",
   "execution_count": 58,
   "metadata": {},
   "outputs": [
    {
     "data": {
      "image/png": "[encoded data removed]",
      "text/plain": [
       "<Figure size 5000x4000 with 9 Axes>"
      ]
     },
     "metadata": {},
     "output_type": "display_data"
    }
   ],
   "source": [
    "collist=df.columns.values\n",
    "ncol=12\n",
    "nrows=10\n",
    "plt.figure(figsize=(50,40))\n",
    "for i in range(0,len(collist)):\n",
    "    plt.subplot(nrows,ncol,i+1)\n",
    "    sns.boxplot(df[collist[i]],color='Pink', orient='v')\n",
    "    plt.tight_layout()"
   ]
  },
  {
   "cell_type": "markdown",
   "metadata": {},
   "source": [
    "# Zscore Method"
   ]
  },
  {
   "cell_type": "code",
   "execution_count": 59,
   "metadata": {},
   "outputs": [],
   "source": [
    "from scipy.stats import zscore"
   ]
  },
  {
   "cell_type": "code",
   "execution_count": 60,
   "metadata": {},
   "outputs": [
    {
     "data": {
      "text/html": [
       "<div>\n",
       "<style scoped>\n",
       "    .dataframe tbody tr th:only-of-type {\n",
       "        vertical-align: middle;\n",
       "    }\n",
       "\n",
       "    .dataframe tbody tr th {\n",
       "        vertical-align: top;\n",
       "    }\n",
       "\n",
       "    .dataframe thead th {\n",
       "        text-align: right;\n",
       "    }\n",
       "</style>\n",
       "<table border=\"1\" class=\"dataframe\">\n",
       "  <thead>\n",
       "    <tr style=\"text-align: right;\">\n",
       "      <th></th>\n",
       "      <th>Year of Car</th>\n",
       "      <th>Make of Car</th>\n",
       "      <th>Model</th>\n",
       "      <th>Price of Car</th>\n",
       "      <th>Location of Car</th>\n",
       "      <th>Kilometers</th>\n",
       "      <th>Diseal/Petrol</th>\n",
       "      <th>Body</th>\n",
       "      <th>Owner</th>\n",
       "    </tr>\n",
       "  </thead>\n",
       "  <tbody>\n",
       "    <tr>\n",
       "      <th>0</th>\n",
       "      <td>0.451113</td>\n",
       "      <td>1.517084</td>\n",
       "      <td>0.242345</td>\n",
       "      <td>0.457049</td>\n",
       "      <td>1.225653</td>\n",
       "      <td>1.397332</td>\n",
       "      <td>0.761515</td>\n",
       "      <td>0.925787</td>\n",
       "      <td>0.429640</td>\n",
       "    </tr>\n",
       "    <tr>\n",
       "      <th>1</th>\n",
       "      <td>0.849022</td>\n",
       "      <td>2.070582</td>\n",
       "      <td>0.480808</td>\n",
       "      <td>0.457049</td>\n",
       "      <td>0.799243</td>\n",
       "      <td>1.155769</td>\n",
       "      <td>1.243634</td>\n",
       "      <td>0.925787</td>\n",
       "      <td>0.429640</td>\n",
       "    </tr>\n",
       "    <tr>\n",
       "      <th>2</th>\n",
       "      <td>0.849022</td>\n",
       "      <td>0.799551</td>\n",
       "      <td>0.099079</td>\n",
       "      <td>0.457049</td>\n",
       "      <td>0.561020</td>\n",
       "      <td>0.197115</td>\n",
       "      <td>0.761515</td>\n",
       "      <td>0.925787</td>\n",
       "      <td>0.429640</td>\n",
       "    </tr>\n",
       "    <tr>\n",
       "      <th>3</th>\n",
       "      <td>0.198955</td>\n",
       "      <td>1.891198</td>\n",
       "      <td>0.409488</td>\n",
       "      <td>0.457049</td>\n",
       "      <td>0.680132</td>\n",
       "      <td>1.284915</td>\n",
       "      <td>1.243634</td>\n",
       "      <td>0.925787</td>\n",
       "      <td>0.429640</td>\n",
       "    </tr>\n",
       "    <tr>\n",
       "      <th>4</th>\n",
       "      <td>1.174056</td>\n",
       "      <td>1.696468</td>\n",
       "      <td>0.791531</td>\n",
       "      <td>0.457049</td>\n",
       "      <td>0.799243</td>\n",
       "      <td>0.226918</td>\n",
       "      <td>1.243634</td>\n",
       "      <td>1.349559</td>\n",
       "      <td>1.887483</td>\n",
       "    </tr>\n",
       "    <tr>\n",
       "      <th>...</th>\n",
       "      <td>...</td>\n",
       "      <td>...</td>\n",
       "      <td>...</td>\n",
       "      <td>...</td>\n",
       "      <td>...</td>\n",
       "      <td>...</td>\n",
       "      <td>...</td>\n",
       "      <td>...</td>\n",
       "      <td>...</td>\n",
       "    </tr>\n",
       "    <tr>\n",
       "      <th>3630</th>\n",
       "      <td>1.426214</td>\n",
       "      <td>0.082018</td>\n",
       "      <td>0.842384</td>\n",
       "      <td>1.481374</td>\n",
       "      <td>0.630095</td>\n",
       "      <td>0.731737</td>\n",
       "      <td>1.243634</td>\n",
       "      <td>0.591110</td>\n",
       "      <td>0.429640</td>\n",
       "    </tr>\n",
       "    <tr>\n",
       "      <th>3631</th>\n",
       "      <td>0.451113</td>\n",
       "      <td>0.082018</td>\n",
       "      <td>0.835562</td>\n",
       "      <td>1.979184</td>\n",
       "      <td>0.630095</td>\n",
       "      <td>0.021439</td>\n",
       "      <td>1.243634</td>\n",
       "      <td>0.591110</td>\n",
       "      <td>4.204607</td>\n",
       "    </tr>\n",
       "    <tr>\n",
       "      <th>3632</th>\n",
       "      <td>1.101180</td>\n",
       "      <td>0.799551</td>\n",
       "      <td>0.593688</td>\n",
       "      <td>0.622645</td>\n",
       "      <td>0.630095</td>\n",
       "      <td>0.160518</td>\n",
       "      <td>0.761515</td>\n",
       "      <td>0.925787</td>\n",
       "      <td>0.429640</td>\n",
       "    </tr>\n",
       "    <tr>\n",
       "      <th>3633</th>\n",
       "      <td>0.776146</td>\n",
       "      <td>1.173665</td>\n",
       "      <td>0.252265</td>\n",
       "      <td>0.955369</td>\n",
       "      <td>0.630095</td>\n",
       "      <td>0.182213</td>\n",
       "      <td>0.761515</td>\n",
       "      <td>0.925787</td>\n",
       "      <td>1.887483</td>\n",
       "    </tr>\n",
       "    <tr>\n",
       "      <th>3634</th>\n",
       "      <td>1.174056</td>\n",
       "      <td>0.276749</td>\n",
       "      <td>0.638032</td>\n",
       "      <td>1.758218</td>\n",
       "      <td>0.630095</td>\n",
       "      <td>1.685425</td>\n",
       "      <td>1.744921</td>\n",
       "      <td>1.728783</td>\n",
       "      <td>4.204607</td>\n",
       "    </tr>\n",
       "  </tbody>\n",
       "</table>\n",
       "<p>3635 rows × 9 columns</p>\n",
       "</div>"
      ],
      "text/plain": [
       "      Year of Car  Make of Car     Model  Price of Car  Location of Car  \\\n",
       "0        0.451113     1.517084  0.242345      0.457049         1.225653   \n",
       "1        0.849022     2.070582  0.480808      0.457049         0.799243   \n",
       "2        0.849022     0.799551  0.099079      0.457049         0.561020   \n",
       "3        0.198955     1.891198  0.409488      0.457049         0.680132   \n",
       "4        1.174056     1.696468  0.791531      0.457049         0.799243   \n",
       "...           ...          ...       ...           ...              ...   \n",
       "3630     1.426214     0.082018  0.842384      1.481374         0.630095   \n",
       "3631     0.451113     0.082018  0.835562      1.979184         0.630095   \n",
       "3632     1.101180     0.799551  0.593688      0.622645         0.630095   \n",
       "3633     0.776146     1.173665  0.252265      0.955369         0.630095   \n",
       "3634     1.174056     0.276749  0.638032      1.758218         0.630095   \n",
       "\n",
       "      Kilometers  Diseal/Petrol      Body     Owner  \n",
       "0       1.397332       0.761515  0.925787  0.429640  \n",
       "1       1.155769       1.243634  0.925787  0.429640  \n",
       "2       0.197115       0.761515  0.925787  0.429640  \n",
       "3       1.284915       1.243634  0.925787  0.429640  \n",
       "4       0.226918       1.243634  1.349559  1.887483  \n",
       "...          ...            ...       ...       ...  \n",
       "3630    0.731737       1.243634  0.591110  0.429640  \n",
       "3631    0.021439       1.243634  0.591110  4.204607  \n",
       "3632    0.160518       0.761515  0.925787  0.429640  \n",
       "3633    0.182213       0.761515  0.925787  1.887483  \n",
       "3634    1.685425       1.744921  1.728783  4.204607  \n",
       "\n",
       "[3635 rows x 9 columns]"
      ]
     },
     "execution_count": 60,
     "metadata": {},
     "output_type": "execute_result"
    }
   ],
   "source": [
    "z=np.abs(zscore(df))\n",
    "z"
   ]
  },
  {
   "cell_type": "markdown",
   "metadata": {},
   "source": [
    "Applying Zscore functionality on entire data to remove outliers."
   ]
  },
  {
   "cell_type": "code",
   "execution_count": 61,
   "metadata": {},
   "outputs": [
    {
     "name": "stdout",
     "output_type": "stream",
     "text": [
      "(array([ 774, 1091, 1107, 1152, 1171, 1227, 1230, 1231, 1251, 1252, 1439,\n",
      "       1502, 1505, 1509, 1563, 1566, 1567, 1568, 1574, 1585, 1609, 1628,\n",
      "       1667, 1668, 1674, 1677, 1965, 1997, 2008, 2066, 2085, 2088, 2128,\n",
      "       2167, 2173, 2191, 2197, 2220, 2245, 2246, 2410, 2427, 2429, 2443,\n",
      "       2459, 2462, 2468, 2473, 2474, 2850, 3167, 3183, 3228, 3247, 3303,\n",
      "       3306, 3307, 3327, 3328, 3536, 3536, 3537, 3537, 3631, 3634],\n",
      "      dtype=int64), array([8, 8, 8, 8, 8, 8, 8, 8, 8, 8, 8, 0, 8, 0, 8, 0, 0, 0, 8, 8, 0, 8,\n",
      "       0, 0, 8, 8, 8, 8, 8, 8, 8, 8, 0, 0, 8, 8, 8, 8, 0, 0, 8, 8, 8, 8,\n",
      "       8, 8, 8, 8, 0, 8, 8, 8, 8, 8, 8, 8, 8, 8, 8, 0, 8, 0, 8, 8, 8],\n",
      "      dtype=int64))\n"
     ]
    }
   ],
   "source": [
    "threshold=3\n",
    "print(np.where(z>3))"
   ]
  },
  {
   "cell_type": "markdown",
   "metadata": {},
   "source": [
    "Putting threshold Value"
   ]
  },
  {
   "cell_type": "code",
   "execution_count": 62,
   "metadata": {},
   "outputs": [
    {
     "data": {
      "text/html": [
       "<div>\n",
       "<style scoped>\n",
       "    .dataframe tbody tr th:only-of-type {\n",
       "        vertical-align: middle;\n",
       "    }\n",
       "\n",
       "    .dataframe tbody tr th {\n",
       "        vertical-align: top;\n",
       "    }\n",
       "\n",
       "    .dataframe thead th {\n",
       "        text-align: right;\n",
       "    }\n",
       "</style>\n",
       "<table border=\"1\" class=\"dataframe\">\n",
       "  <thead>\n",
       "    <tr style=\"text-align: right;\">\n",
       "      <th></th>\n",
       "      <th>Year of Car</th>\n",
       "      <th>Make of Car</th>\n",
       "      <th>Model</th>\n",
       "      <th>Price of Car</th>\n",
       "      <th>Location of Car</th>\n",
       "      <th>Kilometers</th>\n",
       "      <th>Diseal/Petrol</th>\n",
       "      <th>Body</th>\n",
       "      <th>Owner</th>\n",
       "    </tr>\n",
       "  </thead>\n",
       "  <tbody>\n",
       "    <tr>\n",
       "      <th>0</th>\n",
       "      <td>17</td>\n",
       "      <td>3</td>\n",
       "      <td>415</td>\n",
       "      <td>53</td>\n",
       "      <td>24</td>\n",
       "      <td>64</td>\n",
       "      <td>6</td>\n",
       "      <td>3</td>\n",
       "      <td>0</td>\n",
       "    </tr>\n",
       "    <tr>\n",
       "      <th>1</th>\n",
       "      <td>13</td>\n",
       "      <td>23</td>\n",
       "      <td>627</td>\n",
       "      <td>53</td>\n",
       "      <td>7</td>\n",
       "      <td>578</td>\n",
       "      <td>2</td>\n",
       "      <td>3</td>\n",
       "      <td>0</td>\n",
       "    </tr>\n",
       "    <tr>\n",
       "      <th>2</th>\n",
       "      <td>13</td>\n",
       "      <td>7</td>\n",
       "      <td>457</td>\n",
       "      <td>53</td>\n",
       "      <td>9</td>\n",
       "      <td>385</td>\n",
       "      <td>6</td>\n",
       "      <td>3</td>\n",
       "      <td>0</td>\n",
       "    </tr>\n",
       "    <tr>\n",
       "      <th>3</th>\n",
       "      <td>15</td>\n",
       "      <td>22</td>\n",
       "      <td>366</td>\n",
       "      <td>53</td>\n",
       "      <td>8</td>\n",
       "      <td>604</td>\n",
       "      <td>2</td>\n",
       "      <td>3</td>\n",
       "      <td>0</td>\n",
       "    </tr>\n",
       "    <tr>\n",
       "      <th>4</th>\n",
       "      <td>12</td>\n",
       "      <td>2</td>\n",
       "      <td>254</td>\n",
       "      <td>53</td>\n",
       "      <td>7</td>\n",
       "      <td>391</td>\n",
       "      <td>2</td>\n",
       "      <td>9</td>\n",
       "      <td>1</td>\n",
       "    </tr>\n",
       "    <tr>\n",
       "      <th>...</th>\n",
       "      <td>...</td>\n",
       "      <td>...</td>\n",
       "      <td>...</td>\n",
       "      <td>...</td>\n",
       "      <td>...</td>\n",
       "      <td>...</td>\n",
       "      <td>...</td>\n",
       "      <td>...</td>\n",
       "      <td>...</td>\n",
       "    </tr>\n",
       "    <tr>\n",
       "      <th>3628</th>\n",
       "      <td>20</td>\n",
       "      <td>11</td>\n",
       "      <td>734</td>\n",
       "      <td>16</td>\n",
       "      <td>19</td>\n",
       "      <td>708</td>\n",
       "      <td>2</td>\n",
       "      <td>7</td>\n",
       "      <td>0</td>\n",
       "    </tr>\n",
       "    <tr>\n",
       "      <th>3629</th>\n",
       "      <td>19</td>\n",
       "      <td>11</td>\n",
       "      <td>577</td>\n",
       "      <td>97</td>\n",
       "      <td>19</td>\n",
       "      <td>90</td>\n",
       "      <td>2</td>\n",
       "      <td>4</td>\n",
       "      <td>0</td>\n",
       "    </tr>\n",
       "    <tr>\n",
       "      <th>3630</th>\n",
       "      <td>20</td>\n",
       "      <td>11</td>\n",
       "      <td>733</td>\n",
       "      <td>16</td>\n",
       "      <td>19</td>\n",
       "      <td>198</td>\n",
       "      <td>2</td>\n",
       "      <td>7</td>\n",
       "      <td>0</td>\n",
       "    </tr>\n",
       "    <tr>\n",
       "      <th>3632</th>\n",
       "      <td>19</td>\n",
       "      <td>7</td>\n",
       "      <td>312</td>\n",
       "      <td>92</td>\n",
       "      <td>19</td>\n",
       "      <td>313</td>\n",
       "      <td>6</td>\n",
       "      <td>3</td>\n",
       "      <td>0</td>\n",
       "    </tr>\n",
       "    <tr>\n",
       "      <th>3633</th>\n",
       "      <td>18</td>\n",
       "      <td>18</td>\n",
       "      <td>560</td>\n",
       "      <td>35</td>\n",
       "      <td>19</td>\n",
       "      <td>382</td>\n",
       "      <td>6</td>\n",
       "      <td>3</td>\n",
       "      <td>1</td>\n",
       "    </tr>\n",
       "  </tbody>\n",
       "</table>\n",
       "<p>3572 rows × 9 columns</p>\n",
       "</div>"
      ],
      "text/plain": [
       "      Year of Car  Make of Car  Model  Price of Car  Location of Car  \\\n",
       "0              17            3    415            53               24   \n",
       "1              13           23    627            53                7   \n",
       "2              13            7    457            53                9   \n",
       "3              15           22    366            53                8   \n",
       "4              12            2    254            53                7   \n",
       "...           ...          ...    ...           ...              ...   \n",
       "3628           20           11    734            16               19   \n",
       "3629           19           11    577            97               19   \n",
       "3630           20           11    733            16               19   \n",
       "3632           19            7    312            92               19   \n",
       "3633           18           18    560            35               19   \n",
       "\n",
       "      Kilometers  Diseal/Petrol  Body  Owner  \n",
       "0             64              6     3      0  \n",
       "1            578              2     3      0  \n",
       "2            385              6     3      0  \n",
       "3            604              2     3      0  \n",
       "4            391              2     9      1  \n",
       "...          ...            ...   ...    ...  \n",
       "3628         708              2     7      0  \n",
       "3629          90              2     4      0  \n",
       "3630         198              2     7      0  \n",
       "3632         313              6     3      0  \n",
       "3633         382              6     3      1  \n",
       "\n",
       "[3572 rows x 9 columns]"
      ]
     },
     "execution_count": 62,
     "metadata": {},
     "output_type": "execute_result"
    }
   ],
   "source": [
    "df_new=df[(z<3).all(axis=1)]\n",
    "df_new"
   ]
  },
  {
   "cell_type": "markdown",
   "metadata": {},
   "source": [
    "After Removing outliers know we have clean data."
   ]
  },
  {
   "cell_type": "code",
   "execution_count": 63,
   "metadata": {},
   "outputs": [
    {
     "data": {
      "text/plain": [
       "((3635, 9), (3572, 9))"
      ]
     },
     "execution_count": 63,
     "metadata": {},
     "output_type": "execute_result"
    }
   ],
   "source": [
    "#Checking shape of date after applying Zscore method. \n",
    "df.shape,df_new.shape"
   ]
  },
  {
   "cell_type": "code",
   "execution_count": 64,
   "metadata": {},
   "outputs": [
    {
     "data": {
      "text/plain": [
       "1.733149931224209"
      ]
     },
     "execution_count": 64,
     "metadata": {},
     "output_type": "execute_result"
    }
   ],
   "source": [
    "(63/3635)*100"
   ]
  },
  {
   "cell_type": "markdown",
   "metadata": {},
   "source": [
    "Here we are loosing 2% approx data after applying Zscore Method but its ok it is not much data."
   ]
  },
  {
   "cell_type": "markdown",
   "metadata": {},
   "source": [
    "# Checking Skewness of all Features."
   ]
  },
  {
   "cell_type": "code",
   "execution_count": 65,
   "metadata": {},
   "outputs": [
    {
     "data": {
      "image/png": "[encoded data removed]",
      "text/plain": [
       "<Figure size 1600x1600 with 9 Axes>"
      ]
     },
     "metadata": {},
     "output_type": "display_data"
    }
   ],
   "source": [
    "plt.figure(figsize=(16,16))\n",
    "for i in range(0,len(collist)):\n",
    "    plt.subplot(nrows,ncol, i+1)\n",
    "    sns.distplot(df_new[collist[i]])"
   ]
  },
  {
   "cell_type": "code",
   "execution_count": 66,
   "metadata": {},
   "outputs": [
    {
     "data": {
      "text/plain": [
       "Year of Car       -0.400701\n",
       "Make of Car        0.495353\n",
       "Model              0.122977\n",
       "Price of Car      -0.007254\n",
       "Location of Car    0.597088\n",
       "Kilometers        -0.026570\n",
       "Diseal/Petrol     -0.542755\n",
       "Body               0.265403\n",
       "Owner              1.891697\n",
       "dtype: float64"
      ]
     },
     "execution_count": 66,
     "metadata": {},
     "output_type": "execute_result"
    }
   ],
   "source": [
    "df_new.skew()"
   ]
  },
  {
   "cell_type": "code",
   "execution_count": 67,
   "metadata": {},
   "outputs": [
    {
     "data": {
      "text/html": [
       "<div>\n",
       "<style scoped>\n",
       "    .dataframe tbody tr th:only-of-type {\n",
       "        vertical-align: middle;\n",
       "    }\n",
       "\n",
       "    .dataframe tbody tr th {\n",
       "        vertical-align: top;\n",
       "    }\n",
       "\n",
       "    .dataframe thead th {\n",
       "        text-align: right;\n",
       "    }\n",
       "</style>\n",
       "<table border=\"1\" class=\"dataframe\">\n",
       "  <thead>\n",
       "    <tr style=\"text-align: right;\">\n",
       "      <th></th>\n",
       "      <th>Year of Car</th>\n",
       "      <th>Make of Car</th>\n",
       "      <th>Model</th>\n",
       "      <th>Price of Car</th>\n",
       "      <th>Location of Car</th>\n",
       "      <th>Kilometers</th>\n",
       "      <th>Diseal/Petrol</th>\n",
       "      <th>Body</th>\n",
       "      <th>Owner</th>\n",
       "    </tr>\n",
       "  </thead>\n",
       "  <tbody>\n",
       "    <tr>\n",
       "      <th>0</th>\n",
       "      <td>17</td>\n",
       "      <td>3</td>\n",
       "      <td>415</td>\n",
       "      <td>53</td>\n",
       "      <td>24</td>\n",
       "      <td>64</td>\n",
       "      <td>6</td>\n",
       "      <td>3</td>\n",
       "      <td>0</td>\n",
       "    </tr>\n",
       "    <tr>\n",
       "      <th>1</th>\n",
       "      <td>13</td>\n",
       "      <td>23</td>\n",
       "      <td>627</td>\n",
       "      <td>53</td>\n",
       "      <td>7</td>\n",
       "      <td>578</td>\n",
       "      <td>2</td>\n",
       "      <td>3</td>\n",
       "      <td>0</td>\n",
       "    </tr>\n",
       "    <tr>\n",
       "      <th>2</th>\n",
       "      <td>13</td>\n",
       "      <td>7</td>\n",
       "      <td>457</td>\n",
       "      <td>53</td>\n",
       "      <td>9</td>\n",
       "      <td>385</td>\n",
       "      <td>6</td>\n",
       "      <td>3</td>\n",
       "      <td>0</td>\n",
       "    </tr>\n",
       "    <tr>\n",
       "      <th>3</th>\n",
       "      <td>15</td>\n",
       "      <td>22</td>\n",
       "      <td>366</td>\n",
       "      <td>53</td>\n",
       "      <td>8</td>\n",
       "      <td>604</td>\n",
       "      <td>2</td>\n",
       "      <td>3</td>\n",
       "      <td>0</td>\n",
       "    </tr>\n",
       "    <tr>\n",
       "      <th>4</th>\n",
       "      <td>12</td>\n",
       "      <td>2</td>\n",
       "      <td>254</td>\n",
       "      <td>53</td>\n",
       "      <td>7</td>\n",
       "      <td>391</td>\n",
       "      <td>2</td>\n",
       "      <td>9</td>\n",
       "      <td>1</td>\n",
       "    </tr>\n",
       "  </tbody>\n",
       "</table>\n",
       "</div>"
      ],
      "text/plain": [
       "   Year of Car  Make of Car  Model  Price of Car  Location of Car  Kilometers  \\\n",
       "0           17            3    415            53               24          64   \n",
       "1           13           23    627            53                7         578   \n",
       "2           13            7    457            53                9         385   \n",
       "3           15           22    366            53                8         604   \n",
       "4           12            2    254            53                7         391   \n",
       "\n",
       "   Diseal/Petrol  Body  Owner  \n",
       "0              6     3      0  \n",
       "1              2     3      0  \n",
       "2              6     3      0  \n",
       "3              2     3      0  \n",
       "4              2     9      1  "
      ]
     },
     "execution_count": 67,
     "metadata": {},
     "output_type": "execute_result"
    }
   ],
   "source": [
    "df.head()"
   ]
  },
  {
   "cell_type": "markdown",
   "metadata": {},
   "source": [
    "# Spliting the Independent and Target Variable"
   ]
  },
  {
   "cell_type": "code",
   "execution_count": 68,
   "metadata": {},
   "outputs": [],
   "source": [
    "x=df.drop('Price of Car',axis=1)\n",
    "y=df['Price of Car']"
   ]
  },
  {
   "cell_type": "code",
   "execution_count": 69,
   "metadata": {},
   "outputs": [
    {
     "name": "stdout",
     "output_type": "stream",
     "text": [
      "(3635, 8) (3635,)\n"
     ]
    }
   ],
   "source": [
    "print(x.shape,y.shape)"
   ]
  },
  {
   "cell_type": "markdown",
   "metadata": {},
   "source": [
    "# Data Scaling"
   ]
  },
  {
   "cell_type": "code",
   "execution_count": 70,
   "metadata": {},
   "outputs": [
    {
     "data": {
      "text/html": [
       "<div>\n",
       "<style scoped>\n",
       "    .dataframe tbody tr th:only-of-type {\n",
       "        vertical-align: middle;\n",
       "    }\n",
       "\n",
       "    .dataframe tbody tr th {\n",
       "        vertical-align: top;\n",
       "    }\n",
       "\n",
       "    .dataframe thead th {\n",
       "        text-align: right;\n",
       "    }\n",
       "</style>\n",
       "<table border=\"1\" class=\"dataframe\">\n",
       "  <thead>\n",
       "    <tr style=\"text-align: right;\">\n",
       "      <th></th>\n",
       "      <th>Year of Car</th>\n",
       "      <th>Make of Car</th>\n",
       "      <th>Model</th>\n",
       "      <th>Location of Car</th>\n",
       "      <th>Kilometers</th>\n",
       "      <th>Diseal/Petrol</th>\n",
       "      <th>Body</th>\n",
       "      <th>Owner</th>\n",
       "    </tr>\n",
       "  </thead>\n",
       "  <tbody>\n",
       "    <tr>\n",
       "      <th>0</th>\n",
       "      <td>0.772727</td>\n",
       "      <td>0.125000</td>\n",
       "      <td>0.408465</td>\n",
       "      <td>0.666667</td>\n",
       "      <td>0.086957</td>\n",
       "      <td>0.857143</td>\n",
       "      <td>0.3</td>\n",
       "      <td>0.000000</td>\n",
       "    </tr>\n",
       "    <tr>\n",
       "      <th>1</th>\n",
       "      <td>0.590909</td>\n",
       "      <td>0.958333</td>\n",
       "      <td>0.617126</td>\n",
       "      <td>0.194444</td>\n",
       "      <td>0.785326</td>\n",
       "      <td>0.285714</td>\n",
       "      <td>0.3</td>\n",
       "      <td>0.000000</td>\n",
       "    </tr>\n",
       "    <tr>\n",
       "      <th>2</th>\n",
       "      <td>0.590909</td>\n",
       "      <td>0.291667</td>\n",
       "      <td>0.449803</td>\n",
       "      <td>0.250000</td>\n",
       "      <td>0.523098</td>\n",
       "      <td>0.857143</td>\n",
       "      <td>0.3</td>\n",
       "      <td>0.000000</td>\n",
       "    </tr>\n",
       "    <tr>\n",
       "      <th>3</th>\n",
       "      <td>0.681818</td>\n",
       "      <td>0.916667</td>\n",
       "      <td>0.360236</td>\n",
       "      <td>0.222222</td>\n",
       "      <td>0.820652</td>\n",
       "      <td>0.285714</td>\n",
       "      <td>0.3</td>\n",
       "      <td>0.000000</td>\n",
       "    </tr>\n",
       "    <tr>\n",
       "      <th>4</th>\n",
       "      <td>0.545455</td>\n",
       "      <td>0.083333</td>\n",
       "      <td>0.250000</td>\n",
       "      <td>0.194444</td>\n",
       "      <td>0.531250</td>\n",
       "      <td>0.285714</td>\n",
       "      <td>0.9</td>\n",
       "      <td>0.333333</td>\n",
       "    </tr>\n",
       "    <tr>\n",
       "      <th>...</th>\n",
       "      <td>...</td>\n",
       "      <td>...</td>\n",
       "      <td>...</td>\n",
       "      <td>...</td>\n",
       "      <td>...</td>\n",
       "      <td>...</td>\n",
       "      <td>...</td>\n",
       "      <td>...</td>\n",
       "    </tr>\n",
       "    <tr>\n",
       "      <th>3630</th>\n",
       "      <td>0.909091</td>\n",
       "      <td>0.458333</td>\n",
       "      <td>0.721457</td>\n",
       "      <td>0.527778</td>\n",
       "      <td>0.269022</td>\n",
       "      <td>0.285714</td>\n",
       "      <td>0.7</td>\n",
       "      <td>0.000000</td>\n",
       "    </tr>\n",
       "    <tr>\n",
       "      <th>3631</th>\n",
       "      <td>0.772727</td>\n",
       "      <td>0.458333</td>\n",
       "      <td>0.719488</td>\n",
       "      <td>0.527778</td>\n",
       "      <td>0.463315</td>\n",
       "      <td>0.285714</td>\n",
       "      <td>0.7</td>\n",
       "      <td>0.666667</td>\n",
       "    </tr>\n",
       "    <tr>\n",
       "      <th>3632</th>\n",
       "      <td>0.863636</td>\n",
       "      <td>0.291667</td>\n",
       "      <td>0.307087</td>\n",
       "      <td>0.527778</td>\n",
       "      <td>0.425272</td>\n",
       "      <td>0.857143</td>\n",
       "      <td>0.3</td>\n",
       "      <td>0.000000</td>\n",
       "    </tr>\n",
       "    <tr>\n",
       "      <th>3633</th>\n",
       "      <td>0.818182</td>\n",
       "      <td>0.750000</td>\n",
       "      <td>0.551181</td>\n",
       "      <td>0.527778</td>\n",
       "      <td>0.519022</td>\n",
       "      <td>0.857143</td>\n",
       "      <td>0.3</td>\n",
       "      <td>0.333333</td>\n",
       "    </tr>\n",
       "    <tr>\n",
       "      <th>3634</th>\n",
       "      <td>0.545455</td>\n",
       "      <td>0.541667</td>\n",
       "      <td>0.294291</td>\n",
       "      <td>0.527778</td>\n",
       "      <td>0.008152</td>\n",
       "      <td>0.142857</td>\n",
       "      <td>1.0</td>\n",
       "      <td>0.666667</td>\n",
       "    </tr>\n",
       "  </tbody>\n",
       "</table>\n",
       "<p>3635 rows × 8 columns</p>\n",
       "</div>"
      ],
      "text/plain": [
       "      Year of Car  Make of Car     Model  Location of Car  Kilometers  \\\n",
       "0        0.772727     0.125000  0.408465         0.666667    0.086957   \n",
       "1        0.590909     0.958333  0.617126         0.194444    0.785326   \n",
       "2        0.590909     0.291667  0.449803         0.250000    0.523098   \n",
       "3        0.681818     0.916667  0.360236         0.222222    0.820652   \n",
       "4        0.545455     0.083333  0.250000         0.194444    0.531250   \n",
       "...           ...          ...       ...              ...         ...   \n",
       "3630     0.909091     0.458333  0.721457         0.527778    0.269022   \n",
       "3631     0.772727     0.458333  0.719488         0.527778    0.463315   \n",
       "3632     0.863636     0.291667  0.307087         0.527778    0.425272   \n",
       "3633     0.818182     0.750000  0.551181         0.527778    0.519022   \n",
       "3634     0.545455     0.541667  0.294291         0.527778    0.008152   \n",
       "\n",
       "      Diseal/Petrol  Body     Owner  \n",
       "0          0.857143   0.3  0.000000  \n",
       "1          0.285714   0.3  0.000000  \n",
       "2          0.857143   0.3  0.000000  \n",
       "3          0.285714   0.3  0.000000  \n",
       "4          0.285714   0.9  0.333333  \n",
       "...             ...   ...       ...  \n",
       "3630       0.285714   0.7  0.000000  \n",
       "3631       0.285714   0.7  0.666667  \n",
       "3632       0.857143   0.3  0.000000  \n",
       "3633       0.857143   0.3  0.333333  \n",
       "3634       0.142857   1.0  0.666667  \n",
       "\n",
       "[3635 rows x 8 columns]"
      ]
     },
     "execution_count": 70,
     "metadata": {},
     "output_type": "execute_result"
    }
   ],
   "source": [
    "from sklearn.preprocessing import MinMaxScaler\n",
    "sc=MinMaxScaler()\n",
    "dx=sc.fit_transform(x)\n",
    "dx=pd.DataFrame(dx,columns=x.columns)\n",
    "dx"
   ]
  },
  {
   "cell_type": "code",
   "execution_count": 71,
   "metadata": {},
   "outputs": [],
   "source": [
    "X=dx"
   ]
  },
  {
   "cell_type": "markdown",
   "metadata": {},
   "source": [
    "# Feature Selection"
   ]
  },
  {
   "cell_type": "code",
   "execution_count": 72,
   "metadata": {},
   "outputs": [
    {
     "data": {
      "text/plain": [
       "ExtraTreesRegressor()"
      ]
     },
     "execution_count": 72,
     "metadata": {},
     "output_type": "execute_result"
    }
   ],
   "source": [
    "from sklearn.ensemble import ExtraTreesRegressor\n",
    "selection=ExtraTreesRegressor()\n",
    "selection.fit(X,y)"
   ]
  },
  {
   "cell_type": "code",
   "execution_count": 73,
   "metadata": {},
   "outputs": [
    {
     "data": {
      "image/png": "[encoded data removed]",
      "text/plain": [
       "<Figure size 1200x800 with 1 Axes>"
      ]
     },
     "metadata": {},
     "output_type": "display_data"
    }
   ],
   "source": [
    "plt.figure(figsize = (12,8))\n",
    "feat_importances=pd.Series(selection.feature_importances_, index=X.columns)\n",
    "feat_importances.nlargest(20).plot(kind='barh')\n",
    "plt.show()"
   ]
  },
  {
   "cell_type": "markdown",
   "metadata": {},
   "source": [
    "As we have seen the all features are important, so we will use all features for model building."
   ]
  },
  {
   "cell_type": "markdown",
   "metadata": {},
   "source": [
    "# Finding best Random State for train test split."
   ]
  },
  {
   "cell_type": "code",
   "execution_count": 74,
   "metadata": {},
   "outputs": [
    {
     "name": "stdout",
     "output_type": "stream",
     "text": [
      "Best accuracy is:  0.24732088726106205  on Random State  247\n"
     ]
    }
   ],
   "source": [
    "from sklearn.linear_model import LinearRegression\n",
    "from sklearn.metrics import mean_squared_error,r2_score,mean_absolute_error\n",
    "from sklearn.model_selection import train_test_split\n",
    "maxAccu = 0\n",
    "maxRS = 0\n",
    "for i in range(1,1000):\n",
    "    X_train,X_test,y_train,y_test = train_test_split(X,y,test_size = .30, random_state = i)\n",
    "    LR = LinearRegression()\n",
    "    LR.fit(X_train, y_train)\n",
    "    predf = LR.predict(X_test)\n",
    "    acc = r2_score(y_test, predf)\n",
    "    if acc>maxAccu:\n",
    "        maxAccu = acc\n",
    "        maxRS = i\n",
    "print(\"Best accuracy is: \", maxAccu, \" on Random State \", maxRS)"
   ]
  },
  {
   "cell_type": "code",
   "execution_count": 75,
   "metadata": {},
   "outputs": [],
   "source": [
    "X_train,X_test,y_train,y_test=train_test_split(X,y,test_size=.30,random_state=670)"
   ]
  },
  {
   "cell_type": "code",
   "execution_count": 76,
   "metadata": {},
   "outputs": [
    {
     "name": "stdout",
     "output_type": "stream",
     "text": [
      "(2544, 8) (2544,) (1091, 8) (1091,)\n"
     ]
    }
   ],
   "source": [
    "print(X_train.shape,y_train.shape,X_test.shape,y_test.shape)"
   ]
  },
  {
   "cell_type": "markdown",
   "metadata": {},
   "source": [
    "# LinearRegression"
   ]
  },
  {
   "cell_type": "code",
   "execution_count": 77,
   "metadata": {},
   "outputs": [
    {
     "data": {
      "text/plain": [
       "LinearRegression()"
      ]
     },
     "execution_count": 77,
     "metadata": {},
     "output_type": "execute_result"
    }
   ],
   "source": [
    "LR=LinearRegression()\n",
    "LR.fit(X_train,y_train)"
   ]
  },
  {
   "cell_type": "code",
   "execution_count": 78,
   "metadata": {},
   "outputs": [
    {
     "data": {
      "text/plain": [
       "array([ 77.73051455,   3.03960919,  -0.73401716,  -1.91732441,\n",
       "        -0.11298611,  -8.04658151,  26.72721852, -12.72232957])"
      ]
     },
     "execution_count": 78,
     "metadata": {},
     "output_type": "execute_result"
    }
   ],
   "source": [
    "LR.coef_"
   ]
  },
  {
   "cell_type": "code",
   "execution_count": 79,
   "metadata": {},
   "outputs": [
    {
     "data": {
      "text/plain": [
       "0.15875668666645026"
      ]
     },
     "execution_count": 79,
     "metadata": {},
     "output_type": "execute_result"
    }
   ],
   "source": [
    "LR.score(X_train,y_train)"
   ]
  },
  {
   "cell_type": "code",
   "execution_count": 80,
   "metadata": {},
   "outputs": [
    {
     "name": "stdout",
     "output_type": "stream",
     "text": [
      "Predicted Result Price: [96.45184683 54.60900196 73.28801938 ... 40.91489026 65.58401622\n",
      " 66.32449824]\n",
      "error:\n",
      "Mean absolute error: 24.527921769845218\n",
      "Mean squared error: 995.4533490738683\n",
      "Root Mean Squared error: 31.550805838739972\n",
      "0.21816819685775002\n"
     ]
    }
   ],
   "source": [
    "pred=LR.predict(X_test)\n",
    "print('Predicted Result Price:',pred)\n",
    "print('error:')\n",
    "print('Mean absolute error:',mean_absolute_error(y_test,pred))\n",
    "print('Mean squared error:',mean_squared_error(y_test,pred))\n",
    "print('Root Mean Squared error:',np.sqrt(mean_squared_error(y_test,pred)))\n",
    "print(r2_score(y_test,pred))"
   ]
  },
  {
   "cell_type": "markdown",
   "metadata": {},
   "source": [
    "# Random Forest Regressor"
   ]
  },
  {
   "cell_type": "code",
   "execution_count": 81,
   "metadata": {},
   "outputs": [
    {
     "name": "stdout",
     "output_type": "stream",
     "text": [
      "Predicted Result Price: [104.5   66.4  102.47 ...  24.5   95.97  87.61]\n",
      "error:\n",
      "Mean absolute error: 10.167386786550857\n",
      "Mean squared error: 349.75594009257935\n",
      "Root Mean Squared error: 18.701763020971562\n",
      "0.7253007209662795\n"
     ]
    }
   ],
   "source": [
    "from sklearn.ensemble import RandomForestRegressor\n",
    "rf=RandomForestRegressor(n_estimators=100)\n",
    "rf.fit(X_train,y_train)\n",
    "rf.score(X_train,y_train)\n",
    "predrf=rf.predict(X_test)\n",
    "print('Predicted Result Price:',predrf)\n",
    "print('error:')\n",
    "print('Mean absolute error:',mean_absolute_error(y_test,predrf))\n",
    "print('Mean squared error:',mean_squared_error(y_test,predrf))\n",
    "print('Root Mean Squared error:',np.sqrt(mean_squared_error(y_test,predrf)))\n",
    "print(r2_score(y_test,predrf))"
   ]
  },
  {
   "cell_type": "markdown",
   "metadata": {},
   "source": [
    "# Decision Tree Regressor"
   ]
  },
  {
   "cell_type": "code",
   "execution_count": 82,
   "metadata": {},
   "outputs": [
    {
     "name": "stdout",
     "output_type": "stream",
     "text": [
      "Predicted Result Price: [129.  71. 103. ...   6.  99.  90.]\n",
      "error:\n",
      "Mean absolute error: 9.888328750381913\n",
      "Mean squared error: 613.8321875954782\n",
      "Root Mean Squared error: 24.77563697658404\n",
      "0.5178945085663553\n"
     ]
    }
   ],
   "source": [
    "from sklearn.tree import DecisionTreeRegressor\n",
    "dtc=DecisionTreeRegressor()\n",
    "dtc.fit(X_train,y_train)\n",
    "dtc.score(X_train,y_train)\n",
    "pred=dtc.predict(X_test)\n",
    "print('Predicted Result Price:',pred)\n",
    "print('error:')\n",
    "print('Mean absolute error:',mean_absolute_error(y_test,pred))\n",
    "print('Mean squared error:',mean_squared_error(y_test,pred))\n",
    "print('Root Mean Squared error:',np.sqrt(mean_squared_error(y_test,pred)))\n",
    "print(r2_score(y_test,pred))"
   ]
  },
  {
   "cell_type": "markdown",
   "metadata": {},
   "source": [
    "# Ada Boost Regressor"
   ]
  },
  {
   "cell_type": "code",
   "execution_count": 83,
   "metadata": {},
   "outputs": [
    {
     "name": "stdout",
     "output_type": "stream",
     "text": [
      "Predicted Result Price: [104.7   62.83 102.52 ...  24.21  94.11  85.81]\n",
      "error:\n",
      "Mean absolute error: 10.262925865304876\n",
      "Mean squared error: 358.6073293845482\n",
      "Root Mean Squared error: 18.936930305214418\n",
      "0.7183488154280718\n"
     ]
    }
   ],
   "source": [
    "from sklearn.ensemble import AdaBoostRegressor\n",
    "ad=RandomForestRegressor(n_estimators=100)\n",
    "ad.fit(X_train,y_train)\n",
    "ad.score(X_train,y_train)\n",
    "pred=ad.predict(X_test)\n",
    "print('Predicted Result Price:',pred)\n",
    "print('error:')\n",
    "print('Mean absolute error:',mean_absolute_error(y_test,pred))\n",
    "print('Mean squared error:',mean_squared_error(y_test,pred))\n",
    "print('Root Mean Squared error:',np.sqrt(mean_squared_error(y_test,pred)))\n",
    "print(r2_score(y_test,pred))"
   ]
  },
  {
   "cell_type": "markdown",
   "metadata": {},
   "source": [
    "# KNeighbors Regressor"
   ]
  },
  {
   "cell_type": "code",
   "execution_count": 84,
   "metadata": {},
   "outputs": [
    {
     "name": "stdout",
     "output_type": "stream",
     "text": [
      "Predicted Result Price: [114.6  57.4 111.  ...   6.2  93.   88.4]\n",
      "error:\n",
      "Mean absolute error: 20.918423464711275\n",
      "Mean squared error: 879.348267644363\n",
      "Root Mean Squared error: 29.653806967139364\n",
      "0.3093574477176332\n"
     ]
    }
   ],
   "source": [
    "from sklearn.neighbors import KNeighborsRegressor\n",
    "knn=KNeighborsRegressor()\n",
    "knn.fit(X_train,y_train)\n",
    "knn.score(X_train,y_train)\n",
    "pred=knn.predict(X_test)\n",
    "print('Predicted Result Price:',pred)\n",
    "print('error:')\n",
    "print('Mean absolute error:',mean_absolute_error(y_test,pred))\n",
    "print('Mean squared error:',mean_squared_error(y_test,pred))\n",
    "print('Root Mean Squared error:',np.sqrt(mean_squared_error(y_test,pred)))\n",
    "print(r2_score(y_test,pred))"
   ]
  },
  {
   "cell_type": "markdown",
   "metadata": {},
   "source": [
    "# Cross Validation"
   ]
  },
  {
   "cell_type": "markdown",
   "metadata": {},
   "source": [
    "We are Cross validating the models to see thre are underfitting or overfitting present or not."
   ]
  },
  {
   "cell_type": "code",
   "execution_count": 85,
   "metadata": {},
   "outputs": [
    {
     "name": "stdout",
     "output_type": "stream",
     "text": [
      "Cross Validation Score of Linear Regression Model: 0.137924369033811\n"
     ]
    }
   ],
   "source": [
    "from sklearn.model_selection import cross_val_score\n",
    "LR=cross_val_score(LR,X,y,cv=5)\n",
    "print(\"Cross Validation Score of Linear Regression Model:\", LR.mean())"
   ]
  },
  {
   "cell_type": "code",
   "execution_count": 86,
   "metadata": {},
   "outputs": [
    {
     "name": "stdout",
     "output_type": "stream",
     "text": [
      "Cross Validation Score of Rendom Forest Regressor Model: 0.7199134445971087\n"
     ]
    }
   ],
   "source": [
    "RFR=cross_val_score(rf,X,y,cv=5)\n",
    "print(\"Cross Validation Score of Rendom Forest Regressor Model:\", RFR.mean())"
   ]
  },
  {
   "cell_type": "code",
   "execution_count": 87,
   "metadata": {},
   "outputs": [
    {
     "name": "stdout",
     "output_type": "stream",
     "text": [
      "Cross Validation Score of Rendom Forest Regressor Model: 0.6175411425639368\n"
     ]
    }
   ],
   "source": [
    "DTC=cross_val_score(dtc,X,y,cv=5)\n",
    "print(\"Cross Validation Score of Rendom Forest Regressor Model:\", DTC.mean())"
   ]
  },
  {
   "cell_type": "code",
   "execution_count": 88,
   "metadata": {},
   "outputs": [
    {
     "name": "stdout",
     "output_type": "stream",
     "text": [
      "Cross Validation Score of Rendom Forest Regressor Model: 0.7159966925105729\n"
     ]
    }
   ],
   "source": [
    "AD=cross_val_score(ad,X,y,cv=5)\n",
    "print(\"Cross Validation Score of Rendom Forest Regressor Model:\", AD.mean())"
   ]
  },
  {
   "cell_type": "code",
   "execution_count": 89,
   "metadata": {},
   "outputs": [
    {
     "name": "stdout",
     "output_type": "stream",
     "text": [
      "Cross Validation Score of Rendom Forest Regressor Model: 0.2918217012094131\n"
     ]
    }
   ],
   "source": [
    "KNN=cross_val_score(knn,X,y,cv=5)\n",
    "print(\"Cross Validation Score of Rendom Forest Regressor Model:\", KNN.mean())"
   ]
  },
  {
   "cell_type": "code",
   "execution_count": null,
   "metadata": {},
   "outputs": [],
   "source": []
  },
  {
   "cell_type": "markdown",
   "metadata": {},
   "source": [
    "# Hyperparameter tuning"
   ]
  },
  {
   "cell_type": "code",
   "execution_count": 90,
   "metadata": {},
   "outputs": [
    {
     "name": "stdout",
     "output_type": "stream",
     "text": [
      "r2 / variance :  0.6039649968318778\n",
      "Residual sum of squares: 394.61\n"
     ]
    }
   ],
   "source": [
    "from sklearn.model_selection import GridSearchCV\n",
    "from sklearn.ensemble import RandomForestRegressor\n",
    "model = RandomForestRegressor(random_state = 42)\n",
    "parameters = {'bootstrap': [True],'criterion': ['mse'],'max_depth':[None],'n_estimators':[10], 'random_state':[42]}\n",
    "\n",
    "grid = GridSearchCV(model,parameters, cv=None)\n",
    "grid.fit(X_train, y_train)\n",
    "print (\"r2 / variance : \", grid.best_score_)\n",
    "print(\"Residual sum of squares: %.2f\" % np.mean((grid.predict(X_test) - y_test) ** 2))"
   ]
  },
  {
   "cell_type": "markdown",
   "metadata": {},
   "source": [
    "# Prediction"
   ]
  },
  {
   "cell_type": "code",
   "execution_count": 91,
   "metadata": {},
   "outputs": [
    {
     "data": {
      "text/html": [
       "<div>\n",
       "<style scoped>\n",
       "    .dataframe tbody tr th:only-of-type {\n",
       "        vertical-align: middle;\n",
       "    }\n",
       "\n",
       "    .dataframe tbody tr th {\n",
       "        vertical-align: top;\n",
       "    }\n",
       "\n",
       "    .dataframe thead th {\n",
       "        text-align: right;\n",
       "    }\n",
       "</style>\n",
       "<table border=\"1\" class=\"dataframe\">\n",
       "  <thead>\n",
       "    <tr style=\"text-align: right;\">\n",
       "      <th></th>\n",
       "      <th>orginal</th>\n",
       "      <th>predicted</th>\n",
       "    </tr>\n",
       "  </thead>\n",
       "  <tbody>\n",
       "    <tr>\n",
       "      <th>0</th>\n",
       "      <td>111</td>\n",
       "      <td>104.50</td>\n",
       "    </tr>\n",
       "    <tr>\n",
       "      <th>1</th>\n",
       "      <td>53</td>\n",
       "      <td>66.40</td>\n",
       "    </tr>\n",
       "    <tr>\n",
       "      <th>2</th>\n",
       "      <td>103</td>\n",
       "      <td>102.47</td>\n",
       "    </tr>\n",
       "    <tr>\n",
       "      <th>3</th>\n",
       "      <td>19</td>\n",
       "      <td>21.80</td>\n",
       "    </tr>\n",
       "    <tr>\n",
       "      <th>4</th>\n",
       "      <td>110</td>\n",
       "      <td>107.25</td>\n",
       "    </tr>\n",
       "    <tr>\n",
       "      <th>...</th>\n",
       "      <td>...</td>\n",
       "      <td>...</td>\n",
       "    </tr>\n",
       "    <tr>\n",
       "      <th>1086</th>\n",
       "      <td>7</td>\n",
       "      <td>6.97</td>\n",
       "    </tr>\n",
       "    <tr>\n",
       "      <th>1087</th>\n",
       "      <td>97</td>\n",
       "      <td>96.80</td>\n",
       "    </tr>\n",
       "    <tr>\n",
       "      <th>1088</th>\n",
       "      <td>9</td>\n",
       "      <td>24.50</td>\n",
       "    </tr>\n",
       "    <tr>\n",
       "      <th>1089</th>\n",
       "      <td>99</td>\n",
       "      <td>95.97</td>\n",
       "    </tr>\n",
       "    <tr>\n",
       "      <th>1090</th>\n",
       "      <td>101</td>\n",
       "      <td>87.61</td>\n",
       "    </tr>\n",
       "  </tbody>\n",
       "</table>\n",
       "<p>1091 rows × 2 columns</p>\n",
       "</div>"
      ],
      "text/plain": [
       "      orginal  predicted\n",
       "0         111     104.50\n",
       "1          53      66.40\n",
       "2         103     102.47\n",
       "3          19      21.80\n",
       "4         110     107.25\n",
       "...       ...        ...\n",
       "1086        7       6.97\n",
       "1087       97      96.80\n",
       "1088        9      24.50\n",
       "1089       99      95.97\n",
       "1090      101      87.61\n",
       "\n",
       "[1091 rows x 2 columns]"
      ]
     },
     "execution_count": 91,
     "metadata": {},
     "output_type": "execute_result"
    }
   ],
   "source": [
    "import numpy as np\n",
    "a = np.array(y_test)\n",
    "predicted = np.array(predrf)\n",
    "df_con = pd.DataFrame({\"orginal\":a, \"predicted\":predicted}, index = range(len(a)))\n",
    "df_con"
   ]
  },
  {
   "cell_type": "markdown",
   "metadata": {},
   "source": [
    "# Predicted Model PLot"
   ]
  },
  {
   "cell_type": "code",
   "execution_count": 92,
   "metadata": {},
   "outputs": [
    {
     "data": {
      "image/png": "[encoded data removed]",
      "text/plain": [
       "<Figure size 640x480 with 1 Axes>"
      ]
     },
     "metadata": {},
     "output_type": "display_data"
    }
   ],
   "source": [
    "plt.scatter(x=y_test, y=predrf, color = \"blue\")\n",
    "plt.plot(y_test,y_test, color='r')\n",
    "plt.xlabel(\"Actual\", fontsize =20)\n",
    "plt.ylabel(\"Predicted\", fontsize=20)\n",
    "plt.title(\"The predicted model plot\", fontsize=20)\n",
    "plt.show()"
   ]
  },
  {
   "cell_type": "markdown",
   "metadata": {},
   "source": [
    "# Saving Model"
   ]
  },
  {
   "cell_type": "code",
   "execution_count": 94,
   "metadata": {},
   "outputs": [
    {
     "data": {
      "text/plain": [
       "['CAR_PRICE_MODEL_23.obj']"
      ]
     },
     "execution_count": 94,
     "metadata": {},
     "output_type": "execute_result"
    }
   ],
   "source": [
    "import joblib\n",
    "joblib.dump(rf,'CAR_PRICE_MODEL_23.obj')"
   ]
  },
  {
   "cell_type": "code",
   "execution_count": null,
   "metadata": {},
   "outputs": [],
   "source": []
  },
  {
   "cell_type": "code",
   "execution_count": null,
   "metadata": {},
   "outputs": [],
   "source": []
  },
  {
   "cell_type": "code",
   "execution_count": null,
   "metadata": {},
   "outputs": [],
   "source": []
  },
  {
   "cell_type": "code",
   "execution_count": null,
   "metadata": {},
   "outputs": [],
   "source": []
  }
 ],
 "metadata": {
  "kernelspec": {
   "display_name": "Python 3 (ipykernel)",
   "language": "python",
   "name": "python3"
  },
  "language_info": {
   "codemirror_mode": {
    "name": "ipython",
    "version": 3
   },
   "file_extension": ".py",
   "mimetype": "text/x-python",
   "name": "python",
   "nbconvert_exporter": "python",
   "pygments_lexer": "ipython3",
   "version": "3.9.13"
  }
 },
 "nbformat": 4,
 "nbformat_minor": 4
}

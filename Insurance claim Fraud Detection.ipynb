{
 "cells": [
  {
   "cell_type": "markdown",
   "metadata": {},
   "source": [
    "# Importing Libraries"
   ]
  },
  {
   "cell_type": "code",
   "execution_count": 1,
   "metadata": {},
   "outputs": [],
   "source": [
    "import numpy as np\n",
    "import pandas as pd\n",
    "import matplotlib.pyplot as plt\n",
    "import seaborn as sns\n",
    "import warnings\n",
    "warnings.filterwarnings('ignore')"
   ]
  },
  {
   "cell_type": "markdown",
   "metadata": {},
   "source": [
    "# Importing Data"
   ]
  },
  {
   "cell_type": "code",
   "execution_count": 2,
   "metadata": {},
   "outputs": [
    {
     "data": {
      "text/html": [
       "<div>\n",
       "<style scoped>\n",
       "    .dataframe tbody tr th:only-of-type {\n",
       "        vertical-align: middle;\n",
       "    }\n",
       "\n",
       "    .dataframe tbody tr th {\n",
       "        vertical-align: top;\n",
       "    }\n",
       "\n",
       "    .dataframe thead th {\n",
       "        text-align: right;\n",
       "    }\n",
       "</style>\n",
       "<table border=\"1\" class=\"dataframe\">\n",
       "  <thead>\n",
       "    <tr style=\"text-align: right;\">\n",
       "      <th></th>\n",
       "      <th>months_as_customer</th>\n",
       "      <th>age</th>\n",
       "      <th>policy_number</th>\n",
       "      <th>policy_bind_date</th>\n",
       "      <th>policy_state</th>\n",
       "      <th>policy_csl</th>\n",
       "      <th>policy_deductable</th>\n",
       "      <th>policy_annual_premium</th>\n",
       "      <th>umbrella_limit</th>\n",
       "      <th>insured_zip</th>\n",
       "      <th>...</th>\n",
       "      <th>police_report_available</th>\n",
       "      <th>total_claim_amount</th>\n",
       "      <th>injury_claim</th>\n",
       "      <th>property_claim</th>\n",
       "      <th>vehicle_claim</th>\n",
       "      <th>auto_make</th>\n",
       "      <th>auto_model</th>\n",
       "      <th>auto_year</th>\n",
       "      <th>fraud_reported</th>\n",
       "      <th>_c39</th>\n",
       "    </tr>\n",
       "  </thead>\n",
       "  <tbody>\n",
       "    <tr>\n",
       "      <th>0</th>\n",
       "      <td>328</td>\n",
       "      <td>48</td>\n",
       "      <td>521585</td>\n",
       "      <td>17-10-2014</td>\n",
       "      <td>OH</td>\n",
       "      <td>250/500</td>\n",
       "      <td>1000</td>\n",
       "      <td>1406.91</td>\n",
       "      <td>0</td>\n",
       "      <td>466132</td>\n",
       "      <td>...</td>\n",
       "      <td>YES</td>\n",
       "      <td>71610</td>\n",
       "      <td>6510</td>\n",
       "      <td>13020</td>\n",
       "      <td>52080</td>\n",
       "      <td>Saab</td>\n",
       "      <td>92x</td>\n",
       "      <td>2004</td>\n",
       "      <td>Y</td>\n",
       "      <td>NaN</td>\n",
       "    </tr>\n",
       "    <tr>\n",
       "      <th>1</th>\n",
       "      <td>228</td>\n",
       "      <td>42</td>\n",
       "      <td>342868</td>\n",
       "      <td>27-06-2006</td>\n",
       "      <td>IN</td>\n",
       "      <td>250/500</td>\n",
       "      <td>2000</td>\n",
       "      <td>1197.22</td>\n",
       "      <td>5000000</td>\n",
       "      <td>468176</td>\n",
       "      <td>...</td>\n",
       "      <td>?</td>\n",
       "      <td>5070</td>\n",
       "      <td>780</td>\n",
       "      <td>780</td>\n",
       "      <td>3510</td>\n",
       "      <td>Mercedes</td>\n",
       "      <td>E400</td>\n",
       "      <td>2007</td>\n",
       "      <td>Y</td>\n",
       "      <td>NaN</td>\n",
       "    </tr>\n",
       "    <tr>\n",
       "      <th>2</th>\n",
       "      <td>134</td>\n",
       "      <td>29</td>\n",
       "      <td>687698</td>\n",
       "      <td>06-09-2000</td>\n",
       "      <td>OH</td>\n",
       "      <td>100/300</td>\n",
       "      <td>2000</td>\n",
       "      <td>1413.14</td>\n",
       "      <td>5000000</td>\n",
       "      <td>430632</td>\n",
       "      <td>...</td>\n",
       "      <td>NO</td>\n",
       "      <td>34650</td>\n",
       "      <td>7700</td>\n",
       "      <td>3850</td>\n",
       "      <td>23100</td>\n",
       "      <td>Dodge</td>\n",
       "      <td>RAM</td>\n",
       "      <td>2007</td>\n",
       "      <td>N</td>\n",
       "      <td>NaN</td>\n",
       "    </tr>\n",
       "    <tr>\n",
       "      <th>3</th>\n",
       "      <td>256</td>\n",
       "      <td>41</td>\n",
       "      <td>227811</td>\n",
       "      <td>25-05-1990</td>\n",
       "      <td>IL</td>\n",
       "      <td>250/500</td>\n",
       "      <td>2000</td>\n",
       "      <td>1415.74</td>\n",
       "      <td>6000000</td>\n",
       "      <td>608117</td>\n",
       "      <td>...</td>\n",
       "      <td>NO</td>\n",
       "      <td>63400</td>\n",
       "      <td>6340</td>\n",
       "      <td>6340</td>\n",
       "      <td>50720</td>\n",
       "      <td>Chevrolet</td>\n",
       "      <td>Tahoe</td>\n",
       "      <td>2014</td>\n",
       "      <td>Y</td>\n",
       "      <td>NaN</td>\n",
       "    </tr>\n",
       "    <tr>\n",
       "      <th>4</th>\n",
       "      <td>228</td>\n",
       "      <td>44</td>\n",
       "      <td>367455</td>\n",
       "      <td>06-06-2014</td>\n",
       "      <td>IL</td>\n",
       "      <td>500/1000</td>\n",
       "      <td>1000</td>\n",
       "      <td>1583.91</td>\n",
       "      <td>6000000</td>\n",
       "      <td>610706</td>\n",
       "      <td>...</td>\n",
       "      <td>NO</td>\n",
       "      <td>6500</td>\n",
       "      <td>1300</td>\n",
       "      <td>650</td>\n",
       "      <td>4550</td>\n",
       "      <td>Accura</td>\n",
       "      <td>RSX</td>\n",
       "      <td>2009</td>\n",
       "      <td>N</td>\n",
       "      <td>NaN</td>\n",
       "    </tr>\n",
       "  </tbody>\n",
       "</table>\n",
       "<p>5 rows × 40 columns</p>\n",
       "</div>"
      ],
      "text/plain": [
       "   months_as_customer  age  policy_number policy_bind_date policy_state  \\\n",
       "0                 328   48         521585       17-10-2014           OH   \n",
       "1                 228   42         342868       27-06-2006           IN   \n",
       "2                 134   29         687698       06-09-2000           OH   \n",
       "3                 256   41         227811       25-05-1990           IL   \n",
       "4                 228   44         367455       06-06-2014           IL   \n",
       "\n",
       "  policy_csl  policy_deductable  policy_annual_premium  umbrella_limit  \\\n",
       "0    250/500               1000                1406.91               0   \n",
       "1    250/500               2000                1197.22         5000000   \n",
       "2    100/300               2000                1413.14         5000000   \n",
       "3    250/500               2000                1415.74         6000000   \n",
       "4   500/1000               1000                1583.91         6000000   \n",
       "\n",
       "   insured_zip  ... police_report_available total_claim_amount injury_claim  \\\n",
       "0       466132  ...                     YES              71610         6510   \n",
       "1       468176  ...                       ?               5070          780   \n",
       "2       430632  ...                      NO              34650         7700   \n",
       "3       608117  ...                      NO              63400         6340   \n",
       "4       610706  ...                      NO               6500         1300   \n",
       "\n",
       "  property_claim vehicle_claim  auto_make  auto_model auto_year  \\\n",
       "0          13020         52080       Saab         92x      2004   \n",
       "1            780          3510   Mercedes        E400      2007   \n",
       "2           3850         23100      Dodge         RAM      2007   \n",
       "3           6340         50720  Chevrolet       Tahoe      2014   \n",
       "4            650          4550     Accura         RSX      2009   \n",
       "\n",
       "  fraud_reported _c39  \n",
       "0              Y  NaN  \n",
       "1              Y  NaN  \n",
       "2              N  NaN  \n",
       "3              Y  NaN  \n",
       "4              N  NaN  \n",
       "\n",
       "[5 rows x 40 columns]"
      ]
     },
     "execution_count": 2,
     "metadata": {},
     "output_type": "execute_result"
    }
   ],
   "source": [
    "df=pd.read_csv('https://raw.githubusercontent.com/dsrscientist/Data-Science-ML-Capstone-Projects/master/Automobile_insurance_fraud.csv')\n",
    "df.head()"
   ]
  },
  {
   "cell_type": "markdown",
   "metadata": {},
   "source": [
    "Business case:\n",
    "Insurance fraud is a huge problem in the industry. It's difficult to identify fraud claims. Machine Learning is in a unique position to help the Auto Insurance industry with this problem.\n",
    "\n",
    "In this project, you are provided a dataset which has the details of the insurance policy along with the customer details. It also has the details of the accident on the basis of which the claims have been made. \n",
    "\n",
    "In this example, you will be working with some auto insurance data to demonstrate how you can create a predictive model that predicts if an insurance claim is fraudulent or not."
   ]
  },
  {
   "cell_type": "code",
   "execution_count": 3,
   "metadata": {},
   "outputs": [
    {
     "data": {
      "text/plain": [
       "(1000, 40)"
      ]
     },
     "execution_count": 3,
     "metadata": {},
     "output_type": "execute_result"
    }
   ],
   "source": [
    "#checking shape of Data.\n",
    "df.shape"
   ]
  },
  {
   "cell_type": "code",
   "execution_count": 4,
   "metadata": {},
   "outputs": [
    {
     "data": {
      "text/plain": [
       "months_as_customer               int64\n",
       "age                              int64\n",
       "policy_number                    int64\n",
       "policy_bind_date                object\n",
       "policy_state                    object\n",
       "policy_csl                      object\n",
       "policy_deductable                int64\n",
       "policy_annual_premium          float64\n",
       "umbrella_limit                   int64\n",
       "insured_zip                      int64\n",
       "insured_sex                     object\n",
       "insured_education_level         object\n",
       "insured_occupation              object\n",
       "insured_hobbies                 object\n",
       "insured_relationship            object\n",
       "capital-gains                    int64\n",
       "capital-loss                     int64\n",
       "incident_date                   object\n",
       "incident_type                   object\n",
       "collision_type                  object\n",
       "incident_severity               object\n",
       "authorities_contacted           object\n",
       "incident_state                  object\n",
       "incident_city                   object\n",
       "incident_location               object\n",
       "incident_hour_of_the_day         int64\n",
       "number_of_vehicles_involved      int64\n",
       "property_damage                 object\n",
       "bodily_injuries                  int64\n",
       "witnesses                        int64\n",
       "police_report_available         object\n",
       "total_claim_amount               int64\n",
       "injury_claim                     int64\n",
       "property_claim                   int64\n",
       "vehicle_claim                    int64\n",
       "auto_make                       object\n",
       "auto_model                      object\n",
       "auto_year                        int64\n",
       "fraud_reported                  object\n",
       "_c39                           float64\n",
       "dtype: object"
      ]
     },
     "execution_count": 4,
     "metadata": {},
     "output_type": "execute_result"
    }
   ],
   "source": [
    "# Checking Data Types of all Features.\n",
    "df.dtypes"
   ]
  },
  {
   "cell_type": "code",
   "execution_count": 5,
   "metadata": {},
   "outputs": [
    {
     "name": "stdout",
     "output_type": "stream",
     "text": [
      "<class 'pandas.core.frame.DataFrame'>\n",
      "RangeIndex: 1000 entries, 0 to 999\n",
      "Data columns (total 40 columns):\n",
      " #   Column                       Non-Null Count  Dtype  \n",
      "---  ------                       --------------  -----  \n",
      " 0   months_as_customer           1000 non-null   int64  \n",
      " 1   age                          1000 non-null   int64  \n",
      " 2   policy_number                1000 non-null   int64  \n",
      " 3   policy_bind_date             1000 non-null   object \n",
      " 4   policy_state                 1000 non-null   object \n",
      " 5   policy_csl                   1000 non-null   object \n",
      " 6   policy_deductable            1000 non-null   int64  \n",
      " 7   policy_annual_premium        1000 non-null   float64\n",
      " 8   umbrella_limit               1000 non-null   int64  \n",
      " 9   insured_zip                  1000 non-null   int64  \n",
      " 10  insured_sex                  1000 non-null   object \n",
      " 11  insured_education_level      1000 non-null   object \n",
      " 12  insured_occupation           1000 non-null   object \n",
      " 13  insured_hobbies              1000 non-null   object \n",
      " 14  insured_relationship         1000 non-null   object \n",
      " 15  capital-gains                1000 non-null   int64  \n",
      " 16  capital-loss                 1000 non-null   int64  \n",
      " 17  incident_date                1000 non-null   object \n",
      " 18  incident_type                1000 non-null   object \n",
      " 19  collision_type               1000 non-null   object \n",
      " 20  incident_severity            1000 non-null   object \n",
      " 21  authorities_contacted        1000 non-null   object \n",
      " 22  incident_state               1000 non-null   object \n",
      " 23  incident_city                1000 non-null   object \n",
      " 24  incident_location            1000 non-null   object \n",
      " 25  incident_hour_of_the_day     1000 non-null   int64  \n",
      " 26  number_of_vehicles_involved  1000 non-null   int64  \n",
      " 27  property_damage              1000 non-null   object \n",
      " 28  bodily_injuries              1000 non-null   int64  \n",
      " 29  witnesses                    1000 non-null   int64  \n",
      " 30  police_report_available      1000 non-null   object \n",
      " 31  total_claim_amount           1000 non-null   int64  \n",
      " 32  injury_claim                 1000 non-null   int64  \n",
      " 33  property_claim               1000 non-null   int64  \n",
      " 34  vehicle_claim                1000 non-null   int64  \n",
      " 35  auto_make                    1000 non-null   object \n",
      " 36  auto_model                   1000 non-null   object \n",
      " 37  auto_year                    1000 non-null   int64  \n",
      " 38  fraud_reported               1000 non-null   object \n",
      " 39  _c39                         0 non-null      float64\n",
      "dtypes: float64(2), int64(17), object(21)\n",
      "memory usage: 312.6+ KB\n"
     ]
    }
   ],
   "source": [
    "#Getting details from data.\n",
    "df.info()"
   ]
  },
  {
   "cell_type": "code",
   "execution_count": 6,
   "metadata": {},
   "outputs": [
    {
     "data": {
      "text/html": [
       "<div>\n",
       "<style scoped>\n",
       "    .dataframe tbody tr th:only-of-type {\n",
       "        vertical-align: middle;\n",
       "    }\n",
       "\n",
       "    .dataframe tbody tr th {\n",
       "        vertical-align: top;\n",
       "    }\n",
       "\n",
       "    .dataframe thead th {\n",
       "        text-align: right;\n",
       "    }\n",
       "</style>\n",
       "<table border=\"1\" class=\"dataframe\">\n",
       "  <thead>\n",
       "    <tr style=\"text-align: right;\">\n",
       "      <th></th>\n",
       "      <th>unique values</th>\n",
       "      <th>number of unique values</th>\n",
       "    </tr>\n",
       "  </thead>\n",
       "  <tbody>\n",
       "    <tr>\n",
       "      <th>months_as_customer</th>\n",
       "      <td>[328, 228, 134, 256, 137, 165, 27, 212, 235, 4...</td>\n",
       "      <td>391</td>\n",
       "    </tr>\n",
       "    <tr>\n",
       "      <th>age</th>\n",
       "      <td>[48, 42, 29, 41, 44, 39, 34, 37, 33, 61, 23, 3...</td>\n",
       "      <td>46</td>\n",
       "    </tr>\n",
       "    <tr>\n",
       "      <th>policy_number</th>\n",
       "      <td>[521585, 342868, 687698, 227811, 367455, 10459...</td>\n",
       "      <td>1000</td>\n",
       "    </tr>\n",
       "    <tr>\n",
       "      <th>policy_bind_date</th>\n",
       "      <td>[17-10-2014, 27-06-2006, 06-09-2000, 25-05-199...</td>\n",
       "      <td>951</td>\n",
       "    </tr>\n",
       "    <tr>\n",
       "      <th>policy_state</th>\n",
       "      <td>[OH, IN, IL]</td>\n",
       "      <td>3</td>\n",
       "    </tr>\n",
       "    <tr>\n",
       "      <th>policy_csl</th>\n",
       "      <td>[250/500, 100/300, 500/1000]</td>\n",
       "      <td>3</td>\n",
       "    </tr>\n",
       "    <tr>\n",
       "      <th>policy_deductable</th>\n",
       "      <td>[1000, 2000, 500]</td>\n",
       "      <td>3</td>\n",
       "    </tr>\n",
       "    <tr>\n",
       "      <th>policy_annual_premium</th>\n",
       "      <td>[1406.91, 1197.22, 1413.14, 1415.74, 1583.91, ...</td>\n",
       "      <td>991</td>\n",
       "    </tr>\n",
       "    <tr>\n",
       "      <th>umbrella_limit</th>\n",
       "      <td>[0, 5000000, 6000000, 4000000, 3000000, 800000...</td>\n",
       "      <td>11</td>\n",
       "    </tr>\n",
       "    <tr>\n",
       "      <th>insured_zip</th>\n",
       "      <td>[466132, 468176, 430632, 608117, 610706, 47845...</td>\n",
       "      <td>995</td>\n",
       "    </tr>\n",
       "    <tr>\n",
       "      <th>insured_sex</th>\n",
       "      <td>[MALE, FEMALE]</td>\n",
       "      <td>2</td>\n",
       "    </tr>\n",
       "    <tr>\n",
       "      <th>insured_education_level</th>\n",
       "      <td>[MD, PhD, Associate, Masters, High School, Col...</td>\n",
       "      <td>7</td>\n",
       "    </tr>\n",
       "    <tr>\n",
       "      <th>insured_occupation</th>\n",
       "      <td>[craft-repair, machine-op-inspct, sales, armed...</td>\n",
       "      <td>14</td>\n",
       "    </tr>\n",
       "    <tr>\n",
       "      <th>insured_hobbies</th>\n",
       "      <td>[sleeping, reading, board-games, bungie-jumpin...</td>\n",
       "      <td>20</td>\n",
       "    </tr>\n",
       "    <tr>\n",
       "      <th>insured_relationship</th>\n",
       "      <td>[husband, other-relative, own-child, unmarried...</td>\n",
       "      <td>6</td>\n",
       "    </tr>\n",
       "    <tr>\n",
       "      <th>capital-gains</th>\n",
       "      <td>[53300, 0, 35100, 48900, 66000, 38400, 52800, ...</td>\n",
       "      <td>338</td>\n",
       "    </tr>\n",
       "    <tr>\n",
       "      <th>capital-loss</th>\n",
       "      <td>[0, -62400, -46000, -77000, -39300, -51000, -3...</td>\n",
       "      <td>354</td>\n",
       "    </tr>\n",
       "    <tr>\n",
       "      <th>incident_date</th>\n",
       "      <td>[25-01-2015, 21-01-2015, 22-02-2015, 10-01-201...</td>\n",
       "      <td>60</td>\n",
       "    </tr>\n",
       "    <tr>\n",
       "      <th>incident_type</th>\n",
       "      <td>[Single Vehicle Collision, Vehicle Theft, Mult...</td>\n",
       "      <td>4</td>\n",
       "    </tr>\n",
       "    <tr>\n",
       "      <th>collision_type</th>\n",
       "      <td>[Side Collision, ?, Rear Collision, Front Coll...</td>\n",
       "      <td>4</td>\n",
       "    </tr>\n",
       "    <tr>\n",
       "      <th>incident_severity</th>\n",
       "      <td>[Major Damage, Minor Damage, Total Loss, Trivi...</td>\n",
       "      <td>4</td>\n",
       "    </tr>\n",
       "    <tr>\n",
       "      <th>authorities_contacted</th>\n",
       "      <td>[Police, None, Fire, Other, Ambulance]</td>\n",
       "      <td>5</td>\n",
       "    </tr>\n",
       "    <tr>\n",
       "      <th>incident_state</th>\n",
       "      <td>[SC, VA, NY, OH, WV, NC, PA]</td>\n",
       "      <td>7</td>\n",
       "    </tr>\n",
       "    <tr>\n",
       "      <th>incident_city</th>\n",
       "      <td>[Columbus, Riverwood, Arlington, Springfield, ...</td>\n",
       "      <td>7</td>\n",
       "    </tr>\n",
       "    <tr>\n",
       "      <th>incident_location</th>\n",
       "      <td>[9935 4th Drive, 6608 MLK Hwy, 7121 Francis La...</td>\n",
       "      <td>1000</td>\n",
       "    </tr>\n",
       "    <tr>\n",
       "      <th>incident_hour_of_the_day</th>\n",
       "      <td>[5, 8, 7, 20, 19, 0, 23, 21, 14, 22, 9, 12, 15...</td>\n",
       "      <td>24</td>\n",
       "    </tr>\n",
       "    <tr>\n",
       "      <th>number_of_vehicles_involved</th>\n",
       "      <td>[1, 3, 4, 2]</td>\n",
       "      <td>4</td>\n",
       "    </tr>\n",
       "    <tr>\n",
       "      <th>property_damage</th>\n",
       "      <td>[YES, ?, NO]</td>\n",
       "      <td>3</td>\n",
       "    </tr>\n",
       "    <tr>\n",
       "      <th>bodily_injuries</th>\n",
       "      <td>[1, 0, 2]</td>\n",
       "      <td>3</td>\n",
       "    </tr>\n",
       "    <tr>\n",
       "      <th>witnesses</th>\n",
       "      <td>[2, 0, 3, 1]</td>\n",
       "      <td>4</td>\n",
       "    </tr>\n",
       "    <tr>\n",
       "      <th>police_report_available</th>\n",
       "      <td>[YES, ?, NO]</td>\n",
       "      <td>3</td>\n",
       "    </tr>\n",
       "    <tr>\n",
       "      <th>total_claim_amount</th>\n",
       "      <td>[71610, 5070, 34650, 63400, 6500, 64100, 78650...</td>\n",
       "      <td>763</td>\n",
       "    </tr>\n",
       "    <tr>\n",
       "      <th>injury_claim</th>\n",
       "      <td>[6510, 780, 7700, 6340, 1300, 6410, 21450, 938...</td>\n",
       "      <td>638</td>\n",
       "    </tr>\n",
       "    <tr>\n",
       "      <th>property_claim</th>\n",
       "      <td>[13020, 780, 3850, 6340, 650, 6410, 7150, 9380...</td>\n",
       "      <td>626</td>\n",
       "    </tr>\n",
       "    <tr>\n",
       "      <th>vehicle_claim</th>\n",
       "      <td>[52080, 3510, 23100, 50720, 4550, 51280, 50050...</td>\n",
       "      <td>726</td>\n",
       "    </tr>\n",
       "    <tr>\n",
       "      <th>auto_make</th>\n",
       "      <td>[Saab, Mercedes, Dodge, Chevrolet, Accura, Nis...</td>\n",
       "      <td>14</td>\n",
       "    </tr>\n",
       "    <tr>\n",
       "      <th>auto_model</th>\n",
       "      <td>[92x, E400, RAM, Tahoe, RSX, 95, Pathfinder, A...</td>\n",
       "      <td>39</td>\n",
       "    </tr>\n",
       "    <tr>\n",
       "      <th>auto_year</th>\n",
       "      <td>[2004, 2007, 2014, 2009, 2003, 2012, 2015, 199...</td>\n",
       "      <td>21</td>\n",
       "    </tr>\n",
       "    <tr>\n",
       "      <th>fraud_reported</th>\n",
       "      <td>[Y, N]</td>\n",
       "      <td>2</td>\n",
       "    </tr>\n",
       "    <tr>\n",
       "      <th>_c39</th>\n",
       "      <td>[nan]</td>\n",
       "      <td>0</td>\n",
       "    </tr>\n",
       "  </tbody>\n",
       "</table>\n",
       "</div>"
      ],
      "text/plain": [
       "                                                                 unique values  \\\n",
       "months_as_customer           [328, 228, 134, 256, 137, 165, 27, 212, 235, 4...   \n",
       "age                          [48, 42, 29, 41, 44, 39, 34, 37, 33, 61, 23, 3...   \n",
       "policy_number                [521585, 342868, 687698, 227811, 367455, 10459...   \n",
       "policy_bind_date             [17-10-2014, 27-06-2006, 06-09-2000, 25-05-199...   \n",
       "policy_state                                                      [OH, IN, IL]   \n",
       "policy_csl                                        [250/500, 100/300, 500/1000]   \n",
       "policy_deductable                                            [1000, 2000, 500]   \n",
       "policy_annual_premium        [1406.91, 1197.22, 1413.14, 1415.74, 1583.91, ...   \n",
       "umbrella_limit               [0, 5000000, 6000000, 4000000, 3000000, 800000...   \n",
       "insured_zip                  [466132, 468176, 430632, 608117, 610706, 47845...   \n",
       "insured_sex                                                     [MALE, FEMALE]   \n",
       "insured_education_level      [MD, PhD, Associate, Masters, High School, Col...   \n",
       "insured_occupation           [craft-repair, machine-op-inspct, sales, armed...   \n",
       "insured_hobbies              [sleeping, reading, board-games, bungie-jumpin...   \n",
       "insured_relationship         [husband, other-relative, own-child, unmarried...   \n",
       "capital-gains                [53300, 0, 35100, 48900, 66000, 38400, 52800, ...   \n",
       "capital-loss                 [0, -62400, -46000, -77000, -39300, -51000, -3...   \n",
       "incident_date                [25-01-2015, 21-01-2015, 22-02-2015, 10-01-201...   \n",
       "incident_type                [Single Vehicle Collision, Vehicle Theft, Mult...   \n",
       "collision_type               [Side Collision, ?, Rear Collision, Front Coll...   \n",
       "incident_severity            [Major Damage, Minor Damage, Total Loss, Trivi...   \n",
       "authorities_contacted                   [Police, None, Fire, Other, Ambulance]   \n",
       "incident_state                                    [SC, VA, NY, OH, WV, NC, PA]   \n",
       "incident_city                [Columbus, Riverwood, Arlington, Springfield, ...   \n",
       "incident_location            [9935 4th Drive, 6608 MLK Hwy, 7121 Francis La...   \n",
       "incident_hour_of_the_day     [5, 8, 7, 20, 19, 0, 23, 21, 14, 22, 9, 12, 15...   \n",
       "number_of_vehicles_involved                                       [1, 3, 4, 2]   \n",
       "property_damage                                                   [YES, ?, NO]   \n",
       "bodily_injuries                                                      [1, 0, 2]   \n",
       "witnesses                                                         [2, 0, 3, 1]   \n",
       "police_report_available                                           [YES, ?, NO]   \n",
       "total_claim_amount           [71610, 5070, 34650, 63400, 6500, 64100, 78650...   \n",
       "injury_claim                 [6510, 780, 7700, 6340, 1300, 6410, 21450, 938...   \n",
       "property_claim               [13020, 780, 3850, 6340, 650, 6410, 7150, 9380...   \n",
       "vehicle_claim                [52080, 3510, 23100, 50720, 4550, 51280, 50050...   \n",
       "auto_make                    [Saab, Mercedes, Dodge, Chevrolet, Accura, Nis...   \n",
       "auto_model                   [92x, E400, RAM, Tahoe, RSX, 95, Pathfinder, A...   \n",
       "auto_year                    [2004, 2007, 2014, 2009, 2003, 2012, 2015, 199...   \n",
       "fraud_reported                                                          [Y, N]   \n",
       "_c39                                                                     [nan]   \n",
       "\n",
       "                             number of unique values  \n",
       "months_as_customer                               391  \n",
       "age                                               46  \n",
       "policy_number                                   1000  \n",
       "policy_bind_date                                 951  \n",
       "policy_state                                       3  \n",
       "policy_csl                                         3  \n",
       "policy_deductable                                  3  \n",
       "policy_annual_premium                            991  \n",
       "umbrella_limit                                    11  \n",
       "insured_zip                                      995  \n",
       "insured_sex                                        2  \n",
       "insured_education_level                            7  \n",
       "insured_occupation                                14  \n",
       "insured_hobbies                                   20  \n",
       "insured_relationship                               6  \n",
       "capital-gains                                    338  \n",
       "capital-loss                                     354  \n",
       "incident_date                                     60  \n",
       "incident_type                                      4  \n",
       "collision_type                                     4  \n",
       "incident_severity                                  4  \n",
       "authorities_contacted                              5  \n",
       "incident_state                                     7  \n",
       "incident_city                                      7  \n",
       "incident_location                               1000  \n",
       "incident_hour_of_the_day                          24  \n",
       "number_of_vehicles_involved                        4  \n",
       "property_damage                                    3  \n",
       "bodily_injuries                                    3  \n",
       "witnesses                                          4  \n",
       "police_report_available                            3  \n",
       "total_claim_amount                               763  \n",
       "injury_claim                                     638  \n",
       "property_claim                                   626  \n",
       "vehicle_claim                                    726  \n",
       "auto_make                                         14  \n",
       "auto_model                                        39  \n",
       "auto_year                                         21  \n",
       "fraud_reported                                     2  \n",
       "_c39                                               0  "
      ]
     },
     "execution_count": 6,
     "metadata": {},
     "output_type": "execute_result"
    }
   ],
   "source": [
    "pd.concat({'unique values': df.apply(pd.unique), 'number of unique values': df.nunique()}, axis=1)"
   ]
  },
  {
   "cell_type": "markdown",
   "metadata": {},
   "source": [
    "Here, We are checking unique values of all features in Data and How many columns are categorical."
   ]
  },
  {
   "cell_type": "code",
   "execution_count": 7,
   "metadata": {},
   "outputs": [
    {
     "data": {
      "text/plain": [
       "months_as_customer                0\n",
       "age                               0\n",
       "policy_number                     0\n",
       "policy_bind_date                  0\n",
       "policy_state                      0\n",
       "policy_csl                        0\n",
       "policy_deductable                 0\n",
       "policy_annual_premium             0\n",
       "umbrella_limit                    0\n",
       "insured_zip                       0\n",
       "insured_sex                       0\n",
       "insured_education_level           0\n",
       "insured_occupation                0\n",
       "insured_hobbies                   0\n",
       "insured_relationship              0\n",
       "capital-gains                     0\n",
       "capital-loss                      0\n",
       "incident_date                     0\n",
       "incident_type                     0\n",
       "collision_type                    0\n",
       "incident_severity                 0\n",
       "authorities_contacted             0\n",
       "incident_state                    0\n",
       "incident_city                     0\n",
       "incident_location                 0\n",
       "incident_hour_of_the_day          0\n",
       "number_of_vehicles_involved       0\n",
       "property_damage                   0\n",
       "bodily_injuries                   0\n",
       "witnesses                         0\n",
       "police_report_available           0\n",
       "total_claim_amount                0\n",
       "injury_claim                      0\n",
       "property_claim                    0\n",
       "vehicle_claim                     0\n",
       "auto_make                         0\n",
       "auto_model                        0\n",
       "auto_year                         0\n",
       "fraud_reported                    0\n",
       "_c39                           1000\n",
       "dtype: int64"
      ]
     },
     "execution_count": 7,
     "metadata": {},
     "output_type": "execute_result"
    }
   ],
   "source": [
    "df.isnull().sum()"
   ]
  },
  {
   "cell_type": "markdown",
   "metadata": {},
   "source": [
    "No missing values are present in data."
   ]
  },
  {
   "cell_type": "code",
   "execution_count": 8,
   "metadata": {},
   "outputs": [
    {
     "data": {
      "text/plain": [
       "<AxesSubplot:>"
      ]
     },
     "execution_count": 8,
     "metadata": {},
     "output_type": "execute_result"
    },
    {
     "data": {
      "image/png": "[encoded data removed]",
      "text/plain": [
       "<Figure size 432x288 with 2 Axes>"
      ]
     },
     "metadata": {
      "needs_background": "light"
     },
     "output_type": "display_data"
    }
   ],
   "source": [
    "sns.heatmap(df.isnull())"
   ]
  },
  {
   "cell_type": "markdown",
   "metadata": {},
   "source": [
    "Checking Missing value with the help of Heatmap."
   ]
  },
  {
   "cell_type": "code",
   "execution_count": 9,
   "metadata": {},
   "outputs": [],
   "source": [
    "df.drop(['_c39'],axis=1,inplace=True)"
   ]
  },
  {
   "cell_type": "markdown",
   "metadata": {},
   "source": [
    "droping \"_c39\" columns as we are getting it contents with NaN values."
   ]
  },
  {
   "cell_type": "markdown",
   "metadata": {},
   "source": [
    "# Statistical Summary"
   ]
  },
  {
   "cell_type": "code",
   "execution_count": 10,
   "metadata": {},
   "outputs": [
    {
     "data": {
      "text/html": [
       "<div>\n",
       "<style scoped>\n",
       "    .dataframe tbody tr th:only-of-type {\n",
       "        vertical-align: middle;\n",
       "    }\n",
       "\n",
       "    .dataframe tbody tr th {\n",
       "        vertical-align: top;\n",
       "    }\n",
       "\n",
       "    .dataframe thead th {\n",
       "        text-align: right;\n",
       "    }\n",
       "</style>\n",
       "<table border=\"1\" class=\"dataframe\">\n",
       "  <thead>\n",
       "    <tr style=\"text-align: right;\">\n",
       "      <th></th>\n",
       "      <th>months_as_customer</th>\n",
       "      <th>age</th>\n",
       "      <th>policy_number</th>\n",
       "      <th>policy_deductable</th>\n",
       "      <th>policy_annual_premium</th>\n",
       "      <th>umbrella_limit</th>\n",
       "      <th>insured_zip</th>\n",
       "      <th>capital-gains</th>\n",
       "      <th>capital-loss</th>\n",
       "      <th>incident_hour_of_the_day</th>\n",
       "      <th>number_of_vehicles_involved</th>\n",
       "      <th>bodily_injuries</th>\n",
       "      <th>witnesses</th>\n",
       "      <th>total_claim_amount</th>\n",
       "      <th>injury_claim</th>\n",
       "      <th>property_claim</th>\n",
       "      <th>vehicle_claim</th>\n",
       "      <th>auto_year</th>\n",
       "    </tr>\n",
       "  </thead>\n",
       "  <tbody>\n",
       "    <tr>\n",
       "      <th>count</th>\n",
       "      <td>1000.000000</td>\n",
       "      <td>1000.000000</td>\n",
       "      <td>1000.000000</td>\n",
       "      <td>1000.000000</td>\n",
       "      <td>1000.000000</td>\n",
       "      <td>1.000000e+03</td>\n",
       "      <td>1000.000000</td>\n",
       "      <td>1000.000000</td>\n",
       "      <td>1000.000000</td>\n",
       "      <td>1000.000000</td>\n",
       "      <td>1000.00000</td>\n",
       "      <td>1000.000000</td>\n",
       "      <td>1000.000000</td>\n",
       "      <td>1000.00000</td>\n",
       "      <td>1000.000000</td>\n",
       "      <td>1000.000000</td>\n",
       "      <td>1000.000000</td>\n",
       "      <td>1000.000000</td>\n",
       "    </tr>\n",
       "    <tr>\n",
       "      <th>mean</th>\n",
       "      <td>203.954000</td>\n",
       "      <td>38.948000</td>\n",
       "      <td>546238.648000</td>\n",
       "      <td>1136.000000</td>\n",
       "      <td>1256.406150</td>\n",
       "      <td>1.101000e+06</td>\n",
       "      <td>501214.488000</td>\n",
       "      <td>25126.100000</td>\n",
       "      <td>-26793.700000</td>\n",
       "      <td>11.644000</td>\n",
       "      <td>1.83900</td>\n",
       "      <td>0.992000</td>\n",
       "      <td>1.487000</td>\n",
       "      <td>52761.94000</td>\n",
       "      <td>7433.420000</td>\n",
       "      <td>7399.570000</td>\n",
       "      <td>37928.950000</td>\n",
       "      <td>2005.103000</td>\n",
       "    </tr>\n",
       "    <tr>\n",
       "      <th>std</th>\n",
       "      <td>115.113174</td>\n",
       "      <td>9.140287</td>\n",
       "      <td>257063.005276</td>\n",
       "      <td>611.864673</td>\n",
       "      <td>244.167395</td>\n",
       "      <td>2.297407e+06</td>\n",
       "      <td>71701.610941</td>\n",
       "      <td>27872.187708</td>\n",
       "      <td>28104.096686</td>\n",
       "      <td>6.951373</td>\n",
       "      <td>1.01888</td>\n",
       "      <td>0.820127</td>\n",
       "      <td>1.111335</td>\n",
       "      <td>26401.53319</td>\n",
       "      <td>4880.951853</td>\n",
       "      <td>4824.726179</td>\n",
       "      <td>18886.252893</td>\n",
       "      <td>6.015861</td>\n",
       "    </tr>\n",
       "    <tr>\n",
       "      <th>min</th>\n",
       "      <td>0.000000</td>\n",
       "      <td>19.000000</td>\n",
       "      <td>100804.000000</td>\n",
       "      <td>500.000000</td>\n",
       "      <td>433.330000</td>\n",
       "      <td>-1.000000e+06</td>\n",
       "      <td>430104.000000</td>\n",
       "      <td>0.000000</td>\n",
       "      <td>-111100.000000</td>\n",
       "      <td>0.000000</td>\n",
       "      <td>1.00000</td>\n",
       "      <td>0.000000</td>\n",
       "      <td>0.000000</td>\n",
       "      <td>100.00000</td>\n",
       "      <td>0.000000</td>\n",
       "      <td>0.000000</td>\n",
       "      <td>70.000000</td>\n",
       "      <td>1995.000000</td>\n",
       "    </tr>\n",
       "    <tr>\n",
       "      <th>25%</th>\n",
       "      <td>115.750000</td>\n",
       "      <td>32.000000</td>\n",
       "      <td>335980.250000</td>\n",
       "      <td>500.000000</td>\n",
       "      <td>1089.607500</td>\n",
       "      <td>0.000000e+00</td>\n",
       "      <td>448404.500000</td>\n",
       "      <td>0.000000</td>\n",
       "      <td>-51500.000000</td>\n",
       "      <td>6.000000</td>\n",
       "      <td>1.00000</td>\n",
       "      <td>0.000000</td>\n",
       "      <td>1.000000</td>\n",
       "      <td>41812.50000</td>\n",
       "      <td>4295.000000</td>\n",
       "      <td>4445.000000</td>\n",
       "      <td>30292.500000</td>\n",
       "      <td>2000.000000</td>\n",
       "    </tr>\n",
       "    <tr>\n",
       "      <th>50%</th>\n",
       "      <td>199.500000</td>\n",
       "      <td>38.000000</td>\n",
       "      <td>533135.000000</td>\n",
       "      <td>1000.000000</td>\n",
       "      <td>1257.200000</td>\n",
       "      <td>0.000000e+00</td>\n",
       "      <td>466445.500000</td>\n",
       "      <td>0.000000</td>\n",
       "      <td>-23250.000000</td>\n",
       "      <td>12.000000</td>\n",
       "      <td>1.00000</td>\n",
       "      <td>1.000000</td>\n",
       "      <td>1.000000</td>\n",
       "      <td>58055.00000</td>\n",
       "      <td>6775.000000</td>\n",
       "      <td>6750.000000</td>\n",
       "      <td>42100.000000</td>\n",
       "      <td>2005.000000</td>\n",
       "    </tr>\n",
       "    <tr>\n",
       "      <th>75%</th>\n",
       "      <td>276.250000</td>\n",
       "      <td>44.000000</td>\n",
       "      <td>759099.750000</td>\n",
       "      <td>2000.000000</td>\n",
       "      <td>1415.695000</td>\n",
       "      <td>0.000000e+00</td>\n",
       "      <td>603251.000000</td>\n",
       "      <td>51025.000000</td>\n",
       "      <td>0.000000</td>\n",
       "      <td>17.000000</td>\n",
       "      <td>3.00000</td>\n",
       "      <td>2.000000</td>\n",
       "      <td>2.000000</td>\n",
       "      <td>70592.50000</td>\n",
       "      <td>11305.000000</td>\n",
       "      <td>10885.000000</td>\n",
       "      <td>50822.500000</td>\n",
       "      <td>2010.000000</td>\n",
       "    </tr>\n",
       "    <tr>\n",
       "      <th>max</th>\n",
       "      <td>479.000000</td>\n",
       "      <td>64.000000</td>\n",
       "      <td>999435.000000</td>\n",
       "      <td>2000.000000</td>\n",
       "      <td>2047.590000</td>\n",
       "      <td>1.000000e+07</td>\n",
       "      <td>620962.000000</td>\n",
       "      <td>100500.000000</td>\n",
       "      <td>0.000000</td>\n",
       "      <td>23.000000</td>\n",
       "      <td>4.00000</td>\n",
       "      <td>2.000000</td>\n",
       "      <td>3.000000</td>\n",
       "      <td>114920.00000</td>\n",
       "      <td>21450.000000</td>\n",
       "      <td>23670.000000</td>\n",
       "      <td>79560.000000</td>\n",
       "      <td>2015.000000</td>\n",
       "    </tr>\n",
       "  </tbody>\n",
       "</table>\n",
       "</div>"
      ],
      "text/plain": [
       "       months_as_customer          age  policy_number  policy_deductable  \\\n",
       "count         1000.000000  1000.000000    1000.000000        1000.000000   \n",
       "mean           203.954000    38.948000  546238.648000        1136.000000   \n",
       "std            115.113174     9.140287  257063.005276         611.864673   \n",
       "min              0.000000    19.000000  100804.000000         500.000000   \n",
       "25%            115.750000    32.000000  335980.250000         500.000000   \n",
       "50%            199.500000    38.000000  533135.000000        1000.000000   \n",
       "75%            276.250000    44.000000  759099.750000        2000.000000   \n",
       "max            479.000000    64.000000  999435.000000        2000.000000   \n",
       "\n",
       "       policy_annual_premium  umbrella_limit    insured_zip  capital-gains  \\\n",
       "count            1000.000000    1.000000e+03    1000.000000    1000.000000   \n",
       "mean             1256.406150    1.101000e+06  501214.488000   25126.100000   \n",
       "std               244.167395    2.297407e+06   71701.610941   27872.187708   \n",
       "min               433.330000   -1.000000e+06  430104.000000       0.000000   \n",
       "25%              1089.607500    0.000000e+00  448404.500000       0.000000   \n",
       "50%              1257.200000    0.000000e+00  466445.500000       0.000000   \n",
       "75%              1415.695000    0.000000e+00  603251.000000   51025.000000   \n",
       "max              2047.590000    1.000000e+07  620962.000000  100500.000000   \n",
       "\n",
       "        capital-loss  incident_hour_of_the_day  number_of_vehicles_involved  \\\n",
       "count    1000.000000               1000.000000                   1000.00000   \n",
       "mean   -26793.700000                 11.644000                      1.83900   \n",
       "std     28104.096686                  6.951373                      1.01888   \n",
       "min   -111100.000000                  0.000000                      1.00000   \n",
       "25%    -51500.000000                  6.000000                      1.00000   \n",
       "50%    -23250.000000                 12.000000                      1.00000   \n",
       "75%         0.000000                 17.000000                      3.00000   \n",
       "max         0.000000                 23.000000                      4.00000   \n",
       "\n",
       "       bodily_injuries    witnesses  total_claim_amount  injury_claim  \\\n",
       "count      1000.000000  1000.000000          1000.00000   1000.000000   \n",
       "mean          0.992000     1.487000         52761.94000   7433.420000   \n",
       "std           0.820127     1.111335         26401.53319   4880.951853   \n",
       "min           0.000000     0.000000           100.00000      0.000000   \n",
       "25%           0.000000     1.000000         41812.50000   4295.000000   \n",
       "50%           1.000000     1.000000         58055.00000   6775.000000   \n",
       "75%           2.000000     2.000000         70592.50000  11305.000000   \n",
       "max           2.000000     3.000000        114920.00000  21450.000000   \n",
       "\n",
       "       property_claim  vehicle_claim    auto_year  \n",
       "count     1000.000000    1000.000000  1000.000000  \n",
       "mean      7399.570000   37928.950000  2005.103000  \n",
       "std       4824.726179   18886.252893     6.015861  \n",
       "min          0.000000      70.000000  1995.000000  \n",
       "25%       4445.000000   30292.500000  2000.000000  \n",
       "50%       6750.000000   42100.000000  2005.000000  \n",
       "75%      10885.000000   50822.500000  2010.000000  \n",
       "max      23670.000000   79560.000000  2015.000000  "
      ]
     },
     "execution_count": 10,
     "metadata": {},
     "output_type": "execute_result"
    }
   ],
   "source": [
    "df.describe()"
   ]
  },
  {
   "cell_type": "markdown",
   "metadata": {},
   "source": [
    "Here we are analysing the all numerical features statistically and as we are seeing here all numerical features describing with count,mean,std,minm,25%,50%, 75% and max."
   ]
  },
  {
   "cell_type": "code",
   "execution_count": null,
   "metadata": {},
   "outputs": [],
   "source": []
  },
  {
   "cell_type": "code",
   "execution_count": 11,
   "metadata": {},
   "outputs": [
    {
     "data": {
      "text/plain": [
       "N    753\n",
       "Y    247\n",
       "Name: fraud_reported, dtype: int64"
      ]
     },
     "execution_count": 11,
     "metadata": {},
     "output_type": "execute_result"
    }
   ],
   "source": [
    "#Checking Target Variable unique values for encoding.\n",
    "df['fraud_reported'].value_counts()"
   ]
  },
  {
   "cell_type": "code",
   "execution_count": 12,
   "metadata": {},
   "outputs": [],
   "source": [
    "#Replacing Target Variable value with \"N\"=0, \"Y\"=1.\n",
    "df.replace({\"N\": 0, \"Y\": 1}, inplace = True)"
   ]
  },
  {
   "cell_type": "code",
   "execution_count": 13,
   "metadata": {},
   "outputs": [
    {
     "data": {
      "text/plain": [
       "0    753\n",
       "1    247\n",
       "Name: fraud_reported, dtype: int64"
      ]
     },
     "execution_count": 13,
     "metadata": {},
     "output_type": "execute_result"
    }
   ],
   "source": [
    "df['fraud_reported'].value_counts()"
   ]
  },
  {
   "cell_type": "markdown",
   "metadata": {},
   "source": [
    "Final output of target variable after replacement."
   ]
  },
  {
   "cell_type": "markdown",
   "metadata": {},
   "source": [
    "# Data Visualization"
   ]
  },
  {
   "cell_type": "markdown",
   "metadata": {},
   "source": [
    "# Univariate Analysis"
   ]
  },
  {
   "cell_type": "code",
   "execution_count": 14,
   "metadata": {},
   "outputs": [
    {
     "data": {
      "text/plain": [
       "Text(0.5, 1.0, 'age')"
      ]
     },
     "execution_count": 14,
     "metadata": {},
     "output_type": "execute_result"
    },
    {
     "data": {
      "image/png": "[encoded data removed]",
      "text/plain": [
       "<Figure size 576x360 with 1 Axes>"
      ]
     },
     "metadata": {
      "needs_background": "light"
     },
     "output_type": "display_data"
    }
   ],
   "source": [
    "fig_size = (8,5)\n",
    "fig, ax = plt.subplots(figsize = fig_size)\n",
    "sns.countplot(data=df, x=\"age\")\n",
    "plt.xticks(rotation=90)\n",
    "plt.title(\"age\", fontsize = 20)"
   ]
  },
  {
   "cell_type": "markdown",
   "metadata": {},
   "source": [
    "As we are getting highest age counted between 28 to 43."
   ]
  },
  {
   "cell_type": "code",
   "execution_count": 15,
   "metadata": {},
   "outputs": [
    {
     "data": {
      "text/plain": [
       "Text(0.5, 1.0, 'policy_state')"
      ]
     },
     "execution_count": 15,
     "metadata": {},
     "output_type": "execute_result"
    },
    {
     "data": {
      "image/png": "[encoded data removed]",
      "text/plain": [
       "<Figure size 576x360 with 1 Axes>"
      ]
     },
     "metadata": {
      "needs_background": "light"
     },
     "output_type": "display_data"
    }
   ],
   "source": [
    "fig_size = (8,5)\n",
    "fig, ax = plt.subplots(figsize = fig_size)\n",
    "sns.countplot(data=df, x=\"policy_state\")\n",
    "plt.xticks(rotation=90)\n",
    "plt.title(\"policy_state\", fontsize = 20)"
   ]
  },
  {
   "cell_type": "markdown",
   "metadata": {},
   "source": [
    "In plicy_state the OH and IL is high according to IN."
   ]
  },
  {
   "cell_type": "code",
   "execution_count": 16,
   "metadata": {},
   "outputs": [
    {
     "data": {
      "text/plain": [
       "Text(0.5, 1.0, 'insured_sex')"
      ]
     },
     "execution_count": 16,
     "metadata": {},
     "output_type": "execute_result"
    },
    {
     "data": {
      "image/png": "[encoded data removed]",
      "text/plain": [
       "<Figure size 576x360 with 1 Axes>"
      ]
     },
     "metadata": {
      "needs_background": "light"
     },
     "output_type": "display_data"
    }
   ],
   "source": [
    "fig_size = (8,5)\n",
    "fig, ax = plt.subplots(figsize = fig_size)\n",
    "sns.countplot(data=df, x=\"insured_sex\")\n",
    "plt.xticks(rotation=90)\n",
    "plt.title(\"insured_sex\", fontsize = 20)"
   ]
  },
  {
   "cell_type": "markdown",
   "metadata": {},
   "source": [
    "According to data Female is highly insured then Male."
   ]
  },
  {
   "cell_type": "code",
   "execution_count": 17,
   "metadata": {},
   "outputs": [
    {
     "data": {
      "text/plain": [
       "Text(0.5, 1.0, 'insured_education_level')"
      ]
     },
     "execution_count": 17,
     "metadata": {},
     "output_type": "execute_result"
    },
    {
     "data": {
      "image/png": "[encoded data removed]",
      "text/plain": [
       "<Figure size 576x360 with 1 Axes>"
      ]
     },
     "metadata": {
      "needs_background": "light"
     },
     "output_type": "display_data"
    }
   ],
   "source": [
    "fig_size = (8,5)\n",
    "fig, ax = plt.subplots(figsize = fig_size)\n",
    "sns.countplot(data=df, x=\"insured_education_level\")\n",
    "plt.xticks(rotation=90)\n",
    "plt.title(\"insured_education_level\", fontsize = 20)"
   ]
  },
  {
   "cell_type": "markdown",
   "metadata": {},
   "source": [
    "High School and JD is higher then others."
   ]
  },
  {
   "cell_type": "code",
   "execution_count": 18,
   "metadata": {},
   "outputs": [
    {
     "data": {
      "text/plain": [
       "Text(0.5, 1.0, 'insured_occupation')"
      ]
     },
     "execution_count": 18,
     "metadata": {},
     "output_type": "execute_result"
    },
    {
     "data": {
      "image/png": "[encoded data removed]",
      "text/plain": [
       "<Figure size 576x360 with 1 Axes>"
      ]
     },
     "metadata": {
      "needs_background": "light"
     },
     "output_type": "display_data"
    }
   ],
   "source": [
    "fig_size = (8,5)\n",
    "fig, ax = plt.subplots(figsize = fig_size)\n",
    "sns.countplot(data=df, x=\"insured_occupation\")\n",
    "plt.xticks(rotation=90)\n",
    "plt.title(\"insured_occupation\", fontsize = 20)"
   ]
  },
  {
   "cell_type": "markdown",
   "metadata": {},
   "source": [
    "Machine-Op-Inspct and Prof-specialty is higher then others."
   ]
  },
  {
   "cell_type": "code",
   "execution_count": 19,
   "metadata": {},
   "outputs": [
    {
     "data": {
      "text/plain": [
       "Text(0.5, 1.0, 'insured_relationship')"
      ]
     },
     "execution_count": 19,
     "metadata": {},
     "output_type": "execute_result"
    },
    {
     "data": {
      "image/png": "[encoded data removed]",
      "text/plain": [
       "<Figure size 576x360 with 1 Axes>"
      ]
     },
     "metadata": {
      "needs_background": "light"
     },
     "output_type": "display_data"
    }
   ],
   "source": [
    "fig_size = (8,5)\n",
    "fig, ax = plt.subplots(figsize = fig_size)\n",
    "sns.countplot(data=df, x=\"insured_relationship\")\n",
    "plt.xticks(rotation=90)\n",
    "plt.title(\"insured_relationship\", fontsize = 20)"
   ]
  },
  {
   "cell_type": "markdown",
   "metadata": {},
   "source": [
    "Own-child is higher then others."
   ]
  },
  {
   "cell_type": "code",
   "execution_count": 20,
   "metadata": {},
   "outputs": [
    {
     "data": {
      "text/plain": [
       "Text(0.5, 1.0, 'incident_type')"
      ]
     },
     "execution_count": 20,
     "metadata": {},
     "output_type": "execute_result"
    },
    {
     "data": {
      "image/png": "[encoded data removed]",
      "text/plain": [
       "<Figure size 576x360 with 1 Axes>"
      ]
     },
     "metadata": {
      "needs_background": "light"
     },
     "output_type": "display_data"
    }
   ],
   "source": [
    "fig_size = (8,5)\n",
    "fig, ax = plt.subplots(figsize = fig_size)\n",
    "sns.countplot(data=df, x=\"incident_type\")\n",
    "plt.xticks(rotation=90)\n",
    "plt.title(\"incident_type\", fontsize = 20)"
   ]
  },
  {
   "cell_type": "markdown",
   "metadata": {},
   "source": [
    "Highest Case are Multi-vehicle collision and Singh Vehicle collision and other are few."
   ]
  },
  {
   "cell_type": "code",
   "execution_count": 21,
   "metadata": {},
   "outputs": [
    {
     "data": {
      "text/plain": [
       "array(['Side Collision', '?', 'Rear Collision', 'Front Collision'],\n",
       "      dtype=object)"
      ]
     },
     "execution_count": 21,
     "metadata": {},
     "output_type": "execute_result"
    }
   ],
   "source": [
    "df['collision_type'].unique()"
   ]
  },
  {
   "cell_type": "code",
   "execution_count": 22,
   "metadata": {},
   "outputs": [],
   "source": [
    "df['collision_type'] = df['collision_type'].replace(['?'],np.nan)"
   ]
  },
  {
   "cell_type": "code",
   "execution_count": 23,
   "metadata": {},
   "outputs": [],
   "source": [
    "df = df.fillna(df['collision_type'].value_counts().index[0])"
   ]
  },
  {
   "cell_type": "markdown",
   "metadata": {},
   "source": [
    "Replacing ? value from Collision_type column and converting as NaN and treating as NaN. "
   ]
  },
  {
   "cell_type": "code",
   "execution_count": 24,
   "metadata": {},
   "outputs": [
    {
     "data": {
      "text/plain": [
       "Text(0.5, 1.0, 'collision_type')"
      ]
     },
     "execution_count": 24,
     "metadata": {},
     "output_type": "execute_result"
    },
    {
     "data": {
      "image/png": "[encoded data removed]",
      "text/plain": [
       "<Figure size 576x360 with 1 Axes>"
      ]
     },
     "metadata": {
      "needs_background": "light"
     },
     "output_type": "display_data"
    }
   ],
   "source": [
    "fig_size = (8,5)\n",
    "fig, ax = plt.subplots(figsize = fig_size)\n",
    "sns.countplot(data=df, x=\"collision_type\")\n",
    "plt.xticks(rotation=90)\n",
    "plt.title(\"collision_type\", fontsize = 20)"
   ]
  },
  {
   "cell_type": "markdown",
   "metadata": {},
   "source": [
    "the maximum case are Rear Collision."
   ]
  },
  {
   "cell_type": "code",
   "execution_count": 25,
   "metadata": {},
   "outputs": [
    {
     "data": {
      "text/plain": [
       "Text(0.5, 1.0, 'incident_severity')"
      ]
     },
     "execution_count": 25,
     "metadata": {},
     "output_type": "execute_result"
    },
    {
     "data": {
      "image/png": "[encoded data removed]",
      "text/plain": [
       "<Figure size 576x360 with 1 Axes>"
      ]
     },
     "metadata": {
      "needs_background": "light"
     },
     "output_type": "display_data"
    }
   ],
   "source": [
    "fig_size = (8,5)\n",
    "fig, ax = plt.subplots(figsize = fig_size)\n",
    "sns.countplot(data=df, x=\"incident_severity\")\n",
    "plt.xticks(rotation=90)\n",
    "plt.title(\"incident_severity\", fontsize = 20)"
   ]
  },
  {
   "cell_type": "markdown",
   "metadata": {},
   "source": [
    "Highest case are Minor Damage and Second or third highest are Major and Total Loss."
   ]
  },
  {
   "cell_type": "code",
   "execution_count": 26,
   "metadata": {},
   "outputs": [
    {
     "data": {
      "text/plain": [
       "Text(0.5, 1.0, 'authorities_contacted')"
      ]
     },
     "execution_count": 26,
     "metadata": {},
     "output_type": "execute_result"
    },
    {
     "data": {
      "image/png": "[encoded data removed]",
      "text/plain": [
       "<Figure size 576x360 with 1 Axes>"
      ]
     },
     "metadata": {
      "needs_background": "light"
     },
     "output_type": "display_data"
    }
   ],
   "source": [
    "fig_size = (8,5)\n",
    "fig, ax = plt.subplots(figsize = fig_size)\n",
    "sns.countplot(data=df, x=\"authorities_contacted\")\n",
    "plt.xticks(rotation=90)\n",
    "plt.title(\"authorities_contacted\", fontsize = 20)"
   ]
  },
  {
   "cell_type": "markdown",
   "metadata": {},
   "source": [
    "In Maximum case police authorities contacted."
   ]
  },
  {
   "cell_type": "code",
   "execution_count": 27,
   "metadata": {},
   "outputs": [
    {
     "data": {
      "text/plain": [
       "Text(0.5, 1.0, 'incident_state')"
      ]
     },
     "execution_count": 27,
     "metadata": {},
     "output_type": "execute_result"
    },
    {
     "data": {
      "image/png": "[encoded data removed]",
      "text/plain": [
       "<Figure size 576x360 with 1 Axes>"
      ]
     },
     "metadata": {
      "needs_background": "light"
     },
     "output_type": "display_data"
    }
   ],
   "source": [
    "fig_size = (8,5)\n",
    "fig, ax = plt.subplots(figsize = fig_size)\n",
    "sns.countplot(data=df, x=\"incident_state\")\n",
    "plt.xticks(rotation=90)\n",
    "plt.title(\"incident_state\", fontsize = 20)"
   ]
  },
  {
   "cell_type": "markdown",
   "metadata": {},
   "source": [
    "Highest NY and SC, WV are second highest. "
   ]
  },
  {
   "cell_type": "code",
   "execution_count": 28,
   "metadata": {},
   "outputs": [
    {
     "data": {
      "text/plain": [
       "Text(0.5, 1.0, 'fraud_reported')"
      ]
     },
     "execution_count": 28,
     "metadata": {},
     "output_type": "execute_result"
    },
    {
     "data": {
      "image/png": "[encoded data removed]",
      "text/plain": [
       "<Figure size 576x360 with 1 Axes>"
      ]
     },
     "metadata": {
      "needs_background": "light"
     },
     "output_type": "display_data"
    }
   ],
   "source": [
    "fig_size = (8,5)\n",
    "fig, ax = plt.subplots(figsize = fig_size)\n",
    "sns.countplot(data=df, x=\"fraud_reported\")\n",
    "plt.xticks(rotation=90)\n",
    "plt.title(\"fraud_reported\", fontsize = 20)"
   ]
  },
  {
   "cell_type": "markdown",
   "metadata": {},
   "source": [
    "According to data maximum are not Fraud_reported."
   ]
  },
  {
   "cell_type": "markdown",
   "metadata": {},
   "source": [
    "# Bivariate Aanalysis"
   ]
  },
  {
   "cell_type": "code",
   "execution_count": 29,
   "metadata": {},
   "outputs": [
    {
     "data": {
      "text/plain": [
       "<AxesSubplot:xlabel='fraud_reported', ylabel='months_as_customer'>"
      ]
     },
     "execution_count": 29,
     "metadata": {},
     "output_type": "execute_result"
    },
    {
     "data": {
      "image/png": "[encoded data removed]",
      "text/plain": [
       "<Figure size 432x432 with 1 Axes>"
      ]
     },
     "metadata": {
      "needs_background": "light"
     },
     "output_type": "display_data"
    }
   ],
   "source": [
    "plt.figure(figsize = (6,6))\n",
    "sns.barplot( x = 'fraud_reported' , y ='months_as_customer', data = df , dodge = True ,color = 'Green' , saturation = 0.4)"
   ]
  },
  {
   "cell_type": "markdown",
   "metadata": {},
   "source": [
    "In here we are not able to find much relation in between this feature and our target variable ."
   ]
  },
  {
   "cell_type": "code",
   "execution_count": 30,
   "metadata": {},
   "outputs": [
    {
     "data": {
      "text/plain": [
       "<AxesSubplot:xlabel='age', ylabel='count'>"
      ]
     },
     "execution_count": 30,
     "metadata": {},
     "output_type": "execute_result"
    },
    {
     "data": {
      "image/png": "[encoded data removed]",
      "text/plain": [
       "<Figure size 864x432 with 1 Axes>"
      ]
     },
     "metadata": {
      "needs_background": "light"
     },
     "output_type": "display_data"
    }
   ],
   "source": [
    "plt.figure(figsize = (12,6))\n",
    "sns.countplot(x = 'age' , hue = 'fraud_reported' , data = df , dodge = True , color = 'Green' , saturation = 1)"
   ]
  },
  {
   "cell_type": "markdown",
   "metadata": {},
   "source": [
    "Maximum Fraud_reported age between 41 and second highest are 30 to 40."
   ]
  },
  {
   "cell_type": "code",
   "execution_count": 31,
   "metadata": {},
   "outputs": [
    {
     "data": {
      "text/plain": [
       "<AxesSubplot:xlabel='policy_state', ylabel='count'>"
      ]
     },
     "execution_count": 31,
     "metadata": {},
     "output_type": "execute_result"
    },
    {
     "data": {
      "image/png": "[encoded data removed]",
      "text/plain": [
       "<Figure size 864x432 with 1 Axes>"
      ]
     },
     "metadata": {
      "needs_background": "light"
     },
     "output_type": "display_data"
    }
   ],
   "source": [
    "plt.figure(figsize = (12,6))\n",
    "sns.countplot(x = 'policy_state' , hue = 'fraud_reported' , data = df , dodge = True , color = 'Green' , saturation = 1)"
   ]
  },
  {
   "cell_type": "markdown",
   "metadata": {},
   "source": [
    "From above we can observe that OH has max fraud reported and IN is a state with less case reported ."
   ]
  },
  {
   "cell_type": "code",
   "execution_count": 32,
   "metadata": {},
   "outputs": [
    {
     "data": {
      "text/plain": [
       "<AxesSubplot:xlabel='policy_deductable', ylabel='count'>"
      ]
     },
     "execution_count": 32,
     "metadata": {},
     "output_type": "execute_result"
    },
    {
     "data": {
      "image/png": "[encoded data removed]",
      "text/plain": [
       "<Figure size 864x432 with 1 Axes>"
      ]
     },
     "metadata": {
      "needs_background": "light"
     },
     "output_type": "display_data"
    }
   ],
   "source": [
    "plt.figure(figsize = (12,6))\n",
    "sns.countplot(x = 'policy_deductable' , hue = 'fraud_reported' , data = df , dodge = True , color = 'Green' , saturation = 1)"
   ]
  },
  {
   "cell_type": "markdown",
   "metadata": {},
   "source": [
    "From above we can observe that policy_deductable with 500 has the highest fraud reports."
   ]
  },
  {
   "cell_type": "code",
   "execution_count": 33,
   "metadata": {},
   "outputs": [
    {
     "data": {
      "text/plain": [
       "<AxesSubplot:xlabel='fraud_reported', ylabel='policy_annual_premium'>"
      ]
     },
     "execution_count": 33,
     "metadata": {},
     "output_type": "execute_result"
    },
    {
     "data": {
      "image/png": "[encoded data removed]",
      "text/plain": [
       "<Figure size 576x288 with 1 Axes>"
      ]
     },
     "metadata": {
      "needs_background": "light"
     },
     "output_type": "display_data"
    }
   ],
   "source": [
    "plt.figure(figsize = (8,4))\n",
    "sns.barplot(x = 'fraud_reported', y = 'policy_annual_premium' , data = df , dodge = True , color = 'Green' , saturation = 1)"
   ]
  },
  {
   "cell_type": "markdown",
   "metadata": {},
   "source": [
    "From above we can observe that there is not much variations in this dataset."
   ]
  },
  {
   "cell_type": "code",
   "execution_count": 34,
   "metadata": {},
   "outputs": [
    {
     "data": {
      "text/plain": [
       " 0           798\n",
       " 6000000      57\n",
       " 5000000      46\n",
       " 4000000      39\n",
       " 7000000      29\n",
       " 3000000      12\n",
       " 8000000       8\n",
       " 9000000       5\n",
       " 2000000       3\n",
       " 10000000      2\n",
       "-1000000       1\n",
       "Name: umbrella_limit, dtype: int64"
      ]
     },
     "execution_count": 34,
     "metadata": {},
     "output_type": "execute_result"
    }
   ],
   "source": [
    "df['umbrella_limit'].value_counts()"
   ]
  },
  {
   "cell_type": "code",
   "execution_count": 35,
   "metadata": {},
   "outputs": [],
   "source": [
    "df['umbrella_limit'].replace([6000000 ,  5000000 , 4000000 ,  7000000 , \n",
    "                              3000000 , 8000000 ,9000000 , 2000000 , 10000000 ,-1000000] , 1 , inplace = True )"
   ]
  },
  {
   "cell_type": "code",
   "execution_count": 36,
   "metadata": {},
   "outputs": [
    {
     "data": {
      "text/plain": [
       "0    798\n",
       "1    202\n",
       "Name: umbrella_limit, dtype: int64"
      ]
     },
     "execution_count": 36,
     "metadata": {},
     "output_type": "execute_result"
    }
   ],
   "source": [
    "df['umbrella_limit'].value_counts()"
   ]
  },
  {
   "cell_type": "markdown",
   "metadata": {},
   "source": [
    "As we see in umbrella_limit columns 0 or other values are present so know we are taking others values as 1."
   ]
  },
  {
   "cell_type": "code",
   "execution_count": 37,
   "metadata": {},
   "outputs": [
    {
     "data": {
      "text/plain": [
       "<AxesSubplot:xlabel='umbrella_limit', ylabel='count'>"
      ]
     },
     "execution_count": 37,
     "metadata": {},
     "output_type": "execute_result"
    },
    {
     "data": {
      "image/png": "[encoded data removed]",
      "text/plain": [
       "<Figure size 864x432 with 1 Axes>"
      ]
     },
     "metadata": {
      "needs_background": "light"
     },
     "output_type": "display_data"
    }
   ],
   "source": [
    "plt.figure(figsize = (12,6))\n",
    "sns.countplot(x = 'umbrella_limit' , hue = 'fraud_reported' , data = df , dodge = True , color = 'Green' , saturation = 1)"
   ]
  },
  {
   "cell_type": "markdown",
   "metadata": {},
   "source": [
    "From above we can observe that 0 has max fraud reported and 1 is is less case reported "
   ]
  },
  {
   "cell_type": "code",
   "execution_count": 38,
   "metadata": {},
   "outputs": [
    {
     "data": {
      "text/plain": [
       "<AxesSubplot:xlabel='fraud_reported', ylabel='insured_zip'>"
      ]
     },
     "execution_count": 38,
     "metadata": {},
     "output_type": "execute_result"
    },
    {
     "data": {
      "image/png": "[encoded data removed]",
      "text/plain": [
       "<Figure size 576x288 with 1 Axes>"
      ]
     },
     "metadata": {
      "needs_background": "light"
     },
     "output_type": "display_data"
    }
   ],
   "source": [
    "plt.figure(figsize = (8,4))\n",
    "sns.barplot(x = 'fraud_reported', y = 'insured_zip' , data = df , dodge = True , color = 'Green' , saturation = 1)"
   ]
  },
  {
   "cell_type": "markdown",
   "metadata": {},
   "source": [
    "From above we can observe that there is not much variations in this feature."
   ]
  },
  {
   "cell_type": "code",
   "execution_count": 39,
   "metadata": {},
   "outputs": [
    {
     "data": {
      "text/plain": [
       "<AxesSubplot:xlabel='fraud_reported', ylabel='capital-gains'>"
      ]
     },
     "execution_count": 39,
     "metadata": {},
     "output_type": "execute_result"
    },
    {
     "data": {
      "image/png": "[encoded data removed]",
      "text/plain": [
       "<Figure size 576x288 with 1 Axes>"
      ]
     },
     "metadata": {
      "needs_background": "light"
     },
     "output_type": "display_data"
    }
   ],
   "source": [
    "plt.figure(figsize = (8,4))\n",
    "sns.barplot(x = 'fraud_reported',y = 'capital-gains' , data = df , dodge = True , color = 'Green' , saturation = 1)"
   ]
  },
  {
   "cell_type": "markdown",
   "metadata": {},
   "source": [
    "From above we can observe that 0 is minor highest then 1."
   ]
  },
  {
   "cell_type": "code",
   "execution_count": 40,
   "metadata": {},
   "outputs": [
    {
     "data": {
      "text/plain": [
       "<AxesSubplot:xlabel='fraud_reported', ylabel='capital-loss'>"
      ]
     },
     "execution_count": 40,
     "metadata": {},
     "output_type": "execute_result"
    },
    {
     "data": {
      "image/png": "[encoded data removed]",
      "text/plain": [
       "<Figure size 576x288 with 1 Axes>"
      ]
     },
     "metadata": {
      "needs_background": "light"
     },
     "output_type": "display_data"
    }
   ],
   "source": [
    "plt.figure(figsize = (8,4))\n",
    "sns.barplot(x = 'fraud_reported', y = 'capital-loss' , data = df , dodge = True , color = 'Green' , saturation = 1)"
   ]
  },
  {
   "cell_type": "markdown",
   "metadata": {},
   "source": [
    "From above we can observe that 1 is minor highest then 0."
   ]
  },
  {
   "cell_type": "code",
   "execution_count": 41,
   "metadata": {},
   "outputs": [
    {
     "data": {
      "text/plain": [
       "<AxesSubplot:xlabel='incident_hour_of_the_day', ylabel='count'>"
      ]
     },
     "execution_count": 41,
     "metadata": {},
     "output_type": "execute_result"
    },
    {
     "data": {
      "image/png": "[encoded data removed]",
      "text/plain": [
       "<Figure size 864x432 with 1 Axes>"
      ]
     },
     "metadata": {
      "needs_background": "light"
     },
     "output_type": "display_data"
    }
   ],
   "source": [
    "plt.figure(figsize = (12,6))\n",
    "sns.countplot(x = 'incident_hour_of_the_day' , hue = 'fraud_reported' , data = df , dodge = True , color = 'Green' , saturation = 1)"
   ]
  },
  {
   "cell_type": "markdown",
   "metadata": {},
   "source": [
    "According to the incident hour of the day maximum case between 10 to 18."
   ]
  },
  {
   "cell_type": "code",
   "execution_count": 42,
   "metadata": {},
   "outputs": [
    {
     "data": {
      "text/plain": [
       "<AxesSubplot:xlabel='number_of_vehicles_involved', ylabel='count'>"
      ]
     },
     "execution_count": 42,
     "metadata": {},
     "output_type": "execute_result"
    },
    {
     "data": {
      "image/png": "[encoded data removed]",
      "text/plain": [
       "<Figure size 864x432 with 1 Axes>"
      ]
     },
     "metadata": {
      "needs_background": "light"
     },
     "output_type": "display_data"
    }
   ],
   "source": [
    "plt.figure(figsize = (12,6))\n",
    "sns.countplot(x ='number_of_vehicles_involved' , hue = 'fraud_reported' , data = df , dodge = True , color = 'Green' , saturation = 1)"
   ]
  },
  {
   "cell_type": "markdown",
   "metadata": {},
   "source": [
    "From above we can observe that most number of vehicles involved are either 1 or 3."
   ]
  },
  {
   "cell_type": "code",
   "execution_count": 43,
   "metadata": {},
   "outputs": [
    {
     "data": {
      "text/plain": [
       "<AxesSubplot:xlabel='property_damage', ylabel='count'>"
      ]
     },
     "execution_count": 43,
     "metadata": {},
     "output_type": "execute_result"
    },
    {
     "data": {
      "image/png": "[encoded data removed]",
      "text/plain": [
       "<Figure size 864x432 with 1 Axes>"
      ]
     },
     "metadata": {
      "needs_background": "light"
     },
     "output_type": "display_data"
    }
   ],
   "source": [
    "plt.figure(figsize = (12,6))\n",
    "sns.countplot(x ='property_damage' , hue = 'fraud_reported' , data = df , dodge = True , color = 'Green' , saturation = 1)"
   ]
  },
  {
   "cell_type": "markdown",
   "metadata": {},
   "source": [
    "\n",
    "From above we can observe that ther are values which are not known , so we will deal with them later on."
   ]
  },
  {
   "cell_type": "code",
   "execution_count": 44,
   "metadata": {},
   "outputs": [
    {
     "data": {
      "text/plain": [
       "<AxesSubplot:xlabel='bodily_injuries', ylabel='count'>"
      ]
     },
     "execution_count": 44,
     "metadata": {},
     "output_type": "execute_result"
    },
    {
     "data": {
      "image/png": "[encoded data removed]",
      "text/plain": [
       "<Figure size 864x432 with 1 Axes>"
      ]
     },
     "metadata": {
      "needs_background": "light"
     },
     "output_type": "display_data"
    }
   ],
   "source": [
    "plt.figure(figsize = (12,6))\n",
    "sns.countplot(x ='bodily_injuries' , hue = 'fraud_reported' , data = df , dodge = True , color = 'Green' , saturation = 1)"
   ]
  },
  {
   "cell_type": "markdown",
   "metadata": {},
   "source": [
    "From above we can observe that bodily reported as 2 has the highest fraud reports."
   ]
  },
  {
   "cell_type": "code",
   "execution_count": 45,
   "metadata": {},
   "outputs": [
    {
     "data": {
      "text/plain": [
       "<AxesSubplot:xlabel='witnesses', ylabel='count'>"
      ]
     },
     "execution_count": 45,
     "metadata": {},
     "output_type": "execute_result"
    },
    {
     "data": {
      "image/png": "[encoded data removed]",
      "text/plain": [
       "<Figure size 864x432 with 1 Axes>"
      ]
     },
     "metadata": {
      "needs_background": "light"
     },
     "output_type": "display_data"
    }
   ],
   "source": [
    "plt.figure(figsize = (12,6))\n",
    "sns.countplot(x ='witnesses' , hue = 'fraud_reported' , data = df , dodge = True , color = 'Green' , saturation = 1)"
   ]
  },
  {
   "cell_type": "markdown",
   "metadata": {},
   "source": [
    "From above we can observe that the cases which has 2 witnessess has the highest fraud reported."
   ]
  },
  {
   "cell_type": "code",
   "execution_count": 46,
   "metadata": {},
   "outputs": [
    {
     "data": {
      "text/plain": [
       "<AxesSubplot:xlabel='fraud_reported', ylabel='total_claim_amount'>"
      ]
     },
     "execution_count": 46,
     "metadata": {},
     "output_type": "execute_result"
    },
    {
     "data": {
      "image/png": "[encoded data removed]",
      "text/plain": [
       "<Figure size 576x288 with 1 Axes>"
      ]
     },
     "metadata": {
      "needs_background": "light"
     },
     "output_type": "display_data"
    }
   ],
   "source": [
    "plt.figure(figsize = (8,4))\n",
    "sns.barplot(x = 'fraud_reported',y ='total_claim_amount' , data = df , dodge = True , color = 'Green' , saturation = 1)"
   ]
  },
  {
   "cell_type": "code",
   "execution_count": 47,
   "metadata": {},
   "outputs": [
    {
     "data": {
      "text/plain": [
       "<AxesSubplot:xlabel='fraud_reported', ylabel='injury_claim'>"
      ]
     },
     "execution_count": 47,
     "metadata": {},
     "output_type": "execute_result"
    },
    {
     "data": {
      "image/png": "[encoded data removed]",
      "text/plain": [
       "<Figure size 576x288 with 1 Axes>"
      ]
     },
     "metadata": {
      "needs_background": "light"
     },
     "output_type": "display_data"
    }
   ],
   "source": [
    "plt.figure(figsize = (8,4))\n",
    "sns.barplot(x = 'fraud_reported',y ='injury_claim' , data = df , dodge = True , color = 'Green' , saturation = 1)"
   ]
  },
  {
   "cell_type": "code",
   "execution_count": 48,
   "metadata": {},
   "outputs": [
    {
     "data": {
      "text/plain": [
       "<AxesSubplot:xlabel='fraud_reported', ylabel='property_claim'>"
      ]
     },
     "execution_count": 48,
     "metadata": {},
     "output_type": "execute_result"
    },
    {
     "data": {
      "image/png": "[encoded data removed]",
      "text/plain": [
       "<Figure size 576x288 with 1 Axes>"
      ]
     },
     "metadata": {
      "needs_background": "light"
     },
     "output_type": "display_data"
    }
   ],
   "source": [
    "plt.figure(figsize = (8,4))\n",
    "sns.barplot(x = 'fraud_reported',y ='property_claim' , data = df , dodge = True , color = 'Green' , saturation = 1)"
   ]
  },
  {
   "cell_type": "code",
   "execution_count": 49,
   "metadata": {},
   "outputs": [
    {
     "data": {
      "text/plain": [
       "<AxesSubplot:xlabel='fraud_reported', ylabel='vehicle_claim'>"
      ]
     },
     "execution_count": 49,
     "metadata": {},
     "output_type": "execute_result"
    },
    {
     "data": {
      "image/png": "[encoded data removed]",
      "text/plain": [
       "<Figure size 576x288 with 1 Axes>"
      ]
     },
     "metadata": {
      "needs_background": "light"
     },
     "output_type": "display_data"
    }
   ],
   "source": [
    "plt.figure(figsize = (8,4))\n",
    "sns.barplot(x = 'fraud_reported',y ='vehicle_claim' , data = df , dodge = True , color = 'Green' , saturation = 1)"
   ]
  },
  {
   "cell_type": "code",
   "execution_count": 50,
   "metadata": {},
   "outputs": [
    {
     "data": {
      "text/plain": [
       "<AxesSubplot:xlabel='auto_year', ylabel='count'>"
      ]
     },
     "execution_count": 50,
     "metadata": {},
     "output_type": "execute_result"
    },
    {
     "data": {
      "image/png": "[encoded data removed]",
      "text/plain": [
       "<Figure size 864x432 with 1 Axes>"
      ]
     },
     "metadata": {
      "needs_background": "light"
     },
     "output_type": "display_data"
    }
   ],
   "source": [
    "plt.figure(figsize = (12,6))\n",
    "sns.countplot(x = 'auto_year',hue ='fraud_reported' , data = df , dodge = True , color = 'Green' , saturation = 1)"
   ]
  },
  {
   "cell_type": "code",
   "execution_count": 51,
   "metadata": {},
   "outputs": [
    {
     "data": {
      "text/plain": [
       "<AxesSubplot:xlabel='policy_state', ylabel='count'>"
      ]
     },
     "execution_count": 51,
     "metadata": {},
     "output_type": "execute_result"
    },
    {
     "data": {
      "image/png": "[encoded data removed]",
      "text/plain": [
       "<Figure size 864x432 with 1 Axes>"
      ]
     },
     "metadata": {
      "needs_background": "light"
     },
     "output_type": "display_data"
    }
   ],
   "source": [
    "plt.figure(figsize = (12,6))\n",
    "sns.countplot(x = 'policy_state',hue ='fraud_reported' , data = df , dodge = True , color = 'Green' , saturation = 1)"
   ]
  },
  {
   "cell_type": "markdown",
   "metadata": {},
   "source": [
    "OH is highest fraud_reported then others."
   ]
  },
  {
   "cell_type": "code",
   "execution_count": null,
   "metadata": {},
   "outputs": [],
   "source": []
  },
  {
   "cell_type": "code",
   "execution_count": 52,
   "metadata": {},
   "outputs": [
    {
     "data": {
      "text/plain": [
       "<AxesSubplot:xlabel='insured_occupation', ylabel='count'>"
      ]
     },
     "execution_count": 52,
     "metadata": {},
     "output_type": "execute_result"
    },
    {
     "data": {
      "image/png": "[encoded data removed]",
      "text/plain": [
       "<Figure size 1440x720 with 1 Axes>"
      ]
     },
     "metadata": {
      "needs_background": "light"
     },
     "output_type": "display_data"
    }
   ],
   "source": [
    "plt.figure(figsize = (20,10))\n",
    "sns.countplot(x = 'insured_occupation',hue ='fraud_reported' , data = df , dodge = True , color = 'Green' , saturation = 1)"
   ]
  },
  {
   "cell_type": "markdown",
   "metadata": {},
   "source": [
    "From above we can observe that people who has an occupation of exec_managerial has the highest fraud_reported."
   ]
  },
  {
   "cell_type": "code",
   "execution_count": 53,
   "metadata": {},
   "outputs": [
    {
     "data": {
      "text/plain": [
       "<AxesSubplot:xlabel='incident_type', ylabel='count'>"
      ]
     },
     "execution_count": 53,
     "metadata": {},
     "output_type": "execute_result"
    },
    {
     "data": {
      "image/png": "[encoded data removed]",
      "text/plain": [
       "<Figure size 864x432 with 1 Axes>"
      ]
     },
     "metadata": {
      "needs_background": "light"
     },
     "output_type": "display_data"
    }
   ],
   "source": [
    "plt.figure(figsize = (12,6))\n",
    "sns.countplot(x = 'incident_type',hue ='fraud_reported' , data = df , dodge = True , color = 'Green' , saturation = 1)"
   ]
  },
  {
   "cell_type": "code",
   "execution_count": 54,
   "metadata": {},
   "outputs": [
    {
     "data": {
      "text/plain": [
       "<AxesSubplot:xlabel='collision_type', ylabel='count'>"
      ]
     },
     "execution_count": 54,
     "metadata": {},
     "output_type": "execute_result"
    },
    {
     "data": {
      "image/png": "[encoded data removed]",
      "text/plain": [
       "<Figure size 864x432 with 1 Axes>"
      ]
     },
     "metadata": {
      "needs_background": "light"
     },
     "output_type": "display_data"
    }
   ],
   "source": [
    "plt.figure(figsize = (12,6))\n",
    "sns.countplot(x = 'collision_type',hue ='fraud_reported' , data = df , dodge = True , color = 'Green' , saturation = 1)"
   ]
  },
  {
   "cell_type": "code",
   "execution_count": 55,
   "metadata": {},
   "outputs": [
    {
     "data": {
      "text/plain": [
       "<AxesSubplot:xlabel='incident_severity', ylabel='count'>"
      ]
     },
     "execution_count": 55,
     "metadata": {},
     "output_type": "execute_result"
    },
    {
     "data": {
      "image/png": "[encoded data removed]",
      "text/plain": [
       "<Figure size 864x432 with 1 Axes>"
      ]
     },
     "metadata": {
      "needs_background": "light"
     },
     "output_type": "display_data"
    }
   ],
   "source": [
    "plt.figure(figsize = (12,6))\n",
    "sns.countplot(x = 'incident_severity',hue ='fraud_reported' , data = df , dodge = True , color = 'Green' , saturation = 1)"
   ]
  },
  {
   "cell_type": "code",
   "execution_count": 56,
   "metadata": {},
   "outputs": [
    {
     "data": {
      "text/plain": [
       "<AxesSubplot:xlabel='authorities_contacted', ylabel='count'>"
      ]
     },
     "execution_count": 56,
     "metadata": {},
     "output_type": "execute_result"
    },
    {
     "data": {
      "image/png": "[encoded data removed]",
      "text/plain": [
       "<Figure size 864x432 with 1 Axes>"
      ]
     },
     "metadata": {
      "needs_background": "light"
     },
     "output_type": "display_data"
    }
   ],
   "source": [
    "plt.figure(figsize = (12,6))\n",
    "sns.countplot(x = 'authorities_contacted',hue ='fraud_reported' , data = df , dodge = True , color = 'Green' , saturation = 1)"
   ]
  },
  {
   "cell_type": "code",
   "execution_count": 57,
   "metadata": {},
   "outputs": [
    {
     "data": {
      "text/plain": [
       "<AxesSubplot:xlabel='incident_state', ylabel='count'>"
      ]
     },
     "execution_count": 57,
     "metadata": {},
     "output_type": "execute_result"
    },
    {
     "data": {
      "image/png": "[encoded data removed]",
      "text/plain": [
       "<Figure size 864x432 with 1 Axes>"
      ]
     },
     "metadata": {
      "needs_background": "light"
     },
     "output_type": "display_data"
    }
   ],
   "source": [
    "plt.figure(figsize = (12,6))\n",
    "sns.countplot(x = 'incident_state',hue ='fraud_reported' , data = df , dodge = True , color = 'Green' , saturation = 1)"
   ]
  },
  {
   "cell_type": "code",
   "execution_count": 58,
   "metadata": {},
   "outputs": [
    {
     "data": {
      "text/plain": [
       "<AxesSubplot:xlabel='incident_city', ylabel='count'>"
      ]
     },
     "execution_count": 58,
     "metadata": {},
     "output_type": "execute_result"
    },
    {
     "data": {
      "image/png": "[encoded data removed]",
      "text/plain": [
       "<Figure size 864x432 with 1 Axes>"
      ]
     },
     "metadata": {
      "needs_background": "light"
     },
     "output_type": "display_data"
    }
   ],
   "source": [
    "plt.figure(figsize = (12,6))\n",
    "sns.countplot(x = 'incident_city',hue ='fraud_reported' , data = df , dodge = True , color = 'Green' , saturation = 1)"
   ]
  },
  {
   "cell_type": "code",
   "execution_count": 59,
   "metadata": {},
   "outputs": [
    {
     "data": {
      "text/plain": [
       "<AxesSubplot:xlabel='property_damage', ylabel='count'>"
      ]
     },
     "execution_count": 59,
     "metadata": {},
     "output_type": "execute_result"
    },
    {
     "data": {
      "image/png": "[encoded data removed]",
      "text/plain": [
       "<Figure size 864x432 with 1 Axes>"
      ]
     },
     "metadata": {
      "needs_background": "light"
     },
     "output_type": "display_data"
    }
   ],
   "source": [
    "plt.figure(figsize = (12,6))\n",
    "sns.countplot(x = 'property_damage',hue ='fraud_reported' , data = df , dodge = True , color = 'Green' , saturation = 1)"
   ]
  },
  {
   "cell_type": "code",
   "execution_count": 60,
   "metadata": {},
   "outputs": [
    {
     "data": {
      "text/plain": [
       "<AxesSubplot:xlabel='police_report_available', ylabel='count'>"
      ]
     },
     "execution_count": 60,
     "metadata": {},
     "output_type": "execute_result"
    },
    {
     "data": {
      "image/png": "[encoded data removed]",
      "text/plain": [
       "<Figure size 864x432 with 1 Axes>"
      ]
     },
     "metadata": {
      "needs_background": "light"
     },
     "output_type": "display_data"
    }
   ],
   "source": [
    "plt.figure(figsize = (12,6))\n",
    "sns.countplot(x = 'police_report_available',hue ='fraud_reported' , data = df , dodge = True , color = 'Green' , saturation = 1)"
   ]
  },
  {
   "cell_type": "code",
   "execution_count": 61,
   "metadata": {},
   "outputs": [
    {
     "data": {
      "text/plain": [
       "<AxesSubplot:xlabel='auto_make', ylabel='count'>"
      ]
     },
     "execution_count": 61,
     "metadata": {},
     "output_type": "execute_result"
    },
    {
     "data": {
      "image/png": "[encoded data removed]",
      "text/plain": [
       "<Figure size 864x432 with 1 Axes>"
      ]
     },
     "metadata": {
      "needs_background": "light"
     },
     "output_type": "display_data"
    }
   ],
   "source": [
    "plt.figure(figsize = (12,6))\n",
    "sns.countplot(x = 'auto_make',hue ='fraud_reported' , data = df , dodge = True , color = 'Green' , saturation = 1)"
   ]
  },
  {
   "cell_type": "code",
   "execution_count": 62,
   "metadata": {},
   "outputs": [
    {
     "data": {
      "text/plain": [
       "<AxesSubplot:xlabel='auto_model', ylabel='count'>"
      ]
     },
     "execution_count": 62,
     "metadata": {},
     "output_type": "execute_result"
    },
    {
     "data": {
      "image/png": "[encoded data removed]",
      "text/plain": [
       "<Figure size 864x432 with 1 Axes>"
      ]
     },
     "metadata": {
      "needs_background": "light"
     },
     "output_type": "display_data"
    }
   ],
   "source": [
    "plt.figure(figsize = (12,6))\n",
    "plt.xticks(rotation=60)\n",
    "sns.countplot(x = 'auto_model',hue ='fraud_reported' , data = df , dodge = True , color = 'Green' , saturation = 1)"
   ]
  },
  {
   "cell_type": "markdown",
   "metadata": {},
   "source": [
    "# Feature Engg."
   ]
  },
  {
   "cell_type": "code",
   "execution_count": 63,
   "metadata": {},
   "outputs": [
    {
     "data": {
      "text/html": [
       "<div>\n",
       "<style scoped>\n",
       "    .dataframe tbody tr th:only-of-type {\n",
       "        vertical-align: middle;\n",
       "    }\n",
       "\n",
       "    .dataframe tbody tr th {\n",
       "        vertical-align: top;\n",
       "    }\n",
       "\n",
       "    .dataframe thead th {\n",
       "        text-align: right;\n",
       "    }\n",
       "</style>\n",
       "<table border=\"1\" class=\"dataframe\">\n",
       "  <thead>\n",
       "    <tr style=\"text-align: right;\">\n",
       "      <th></th>\n",
       "      <th>months_as_customer</th>\n",
       "      <th>age</th>\n",
       "      <th>policy_number</th>\n",
       "      <th>policy_bind_date</th>\n",
       "      <th>policy_state</th>\n",
       "      <th>policy_csl</th>\n",
       "      <th>policy_deductable</th>\n",
       "      <th>policy_annual_premium</th>\n",
       "      <th>umbrella_limit</th>\n",
       "      <th>insured_zip</th>\n",
       "      <th>...</th>\n",
       "      <th>witnesses</th>\n",
       "      <th>police_report_available</th>\n",
       "      <th>total_claim_amount</th>\n",
       "      <th>injury_claim</th>\n",
       "      <th>property_claim</th>\n",
       "      <th>vehicle_claim</th>\n",
       "      <th>auto_make</th>\n",
       "      <th>auto_model</th>\n",
       "      <th>auto_year</th>\n",
       "      <th>fraud_reported</th>\n",
       "    </tr>\n",
       "  </thead>\n",
       "  <tbody>\n",
       "    <tr>\n",
       "      <th>0</th>\n",
       "      <td>328</td>\n",
       "      <td>48</td>\n",
       "      <td>521585</td>\n",
       "      <td>17-10-2014</td>\n",
       "      <td>OH</td>\n",
       "      <td>250/500</td>\n",
       "      <td>1000</td>\n",
       "      <td>1406.91</td>\n",
       "      <td>0</td>\n",
       "      <td>466132</td>\n",
       "      <td>...</td>\n",
       "      <td>2</td>\n",
       "      <td>YES</td>\n",
       "      <td>71610</td>\n",
       "      <td>6510</td>\n",
       "      <td>13020</td>\n",
       "      <td>52080</td>\n",
       "      <td>Saab</td>\n",
       "      <td>92x</td>\n",
       "      <td>2004</td>\n",
       "      <td>1</td>\n",
       "    </tr>\n",
       "    <tr>\n",
       "      <th>1</th>\n",
       "      <td>228</td>\n",
       "      <td>42</td>\n",
       "      <td>342868</td>\n",
       "      <td>27-06-2006</td>\n",
       "      <td>IN</td>\n",
       "      <td>250/500</td>\n",
       "      <td>2000</td>\n",
       "      <td>1197.22</td>\n",
       "      <td>1</td>\n",
       "      <td>468176</td>\n",
       "      <td>...</td>\n",
       "      <td>0</td>\n",
       "      <td>?</td>\n",
       "      <td>5070</td>\n",
       "      <td>780</td>\n",
       "      <td>780</td>\n",
       "      <td>3510</td>\n",
       "      <td>Mercedes</td>\n",
       "      <td>E400</td>\n",
       "      <td>2007</td>\n",
       "      <td>1</td>\n",
       "    </tr>\n",
       "    <tr>\n",
       "      <th>2</th>\n",
       "      <td>134</td>\n",
       "      <td>29</td>\n",
       "      <td>687698</td>\n",
       "      <td>06-09-2000</td>\n",
       "      <td>OH</td>\n",
       "      <td>100/300</td>\n",
       "      <td>2000</td>\n",
       "      <td>1413.14</td>\n",
       "      <td>1</td>\n",
       "      <td>430632</td>\n",
       "      <td>...</td>\n",
       "      <td>3</td>\n",
       "      <td>NO</td>\n",
       "      <td>34650</td>\n",
       "      <td>7700</td>\n",
       "      <td>3850</td>\n",
       "      <td>23100</td>\n",
       "      <td>Dodge</td>\n",
       "      <td>RAM</td>\n",
       "      <td>2007</td>\n",
       "      <td>0</td>\n",
       "    </tr>\n",
       "    <tr>\n",
       "      <th>3</th>\n",
       "      <td>256</td>\n",
       "      <td>41</td>\n",
       "      <td>227811</td>\n",
       "      <td>25-05-1990</td>\n",
       "      <td>IL</td>\n",
       "      <td>250/500</td>\n",
       "      <td>2000</td>\n",
       "      <td>1415.74</td>\n",
       "      <td>1</td>\n",
       "      <td>608117</td>\n",
       "      <td>...</td>\n",
       "      <td>2</td>\n",
       "      <td>NO</td>\n",
       "      <td>63400</td>\n",
       "      <td>6340</td>\n",
       "      <td>6340</td>\n",
       "      <td>50720</td>\n",
       "      <td>Chevrolet</td>\n",
       "      <td>Tahoe</td>\n",
       "      <td>2014</td>\n",
       "      <td>1</td>\n",
       "    </tr>\n",
       "    <tr>\n",
       "      <th>4</th>\n",
       "      <td>228</td>\n",
       "      <td>44</td>\n",
       "      <td>367455</td>\n",
       "      <td>06-06-2014</td>\n",
       "      <td>IL</td>\n",
       "      <td>500/1000</td>\n",
       "      <td>1000</td>\n",
       "      <td>1583.91</td>\n",
       "      <td>1</td>\n",
       "      <td>610706</td>\n",
       "      <td>...</td>\n",
       "      <td>1</td>\n",
       "      <td>NO</td>\n",
       "      <td>6500</td>\n",
       "      <td>1300</td>\n",
       "      <td>650</td>\n",
       "      <td>4550</td>\n",
       "      <td>Accura</td>\n",
       "      <td>RSX</td>\n",
       "      <td>2009</td>\n",
       "      <td>0</td>\n",
       "    </tr>\n",
       "  </tbody>\n",
       "</table>\n",
       "<p>5 rows × 39 columns</p>\n",
       "</div>"
      ],
      "text/plain": [
       "   months_as_customer  age  policy_number policy_bind_date policy_state  \\\n",
       "0                 328   48         521585       17-10-2014           OH   \n",
       "1                 228   42         342868       27-06-2006           IN   \n",
       "2                 134   29         687698       06-09-2000           OH   \n",
       "3                 256   41         227811       25-05-1990           IL   \n",
       "4                 228   44         367455       06-06-2014           IL   \n",
       "\n",
       "  policy_csl  policy_deductable  policy_annual_premium  umbrella_limit  \\\n",
       "0    250/500               1000                1406.91               0   \n",
       "1    250/500               2000                1197.22               1   \n",
       "2    100/300               2000                1413.14               1   \n",
       "3    250/500               2000                1415.74               1   \n",
       "4   500/1000               1000                1583.91               1   \n",
       "\n",
       "   insured_zip  ... witnesses police_report_available total_claim_amount  \\\n",
       "0       466132  ...         2                     YES              71610   \n",
       "1       468176  ...         0                       ?               5070   \n",
       "2       430632  ...         3                      NO              34650   \n",
       "3       608117  ...         2                      NO              63400   \n",
       "4       610706  ...         1                      NO               6500   \n",
       "\n",
       "  injury_claim property_claim  vehicle_claim  auto_make auto_model auto_year  \\\n",
       "0         6510          13020          52080       Saab        92x      2004   \n",
       "1          780            780           3510   Mercedes       E400      2007   \n",
       "2         7700           3850          23100      Dodge        RAM      2007   \n",
       "3         6340           6340          50720  Chevrolet      Tahoe      2014   \n",
       "4         1300            650           4550     Accura        RSX      2009   \n",
       "\n",
       "  fraud_reported  \n",
       "0              1  \n",
       "1              1  \n",
       "2              0  \n",
       "3              1  \n",
       "4              0  \n",
       "\n",
       "[5 rows x 39 columns]"
      ]
     },
     "execution_count": 63,
     "metadata": {},
     "output_type": "execute_result"
    }
   ],
   "source": [
    "df.head()"
   ]
  },
  {
   "cell_type": "code",
   "execution_count": 64,
   "metadata": {},
   "outputs": [
    {
     "data": {
      "text/html": [
       "<div>\n",
       "<style scoped>\n",
       "    .dataframe tbody tr th:only-of-type {\n",
       "        vertical-align: middle;\n",
       "    }\n",
       "\n",
       "    .dataframe tbody tr th {\n",
       "        vertical-align: top;\n",
       "    }\n",
       "\n",
       "    .dataframe thead th {\n",
       "        text-align: right;\n",
       "    }\n",
       "</style>\n",
       "<table border=\"1\" class=\"dataframe\">\n",
       "  <thead>\n",
       "    <tr style=\"text-align: right;\">\n",
       "      <th></th>\n",
       "      <th>unique values</th>\n",
       "      <th>number of unique values</th>\n",
       "    </tr>\n",
       "  </thead>\n",
       "  <tbody>\n",
       "    <tr>\n",
       "      <th>months_as_customer</th>\n",
       "      <td>[328, 228, 134, 256, 137, 165, 27, 212, 235, 4...</td>\n",
       "      <td>391</td>\n",
       "    </tr>\n",
       "    <tr>\n",
       "      <th>age</th>\n",
       "      <td>[48, 42, 29, 41, 44, 39, 34, 37, 33, 61, 23, 3...</td>\n",
       "      <td>46</td>\n",
       "    </tr>\n",
       "    <tr>\n",
       "      <th>policy_number</th>\n",
       "      <td>[521585, 342868, 687698, 227811, 367455, 10459...</td>\n",
       "      <td>1000</td>\n",
       "    </tr>\n",
       "    <tr>\n",
       "      <th>policy_bind_date</th>\n",
       "      <td>[17-10-2014, 27-06-2006, 06-09-2000, 25-05-199...</td>\n",
       "      <td>951</td>\n",
       "    </tr>\n",
       "    <tr>\n",
       "      <th>policy_state</th>\n",
       "      <td>[OH, IN, IL]</td>\n",
       "      <td>3</td>\n",
       "    </tr>\n",
       "    <tr>\n",
       "      <th>policy_csl</th>\n",
       "      <td>[250/500, 100/300, 500/1000]</td>\n",
       "      <td>3</td>\n",
       "    </tr>\n",
       "    <tr>\n",
       "      <th>policy_deductable</th>\n",
       "      <td>[1000, 2000, 500]</td>\n",
       "      <td>3</td>\n",
       "    </tr>\n",
       "    <tr>\n",
       "      <th>policy_annual_premium</th>\n",
       "      <td>[1406.91, 1197.22, 1413.14, 1415.74, 1583.91, ...</td>\n",
       "      <td>991</td>\n",
       "    </tr>\n",
       "    <tr>\n",
       "      <th>umbrella_limit</th>\n",
       "      <td>[0, 1]</td>\n",
       "      <td>2</td>\n",
       "    </tr>\n",
       "    <tr>\n",
       "      <th>insured_zip</th>\n",
       "      <td>[466132, 468176, 430632, 608117, 610706, 47845...</td>\n",
       "      <td>995</td>\n",
       "    </tr>\n",
       "    <tr>\n",
       "      <th>insured_sex</th>\n",
       "      <td>[MALE, FEMALE]</td>\n",
       "      <td>2</td>\n",
       "    </tr>\n",
       "    <tr>\n",
       "      <th>insured_education_level</th>\n",
       "      <td>[MD, PhD, Associate, Masters, High School, Col...</td>\n",
       "      <td>7</td>\n",
       "    </tr>\n",
       "    <tr>\n",
       "      <th>insured_occupation</th>\n",
       "      <td>[craft-repair, machine-op-inspct, sales, armed...</td>\n",
       "      <td>14</td>\n",
       "    </tr>\n",
       "    <tr>\n",
       "      <th>insured_hobbies</th>\n",
       "      <td>[sleeping, reading, board-games, bungie-jumpin...</td>\n",
       "      <td>20</td>\n",
       "    </tr>\n",
       "    <tr>\n",
       "      <th>insured_relationship</th>\n",
       "      <td>[husband, other-relative, own-child, unmarried...</td>\n",
       "      <td>6</td>\n",
       "    </tr>\n",
       "    <tr>\n",
       "      <th>capital-gains</th>\n",
       "      <td>[53300, 0, 35100, 48900, 66000, 38400, 52800, ...</td>\n",
       "      <td>338</td>\n",
       "    </tr>\n",
       "    <tr>\n",
       "      <th>capital-loss</th>\n",
       "      <td>[0, -62400, -46000, -77000, -39300, -51000, -3...</td>\n",
       "      <td>354</td>\n",
       "    </tr>\n",
       "    <tr>\n",
       "      <th>incident_date</th>\n",
       "      <td>[25-01-2015, 21-01-2015, 22-02-2015, 10-01-201...</td>\n",
       "      <td>60</td>\n",
       "    </tr>\n",
       "    <tr>\n",
       "      <th>incident_type</th>\n",
       "      <td>[Single Vehicle Collision, Vehicle Theft, Mult...</td>\n",
       "      <td>4</td>\n",
       "    </tr>\n",
       "    <tr>\n",
       "      <th>collision_type</th>\n",
       "      <td>[Side Collision, Rear Collision, Front Collision]</td>\n",
       "      <td>3</td>\n",
       "    </tr>\n",
       "    <tr>\n",
       "      <th>incident_severity</th>\n",
       "      <td>[Major Damage, Minor Damage, Total Loss, Trivi...</td>\n",
       "      <td>4</td>\n",
       "    </tr>\n",
       "    <tr>\n",
       "      <th>authorities_contacted</th>\n",
       "      <td>[Police, None, Fire, Other, Ambulance]</td>\n",
       "      <td>5</td>\n",
       "    </tr>\n",
       "    <tr>\n",
       "      <th>incident_state</th>\n",
       "      <td>[SC, VA, NY, OH, WV, NC, PA]</td>\n",
       "      <td>7</td>\n",
       "    </tr>\n",
       "    <tr>\n",
       "      <th>incident_city</th>\n",
       "      <td>[Columbus, Riverwood, Arlington, Springfield, ...</td>\n",
       "      <td>7</td>\n",
       "    </tr>\n",
       "    <tr>\n",
       "      <th>incident_location</th>\n",
       "      <td>[9935 4th Drive, 6608 MLK Hwy, 7121 Francis La...</td>\n",
       "      <td>1000</td>\n",
       "    </tr>\n",
       "    <tr>\n",
       "      <th>incident_hour_of_the_day</th>\n",
       "      <td>[5, 8, 7, 20, 19, 0, 23, 21, 14, 22, 9, 12, 15...</td>\n",
       "      <td>24</td>\n",
       "    </tr>\n",
       "    <tr>\n",
       "      <th>number_of_vehicles_involved</th>\n",
       "      <td>[1, 3, 4, 2]</td>\n",
       "      <td>4</td>\n",
       "    </tr>\n",
       "    <tr>\n",
       "      <th>property_damage</th>\n",
       "      <td>[YES, ?, NO]</td>\n",
       "      <td>3</td>\n",
       "    </tr>\n",
       "    <tr>\n",
       "      <th>bodily_injuries</th>\n",
       "      <td>[1, 0, 2]</td>\n",
       "      <td>3</td>\n",
       "    </tr>\n",
       "    <tr>\n",
       "      <th>witnesses</th>\n",
       "      <td>[2, 0, 3, 1]</td>\n",
       "      <td>4</td>\n",
       "    </tr>\n",
       "    <tr>\n",
       "      <th>police_report_available</th>\n",
       "      <td>[YES, ?, NO]</td>\n",
       "      <td>3</td>\n",
       "    </tr>\n",
       "    <tr>\n",
       "      <th>total_claim_amount</th>\n",
       "      <td>[71610, 5070, 34650, 63400, 6500, 64100, 78650...</td>\n",
       "      <td>763</td>\n",
       "    </tr>\n",
       "    <tr>\n",
       "      <th>injury_claim</th>\n",
       "      <td>[6510, 780, 7700, 6340, 1300, 6410, 21450, 938...</td>\n",
       "      <td>638</td>\n",
       "    </tr>\n",
       "    <tr>\n",
       "      <th>property_claim</th>\n",
       "      <td>[13020, 780, 3850, 6340, 650, 6410, 7150, 9380...</td>\n",
       "      <td>626</td>\n",
       "    </tr>\n",
       "    <tr>\n",
       "      <th>vehicle_claim</th>\n",
       "      <td>[52080, 3510, 23100, 50720, 4550, 51280, 50050...</td>\n",
       "      <td>726</td>\n",
       "    </tr>\n",
       "    <tr>\n",
       "      <th>auto_make</th>\n",
       "      <td>[Saab, Mercedes, Dodge, Chevrolet, Accura, Nis...</td>\n",
       "      <td>14</td>\n",
       "    </tr>\n",
       "    <tr>\n",
       "      <th>auto_model</th>\n",
       "      <td>[92x, E400, RAM, Tahoe, RSX, 95, Pathfinder, A...</td>\n",
       "      <td>39</td>\n",
       "    </tr>\n",
       "    <tr>\n",
       "      <th>auto_year</th>\n",
       "      <td>[2004, 2007, 2014, 2009, 2003, 2012, 2015, 199...</td>\n",
       "      <td>21</td>\n",
       "    </tr>\n",
       "    <tr>\n",
       "      <th>fraud_reported</th>\n",
       "      <td>[1, 0]</td>\n",
       "      <td>2</td>\n",
       "    </tr>\n",
       "  </tbody>\n",
       "</table>\n",
       "</div>"
      ],
      "text/plain": [
       "                                                                 unique values  \\\n",
       "months_as_customer           [328, 228, 134, 256, 137, 165, 27, 212, 235, 4...   \n",
       "age                          [48, 42, 29, 41, 44, 39, 34, 37, 33, 61, 23, 3...   \n",
       "policy_number                [521585, 342868, 687698, 227811, 367455, 10459...   \n",
       "policy_bind_date             [17-10-2014, 27-06-2006, 06-09-2000, 25-05-199...   \n",
       "policy_state                                                      [OH, IN, IL]   \n",
       "policy_csl                                        [250/500, 100/300, 500/1000]   \n",
       "policy_deductable                                            [1000, 2000, 500]   \n",
       "policy_annual_premium        [1406.91, 1197.22, 1413.14, 1415.74, 1583.91, ...   \n",
       "umbrella_limit                                                          [0, 1]   \n",
       "insured_zip                  [466132, 468176, 430632, 608117, 610706, 47845...   \n",
       "insured_sex                                                     [MALE, FEMALE]   \n",
       "insured_education_level      [MD, PhD, Associate, Masters, High School, Col...   \n",
       "insured_occupation           [craft-repair, machine-op-inspct, sales, armed...   \n",
       "insured_hobbies              [sleeping, reading, board-games, bungie-jumpin...   \n",
       "insured_relationship         [husband, other-relative, own-child, unmarried...   \n",
       "capital-gains                [53300, 0, 35100, 48900, 66000, 38400, 52800, ...   \n",
       "capital-loss                 [0, -62400, -46000, -77000, -39300, -51000, -3...   \n",
       "incident_date                [25-01-2015, 21-01-2015, 22-02-2015, 10-01-201...   \n",
       "incident_type                [Single Vehicle Collision, Vehicle Theft, Mult...   \n",
       "collision_type               [Side Collision, Rear Collision, Front Collision]   \n",
       "incident_severity            [Major Damage, Minor Damage, Total Loss, Trivi...   \n",
       "authorities_contacted                   [Police, None, Fire, Other, Ambulance]   \n",
       "incident_state                                    [SC, VA, NY, OH, WV, NC, PA]   \n",
       "incident_city                [Columbus, Riverwood, Arlington, Springfield, ...   \n",
       "incident_location            [9935 4th Drive, 6608 MLK Hwy, 7121 Francis La...   \n",
       "incident_hour_of_the_day     [5, 8, 7, 20, 19, 0, 23, 21, 14, 22, 9, 12, 15...   \n",
       "number_of_vehicles_involved                                       [1, 3, 4, 2]   \n",
       "property_damage                                                   [YES, ?, NO]   \n",
       "bodily_injuries                                                      [1, 0, 2]   \n",
       "witnesses                                                         [2, 0, 3, 1]   \n",
       "police_report_available                                           [YES, ?, NO]   \n",
       "total_claim_amount           [71610, 5070, 34650, 63400, 6500, 64100, 78650...   \n",
       "injury_claim                 [6510, 780, 7700, 6340, 1300, 6410, 21450, 938...   \n",
       "property_claim               [13020, 780, 3850, 6340, 650, 6410, 7150, 9380...   \n",
       "vehicle_claim                [52080, 3510, 23100, 50720, 4550, 51280, 50050...   \n",
       "auto_make                    [Saab, Mercedes, Dodge, Chevrolet, Accura, Nis...   \n",
       "auto_model                   [92x, E400, RAM, Tahoe, RSX, 95, Pathfinder, A...   \n",
       "auto_year                    [2004, 2007, 2014, 2009, 2003, 2012, 2015, 199...   \n",
       "fraud_reported                                                          [1, 0]   \n",
       "\n",
       "                             number of unique values  \n",
       "months_as_customer                               391  \n",
       "age                                               46  \n",
       "policy_number                                   1000  \n",
       "policy_bind_date                                 951  \n",
       "policy_state                                       3  \n",
       "policy_csl                                         3  \n",
       "policy_deductable                                  3  \n",
       "policy_annual_premium                            991  \n",
       "umbrella_limit                                     2  \n",
       "insured_zip                                      995  \n",
       "insured_sex                                        2  \n",
       "insured_education_level                            7  \n",
       "insured_occupation                                14  \n",
       "insured_hobbies                                   20  \n",
       "insured_relationship                               6  \n",
       "capital-gains                                    338  \n",
       "capital-loss                                     354  \n",
       "incident_date                                     60  \n",
       "incident_type                                      4  \n",
       "collision_type                                     3  \n",
       "incident_severity                                  4  \n",
       "authorities_contacted                              5  \n",
       "incident_state                                     7  \n",
       "incident_city                                      7  \n",
       "incident_location                               1000  \n",
       "incident_hour_of_the_day                          24  \n",
       "number_of_vehicles_involved                        4  \n",
       "property_damage                                    3  \n",
       "bodily_injuries                                    3  \n",
       "witnesses                                          4  \n",
       "police_report_available                            3  \n",
       "total_claim_amount                               763  \n",
       "injury_claim                                     638  \n",
       "property_claim                                   626  \n",
       "vehicle_claim                                    726  \n",
       "auto_make                                         14  \n",
       "auto_model                                        39  \n",
       "auto_year                                         21  \n",
       "fraud_reported                                     2  "
      ]
     },
     "execution_count": 64,
     "metadata": {},
     "output_type": "execute_result"
    }
   ],
   "source": [
    "pd.concat({'unique values': df.apply(pd.unique), 'number of unique values': df.nunique()}, axis=1)"
   ]
  },
  {
   "cell_type": "code",
   "execution_count": 65,
   "metadata": {},
   "outputs": [],
   "source": [
    "df['policy_bind_date'] = pd.to_datetime(df['policy_bind_date'])\n",
    "df['Policy_Bind_Month'] = df['policy_bind_date'].dt.month\n",
    "df['Policy_Bind_Day'] = df['policy_bind_date'].dt.day"
   ]
  },
  {
   "cell_type": "code",
   "execution_count": 66,
   "metadata": {},
   "outputs": [
    {
     "data": {
      "text/html": [
       "<div>\n",
       "<style scoped>\n",
       "    .dataframe tbody tr th:only-of-type {\n",
       "        vertical-align: middle;\n",
       "    }\n",
       "\n",
       "    .dataframe tbody tr th {\n",
       "        vertical-align: top;\n",
       "    }\n",
       "\n",
       "    .dataframe thead th {\n",
       "        text-align: right;\n",
       "    }\n",
       "</style>\n",
       "<table border=\"1\" class=\"dataframe\">\n",
       "  <thead>\n",
       "    <tr style=\"text-align: right;\">\n",
       "      <th></th>\n",
       "      <th>months_as_customer</th>\n",
       "      <th>age</th>\n",
       "      <th>policy_number</th>\n",
       "      <th>policy_bind_date</th>\n",
       "      <th>policy_state</th>\n",
       "      <th>policy_csl</th>\n",
       "      <th>policy_deductable</th>\n",
       "      <th>policy_annual_premium</th>\n",
       "      <th>umbrella_limit</th>\n",
       "      <th>insured_zip</th>\n",
       "      <th>...</th>\n",
       "      <th>total_claim_amount</th>\n",
       "      <th>injury_claim</th>\n",
       "      <th>property_claim</th>\n",
       "      <th>vehicle_claim</th>\n",
       "      <th>auto_make</th>\n",
       "      <th>auto_model</th>\n",
       "      <th>auto_year</th>\n",
       "      <th>fraud_reported</th>\n",
       "      <th>Policy_Bind_Month</th>\n",
       "      <th>Policy_Bind_Day</th>\n",
       "    </tr>\n",
       "  </thead>\n",
       "  <tbody>\n",
       "    <tr>\n",
       "      <th>0</th>\n",
       "      <td>328</td>\n",
       "      <td>48</td>\n",
       "      <td>521585</td>\n",
       "      <td>2014-10-17</td>\n",
       "      <td>OH</td>\n",
       "      <td>250/500</td>\n",
       "      <td>1000</td>\n",
       "      <td>1406.91</td>\n",
       "      <td>0</td>\n",
       "      <td>466132</td>\n",
       "      <td>...</td>\n",
       "      <td>71610</td>\n",
       "      <td>6510</td>\n",
       "      <td>13020</td>\n",
       "      <td>52080</td>\n",
       "      <td>Saab</td>\n",
       "      <td>92x</td>\n",
       "      <td>2004</td>\n",
       "      <td>1</td>\n",
       "      <td>10</td>\n",
       "      <td>17</td>\n",
       "    </tr>\n",
       "    <tr>\n",
       "      <th>1</th>\n",
       "      <td>228</td>\n",
       "      <td>42</td>\n",
       "      <td>342868</td>\n",
       "      <td>2006-06-27</td>\n",
       "      <td>IN</td>\n",
       "      <td>250/500</td>\n",
       "      <td>2000</td>\n",
       "      <td>1197.22</td>\n",
       "      <td>1</td>\n",
       "      <td>468176</td>\n",
       "      <td>...</td>\n",
       "      <td>5070</td>\n",
       "      <td>780</td>\n",
       "      <td>780</td>\n",
       "      <td>3510</td>\n",
       "      <td>Mercedes</td>\n",
       "      <td>E400</td>\n",
       "      <td>2007</td>\n",
       "      <td>1</td>\n",
       "      <td>6</td>\n",
       "      <td>27</td>\n",
       "    </tr>\n",
       "    <tr>\n",
       "      <th>2</th>\n",
       "      <td>134</td>\n",
       "      <td>29</td>\n",
       "      <td>687698</td>\n",
       "      <td>2000-06-09</td>\n",
       "      <td>OH</td>\n",
       "      <td>100/300</td>\n",
       "      <td>2000</td>\n",
       "      <td>1413.14</td>\n",
       "      <td>1</td>\n",
       "      <td>430632</td>\n",
       "      <td>...</td>\n",
       "      <td>34650</td>\n",
       "      <td>7700</td>\n",
       "      <td>3850</td>\n",
       "      <td>23100</td>\n",
       "      <td>Dodge</td>\n",
       "      <td>RAM</td>\n",
       "      <td>2007</td>\n",
       "      <td>0</td>\n",
       "      <td>6</td>\n",
       "      <td>9</td>\n",
       "    </tr>\n",
       "    <tr>\n",
       "      <th>3</th>\n",
       "      <td>256</td>\n",
       "      <td>41</td>\n",
       "      <td>227811</td>\n",
       "      <td>1990-05-25</td>\n",
       "      <td>IL</td>\n",
       "      <td>250/500</td>\n",
       "      <td>2000</td>\n",
       "      <td>1415.74</td>\n",
       "      <td>1</td>\n",
       "      <td>608117</td>\n",
       "      <td>...</td>\n",
       "      <td>63400</td>\n",
       "      <td>6340</td>\n",
       "      <td>6340</td>\n",
       "      <td>50720</td>\n",
       "      <td>Chevrolet</td>\n",
       "      <td>Tahoe</td>\n",
       "      <td>2014</td>\n",
       "      <td>1</td>\n",
       "      <td>5</td>\n",
       "      <td>25</td>\n",
       "    </tr>\n",
       "    <tr>\n",
       "      <th>4</th>\n",
       "      <td>228</td>\n",
       "      <td>44</td>\n",
       "      <td>367455</td>\n",
       "      <td>2014-06-06</td>\n",
       "      <td>IL</td>\n",
       "      <td>500/1000</td>\n",
       "      <td>1000</td>\n",
       "      <td>1583.91</td>\n",
       "      <td>1</td>\n",
       "      <td>610706</td>\n",
       "      <td>...</td>\n",
       "      <td>6500</td>\n",
       "      <td>1300</td>\n",
       "      <td>650</td>\n",
       "      <td>4550</td>\n",
       "      <td>Accura</td>\n",
       "      <td>RSX</td>\n",
       "      <td>2009</td>\n",
       "      <td>0</td>\n",
       "      <td>6</td>\n",
       "      <td>6</td>\n",
       "    </tr>\n",
       "  </tbody>\n",
       "</table>\n",
       "<p>5 rows × 41 columns</p>\n",
       "</div>"
      ],
      "text/plain": [
       "   months_as_customer  age  policy_number policy_bind_date policy_state  \\\n",
       "0                 328   48         521585       2014-10-17           OH   \n",
       "1                 228   42         342868       2006-06-27           IN   \n",
       "2                 134   29         687698       2000-06-09           OH   \n",
       "3                 256   41         227811       1990-05-25           IL   \n",
       "4                 228   44         367455       2014-06-06           IL   \n",
       "\n",
       "  policy_csl  policy_deductable  policy_annual_premium  umbrella_limit  \\\n",
       "0    250/500               1000                1406.91               0   \n",
       "1    250/500               2000                1197.22               1   \n",
       "2    100/300               2000                1413.14               1   \n",
       "3    250/500               2000                1415.74               1   \n",
       "4   500/1000               1000                1583.91               1   \n",
       "\n",
       "   insured_zip  ... total_claim_amount injury_claim property_claim  \\\n",
       "0       466132  ...              71610         6510          13020   \n",
       "1       468176  ...               5070          780            780   \n",
       "2       430632  ...              34650         7700           3850   \n",
       "3       608117  ...              63400         6340           6340   \n",
       "4       610706  ...               6500         1300            650   \n",
       "\n",
       "  vehicle_claim  auto_make  auto_model  auto_year fraud_reported  \\\n",
       "0         52080       Saab         92x       2004              1   \n",
       "1          3510   Mercedes        E400       2007              1   \n",
       "2         23100      Dodge         RAM       2007              0   \n",
       "3         50720  Chevrolet       Tahoe       2014              1   \n",
       "4          4550     Accura         RSX       2009              0   \n",
       "\n",
       "  Policy_Bind_Month Policy_Bind_Day  \n",
       "0                10              17  \n",
       "1                 6              27  \n",
       "2                 6               9  \n",
       "3                 5              25  \n",
       "4                 6               6  \n",
       "\n",
       "[5 rows x 41 columns]"
      ]
     },
     "execution_count": 66,
     "metadata": {},
     "output_type": "execute_result"
    }
   ],
   "source": [
    "df.head()"
   ]
  },
  {
   "cell_type": "code",
   "execution_count": 67,
   "metadata": {},
   "outputs": [
    {
     "data": {
      "text/plain": [
       "array(['YES', '?', 'NO'], dtype=object)"
      ]
     },
     "execution_count": 67,
     "metadata": {},
     "output_type": "execute_result"
    }
   ],
   "source": [
    "df['property_damage'].unique()"
   ]
  },
  {
   "cell_type": "code",
   "execution_count": 68,
   "metadata": {},
   "outputs": [],
   "source": [
    "df['property_damage'] = df['property_damage'].replace(['?'],np.nan)"
   ]
  },
  {
   "cell_type": "code",
   "execution_count": 69,
   "metadata": {},
   "outputs": [],
   "source": [
    "df = df.fillna(df['property_damage'].value_counts().index[0])"
   ]
  },
  {
   "cell_type": "code",
   "execution_count": 70,
   "metadata": {},
   "outputs": [
    {
     "data": {
      "text/plain": [
       "array(['YES', '?', 'NO'], dtype=object)"
      ]
     },
     "execution_count": 70,
     "metadata": {},
     "output_type": "execute_result"
    }
   ],
   "source": [
    "df['police_report_available'].unique()"
   ]
  },
  {
   "cell_type": "code",
   "execution_count": 71,
   "metadata": {},
   "outputs": [],
   "source": [
    "df['police_report_available'] = df['police_report_available'].replace(['?'],np.nan)"
   ]
  },
  {
   "cell_type": "code",
   "execution_count": 72,
   "metadata": {},
   "outputs": [],
   "source": [
    "df = df.fillna(df['police_report_available'].value_counts().index[0])"
   ]
  },
  {
   "cell_type": "code",
   "execution_count": 73,
   "metadata": {},
   "outputs": [],
   "source": [
    "df['incident_date'] = pd.to_datetime(df['incident_date'])\n",
    "df['incident_Month'] = df['incident_date'].dt.month\n",
    "df['incident_Day'] = df['incident_date'].dt.day"
   ]
  },
  {
   "cell_type": "markdown",
   "metadata": {},
   "source": [
    "# Data Encoding"
   ]
  },
  {
   "cell_type": "code",
   "execution_count": 74,
   "metadata": {},
   "outputs": [
    {
     "data": {
      "text/html": [
       "<div>\n",
       "<style scoped>\n",
       "    .dataframe tbody tr th:only-of-type {\n",
       "        vertical-align: middle;\n",
       "    }\n",
       "\n",
       "    .dataframe tbody tr th {\n",
       "        vertical-align: top;\n",
       "    }\n",
       "\n",
       "    .dataframe thead th {\n",
       "        text-align: right;\n",
       "    }\n",
       "</style>\n",
       "<table border=\"1\" class=\"dataframe\">\n",
       "  <thead>\n",
       "    <tr style=\"text-align: right;\">\n",
       "      <th></th>\n",
       "      <th>months_as_customer</th>\n",
       "      <th>age</th>\n",
       "      <th>policy_number</th>\n",
       "      <th>policy_bind_date</th>\n",
       "      <th>policy_state</th>\n",
       "      <th>policy_csl</th>\n",
       "      <th>policy_deductable</th>\n",
       "      <th>policy_annual_premium</th>\n",
       "      <th>umbrella_limit</th>\n",
       "      <th>insured_zip</th>\n",
       "      <th>...</th>\n",
       "      <th>property_claim</th>\n",
       "      <th>vehicle_claim</th>\n",
       "      <th>auto_make</th>\n",
       "      <th>auto_model</th>\n",
       "      <th>auto_year</th>\n",
       "      <th>fraud_reported</th>\n",
       "      <th>Policy_Bind_Month</th>\n",
       "      <th>Policy_Bind_Day</th>\n",
       "      <th>incident_Month</th>\n",
       "      <th>incident_Day</th>\n",
       "    </tr>\n",
       "  </thead>\n",
       "  <tbody>\n",
       "    <tr>\n",
       "      <th>0</th>\n",
       "      <td>328</td>\n",
       "      <td>48</td>\n",
       "      <td>521585</td>\n",
       "      <td>2014-10-17</td>\n",
       "      <td>2</td>\n",
       "      <td>1</td>\n",
       "      <td>1</td>\n",
       "      <td>1406.91</td>\n",
       "      <td>0</td>\n",
       "      <td>466132</td>\n",
       "      <td>...</td>\n",
       "      <td>13020</td>\n",
       "      <td>52080</td>\n",
       "      <td>10</td>\n",
       "      <td>1</td>\n",
       "      <td>9</td>\n",
       "      <td>1</td>\n",
       "      <td>10</td>\n",
       "      <td>17</td>\n",
       "      <td>1</td>\n",
       "      <td>25</td>\n",
       "    </tr>\n",
       "    <tr>\n",
       "      <th>1</th>\n",
       "      <td>228</td>\n",
       "      <td>42</td>\n",
       "      <td>342868</td>\n",
       "      <td>2006-06-27</td>\n",
       "      <td>1</td>\n",
       "      <td>1</td>\n",
       "      <td>2</td>\n",
       "      <td>1197.22</td>\n",
       "      <td>1</td>\n",
       "      <td>468176</td>\n",
       "      <td>...</td>\n",
       "      <td>780</td>\n",
       "      <td>3510</td>\n",
       "      <td>8</td>\n",
       "      <td>12</td>\n",
       "      <td>12</td>\n",
       "      <td>1</td>\n",
       "      <td>6</td>\n",
       "      <td>27</td>\n",
       "      <td>1</td>\n",
       "      <td>21</td>\n",
       "    </tr>\n",
       "    <tr>\n",
       "      <th>2</th>\n",
       "      <td>134</td>\n",
       "      <td>29</td>\n",
       "      <td>687698</td>\n",
       "      <td>2000-06-09</td>\n",
       "      <td>2</td>\n",
       "      <td>0</td>\n",
       "      <td>2</td>\n",
       "      <td>1413.14</td>\n",
       "      <td>1</td>\n",
       "      <td>430632</td>\n",
       "      <td>...</td>\n",
       "      <td>3850</td>\n",
       "      <td>23100</td>\n",
       "      <td>4</td>\n",
       "      <td>30</td>\n",
       "      <td>12</td>\n",
       "      <td>0</td>\n",
       "      <td>6</td>\n",
       "      <td>9</td>\n",
       "      <td>2</td>\n",
       "      <td>22</td>\n",
       "    </tr>\n",
       "    <tr>\n",
       "      <th>3</th>\n",
       "      <td>256</td>\n",
       "      <td>41</td>\n",
       "      <td>227811</td>\n",
       "      <td>1990-05-25</td>\n",
       "      <td>0</td>\n",
       "      <td>1</td>\n",
       "      <td>2</td>\n",
       "      <td>1415.74</td>\n",
       "      <td>1</td>\n",
       "      <td>608117</td>\n",
       "      <td>...</td>\n",
       "      <td>6340</td>\n",
       "      <td>50720</td>\n",
       "      <td>3</td>\n",
       "      <td>34</td>\n",
       "      <td>19</td>\n",
       "      <td>1</td>\n",
       "      <td>5</td>\n",
       "      <td>25</td>\n",
       "      <td>10</td>\n",
       "      <td>1</td>\n",
       "    </tr>\n",
       "    <tr>\n",
       "      <th>4</th>\n",
       "      <td>228</td>\n",
       "      <td>44</td>\n",
       "      <td>367455</td>\n",
       "      <td>2014-06-06</td>\n",
       "      <td>0</td>\n",
       "      <td>2</td>\n",
       "      <td>1</td>\n",
       "      <td>1583.91</td>\n",
       "      <td>1</td>\n",
       "      <td>610706</td>\n",
       "      <td>...</td>\n",
       "      <td>650</td>\n",
       "      <td>4550</td>\n",
       "      <td>0</td>\n",
       "      <td>31</td>\n",
       "      <td>14</td>\n",
       "      <td>0</td>\n",
       "      <td>6</td>\n",
       "      <td>6</td>\n",
       "      <td>2</td>\n",
       "      <td>17</td>\n",
       "    </tr>\n",
       "  </tbody>\n",
       "</table>\n",
       "<p>5 rows × 43 columns</p>\n",
       "</div>"
      ],
      "text/plain": [
       "   months_as_customer  age  policy_number policy_bind_date  policy_state  \\\n",
       "0                 328   48         521585       2014-10-17             2   \n",
       "1                 228   42         342868       2006-06-27             1   \n",
       "2                 134   29         687698       2000-06-09             2   \n",
       "3                 256   41         227811       1990-05-25             0   \n",
       "4                 228   44         367455       2014-06-06             0   \n",
       "\n",
       "   policy_csl  policy_deductable  policy_annual_premium  umbrella_limit  \\\n",
       "0           1                  1                1406.91               0   \n",
       "1           1                  2                1197.22               1   \n",
       "2           0                  2                1413.14               1   \n",
       "3           1                  2                1415.74               1   \n",
       "4           2                  1                1583.91               1   \n",
       "\n",
       "   insured_zip  ...  property_claim  vehicle_claim  auto_make  auto_model  \\\n",
       "0       466132  ...           13020          52080         10           1   \n",
       "1       468176  ...             780           3510          8          12   \n",
       "2       430632  ...            3850          23100          4          30   \n",
       "3       608117  ...            6340          50720          3          34   \n",
       "4       610706  ...             650           4550          0          31   \n",
       "\n",
       "   auto_year  fraud_reported  Policy_Bind_Month Policy_Bind_Day  \\\n",
       "0          9               1                 10              17   \n",
       "1         12               1                  6              27   \n",
       "2         12               0                  6               9   \n",
       "3         19               1                  5              25   \n",
       "4         14               0                  6               6   \n",
       "\n",
       "   incident_Month  incident_Day  \n",
       "0               1            25  \n",
       "1               1            21  \n",
       "2               2            22  \n",
       "3              10             1  \n",
       "4               2            17  \n",
       "\n",
       "[5 rows x 43 columns]"
      ]
     },
     "execution_count": 74,
     "metadata": {},
     "output_type": "execute_result"
    }
   ],
   "source": [
    "from sklearn.preprocessing import LabelEncoder\n",
    "labelencoder = LabelEncoder()\n",
    "df['policy_state'] = labelencoder.fit_transform(df['policy_state'])\n",
    "df['policy_csl'] = labelencoder.fit_transform(df['policy_csl'])\n",
    "df['policy_deductable'] = labelencoder.fit_transform(df['policy_deductable'])\n",
    "df['insured_sex'] = labelencoder.fit_transform(df['insured_sex'])\n",
    "df['insured_education_level'] = labelencoder.fit_transform(df['insured_education_level'])\n",
    "df['insured_occupation'] = labelencoder.fit_transform(df['insured_occupation'])\n",
    "df['insured_hobbies'] = labelencoder.fit_transform(df['insured_hobbies'])\n",
    "df['insured_relationship'] = labelencoder.fit_transform(df['insured_relationship'])\n",
    "df['incident_type'] = labelencoder.fit_transform(df['incident_type'])\n",
    "df['collision_type'] = labelencoder.fit_transform(df['collision_type'])\n",
    "df['incident_severity'] = labelencoder.fit_transform(df['incident_severity'])\n",
    "df['authorities_contacted'] = labelencoder.fit_transform(df['authorities_contacted'])\n",
    "df['incident_state'] = labelencoder.fit_transform(df['incident_city'])\n",
    "df['incident_city'] = labelencoder.fit_transform(df['incident_city'])\n",
    "df['incident_location'] = labelencoder.fit_transform(df['incident_location'])\n",
    "df['incident_hour_of_the_day'] = labelencoder.fit_transform(df['incident_hour_of_the_day'])\n",
    "df['number_of_vehicles_involved'] = labelencoder.fit_transform(df['number_of_vehicles_involved'])\n",
    "df['property_damage'] = labelencoder.fit_transform(df['property_damage'])\n",
    "df['police_report_available'] = labelencoder.fit_transform(df['police_report_available'])\n",
    "df['auto_make'] = labelencoder.fit_transform(df['auto_make'])\n",
    "df['auto_model'] = labelencoder.fit_transform(df['auto_model'])\n",
    "df['auto_year'] = labelencoder.fit_transform(df['auto_year'])\n",
    "df.head()"
   ]
  },
  {
   "cell_type": "code",
   "execution_count": 75,
   "metadata": {},
   "outputs": [],
   "source": [
    "df.drop(['policy_bind_date','incident_date'],axis=1,inplace=True)"
   ]
  },
  {
   "cell_type": "code",
   "execution_count": 76,
   "metadata": {},
   "outputs": [],
   "source": [
    "df.drop(['policy_number'],axis=1,inplace=True)"
   ]
  },
  {
   "cell_type": "code",
   "execution_count": 77,
   "metadata": {},
   "outputs": [
    {
     "data": {
      "text/html": [
       "<div>\n",
       "<style scoped>\n",
       "    .dataframe tbody tr th:only-of-type {\n",
       "        vertical-align: middle;\n",
       "    }\n",
       "\n",
       "    .dataframe tbody tr th {\n",
       "        vertical-align: top;\n",
       "    }\n",
       "\n",
       "    .dataframe thead th {\n",
       "        text-align: right;\n",
       "    }\n",
       "</style>\n",
       "<table border=\"1\" class=\"dataframe\">\n",
       "  <thead>\n",
       "    <tr style=\"text-align: right;\">\n",
       "      <th></th>\n",
       "      <th>months_as_customer</th>\n",
       "      <th>age</th>\n",
       "      <th>policy_state</th>\n",
       "      <th>policy_csl</th>\n",
       "      <th>policy_deductable</th>\n",
       "      <th>policy_annual_premium</th>\n",
       "      <th>umbrella_limit</th>\n",
       "      <th>insured_zip</th>\n",
       "      <th>insured_sex</th>\n",
       "      <th>insured_education_level</th>\n",
       "      <th>...</th>\n",
       "      <th>property_claim</th>\n",
       "      <th>vehicle_claim</th>\n",
       "      <th>auto_make</th>\n",
       "      <th>auto_model</th>\n",
       "      <th>auto_year</th>\n",
       "      <th>fraud_reported</th>\n",
       "      <th>Policy_Bind_Month</th>\n",
       "      <th>Policy_Bind_Day</th>\n",
       "      <th>incident_Month</th>\n",
       "      <th>incident_Day</th>\n",
       "    </tr>\n",
       "  </thead>\n",
       "  <tbody>\n",
       "    <tr>\n",
       "      <th>0</th>\n",
       "      <td>328</td>\n",
       "      <td>48</td>\n",
       "      <td>2</td>\n",
       "      <td>1</td>\n",
       "      <td>1</td>\n",
       "      <td>1406.91</td>\n",
       "      <td>0</td>\n",
       "      <td>466132</td>\n",
       "      <td>1</td>\n",
       "      <td>4</td>\n",
       "      <td>...</td>\n",
       "      <td>13020</td>\n",
       "      <td>52080</td>\n",
       "      <td>10</td>\n",
       "      <td>1</td>\n",
       "      <td>9</td>\n",
       "      <td>1</td>\n",
       "      <td>10</td>\n",
       "      <td>17</td>\n",
       "      <td>1</td>\n",
       "      <td>25</td>\n",
       "    </tr>\n",
       "    <tr>\n",
       "      <th>1</th>\n",
       "      <td>228</td>\n",
       "      <td>42</td>\n",
       "      <td>1</td>\n",
       "      <td>1</td>\n",
       "      <td>2</td>\n",
       "      <td>1197.22</td>\n",
       "      <td>1</td>\n",
       "      <td>468176</td>\n",
       "      <td>1</td>\n",
       "      <td>4</td>\n",
       "      <td>...</td>\n",
       "      <td>780</td>\n",
       "      <td>3510</td>\n",
       "      <td>8</td>\n",
       "      <td>12</td>\n",
       "      <td>12</td>\n",
       "      <td>1</td>\n",
       "      <td>6</td>\n",
       "      <td>27</td>\n",
       "      <td>1</td>\n",
       "      <td>21</td>\n",
       "    </tr>\n",
       "    <tr>\n",
       "      <th>2</th>\n",
       "      <td>134</td>\n",
       "      <td>29</td>\n",
       "      <td>2</td>\n",
       "      <td>0</td>\n",
       "      <td>2</td>\n",
       "      <td>1413.14</td>\n",
       "      <td>1</td>\n",
       "      <td>430632</td>\n",
       "      <td>0</td>\n",
       "      <td>6</td>\n",
       "      <td>...</td>\n",
       "      <td>3850</td>\n",
       "      <td>23100</td>\n",
       "      <td>4</td>\n",
       "      <td>30</td>\n",
       "      <td>12</td>\n",
       "      <td>0</td>\n",
       "      <td>6</td>\n",
       "      <td>9</td>\n",
       "      <td>2</td>\n",
       "      <td>22</td>\n",
       "    </tr>\n",
       "    <tr>\n",
       "      <th>3</th>\n",
       "      <td>256</td>\n",
       "      <td>41</td>\n",
       "      <td>0</td>\n",
       "      <td>1</td>\n",
       "      <td>2</td>\n",
       "      <td>1415.74</td>\n",
       "      <td>1</td>\n",
       "      <td>608117</td>\n",
       "      <td>0</td>\n",
       "      <td>6</td>\n",
       "      <td>...</td>\n",
       "      <td>6340</td>\n",
       "      <td>50720</td>\n",
       "      <td>3</td>\n",
       "      <td>34</td>\n",
       "      <td>19</td>\n",
       "      <td>1</td>\n",
       "      <td>5</td>\n",
       "      <td>25</td>\n",
       "      <td>10</td>\n",
       "      <td>1</td>\n",
       "    </tr>\n",
       "    <tr>\n",
       "      <th>4</th>\n",
       "      <td>228</td>\n",
       "      <td>44</td>\n",
       "      <td>0</td>\n",
       "      <td>2</td>\n",
       "      <td>1</td>\n",
       "      <td>1583.91</td>\n",
       "      <td>1</td>\n",
       "      <td>610706</td>\n",
       "      <td>1</td>\n",
       "      <td>0</td>\n",
       "      <td>...</td>\n",
       "      <td>650</td>\n",
       "      <td>4550</td>\n",
       "      <td>0</td>\n",
       "      <td>31</td>\n",
       "      <td>14</td>\n",
       "      <td>0</td>\n",
       "      <td>6</td>\n",
       "      <td>6</td>\n",
       "      <td>2</td>\n",
       "      <td>17</td>\n",
       "    </tr>\n",
       "  </tbody>\n",
       "</table>\n",
       "<p>5 rows × 40 columns</p>\n",
       "</div>"
      ],
      "text/plain": [
       "   months_as_customer  age  policy_state  policy_csl  policy_deductable  \\\n",
       "0                 328   48             2           1                  1   \n",
       "1                 228   42             1           1                  2   \n",
       "2                 134   29             2           0                  2   \n",
       "3                 256   41             0           1                  2   \n",
       "4                 228   44             0           2                  1   \n",
       "\n",
       "   policy_annual_premium  umbrella_limit  insured_zip  insured_sex  \\\n",
       "0                1406.91               0       466132            1   \n",
       "1                1197.22               1       468176            1   \n",
       "2                1413.14               1       430632            0   \n",
       "3                1415.74               1       608117            0   \n",
       "4                1583.91               1       610706            1   \n",
       "\n",
       "   insured_education_level  ...  property_claim  vehicle_claim  auto_make  \\\n",
       "0                        4  ...           13020          52080         10   \n",
       "1                        4  ...             780           3510          8   \n",
       "2                        6  ...            3850          23100          4   \n",
       "3                        6  ...            6340          50720          3   \n",
       "4                        0  ...             650           4550          0   \n",
       "\n",
       "   auto_model  auto_year  fraud_reported  Policy_Bind_Month  Policy_Bind_Day  \\\n",
       "0           1          9               1                 10               17   \n",
       "1          12         12               1                  6               27   \n",
       "2          30         12               0                  6                9   \n",
       "3          34         19               1                  5               25   \n",
       "4          31         14               0                  6                6   \n",
       "\n",
       "   incident_Month  incident_Day  \n",
       "0               1            25  \n",
       "1               1            21  \n",
       "2               2            22  \n",
       "3              10             1  \n",
       "4               2            17  \n",
       "\n",
       "[5 rows x 40 columns]"
      ]
     },
     "execution_count": 77,
     "metadata": {},
     "output_type": "execute_result"
    }
   ],
   "source": [
    "df.head()"
   ]
  },
  {
   "cell_type": "code",
   "execution_count": 78,
   "metadata": {},
   "outputs": [
    {
     "data": {
      "text/html": [
       "<div>\n",
       "<style scoped>\n",
       "    .dataframe tbody tr th:only-of-type {\n",
       "        vertical-align: middle;\n",
       "    }\n",
       "\n",
       "    .dataframe tbody tr th {\n",
       "        vertical-align: top;\n",
       "    }\n",
       "\n",
       "    .dataframe thead th {\n",
       "        text-align: right;\n",
       "    }\n",
       "</style>\n",
       "<table border=\"1\" class=\"dataframe\">\n",
       "  <thead>\n",
       "    <tr style=\"text-align: right;\">\n",
       "      <th></th>\n",
       "      <th>unique values</th>\n",
       "      <th>number of unique values</th>\n",
       "    </tr>\n",
       "  </thead>\n",
       "  <tbody>\n",
       "    <tr>\n",
       "      <th>months_as_customer</th>\n",
       "      <td>[328, 228, 134, 256, 137, 165, 27, 212, 235, 4...</td>\n",
       "      <td>391</td>\n",
       "    </tr>\n",
       "    <tr>\n",
       "      <th>age</th>\n",
       "      <td>[48, 42, 29, 41, 44, 39, 34, 37, 33, 61, 23, 3...</td>\n",
       "      <td>46</td>\n",
       "    </tr>\n",
       "    <tr>\n",
       "      <th>policy_state</th>\n",
       "      <td>[2, 1, 0]</td>\n",
       "      <td>3</td>\n",
       "    </tr>\n",
       "    <tr>\n",
       "      <th>policy_csl</th>\n",
       "      <td>[1, 0, 2]</td>\n",
       "      <td>3</td>\n",
       "    </tr>\n",
       "    <tr>\n",
       "      <th>policy_deductable</th>\n",
       "      <td>[1, 2, 0]</td>\n",
       "      <td>3</td>\n",
       "    </tr>\n",
       "    <tr>\n",
       "      <th>policy_annual_premium</th>\n",
       "      <td>[1406.91, 1197.22, 1413.14, 1415.74, 1583.91, ...</td>\n",
       "      <td>991</td>\n",
       "    </tr>\n",
       "    <tr>\n",
       "      <th>umbrella_limit</th>\n",
       "      <td>[0, 1]</td>\n",
       "      <td>2</td>\n",
       "    </tr>\n",
       "    <tr>\n",
       "      <th>insured_zip</th>\n",
       "      <td>[466132, 468176, 430632, 608117, 610706, 47845...</td>\n",
       "      <td>995</td>\n",
       "    </tr>\n",
       "    <tr>\n",
       "      <th>insured_sex</th>\n",
       "      <td>[1, 0]</td>\n",
       "      <td>2</td>\n",
       "    </tr>\n",
       "    <tr>\n",
       "      <th>insured_education_level</th>\n",
       "      <td>[4, 6, 0, 5, 2, 1, 3]</td>\n",
       "      <td>7</td>\n",
       "    </tr>\n",
       "    <tr>\n",
       "      <th>insured_occupation</th>\n",
       "      <td>[2, 6, 11, 1, 12, 9, 7, 8, 3, 10, 13, 5, 0, 4]</td>\n",
       "      <td>14</td>\n",
       "    </tr>\n",
       "    <tr>\n",
       "      <th>insured_hobbies</th>\n",
       "      <td>[17, 15, 2, 3, 0, 9, 4, 7, 16, 12, 10, 19, 13,...</td>\n",
       "      <td>20</td>\n",
       "    </tr>\n",
       "    <tr>\n",
       "      <th>insured_relationship</th>\n",
       "      <td>[0, 2, 3, 4, 5, 1]</td>\n",
       "      <td>6</td>\n",
       "    </tr>\n",
       "    <tr>\n",
       "      <th>capital-gains</th>\n",
       "      <td>[53300, 0, 35100, 48900, 66000, 38400, 52800, ...</td>\n",
       "      <td>338</td>\n",
       "    </tr>\n",
       "    <tr>\n",
       "      <th>capital-loss</th>\n",
       "      <td>[0, -62400, -46000, -77000, -39300, -51000, -3...</td>\n",
       "      <td>354</td>\n",
       "    </tr>\n",
       "    <tr>\n",
       "      <th>incident_type</th>\n",
       "      <td>[2, 3, 0, 1]</td>\n",
       "      <td>4</td>\n",
       "    </tr>\n",
       "    <tr>\n",
       "      <th>collision_type</th>\n",
       "      <td>[2, 1, 0]</td>\n",
       "      <td>3</td>\n",
       "    </tr>\n",
       "    <tr>\n",
       "      <th>incident_severity</th>\n",
       "      <td>[0, 1, 2, 3]</td>\n",
       "      <td>4</td>\n",
       "    </tr>\n",
       "    <tr>\n",
       "      <th>authorities_contacted</th>\n",
       "      <td>[4, 2, 1, 3, 0]</td>\n",
       "      <td>5</td>\n",
       "    </tr>\n",
       "    <tr>\n",
       "      <th>incident_state</th>\n",
       "      <td>[1, 5, 0, 6, 2, 3, 4]</td>\n",
       "      <td>7</td>\n",
       "    </tr>\n",
       "    <tr>\n",
       "      <th>incident_city</th>\n",
       "      <td>[1, 5, 0, 6, 2, 3, 4]</td>\n",
       "      <td>7</td>\n",
       "    </tr>\n",
       "    <tr>\n",
       "      <th>incident_location</th>\n",
       "      <td>[996, 628, 685, 669, 220, 891, 539, 276, 429, ...</td>\n",
       "      <td>1000</td>\n",
       "    </tr>\n",
       "    <tr>\n",
       "      <th>incident_hour_of_the_day</th>\n",
       "      <td>[5, 8, 7, 20, 19, 0, 23, 21, 14, 22, 9, 12, 15...</td>\n",
       "      <td>24</td>\n",
       "    </tr>\n",
       "    <tr>\n",
       "      <th>number_of_vehicles_involved</th>\n",
       "      <td>[0, 2, 3, 1]</td>\n",
       "      <td>4</td>\n",
       "    </tr>\n",
       "    <tr>\n",
       "      <th>property_damage</th>\n",
       "      <td>[1, 0]</td>\n",
       "      <td>2</td>\n",
       "    </tr>\n",
       "    <tr>\n",
       "      <th>bodily_injuries</th>\n",
       "      <td>[1, 0, 2]</td>\n",
       "      <td>3</td>\n",
       "    </tr>\n",
       "    <tr>\n",
       "      <th>witnesses</th>\n",
       "      <td>[2, 0, 3, 1]</td>\n",
       "      <td>4</td>\n",
       "    </tr>\n",
       "    <tr>\n",
       "      <th>police_report_available</th>\n",
       "      <td>[1, 0]</td>\n",
       "      <td>2</td>\n",
       "    </tr>\n",
       "    <tr>\n",
       "      <th>total_claim_amount</th>\n",
       "      <td>[71610, 5070, 34650, 63400, 6500, 64100, 78650...</td>\n",
       "      <td>763</td>\n",
       "    </tr>\n",
       "    <tr>\n",
       "      <th>injury_claim</th>\n",
       "      <td>[6510, 780, 7700, 6340, 1300, 6410, 21450, 938...</td>\n",
       "      <td>638</td>\n",
       "    </tr>\n",
       "    <tr>\n",
       "      <th>property_claim</th>\n",
       "      <td>[13020, 780, 3850, 6340, 650, 6410, 7150, 9380...</td>\n",
       "      <td>626</td>\n",
       "    </tr>\n",
       "    <tr>\n",
       "      <th>vehicle_claim</th>\n",
       "      <td>[52080, 3510, 23100, 50720, 4550, 51280, 50050...</td>\n",
       "      <td>726</td>\n",
       "    </tr>\n",
       "    <tr>\n",
       "      <th>auto_make</th>\n",
       "      <td>[10, 8, 4, 3, 0, 9, 1, 12, 5, 11, 2, 7, 6, 13]</td>\n",
       "      <td>14</td>\n",
       "    </tr>\n",
       "    <tr>\n",
       "      <th>auto_model</th>\n",
       "      <td>[1, 12, 30, 34, 31, 3, 29, 5, 9, 14, 4, 18, 27...</td>\n",
       "      <td>39</td>\n",
       "    </tr>\n",
       "    <tr>\n",
       "      <th>auto_year</th>\n",
       "      <td>[9, 12, 19, 14, 8, 17, 20, 1, 7, 11, 5, 15, 4,...</td>\n",
       "      <td>21</td>\n",
       "    </tr>\n",
       "    <tr>\n",
       "      <th>fraud_reported</th>\n",
       "      <td>[1, 0]</td>\n",
       "      <td>2</td>\n",
       "    </tr>\n",
       "    <tr>\n",
       "      <th>Policy_Bind_Month</th>\n",
       "      <td>[10, 6, 5, 12, 4, 3, 7, 11, 8, 2, 9, 1]</td>\n",
       "      <td>12</td>\n",
       "    </tr>\n",
       "    <tr>\n",
       "      <th>Policy_Bind_Day</th>\n",
       "      <td>[17, 27, 9, 25, 6, 10, 2, 26, 29, 20, 28, 19, ...</td>\n",
       "      <td>31</td>\n",
       "    </tr>\n",
       "    <tr>\n",
       "      <th>incident_Month</th>\n",
       "      <td>[1, 2, 10, 5, 6, 8, 11, 9, 7, 12, 3, 4]</td>\n",
       "      <td>12</td>\n",
       "    </tr>\n",
       "    <tr>\n",
       "      <th>incident_Day</th>\n",
       "      <td>[25, 21, 22, 1, 17, 13, 27, 30, 15, 29, 19, 2,...</td>\n",
       "      <td>22</td>\n",
       "    </tr>\n",
       "  </tbody>\n",
       "</table>\n",
       "</div>"
      ],
      "text/plain": [
       "                                                                 unique values  \\\n",
       "months_as_customer           [328, 228, 134, 256, 137, 165, 27, 212, 235, 4...   \n",
       "age                          [48, 42, 29, 41, 44, 39, 34, 37, 33, 61, 23, 3...   \n",
       "policy_state                                                         [2, 1, 0]   \n",
       "policy_csl                                                           [1, 0, 2]   \n",
       "policy_deductable                                                    [1, 2, 0]   \n",
       "policy_annual_premium        [1406.91, 1197.22, 1413.14, 1415.74, 1583.91, ...   \n",
       "umbrella_limit                                                          [0, 1]   \n",
       "insured_zip                  [466132, 468176, 430632, 608117, 610706, 47845...   \n",
       "insured_sex                                                             [1, 0]   \n",
       "insured_education_level                                  [4, 6, 0, 5, 2, 1, 3]   \n",
       "insured_occupation              [2, 6, 11, 1, 12, 9, 7, 8, 3, 10, 13, 5, 0, 4]   \n",
       "insured_hobbies              [17, 15, 2, 3, 0, 9, 4, 7, 16, 12, 10, 19, 13,...   \n",
       "insured_relationship                                        [0, 2, 3, 4, 5, 1]   \n",
       "capital-gains                [53300, 0, 35100, 48900, 66000, 38400, 52800, ...   \n",
       "capital-loss                 [0, -62400, -46000, -77000, -39300, -51000, -3...   \n",
       "incident_type                                                     [2, 3, 0, 1]   \n",
       "collision_type                                                       [2, 1, 0]   \n",
       "incident_severity                                                 [0, 1, 2, 3]   \n",
       "authorities_contacted                                          [4, 2, 1, 3, 0]   \n",
       "incident_state                                           [1, 5, 0, 6, 2, 3, 4]   \n",
       "incident_city                                            [1, 5, 0, 6, 2, 3, 4]   \n",
       "incident_location            [996, 628, 685, 669, 220, 891, 539, 276, 429, ...   \n",
       "incident_hour_of_the_day     [5, 8, 7, 20, 19, 0, 23, 21, 14, 22, 9, 12, 15...   \n",
       "number_of_vehicles_involved                                       [0, 2, 3, 1]   \n",
       "property_damage                                                         [1, 0]   \n",
       "bodily_injuries                                                      [1, 0, 2]   \n",
       "witnesses                                                         [2, 0, 3, 1]   \n",
       "police_report_available                                                 [1, 0]   \n",
       "total_claim_amount           [71610, 5070, 34650, 63400, 6500, 64100, 78650...   \n",
       "injury_claim                 [6510, 780, 7700, 6340, 1300, 6410, 21450, 938...   \n",
       "property_claim               [13020, 780, 3850, 6340, 650, 6410, 7150, 9380...   \n",
       "vehicle_claim                [52080, 3510, 23100, 50720, 4550, 51280, 50050...   \n",
       "auto_make                       [10, 8, 4, 3, 0, 9, 1, 12, 5, 11, 2, 7, 6, 13]   \n",
       "auto_model                   [1, 12, 30, 34, 31, 3, 29, 5, 9, 14, 4, 18, 27...   \n",
       "auto_year                    [9, 12, 19, 14, 8, 17, 20, 1, 7, 11, 5, 15, 4,...   \n",
       "fraud_reported                                                          [1, 0]   \n",
       "Policy_Bind_Month                      [10, 6, 5, 12, 4, 3, 7, 11, 8, 2, 9, 1]   \n",
       "Policy_Bind_Day              [17, 27, 9, 25, 6, 10, 2, 26, 29, 20, 28, 19, ...   \n",
       "incident_Month                         [1, 2, 10, 5, 6, 8, 11, 9, 7, 12, 3, 4]   \n",
       "incident_Day                 [25, 21, 22, 1, 17, 13, 27, 30, 15, 29, 19, 2,...   \n",
       "\n",
       "                             number of unique values  \n",
       "months_as_customer                               391  \n",
       "age                                               46  \n",
       "policy_state                                       3  \n",
       "policy_csl                                         3  \n",
       "policy_deductable                                  3  \n",
       "policy_annual_premium                            991  \n",
       "umbrella_limit                                     2  \n",
       "insured_zip                                      995  \n",
       "insured_sex                                        2  \n",
       "insured_education_level                            7  \n",
       "insured_occupation                                14  \n",
       "insured_hobbies                                   20  \n",
       "insured_relationship                               6  \n",
       "capital-gains                                    338  \n",
       "capital-loss                                     354  \n",
       "incident_type                                      4  \n",
       "collision_type                                     3  \n",
       "incident_severity                                  4  \n",
       "authorities_contacted                              5  \n",
       "incident_state                                     7  \n",
       "incident_city                                      7  \n",
       "incident_location                               1000  \n",
       "incident_hour_of_the_day                          24  \n",
       "number_of_vehicles_involved                        4  \n",
       "property_damage                                    2  \n",
       "bodily_injuries                                    3  \n",
       "witnesses                                          4  \n",
       "police_report_available                            2  \n",
       "total_claim_amount                               763  \n",
       "injury_claim                                     638  \n",
       "property_claim                                   626  \n",
       "vehicle_claim                                    726  \n",
       "auto_make                                         14  \n",
       "auto_model                                        39  \n",
       "auto_year                                         21  \n",
       "fraud_reported                                     2  \n",
       "Policy_Bind_Month                                 12  \n",
       "Policy_Bind_Day                                   31  \n",
       "incident_Month                                    12  \n",
       "incident_Day                                      22  "
      ]
     },
     "execution_count": 78,
     "metadata": {},
     "output_type": "execute_result"
    }
   ],
   "source": [
    "pd.concat({'unique values': df.apply(pd.unique), 'number of unique values': df.nunique()}, axis=1)"
   ]
  },
  {
   "cell_type": "markdown",
   "metadata": {},
   "source": [
    "# Removing Outliers with Zscore"
   ]
  },
  {
   "cell_type": "code",
   "execution_count": 79,
   "metadata": {},
   "outputs": [],
   "source": [
    "from scipy.stats import zscore"
   ]
  },
  {
   "cell_type": "code",
   "execution_count": 80,
   "metadata": {},
   "outputs": [
    {
     "data": {
      "text/plain": [
       "array([[1.07813958, 0.99083647, 1.18717314, ..., 0.17545148, 0.73503976,\n",
       "        1.14160272],\n",
       "       [0.2089946 , 0.33407345, 0.01685641, ..., 1.30593786, 0.73503976,\n",
       "        0.75838596],\n",
       "       [0.60800168, 1.08891308, 1.18717314, ..., 0.72893761, 0.42966387,\n",
       "        0.85419015],\n",
       "       ...,\n",
       "       [0.64276748, 0.54161057, 1.18717314, ..., 0.17545148, 0.73503976,\n",
       "        0.94999434],\n",
       "       [2.20802805, 2.52328351, 1.22088596, ..., 0.28850012, 0.42966387,\n",
       "        1.23740691],\n",
       "       [2.19064515, 2.3043625 , 1.18717314, ..., 0.50284034, 0.42966387,\n",
       "        1.23740691]])"
      ]
     },
     "execution_count": 80,
     "metadata": {},
     "output_type": "execute_result"
    }
   ],
   "source": [
    "z=np.abs(zscore(df))\n",
    "z"
   ]
  },
  {
   "cell_type": "code",
   "execution_count": 81,
   "metadata": {},
   "outputs": [
    {
     "name": "stdout",
     "output_type": "stream",
     "text": [
      "(array([229, 248, 500, 763, 807], dtype=int64), array([ 5,  5, 30,  5, 14], dtype=int64))\n"
     ]
    }
   ],
   "source": [
    "threshold=3\n",
    "print(np.where(z>3))"
   ]
  },
  {
   "cell_type": "code",
   "execution_count": 82,
   "metadata": {},
   "outputs": [
    {
     "data": {
      "text/html": [
       "<div>\n",
       "<style scoped>\n",
       "    .dataframe tbody tr th:only-of-type {\n",
       "        vertical-align: middle;\n",
       "    }\n",
       "\n",
       "    .dataframe tbody tr th {\n",
       "        vertical-align: top;\n",
       "    }\n",
       "\n",
       "    .dataframe thead th {\n",
       "        text-align: right;\n",
       "    }\n",
       "</style>\n",
       "<table border=\"1\" class=\"dataframe\">\n",
       "  <thead>\n",
       "    <tr style=\"text-align: right;\">\n",
       "      <th></th>\n",
       "      <th>months_as_customer</th>\n",
       "      <th>age</th>\n",
       "      <th>policy_state</th>\n",
       "      <th>policy_csl</th>\n",
       "      <th>policy_deductable</th>\n",
       "      <th>policy_annual_premium</th>\n",
       "      <th>umbrella_limit</th>\n",
       "      <th>insured_zip</th>\n",
       "      <th>insured_sex</th>\n",
       "      <th>insured_education_level</th>\n",
       "      <th>...</th>\n",
       "      <th>property_claim</th>\n",
       "      <th>vehicle_claim</th>\n",
       "      <th>auto_make</th>\n",
       "      <th>auto_model</th>\n",
       "      <th>auto_year</th>\n",
       "      <th>fraud_reported</th>\n",
       "      <th>Policy_Bind_Month</th>\n",
       "      <th>Policy_Bind_Day</th>\n",
       "      <th>incident_Month</th>\n",
       "      <th>incident_Day</th>\n",
       "    </tr>\n",
       "  </thead>\n",
       "  <tbody>\n",
       "    <tr>\n",
       "      <th>0</th>\n",
       "      <td>328</td>\n",
       "      <td>48</td>\n",
       "      <td>2</td>\n",
       "      <td>1</td>\n",
       "      <td>1</td>\n",
       "      <td>1406.91</td>\n",
       "      <td>0</td>\n",
       "      <td>466132</td>\n",
       "      <td>1</td>\n",
       "      <td>4</td>\n",
       "      <td>...</td>\n",
       "      <td>13020</td>\n",
       "      <td>52080</td>\n",
       "      <td>10</td>\n",
       "      <td>1</td>\n",
       "      <td>9</td>\n",
       "      <td>1</td>\n",
       "      <td>10</td>\n",
       "      <td>17</td>\n",
       "      <td>1</td>\n",
       "      <td>25</td>\n",
       "    </tr>\n",
       "    <tr>\n",
       "      <th>1</th>\n",
       "      <td>228</td>\n",
       "      <td>42</td>\n",
       "      <td>1</td>\n",
       "      <td>1</td>\n",
       "      <td>2</td>\n",
       "      <td>1197.22</td>\n",
       "      <td>1</td>\n",
       "      <td>468176</td>\n",
       "      <td>1</td>\n",
       "      <td>4</td>\n",
       "      <td>...</td>\n",
       "      <td>780</td>\n",
       "      <td>3510</td>\n",
       "      <td>8</td>\n",
       "      <td>12</td>\n",
       "      <td>12</td>\n",
       "      <td>1</td>\n",
       "      <td>6</td>\n",
       "      <td>27</td>\n",
       "      <td>1</td>\n",
       "      <td>21</td>\n",
       "    </tr>\n",
       "    <tr>\n",
       "      <th>2</th>\n",
       "      <td>134</td>\n",
       "      <td>29</td>\n",
       "      <td>2</td>\n",
       "      <td>0</td>\n",
       "      <td>2</td>\n",
       "      <td>1413.14</td>\n",
       "      <td>1</td>\n",
       "      <td>430632</td>\n",
       "      <td>0</td>\n",
       "      <td>6</td>\n",
       "      <td>...</td>\n",
       "      <td>3850</td>\n",
       "      <td>23100</td>\n",
       "      <td>4</td>\n",
       "      <td>30</td>\n",
       "      <td>12</td>\n",
       "      <td>0</td>\n",
       "      <td>6</td>\n",
       "      <td>9</td>\n",
       "      <td>2</td>\n",
       "      <td>22</td>\n",
       "    </tr>\n",
       "    <tr>\n",
       "      <th>3</th>\n",
       "      <td>256</td>\n",
       "      <td>41</td>\n",
       "      <td>0</td>\n",
       "      <td>1</td>\n",
       "      <td>2</td>\n",
       "      <td>1415.74</td>\n",
       "      <td>1</td>\n",
       "      <td>608117</td>\n",
       "      <td>0</td>\n",
       "      <td>6</td>\n",
       "      <td>...</td>\n",
       "      <td>6340</td>\n",
       "      <td>50720</td>\n",
       "      <td>3</td>\n",
       "      <td>34</td>\n",
       "      <td>19</td>\n",
       "      <td>1</td>\n",
       "      <td>5</td>\n",
       "      <td>25</td>\n",
       "      <td>10</td>\n",
       "      <td>1</td>\n",
       "    </tr>\n",
       "    <tr>\n",
       "      <th>4</th>\n",
       "      <td>228</td>\n",
       "      <td>44</td>\n",
       "      <td>0</td>\n",
       "      <td>2</td>\n",
       "      <td>1</td>\n",
       "      <td>1583.91</td>\n",
       "      <td>1</td>\n",
       "      <td>610706</td>\n",
       "      <td>1</td>\n",
       "      <td>0</td>\n",
       "      <td>...</td>\n",
       "      <td>650</td>\n",
       "      <td>4550</td>\n",
       "      <td>0</td>\n",
       "      <td>31</td>\n",
       "      <td>14</td>\n",
       "      <td>0</td>\n",
       "      <td>6</td>\n",
       "      <td>6</td>\n",
       "      <td>2</td>\n",
       "      <td>17</td>\n",
       "    </tr>\n",
       "    <tr>\n",
       "      <th>...</th>\n",
       "      <td>...</td>\n",
       "      <td>...</td>\n",
       "      <td>...</td>\n",
       "      <td>...</td>\n",
       "      <td>...</td>\n",
       "      <td>...</td>\n",
       "      <td>...</td>\n",
       "      <td>...</td>\n",
       "      <td>...</td>\n",
       "      <td>...</td>\n",
       "      <td>...</td>\n",
       "      <td>...</td>\n",
       "      <td>...</td>\n",
       "      <td>...</td>\n",
       "      <td>...</td>\n",
       "      <td>...</td>\n",
       "      <td>...</td>\n",
       "      <td>...</td>\n",
       "      <td>...</td>\n",
       "      <td>...</td>\n",
       "      <td>...</td>\n",
       "    </tr>\n",
       "    <tr>\n",
       "      <th>995</th>\n",
       "      <td>3</td>\n",
       "      <td>38</td>\n",
       "      <td>2</td>\n",
       "      <td>2</td>\n",
       "      <td>1</td>\n",
       "      <td>1310.80</td>\n",
       "      <td>0</td>\n",
       "      <td>431289</td>\n",
       "      <td>0</td>\n",
       "      <td>5</td>\n",
       "      <td>...</td>\n",
       "      <td>8720</td>\n",
       "      <td>61040</td>\n",
       "      <td>6</td>\n",
       "      <td>6</td>\n",
       "      <td>11</td>\n",
       "      <td>0</td>\n",
       "      <td>7</td>\n",
       "      <td>16</td>\n",
       "      <td>2</td>\n",
       "      <td>22</td>\n",
       "    </tr>\n",
       "    <tr>\n",
       "      <th>996</th>\n",
       "      <td>285</td>\n",
       "      <td>41</td>\n",
       "      <td>0</td>\n",
       "      <td>0</td>\n",
       "      <td>1</td>\n",
       "      <td>1436.79</td>\n",
       "      <td>0</td>\n",
       "      <td>608177</td>\n",
       "      <td>0</td>\n",
       "      <td>6</td>\n",
       "      <td>...</td>\n",
       "      <td>18080</td>\n",
       "      <td>72320</td>\n",
       "      <td>13</td>\n",
       "      <td>28</td>\n",
       "      <td>20</td>\n",
       "      <td>0</td>\n",
       "      <td>5</td>\n",
       "      <td>1</td>\n",
       "      <td>1</td>\n",
       "      <td>24</td>\n",
       "    </tr>\n",
       "    <tr>\n",
       "      <th>997</th>\n",
       "      <td>130</td>\n",
       "      <td>34</td>\n",
       "      <td>2</td>\n",
       "      <td>1</td>\n",
       "      <td>0</td>\n",
       "      <td>1383.49</td>\n",
       "      <td>1</td>\n",
       "      <td>442797</td>\n",
       "      <td>0</td>\n",
       "      <td>5</td>\n",
       "      <td>...</td>\n",
       "      <td>7500</td>\n",
       "      <td>52500</td>\n",
       "      <td>11</td>\n",
       "      <td>19</td>\n",
       "      <td>1</td>\n",
       "      <td>0</td>\n",
       "      <td>2</td>\n",
       "      <td>17</td>\n",
       "      <td>1</td>\n",
       "      <td>23</td>\n",
       "    </tr>\n",
       "    <tr>\n",
       "      <th>998</th>\n",
       "      <td>458</td>\n",
       "      <td>62</td>\n",
       "      <td>0</td>\n",
       "      <td>2</td>\n",
       "      <td>2</td>\n",
       "      <td>1356.92</td>\n",
       "      <td>1</td>\n",
       "      <td>441714</td>\n",
       "      <td>1</td>\n",
       "      <td>0</td>\n",
       "      <td>...</td>\n",
       "      <td>5220</td>\n",
       "      <td>36540</td>\n",
       "      <td>1</td>\n",
       "      <td>5</td>\n",
       "      <td>3</td>\n",
       "      <td>0</td>\n",
       "      <td>11</td>\n",
       "      <td>18</td>\n",
       "      <td>2</td>\n",
       "      <td>26</td>\n",
       "    </tr>\n",
       "    <tr>\n",
       "      <th>999</th>\n",
       "      <td>456</td>\n",
       "      <td>60</td>\n",
       "      <td>2</td>\n",
       "      <td>1</td>\n",
       "      <td>1</td>\n",
       "      <td>766.19</td>\n",
       "      <td>0</td>\n",
       "      <td>612260</td>\n",
       "      <td>0</td>\n",
       "      <td>0</td>\n",
       "      <td>...</td>\n",
       "      <td>920</td>\n",
       "      <td>3680</td>\n",
       "      <td>8</td>\n",
       "      <td>12</td>\n",
       "      <td>12</td>\n",
       "      <td>0</td>\n",
       "      <td>11</td>\n",
       "      <td>11</td>\n",
       "      <td>2</td>\n",
       "      <td>26</td>\n",
       "    </tr>\n",
       "  </tbody>\n",
       "</table>\n",
       "<p>995 rows × 40 columns</p>\n",
       "</div>"
      ],
      "text/plain": [
       "     months_as_customer  age  policy_state  policy_csl  policy_deductable  \\\n",
       "0                   328   48             2           1                  1   \n",
       "1                   228   42             1           1                  2   \n",
       "2                   134   29             2           0                  2   \n",
       "3                   256   41             0           1                  2   \n",
       "4                   228   44             0           2                  1   \n",
       "..                  ...  ...           ...         ...                ...   \n",
       "995                   3   38             2           2                  1   \n",
       "996                 285   41             0           0                  1   \n",
       "997                 130   34             2           1                  0   \n",
       "998                 458   62             0           2                  2   \n",
       "999                 456   60             2           1                  1   \n",
       "\n",
       "     policy_annual_premium  umbrella_limit  insured_zip  insured_sex  \\\n",
       "0                  1406.91               0       466132            1   \n",
       "1                  1197.22               1       468176            1   \n",
       "2                  1413.14               1       430632            0   \n",
       "3                  1415.74               1       608117            0   \n",
       "4                  1583.91               1       610706            1   \n",
       "..                     ...             ...          ...          ...   \n",
       "995                1310.80               0       431289            0   \n",
       "996                1436.79               0       608177            0   \n",
       "997                1383.49               1       442797            0   \n",
       "998                1356.92               1       441714            1   \n",
       "999                 766.19               0       612260            0   \n",
       "\n",
       "     insured_education_level  ...  property_claim  vehicle_claim  auto_make  \\\n",
       "0                          4  ...           13020          52080         10   \n",
       "1                          4  ...             780           3510          8   \n",
       "2                          6  ...            3850          23100          4   \n",
       "3                          6  ...            6340          50720          3   \n",
       "4                          0  ...             650           4550          0   \n",
       "..                       ...  ...             ...            ...        ...   \n",
       "995                        5  ...            8720          61040          6   \n",
       "996                        6  ...           18080          72320         13   \n",
       "997                        5  ...            7500          52500         11   \n",
       "998                        0  ...            5220          36540          1   \n",
       "999                        0  ...             920           3680          8   \n",
       "\n",
       "     auto_model  auto_year  fraud_reported  Policy_Bind_Month  \\\n",
       "0             1          9               1                 10   \n",
       "1            12         12               1                  6   \n",
       "2            30         12               0                  6   \n",
       "3            34         19               1                  5   \n",
       "4            31         14               0                  6   \n",
       "..          ...        ...             ...                ...   \n",
       "995           6         11               0                  7   \n",
       "996          28         20               0                  5   \n",
       "997          19          1               0                  2   \n",
       "998           5          3               0                 11   \n",
       "999          12         12               0                 11   \n",
       "\n",
       "     Policy_Bind_Day  incident_Month  incident_Day  \n",
       "0                 17               1            25  \n",
       "1                 27               1            21  \n",
       "2                  9               2            22  \n",
       "3                 25              10             1  \n",
       "4                  6               2            17  \n",
       "..               ...             ...           ...  \n",
       "995               16               2            22  \n",
       "996                1               1            24  \n",
       "997               17               1            23  \n",
       "998               18               2            26  \n",
       "999               11               2            26  \n",
       "\n",
       "[995 rows x 40 columns]"
      ]
     },
     "execution_count": 82,
     "metadata": {},
     "output_type": "execute_result"
    }
   ],
   "source": [
    "xd=df[(z<3).all(axis=1)]\n",
    "xd"
   ]
  },
  {
   "cell_type": "markdown",
   "metadata": {},
   "source": [
    "# Spliting the Independent and Target Variables."
   ]
  },
  {
   "cell_type": "code",
   "execution_count": 83,
   "metadata": {},
   "outputs": [],
   "source": [
    "x=xd.drop('fraud_reported',axis=1)\n",
    "y=xd['fraud_reported']"
   ]
  },
  {
   "cell_type": "markdown",
   "metadata": {},
   "source": [
    "# Data Scaling"
   ]
  },
  {
   "cell_type": "code",
   "execution_count": 84,
   "metadata": {},
   "outputs": [
    {
     "data": {
      "text/html": [
       "<div>\n",
       "<style scoped>\n",
       "    .dataframe tbody tr th:only-of-type {\n",
       "        vertical-align: middle;\n",
       "    }\n",
       "\n",
       "    .dataframe tbody tr th {\n",
       "        vertical-align: top;\n",
       "    }\n",
       "\n",
       "    .dataframe thead th {\n",
       "        text-align: right;\n",
       "    }\n",
       "</style>\n",
       "<table border=\"1\" class=\"dataframe\">\n",
       "  <thead>\n",
       "    <tr style=\"text-align: right;\">\n",
       "      <th></th>\n",
       "      <th>months_as_customer</th>\n",
       "      <th>age</th>\n",
       "      <th>policy_state</th>\n",
       "      <th>policy_csl</th>\n",
       "      <th>policy_deductable</th>\n",
       "      <th>policy_annual_premium</th>\n",
       "      <th>umbrella_limit</th>\n",
       "      <th>insured_zip</th>\n",
       "      <th>insured_sex</th>\n",
       "      <th>insured_education_level</th>\n",
       "      <th>...</th>\n",
       "      <th>injury_claim</th>\n",
       "      <th>property_claim</th>\n",
       "      <th>vehicle_claim</th>\n",
       "      <th>auto_make</th>\n",
       "      <th>auto_model</th>\n",
       "      <th>auto_year</th>\n",
       "      <th>Policy_Bind_Month</th>\n",
       "      <th>Policy_Bind_Day</th>\n",
       "      <th>incident_Month</th>\n",
       "      <th>incident_Day</th>\n",
       "    </tr>\n",
       "  </thead>\n",
       "  <tbody>\n",
       "    <tr>\n",
       "      <th>0</th>\n",
       "      <td>0.684760</td>\n",
       "      <td>0.644444</td>\n",
       "      <td>1.0</td>\n",
       "      <td>0.5</td>\n",
       "      <td>0.5</td>\n",
       "      <td>0.606891</td>\n",
       "      <td>0.0</td>\n",
       "      <td>0.188769</td>\n",
       "      <td>1.0</td>\n",
       "      <td>0.666667</td>\n",
       "      <td>...</td>\n",
       "      <td>0.303497</td>\n",
       "      <td>0.596974</td>\n",
       "      <td>0.654296</td>\n",
       "      <td>0.769231</td>\n",
       "      <td>0.026316</td>\n",
       "      <td>0.45</td>\n",
       "      <td>0.818182</td>\n",
       "      <td>0.533333</td>\n",
       "      <td>0.000000</td>\n",
       "      <td>0.800000</td>\n",
       "    </tr>\n",
       "    <tr>\n",
       "      <th>1</th>\n",
       "      <td>0.475992</td>\n",
       "      <td>0.511111</td>\n",
       "      <td>0.5</td>\n",
       "      <td>0.5</td>\n",
       "      <td>1.0</td>\n",
       "      <td>0.460404</td>\n",
       "      <td>1.0</td>\n",
       "      <td>0.199478</td>\n",
       "      <td>1.0</td>\n",
       "      <td>0.666667</td>\n",
       "      <td>...</td>\n",
       "      <td>0.036364</td>\n",
       "      <td>0.035763</td>\n",
       "      <td>0.043276</td>\n",
       "      <td>0.615385</td>\n",
       "      <td>0.315789</td>\n",
       "      <td>0.60</td>\n",
       "      <td>0.454545</td>\n",
       "      <td>0.866667</td>\n",
       "      <td>0.000000</td>\n",
       "      <td>0.666667</td>\n",
       "    </tr>\n",
       "    <tr>\n",
       "      <th>2</th>\n",
       "      <td>0.279749</td>\n",
       "      <td>0.222222</td>\n",
       "      <td>1.0</td>\n",
       "      <td>0.0</td>\n",
       "      <td>1.0</td>\n",
       "      <td>0.611243</td>\n",
       "      <td>1.0</td>\n",
       "      <td>0.002766</td>\n",
       "      <td>0.0</td>\n",
       "      <td>1.000000</td>\n",
       "      <td>...</td>\n",
       "      <td>0.358974</td>\n",
       "      <td>0.176525</td>\n",
       "      <td>0.289722</td>\n",
       "      <td>0.307692</td>\n",
       "      <td>0.789474</td>\n",
       "      <td>0.60</td>\n",
       "      <td>0.454545</td>\n",
       "      <td>0.266667</td>\n",
       "      <td>0.090909</td>\n",
       "      <td>0.700000</td>\n",
       "    </tr>\n",
       "    <tr>\n",
       "      <th>3</th>\n",
       "      <td>0.534447</td>\n",
       "      <td>0.488889</td>\n",
       "      <td>0.0</td>\n",
       "      <td>0.5</td>\n",
       "      <td>1.0</td>\n",
       "      <td>0.613059</td>\n",
       "      <td>1.0</td>\n",
       "      <td>0.932699</td>\n",
       "      <td>0.0</td>\n",
       "      <td>1.000000</td>\n",
       "      <td>...</td>\n",
       "      <td>0.295571</td>\n",
       "      <td>0.290692</td>\n",
       "      <td>0.637187</td>\n",
       "      <td>0.230769</td>\n",
       "      <td>0.894737</td>\n",
       "      <td>0.95</td>\n",
       "      <td>0.363636</td>\n",
       "      <td>0.800000</td>\n",
       "      <td>0.818182</td>\n",
       "      <td>0.000000</td>\n",
       "    </tr>\n",
       "    <tr>\n",
       "      <th>4</th>\n",
       "      <td>0.475992</td>\n",
       "      <td>0.555556</td>\n",
       "      <td>0.0</td>\n",
       "      <td>1.0</td>\n",
       "      <td>0.5</td>\n",
       "      <td>0.730541</td>\n",
       "      <td>1.0</td>\n",
       "      <td>0.946264</td>\n",
       "      <td>1.0</td>\n",
       "      <td>0.000000</td>\n",
       "      <td>...</td>\n",
       "      <td>0.060606</td>\n",
       "      <td>0.029803</td>\n",
       "      <td>0.056359</td>\n",
       "      <td>0.000000</td>\n",
       "      <td>0.815789</td>\n",
       "      <td>0.70</td>\n",
       "      <td>0.454545</td>\n",
       "      <td>0.166667</td>\n",
       "      <td>0.090909</td>\n",
       "      <td>0.533333</td>\n",
       "    </tr>\n",
       "    <tr>\n",
       "      <th>...</th>\n",
       "      <td>...</td>\n",
       "      <td>...</td>\n",
       "      <td>...</td>\n",
       "      <td>...</td>\n",
       "      <td>...</td>\n",
       "      <td>...</td>\n",
       "      <td>...</td>\n",
       "      <td>...</td>\n",
       "      <td>...</td>\n",
       "      <td>...</td>\n",
       "      <td>...</td>\n",
       "      <td>...</td>\n",
       "      <td>...</td>\n",
       "      <td>...</td>\n",
       "      <td>...</td>\n",
       "      <td>...</td>\n",
       "      <td>...</td>\n",
       "      <td>...</td>\n",
       "      <td>...</td>\n",
       "      <td>...</td>\n",
       "      <td>...</td>\n",
       "    </tr>\n",
       "    <tr>\n",
       "      <th>990</th>\n",
       "      <td>0.006263</td>\n",
       "      <td>0.422222</td>\n",
       "      <td>1.0</td>\n",
       "      <td>1.0</td>\n",
       "      <td>0.5</td>\n",
       "      <td>0.539750</td>\n",
       "      <td>0.0</td>\n",
       "      <td>0.006209</td>\n",
       "      <td>0.0</td>\n",
       "      <td>0.833333</td>\n",
       "      <td>...</td>\n",
       "      <td>0.813054</td>\n",
       "      <td>0.399817</td>\n",
       "      <td>0.767015</td>\n",
       "      <td>0.461538</td>\n",
       "      <td>0.157895</td>\n",
       "      <td>0.55</td>\n",
       "      <td>0.545455</td>\n",
       "      <td>0.500000</td>\n",
       "      <td>0.090909</td>\n",
       "      <td>0.700000</td>\n",
       "    </tr>\n",
       "    <tr>\n",
       "      <th>991</th>\n",
       "      <td>0.594990</td>\n",
       "      <td>0.488889</td>\n",
       "      <td>0.0</td>\n",
       "      <td>0.0</td>\n",
       "      <td>0.5</td>\n",
       "      <td>0.627765</td>\n",
       "      <td>0.0</td>\n",
       "      <td>0.933013</td>\n",
       "      <td>0.0</td>\n",
       "      <td>1.000000</td>\n",
       "      <td>...</td>\n",
       "      <td>0.842890</td>\n",
       "      <td>0.828978</td>\n",
       "      <td>0.908919</td>\n",
       "      <td>1.000000</td>\n",
       "      <td>0.736842</td>\n",
       "      <td>1.00</td>\n",
       "      <td>0.363636</td>\n",
       "      <td>0.000000</td>\n",
       "      <td>0.000000</td>\n",
       "      <td>0.766667</td>\n",
       "    </tr>\n",
       "    <tr>\n",
       "      <th>992</th>\n",
       "      <td>0.271399</td>\n",
       "      <td>0.333333</td>\n",
       "      <td>1.0</td>\n",
       "      <td>0.5</td>\n",
       "      <td>0.0</td>\n",
       "      <td>0.590530</td>\n",
       "      <td>1.0</td>\n",
       "      <td>0.066505</td>\n",
       "      <td>0.0</td>\n",
       "      <td>0.833333</td>\n",
       "      <td>...</td>\n",
       "      <td>0.349650</td>\n",
       "      <td>0.343879</td>\n",
       "      <td>0.659580</td>\n",
       "      <td>0.846154</td>\n",
       "      <td>0.500000</td>\n",
       "      <td>0.05</td>\n",
       "      <td>0.090909</td>\n",
       "      <td>0.533333</td>\n",
       "      <td>0.000000</td>\n",
       "      <td>0.733333</td>\n",
       "    </tr>\n",
       "    <tr>\n",
       "      <th>993</th>\n",
       "      <td>0.956159</td>\n",
       "      <td>0.955556</td>\n",
       "      <td>0.0</td>\n",
       "      <td>1.0</td>\n",
       "      <td>1.0</td>\n",
       "      <td>0.571968</td>\n",
       "      <td>1.0</td>\n",
       "      <td>0.060831</td>\n",
       "      <td>1.0</td>\n",
       "      <td>0.000000</td>\n",
       "      <td>...</td>\n",
       "      <td>0.243357</td>\n",
       "      <td>0.239340</td>\n",
       "      <td>0.458800</td>\n",
       "      <td>0.076923</td>\n",
       "      <td>0.131579</td>\n",
       "      <td>0.15</td>\n",
       "      <td>0.909091</td>\n",
       "      <td>0.566667</td>\n",
       "      <td>0.090909</td>\n",
       "      <td>0.833333</td>\n",
       "    </tr>\n",
       "    <tr>\n",
       "      <th>994</th>\n",
       "      <td>0.951983</td>\n",
       "      <td>0.911111</td>\n",
       "      <td>1.0</td>\n",
       "      <td>0.5</td>\n",
       "      <td>0.5</td>\n",
       "      <td>0.159292</td>\n",
       "      <td>0.0</td>\n",
       "      <td>0.954406</td>\n",
       "      <td>0.0</td>\n",
       "      <td>0.000000</td>\n",
       "      <td>...</td>\n",
       "      <td>0.021445</td>\n",
       "      <td>0.042182</td>\n",
       "      <td>0.045415</td>\n",
       "      <td>0.615385</td>\n",
       "      <td>0.315789</td>\n",
       "      <td>0.60</td>\n",
       "      <td>0.909091</td>\n",
       "      <td>0.333333</td>\n",
       "      <td>0.090909</td>\n",
       "      <td>0.833333</td>\n",
       "    </tr>\n",
       "  </tbody>\n",
       "</table>\n",
       "<p>995 rows × 39 columns</p>\n",
       "</div>"
      ],
      "text/plain": [
       "     months_as_customer       age  policy_state  policy_csl  \\\n",
       "0              0.684760  0.644444           1.0         0.5   \n",
       "1              0.475992  0.511111           0.5         0.5   \n",
       "2              0.279749  0.222222           1.0         0.0   \n",
       "3              0.534447  0.488889           0.0         0.5   \n",
       "4              0.475992  0.555556           0.0         1.0   \n",
       "..                  ...       ...           ...         ...   \n",
       "990            0.006263  0.422222           1.0         1.0   \n",
       "991            0.594990  0.488889           0.0         0.0   \n",
       "992            0.271399  0.333333           1.0         0.5   \n",
       "993            0.956159  0.955556           0.0         1.0   \n",
       "994            0.951983  0.911111           1.0         0.5   \n",
       "\n",
       "     policy_deductable  policy_annual_premium  umbrella_limit  insured_zip  \\\n",
       "0                  0.5               0.606891             0.0     0.188769   \n",
       "1                  1.0               0.460404             1.0     0.199478   \n",
       "2                  1.0               0.611243             1.0     0.002766   \n",
       "3                  1.0               0.613059             1.0     0.932699   \n",
       "4                  0.5               0.730541             1.0     0.946264   \n",
       "..                 ...                    ...             ...          ...   \n",
       "990                0.5               0.539750             0.0     0.006209   \n",
       "991                0.5               0.627765             0.0     0.933013   \n",
       "992                0.0               0.590530             1.0     0.066505   \n",
       "993                1.0               0.571968             1.0     0.060831   \n",
       "994                0.5               0.159292             0.0     0.954406   \n",
       "\n",
       "     insured_sex  insured_education_level  ...  injury_claim  property_claim  \\\n",
       "0            1.0                 0.666667  ...      0.303497        0.596974   \n",
       "1            1.0                 0.666667  ...      0.036364        0.035763   \n",
       "2            0.0                 1.000000  ...      0.358974        0.176525   \n",
       "3            0.0                 1.000000  ...      0.295571        0.290692   \n",
       "4            1.0                 0.000000  ...      0.060606        0.029803   \n",
       "..           ...                      ...  ...           ...             ...   \n",
       "990          0.0                 0.833333  ...      0.813054        0.399817   \n",
       "991          0.0                 1.000000  ...      0.842890        0.828978   \n",
       "992          0.0                 0.833333  ...      0.349650        0.343879   \n",
       "993          1.0                 0.000000  ...      0.243357        0.239340   \n",
       "994          0.0                 0.000000  ...      0.021445        0.042182   \n",
       "\n",
       "     vehicle_claim  auto_make  auto_model  auto_year  Policy_Bind_Month  \\\n",
       "0         0.654296   0.769231    0.026316       0.45           0.818182   \n",
       "1         0.043276   0.615385    0.315789       0.60           0.454545   \n",
       "2         0.289722   0.307692    0.789474       0.60           0.454545   \n",
       "3         0.637187   0.230769    0.894737       0.95           0.363636   \n",
       "4         0.056359   0.000000    0.815789       0.70           0.454545   \n",
       "..             ...        ...         ...        ...                ...   \n",
       "990       0.767015   0.461538    0.157895       0.55           0.545455   \n",
       "991       0.908919   1.000000    0.736842       1.00           0.363636   \n",
       "992       0.659580   0.846154    0.500000       0.05           0.090909   \n",
       "993       0.458800   0.076923    0.131579       0.15           0.909091   \n",
       "994       0.045415   0.615385    0.315789       0.60           0.909091   \n",
       "\n",
       "     Policy_Bind_Day  incident_Month  incident_Day  \n",
       "0           0.533333        0.000000      0.800000  \n",
       "1           0.866667        0.000000      0.666667  \n",
       "2           0.266667        0.090909      0.700000  \n",
       "3           0.800000        0.818182      0.000000  \n",
       "4           0.166667        0.090909      0.533333  \n",
       "..               ...             ...           ...  \n",
       "990         0.500000        0.090909      0.700000  \n",
       "991         0.000000        0.000000      0.766667  \n",
       "992         0.533333        0.000000      0.733333  \n",
       "993         0.566667        0.090909      0.833333  \n",
       "994         0.333333        0.090909      0.833333  \n",
       "\n",
       "[995 rows x 39 columns]"
      ]
     },
     "execution_count": 84,
     "metadata": {},
     "output_type": "execute_result"
    }
   ],
   "source": [
    "from sklearn.preprocessing import MinMaxScaler\n",
    "sc=MinMaxScaler()\n",
    "dx=sc.fit_transform(x)\n",
    "dx=pd.DataFrame(dx,columns=x.columns)\n",
    "dx"
   ]
  },
  {
   "cell_type": "markdown",
   "metadata": {},
   "source": [
    "# PCA"
   ]
  },
  {
   "cell_type": "code",
   "execution_count": 85,
   "metadata": {},
   "outputs": [],
   "source": [
    "from sklearn.decomposition import PCA\n",
    "testpca=PCA()\n",
    "Y=testpca.fit(dx)"
   ]
  },
  {
   "cell_type": "code",
   "execution_count": 86,
   "metadata": {},
   "outputs": [
    {
     "data": {
      "text/plain": [
       "array([6.83626957e-02, 5.80745100e-02, 5.45481150e-02, 5.22112875e-02,\n",
       "       5.04696808e-02, 4.26962723e-02, 4.07244960e-02, 3.97150487e-02,\n",
       "       3.92898695e-02, 3.75717741e-02, 3.58189369e-02, 3.57294452e-02,\n",
       "       3.31108493e-02, 3.05181755e-02, 2.98331220e-02, 2.75477226e-02,\n",
       "       2.66282674e-02, 2.44657372e-02, 2.41927717e-02, 2.21246597e-02,\n",
       "       2.18308512e-02, 2.09895358e-02, 2.04612607e-02, 1.95421593e-02,\n",
       "       1.90474490e-02, 1.82889032e-02, 1.78354834e-02, 1.74196554e-02,\n",
       "       1.62316740e-02, 1.51752680e-02, 1.45572445e-02, 7.57350875e-03,\n",
       "       6.18108900e-03, 4.78129286e-03, 2.88686125e-03, 2.73302744e-03,\n",
       "       8.31298903e-04, 1.34821645e-32, 4.14450131e-34])"
      ]
     },
     "execution_count": 86,
     "metadata": {},
     "output_type": "execute_result"
    }
   ],
   "source": [
    "Y.explained_variance_ratio_"
   ]
  },
  {
   "cell_type": "code",
   "execution_count": 87,
   "metadata": {},
   "outputs": [
    {
     "data": {
      "text/plain": [
       "array([  6.83626957,  12.64372058,  18.09853208,  23.31966083,\n",
       "        28.36662891,  32.63625613,  36.70870573,  40.6802106 ,\n",
       "        44.60919755,  48.36637496,  51.94826866,  55.52121318,\n",
       "        58.83229811,  61.88411566,  64.86742786,  67.62220012,\n",
       "        70.28502686,  72.73160058,  75.15087775,  77.36334372,\n",
       "        79.54642885,  81.64538242,  83.6915085 ,  85.64572443,\n",
       "        87.55046933,  89.37935965,  91.16290799,  92.90487353,\n",
       "        94.52804093,  96.04556773,  97.50129218,  98.25864305,\n",
       "        98.87675195,  99.35488124,  99.64356737,  99.91687011,\n",
       "       100.        , 100.        , 100.        ])"
      ]
     },
     "execution_count": 87,
     "metadata": {},
     "output_type": "execute_result"
    }
   ],
   "source": [
    "var_cumu=np.cumsum(Y.explained_variance_ratio_)*100\n",
    "var_cumu"
   ]
  },
  {
   "cell_type": "code",
   "execution_count": 88,
   "metadata": {},
   "outputs": [],
   "source": [
    "FinalPCA=PCA(n_components=30)\n",
    "FinalData=FinalPCA.fit_transform(x)"
   ]
  },
  {
   "cell_type": "code",
   "execution_count": 89,
   "metadata": {},
   "outputs": [
    {
     "data": {
      "text/html": [
       "<div>\n",
       "<style scoped>\n",
       "    .dataframe tbody tr th:only-of-type {\n",
       "        vertical-align: middle;\n",
       "    }\n",
       "\n",
       "    .dataframe tbody tr th {\n",
       "        vertical-align: top;\n",
       "    }\n",
       "\n",
       "    .dataframe thead th {\n",
       "        text-align: right;\n",
       "    }\n",
       "</style>\n",
       "<table border=\"1\" class=\"dataframe\">\n",
       "  <thead>\n",
       "    <tr style=\"text-align: right;\">\n",
       "      <th></th>\n",
       "      <th>0</th>\n",
       "      <th>1</th>\n",
       "      <th>2</th>\n",
       "      <th>3</th>\n",
       "      <th>4</th>\n",
       "      <th>5</th>\n",
       "      <th>6</th>\n",
       "      <th>7</th>\n",
       "      <th>8</th>\n",
       "      <th>9</th>\n",
       "      <th>...</th>\n",
       "      <th>20</th>\n",
       "      <th>21</th>\n",
       "      <th>22</th>\n",
       "      <th>23</th>\n",
       "      <th>24</th>\n",
       "      <th>25</th>\n",
       "      <th>26</th>\n",
       "      <th>27</th>\n",
       "      <th>28</th>\n",
       "      <th>29</th>\n",
       "    </tr>\n",
       "  </thead>\n",
       "  <tbody>\n",
       "    <tr>\n",
       "      <th>0</th>\n",
       "      <td>-34725.802736</td>\n",
       "      <td>21941.113423</td>\n",
       "      <td>-2550.048459</td>\n",
       "      <td>40003.580837</td>\n",
       "      <td>1059.368194</td>\n",
       "      <td>-4632.929315</td>\n",
       "      <td>517.874212</td>\n",
       "      <td>118.525648</td>\n",
       "      <td>125.253619</td>\n",
       "      <td>20.716731</td>\n",
       "      <td>...</td>\n",
       "      <td>-0.024747</td>\n",
       "      <td>-0.842823</td>\n",
       "      <td>-1.689447</td>\n",
       "      <td>-2.296621</td>\n",
       "      <td>-0.731171</td>\n",
       "      <td>0.575145</td>\n",
       "      <td>-1.341077</td>\n",
       "      <td>-0.510917</td>\n",
       "      <td>-0.236879</td>\n",
       "      <td>-0.220277</td>\n",
       "    </tr>\n",
       "    <tr>\n",
       "      <th>1</th>\n",
       "      <td>-31142.263136</td>\n",
       "      <td>-63788.698478</td>\n",
       "      <td>-30341.361244</td>\n",
       "      <td>-664.437259</td>\n",
       "      <td>-786.967445</td>\n",
       "      <td>84.037597</td>\n",
       "      <td>147.177541</td>\n",
       "      <td>-64.046200</td>\n",
       "      <td>37.734487</td>\n",
       "      <td>8.150669</td>\n",
       "      <td>...</td>\n",
       "      <td>-0.410095</td>\n",
       "      <td>-1.368088</td>\n",
       "      <td>0.149471</td>\n",
       "      <td>-1.347812</td>\n",
       "      <td>-0.566883</td>\n",
       "      <td>-1.351302</td>\n",
       "      <td>-0.841961</td>\n",
       "      <td>0.190495</td>\n",
       "      <td>-1.292351</td>\n",
       "      <td>0.780384</td>\n",
       "    </tr>\n",
       "    <tr>\n",
       "      <th>2</th>\n",
       "      <td>-69304.498788</td>\n",
       "      <td>-26740.187671</td>\n",
       "      <td>-10388.522103</td>\n",
       "      <td>26188.603418</td>\n",
       "      <td>-2672.802508</td>\n",
       "      <td>2514.089510</td>\n",
       "      <td>181.964544</td>\n",
       "      <td>165.918608</td>\n",
       "      <td>-67.111292</td>\n",
       "      <td>-8.559378</td>\n",
       "      <td>...</td>\n",
       "      <td>1.322891</td>\n",
       "      <td>-2.827834</td>\n",
       "      <td>0.412406</td>\n",
       "      <td>-0.813468</td>\n",
       "      <td>2.552397</td>\n",
       "      <td>1.637468</td>\n",
       "      <td>-0.913580</td>\n",
       "      <td>-0.773454</td>\n",
       "      <td>0.776430</td>\n",
       "      <td>1.604302</td>\n",
       "    </tr>\n",
       "    <tr>\n",
       "      <th>3</th>\n",
       "      <td>106044.321367</td>\n",
       "      <td>22637.427185</td>\n",
       "      <td>41467.143505</td>\n",
       "      <td>-8798.487458</td>\n",
       "      <td>6225.122479</td>\n",
       "      <td>286.018728</td>\n",
       "      <td>167.274544</td>\n",
       "      <td>122.906585</td>\n",
       "      <td>49.193418</td>\n",
       "      <td>-18.248645</td>\n",
       "      <td>...</td>\n",
       "      <td>3.853103</td>\n",
       "      <td>-2.015780</td>\n",
       "      <td>1.427480</td>\n",
       "      <td>-1.828857</td>\n",
       "      <td>-0.847508</td>\n",
       "      <td>0.576918</td>\n",
       "      <td>-0.630250</td>\n",
       "      <td>1.681710</td>\n",
       "      <td>-0.461362</td>\n",
       "      <td>0.977802</td>\n",
       "    </tr>\n",
       "    <tr>\n",
       "      <th>4</th>\n",
       "      <td>110503.064219</td>\n",
       "      <td>-50824.359577</td>\n",
       "      <td>49503.002540</td>\n",
       "      <td>12879.234646</td>\n",
       "      <td>-415.728349</td>\n",
       "      <td>245.019850</td>\n",
       "      <td>-278.926597</td>\n",
       "      <td>334.826676</td>\n",
       "      <td>31.660771</td>\n",
       "      <td>-9.565821</td>\n",
       "      <td>...</td>\n",
       "      <td>-0.968850</td>\n",
       "      <td>2.116973</td>\n",
       "      <td>1.112026</td>\n",
       "      <td>0.187894</td>\n",
       "      <td>-1.465716</td>\n",
       "      <td>-0.598172</td>\n",
       "      <td>-0.376263</td>\n",
       "      <td>1.427710</td>\n",
       "      <td>-0.947561</td>\n",
       "      <td>-0.825968</td>\n",
       "    </tr>\n",
       "    <tr>\n",
       "      <th>...</th>\n",
       "      <td>...</td>\n",
       "      <td>...</td>\n",
       "      <td>...</td>\n",
       "      <td>...</td>\n",
       "      <td>...</td>\n",
       "      <td>...</td>\n",
       "      <td>...</td>\n",
       "      <td>...</td>\n",
       "      <td>...</td>\n",
       "      <td>...</td>\n",
       "      <td>...</td>\n",
       "      <td>...</td>\n",
       "      <td>...</td>\n",
       "      <td>...</td>\n",
       "      <td>...</td>\n",
       "      <td>...</td>\n",
       "      <td>...</td>\n",
       "      <td>...</td>\n",
       "      <td>...</td>\n",
       "      <td>...</td>\n",
       "      <td>...</td>\n",
       "    </tr>\n",
       "    <tr>\n",
       "      <th>990</th>\n",
       "      <td>-70057.215852</td>\n",
       "      <td>36530.891164</td>\n",
       "      <td>-41689.403666</td>\n",
       "      <td>2624.900718</td>\n",
       "      <td>-2184.036400</td>\n",
       "      <td>6110.795646</td>\n",
       "      <td>47.227003</td>\n",
       "      <td>64.239794</td>\n",
       "      <td>-215.717234</td>\n",
       "      <td>15.428249</td>\n",
       "      <td>...</td>\n",
       "      <td>0.733828</td>\n",
       "      <td>-1.791954</td>\n",
       "      <td>2.153541</td>\n",
       "      <td>0.499402</td>\n",
       "      <td>-1.725770</td>\n",
       "      <td>0.060596</td>\n",
       "      <td>-0.166389</td>\n",
       "      <td>-0.920220</td>\n",
       "      <td>-0.823632</td>\n",
       "      <td>-0.609625</td>\n",
       "    </tr>\n",
       "    <tr>\n",
       "      <th>991</th>\n",
       "      <td>106449.602484</td>\n",
       "      <td>68898.869437</td>\n",
       "      <td>6536.945557</td>\n",
       "      <td>51601.171341</td>\n",
       "      <td>-5728.205697</td>\n",
       "      <td>-591.475372</td>\n",
       "      <td>-283.201735</td>\n",
       "      <td>186.353379</td>\n",
       "      <td>54.187674</td>\n",
       "      <td>-1.411124</td>\n",
       "      <td>...</td>\n",
       "      <td>-0.232275</td>\n",
       "      <td>-2.214492</td>\n",
       "      <td>3.572658</td>\n",
       "      <td>-0.060680</td>\n",
       "      <td>-2.028617</td>\n",
       "      <td>1.083411</td>\n",
       "      <td>-0.124897</td>\n",
       "      <td>1.110905</td>\n",
       "      <td>0.810803</td>\n",
       "      <td>0.443384</td>\n",
       "    </tr>\n",
       "    <tr>\n",
       "      <th>992</th>\n",
       "      <td>-58033.544857</td>\n",
       "      <td>16849.325305</td>\n",
       "      <td>-14975.846300</td>\n",
       "      <td>27168.051932</td>\n",
       "      <td>4459.242115</td>\n",
       "      <td>305.556502</td>\n",
       "      <td>260.079735</td>\n",
       "      <td>102.415489</td>\n",
       "      <td>-76.564118</td>\n",
       "      <td>3.419846</td>\n",
       "      <td>...</td>\n",
       "      <td>-0.215321</td>\n",
       "      <td>-1.522677</td>\n",
       "      <td>-0.272433</td>\n",
       "      <td>-1.650520</td>\n",
       "      <td>1.943194</td>\n",
       "      <td>1.643470</td>\n",
       "      <td>-0.604039</td>\n",
       "      <td>-1.029697</td>\n",
       "      <td>1.198560</td>\n",
       "      <td>-0.632995</td>\n",
       "    </tr>\n",
       "    <tr>\n",
       "      <th>993</th>\n",
       "      <td>-58676.916952</td>\n",
       "      <td>-11109.535194</td>\n",
       "      <td>-36413.604168</td>\n",
       "      <td>1183.213326</td>\n",
       "      <td>2887.603356</td>\n",
       "      <td>332.848542</td>\n",
       "      <td>92.879936</td>\n",
       "      <td>86.508065</td>\n",
       "      <td>258.078572</td>\n",
       "      <td>16.004049</td>\n",
       "      <td>...</td>\n",
       "      <td>1.213403</td>\n",
       "      <td>2.691413</td>\n",
       "      <td>2.016515</td>\n",
       "      <td>-0.607349</td>\n",
       "      <td>-0.122191</td>\n",
       "      <td>-0.142848</td>\n",
       "      <td>-0.909986</td>\n",
       "      <td>1.412094</td>\n",
       "      <td>-1.325605</td>\n",
       "      <td>0.070526</td>\n",
       "    </tr>\n",
       "    <tr>\n",
       "      <th>994</th>\n",
       "      <td>112879.078026</td>\n",
       "      <td>-60578.947942</td>\n",
       "      <td>-28774.087711</td>\n",
       "      <td>-2922.931691</td>\n",
       "      <td>-271.371342</td>\n",
       "      <td>-178.137215</td>\n",
       "      <td>-449.869723</td>\n",
       "      <td>-494.607230</td>\n",
       "      <td>255.785136</td>\n",
       "      <td>11.469000</td>\n",
       "      <td>...</td>\n",
       "      <td>1.527694</td>\n",
       "      <td>2.756466</td>\n",
       "      <td>-2.558077</td>\n",
       "      <td>-1.210580</td>\n",
       "      <td>0.063678</td>\n",
       "      <td>1.376640</td>\n",
       "      <td>-0.868759</td>\n",
       "      <td>-0.689351</td>\n",
       "      <td>-0.893992</td>\n",
       "      <td>-0.219095</td>\n",
       "    </tr>\n",
       "  </tbody>\n",
       "</table>\n",
       "<p>995 rows × 30 columns</p>\n",
       "</div>"
      ],
      "text/plain": [
       "                0             1             2             3            4   \\\n",
       "0    -34725.802736  21941.113423  -2550.048459  40003.580837  1059.368194   \n",
       "1    -31142.263136 -63788.698478 -30341.361244   -664.437259  -786.967445   \n",
       "2    -69304.498788 -26740.187671 -10388.522103  26188.603418 -2672.802508   \n",
       "3    106044.321367  22637.427185  41467.143505  -8798.487458  6225.122479   \n",
       "4    110503.064219 -50824.359577  49503.002540  12879.234646  -415.728349   \n",
       "..             ...           ...           ...           ...          ...   \n",
       "990  -70057.215852  36530.891164 -41689.403666   2624.900718 -2184.036400   \n",
       "991  106449.602484  68898.869437   6536.945557  51601.171341 -5728.205697   \n",
       "992  -58033.544857  16849.325305 -14975.846300  27168.051932  4459.242115   \n",
       "993  -58676.916952 -11109.535194 -36413.604168   1183.213326  2887.603356   \n",
       "994  112879.078026 -60578.947942 -28774.087711  -2922.931691  -271.371342   \n",
       "\n",
       "              5           6           7           8          9   ...  \\\n",
       "0   -4632.929315  517.874212  118.525648  125.253619  20.716731  ...   \n",
       "1      84.037597  147.177541  -64.046200   37.734487   8.150669  ...   \n",
       "2    2514.089510  181.964544  165.918608  -67.111292  -8.559378  ...   \n",
       "3     286.018728  167.274544  122.906585   49.193418 -18.248645  ...   \n",
       "4     245.019850 -278.926597  334.826676   31.660771  -9.565821  ...   \n",
       "..           ...         ...         ...         ...        ...  ...   \n",
       "990  6110.795646   47.227003   64.239794 -215.717234  15.428249  ...   \n",
       "991  -591.475372 -283.201735  186.353379   54.187674  -1.411124  ...   \n",
       "992   305.556502  260.079735  102.415489  -76.564118   3.419846  ...   \n",
       "993   332.848542   92.879936   86.508065  258.078572  16.004049  ...   \n",
       "994  -178.137215 -449.869723 -494.607230  255.785136  11.469000  ...   \n",
       "\n",
       "           20        21        22        23        24        25        26  \\\n",
       "0   -0.024747 -0.842823 -1.689447 -2.296621 -0.731171  0.575145 -1.341077   \n",
       "1   -0.410095 -1.368088  0.149471 -1.347812 -0.566883 -1.351302 -0.841961   \n",
       "2    1.322891 -2.827834  0.412406 -0.813468  2.552397  1.637468 -0.913580   \n",
       "3    3.853103 -2.015780  1.427480 -1.828857 -0.847508  0.576918 -0.630250   \n",
       "4   -0.968850  2.116973  1.112026  0.187894 -1.465716 -0.598172 -0.376263   \n",
       "..        ...       ...       ...       ...       ...       ...       ...   \n",
       "990  0.733828 -1.791954  2.153541  0.499402 -1.725770  0.060596 -0.166389   \n",
       "991 -0.232275 -2.214492  3.572658 -0.060680 -2.028617  1.083411 -0.124897   \n",
       "992 -0.215321 -1.522677 -0.272433 -1.650520  1.943194  1.643470 -0.604039   \n",
       "993  1.213403  2.691413  2.016515 -0.607349 -0.122191 -0.142848 -0.909986   \n",
       "994  1.527694  2.756466 -2.558077 -1.210580  0.063678  1.376640 -0.868759   \n",
       "\n",
       "           27        28        29  \n",
       "0   -0.510917 -0.236879 -0.220277  \n",
       "1    0.190495 -1.292351  0.780384  \n",
       "2   -0.773454  0.776430  1.604302  \n",
       "3    1.681710 -0.461362  0.977802  \n",
       "4    1.427710 -0.947561 -0.825968  \n",
       "..        ...       ...       ...  \n",
       "990 -0.920220 -0.823632 -0.609625  \n",
       "991  1.110905  0.810803  0.443384  \n",
       "992 -1.029697  1.198560 -0.632995  \n",
       "993  1.412094 -1.325605  0.070526  \n",
       "994 -0.689351 -0.893992 -0.219095  \n",
       "\n",
       "[995 rows x 30 columns]"
      ]
     },
     "execution_count": 89,
     "metadata": {},
     "output_type": "execute_result"
    }
   ],
   "source": [
    "FinalData2=pd.DataFrame(FinalData)\n",
    "FinalData2"
   ]
  },
  {
   "cell_type": "markdown",
   "metadata": {},
   "source": [
    "# Data Imbalance"
   ]
  },
  {
   "cell_type": "code",
   "execution_count": 90,
   "metadata": {},
   "outputs": [
    {
     "data": {
      "text/plain": [
       "Text(0.5, 1.0, 'fraud_reported')"
      ]
     },
     "execution_count": 90,
     "metadata": {},
     "output_type": "execute_result"
    },
    {
     "data": {
      "image/png": "[encoded data removed]",
      "text/plain": [
       "<Figure size 576x360 with 1 Axes>"
      ]
     },
     "metadata": {
      "needs_background": "light"
     },
     "output_type": "display_data"
    }
   ],
   "source": [
    "fig_size = (8,5)\n",
    "fig, ax = plt.subplots(figsize = fig_size)\n",
    "sns.countplot(data=df, x=\"fraud_reported\")\n",
    "plt.xticks(rotation=90)\n",
    "plt.title(\"fraud_reported\", fontsize = 10)"
   ]
  },
  {
   "cell_type": "code",
   "execution_count": 91,
   "metadata": {},
   "outputs": [],
   "source": [
    "from imblearn.over_sampling import SMOTE\n",
    "SM=SMOTE()\n",
    "x_over, y_over=SM.fit_resample(FinalData2,y)"
   ]
  },
  {
   "cell_type": "code",
   "execution_count": 92,
   "metadata": {},
   "outputs": [],
   "source": [
    "#Converting target variable into DataFrame\n",
    "y_over=pd.DataFrame(y_over)"
   ]
  },
  {
   "cell_type": "code",
   "execution_count": 93,
   "metadata": {},
   "outputs": [],
   "source": [
    "X=x_over\n",
    "y=y_over"
   ]
  },
  {
   "cell_type": "markdown",
   "metadata": {},
   "source": [
    "# Finding best Random State for train test split."
   ]
  },
  {
   "cell_type": "code",
   "execution_count": 94,
   "metadata": {},
   "outputs": [
    {
     "name": "stdout",
     "output_type": "stream",
     "text": [
      "Best Random State is 521, 65.33333333333333\n"
     ]
    }
   ],
   "source": [
    "from sklearn.linear_model import LogisticRegression\n",
    "from sklearn.metrics import accuracy_score\n",
    "from sklearn.model_selection import train_test_split\n",
    "\n",
    "max_accuracy = 0\n",
    "best_rs = 0\n",
    "for i in range(1, 1000):\n",
    "    X_train, X_test, y_train, y_test = train_test_split(X, y, test_size = 0.30, random_state = i)\n",
    "    lg = LogisticRegression()\n",
    "    lg.fit(X_train, y_train)\n",
    "    pred = lg.predict(X_test)\n",
    "    acc = accuracy_score(y_test, pred)\n",
    "    if acc > max_accuracy:\n",
    "        max_accuracy = acc\n",
    "        best_rs = i\n",
    "print(f\"Best Random State is {best_rs}, {max_accuracy*100}\")"
   ]
  },
  {
   "cell_type": "code",
   "execution_count": 95,
   "metadata": {},
   "outputs": [],
   "source": [
    "X_train,X_test,y_train,y_test=train_test_split(X,y,test_size=.30,random_state=634)"
   ]
  },
  {
   "cell_type": "markdown",
   "metadata": {},
   "source": [
    "# Importing Algorithms"
   ]
  },
  {
   "cell_type": "code",
   "execution_count": 96,
   "metadata": {},
   "outputs": [],
   "source": [
    "from sklearn.linear_model import LogisticRegression\n",
    "from sklearn.ensemble import RandomForestClassifier\n",
    "from sklearn.tree import DecisionTreeClassifier\n",
    "from sklearn.ensemble import AdaBoostClassifier\n",
    "from sklearn.neighbors import KNeighborsClassifier\n",
    "from sklearn.svm import SVC\n",
    "from sklearn.metrics import accuracy_score\n",
    "from sklearn.metrics import confusion_matrix, classification_report"
   ]
  },
  {
   "cell_type": "markdown",
   "metadata": {},
   "source": [
    "# LogisticRegression"
   ]
  },
  {
   "cell_type": "code",
   "execution_count": 97,
   "metadata": {},
   "outputs": [
    {
     "name": "stdout",
     "output_type": "stream",
     "text": [
      "0.6288888888888889\n",
      "[[107 103]\n",
      " [ 64 176]]\n",
      "              precision    recall  f1-score   support\n",
      "\n",
      "           0       0.63      0.51      0.56       210\n",
      "           1       0.63      0.73      0.68       240\n",
      "\n",
      "    accuracy                           0.63       450\n",
      "   macro avg       0.63      0.62      0.62       450\n",
      "weighted avg       0.63      0.63      0.62       450\n",
      "\n"
     ]
    }
   ],
   "source": [
    "lg = LogisticRegression()\n",
    "lg.fit(X_train, y_train)\n",
    "pred_lg = lg.predict(X_test)\n",
    "print(accuracy_score(y_test,pred_lg))\n",
    "print(confusion_matrix(y_test,pred_lg))\n",
    "print(classification_report(y_test,pred_lg))"
   ]
  },
  {
   "cell_type": "markdown",
   "metadata": {},
   "source": [
    "# RandomForestClassifier"
   ]
  },
  {
   "cell_type": "code",
   "execution_count": 98,
   "metadata": {},
   "outputs": [
    {
     "name": "stdout",
     "output_type": "stream",
     "text": [
      "0.8822222222222222\n",
      "[[195  15]\n",
      " [ 38 202]]\n",
      "              precision    recall  f1-score   support\n",
      "\n",
      "           0       0.84      0.93      0.88       210\n",
      "           1       0.93      0.84      0.88       240\n",
      "\n",
      "    accuracy                           0.88       450\n",
      "   macro avg       0.88      0.89      0.88       450\n",
      "weighted avg       0.89      0.88      0.88       450\n",
      "\n"
     ]
    }
   ],
   "source": [
    "rf=RandomForestClassifier(n_estimators=100,random_state=49)\n",
    "rf.fit(X_train,y_train)\n",
    "predrf=rf.predict(X_test)\n",
    "print(accuracy_score(y_test,predrf))\n",
    "print(confusion_matrix(y_test,predrf))\n",
    "print(classification_report(y_test,predrf))"
   ]
  },
  {
   "cell_type": "markdown",
   "metadata": {},
   "source": [
    "# DecisionTreeClassifier"
   ]
  },
  {
   "cell_type": "code",
   "execution_count": 99,
   "metadata": {},
   "outputs": [
    {
     "name": "stdout",
     "output_type": "stream",
     "text": [
      "0.74\n",
      "[[145  65]\n",
      " [ 52 188]]\n",
      "              precision    recall  f1-score   support\n",
      "\n",
      "           0       0.74      0.69      0.71       210\n",
      "           1       0.74      0.78      0.76       240\n",
      "\n",
      "    accuracy                           0.74       450\n",
      "   macro avg       0.74      0.74      0.74       450\n",
      "weighted avg       0.74      0.74      0.74       450\n",
      "\n"
     ]
    }
   ],
   "source": [
    "from sklearn.tree import DecisionTreeClassifier\n",
    "dtc=DecisionTreeClassifier(criterion='entropy',splitter='best', max_depth=None)\n",
    "dtc.fit(X_train,y_train)\n",
    "preddtc=dtc.predict(X_test)\n",
    "print(accuracy_score(y_test,preddtc))\n",
    "print(confusion_matrix(y_test,preddtc))\n",
    "print(classification_report(y_test,preddtc))"
   ]
  },
  {
   "cell_type": "markdown",
   "metadata": {},
   "source": [
    "# AdaBoostClassifier"
   ]
  },
  {
   "cell_type": "code",
   "execution_count": 100,
   "metadata": {},
   "outputs": [
    {
     "name": "stdout",
     "output_type": "stream",
     "text": [
      "0.7533333333333333\n",
      "[[156  54]\n",
      " [ 57 183]]\n",
      "              precision    recall  f1-score   support\n",
      "\n",
      "           0       0.73      0.74      0.74       210\n",
      "           1       0.77      0.76      0.77       240\n",
      "\n",
      "    accuracy                           0.75       450\n",
      "   macro avg       0.75      0.75      0.75       450\n",
      "weighted avg       0.75      0.75      0.75       450\n",
      "\n"
     ]
    }
   ],
   "source": [
    "ad=AdaBoostClassifier()\n",
    "ad.fit(X_train,y_train) \n",
    "predad=ad.predict(X_test)\n",
    "print(accuracy_score(y_test,predad))\n",
    "print(confusion_matrix(y_test,predad))\n",
    "print(classification_report(y_test,predad))"
   ]
  },
  {
   "cell_type": "markdown",
   "metadata": {},
   "source": [
    "# KNeighborsClassifier"
   ]
  },
  {
   "cell_type": "code",
   "execution_count": 101,
   "metadata": {},
   "outputs": [
    {
     "name": "stdout",
     "output_type": "stream",
     "text": [
      "0.6911111111111111\n",
      "[[118  92]\n",
      " [ 47 193]]\n",
      "              precision    recall  f1-score   support\n",
      "\n",
      "           0       0.72      0.56      0.63       210\n",
      "           1       0.68      0.80      0.74       240\n",
      "\n",
      "    accuracy                           0.69       450\n",
      "   macro avg       0.70      0.68      0.68       450\n",
      "weighted avg       0.69      0.69      0.69       450\n",
      "\n"
     ]
    }
   ],
   "source": [
    "knn=KNeighborsClassifier(n_neighbors=5)\n",
    "knn.fit(X_train,y_train)\n",
    "predknn=knn.predict(X_test)\n",
    "print(accuracy_score(y_test,predknn))\n",
    "print(confusion_matrix(y_test,predknn))\n",
    "print(classification_report(y_test,predknn))"
   ]
  },
  {
   "cell_type": "markdown",
   "metadata": {},
   "source": [
    "# Support Vector Classifer"
   ]
  },
  {
   "cell_type": "code",
   "execution_count": 102,
   "metadata": {},
   "outputs": [
    {
     "name": "stdout",
     "output_type": "stream",
     "text": [
      "0.6333333333333333\n",
      "[[106 104]\n",
      " [ 61 179]]\n",
      "              precision    recall  f1-score   support\n",
      "\n",
      "           0       0.63      0.50      0.56       210\n",
      "           1       0.63      0.75      0.68       240\n",
      "\n",
      "    accuracy                           0.63       450\n",
      "   macro avg       0.63      0.63      0.62       450\n",
      "weighted avg       0.63      0.63      0.63       450\n",
      "\n"
     ]
    }
   ],
   "source": [
    "svc=SVC()\n",
    "svc.fit(X_train,y_train) \n",
    "pred_svc=svc.predict(X_test)\n",
    "print(accuracy_score(y_test,pred_svc))\n",
    "print(confusion_matrix(y_test,pred_svc))\n",
    "print(classification_report(y_test,pred_svc))"
   ]
  },
  {
   "cell_type": "markdown",
   "metadata": {},
   "source": [
    "# Cross Validation"
   ]
  },
  {
   "cell_type": "markdown",
   "metadata": {},
   "source": [
    "As we know the Random Forest Classifier is given hight score but we are Cross validating the models to see thre are underfitting or overfitting present or not."
   ]
  },
  {
   "cell_type": "code",
   "execution_count": 103,
   "metadata": {},
   "outputs": [
    {
     "name": "stdout",
     "output_type": "stream",
     "text": [
      "[0.62333333 0.57333333 0.56333333 0.63879599 0.61538462]\n",
      "Mean of accuracy scores is for Logistic Regression is 60.28361204013378\n",
      "\n",
      "[0.80333333 0.86666667 0.89333333 0.89632107 0.9264214 ]\n",
      "Mean of accuracy scores is for Random Forest Classifier is 87.72151616499443\n",
      "\n",
      "[0.71333333 0.71       0.86       0.79598662 0.76588629]\n",
      "Mean of accuracy scores is for Decision Tree Classifier is 76.90412486064659\n",
      "\n",
      "[0.61       0.70333333 0.82       0.7993311  0.81605351]\n",
      "Mean of accuracy scores is for ADA Boost Classifier is 74.97435897435898\n",
      "\n",
      "[0.65333333 0.65333333 0.7        0.69899666 0.71237458]\n",
      "Mean of accuracy scores is for KNN Classifier is 68.36075808249721\n",
      "\n",
      "[0.61       0.61333333 0.56666667 0.65886288 0.60869565]\n",
      "Mean of accuracy scores is for SVC Classifier is 61.151170568561874\n",
      "\n"
     ]
    }
   ],
   "source": [
    "from sklearn.model_selection import cross_val_score\n",
    "\n",
    "lg_scores = cross_val_score(lg, X, y, cv = 5)\n",
    "print(lg_scores)\n",
    "print(f\"Mean of accuracy scores is for Logistic Regression is {lg_scores.mean()*100}\\n\")\n",
    "\n",
    "rf_scores = cross_val_score(rf, X, y, cv = 5)\n",
    "print(rf_scores)\n",
    "print(f\"Mean of accuracy scores is for Random Forest Classifier is {rf_scores.mean()*100}\\n\")\n",
    "\n",
    "dtc_scores = cross_val_score(dtc, X, y, cv = 5)\n",
    "print(dtc_scores)\n",
    "print(f\"Mean of accuracy scores is for Decision Tree Classifier is {dtc_scores.mean()*100}\\n\")\n",
    "\n",
    "ad_scores = cross_val_score(ad, X, y, cv = 5)\n",
    "print(ad_scores)\n",
    "print(f\"Mean of accuracy scores is for ADA Boost Classifier is {ad_scores.mean()*100}\\n\")\n",
    "\n",
    "knn_scores = cross_val_score(knn, X, y, cv = 5)\n",
    "print(knn_scores)\n",
    "print(f\"Mean of accuracy scores is for KNN Classifier is {knn_scores.mean()*100}\\n\")\n",
    "\n",
    "svc_scores = cross_val_score(svc, X, y, cv = 5)\n",
    "print(svc_scores)\n",
    "print(f\"Mean of accuracy scores is for SVC Classifier is {svc_scores.mean()*100}\\n\")"
   ]
  },
  {
   "cell_type": "markdown",
   "metadata": {},
   "source": [
    "# Hyper parameter tuning"
   ]
  },
  {
   "cell_type": "code",
   "execution_count": 104,
   "metadata": {},
   "outputs": [],
   "source": [
    "from sklearn.model_selection import GridSearchCV"
   ]
  },
  {
   "cell_type": "code",
   "execution_count": 105,
   "metadata": {},
   "outputs": [
    {
     "name": "stdout",
     "output_type": "stream",
     "text": [
      "{'criterion': 'entropy', 'min_samples_split': 10, 'n_estimators': 100}\n",
      "0.8454180906812485\n",
      "RandomForestClassifier(criterion='entropy', min_samples_split=10)\n"
     ]
    }
   ],
   "source": [
    "rf = RandomForestClassifier()\n",
    "grid_parameters = dict()\n",
    "grid_parameters['criterion'] = ['gini', 'entropy']\n",
    "grid_parameters['n_estimators'] = [1, 2, 4, 8, 10, 16, 32, 64, 100, 200]\n",
    "grid_parameters['min_samples_split'] = [1,2,5,8,10,15,20,25,50,55,60,80,100]\n",
    "grid_sr = GridSearchCV(estimator=rf,param_grid=grid_parameters,scoring='accuracy', cv=5)\n",
    "grid_sr.fit(X_train, y_train)\n",
    "best_parameters=grid_sr.best_params_\n",
    "best_result=grid_sr.best_score_\n",
    "best_model = grid_sr.best_estimator_\n",
    "print(best_parameters)\n",
    "print(best_result)\n",
    "print(best_model)"
   ]
  },
  {
   "cell_type": "code",
   "execution_count": 106,
   "metadata": {},
   "outputs": [
    {
     "name": "stdout",
     "output_type": "stream",
     "text": [
      "1.0\n"
     ]
    }
   ],
   "source": [
    "RF = RandomForestClassifier(criterion = 'gini', min_samples_split = 2, n_estimators = 100)\n",
    "RF.fit(X_train, y_train)\n",
    "print(RF.score(X_train, y_train))\n",
    "pred_rf = RF.predict(X_test)"
   ]
  },
  {
   "cell_type": "markdown",
   "metadata": {},
   "source": [
    "# Model Evaluation"
   ]
  },
  {
   "cell_type": "markdown",
   "metadata": {},
   "source": [
    "# Metrics"
   ]
  },
  {
   "cell_type": "code",
   "execution_count": 107,
   "metadata": {},
   "outputs": [],
   "source": [
    "from sklearn.metrics import roc_curve\n",
    "import matplotlib.pyplot as plt"
   ]
  },
  {
   "cell_type": "code",
   "execution_count": 108,
   "metadata": {},
   "outputs": [],
   "source": [
    "#Import ROC_AUC_SCORE.\n",
    "from sklearn.metrics import roc_auc_score"
   ]
  },
  {
   "cell_type": "code",
   "execution_count": 109,
   "metadata": {},
   "outputs": [
    {
     "data": {
      "text/plain": [
       "array([0.28, 0.45, 0.3 , 0.69, 0.94, 0.49, 0.96, 0.89, 0.36, 0.54, 0.49,\n",
       "       0.83, 0.56, 0.86, 0.26, 0.82, 0.67, 0.36, 0.46, 0.85, 0.17, 0.88,\n",
       "       0.41, 0.28, 0.11, 0.25, 0.63, 0.95, 0.91, 0.79, 0.35, 0.34, 0.64,\n",
       "       0.58, 0.88, 0.61, 0.88, 0.41, 0.34, 0.9 , 0.19, 0.35, 0.65, 0.3 ,\n",
       "       0.67, 0.23, 0.21, 0.29, 0.82, 0.27, 0.89, 0.48, 0.16, 0.72, 0.33,\n",
       "       0.84, 0.97, 0.37, 0.2 , 0.23, 0.3 , 0.65, 0.79, 0.42, 0.31, 0.82,\n",
       "       0.97, 0.64, 0.83, 0.19, 0.25, 0.38, 0.3 , 0.48, 0.16, 0.21, 0.83,\n",
       "       0.89, 0.81, 0.21, 0.29, 0.33, 0.86, 0.71, 0.72, 0.18, 0.21, 0.78,\n",
       "       0.28, 0.2 , 0.86, 0.11, 0.82, 0.38, 0.69, 0.29, 0.71, 0.13, 0.18,\n",
       "       0.9 , 0.82, 0.54, 0.69, 0.44, 0.5 , 0.74, 0.17, 0.28, 0.75, 0.15,\n",
       "       0.77, 0.66, 0.16, 0.86, 0.57, 0.3 , 0.42, 0.17, 0.47, 0.35, 0.23,\n",
       "       0.86, 0.73, 0.23, 0.94, 0.28, 0.37, 0.43, 0.29, 0.83, 0.21, 0.67,\n",
       "       0.72, 0.53, 0.81, 0.74, 0.82, 0.89, 0.77, 0.16, 0.23, 0.83, 0.41,\n",
       "       0.81, 0.86, 0.84, 0.29, 0.29, 0.29, 0.86, 0.26, 0.46, 0.74, 0.54,\n",
       "       0.53, 0.8 , 0.22, 0.23, 0.57, 0.16, 0.51, 0.3 , 0.37, 0.68, 0.32,\n",
       "       0.8 , 0.16, 0.55, 0.49, 0.84, 0.81, 0.3 , 0.8 , 0.79, 0.53, 0.42,\n",
       "       0.42, 0.58, 0.31, 0.25, 0.27, 0.24, 0.21, 0.8 , 0.34, 0.85, 0.4 ,\n",
       "       0.36, 0.75, 0.86, 0.71, 0.75, 0.77, 0.74, 0.39, 0.63, 0.97, 0.91,\n",
       "       0.25, 0.71, 0.37, 0.28, 0.15, 0.27, 0.96, 0.86, 0.77, 0.61, 0.29,\n",
       "       0.77, 0.89, 0.68, 0.22, 0.53, 0.4 , 0.74, 0.88, 0.9 , 0.24, 0.24,\n",
       "       0.78, 0.36, 0.3 , 0.17, 0.43, 0.27, 0.52, 0.41, 0.88, 0.18, 0.23,\n",
       "       0.83, 0.69, 0.22, 0.19, 0.41, 0.71, 0.22, 0.44, 0.9 , 0.24, 0.79,\n",
       "       0.46, 0.42, 0.25, 0.79, 0.43, 0.47, 0.4 , 0.49, 0.15, 0.83, 0.51,\n",
       "       0.98, 0.59, 0.25, 0.32, 0.38, 0.84, 0.78, 0.73, 0.93, 0.32, 0.3 ,\n",
       "       0.59, 0.87, 0.2 , 0.39, 0.89, 0.22, 0.83, 0.81, 0.29, 0.76, 0.23,\n",
       "       0.54, 0.67, 0.2 , 0.32, 0.2 , 0.53, 0.62, 0.47, 0.84, 0.48, 0.19,\n",
       "       0.75, 0.22, 0.32, 0.83, 0.79, 0.29, 0.55, 0.27, 0.37, 0.23, 0.49,\n",
       "       0.92, 0.27, 0.47, 0.64, 0.44, 0.53, 0.16, 0.33, 0.25, 0.32, 0.4 ,\n",
       "       0.31, 0.36, 0.93, 0.84, 0.71, 0.6 , 0.91, 0.84, 0.94, 0.49, 0.53,\n",
       "       0.3 , 0.92, 0.34, 0.88, 0.17, 0.55, 0.59, 0.29, 0.17, 0.57, 0.3 ,\n",
       "       0.66, 0.24, 0.58, 0.81, 0.24, 0.47, 0.49, 0.82, 0.51, 0.98, 0.85,\n",
       "       0.88, 0.53, 0.78, 0.54, 0.4 , 0.09, 0.59, 0.17, 0.34, 0.13, 0.39,\n",
       "       0.32, 0.8 , 0.21, 0.94, 0.36, 0.63, 0.81, 0.43, 0.86, 0.39, 0.87,\n",
       "       0.4 , 0.16, 0.46, 0.54, 0.86, 0.31, 0.62, 0.2 , 0.14, 0.97, 0.4 ,\n",
       "       0.57, 0.3 , 0.79, 0.21, 0.38, 0.73, 0.69, 0.73, 0.18, 0.2 , 0.37,\n",
       "       0.63, 0.33, 0.11, 0.83, 0.48, 0.83, 0.17, 0.26, 0.62, 0.66, 0.35,\n",
       "       0.45, 0.91, 0.87, 0.67, 0.92, 0.78, 0.49, 0.52, 0.65, 0.77, 0.6 ,\n",
       "       0.11, 0.26, 0.07, 0.7 , 0.52, 0.82, 0.31, 0.55, 0.45, 0.2 , 0.15,\n",
       "       0.5 , 0.4 , 0.58, 0.51, 0.89, 0.45, 0.33, 0.41, 0.93, 0.41, 0.33,\n",
       "       0.24, 0.58, 0.79, 0.91, 0.2 , 0.76, 0.81, 0.67, 0.31, 0.85, 0.25,\n",
       "       0.47, 0.21, 0.59, 0.16, 0.25, 0.4 , 0.23, 0.57, 0.76, 0.82])"
      ]
     },
     "execution_count": 109,
     "metadata": {},
     "output_type": "execute_result"
    }
   ],
   "source": [
    "y_pred_prob=RF.predict_proba(X_test)[:,1]\n",
    "y_pred_prob"
   ]
  },
  {
   "cell_type": "code",
   "execution_count": 110,
   "metadata": {},
   "outputs": [],
   "source": [
    "fpr,tpr,thresholds=roc_curve(y_test,y_pred_prob)"
   ]
  },
  {
   "cell_type": "code",
   "execution_count": 111,
   "metadata": {},
   "outputs": [
    {
     "data": {
      "text/plain": [
       "array([0.        , 0.        , 0.        , 0.        , 0.        ,\n",
       "       0.        , 0.        , 0.        , 0.        , 0.        ,\n",
       "       0.        , 0.        , 0.        , 0.        , 0.        ,\n",
       "       0.        , 0.        , 0.        , 0.0047619 , 0.0047619 ,\n",
       "       0.0047619 , 0.00952381, 0.00952381, 0.01428571, 0.01428571,\n",
       "       0.01428571, 0.01428571, 0.01428571, 0.02380952, 0.02857143,\n",
       "       0.03333333, 0.03333333, 0.03809524, 0.03809524, 0.04285714,\n",
       "       0.04285714, 0.04285714, 0.04285714, 0.05238095, 0.05238095,\n",
       "       0.05714286, 0.06666667, 0.07619048, 0.07619048, 0.08095238,\n",
       "       0.08571429, 0.1       , 0.10952381, 0.12857143, 0.14285714,\n",
       "       0.15238095, 0.15714286, 0.17142857, 0.18571429, 0.21428571,\n",
       "       0.23809524, 0.27619048, 0.2952381 , 0.32380952, 0.34285714,\n",
       "       0.36666667, 0.38571429, 0.41904762, 0.44285714, 0.49047619,\n",
       "       0.53333333, 0.59047619, 0.6       , 0.63809524, 0.66666667,\n",
       "       0.71428571, 0.73809524, 0.78095238, 0.81904762, 0.85714286,\n",
       "       0.8952381 , 0.93809524, 0.95714286, 0.96190476, 0.97142857,\n",
       "       0.99047619, 1.        ])"
      ]
     },
     "execution_count": 111,
     "metadata": {},
     "output_type": "execute_result"
    }
   ],
   "source": [
    "fpr"
   ]
  },
  {
   "cell_type": "code",
   "execution_count": 112,
   "metadata": {},
   "outputs": [
    {
     "data": {
      "text/plain": [
       "array([0.        , 0.00833333, 0.025     , 0.03333333, 0.0375    ,\n",
       "       0.05416667, 0.07916667, 0.1       , 0.11666667, 0.175     ,\n",
       "       0.1875    , 0.23333333, 0.25      , 0.27916667, 0.325     ,\n",
       "       0.3625    , 0.39583333, 0.41666667, 0.44583333, 0.46666667,\n",
       "       0.49166667, 0.5       , 0.51666667, 0.53333333, 0.55      ,\n",
       "       0.5625    , 0.5875    , 0.59166667, 0.60416667, 0.60833333,\n",
       "       0.62916667, 0.64166667, 0.65      , 0.6625    , 0.675     ,\n",
       "       0.6875    , 0.70416667, 0.725     , 0.75833333, 0.7625    ,\n",
       "       0.775     , 0.79166667, 0.81666667, 0.82916667, 0.84166667,\n",
       "       0.84583333, 0.86666667, 0.875     , 0.88333333, 0.8875    ,\n",
       "       0.89583333, 0.90416667, 0.90833333, 0.91666667, 0.92083333,\n",
       "       0.9375    , 0.9375    , 0.94583333, 0.94583333, 0.94583333,\n",
       "       0.94583333, 0.95416667, 0.95416667, 0.95833333, 0.96666667,\n",
       "       0.975     , 0.975     , 0.98333333, 0.9875    , 0.99166667,\n",
       "       0.99166667, 0.99583333, 0.99583333, 1.        , 1.        ,\n",
       "       1.        , 1.        , 1.        , 1.        , 1.        ,\n",
       "       1.        , 1.        ])"
      ]
     },
     "execution_count": 112,
     "metadata": {},
     "output_type": "execute_result"
    }
   ],
   "source": [
    "tpr"
   ]
  },
  {
   "cell_type": "code",
   "execution_count": 113,
   "metadata": {},
   "outputs": [
    {
     "data": {
      "text/plain": [
       "array([1.98, 0.98, 0.97, 0.96, 0.95, 0.94, 0.92, 0.91, 0.9 , 0.88, 0.87,\n",
       "       0.86, 0.85, 0.84, 0.83, 0.82, 0.81, 0.8 , 0.79, 0.78, 0.77, 0.76,\n",
       "       0.75, 0.74, 0.73, 0.72, 0.71, 0.7 , 0.69, 0.68, 0.67, 0.66, 0.65,\n",
       "       0.64, 0.63, 0.62, 0.6 , 0.59, 0.57, 0.56, 0.55, 0.54, 0.53, 0.52,\n",
       "       0.51, 0.5 , 0.49, 0.48, 0.47, 0.46, 0.45, 0.44, 0.43, 0.42, 0.41,\n",
       "       0.4 , 0.38, 0.37, 0.36, 0.35, 0.34, 0.33, 0.32, 0.31, 0.3 , 0.29,\n",
       "       0.27, 0.26, 0.25, 0.24, 0.23, 0.22, 0.21, 0.2 , 0.18, 0.17, 0.16,\n",
       "       0.15, 0.14, 0.13, 0.11, 0.07])"
      ]
     },
     "execution_count": 113,
     "metadata": {},
     "output_type": "execute_result"
    }
   ],
   "source": [
    "thresholds"
   ]
  },
  {
   "cell_type": "code",
   "execution_count": 114,
   "metadata": {},
   "outputs": [
    {
     "data": {
      "image/png": "[encoded data removed]",
      "text/plain": [
       "<Figure size 432x288 with 1 Axes>"
      ]
     },
     "metadata": {
      "needs_background": "light"
     },
     "output_type": "display_data"
    }
   ],
   "source": [
    "plt.plot([0,1],[0,1],'k--')\n",
    "plt.plot(fpr,tpr,label='Random Forest Classifier')\n",
    "plt.xlabel('False Positive Rate')\n",
    "plt.ylabel('True Positive Rate')\n",
    "plt.title('Random Forest Classifier')\n",
    "plt.show()"
   ]
  },
  {
   "cell_type": "code",
   "execution_count": 115,
   "metadata": {},
   "outputs": [
    {
     "name": "stdout",
     "output_type": "stream",
     "text": [
      "0.8803571428571428\n"
     ]
    }
   ],
   "source": [
    "auc_score=roc_auc_score(y_test,RF.predict(X_test))\n",
    "print(auc_score)"
   ]
  },
  {
   "cell_type": "code",
   "execution_count": 116,
   "metadata": {},
   "outputs": [],
   "source": [
    "from sklearn import metrics"
   ]
  },
  {
   "cell_type": "code",
   "execution_count": 117,
   "metadata": {},
   "outputs": [
    {
     "data": {
      "text/plain": [
       "<sklearn.metrics._plot.confusion_matrix.ConfusionMatrixDisplay at 0x2007da81730>"
      ]
     },
     "execution_count": 117,
     "metadata": {},
     "output_type": "execute_result"
    },
    {
     "data": {
      "image/png": "[encoded data removed]",
      "text/plain": [
       "<Figure size 432x288 with 2 Axes>"
      ]
     },
     "metadata": {
      "needs_background": "light"
     },
     "output_type": "display_data"
    }
   ],
   "source": [
    "metrics.plot_confusion_matrix(RF, X_test, y_test, display_labels=['Negative', 'Positive'])"
   ]
  },
  {
   "cell_type": "markdown",
   "metadata": {},
   "source": [
    "# Saving Model"
   ]
  },
  {
   "cell_type": "code",
   "execution_count": 118,
   "metadata": {},
   "outputs": [
    {
     "data": {
      "text/plain": [
       "['Insurance claim Fraud Detection.obj']"
      ]
     },
     "execution_count": 118,
     "metadata": {},
     "output_type": "execute_result"
    }
   ],
   "source": [
    "import joblib\n",
    "joblib.dump(RF,'Insurance claim Fraud Detection.obj')"
   ]
  },
  {
   "cell_type": "code",
   "execution_count": null,
   "metadata": {},
   "outputs": [],
   "source": []
  },
  {
   "cell_type": "code",
   "execution_count": null,
   "metadata": {},
   "outputs": [],
   "source": []
  },
  {
   "cell_type": "code",
   "execution_count": null,
   "metadata": {},
   "outputs": [],
   "source": []
  },
  {
   "cell_type": "code",
   "execution_count": null,
   "metadata": {},
   "outputs": [],
   "source": []
  },
  {
   "cell_type": "code",
   "execution_count": null,
   "metadata": {},
   "outputs": [],
   "source": []
  }
 ],
 "metadata": {
  "kernelspec": {
   "display_name": "Python 3",
   "language": "python",
   "name": "python3"
  },
  "language_info": {
   "codemirror_mode": {
    "name": "ipython",
    "version": 3
   },
   "file_extension": ".py",
   "mimetype": "text/x-python",
   "name": "python",
   "nbconvert_exporter": "python",
   "pygments_lexer": "ipython3",
   "version": "3.8.5"
  }
 },
 "nbformat": 4,
 "nbformat_minor": 4
}

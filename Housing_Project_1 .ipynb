{
 "cells": [
  {
   "cell_type": "markdown",
   "metadata": {},
   "source": [
    "# Importing Libraries"
   ]
  },
  {
   "cell_type": "code",
   "execution_count": 1,
   "metadata": {},
   "outputs": [],
   "source": [
    "import numpy as np\n",
    "import pandas as pd\n",
    "import matplotlib.pyplot as plt\n",
    "import seaborn as sns\n",
    "import warnings\n",
    "warnings.filterwarnings('ignore')"
   ]
  },
  {
   "cell_type": "markdown",
   "metadata": {},
   "source": [
    "# Importing Train Data"
   ]
  },
  {
   "cell_type": "code",
   "execution_count": 2,
   "metadata": {},
   "outputs": [
    {
     "data": {
      "text/html": [
       "<div>\n",
       "<style scoped>\n",
       "    .dataframe tbody tr th:only-of-type {\n",
       "        vertical-align: middle;\n",
       "    }\n",
       "\n",
       "    .dataframe tbody tr th {\n",
       "        vertical-align: top;\n",
       "    }\n",
       "\n",
       "    .dataframe thead th {\n",
       "        text-align: right;\n",
       "    }\n",
       "</style>\n",
       "<table border=\"1\" class=\"dataframe\">\n",
       "  <thead>\n",
       "    <tr style=\"text-align: right;\">\n",
       "      <th></th>\n",
       "      <th>Id</th>\n",
       "      <th>MSSubClass</th>\n",
       "      <th>MSZoning</th>\n",
       "      <th>LotFrontage</th>\n",
       "      <th>LotArea</th>\n",
       "      <th>Street</th>\n",
       "      <th>Alley</th>\n",
       "      <th>LotShape</th>\n",
       "      <th>LandContour</th>\n",
       "      <th>Utilities</th>\n",
       "      <th>...</th>\n",
       "      <th>PoolArea</th>\n",
       "      <th>PoolQC</th>\n",
       "      <th>Fence</th>\n",
       "      <th>MiscFeature</th>\n",
       "      <th>MiscVal</th>\n",
       "      <th>MoSold</th>\n",
       "      <th>YrSold</th>\n",
       "      <th>SaleType</th>\n",
       "      <th>SaleCondition</th>\n",
       "      <th>SalePrice</th>\n",
       "    </tr>\n",
       "  </thead>\n",
       "  <tbody>\n",
       "    <tr>\n",
       "      <th>0</th>\n",
       "      <td>127</td>\n",
       "      <td>120</td>\n",
       "      <td>RL</td>\n",
       "      <td>NaN</td>\n",
       "      <td>4928</td>\n",
       "      <td>Pave</td>\n",
       "      <td>NaN</td>\n",
       "      <td>IR1</td>\n",
       "      <td>Lvl</td>\n",
       "      <td>AllPub</td>\n",
       "      <td>...</td>\n",
       "      <td>0</td>\n",
       "      <td>NaN</td>\n",
       "      <td>NaN</td>\n",
       "      <td>NaN</td>\n",
       "      <td>0</td>\n",
       "      <td>2</td>\n",
       "      <td>2007</td>\n",
       "      <td>WD</td>\n",
       "      <td>Normal</td>\n",
       "      <td>128000</td>\n",
       "    </tr>\n",
       "    <tr>\n",
       "      <th>1</th>\n",
       "      <td>889</td>\n",
       "      <td>20</td>\n",
       "      <td>RL</td>\n",
       "      <td>95.0</td>\n",
       "      <td>15865</td>\n",
       "      <td>Pave</td>\n",
       "      <td>NaN</td>\n",
       "      <td>IR1</td>\n",
       "      <td>Lvl</td>\n",
       "      <td>AllPub</td>\n",
       "      <td>...</td>\n",
       "      <td>0</td>\n",
       "      <td>NaN</td>\n",
       "      <td>NaN</td>\n",
       "      <td>NaN</td>\n",
       "      <td>0</td>\n",
       "      <td>10</td>\n",
       "      <td>2007</td>\n",
       "      <td>WD</td>\n",
       "      <td>Normal</td>\n",
       "      <td>268000</td>\n",
       "    </tr>\n",
       "    <tr>\n",
       "      <th>2</th>\n",
       "      <td>793</td>\n",
       "      <td>60</td>\n",
       "      <td>RL</td>\n",
       "      <td>92.0</td>\n",
       "      <td>9920</td>\n",
       "      <td>Pave</td>\n",
       "      <td>NaN</td>\n",
       "      <td>IR1</td>\n",
       "      <td>Lvl</td>\n",
       "      <td>AllPub</td>\n",
       "      <td>...</td>\n",
       "      <td>0</td>\n",
       "      <td>NaN</td>\n",
       "      <td>NaN</td>\n",
       "      <td>NaN</td>\n",
       "      <td>0</td>\n",
       "      <td>6</td>\n",
       "      <td>2007</td>\n",
       "      <td>WD</td>\n",
       "      <td>Normal</td>\n",
       "      <td>269790</td>\n",
       "    </tr>\n",
       "    <tr>\n",
       "      <th>3</th>\n",
       "      <td>110</td>\n",
       "      <td>20</td>\n",
       "      <td>RL</td>\n",
       "      <td>105.0</td>\n",
       "      <td>11751</td>\n",
       "      <td>Pave</td>\n",
       "      <td>NaN</td>\n",
       "      <td>IR1</td>\n",
       "      <td>Lvl</td>\n",
       "      <td>AllPub</td>\n",
       "      <td>...</td>\n",
       "      <td>0</td>\n",
       "      <td>NaN</td>\n",
       "      <td>MnPrv</td>\n",
       "      <td>NaN</td>\n",
       "      <td>0</td>\n",
       "      <td>1</td>\n",
       "      <td>2010</td>\n",
       "      <td>COD</td>\n",
       "      <td>Normal</td>\n",
       "      <td>190000</td>\n",
       "    </tr>\n",
       "    <tr>\n",
       "      <th>4</th>\n",
       "      <td>422</td>\n",
       "      <td>20</td>\n",
       "      <td>RL</td>\n",
       "      <td>NaN</td>\n",
       "      <td>16635</td>\n",
       "      <td>Pave</td>\n",
       "      <td>NaN</td>\n",
       "      <td>IR1</td>\n",
       "      <td>Lvl</td>\n",
       "      <td>AllPub</td>\n",
       "      <td>...</td>\n",
       "      <td>0</td>\n",
       "      <td>NaN</td>\n",
       "      <td>NaN</td>\n",
       "      <td>NaN</td>\n",
       "      <td>0</td>\n",
       "      <td>6</td>\n",
       "      <td>2009</td>\n",
       "      <td>WD</td>\n",
       "      <td>Normal</td>\n",
       "      <td>215000</td>\n",
       "    </tr>\n",
       "  </tbody>\n",
       "</table>\n",
       "<p>5 rows × 81 columns</p>\n",
       "</div>"
      ],
      "text/plain": [
       "    Id  MSSubClass MSZoning  LotFrontage  LotArea Street Alley LotShape  \\\n",
       "0  127         120       RL          NaN     4928   Pave   NaN      IR1   \n",
       "1  889          20       RL         95.0    15865   Pave   NaN      IR1   \n",
       "2  793          60       RL         92.0     9920   Pave   NaN      IR1   \n",
       "3  110          20       RL        105.0    11751   Pave   NaN      IR1   \n",
       "4  422          20       RL          NaN    16635   Pave   NaN      IR1   \n",
       "\n",
       "  LandContour Utilities  ... PoolArea PoolQC  Fence MiscFeature MiscVal  \\\n",
       "0         Lvl    AllPub  ...        0    NaN    NaN         NaN       0   \n",
       "1         Lvl    AllPub  ...        0    NaN    NaN         NaN       0   \n",
       "2         Lvl    AllPub  ...        0    NaN    NaN         NaN       0   \n",
       "3         Lvl    AllPub  ...        0    NaN  MnPrv         NaN       0   \n",
       "4         Lvl    AllPub  ...        0    NaN    NaN         NaN       0   \n",
       "\n",
       "  MoSold YrSold  SaleType  SaleCondition  SalePrice  \n",
       "0      2   2007        WD         Normal     128000  \n",
       "1     10   2007        WD         Normal     268000  \n",
       "2      6   2007        WD         Normal     269790  \n",
       "3      1   2010       COD         Normal     190000  \n",
       "4      6   2009        WD         Normal     215000  \n",
       "\n",
       "[5 rows x 81 columns]"
      ]
     },
     "execution_count": 2,
     "metadata": {},
     "output_type": "execute_result"
    }
   ],
   "source": [
    "train=pd.read_csv(r\"G:\\DATA SCIENCE MATERIAL\\Flip Robo Internship Project\\Project-Housing_splitted\\train.csv\")\n",
    "train.head()"
   ]
  },
  {
   "cell_type": "markdown",
   "metadata": {},
   "source": [
    "# Importing Test Data"
   ]
  },
  {
   "cell_type": "code",
   "execution_count": 3,
   "metadata": {},
   "outputs": [
    {
     "data": {
      "text/html": [
       "<div>\n",
       "<style scoped>\n",
       "    .dataframe tbody tr th:only-of-type {\n",
       "        vertical-align: middle;\n",
       "    }\n",
       "\n",
       "    .dataframe tbody tr th {\n",
       "        vertical-align: top;\n",
       "    }\n",
       "\n",
       "    .dataframe thead th {\n",
       "        text-align: right;\n",
       "    }\n",
       "</style>\n",
       "<table border=\"1\" class=\"dataframe\">\n",
       "  <thead>\n",
       "    <tr style=\"text-align: right;\">\n",
       "      <th></th>\n",
       "      <th>Id</th>\n",
       "      <th>MSSubClass</th>\n",
       "      <th>MSZoning</th>\n",
       "      <th>LotFrontage</th>\n",
       "      <th>LotArea</th>\n",
       "      <th>Street</th>\n",
       "      <th>Alley</th>\n",
       "      <th>LotShape</th>\n",
       "      <th>LandContour</th>\n",
       "      <th>Utilities</th>\n",
       "      <th>...</th>\n",
       "      <th>ScreenPorch</th>\n",
       "      <th>PoolArea</th>\n",
       "      <th>PoolQC</th>\n",
       "      <th>Fence</th>\n",
       "      <th>MiscFeature</th>\n",
       "      <th>MiscVal</th>\n",
       "      <th>MoSold</th>\n",
       "      <th>YrSold</th>\n",
       "      <th>SaleType</th>\n",
       "      <th>SaleCondition</th>\n",
       "    </tr>\n",
       "  </thead>\n",
       "  <tbody>\n",
       "    <tr>\n",
       "      <th>0</th>\n",
       "      <td>337</td>\n",
       "      <td>20</td>\n",
       "      <td>RL</td>\n",
       "      <td>86.0</td>\n",
       "      <td>14157</td>\n",
       "      <td>Pave</td>\n",
       "      <td>NaN</td>\n",
       "      <td>IR1</td>\n",
       "      <td>HLS</td>\n",
       "      <td>AllPub</td>\n",
       "      <td>...</td>\n",
       "      <td>0</td>\n",
       "      <td>0</td>\n",
       "      <td>NaN</td>\n",
       "      <td>NaN</td>\n",
       "      <td>NaN</td>\n",
       "      <td>0</td>\n",
       "      <td>7</td>\n",
       "      <td>2007</td>\n",
       "      <td>WD</td>\n",
       "      <td>Normal</td>\n",
       "    </tr>\n",
       "    <tr>\n",
       "      <th>1</th>\n",
       "      <td>1018</td>\n",
       "      <td>120</td>\n",
       "      <td>RL</td>\n",
       "      <td>NaN</td>\n",
       "      <td>5814</td>\n",
       "      <td>Pave</td>\n",
       "      <td>NaN</td>\n",
       "      <td>IR1</td>\n",
       "      <td>Lvl</td>\n",
       "      <td>AllPub</td>\n",
       "      <td>...</td>\n",
       "      <td>0</td>\n",
       "      <td>0</td>\n",
       "      <td>NaN</td>\n",
       "      <td>NaN</td>\n",
       "      <td>NaN</td>\n",
       "      <td>0</td>\n",
       "      <td>8</td>\n",
       "      <td>2009</td>\n",
       "      <td>COD</td>\n",
       "      <td>Abnorml</td>\n",
       "    </tr>\n",
       "    <tr>\n",
       "      <th>2</th>\n",
       "      <td>929</td>\n",
       "      <td>20</td>\n",
       "      <td>RL</td>\n",
       "      <td>NaN</td>\n",
       "      <td>11838</td>\n",
       "      <td>Pave</td>\n",
       "      <td>NaN</td>\n",
       "      <td>Reg</td>\n",
       "      <td>Lvl</td>\n",
       "      <td>AllPub</td>\n",
       "      <td>...</td>\n",
       "      <td>0</td>\n",
       "      <td>0</td>\n",
       "      <td>NaN</td>\n",
       "      <td>NaN</td>\n",
       "      <td>NaN</td>\n",
       "      <td>0</td>\n",
       "      <td>6</td>\n",
       "      <td>2009</td>\n",
       "      <td>WD</td>\n",
       "      <td>Normal</td>\n",
       "    </tr>\n",
       "    <tr>\n",
       "      <th>3</th>\n",
       "      <td>1148</td>\n",
       "      <td>70</td>\n",
       "      <td>RL</td>\n",
       "      <td>75.0</td>\n",
       "      <td>12000</td>\n",
       "      <td>Pave</td>\n",
       "      <td>NaN</td>\n",
       "      <td>Reg</td>\n",
       "      <td>Bnk</td>\n",
       "      <td>AllPub</td>\n",
       "      <td>...</td>\n",
       "      <td>0</td>\n",
       "      <td>0</td>\n",
       "      <td>NaN</td>\n",
       "      <td>NaN</td>\n",
       "      <td>NaN</td>\n",
       "      <td>0</td>\n",
       "      <td>7</td>\n",
       "      <td>2009</td>\n",
       "      <td>WD</td>\n",
       "      <td>Normal</td>\n",
       "    </tr>\n",
       "    <tr>\n",
       "      <th>4</th>\n",
       "      <td>1227</td>\n",
       "      <td>60</td>\n",
       "      <td>RL</td>\n",
       "      <td>86.0</td>\n",
       "      <td>14598</td>\n",
       "      <td>Pave</td>\n",
       "      <td>NaN</td>\n",
       "      <td>IR1</td>\n",
       "      <td>Lvl</td>\n",
       "      <td>AllPub</td>\n",
       "      <td>...</td>\n",
       "      <td>0</td>\n",
       "      <td>0</td>\n",
       "      <td>NaN</td>\n",
       "      <td>NaN</td>\n",
       "      <td>NaN</td>\n",
       "      <td>0</td>\n",
       "      <td>1</td>\n",
       "      <td>2008</td>\n",
       "      <td>WD</td>\n",
       "      <td>Normal</td>\n",
       "    </tr>\n",
       "  </tbody>\n",
       "</table>\n",
       "<p>5 rows × 80 columns</p>\n",
       "</div>"
      ],
      "text/plain": [
       "     Id  MSSubClass MSZoning  LotFrontage  LotArea Street Alley LotShape  \\\n",
       "0   337          20       RL         86.0    14157   Pave   NaN      IR1   \n",
       "1  1018         120       RL          NaN     5814   Pave   NaN      IR1   \n",
       "2   929          20       RL          NaN    11838   Pave   NaN      Reg   \n",
       "3  1148          70       RL         75.0    12000   Pave   NaN      Reg   \n",
       "4  1227          60       RL         86.0    14598   Pave   NaN      IR1   \n",
       "\n",
       "  LandContour Utilities  ... ScreenPorch PoolArea PoolQC Fence MiscFeature  \\\n",
       "0         HLS    AllPub  ...           0        0    NaN   NaN         NaN   \n",
       "1         Lvl    AllPub  ...           0        0    NaN   NaN         NaN   \n",
       "2         Lvl    AllPub  ...           0        0    NaN   NaN         NaN   \n",
       "3         Bnk    AllPub  ...           0        0    NaN   NaN         NaN   \n",
       "4         Lvl    AllPub  ...           0        0    NaN   NaN         NaN   \n",
       "\n",
       "  MiscVal MoSold  YrSold  SaleType  SaleCondition  \n",
       "0       0      7    2007        WD         Normal  \n",
       "1       0      8    2009       COD        Abnorml  \n",
       "2       0      6    2009        WD         Normal  \n",
       "3       0      7    2009        WD         Normal  \n",
       "4       0      1    2008        WD         Normal  \n",
       "\n",
       "[5 rows x 80 columns]"
      ]
     },
     "execution_count": 3,
     "metadata": {},
     "output_type": "execute_result"
    }
   ],
   "source": [
    "test=pd.read_csv(r\"G:\\DATA SCIENCE MATERIAL\\Flip Robo Internship Project\\Project-Housing_splitted\\test.csv\")\n",
    "test.head()"
   ]
  },
  {
   "cell_type": "markdown",
   "metadata": {},
   "source": [
    "# Exploratory Data Analysis"
   ]
  },
  {
   "cell_type": "code",
   "execution_count": 4,
   "metadata": {
    "scrolled": true
   },
   "outputs": [
    {
     "data": {
      "text/plain": [
       "Index(['Id', 'MSSubClass', 'MSZoning', 'LotFrontage', 'LotArea', 'Street',\n",
       "       'Alley', 'LotShape', 'LandContour', 'Utilities', 'LotConfig',\n",
       "       'LandSlope', 'Neighborhood', 'Condition1', 'Condition2', 'BldgType',\n",
       "       'HouseStyle', 'OverallQual', 'OverallCond', 'YearBuilt', 'YearRemodAdd',\n",
       "       'RoofStyle', 'RoofMatl', 'Exterior1st', 'Exterior2nd', 'MasVnrType',\n",
       "       'MasVnrArea', 'ExterQual', 'ExterCond', 'Foundation', 'BsmtQual',\n",
       "       'BsmtCond', 'BsmtExposure', 'BsmtFinType1', 'BsmtFinSF1',\n",
       "       'BsmtFinType2', 'BsmtFinSF2', 'BsmtUnfSF', 'TotalBsmtSF', 'Heating',\n",
       "       'HeatingQC', 'CentralAir', 'Electrical', '1stFlrSF', '2ndFlrSF',\n",
       "       'LowQualFinSF', 'GrLivArea', 'BsmtFullBath', 'BsmtHalfBath', 'FullBath',\n",
       "       'HalfBath', 'BedroomAbvGr', 'KitchenAbvGr', 'KitchenQual',\n",
       "       'TotRmsAbvGrd', 'Functional', 'Fireplaces', 'FireplaceQu', 'GarageType',\n",
       "       'GarageYrBlt', 'GarageFinish', 'GarageCars', 'GarageArea', 'GarageQual',\n",
       "       'GarageCond', 'PavedDrive', 'WoodDeckSF', 'OpenPorchSF',\n",
       "       'EnclosedPorch', '3SsnPorch', 'ScreenPorch', 'PoolArea', 'PoolQC',\n",
       "       'Fence', 'MiscFeature', 'MiscVal', 'MoSold', 'YrSold', 'SaleType',\n",
       "       'SaleCondition', 'SalePrice'],\n",
       "      dtype='object')"
      ]
     },
     "execution_count": 4,
     "metadata": {},
     "output_type": "execute_result"
    }
   ],
   "source": [
    "#Checking columns of Train Data.\n",
    "train.columns"
   ]
  },
  {
   "cell_type": "code",
   "execution_count": 5,
   "metadata": {},
   "outputs": [
    {
     "data": {
      "text/plain": [
       "Index(['Id', 'MSSubClass', 'MSZoning', 'LotFrontage', 'LotArea', 'Street',\n",
       "       'Alley', 'LotShape', 'LandContour', 'Utilities', 'LotConfig',\n",
       "       'LandSlope', 'Neighborhood', 'Condition1', 'Condition2', 'BldgType',\n",
       "       'HouseStyle', 'OverallQual', 'OverallCond', 'YearBuilt', 'YearRemodAdd',\n",
       "       'RoofStyle', 'RoofMatl', 'Exterior1st', 'Exterior2nd', 'MasVnrType',\n",
       "       'MasVnrArea', 'ExterQual', 'ExterCond', 'Foundation', 'BsmtQual',\n",
       "       'BsmtCond', 'BsmtExposure', 'BsmtFinType1', 'BsmtFinSF1',\n",
       "       'BsmtFinType2', 'BsmtFinSF2', 'BsmtUnfSF', 'TotalBsmtSF', 'Heating',\n",
       "       'HeatingQC', 'CentralAir', 'Electrical', '1stFlrSF', '2ndFlrSF',\n",
       "       'LowQualFinSF', 'GrLivArea', 'BsmtFullBath', 'BsmtHalfBath', 'FullBath',\n",
       "       'HalfBath', 'BedroomAbvGr', 'KitchenAbvGr', 'KitchenQual',\n",
       "       'TotRmsAbvGrd', 'Functional', 'Fireplaces', 'FireplaceQu', 'GarageType',\n",
       "       'GarageYrBlt', 'GarageFinish', 'GarageCars', 'GarageArea', 'GarageQual',\n",
       "       'GarageCond', 'PavedDrive', 'WoodDeckSF', 'OpenPorchSF',\n",
       "       'EnclosedPorch', '3SsnPorch', 'ScreenPorch', 'PoolArea', 'PoolQC',\n",
       "       'Fence', 'MiscFeature', 'MiscVal', 'MoSold', 'YrSold', 'SaleType',\n",
       "       'SaleCondition'],\n",
       "      dtype='object')"
      ]
     },
     "execution_count": 5,
     "metadata": {},
     "output_type": "execute_result"
    }
   ],
   "source": [
    "#Checking columns of Test Data.\n",
    "test.columns"
   ]
  },
  {
   "cell_type": "code",
   "execution_count": 6,
   "metadata": {},
   "outputs": [
    {
     "data": {
      "text/plain": [
       "((1168, 81), (292, 80))"
      ]
     },
     "execution_count": 6,
     "metadata": {},
     "output_type": "execute_result"
    }
   ],
   "source": [
    "#checking shape of train data and test data.\n",
    "train.shape,test.shape"
   ]
  },
  {
   "cell_type": "code",
   "execution_count": 7,
   "metadata": {},
   "outputs": [
    {
     "data": {
      "text/plain": [
       "Id                 int64\n",
       "MSSubClass         int64\n",
       "MSZoning          object\n",
       "LotFrontage      float64\n",
       "LotArea            int64\n",
       "                  ...   \n",
       "MoSold             int64\n",
       "YrSold             int64\n",
       "SaleType          object\n",
       "SaleCondition     object\n",
       "SalePrice          int64\n",
       "Length: 81, dtype: object"
      ]
     },
     "execution_count": 7,
     "metadata": {},
     "output_type": "execute_result"
    }
   ],
   "source": [
    "#checking Data Types of Train data.\n",
    "train.dtypes"
   ]
  },
  {
   "cell_type": "code",
   "execution_count": 8,
   "metadata": {},
   "outputs": [
    {
     "data": {
      "text/plain": [
       "Id                 int64\n",
       "MSSubClass         int64\n",
       "MSZoning          object\n",
       "LotFrontage      float64\n",
       "LotArea            int64\n",
       "                  ...   \n",
       "MiscVal            int64\n",
       "MoSold             int64\n",
       "YrSold             int64\n",
       "SaleType          object\n",
       "SaleCondition     object\n",
       "Length: 80, dtype: object"
      ]
     },
     "execution_count": 8,
     "metadata": {},
     "output_type": "execute_result"
    }
   ],
   "source": [
    "#checking Data Types of Test Data.\n",
    "test.dtypes"
   ]
  },
  {
   "cell_type": "code",
   "execution_count": 9,
   "metadata": {},
   "outputs": [
    {
     "name": "stdout",
     "output_type": "stream",
     "text": [
      "<class 'pandas.core.frame.DataFrame'>\n",
      "RangeIndex: 1168 entries, 0 to 1167\n",
      "Data columns (total 81 columns):\n",
      " #   Column         Non-Null Count  Dtype  \n",
      "---  ------         --------------  -----  \n",
      " 0   Id             1168 non-null   int64  \n",
      " 1   MSSubClass     1168 non-null   int64  \n",
      " 2   MSZoning       1168 non-null   object \n",
      " 3   LotFrontage    954 non-null    float64\n",
      " 4   LotArea        1168 non-null   int64  \n",
      " 5   Street         1168 non-null   object \n",
      " 6   Alley          77 non-null     object \n",
      " 7   LotShape       1168 non-null   object \n",
      " 8   LandContour    1168 non-null   object \n",
      " 9   Utilities      1168 non-null   object \n",
      " 10  LotConfig      1168 non-null   object \n",
      " 11  LandSlope      1168 non-null   object \n",
      " 12  Neighborhood   1168 non-null   object \n",
      " 13  Condition1     1168 non-null   object \n",
      " 14  Condition2     1168 non-null   object \n",
      " 15  BldgType       1168 non-null   object \n",
      " 16  HouseStyle     1168 non-null   object \n",
      " 17  OverallQual    1168 non-null   int64  \n",
      " 18  OverallCond    1168 non-null   int64  \n",
      " 19  YearBuilt      1168 non-null   int64  \n",
      " 20  YearRemodAdd   1168 non-null   int64  \n",
      " 21  RoofStyle      1168 non-null   object \n",
      " 22  RoofMatl       1168 non-null   object \n",
      " 23  Exterior1st    1168 non-null   object \n",
      " 24  Exterior2nd    1168 non-null   object \n",
      " 25  MasVnrType     1161 non-null   object \n",
      " 26  MasVnrArea     1161 non-null   float64\n",
      " 27  ExterQual      1168 non-null   object \n",
      " 28  ExterCond      1168 non-null   object \n",
      " 29  Foundation     1168 non-null   object \n",
      " 30  BsmtQual       1138 non-null   object \n",
      " 31  BsmtCond       1138 non-null   object \n",
      " 32  BsmtExposure   1137 non-null   object \n",
      " 33  BsmtFinType1   1138 non-null   object \n",
      " 34  BsmtFinSF1     1168 non-null   int64  \n",
      " 35  BsmtFinType2   1137 non-null   object \n",
      " 36  BsmtFinSF2     1168 non-null   int64  \n",
      " 37  BsmtUnfSF      1168 non-null   int64  \n",
      " 38  TotalBsmtSF    1168 non-null   int64  \n",
      " 39  Heating        1168 non-null   object \n",
      " 40  HeatingQC      1168 non-null   object \n",
      " 41  CentralAir     1168 non-null   object \n",
      " 42  Electrical     1168 non-null   object \n",
      " 43  1stFlrSF       1168 non-null   int64  \n",
      " 44  2ndFlrSF       1168 non-null   int64  \n",
      " 45  LowQualFinSF   1168 non-null   int64  \n",
      " 46  GrLivArea      1168 non-null   int64  \n",
      " 47  BsmtFullBath   1168 non-null   int64  \n",
      " 48  BsmtHalfBath   1168 non-null   int64  \n",
      " 49  FullBath       1168 non-null   int64  \n",
      " 50  HalfBath       1168 non-null   int64  \n",
      " 51  BedroomAbvGr   1168 non-null   int64  \n",
      " 52  KitchenAbvGr   1168 non-null   int64  \n",
      " 53  KitchenQual    1168 non-null   object \n",
      " 54  TotRmsAbvGrd   1168 non-null   int64  \n",
      " 55  Functional     1168 non-null   object \n",
      " 56  Fireplaces     1168 non-null   int64  \n",
      " 57  FireplaceQu    617 non-null    object \n",
      " 58  GarageType     1104 non-null   object \n",
      " 59  GarageYrBlt    1104 non-null   float64\n",
      " 60  GarageFinish   1104 non-null   object \n",
      " 61  GarageCars     1168 non-null   int64  \n",
      " 62  GarageArea     1168 non-null   int64  \n",
      " 63  GarageQual     1104 non-null   object \n",
      " 64  GarageCond     1104 non-null   object \n",
      " 65  PavedDrive     1168 non-null   object \n",
      " 66  WoodDeckSF     1168 non-null   int64  \n",
      " 67  OpenPorchSF    1168 non-null   int64  \n",
      " 68  EnclosedPorch  1168 non-null   int64  \n",
      " 69  3SsnPorch      1168 non-null   int64  \n",
      " 70  ScreenPorch    1168 non-null   int64  \n",
      " 71  PoolArea       1168 non-null   int64  \n",
      " 72  PoolQC         7 non-null      object \n",
      " 73  Fence          237 non-null    object \n",
      " 74  MiscFeature    44 non-null     object \n",
      " 75  MiscVal        1168 non-null   int64  \n",
      " 76  MoSold         1168 non-null   int64  \n",
      " 77  YrSold         1168 non-null   int64  \n",
      " 78  SaleType       1168 non-null   object \n",
      " 79  SaleCondition  1168 non-null   object \n",
      " 80  SalePrice      1168 non-null   int64  \n",
      "dtypes: float64(3), int64(35), object(43)\n",
      "memory usage: 739.2+ KB\n"
     ]
    }
   ],
   "source": [
    "# Checking information about both data.\n",
    "train.info()"
   ]
  },
  {
   "cell_type": "code",
   "execution_count": 10,
   "metadata": {},
   "outputs": [
    {
     "name": "stdout",
     "output_type": "stream",
     "text": [
      "<class 'pandas.core.frame.DataFrame'>\n",
      "RangeIndex: 292 entries, 0 to 291\n",
      "Data columns (total 80 columns):\n",
      " #   Column         Non-Null Count  Dtype  \n",
      "---  ------         --------------  -----  \n",
      " 0   Id             292 non-null    int64  \n",
      " 1   MSSubClass     292 non-null    int64  \n",
      " 2   MSZoning       292 non-null    object \n",
      " 3   LotFrontage    247 non-null    float64\n",
      " 4   LotArea        292 non-null    int64  \n",
      " 5   Street         292 non-null    object \n",
      " 6   Alley          14 non-null     object \n",
      " 7   LotShape       292 non-null    object \n",
      " 8   LandContour    292 non-null    object \n",
      " 9   Utilities      292 non-null    object \n",
      " 10  LotConfig      292 non-null    object \n",
      " 11  LandSlope      292 non-null    object \n",
      " 12  Neighborhood   292 non-null    object \n",
      " 13  Condition1     292 non-null    object \n",
      " 14  Condition2     292 non-null    object \n",
      " 15  BldgType       292 non-null    object \n",
      " 16  HouseStyle     292 non-null    object \n",
      " 17  OverallQual    292 non-null    int64  \n",
      " 18  OverallCond    292 non-null    int64  \n",
      " 19  YearBuilt      292 non-null    int64  \n",
      " 20  YearRemodAdd   292 non-null    int64  \n",
      " 21  RoofStyle      292 non-null    object \n",
      " 22  RoofMatl       292 non-null    object \n",
      " 23  Exterior1st    292 non-null    object \n",
      " 24  Exterior2nd    292 non-null    object \n",
      " 25  MasVnrType     291 non-null    object \n",
      " 26  MasVnrArea     291 non-null    float64\n",
      " 27  ExterQual      292 non-null    object \n",
      " 28  ExterCond      292 non-null    object \n",
      " 29  Foundation     292 non-null    object \n",
      " 30  BsmtQual       285 non-null    object \n",
      " 31  BsmtCond       285 non-null    object \n",
      " 32  BsmtExposure   285 non-null    object \n",
      " 33  BsmtFinType1   285 non-null    object \n",
      " 34  BsmtFinSF1     292 non-null    int64  \n",
      " 35  BsmtFinType2   285 non-null    object \n",
      " 36  BsmtFinSF2     292 non-null    int64  \n",
      " 37  BsmtUnfSF      292 non-null    int64  \n",
      " 38  TotalBsmtSF    292 non-null    int64  \n",
      " 39  Heating        292 non-null    object \n",
      " 40  HeatingQC      292 non-null    object \n",
      " 41  CentralAir     292 non-null    object \n",
      " 42  Electrical     291 non-null    object \n",
      " 43  1stFlrSF       292 non-null    int64  \n",
      " 44  2ndFlrSF       292 non-null    int64  \n",
      " 45  LowQualFinSF   292 non-null    int64  \n",
      " 46  GrLivArea      292 non-null    int64  \n",
      " 47  BsmtFullBath   292 non-null    int64  \n",
      " 48  BsmtHalfBath   292 non-null    int64  \n",
      " 49  FullBath       292 non-null    int64  \n",
      " 50  HalfBath       292 non-null    int64  \n",
      " 51  BedroomAbvGr   292 non-null    int64  \n",
      " 52  KitchenAbvGr   292 non-null    int64  \n",
      " 53  KitchenQual    292 non-null    object \n",
      " 54  TotRmsAbvGrd   292 non-null    int64  \n",
      " 55  Functional     292 non-null    object \n",
      " 56  Fireplaces     292 non-null    int64  \n",
      " 57  FireplaceQu    153 non-null    object \n",
      " 58  GarageType     275 non-null    object \n",
      " 59  GarageYrBlt    275 non-null    float64\n",
      " 60  GarageFinish   275 non-null    object \n",
      " 61  GarageCars     292 non-null    int64  \n",
      " 62  GarageArea     292 non-null    int64  \n",
      " 63  GarageQual     275 non-null    object \n",
      " 64  GarageCond     275 non-null    object \n",
      " 65  PavedDrive     292 non-null    object \n",
      " 66  WoodDeckSF     292 non-null    int64  \n",
      " 67  OpenPorchSF    292 non-null    int64  \n",
      " 68  EnclosedPorch  292 non-null    int64  \n",
      " 69  3SsnPorch      292 non-null    int64  \n",
      " 70  ScreenPorch    292 non-null    int64  \n",
      " 71  PoolArea       292 non-null    int64  \n",
      " 72  PoolQC         0 non-null      float64\n",
      " 73  Fence          44 non-null     object \n",
      " 74  MiscFeature    10 non-null     object \n",
      " 75  MiscVal        292 non-null    int64  \n",
      " 76  MoSold         292 non-null    int64  \n",
      " 77  YrSold         292 non-null    int64  \n",
      " 78  SaleType       292 non-null    object \n",
      " 79  SaleCondition  292 non-null    object \n",
      "dtypes: float64(4), int64(34), object(42)\n",
      "memory usage: 182.6+ KB\n"
     ]
    }
   ],
   "source": [
    "test.info()"
   ]
  },
  {
   "cell_type": "code",
   "execution_count": 11,
   "metadata": {
    "scrolled": true
   },
   "outputs": [
    {
     "data": {
      "text/html": [
       "<div>\n",
       "<style scoped>\n",
       "    .dataframe tbody tr th:only-of-type {\n",
       "        vertical-align: middle;\n",
       "    }\n",
       "\n",
       "    .dataframe tbody tr th {\n",
       "        vertical-align: top;\n",
       "    }\n",
       "\n",
       "    .dataframe thead th {\n",
       "        text-align: right;\n",
       "    }\n",
       "</style>\n",
       "<table border=\"1\" class=\"dataframe\">\n",
       "  <thead>\n",
       "    <tr style=\"text-align: right;\">\n",
       "      <th></th>\n",
       "      <th>unique values</th>\n",
       "      <th>number of unique values</th>\n",
       "    </tr>\n",
       "  </thead>\n",
       "  <tbody>\n",
       "    <tr>\n",
       "      <th>Id</th>\n",
       "      <td>[127, 889, 793, 110, 422, 1197, 561, 1041, 503...</td>\n",
       "      <td>1168</td>\n",
       "    </tr>\n",
       "    <tr>\n",
       "      <th>MSSubClass</th>\n",
       "      <td>[120, 20, 60, 50, 70, 30, 160, 85, 45, 90, 40,...</td>\n",
       "      <td>15</td>\n",
       "    </tr>\n",
       "    <tr>\n",
       "      <th>MSZoning</th>\n",
       "      <td>[RL, RM, FV, RH, C (all)]</td>\n",
       "      <td>5</td>\n",
       "    </tr>\n",
       "    <tr>\n",
       "      <th>LotFrontage</th>\n",
       "      <td>[nan, 95.0, 92.0, 105.0, 58.0, 88.0, 70.0, 80....</td>\n",
       "      <td>106</td>\n",
       "    </tr>\n",
       "    <tr>\n",
       "      <th>LotArea</th>\n",
       "      <td>[4928, 15865, 9920, 11751, 16635, 14054, 11341...</td>\n",
       "      <td>892</td>\n",
       "    </tr>\n",
       "    <tr>\n",
       "      <th>...</th>\n",
       "      <td>...</td>\n",
       "      <td>...</td>\n",
       "    </tr>\n",
       "    <tr>\n",
       "      <th>MoSold</th>\n",
       "      <td>[2, 10, 6, 1, 11, 5, 4, 7, 8, 3, 9, 12]</td>\n",
       "      <td>12</td>\n",
       "    </tr>\n",
       "    <tr>\n",
       "      <th>YrSold</th>\n",
       "      <td>[2007, 2010, 2009, 2006, 2008]</td>\n",
       "      <td>5</td>\n",
       "    </tr>\n",
       "    <tr>\n",
       "      <th>SaleType</th>\n",
       "      <td>[WD, COD, New, ConLI, ConLw, Con, ConLD, Oth, ...</td>\n",
       "      <td>9</td>\n",
       "    </tr>\n",
       "    <tr>\n",
       "      <th>SaleCondition</th>\n",
       "      <td>[Normal, Partial, Abnorml, Family, Alloca, Adj...</td>\n",
       "      <td>6</td>\n",
       "    </tr>\n",
       "    <tr>\n",
       "      <th>SalePrice</th>\n",
       "      <td>[128000, 268000, 269790, 190000, 215000, 21921...</td>\n",
       "      <td>581</td>\n",
       "    </tr>\n",
       "  </tbody>\n",
       "</table>\n",
       "<p>81 rows × 2 columns</p>\n",
       "</div>"
      ],
      "text/plain": [
       "                                                   unique values  \\\n",
       "Id             [127, 889, 793, 110, 422, 1197, 561, 1041, 503...   \n",
       "MSSubClass     [120, 20, 60, 50, 70, 30, 160, 85, 45, 90, 40,...   \n",
       "MSZoning                               [RL, RM, FV, RH, C (all)]   \n",
       "LotFrontage    [nan, 95.0, 92.0, 105.0, 58.0, 88.0, 70.0, 80....   \n",
       "LotArea        [4928, 15865, 9920, 11751, 16635, 14054, 11341...   \n",
       "...                                                          ...   \n",
       "MoSold                   [2, 10, 6, 1, 11, 5, 4, 7, 8, 3, 9, 12]   \n",
       "YrSold                            [2007, 2010, 2009, 2006, 2008]   \n",
       "SaleType       [WD, COD, New, ConLI, ConLw, Con, ConLD, Oth, ...   \n",
       "SaleCondition  [Normal, Partial, Abnorml, Family, Alloca, Adj...   \n",
       "SalePrice      [128000, 268000, 269790, 190000, 215000, 21921...   \n",
       "\n",
       "               number of unique values  \n",
       "Id                                1168  \n",
       "MSSubClass                          15  \n",
       "MSZoning                             5  \n",
       "LotFrontage                        106  \n",
       "LotArea                            892  \n",
       "...                                ...  \n",
       "MoSold                              12  \n",
       "YrSold                               5  \n",
       "SaleType                             9  \n",
       "SaleCondition                        6  \n",
       "SalePrice                          581  \n",
       "\n",
       "[81 rows x 2 columns]"
      ]
     },
     "execution_count": 11,
     "metadata": {},
     "output_type": "execute_result"
    }
   ],
   "source": [
    "pd.concat({'unique values': train.apply(pd.unique), 'number of unique values': train.nunique()}, axis=1)"
   ]
  },
  {
   "cell_type": "code",
   "execution_count": 12,
   "metadata": {},
   "outputs": [],
   "source": [
    "#Checking unique value of all features."
   ]
  },
  {
   "cell_type": "code",
   "execution_count": 13,
   "metadata": {},
   "outputs": [
    {
     "data": {
      "text/plain": [
       "Id                 0\n",
       "MSSubClass         0\n",
       "MSZoning           0\n",
       "LotFrontage      214\n",
       "LotArea            0\n",
       "                ... \n",
       "MoSold             0\n",
       "YrSold             0\n",
       "SaleType           0\n",
       "SaleCondition      0\n",
       "SalePrice          0\n",
       "Length: 81, dtype: int64"
      ]
     },
     "execution_count": 13,
     "metadata": {},
     "output_type": "execute_result"
    }
   ],
   "source": [
    "# As we are gettting the Null Values are present in both datasets and we have to treat with Simple Imputer Techniques.\n",
    "train.isnull().sum()"
   ]
  },
  {
   "cell_type": "code",
   "execution_count": 14,
   "metadata": {},
   "outputs": [
    {
     "data": {
      "text/plain": [
       "Id                0\n",
       "MSSubClass        0\n",
       "MSZoning          0\n",
       "LotFrontage      45\n",
       "LotArea           0\n",
       "                 ..\n",
       "MiscVal           0\n",
       "MoSold            0\n",
       "YrSold            0\n",
       "SaleType          0\n",
       "SaleCondition     0\n",
       "Length: 80, dtype: int64"
      ]
     },
     "execution_count": 14,
     "metadata": {},
     "output_type": "execute_result"
    }
   ],
   "source": [
    "test.isnull().sum()"
   ]
  },
  {
   "cell_type": "code",
   "execution_count": 15,
   "metadata": {},
   "outputs": [
    {
     "data": {
      "text/plain": [
       "<AxesSubplot:>"
      ]
     },
     "execution_count": 15,
     "metadata": {},
     "output_type": "execute_result"
    },
    {
     "data": {
      "image/png": "[encoded data removed]",
      "text/plain": [
       "<Figure size 432x288 with 2 Axes>"
      ]
     },
     "metadata": {
      "needs_background": "light"
     },
     "output_type": "display_data"
    }
   ],
   "source": [
    "#checking Null values with the help of Heat Map.\n",
    "sns.heatmap(train.isnull())"
   ]
  },
  {
   "cell_type": "code",
   "execution_count": 16,
   "metadata": {},
   "outputs": [
    {
     "data": {
      "text/plain": [
       "<AxesSubplot:>"
      ]
     },
     "execution_count": 16,
     "metadata": {},
     "output_type": "execute_result"
    },
    {
     "data": {
      "image/png": "[encoded data removed]",
      "text/plain": [
       "<Figure size 432x288 with 2 Axes>"
      ]
     },
     "metadata": {
      "needs_background": "light"
     },
     "output_type": "display_data"
    }
   ],
   "source": [
    "sns.heatmap(test.isnull())"
   ]
  },
  {
   "cell_type": "code",
   "execution_count": 17,
   "metadata": {},
   "outputs": [
    {
     "data": {
      "text/plain": [
       "array([ nan,  95.,  92., 105.,  58.,  88.,  70.,  80.,  50.,  44., 129.,\n",
       "        59.,  55.,  64.,  24.,  68.,  71.,  74.,  61.,  60., 120.,  84.,\n",
       "       141.,  30.,  65.,  76., 100.,  85.,  75., 107., 122.,  82.,  62.,\n",
       "        73.,  79.,  77.,  41.,  69.,  90.,  96.,  72.,  34.,  78.,  63.,\n",
       "        40.,  98., 160., 108., 128.,  51.,  81.,  99.,  66.,  37., 174.,\n",
       "        87.,  53., 152.,  47.,  86.,  56.,  89.,  35.,  52.,  21., 104.,\n",
       "        57.,  83.,  46., 101., 112., 149.,  93.,  49.,  43., 130.,  54.,\n",
       "        91.,  67.,  97., 110., 103., 115.,  94.,  48.,  36., 313., 109.,\n",
       "       144., 121., 102., 116., 182.,  32.,  42., 168., 118.,  38., 140.,\n",
       "       134., 114., 124.,  39., 111.,  45., 106., 153.])"
      ]
     },
     "execution_count": 17,
     "metadata": {},
     "output_type": "execute_result"
    }
   ],
   "source": [
    "train['LotFrontage'].unique()"
   ]
  },
  {
   "cell_type": "code",
   "execution_count": 18,
   "metadata": {},
   "outputs": [
    {
     "data": {
      "text/plain": [
       "Grvl    41\n",
       "Pave    36\n",
       "Name: Alley, dtype: int64"
      ]
     },
     "execution_count": 18,
     "metadata": {},
     "output_type": "execute_result"
    }
   ],
   "source": [
    "train['Alley'].value_counts()"
   ]
  },
  {
   "cell_type": "code",
   "execution_count": 19,
   "metadata": {},
   "outputs": [
    {
     "data": {
      "text/plain": [
       "array([nan, 'Grvl', 'Pave'], dtype=object)"
      ]
     },
     "execution_count": 19,
     "metadata": {},
     "output_type": "execute_result"
    }
   ],
   "source": [
    "train['Alley'].unique()"
   ]
  },
  {
   "cell_type": "code",
   "execution_count": 20,
   "metadata": {},
   "outputs": [
    {
     "data": {
      "text/plain": [
       "array([nan, 'Ex', 'Gd', 'Fa'], dtype=object)"
      ]
     },
     "execution_count": 20,
     "metadata": {},
     "output_type": "execute_result"
    }
   ],
   "source": [
    "train['PoolQC'].unique()"
   ]
  },
  {
   "cell_type": "code",
   "execution_count": 21,
   "metadata": {},
   "outputs": [
    {
     "data": {
      "text/plain": [
       "Gd    3\n",
       "Fa    2\n",
       "Ex    2\n",
       "Name: PoolQC, dtype: int64"
      ]
     },
     "execution_count": 21,
     "metadata": {},
     "output_type": "execute_result"
    }
   ],
   "source": [
    "train['PoolQC'].value_counts()"
   ]
  },
  {
   "cell_type": "code",
   "execution_count": 22,
   "metadata": {},
   "outputs": [
    {
     "data": {
      "text/plain": [
       "0      1161\n",
       "738       1\n",
       "648       1\n",
       "576       1\n",
       "555       1\n",
       "519       1\n",
       "512       1\n",
       "480       1\n",
       "Name: PoolArea, dtype: int64"
      ]
     },
     "execution_count": 22,
     "metadata": {},
     "output_type": "execute_result"
    }
   ],
   "source": [
    "train['PoolArea'].value_counts()"
   ]
  },
  {
   "cell_type": "markdown",
   "metadata": {},
   "source": [
    "# Data Cleaning"
   ]
  },
  {
   "cell_type": "code",
   "execution_count": 23,
   "metadata": {},
   "outputs": [],
   "source": [
    "from sklearn.impute import SimpleImputer\n",
    "imp=SimpleImputer(strategy=\"most_frequent\")\n",
    "train['Alley']=imp.fit_transform(train['Alley'].values.reshape(-1,1))\n",
    "train['MasVnrType']=imp.fit_transform(train['MasVnrType'].values.reshape(-1,1))\n",
    "train['MasVnrArea']=imp.fit_transform(train['MasVnrArea'].values.reshape(-1,1))\n",
    "train['BsmtQual']=imp.fit_transform(train['BsmtQual'].values.reshape(-1,1))\n",
    "train['BsmtCond']=imp.fit_transform(train['BsmtCond'].values.reshape(-1,1))\n",
    "train['BsmtExposure']=imp.fit_transform(train['BsmtExposure'].values.reshape(-1,1))\n",
    "train['BsmtFinType1']=imp.fit_transform(train['BsmtFinType1'].values.reshape(-1,1))\n",
    "train['BsmtFinType2']=imp.fit_transform(train['BsmtFinType2'].values.reshape(-1,1))\n",
    "train['FireplaceQu']=imp.fit_transform(train['FireplaceQu'].values.reshape(-1,1))\n",
    "train['GarageType']=imp.fit_transform(train['GarageType'].values.reshape(-1,1))\n",
    "\n",
    "train['GarageFinish']=imp.fit_transform(train['GarageFinish'].values.reshape(-1,1))\n",
    "train['GarageQual']=imp.fit_transform(train['GarageQual'].values.reshape(-1,1))\n",
    "train['GarageCond']=imp.fit_transform(train['GarageCond'].values.reshape(-1,1))\n",
    "train['Fence']=imp.fit_transform(train['Fence'].values.reshape(-1,1))\n",
    "train['MiscFeature']=imp.fit_transform(train['MiscFeature'].values.reshape(-1,1))\n",
    "\n",
    "#test\n",
    "test['Alley']=imp.fit_transform(test['Alley'].values.reshape(-1,1))\n",
    "test['MasVnrType']=imp.fit_transform(test['MasVnrType'].values.reshape(-1,1))\n",
    "test['MasVnrArea']=imp.fit_transform(test['MasVnrArea'].values.reshape(-1,1))\n",
    "test['BsmtQual']=imp.fit_transform(test['BsmtQual'].values.reshape(-1,1))\n",
    "test['BsmtCond']=imp.fit_transform(test['BsmtCond'].values.reshape(-1,1))\n",
    "test['BsmtExposure']=imp.fit_transform(test['BsmtExposure'].values.reshape(-1,1))\n",
    "test['BsmtFinType1']=imp.fit_transform(test['BsmtFinType1'].values.reshape(-1,1))\n",
    "test['BsmtFinType2']=imp.fit_transform(test['BsmtFinType2'].values.reshape(-1,1))\n",
    "test['Electrical']=imp.fit_transform(test['Electrical'].values.reshape(-1,1))\n",
    "test['FireplaceQu']=imp.fit_transform(test['FireplaceQu'].values.reshape(-1,1))\n",
    "test['GarageType']=imp.fit_transform(test['GarageType'].values.reshape(-1,1))\n",
    "\n",
    "test['GarageFinish']=imp.fit_transform(test['GarageFinish'].values.reshape(-1,1))\n",
    "test['GarageQual']=imp.fit_transform(test['GarageQual'].values.reshape(-1,1))\n",
    "test['GarageCond']=imp.fit_transform(test['GarageCond'].values.reshape(-1,1))\n",
    "test['Fence']=imp.fit_transform(test['Fence'].values.reshape(-1,1))\n",
    "test['MiscFeature']=imp.fit_transform(test['MiscFeature'].values.reshape(-1,1))\n"
   ]
  },
  {
   "cell_type": "code",
   "execution_count": 24,
   "metadata": {},
   "outputs": [],
   "source": [
    "from sklearn.impute import SimpleImputer\n",
    "imp=SimpleImputer(strategy=\"mean\")\n",
    "train['LotFrontage']=imp.fit_transform(train['LotFrontage'].values.reshape(-1,1))\n",
    "train['GarageYrBlt']=imp.fit_transform(train['GarageYrBlt'].values.reshape(-1,1))\n",
    "\n",
    "#Test Data\n",
    "test['LotFrontage']=imp.fit_transform(test['LotFrontage'].values.reshape(-1,1))\n",
    "test['GarageYrBlt']=imp.fit_transform(test['GarageYrBlt'].values.reshape(-1,1))"
   ]
  },
  {
   "cell_type": "markdown",
   "metadata": {},
   "source": [
    "Replacing Null values witht the help of Simple Imputer.\n",
    "\n",
    "As we are getting, there are null values present in many features accordingly we are treating with sutiable techniques (Median, Mean)"
   ]
  },
  {
   "cell_type": "code",
   "execution_count": 25,
   "metadata": {},
   "outputs": [],
   "source": [
    "#Train Data\n",
    "train.drop(['PoolQC'],axis=1,inplace=True)\n",
    "train.drop(['Id'],axis=1,inplace=True)\n",
    "train.drop(['PoolArea'],axis=1,inplace=True)\n",
    "#Test Data\n",
    "test.drop(['PoolQC'],axis=1,inplace=True)\n",
    "test.drop(['Id'],axis=1,inplace=True)\n",
    "test.drop(['PoolArea'],axis=1,inplace=True)"
   ]
  },
  {
   "cell_type": "markdown",
   "metadata": {},
   "source": [
    "ID Feature is useful for our prediction that's why we are droping.\n",
    "\n",
    "PoolQC and Pool Area are not contain much information and maximum are empty so we are droping."
   ]
  },
  {
   "cell_type": "code",
   "execution_count": 26,
   "metadata": {},
   "outputs": [
    {
     "data": {
      "text/html": [
       "<div>\n",
       "<style scoped>\n",
       "    .dataframe tbody tr th:only-of-type {\n",
       "        vertical-align: middle;\n",
       "    }\n",
       "\n",
       "    .dataframe tbody tr th {\n",
       "        vertical-align: top;\n",
       "    }\n",
       "\n",
       "    .dataframe thead th {\n",
       "        text-align: right;\n",
       "    }\n",
       "</style>\n",
       "<table border=\"1\" class=\"dataframe\">\n",
       "  <thead>\n",
       "    <tr style=\"text-align: right;\">\n",
       "      <th></th>\n",
       "      <th>MSSubClass</th>\n",
       "      <th>MSZoning</th>\n",
       "      <th>LotFrontage</th>\n",
       "      <th>LotArea</th>\n",
       "      <th>Street</th>\n",
       "      <th>Alley</th>\n",
       "      <th>LotShape</th>\n",
       "      <th>LandContour</th>\n",
       "      <th>Utilities</th>\n",
       "      <th>LotConfig</th>\n",
       "      <th>...</th>\n",
       "      <th>3SsnPorch</th>\n",
       "      <th>ScreenPorch</th>\n",
       "      <th>Fence</th>\n",
       "      <th>MiscFeature</th>\n",
       "      <th>MiscVal</th>\n",
       "      <th>MoSold</th>\n",
       "      <th>YrSold</th>\n",
       "      <th>SaleType</th>\n",
       "      <th>SaleCondition</th>\n",
       "      <th>SalePrice</th>\n",
       "    </tr>\n",
       "  </thead>\n",
       "  <tbody>\n",
       "    <tr>\n",
       "      <th>0</th>\n",
       "      <td>120</td>\n",
       "      <td>RL</td>\n",
       "      <td>70.98847</td>\n",
       "      <td>4928</td>\n",
       "      <td>Pave</td>\n",
       "      <td>Grvl</td>\n",
       "      <td>IR1</td>\n",
       "      <td>Lvl</td>\n",
       "      <td>AllPub</td>\n",
       "      <td>Inside</td>\n",
       "      <td>...</td>\n",
       "      <td>0</td>\n",
       "      <td>0</td>\n",
       "      <td>MnPrv</td>\n",
       "      <td>Shed</td>\n",
       "      <td>0</td>\n",
       "      <td>2</td>\n",
       "      <td>2007</td>\n",
       "      <td>WD</td>\n",
       "      <td>Normal</td>\n",
       "      <td>128000</td>\n",
       "    </tr>\n",
       "    <tr>\n",
       "      <th>1</th>\n",
       "      <td>20</td>\n",
       "      <td>RL</td>\n",
       "      <td>95.00000</td>\n",
       "      <td>15865</td>\n",
       "      <td>Pave</td>\n",
       "      <td>Grvl</td>\n",
       "      <td>IR1</td>\n",
       "      <td>Lvl</td>\n",
       "      <td>AllPub</td>\n",
       "      <td>Inside</td>\n",
       "      <td>...</td>\n",
       "      <td>0</td>\n",
       "      <td>224</td>\n",
       "      <td>MnPrv</td>\n",
       "      <td>Shed</td>\n",
       "      <td>0</td>\n",
       "      <td>10</td>\n",
       "      <td>2007</td>\n",
       "      <td>WD</td>\n",
       "      <td>Normal</td>\n",
       "      <td>268000</td>\n",
       "    </tr>\n",
       "    <tr>\n",
       "      <th>2</th>\n",
       "      <td>60</td>\n",
       "      <td>RL</td>\n",
       "      <td>92.00000</td>\n",
       "      <td>9920</td>\n",
       "      <td>Pave</td>\n",
       "      <td>Grvl</td>\n",
       "      <td>IR1</td>\n",
       "      <td>Lvl</td>\n",
       "      <td>AllPub</td>\n",
       "      <td>CulDSac</td>\n",
       "      <td>...</td>\n",
       "      <td>0</td>\n",
       "      <td>0</td>\n",
       "      <td>MnPrv</td>\n",
       "      <td>Shed</td>\n",
       "      <td>0</td>\n",
       "      <td>6</td>\n",
       "      <td>2007</td>\n",
       "      <td>WD</td>\n",
       "      <td>Normal</td>\n",
       "      <td>269790</td>\n",
       "    </tr>\n",
       "    <tr>\n",
       "      <th>3</th>\n",
       "      <td>20</td>\n",
       "      <td>RL</td>\n",
       "      <td>105.00000</td>\n",
       "      <td>11751</td>\n",
       "      <td>Pave</td>\n",
       "      <td>Grvl</td>\n",
       "      <td>IR1</td>\n",
       "      <td>Lvl</td>\n",
       "      <td>AllPub</td>\n",
       "      <td>Inside</td>\n",
       "      <td>...</td>\n",
       "      <td>0</td>\n",
       "      <td>0</td>\n",
       "      <td>MnPrv</td>\n",
       "      <td>Shed</td>\n",
       "      <td>0</td>\n",
       "      <td>1</td>\n",
       "      <td>2010</td>\n",
       "      <td>COD</td>\n",
       "      <td>Normal</td>\n",
       "      <td>190000</td>\n",
       "    </tr>\n",
       "    <tr>\n",
       "      <th>4</th>\n",
       "      <td>20</td>\n",
       "      <td>RL</td>\n",
       "      <td>70.98847</td>\n",
       "      <td>16635</td>\n",
       "      <td>Pave</td>\n",
       "      <td>Grvl</td>\n",
       "      <td>IR1</td>\n",
       "      <td>Lvl</td>\n",
       "      <td>AllPub</td>\n",
       "      <td>FR2</td>\n",
       "      <td>...</td>\n",
       "      <td>0</td>\n",
       "      <td>0</td>\n",
       "      <td>MnPrv</td>\n",
       "      <td>Shed</td>\n",
       "      <td>0</td>\n",
       "      <td>6</td>\n",
       "      <td>2009</td>\n",
       "      <td>WD</td>\n",
       "      <td>Normal</td>\n",
       "      <td>215000</td>\n",
       "    </tr>\n",
       "  </tbody>\n",
       "</table>\n",
       "<p>5 rows × 78 columns</p>\n",
       "</div>"
      ],
      "text/plain": [
       "   MSSubClass MSZoning  LotFrontage  LotArea Street Alley LotShape  \\\n",
       "0         120       RL     70.98847     4928   Pave  Grvl      IR1   \n",
       "1          20       RL     95.00000    15865   Pave  Grvl      IR1   \n",
       "2          60       RL     92.00000     9920   Pave  Grvl      IR1   \n",
       "3          20       RL    105.00000    11751   Pave  Grvl      IR1   \n",
       "4          20       RL     70.98847    16635   Pave  Grvl      IR1   \n",
       "\n",
       "  LandContour Utilities LotConfig  ... 3SsnPorch ScreenPorch  Fence  \\\n",
       "0         Lvl    AllPub    Inside  ...         0           0  MnPrv   \n",
       "1         Lvl    AllPub    Inside  ...         0         224  MnPrv   \n",
       "2         Lvl    AllPub   CulDSac  ...         0           0  MnPrv   \n",
       "3         Lvl    AllPub    Inside  ...         0           0  MnPrv   \n",
       "4         Lvl    AllPub       FR2  ...         0           0  MnPrv   \n",
       "\n",
       "  MiscFeature MiscVal MoSold  YrSold  SaleType  SaleCondition  SalePrice  \n",
       "0        Shed       0      2    2007        WD         Normal     128000  \n",
       "1        Shed       0     10    2007        WD         Normal     268000  \n",
       "2        Shed       0      6    2007        WD         Normal     269790  \n",
       "3        Shed       0      1    2010       COD         Normal     190000  \n",
       "4        Shed       0      6    2009        WD         Normal     215000  \n",
       "\n",
       "[5 rows x 78 columns]"
      ]
     },
     "execution_count": 26,
     "metadata": {},
     "output_type": "execute_result"
    }
   ],
   "source": [
    "train.head()"
   ]
  },
  {
   "cell_type": "code",
   "execution_count": 27,
   "metadata": {},
   "outputs": [
    {
     "data": {
      "text/html": [
       "<div>\n",
       "<style scoped>\n",
       "    .dataframe tbody tr th:only-of-type {\n",
       "        vertical-align: middle;\n",
       "    }\n",
       "\n",
       "    .dataframe tbody tr th {\n",
       "        vertical-align: top;\n",
       "    }\n",
       "\n",
       "    .dataframe thead th {\n",
       "        text-align: right;\n",
       "    }\n",
       "</style>\n",
       "<table border=\"1\" class=\"dataframe\">\n",
       "  <thead>\n",
       "    <tr style=\"text-align: right;\">\n",
       "      <th></th>\n",
       "      <th>MSSubClass</th>\n",
       "      <th>MSZoning</th>\n",
       "      <th>LotFrontage</th>\n",
       "      <th>LotArea</th>\n",
       "      <th>Street</th>\n",
       "      <th>Alley</th>\n",
       "      <th>LotShape</th>\n",
       "      <th>LandContour</th>\n",
       "      <th>Utilities</th>\n",
       "      <th>LotConfig</th>\n",
       "      <th>...</th>\n",
       "      <th>EnclosedPorch</th>\n",
       "      <th>3SsnPorch</th>\n",
       "      <th>ScreenPorch</th>\n",
       "      <th>Fence</th>\n",
       "      <th>MiscFeature</th>\n",
       "      <th>MiscVal</th>\n",
       "      <th>MoSold</th>\n",
       "      <th>YrSold</th>\n",
       "      <th>SaleType</th>\n",
       "      <th>SaleCondition</th>\n",
       "    </tr>\n",
       "  </thead>\n",
       "  <tbody>\n",
       "    <tr>\n",
       "      <th>0</th>\n",
       "      <td>20</td>\n",
       "      <td>RL</td>\n",
       "      <td>86.000000</td>\n",
       "      <td>14157</td>\n",
       "      <td>Pave</td>\n",
       "      <td>Grvl</td>\n",
       "      <td>IR1</td>\n",
       "      <td>HLS</td>\n",
       "      <td>AllPub</td>\n",
       "      <td>Corner</td>\n",
       "      <td>...</td>\n",
       "      <td>0</td>\n",
       "      <td>0</td>\n",
       "      <td>0</td>\n",
       "      <td>MnPrv</td>\n",
       "      <td>Shed</td>\n",
       "      <td>0</td>\n",
       "      <td>7</td>\n",
       "      <td>2007</td>\n",
       "      <td>WD</td>\n",
       "      <td>Normal</td>\n",
       "    </tr>\n",
       "    <tr>\n",
       "      <th>1</th>\n",
       "      <td>120</td>\n",
       "      <td>RL</td>\n",
       "      <td>66.425101</td>\n",
       "      <td>5814</td>\n",
       "      <td>Pave</td>\n",
       "      <td>Grvl</td>\n",
       "      <td>IR1</td>\n",
       "      <td>Lvl</td>\n",
       "      <td>AllPub</td>\n",
       "      <td>CulDSac</td>\n",
       "      <td>...</td>\n",
       "      <td>0</td>\n",
       "      <td>0</td>\n",
       "      <td>0</td>\n",
       "      <td>MnPrv</td>\n",
       "      <td>Shed</td>\n",
       "      <td>0</td>\n",
       "      <td>8</td>\n",
       "      <td>2009</td>\n",
       "      <td>COD</td>\n",
       "      <td>Abnorml</td>\n",
       "    </tr>\n",
       "    <tr>\n",
       "      <th>2</th>\n",
       "      <td>20</td>\n",
       "      <td>RL</td>\n",
       "      <td>66.425101</td>\n",
       "      <td>11838</td>\n",
       "      <td>Pave</td>\n",
       "      <td>Grvl</td>\n",
       "      <td>Reg</td>\n",
       "      <td>Lvl</td>\n",
       "      <td>AllPub</td>\n",
       "      <td>Inside</td>\n",
       "      <td>...</td>\n",
       "      <td>0</td>\n",
       "      <td>0</td>\n",
       "      <td>0</td>\n",
       "      <td>MnPrv</td>\n",
       "      <td>Shed</td>\n",
       "      <td>0</td>\n",
       "      <td>6</td>\n",
       "      <td>2009</td>\n",
       "      <td>WD</td>\n",
       "      <td>Normal</td>\n",
       "    </tr>\n",
       "    <tr>\n",
       "      <th>3</th>\n",
       "      <td>70</td>\n",
       "      <td>RL</td>\n",
       "      <td>75.000000</td>\n",
       "      <td>12000</td>\n",
       "      <td>Pave</td>\n",
       "      <td>Grvl</td>\n",
       "      <td>Reg</td>\n",
       "      <td>Bnk</td>\n",
       "      <td>AllPub</td>\n",
       "      <td>Inside</td>\n",
       "      <td>...</td>\n",
       "      <td>0</td>\n",
       "      <td>0</td>\n",
       "      <td>0</td>\n",
       "      <td>MnPrv</td>\n",
       "      <td>Shed</td>\n",
       "      <td>0</td>\n",
       "      <td>7</td>\n",
       "      <td>2009</td>\n",
       "      <td>WD</td>\n",
       "      <td>Normal</td>\n",
       "    </tr>\n",
       "    <tr>\n",
       "      <th>4</th>\n",
       "      <td>60</td>\n",
       "      <td>RL</td>\n",
       "      <td>86.000000</td>\n",
       "      <td>14598</td>\n",
       "      <td>Pave</td>\n",
       "      <td>Grvl</td>\n",
       "      <td>IR1</td>\n",
       "      <td>Lvl</td>\n",
       "      <td>AllPub</td>\n",
       "      <td>CulDSac</td>\n",
       "      <td>...</td>\n",
       "      <td>0</td>\n",
       "      <td>0</td>\n",
       "      <td>0</td>\n",
       "      <td>MnPrv</td>\n",
       "      <td>Shed</td>\n",
       "      <td>0</td>\n",
       "      <td>1</td>\n",
       "      <td>2008</td>\n",
       "      <td>WD</td>\n",
       "      <td>Normal</td>\n",
       "    </tr>\n",
       "  </tbody>\n",
       "</table>\n",
       "<p>5 rows × 77 columns</p>\n",
       "</div>"
      ],
      "text/plain": [
       "   MSSubClass MSZoning  LotFrontage  LotArea Street Alley LotShape  \\\n",
       "0          20       RL    86.000000    14157   Pave  Grvl      IR1   \n",
       "1         120       RL    66.425101     5814   Pave  Grvl      IR1   \n",
       "2          20       RL    66.425101    11838   Pave  Grvl      Reg   \n",
       "3          70       RL    75.000000    12000   Pave  Grvl      Reg   \n",
       "4          60       RL    86.000000    14598   Pave  Grvl      IR1   \n",
       "\n",
       "  LandContour Utilities LotConfig  ... EnclosedPorch 3SsnPorch ScreenPorch  \\\n",
       "0         HLS    AllPub    Corner  ...             0         0           0   \n",
       "1         Lvl    AllPub   CulDSac  ...             0         0           0   \n",
       "2         Lvl    AllPub    Inside  ...             0         0           0   \n",
       "3         Bnk    AllPub    Inside  ...             0         0           0   \n",
       "4         Lvl    AllPub   CulDSac  ...             0         0           0   \n",
       "\n",
       "   Fence MiscFeature MiscVal  MoSold  YrSold  SaleType  SaleCondition  \n",
       "0  MnPrv        Shed       0       7    2007        WD         Normal  \n",
       "1  MnPrv        Shed       0       8    2009       COD        Abnorml  \n",
       "2  MnPrv        Shed       0       6    2009        WD         Normal  \n",
       "3  MnPrv        Shed       0       7    2009        WD         Normal  \n",
       "4  MnPrv        Shed       0       1    2008        WD         Normal  \n",
       "\n",
       "[5 rows x 77 columns]"
      ]
     },
     "execution_count": 27,
     "metadata": {},
     "output_type": "execute_result"
    }
   ],
   "source": [
    "test.head()"
   ]
  },
  {
   "cell_type": "markdown",
   "metadata": {},
   "source": [
    "# Data Visualization "
   ]
  },
  {
   "cell_type": "markdown",
   "metadata": {},
   "source": [
    "# Univariate Analysis"
   ]
  },
  {
   "cell_type": "code",
   "execution_count": 28,
   "metadata": {},
   "outputs": [
    {
     "data": {
      "text/plain": [
       "Text(0.5, 1.0, 'MSSubClass')"
      ]
     },
     "execution_count": 28,
     "metadata": {},
     "output_type": "execute_result"
    },
    {
     "data": {
      "image/png": "[encoded data removed]",
      "text/plain": [
       "<Figure size 576x360 with 1 Axes>"
      ]
     },
     "metadata": {
      "needs_background": "light"
     },
     "output_type": "display_data"
    }
   ],
   "source": [
    "fig_size = (8,5)\n",
    "fig, ax = plt.subplots(figsize = fig_size)\n",
    "sns.countplot(data=train, x=\"MSSubClass\")\n",
    "plt.xticks(rotation=90)\n",
    "plt.title(\"MSSubClass\", fontsize = 20)"
   ]
  },
  {
   "cell_type": "code",
   "execution_count": 29,
   "metadata": {},
   "outputs": [
    {
     "data": {
      "text/plain": [
       "Text(0.5, 1.0, 'MSZoning')"
      ]
     },
     "execution_count": 29,
     "metadata": {},
     "output_type": "execute_result"
    },
    {
     "data": {
      "image/png": "[encoded data removed]",
      "text/plain": [
       "<Figure size 576x360 with 1 Axes>"
      ]
     },
     "metadata": {
      "needs_background": "light"
     },
     "output_type": "display_data"
    }
   ],
   "source": [
    "fig_size = (8,5)\n",
    "fig, ax = plt.subplots(figsize = fig_size)\n",
    "sns.countplot(data=train, x=\"MSZoning\")\n",
    "plt.xticks(rotation=90)\n",
    "plt.title(\"MSZoning\", fontsize = 20)"
   ]
  },
  {
   "cell_type": "code",
   "execution_count": 30,
   "metadata": {},
   "outputs": [
    {
     "data": {
      "text/plain": [
       "Text(0.5, 1.0, 'Street')"
      ]
     },
     "execution_count": 30,
     "metadata": {},
     "output_type": "execute_result"
    },
    {
     "data": {
      "image/png": "[encoded data removed]",
      "text/plain": [
       "<Figure size 576x360 with 1 Axes>"
      ]
     },
     "metadata": {
      "needs_background": "light"
     },
     "output_type": "display_data"
    }
   ],
   "source": [
    "fig_size = (8,5)\n",
    "fig, ax = plt.subplots(figsize = fig_size)\n",
    "sns.countplot(data=train, x=\"Street\")\n",
    "plt.xticks(rotation=90)\n",
    "plt.title(\"Street\", fontsize = 20)"
   ]
  },
  {
   "cell_type": "code",
   "execution_count": 31,
   "metadata": {},
   "outputs": [
    {
     "data": {
      "text/plain": [
       "Text(0.5, 1.0, 'Alley')"
      ]
     },
     "execution_count": 31,
     "metadata": {},
     "output_type": "execute_result"
    },
    {
     "data": {
      "image/png": "[encoded data removed]",
      "text/plain": [
       "<Figure size 576x360 with 1 Axes>"
      ]
     },
     "metadata": {
      "needs_background": "light"
     },
     "output_type": "display_data"
    }
   ],
   "source": [
    "fig_size = (8,5)\n",
    "fig, ax = plt.subplots(figsize = fig_size)\n",
    "sns.countplot(data=train, x=\"Alley\")\n",
    "plt.xticks(rotation=90)\n",
    "plt.title(\"Alley\", fontsize = 20)"
   ]
  },
  {
   "cell_type": "code",
   "execution_count": 32,
   "metadata": {},
   "outputs": [
    {
     "data": {
      "text/plain": [
       "Text(0.5, 1.0, 'LotShape')"
      ]
     },
     "execution_count": 32,
     "metadata": {},
     "output_type": "execute_result"
    },
    {
     "data": {
      "image/png": "[encoded data removed]",
      "text/plain": [
       "<Figure size 576x360 with 1 Axes>"
      ]
     },
     "metadata": {
      "needs_background": "light"
     },
     "output_type": "display_data"
    }
   ],
   "source": [
    "fig_size = (8,5)\n",
    "fig, ax = plt.subplots(figsize = fig_size)\n",
    "sns.countplot(data=train, x=\"LotShape\")\n",
    "plt.xticks(rotation=90)\n",
    "plt.title(\"LotShape\", fontsize = 20)"
   ]
  },
  {
   "cell_type": "code",
   "execution_count": 33,
   "metadata": {},
   "outputs": [
    {
     "data": {
      "text/plain": [
       "Text(0.5, 1.0, 'LandContour')"
      ]
     },
     "execution_count": 33,
     "metadata": {},
     "output_type": "execute_result"
    },
    {
     "data": {
      "image/png": "[encoded data removed]",
      "text/plain": [
       "<Figure size 576x360 with 1 Axes>"
      ]
     },
     "metadata": {
      "needs_background": "light"
     },
     "output_type": "display_data"
    }
   ],
   "source": [
    "fig_size = (8,5)\n",
    "fig, ax = plt.subplots(figsize = fig_size)\n",
    "sns.countplot(data=train, x=\"LandContour\")\n",
    "plt.xticks(rotation=90)\n",
    "plt.title(\"LandContour\", fontsize = 20)"
   ]
  },
  {
   "cell_type": "code",
   "execution_count": 34,
   "metadata": {},
   "outputs": [
    {
     "data": {
      "text/plain": [
       "Text(0.5, 1.0, 'Utilities')"
      ]
     },
     "execution_count": 34,
     "metadata": {},
     "output_type": "execute_result"
    },
    {
     "data": {
      "image/png": "[encoded data removed]",
      "text/plain": [
       "<Figure size 576x360 with 1 Axes>"
      ]
     },
     "metadata": {
      "needs_background": "light"
     },
     "output_type": "display_data"
    }
   ],
   "source": [
    "fig_size = (8,5)\n",
    "fig, ax = plt.subplots(figsize = fig_size)\n",
    "sns.countplot(data=train, x=\"Utilities\")\n",
    "plt.xticks(rotation=90)\n",
    "plt.title(\"Utilities\", fontsize = 20)"
   ]
  },
  {
   "cell_type": "code",
   "execution_count": 35,
   "metadata": {},
   "outputs": [
    {
     "data": {
      "text/plain": [
       "Text(0.5, 1.0, 'LotConfig')"
      ]
     },
     "execution_count": 35,
     "metadata": {},
     "output_type": "execute_result"
    },
    {
     "data": {
      "image/png": "[encoded data removed]",
      "text/plain": [
       "<Figure size 576x360 with 1 Axes>"
      ]
     },
     "metadata": {
      "needs_background": "light"
     },
     "output_type": "display_data"
    }
   ],
   "source": [
    "fig_size = (8,5)\n",
    "fig, ax = plt.subplots(figsize = fig_size)\n",
    "sns.countplot(data=train, x=\"LotConfig\")\n",
    "plt.xticks(rotation=90)\n",
    "plt.title(\"LotConfig\", fontsize = 20)"
   ]
  },
  {
   "cell_type": "code",
   "execution_count": 36,
   "metadata": {},
   "outputs": [
    {
     "data": {
      "text/plain": [
       "Text(0.5, 1.0, 'LandSlope')"
      ]
     },
     "execution_count": 36,
     "metadata": {},
     "output_type": "execute_result"
    },
    {
     "data": {
      "image/png": "[encoded data removed]",
      "text/plain": [
       "<Figure size 576x360 with 1 Axes>"
      ]
     },
     "metadata": {
      "needs_background": "light"
     },
     "output_type": "display_data"
    }
   ],
   "source": [
    "fig_size = (8,5)\n",
    "fig, ax = plt.subplots(figsize = fig_size)\n",
    "sns.countplot(data=train, x=\"LandSlope\")\n",
    "plt.xticks(rotation=90)\n",
    "plt.title(\"LandSlope\", fontsize = 20)"
   ]
  },
  {
   "cell_type": "code",
   "execution_count": 37,
   "metadata": {},
   "outputs": [
    {
     "data": {
      "text/plain": [
       "Text(0.5, 1.0, 'Neighborhood')"
      ]
     },
     "execution_count": 37,
     "metadata": {},
     "output_type": "execute_result"
    },
    {
     "data": {
      "image/png": "[encoded data removed]",
      "text/plain": [
       "<Figure size 576x360 with 1 Axes>"
      ]
     },
     "metadata": {
      "needs_background": "light"
     },
     "output_type": "display_data"
    }
   ],
   "source": [
    "fig_size = (8,5)\n",
    "fig, ax = plt.subplots(figsize = fig_size)\n",
    "sns.countplot(data=train, x=\"Neighborhood\")\n",
    "plt.xticks(rotation=90)\n",
    "plt.title(\"Neighborhood\", fontsize = 20)"
   ]
  },
  {
   "cell_type": "code",
   "execution_count": 38,
   "metadata": {},
   "outputs": [
    {
     "data": {
      "text/plain": [
       "Text(0.5, 1.0, 'BldgType')"
      ]
     },
     "execution_count": 38,
     "metadata": {},
     "output_type": "execute_result"
    },
    {
     "data": {
      "image/png": "[encoded data removed]",
      "text/plain": [
       "<Figure size 576x360 with 1 Axes>"
      ]
     },
     "metadata": {
      "needs_background": "light"
     },
     "output_type": "display_data"
    }
   ],
   "source": [
    "fig_size = (8,5)\n",
    "fig, ax = plt.subplots(figsize = fig_size)\n",
    "sns.countplot(data=train, x=\"BldgType\")\n",
    "plt.xticks(rotation=90)\n",
    "plt.title(\"BldgType\", fontsize = 20)"
   ]
  },
  {
   "cell_type": "code",
   "execution_count": 39,
   "metadata": {},
   "outputs": [
    {
     "data": {
      "text/plain": [
       "Text(0.5, 1.0, 'HouseStyle')"
      ]
     },
     "execution_count": 39,
     "metadata": {},
     "output_type": "execute_result"
    },
    {
     "data": {
      "image/png": "[encoded data removed]",
      "text/plain": [
       "<Figure size 576x360 with 1 Axes>"
      ]
     },
     "metadata": {
      "needs_background": "light"
     },
     "output_type": "display_data"
    }
   ],
   "source": [
    "fig_size = (8,5)\n",
    "fig, ax = plt.subplots(figsize = fig_size)\n",
    "sns.countplot(data=train, x=\"HouseStyle\")\n",
    "plt.xticks(rotation=90)\n",
    "plt.title(\"HouseStyle\", fontsize = 20)"
   ]
  },
  {
   "cell_type": "code",
   "execution_count": 40,
   "metadata": {},
   "outputs": [
    {
     "data": {
      "text/plain": [
       "Text(0.5, 1.0, 'YearRemodAdd')"
      ]
     },
     "execution_count": 40,
     "metadata": {},
     "output_type": "execute_result"
    },
    {
     "data": {
      "image/png": "[encoded data removed]",
      "text/plain": [
       "<Figure size 720x576 with 1 Axes>"
      ]
     },
     "metadata": {
      "needs_background": "light"
     },
     "output_type": "display_data"
    }
   ],
   "source": [
    "fig_size = (10,8)\n",
    "fig, ax = plt.subplots(figsize = fig_size)\n",
    "sns.countplot(data=train, x=\"YearRemodAdd\")\n",
    "plt.xticks(rotation=90)\n",
    "plt.title(\"YearRemodAdd\", fontsize = 30)"
   ]
  },
  {
   "cell_type": "code",
   "execution_count": 41,
   "metadata": {},
   "outputs": [
    {
     "data": {
      "text/plain": [
       "Text(0.5, 1.0, 'RoofStyle')"
      ]
     },
     "execution_count": 41,
     "metadata": {},
     "output_type": "execute_result"
    },
    {
     "data": {
      "image/png": "[encoded data removed]",
      "text/plain": [
       "<Figure size 576x360 with 1 Axes>"
      ]
     },
     "metadata": {
      "needs_background": "light"
     },
     "output_type": "display_data"
    }
   ],
   "source": [
    "fig_size = (8,5)\n",
    "fig, ax = plt.subplots(figsize = fig_size)\n",
    "sns.countplot(data=train, x=\"RoofStyle\")\n",
    "plt.xticks(rotation=90)\n",
    "plt.title(\"RoofStyle\", fontsize = 20)"
   ]
  },
  {
   "cell_type": "code",
   "execution_count": 42,
   "metadata": {},
   "outputs": [
    {
     "data": {
      "text/plain": [
       "Text(0.5, 1.0, 'RoofMatl')"
      ]
     },
     "execution_count": 42,
     "metadata": {},
     "output_type": "execute_result"
    },
    {
     "data": {
      "image/png": "[encoded data removed]",
      "text/plain": [
       "<Figure size 576x360 with 1 Axes>"
      ]
     },
     "metadata": {
      "needs_background": "light"
     },
     "output_type": "display_data"
    }
   ],
   "source": [
    "fig_size = (8,5)\n",
    "fig, ax = plt.subplots(figsize = fig_size)\n",
    "sns.countplot(data=train, x=\"RoofMatl\")\n",
    "plt.xticks(rotation=90)\n",
    "plt.title(\"RoofMatl\", fontsize = 20)"
   ]
  },
  {
   "cell_type": "code",
   "execution_count": 43,
   "metadata": {},
   "outputs": [
    {
     "data": {
      "text/plain": [
       "Text(0.5, 1.0, 'Exterior1st')"
      ]
     },
     "execution_count": 43,
     "metadata": {},
     "output_type": "execute_result"
    },
    {
     "data": {
      "image/png": "[encoded data removed]",
      "text/plain": [
       "<Figure size 576x360 with 1 Axes>"
      ]
     },
     "metadata": {
      "needs_background": "light"
     },
     "output_type": "display_data"
    }
   ],
   "source": [
    "fig_size = (8,5)\n",
    "fig, ax = plt.subplots(figsize = fig_size)\n",
    "sns.countplot(data=train, x=\"Exterior1st\")\n",
    "plt.xticks(rotation=90)\n",
    "plt.title(\"Exterior1st\", fontsize = 20)"
   ]
  },
  {
   "cell_type": "code",
   "execution_count": 44,
   "metadata": {},
   "outputs": [
    {
     "data": {
      "text/plain": [
       "Text(0.5, 1.0, 'ExterQual')"
      ]
     },
     "execution_count": 44,
     "metadata": {},
     "output_type": "execute_result"
    },
    {
     "data": {
      "image/png": "[encoded data removed]",
      "text/plain": [
       "<Figure size 576x360 with 1 Axes>"
      ]
     },
     "metadata": {
      "needs_background": "light"
     },
     "output_type": "display_data"
    }
   ],
   "source": [
    "fig_size = (8,5)\n",
    "fig, ax = plt.subplots(figsize = fig_size)\n",
    "sns.countplot(data=train, x=\"ExterQual\")\n",
    "plt.xticks(rotation=90)\n",
    "plt.title(\"ExterQual\", fontsize = 20)"
   ]
  },
  {
   "cell_type": "code",
   "execution_count": 45,
   "metadata": {},
   "outputs": [
    {
     "data": {
      "text/plain": [
       "Text(0.5, 1.0, 'Foundation')"
      ]
     },
     "execution_count": 45,
     "metadata": {},
     "output_type": "execute_result"
    },
    {
     "data": {
      "image/png": "[encoded data removed]",
      "text/plain": [
       "<Figure size 576x360 with 1 Axes>"
      ]
     },
     "metadata": {
      "needs_background": "light"
     },
     "output_type": "display_data"
    }
   ],
   "source": [
    "fig_size = (8,5)\n",
    "fig, ax = plt.subplots(figsize = fig_size)\n",
    "sns.countplot(data=train, x=\"Foundation\")\n",
    "plt.xticks(rotation=90)\n",
    "plt.title(\"Foundation\", fontsize = 20)"
   ]
  },
  {
   "cell_type": "code",
   "execution_count": 46,
   "metadata": {},
   "outputs": [
    {
     "data": {
      "text/plain": [
       "Text(0.5, 1.0, 'BsmtQual')"
      ]
     },
     "execution_count": 46,
     "metadata": {},
     "output_type": "execute_result"
    },
    {
     "data": {
      "image/png": "[encoded data removed]",
      "text/plain": [
       "<Figure size 576x360 with 1 Axes>"
      ]
     },
     "metadata": {
      "needs_background": "light"
     },
     "output_type": "display_data"
    }
   ],
   "source": [
    "fig_size = (8,5)\n",
    "fig, ax = plt.subplots(figsize = fig_size)\n",
    "sns.countplot(data=train, x=\"BsmtQual\")\n",
    "plt.xticks(rotation=90)\n",
    "plt.title(\"BsmtQual\", fontsize = 20)"
   ]
  },
  {
   "cell_type": "code",
   "execution_count": 47,
   "metadata": {},
   "outputs": [
    {
     "data": {
      "text/plain": [
       "Text(0.5, 1.0, 'BsmtExposure')"
      ]
     },
     "execution_count": 47,
     "metadata": {},
     "output_type": "execute_result"
    },
    {
     "data": {
      "image/png": "[encoded data removed]",
      "text/plain": [
       "<Figure size 576x360 with 1 Axes>"
      ]
     },
     "metadata": {
      "needs_background": "light"
     },
     "output_type": "display_data"
    }
   ],
   "source": [
    "fig_size = (8,5)\n",
    "fig, ax = plt.subplots(figsize = fig_size)\n",
    "sns.countplot(data=train, x=\"BsmtExposure\")\n",
    "plt.xticks(rotation=90)\n",
    "plt.title(\"BsmtExposure\", fontsize = 20)"
   ]
  },
  {
   "cell_type": "code",
   "execution_count": 48,
   "metadata": {},
   "outputs": [
    {
     "data": {
      "text/plain": [
       "Text(0.5, 1.0, 'BsmtFinType1')"
      ]
     },
     "execution_count": 48,
     "metadata": {},
     "output_type": "execute_result"
    },
    {
     "data": {
      "image/png": "[encoded data removed]",
      "text/plain": [
       "<Figure size 576x360 with 1 Axes>"
      ]
     },
     "metadata": {
      "needs_background": "light"
     },
     "output_type": "display_data"
    }
   ],
   "source": [
    "fig_size = (8,5)\n",
    "fig, ax = plt.subplots(figsize = fig_size)\n",
    "sns.countplot(data=train, x=\"BsmtFinType1\")\n",
    "plt.xticks(rotation=90)\n",
    "plt.title(\"BsmtFinType1\", fontsize = 20)"
   ]
  },
  {
   "cell_type": "code",
   "execution_count": 49,
   "metadata": {},
   "outputs": [
    {
     "data": {
      "text/plain": [
       "Text(0.5, 1.0, 'BsmtFinType2')"
      ]
     },
     "execution_count": 49,
     "metadata": {},
     "output_type": "execute_result"
    },
    {
     "data": {
      "image/png": "[encoded data removed]",
      "text/plain": [
       "<Figure size 576x360 with 1 Axes>"
      ]
     },
     "metadata": {
      "needs_background": "light"
     },
     "output_type": "display_data"
    }
   ],
   "source": [
    "fig_size = (8,5)\n",
    "fig, ax = plt.subplots(figsize = fig_size)\n",
    "sns.countplot(data=train, x=\"BsmtFinType2\")\n",
    "plt.xticks(rotation=90)\n",
    "plt.title(\"BsmtFinType2\", fontsize = 20)"
   ]
  },
  {
   "cell_type": "code",
   "execution_count": 50,
   "metadata": {},
   "outputs": [
    {
     "data": {
      "text/plain": [
       "Text(0.5, 1.0, 'Heating')"
      ]
     },
     "execution_count": 50,
     "metadata": {},
     "output_type": "execute_result"
    },
    {
     "data": {
      "image/png": "[encoded data removed]",
      "text/plain": [
       "<Figure size 576x360 with 1 Axes>"
      ]
     },
     "metadata": {
      "needs_background": "light"
     },
     "output_type": "display_data"
    }
   ],
   "source": [
    "fig_size = (8,5)\n",
    "fig, ax = plt.subplots(figsize = fig_size)\n",
    "sns.countplot(data=train, x=\"Heating\")\n",
    "plt.xticks(rotation=90)\n",
    "plt.title(\"Heating\", fontsize = 20)"
   ]
  },
  {
   "cell_type": "code",
   "execution_count": 51,
   "metadata": {},
   "outputs": [
    {
     "data": {
      "text/plain": [
       "Text(0.5, 1.0, 'CentralAir')"
      ]
     },
     "execution_count": 51,
     "metadata": {},
     "output_type": "execute_result"
    },
    {
     "data": {
      "image/png": "[encoded data removed]",
      "text/plain": [
       "<Figure size 576x360 with 1 Axes>"
      ]
     },
     "metadata": {
      "needs_background": "light"
     },
     "output_type": "display_data"
    }
   ],
   "source": [
    "fig_size = (8,5)\n",
    "fig, ax = plt.subplots(figsize = fig_size)\n",
    "sns.countplot(data=train, x=\"CentralAir\")\n",
    "plt.xticks(rotation=90)\n",
    "plt.title(\"CentralAir\", fontsize = 20)"
   ]
  },
  {
   "cell_type": "code",
   "execution_count": 52,
   "metadata": {},
   "outputs": [
    {
     "data": {
      "text/plain": [
       "Text(0.5, 1.0, 'Electrical')"
      ]
     },
     "execution_count": 52,
     "metadata": {},
     "output_type": "execute_result"
    },
    {
     "data": {
      "image/png": "[encoded data removed]",
      "text/plain": [
       "<Figure size 576x360 with 1 Axes>"
      ]
     },
     "metadata": {
      "needs_background": "light"
     },
     "output_type": "display_data"
    }
   ],
   "source": [
    "fig_size = (8,5)\n",
    "fig, ax = plt.subplots(figsize = fig_size)\n",
    "sns.countplot(data=train, x=\"Electrical\")\n",
    "plt.xticks(rotation=90)\n",
    "plt.title(\"Electrical\", fontsize = 20)"
   ]
  },
  {
   "cell_type": "code",
   "execution_count": 53,
   "metadata": {},
   "outputs": [
    {
     "data": {
      "text/plain": [
       "Text(0.5, 1.0, 'FullBath')"
      ]
     },
     "execution_count": 53,
     "metadata": {},
     "output_type": "execute_result"
    },
    {
     "data": {
      "image/png": "[encoded data removed]",
      "text/plain": [
       "<Figure size 576x360 with 1 Axes>"
      ]
     },
     "metadata": {
      "needs_background": "light"
     },
     "output_type": "display_data"
    }
   ],
   "source": [
    "fig_size = (8,5)\n",
    "fig, ax = plt.subplots(figsize = fig_size)\n",
    "sns.countplot(data=train, x=\"FullBath\")\n",
    "plt.xticks(rotation=90)\n",
    "plt.title(\"FullBath\", fontsize = 20)"
   ]
  },
  {
   "cell_type": "code",
   "execution_count": 54,
   "metadata": {},
   "outputs": [
    {
     "data": {
      "text/plain": [
       "Text(0.5, 1.0, 'BedroomAbvGr')"
      ]
     },
     "execution_count": 54,
     "metadata": {},
     "output_type": "execute_result"
    },
    {
     "data": {
      "image/png": "[encoded data removed]",
      "text/plain": [
       "<Figure size 576x360 with 1 Axes>"
      ]
     },
     "metadata": {
      "needs_background": "light"
     },
     "output_type": "display_data"
    }
   ],
   "source": [
    "fig_size = (8,5)\n",
    "fig, ax = plt.subplots(figsize = fig_size)\n",
    "sns.countplot(data=train, x=\"BedroomAbvGr\")\n",
    "plt.xticks(rotation=90)\n",
    "plt.title(\"BedroomAbvGr\", fontsize = 20)"
   ]
  },
  {
   "cell_type": "code",
   "execution_count": 55,
   "metadata": {},
   "outputs": [
    {
     "data": {
      "text/plain": [
       "Text(0.5, 1.0, 'KitchenAbvGr')"
      ]
     },
     "execution_count": 55,
     "metadata": {},
     "output_type": "execute_result"
    },
    {
     "data": {
      "image/png": "[encoded data removed]",
      "text/plain": [
       "<Figure size 576x360 with 1 Axes>"
      ]
     },
     "metadata": {
      "needs_background": "light"
     },
     "output_type": "display_data"
    }
   ],
   "source": [
    "fig_size = (8,5)\n",
    "fig, ax = plt.subplots(figsize = fig_size)\n",
    "sns.countplot(data=train, x=\"KitchenAbvGr\")\n",
    "plt.xticks(rotation=90)\n",
    "plt.title(\"KitchenAbvGr\", fontsize = 20)"
   ]
  },
  {
   "cell_type": "code",
   "execution_count": 56,
   "metadata": {},
   "outputs": [
    {
     "data": {
      "text/plain": [
       "Text(0.5, 1.0, 'Functional')"
      ]
     },
     "execution_count": 56,
     "metadata": {},
     "output_type": "execute_result"
    },
    {
     "data": {
      "image/png": "[encoded data removed]",
      "text/plain": [
       "<Figure size 576x360 with 1 Axes>"
      ]
     },
     "metadata": {
      "needs_background": "light"
     },
     "output_type": "display_data"
    }
   ],
   "source": [
    "fig_size = (8,5)\n",
    "fig, ax = plt.subplots(figsize = fig_size)\n",
    "sns.countplot(data=train, x=\"Functional\")\n",
    "plt.xticks(rotation=90)\n",
    "plt.title(\"Functional\", fontsize = 20)"
   ]
  },
  {
   "cell_type": "code",
   "execution_count": 57,
   "metadata": {},
   "outputs": [
    {
     "data": {
      "text/plain": [
       "Text(0.5, 1.0, 'Fireplaces')"
      ]
     },
     "execution_count": 57,
     "metadata": {},
     "output_type": "execute_result"
    },
    {
     "data": {
      "image/png": "[encoded data removed]",
      "text/plain": [
       "<Figure size 576x360 with 1 Axes>"
      ]
     },
     "metadata": {
      "needs_background": "light"
     },
     "output_type": "display_data"
    }
   ],
   "source": [
    "fig_size = (8,5)\n",
    "fig, ax = plt.subplots(figsize = fig_size)\n",
    "sns.countplot(data=train, x=\"Fireplaces\")\n",
    "plt.xticks(rotation=90)\n",
    "plt.title(\"Fireplaces\", fontsize = 20)"
   ]
  },
  {
   "cell_type": "code",
   "execution_count": 58,
   "metadata": {},
   "outputs": [
    {
     "data": {
      "text/plain": [
       "Text(0.5, 1.0, 'GarageType')"
      ]
     },
     "execution_count": 58,
     "metadata": {},
     "output_type": "execute_result"
    },
    {
     "data": {
      "image/png": "[encoded data removed]",
      "text/plain": [
       "<Figure size 576x360 with 1 Axes>"
      ]
     },
     "metadata": {
      "needs_background": "light"
     },
     "output_type": "display_data"
    }
   ],
   "source": [
    "fig_size = (8,5)\n",
    "fig, ax = plt.subplots(figsize = fig_size)\n",
    "sns.countplot(data=train, x=\"GarageType\")\n",
    "plt.xticks(rotation=90)\n",
    "plt.title(\"GarageType\", fontsize = 20)"
   ]
  },
  {
   "cell_type": "code",
   "execution_count": 59,
   "metadata": {},
   "outputs": [
    {
     "data": {
      "text/plain": [
       "Text(0.5, 1.0, 'PavedDrive')"
      ]
     },
     "execution_count": 59,
     "metadata": {},
     "output_type": "execute_result"
    },
    {
     "data": {
      "image/png": "[encoded data removed]",
      "text/plain": [
       "<Figure size 576x360 with 1 Axes>"
      ]
     },
     "metadata": {
      "needs_background": "light"
     },
     "output_type": "display_data"
    }
   ],
   "source": [
    "fig_size = (8,5)\n",
    "fig, ax = plt.subplots(figsize = fig_size)\n",
    "sns.countplot(data=train, x=\"PavedDrive\")\n",
    "plt.xticks(rotation=90)\n",
    "plt.title(\"PavedDrive\", fontsize = 20)"
   ]
  },
  {
   "cell_type": "code",
   "execution_count": 60,
   "metadata": {},
   "outputs": [
    {
     "data": {
      "text/plain": [
       "Text(0.5, 1.0, 'Fence')"
      ]
     },
     "execution_count": 60,
     "metadata": {},
     "output_type": "execute_result"
    },
    {
     "data": {
      "image/png": "[encoded data removed]",
      "text/plain": [
       "<Figure size 576x360 with 1 Axes>"
      ]
     },
     "metadata": {
      "needs_background": "light"
     },
     "output_type": "display_data"
    }
   ],
   "source": [
    "fig_size = (8,5)\n",
    "fig, ax = plt.subplots(figsize = fig_size)\n",
    "sns.countplot(data=train, x=\"Fence\")\n",
    "plt.xticks(rotation=90)\n",
    "plt.title(\"Fence\", fontsize = 20)"
   ]
  },
  {
   "cell_type": "code",
   "execution_count": 61,
   "metadata": {},
   "outputs": [
    {
     "data": {
      "text/plain": [
       "Text(0.5, 1.0, 'MiscFeature')"
      ]
     },
     "execution_count": 61,
     "metadata": {},
     "output_type": "execute_result"
    },
    {
     "data": {
      "image/png": "[encoded data removed]",
      "text/plain": [
       "<Figure size 576x360 with 1 Axes>"
      ]
     },
     "metadata": {
      "needs_background": "light"
     },
     "output_type": "display_data"
    }
   ],
   "source": [
    "fig_size = (8,5)\n",
    "fig, ax = plt.subplots(figsize = fig_size)\n",
    "sns.countplot(data=train, x=\"MiscFeature\")\n",
    "plt.xticks(rotation=90)\n",
    "plt.title(\"MiscFeature\", fontsize = 20)"
   ]
  },
  {
   "cell_type": "code",
   "execution_count": 62,
   "metadata": {},
   "outputs": [
    {
     "data": {
      "text/plain": [
       "Text(0.5, 1.0, 'KitchenAbvGr')"
      ]
     },
     "execution_count": 62,
     "metadata": {},
     "output_type": "execute_result"
    },
    {
     "data": {
      "image/png": "[encoded data removed]",
      "text/plain": [
       "<Figure size 576x360 with 1 Axes>"
      ]
     },
     "metadata": {
      "needs_background": "light"
     },
     "output_type": "display_data"
    }
   ],
   "source": [
    "fig_size = (8,5)\n",
    "fig, ax = plt.subplots(figsize = fig_size)\n",
    "sns.countplot(data=train, x=\"KitchenAbvGr\")\n",
    "plt.xticks(rotation=90)\n",
    "plt.title(\"KitchenAbvGr\", fontsize = 20)"
   ]
  },
  {
   "cell_type": "code",
   "execution_count": 63,
   "metadata": {},
   "outputs": [
    {
     "data": {
      "image/png": "[encoded data removed]",
      "text/plain": [
       "<Figure size 720x432 with 1 Axes>"
      ]
     },
     "metadata": {
      "needs_background": "light"
     },
     "output_type": "display_data"
    }
   ],
   "source": [
    "plt.figure(figsize=(10,6))\n",
    "sns.barplot(x='SaleCondition',y='SalePrice',data=train,palette='magma')\n",
    "plt.title(\"SaleCondition Vs SalePrice\")\n",
    "plt.show()"
   ]
  },
  {
   "cell_type": "code",
   "execution_count": 64,
   "metadata": {},
   "outputs": [
    {
     "data": {
      "image/png": "[encoded data removed]",
      "text/plain": [
       "<Figure size 720x432 with 1 Axes>"
      ]
     },
     "metadata": {
      "needs_background": "light"
     },
     "output_type": "display_data"
    }
   ],
   "source": [
    "plt.figure(figsize=(10,6))\n",
    "sns.barplot(x='SaleType',y='SalePrice',data=train,palette='magma')\n",
    "plt.title(\"SaleType Vs SalePrice\")\n",
    "plt.show()"
   ]
  },
  {
   "cell_type": "code",
   "execution_count": 65,
   "metadata": {},
   "outputs": [
    {
     "data": {
      "text/html": [
       "<div>\n",
       "<style scoped>\n",
       "    .dataframe tbody tr th:only-of-type {\n",
       "        vertical-align: middle;\n",
       "    }\n",
       "\n",
       "    .dataframe tbody tr th {\n",
       "        vertical-align: top;\n",
       "    }\n",
       "\n",
       "    .dataframe thead th {\n",
       "        text-align: right;\n",
       "    }\n",
       "</style>\n",
       "<table border=\"1\" class=\"dataframe\">\n",
       "  <thead>\n",
       "    <tr style=\"text-align: right;\">\n",
       "      <th></th>\n",
       "      <th>MSSubClass</th>\n",
       "      <th>MSZoning</th>\n",
       "      <th>LotFrontage</th>\n",
       "      <th>LotArea</th>\n",
       "      <th>Street</th>\n",
       "      <th>Alley</th>\n",
       "      <th>LotShape</th>\n",
       "      <th>LandContour</th>\n",
       "      <th>Utilities</th>\n",
       "      <th>LotConfig</th>\n",
       "      <th>...</th>\n",
       "      <th>3SsnPorch</th>\n",
       "      <th>ScreenPorch</th>\n",
       "      <th>Fence</th>\n",
       "      <th>MiscFeature</th>\n",
       "      <th>MiscVal</th>\n",
       "      <th>MoSold</th>\n",
       "      <th>YrSold</th>\n",
       "      <th>SaleType</th>\n",
       "      <th>SaleCondition</th>\n",
       "      <th>SalePrice</th>\n",
       "    </tr>\n",
       "  </thead>\n",
       "  <tbody>\n",
       "    <tr>\n",
       "      <th>0</th>\n",
       "      <td>120</td>\n",
       "      <td>RL</td>\n",
       "      <td>70.98847</td>\n",
       "      <td>4928</td>\n",
       "      <td>Pave</td>\n",
       "      <td>Grvl</td>\n",
       "      <td>IR1</td>\n",
       "      <td>Lvl</td>\n",
       "      <td>AllPub</td>\n",
       "      <td>Inside</td>\n",
       "      <td>...</td>\n",
       "      <td>0</td>\n",
       "      <td>0</td>\n",
       "      <td>MnPrv</td>\n",
       "      <td>Shed</td>\n",
       "      <td>0</td>\n",
       "      <td>2</td>\n",
       "      <td>2007</td>\n",
       "      <td>WD</td>\n",
       "      <td>Normal</td>\n",
       "      <td>128000</td>\n",
       "    </tr>\n",
       "    <tr>\n",
       "      <th>1</th>\n",
       "      <td>20</td>\n",
       "      <td>RL</td>\n",
       "      <td>95.00000</td>\n",
       "      <td>15865</td>\n",
       "      <td>Pave</td>\n",
       "      <td>Grvl</td>\n",
       "      <td>IR1</td>\n",
       "      <td>Lvl</td>\n",
       "      <td>AllPub</td>\n",
       "      <td>Inside</td>\n",
       "      <td>...</td>\n",
       "      <td>0</td>\n",
       "      <td>224</td>\n",
       "      <td>MnPrv</td>\n",
       "      <td>Shed</td>\n",
       "      <td>0</td>\n",
       "      <td>10</td>\n",
       "      <td>2007</td>\n",
       "      <td>WD</td>\n",
       "      <td>Normal</td>\n",
       "      <td>268000</td>\n",
       "    </tr>\n",
       "    <tr>\n",
       "      <th>2</th>\n",
       "      <td>60</td>\n",
       "      <td>RL</td>\n",
       "      <td>92.00000</td>\n",
       "      <td>9920</td>\n",
       "      <td>Pave</td>\n",
       "      <td>Grvl</td>\n",
       "      <td>IR1</td>\n",
       "      <td>Lvl</td>\n",
       "      <td>AllPub</td>\n",
       "      <td>CulDSac</td>\n",
       "      <td>...</td>\n",
       "      <td>0</td>\n",
       "      <td>0</td>\n",
       "      <td>MnPrv</td>\n",
       "      <td>Shed</td>\n",
       "      <td>0</td>\n",
       "      <td>6</td>\n",
       "      <td>2007</td>\n",
       "      <td>WD</td>\n",
       "      <td>Normal</td>\n",
       "      <td>269790</td>\n",
       "    </tr>\n",
       "    <tr>\n",
       "      <th>3</th>\n",
       "      <td>20</td>\n",
       "      <td>RL</td>\n",
       "      <td>105.00000</td>\n",
       "      <td>11751</td>\n",
       "      <td>Pave</td>\n",
       "      <td>Grvl</td>\n",
       "      <td>IR1</td>\n",
       "      <td>Lvl</td>\n",
       "      <td>AllPub</td>\n",
       "      <td>Inside</td>\n",
       "      <td>...</td>\n",
       "      <td>0</td>\n",
       "      <td>0</td>\n",
       "      <td>MnPrv</td>\n",
       "      <td>Shed</td>\n",
       "      <td>0</td>\n",
       "      <td>1</td>\n",
       "      <td>2010</td>\n",
       "      <td>COD</td>\n",
       "      <td>Normal</td>\n",
       "      <td>190000</td>\n",
       "    </tr>\n",
       "    <tr>\n",
       "      <th>4</th>\n",
       "      <td>20</td>\n",
       "      <td>RL</td>\n",
       "      <td>70.98847</td>\n",
       "      <td>16635</td>\n",
       "      <td>Pave</td>\n",
       "      <td>Grvl</td>\n",
       "      <td>IR1</td>\n",
       "      <td>Lvl</td>\n",
       "      <td>AllPub</td>\n",
       "      <td>FR2</td>\n",
       "      <td>...</td>\n",
       "      <td>0</td>\n",
       "      <td>0</td>\n",
       "      <td>MnPrv</td>\n",
       "      <td>Shed</td>\n",
       "      <td>0</td>\n",
       "      <td>6</td>\n",
       "      <td>2009</td>\n",
       "      <td>WD</td>\n",
       "      <td>Normal</td>\n",
       "      <td>215000</td>\n",
       "    </tr>\n",
       "  </tbody>\n",
       "</table>\n",
       "<p>5 rows × 78 columns</p>\n",
       "</div>"
      ],
      "text/plain": [
       "   MSSubClass MSZoning  LotFrontage  LotArea Street Alley LotShape  \\\n",
       "0         120       RL     70.98847     4928   Pave  Grvl      IR1   \n",
       "1          20       RL     95.00000    15865   Pave  Grvl      IR1   \n",
       "2          60       RL     92.00000     9920   Pave  Grvl      IR1   \n",
       "3          20       RL    105.00000    11751   Pave  Grvl      IR1   \n",
       "4          20       RL     70.98847    16635   Pave  Grvl      IR1   \n",
       "\n",
       "  LandContour Utilities LotConfig  ... 3SsnPorch ScreenPorch  Fence  \\\n",
       "0         Lvl    AllPub    Inside  ...         0           0  MnPrv   \n",
       "1         Lvl    AllPub    Inside  ...         0         224  MnPrv   \n",
       "2         Lvl    AllPub   CulDSac  ...         0           0  MnPrv   \n",
       "3         Lvl    AllPub    Inside  ...         0           0  MnPrv   \n",
       "4         Lvl    AllPub       FR2  ...         0           0  MnPrv   \n",
       "\n",
       "  MiscFeature MiscVal MoSold  YrSold  SaleType  SaleCondition  SalePrice  \n",
       "0        Shed       0      2    2007        WD         Normal     128000  \n",
       "1        Shed       0     10    2007        WD         Normal     268000  \n",
       "2        Shed       0      6    2007        WD         Normal     269790  \n",
       "3        Shed       0      1    2010       COD         Normal     190000  \n",
       "4        Shed       0      6    2009        WD         Normal     215000  \n",
       "\n",
       "[5 rows x 78 columns]"
      ]
     },
     "execution_count": 65,
     "metadata": {},
     "output_type": "execute_result"
    }
   ],
   "source": [
    "train.head()"
   ]
  },
  {
   "cell_type": "code",
   "execution_count": 68,
   "metadata": {},
   "outputs": [
    {
     "data": {
      "text/html": [
       "<div>\n",
       "<style scoped>\n",
       "    .dataframe tbody tr th:only-of-type {\n",
       "        vertical-align: middle;\n",
       "    }\n",
       "\n",
       "    .dataframe tbody tr th {\n",
       "        vertical-align: top;\n",
       "    }\n",
       "\n",
       "    .dataframe thead th {\n",
       "        text-align: right;\n",
       "    }\n",
       "</style>\n",
       "<table border=\"1\" class=\"dataframe\">\n",
       "  <thead>\n",
       "    <tr style=\"text-align: right;\">\n",
       "      <th></th>\n",
       "      <th>MSSubClass</th>\n",
       "      <th>MSZoning</th>\n",
       "      <th>LotFrontage</th>\n",
       "      <th>LotArea</th>\n",
       "      <th>Street</th>\n",
       "      <th>Alley</th>\n",
       "      <th>LotShape</th>\n",
       "      <th>LandContour</th>\n",
       "      <th>Utilities</th>\n",
       "      <th>LotConfig</th>\n",
       "      <th>...</th>\n",
       "      <th>EnclosedPorch</th>\n",
       "      <th>3SsnPorch</th>\n",
       "      <th>ScreenPorch</th>\n",
       "      <th>Fence</th>\n",
       "      <th>MiscFeature</th>\n",
       "      <th>MiscVal</th>\n",
       "      <th>MoSold</th>\n",
       "      <th>YrSold</th>\n",
       "      <th>SaleType</th>\n",
       "      <th>SaleCondition</th>\n",
       "    </tr>\n",
       "  </thead>\n",
       "  <tbody>\n",
       "    <tr>\n",
       "      <th>0</th>\n",
       "      <td>20</td>\n",
       "      <td>RL</td>\n",
       "      <td>86.000000</td>\n",
       "      <td>14157</td>\n",
       "      <td>Pave</td>\n",
       "      <td>Grvl</td>\n",
       "      <td>IR1</td>\n",
       "      <td>HLS</td>\n",
       "      <td>AllPub</td>\n",
       "      <td>Corner</td>\n",
       "      <td>...</td>\n",
       "      <td>0</td>\n",
       "      <td>0</td>\n",
       "      <td>0</td>\n",
       "      <td>MnPrv</td>\n",
       "      <td>Shed</td>\n",
       "      <td>0</td>\n",
       "      <td>7</td>\n",
       "      <td>2007</td>\n",
       "      <td>WD</td>\n",
       "      <td>Normal</td>\n",
       "    </tr>\n",
       "    <tr>\n",
       "      <th>1</th>\n",
       "      <td>120</td>\n",
       "      <td>RL</td>\n",
       "      <td>66.425101</td>\n",
       "      <td>5814</td>\n",
       "      <td>Pave</td>\n",
       "      <td>Grvl</td>\n",
       "      <td>IR1</td>\n",
       "      <td>Lvl</td>\n",
       "      <td>AllPub</td>\n",
       "      <td>CulDSac</td>\n",
       "      <td>...</td>\n",
       "      <td>0</td>\n",
       "      <td>0</td>\n",
       "      <td>0</td>\n",
       "      <td>MnPrv</td>\n",
       "      <td>Shed</td>\n",
       "      <td>0</td>\n",
       "      <td>8</td>\n",
       "      <td>2009</td>\n",
       "      <td>COD</td>\n",
       "      <td>Abnorml</td>\n",
       "    </tr>\n",
       "    <tr>\n",
       "      <th>2</th>\n",
       "      <td>20</td>\n",
       "      <td>RL</td>\n",
       "      <td>66.425101</td>\n",
       "      <td>11838</td>\n",
       "      <td>Pave</td>\n",
       "      <td>Grvl</td>\n",
       "      <td>Reg</td>\n",
       "      <td>Lvl</td>\n",
       "      <td>AllPub</td>\n",
       "      <td>Inside</td>\n",
       "      <td>...</td>\n",
       "      <td>0</td>\n",
       "      <td>0</td>\n",
       "      <td>0</td>\n",
       "      <td>MnPrv</td>\n",
       "      <td>Shed</td>\n",
       "      <td>0</td>\n",
       "      <td>6</td>\n",
       "      <td>2009</td>\n",
       "      <td>WD</td>\n",
       "      <td>Normal</td>\n",
       "    </tr>\n",
       "    <tr>\n",
       "      <th>3</th>\n",
       "      <td>70</td>\n",
       "      <td>RL</td>\n",
       "      <td>75.000000</td>\n",
       "      <td>12000</td>\n",
       "      <td>Pave</td>\n",
       "      <td>Grvl</td>\n",
       "      <td>Reg</td>\n",
       "      <td>Bnk</td>\n",
       "      <td>AllPub</td>\n",
       "      <td>Inside</td>\n",
       "      <td>...</td>\n",
       "      <td>0</td>\n",
       "      <td>0</td>\n",
       "      <td>0</td>\n",
       "      <td>MnPrv</td>\n",
       "      <td>Shed</td>\n",
       "      <td>0</td>\n",
       "      <td>7</td>\n",
       "      <td>2009</td>\n",
       "      <td>WD</td>\n",
       "      <td>Normal</td>\n",
       "    </tr>\n",
       "    <tr>\n",
       "      <th>4</th>\n",
       "      <td>60</td>\n",
       "      <td>RL</td>\n",
       "      <td>86.000000</td>\n",
       "      <td>14598</td>\n",
       "      <td>Pave</td>\n",
       "      <td>Grvl</td>\n",
       "      <td>IR1</td>\n",
       "      <td>Lvl</td>\n",
       "      <td>AllPub</td>\n",
       "      <td>CulDSac</td>\n",
       "      <td>...</td>\n",
       "      <td>0</td>\n",
       "      <td>0</td>\n",
       "      <td>0</td>\n",
       "      <td>MnPrv</td>\n",
       "      <td>Shed</td>\n",
       "      <td>0</td>\n",
       "      <td>1</td>\n",
       "      <td>2008</td>\n",
       "      <td>WD</td>\n",
       "      <td>Normal</td>\n",
       "    </tr>\n",
       "  </tbody>\n",
       "</table>\n",
       "<p>5 rows × 77 columns</p>\n",
       "</div>"
      ],
      "text/plain": [
       "   MSSubClass MSZoning  LotFrontage  LotArea Street Alley LotShape  \\\n",
       "0          20       RL    86.000000    14157   Pave  Grvl      IR1   \n",
       "1         120       RL    66.425101     5814   Pave  Grvl      IR1   \n",
       "2          20       RL    66.425101    11838   Pave  Grvl      Reg   \n",
       "3          70       RL    75.000000    12000   Pave  Grvl      Reg   \n",
       "4          60       RL    86.000000    14598   Pave  Grvl      IR1   \n",
       "\n",
       "  LandContour Utilities LotConfig  ... EnclosedPorch 3SsnPorch ScreenPorch  \\\n",
       "0         HLS    AllPub    Corner  ...             0         0           0   \n",
       "1         Lvl    AllPub   CulDSac  ...             0         0           0   \n",
       "2         Lvl    AllPub    Inside  ...             0         0           0   \n",
       "3         Bnk    AllPub    Inside  ...             0         0           0   \n",
       "4         Lvl    AllPub   CulDSac  ...             0         0           0   \n",
       "\n",
       "   Fence MiscFeature MiscVal  MoSold  YrSold  SaleType  SaleCondition  \n",
       "0  MnPrv        Shed       0       7    2007        WD         Normal  \n",
       "1  MnPrv        Shed       0       8    2009       COD        Abnorml  \n",
       "2  MnPrv        Shed       0       6    2009        WD         Normal  \n",
       "3  MnPrv        Shed       0       7    2009        WD         Normal  \n",
       "4  MnPrv        Shed       0       1    2008        WD         Normal  \n",
       "\n",
       "[5 rows x 77 columns]"
      ]
     },
     "execution_count": 68,
     "metadata": {},
     "output_type": "execute_result"
    }
   ],
   "source": [
    "test.head()"
   ]
  },
  {
   "cell_type": "markdown",
   "metadata": {},
   "source": [
    "# Data Encoding "
   ]
  },
  {
   "cell_type": "markdown",
   "metadata": {},
   "source": [
    "# Encoding Train Data"
   ]
  },
  {
   "cell_type": "code",
   "execution_count": 69,
   "metadata": {},
   "outputs": [
    {
     "data": {
      "text/html": [
       "<div>\n",
       "<style scoped>\n",
       "    .dataframe tbody tr th:only-of-type {\n",
       "        vertical-align: middle;\n",
       "    }\n",
       "\n",
       "    .dataframe tbody tr th {\n",
       "        vertical-align: top;\n",
       "    }\n",
       "\n",
       "    .dataframe thead th {\n",
       "        text-align: right;\n",
       "    }\n",
       "</style>\n",
       "<table border=\"1\" class=\"dataframe\">\n",
       "  <thead>\n",
       "    <tr style=\"text-align: right;\">\n",
       "      <th></th>\n",
       "      <th>MSSubClass</th>\n",
       "      <th>MSZoning</th>\n",
       "      <th>LotFrontage</th>\n",
       "      <th>LotArea</th>\n",
       "      <th>Street</th>\n",
       "      <th>Alley</th>\n",
       "      <th>LotShape</th>\n",
       "      <th>LandContour</th>\n",
       "      <th>Utilities</th>\n",
       "      <th>LotConfig</th>\n",
       "      <th>...</th>\n",
       "      <th>3SsnPorch</th>\n",
       "      <th>ScreenPorch</th>\n",
       "      <th>Fence</th>\n",
       "      <th>MiscFeature</th>\n",
       "      <th>MiscVal</th>\n",
       "      <th>MoSold</th>\n",
       "      <th>YrSold</th>\n",
       "      <th>SaleType</th>\n",
       "      <th>SaleCondition</th>\n",
       "      <th>SalePrice</th>\n",
       "    </tr>\n",
       "  </thead>\n",
       "  <tbody>\n",
       "    <tr>\n",
       "      <th>0</th>\n",
       "      <td>120</td>\n",
       "      <td>3</td>\n",
       "      <td>70.98847</td>\n",
       "      <td>4928</td>\n",
       "      <td>1</td>\n",
       "      <td>0</td>\n",
       "      <td>0</td>\n",
       "      <td>3</td>\n",
       "      <td>0</td>\n",
       "      <td>4</td>\n",
       "      <td>...</td>\n",
       "      <td>0</td>\n",
       "      <td>0</td>\n",
       "      <td>2</td>\n",
       "      <td>2</td>\n",
       "      <td>0</td>\n",
       "      <td>2</td>\n",
       "      <td>1</td>\n",
       "      <td>8</td>\n",
       "      <td>4</td>\n",
       "      <td>129</td>\n",
       "    </tr>\n",
       "    <tr>\n",
       "      <th>1</th>\n",
       "      <td>20</td>\n",
       "      <td>3</td>\n",
       "      <td>95.00000</td>\n",
       "      <td>15865</td>\n",
       "      <td>1</td>\n",
       "      <td>0</td>\n",
       "      <td>0</td>\n",
       "      <td>3</td>\n",
       "      <td>0</td>\n",
       "      <td>4</td>\n",
       "      <td>...</td>\n",
       "      <td>0</td>\n",
       "      <td>224</td>\n",
       "      <td>2</td>\n",
       "      <td>2</td>\n",
       "      <td>0</td>\n",
       "      <td>10</td>\n",
       "      <td>1</td>\n",
       "      <td>8</td>\n",
       "      <td>4</td>\n",
       "      <td>468</td>\n",
       "    </tr>\n",
       "    <tr>\n",
       "      <th>2</th>\n",
       "      <td>60</td>\n",
       "      <td>3</td>\n",
       "      <td>92.00000</td>\n",
       "      <td>9920</td>\n",
       "      <td>1</td>\n",
       "      <td>0</td>\n",
       "      <td>0</td>\n",
       "      <td>3</td>\n",
       "      <td>0</td>\n",
       "      <td>1</td>\n",
       "      <td>...</td>\n",
       "      <td>0</td>\n",
       "      <td>0</td>\n",
       "      <td>2</td>\n",
       "      <td>2</td>\n",
       "      <td>0</td>\n",
       "      <td>6</td>\n",
       "      <td>1</td>\n",
       "      <td>8</td>\n",
       "      <td>4</td>\n",
       "      <td>470</td>\n",
       "    </tr>\n",
       "    <tr>\n",
       "      <th>3</th>\n",
       "      <td>20</td>\n",
       "      <td>3</td>\n",
       "      <td>105.00000</td>\n",
       "      <td>11751</td>\n",
       "      <td>1</td>\n",
       "      <td>0</td>\n",
       "      <td>0</td>\n",
       "      <td>3</td>\n",
       "      <td>0</td>\n",
       "      <td>4</td>\n",
       "      <td>...</td>\n",
       "      <td>0</td>\n",
       "      <td>0</td>\n",
       "      <td>2</td>\n",
       "      <td>2</td>\n",
       "      <td>0</td>\n",
       "      <td>1</td>\n",
       "      <td>4</td>\n",
       "      <td>0</td>\n",
       "      <td>4</td>\n",
       "      <td>326</td>\n",
       "    </tr>\n",
       "    <tr>\n",
       "      <th>4</th>\n",
       "      <td>20</td>\n",
       "      <td>3</td>\n",
       "      <td>70.98847</td>\n",
       "      <td>16635</td>\n",
       "      <td>1</td>\n",
       "      <td>0</td>\n",
       "      <td>0</td>\n",
       "      <td>3</td>\n",
       "      <td>0</td>\n",
       "      <td>2</td>\n",
       "      <td>...</td>\n",
       "      <td>0</td>\n",
       "      <td>0</td>\n",
       "      <td>2</td>\n",
       "      <td>2</td>\n",
       "      <td>0</td>\n",
       "      <td>6</td>\n",
       "      <td>3</td>\n",
       "      <td>8</td>\n",
       "      <td>4</td>\n",
       "      <td>379</td>\n",
       "    </tr>\n",
       "  </tbody>\n",
       "</table>\n",
       "<p>5 rows × 78 columns</p>\n",
       "</div>"
      ],
      "text/plain": [
       "   MSSubClass  MSZoning  LotFrontage  LotArea  Street  Alley  LotShape  \\\n",
       "0         120         3     70.98847     4928       1      0         0   \n",
       "1          20         3     95.00000    15865       1      0         0   \n",
       "2          60         3     92.00000     9920       1      0         0   \n",
       "3          20         3    105.00000    11751       1      0         0   \n",
       "4          20         3     70.98847    16635       1      0         0   \n",
       "\n",
       "   LandContour  Utilities  LotConfig  ...  3SsnPorch  ScreenPorch  Fence  \\\n",
       "0            3          0          4  ...          0            0      2   \n",
       "1            3          0          4  ...          0          224      2   \n",
       "2            3          0          1  ...          0            0      2   \n",
       "3            3          0          4  ...          0            0      2   \n",
       "4            3          0          2  ...          0            0      2   \n",
       "\n",
       "   MiscFeature  MiscVal  MoSold  YrSold  SaleType  SaleCondition  SalePrice  \n",
       "0            2        0       2       1         8              4        129  \n",
       "1            2        0      10       1         8              4        468  \n",
       "2            2        0       6       1         8              4        470  \n",
       "3            2        0       1       4         0              4        326  \n",
       "4            2        0       6       3         8              4        379  \n",
       "\n",
       "[5 rows x 78 columns]"
      ]
     },
     "execution_count": 69,
     "metadata": {},
     "output_type": "execute_result"
    }
   ],
   "source": [
    "from sklearn.preprocessing import LabelEncoder\n",
    "cols = ['MSZoning', 'Street', 'Alley', 'LotShape', 'LandContour', 'Utilities', 'LotConfig', \n",
    "                           'LandSlope', 'Neighborhood', 'Condition1', 'Condition2', 'BldgType', 'HouseStyle', \n",
    "                           'RoofStyle', 'RoofMatl', 'Exterior1st', 'Exterior2nd', 'MasVnrType', 'ExterQual', 'ExterCond', \n",
    "                           'Foundation', 'BsmtQual', 'BsmtCond', 'BsmtExposure', 'BsmtFinType1', 'BsmtFinType2', \n",
    "                           'Heating', 'HeatingQC', 'CentralAir', 'Electrical', 'KitchenQual', 'Functional', 'FireplaceQu', \n",
    "                           'GarageType', 'GarageFinish', 'GarageQual', 'GarageCond', 'PavedDrive', 'Fence', 'MiscFeature', \n",
    "                           'YrSold', 'SaleType', 'SaleCondition', 'SalePrice']\n",
    "#\n",
    "# Encode labels of multiple columns at once\n",
    "#\n",
    "train[cols] = train[cols].apply(LabelEncoder().fit_transform)\n",
    "#\n",
    "# Print head\n",
    "#\n",
    "train.head()"
   ]
  },
  {
   "cell_type": "markdown",
   "metadata": {},
   "source": [
    "# Encoding Test Data"
   ]
  },
  {
   "cell_type": "code",
   "execution_count": 70,
   "metadata": {},
   "outputs": [
    {
     "data": {
      "text/html": [
       "<div>\n",
       "<style scoped>\n",
       "    .dataframe tbody tr th:only-of-type {\n",
       "        vertical-align: middle;\n",
       "    }\n",
       "\n",
       "    .dataframe tbody tr th {\n",
       "        vertical-align: top;\n",
       "    }\n",
       "\n",
       "    .dataframe thead th {\n",
       "        text-align: right;\n",
       "    }\n",
       "</style>\n",
       "<table border=\"1\" class=\"dataframe\">\n",
       "  <thead>\n",
       "    <tr style=\"text-align: right;\">\n",
       "      <th></th>\n",
       "      <th>MSSubClass</th>\n",
       "      <th>MSZoning</th>\n",
       "      <th>LotFrontage</th>\n",
       "      <th>LotArea</th>\n",
       "      <th>Street</th>\n",
       "      <th>Alley</th>\n",
       "      <th>LotShape</th>\n",
       "      <th>LandContour</th>\n",
       "      <th>Utilities</th>\n",
       "      <th>LotConfig</th>\n",
       "      <th>...</th>\n",
       "      <th>EnclosedPorch</th>\n",
       "      <th>3SsnPorch</th>\n",
       "      <th>ScreenPorch</th>\n",
       "      <th>Fence</th>\n",
       "      <th>MiscFeature</th>\n",
       "      <th>MiscVal</th>\n",
       "      <th>MoSold</th>\n",
       "      <th>YrSold</th>\n",
       "      <th>SaleType</th>\n",
       "      <th>SaleCondition</th>\n",
       "    </tr>\n",
       "  </thead>\n",
       "  <tbody>\n",
       "    <tr>\n",
       "      <th>0</th>\n",
       "      <td>20</td>\n",
       "      <td>2</td>\n",
       "      <td>86.000000</td>\n",
       "      <td>14157</td>\n",
       "      <td>1</td>\n",
       "      <td>0</td>\n",
       "      <td>0</td>\n",
       "      <td>1</td>\n",
       "      <td>0</td>\n",
       "      <td>0</td>\n",
       "      <td>...</td>\n",
       "      <td>0</td>\n",
       "      <td>0</td>\n",
       "      <td>0</td>\n",
       "      <td>2</td>\n",
       "      <td>1</td>\n",
       "      <td>0</td>\n",
       "      <td>7</td>\n",
       "      <td>1</td>\n",
       "      <td>5</td>\n",
       "      <td>2</td>\n",
       "    </tr>\n",
       "    <tr>\n",
       "      <th>1</th>\n",
       "      <td>120</td>\n",
       "      <td>2</td>\n",
       "      <td>66.425101</td>\n",
       "      <td>5814</td>\n",
       "      <td>1</td>\n",
       "      <td>0</td>\n",
       "      <td>0</td>\n",
       "      <td>3</td>\n",
       "      <td>0</td>\n",
       "      <td>1</td>\n",
       "      <td>...</td>\n",
       "      <td>0</td>\n",
       "      <td>0</td>\n",
       "      <td>0</td>\n",
       "      <td>2</td>\n",
       "      <td>1</td>\n",
       "      <td>0</td>\n",
       "      <td>8</td>\n",
       "      <td>3</td>\n",
       "      <td>0</td>\n",
       "      <td>0</td>\n",
       "    </tr>\n",
       "    <tr>\n",
       "      <th>2</th>\n",
       "      <td>20</td>\n",
       "      <td>2</td>\n",
       "      <td>66.425101</td>\n",
       "      <td>11838</td>\n",
       "      <td>1</td>\n",
       "      <td>0</td>\n",
       "      <td>3</td>\n",
       "      <td>3</td>\n",
       "      <td>0</td>\n",
       "      <td>4</td>\n",
       "      <td>...</td>\n",
       "      <td>0</td>\n",
       "      <td>0</td>\n",
       "      <td>0</td>\n",
       "      <td>2</td>\n",
       "      <td>1</td>\n",
       "      <td>0</td>\n",
       "      <td>6</td>\n",
       "      <td>3</td>\n",
       "      <td>5</td>\n",
       "      <td>2</td>\n",
       "    </tr>\n",
       "    <tr>\n",
       "      <th>3</th>\n",
       "      <td>70</td>\n",
       "      <td>2</td>\n",
       "      <td>75.000000</td>\n",
       "      <td>12000</td>\n",
       "      <td>1</td>\n",
       "      <td>0</td>\n",
       "      <td>3</td>\n",
       "      <td>0</td>\n",
       "      <td>0</td>\n",
       "      <td>4</td>\n",
       "      <td>...</td>\n",
       "      <td>0</td>\n",
       "      <td>0</td>\n",
       "      <td>0</td>\n",
       "      <td>2</td>\n",
       "      <td>1</td>\n",
       "      <td>0</td>\n",
       "      <td>7</td>\n",
       "      <td>3</td>\n",
       "      <td>5</td>\n",
       "      <td>2</td>\n",
       "    </tr>\n",
       "    <tr>\n",
       "      <th>4</th>\n",
       "      <td>60</td>\n",
       "      <td>2</td>\n",
       "      <td>86.000000</td>\n",
       "      <td>14598</td>\n",
       "      <td>1</td>\n",
       "      <td>0</td>\n",
       "      <td>0</td>\n",
       "      <td>3</td>\n",
       "      <td>0</td>\n",
       "      <td>1</td>\n",
       "      <td>...</td>\n",
       "      <td>0</td>\n",
       "      <td>0</td>\n",
       "      <td>0</td>\n",
       "      <td>2</td>\n",
       "      <td>1</td>\n",
       "      <td>0</td>\n",
       "      <td>1</td>\n",
       "      <td>2</td>\n",
       "      <td>5</td>\n",
       "      <td>2</td>\n",
       "    </tr>\n",
       "  </tbody>\n",
       "</table>\n",
       "<p>5 rows × 77 columns</p>\n",
       "</div>"
      ],
      "text/plain": [
       "   MSSubClass  MSZoning  LotFrontage  LotArea  Street  Alley  LotShape  \\\n",
       "0          20         2    86.000000    14157       1      0         0   \n",
       "1         120         2    66.425101     5814       1      0         0   \n",
       "2          20         2    66.425101    11838       1      0         3   \n",
       "3          70         2    75.000000    12000       1      0         3   \n",
       "4          60         2    86.000000    14598       1      0         0   \n",
       "\n",
       "   LandContour  Utilities  LotConfig  ...  EnclosedPorch  3SsnPorch  \\\n",
       "0            1          0          0  ...              0          0   \n",
       "1            3          0          1  ...              0          0   \n",
       "2            3          0          4  ...              0          0   \n",
       "3            0          0          4  ...              0          0   \n",
       "4            3          0          1  ...              0          0   \n",
       "\n",
       "   ScreenPorch  Fence  MiscFeature  MiscVal  MoSold  YrSold  SaleType  \\\n",
       "0            0      2            1        0       7       1         5   \n",
       "1            0      2            1        0       8       3         0   \n",
       "2            0      2            1        0       6       3         5   \n",
       "3            0      2            1        0       7       3         5   \n",
       "4            0      2            1        0       1       2         5   \n",
       "\n",
       "   SaleCondition  \n",
       "0              2  \n",
       "1              0  \n",
       "2              2  \n",
       "3              2  \n",
       "4              2  \n",
       "\n",
       "[5 rows x 77 columns]"
      ]
     },
     "execution_count": 70,
     "metadata": {},
     "output_type": "execute_result"
    }
   ],
   "source": [
    "from sklearn.preprocessing import LabelEncoder\n",
    "cols = ['MSZoning', 'Street', 'Alley', 'LotShape', 'LandContour', 'Utilities', 'LotConfig', \n",
    "                           'LandSlope', 'Neighborhood', 'Condition1', 'Condition2', 'BldgType', 'HouseStyle', \n",
    "                           'RoofStyle', 'RoofMatl', 'Exterior1st', 'Exterior2nd', 'MasVnrType', 'ExterQual', 'ExterCond', \n",
    "                           'Foundation', 'BsmtQual', 'BsmtCond', 'BsmtExposure', 'BsmtFinType1', 'BsmtFinType2', \n",
    "                           'Heating', 'HeatingQC', 'CentralAir', 'Electrical', 'KitchenQual', 'Functional', 'FireplaceQu', \n",
    "                           'GarageType', 'GarageFinish', 'GarageQual', 'GarageCond', 'PavedDrive', 'Fence', 'MiscFeature', \n",
    "                           'YrSold', 'SaleType', 'SaleCondition']\n",
    "#\n",
    "# Encode labels of multiple columns at once\n",
    "#\n",
    "test[cols] = test[cols].apply(LabelEncoder().fit_transform)\n",
    "#\n",
    "# Print head\n",
    "#\n",
    "test.head()"
   ]
  },
  {
   "cell_type": "markdown",
   "metadata": {},
   "source": [
    "# Correlation "
   ]
  },
  {
   "cell_type": "code",
   "execution_count": 71,
   "metadata": {},
   "outputs": [
    {
     "data": {
      "image/png": "[encoded data removed]",
      "text/plain": [
       "<Figure size 864x648 with 2 Axes>"
      ]
     },
     "metadata": {
      "needs_background": "light"
     },
     "output_type": "display_data"
    }
   ],
   "source": [
    "fig, ax = plt.subplots(figsize=(12,9))\n",
    "sns.heatmap(train.corr(), ax=ax);"
   ]
  },
  {
   "cell_type": "markdown",
   "metadata": {},
   "source": [
    "We can see that there are many correlated variables in our dataset. Wwe notice that Garage Cars and Garage Area have high positive correlation which is reasonable because when the garage area increases, its car capacity increases too. We see also that Gr Liv Area and TotRms AbvGrd are highly positively correlated which also makes sense because when living area above ground increases, it is expected for the rooms above ground to increase too.\n",
    "\n",
    "Regarding negative correlation, we can see that Bsmt Unf SF is negatively correlated with BsmtFin SF 1, and that makes sense because when we have more unfinished area, this means that we have less finished area. We note also that Bsmt Unf SF is negatively correlated with Bsmt Full Bath which is reasonable too.\n",
    "\n",
    "Most importantly, we want to look at the predictor variables that are correlated with the target variable (SalePrice). By looking at the last row of the heatmap, we see that the target variable is highly positively correlated with Overall Qual and Gr Liv Area. We see also that the target variable is positively correlated with Year Built, Year Remod/Add, Mas Vnr Area, Total Bsmt SF, 1st Flr SF, Full Bath, Garage Cars, and Garage Area.\n",
    "\n",
    "Relatioships Between the Target Variable and Other Varibles\n",
    "\n",
    "\n",
    "High Positive Correlation\n",
    "\n",
    "\n",
    "Firstly, we want to visualize the relationships between the target variable and the variables that are highly and positively correlated with it, according to what we saw in the heatmap. Namely, these variables are Overall Qual and Gr Liv Area. We start with the relatioship between the target variable and Overall Qual, but before that, let's see the distribution of each of them. Let's start with the target variable SalePrice:"
   ]
  },
  {
   "cell_type": "markdown",
   "metadata": {},
   "source": [
    "# Statistical Summary"
   ]
  },
  {
   "cell_type": "code",
   "execution_count": 72,
   "metadata": {},
   "outputs": [
    {
     "data": {
      "text/html": [
       "<div>\n",
       "<style scoped>\n",
       "    .dataframe tbody tr th:only-of-type {\n",
       "        vertical-align: middle;\n",
       "    }\n",
       "\n",
       "    .dataframe tbody tr th {\n",
       "        vertical-align: top;\n",
       "    }\n",
       "\n",
       "    .dataframe thead th {\n",
       "        text-align: right;\n",
       "    }\n",
       "</style>\n",
       "<table border=\"1\" class=\"dataframe\">\n",
       "  <thead>\n",
       "    <tr style=\"text-align: right;\">\n",
       "      <th></th>\n",
       "      <th>MSSubClass</th>\n",
       "      <th>MSZoning</th>\n",
       "      <th>LotFrontage</th>\n",
       "      <th>LotArea</th>\n",
       "      <th>Street</th>\n",
       "      <th>Alley</th>\n",
       "      <th>LotShape</th>\n",
       "      <th>LandContour</th>\n",
       "      <th>Utilities</th>\n",
       "      <th>LotConfig</th>\n",
       "      <th>...</th>\n",
       "      <th>3SsnPorch</th>\n",
       "      <th>ScreenPorch</th>\n",
       "      <th>Fence</th>\n",
       "      <th>MiscFeature</th>\n",
       "      <th>MiscVal</th>\n",
       "      <th>MoSold</th>\n",
       "      <th>YrSold</th>\n",
       "      <th>SaleType</th>\n",
       "      <th>SaleCondition</th>\n",
       "      <th>SalePrice</th>\n",
       "    </tr>\n",
       "  </thead>\n",
       "  <tbody>\n",
       "    <tr>\n",
       "      <th>count</th>\n",
       "      <td>1168.000000</td>\n",
       "      <td>1168.000000</td>\n",
       "      <td>1168.000000</td>\n",
       "      <td>1168.000000</td>\n",
       "      <td>1168.000000</td>\n",
       "      <td>1168.000000</td>\n",
       "      <td>1168.000000</td>\n",
       "      <td>1168.000000</td>\n",
       "      <td>1168.0</td>\n",
       "      <td>1168.000000</td>\n",
       "      <td>...</td>\n",
       "      <td>1168.000000</td>\n",
       "      <td>1168.000000</td>\n",
       "      <td>1168.000000</td>\n",
       "      <td>1168.000000</td>\n",
       "      <td>1168.000000</td>\n",
       "      <td>1168.000000</td>\n",
       "      <td>1168.000000</td>\n",
       "      <td>1168.000000</td>\n",
       "      <td>1168.000000</td>\n",
       "      <td>1168.000000</td>\n",
       "    </tr>\n",
       "    <tr>\n",
       "      <th>mean</th>\n",
       "      <td>56.767979</td>\n",
       "      <td>3.013699</td>\n",
       "      <td>70.988470</td>\n",
       "      <td>10484.749144</td>\n",
       "      <td>0.996575</td>\n",
       "      <td>0.030822</td>\n",
       "      <td>1.938356</td>\n",
       "      <td>2.773973</td>\n",
       "      <td>0.0</td>\n",
       "      <td>3.004281</td>\n",
       "      <td>...</td>\n",
       "      <td>3.639555</td>\n",
       "      <td>15.051370</td>\n",
       "      <td>1.880993</td>\n",
       "      <td>1.996575</td>\n",
       "      <td>47.315068</td>\n",
       "      <td>6.344178</td>\n",
       "      <td>1.804795</td>\n",
       "      <td>7.465753</td>\n",
       "      <td>3.768836</td>\n",
       "      <td>261.805651</td>\n",
       "    </tr>\n",
       "    <tr>\n",
       "      <th>std</th>\n",
       "      <td>41.940650</td>\n",
       "      <td>0.633120</td>\n",
       "      <td>22.437056</td>\n",
       "      <td>8957.442311</td>\n",
       "      <td>0.058445</td>\n",
       "      <td>0.172909</td>\n",
       "      <td>1.412262</td>\n",
       "      <td>0.710027</td>\n",
       "      <td>0.0</td>\n",
       "      <td>1.642667</td>\n",
       "      <td>...</td>\n",
       "      <td>29.088867</td>\n",
       "      <td>55.080816</td>\n",
       "      <td>0.457685</td>\n",
       "      <td>0.092505</td>\n",
       "      <td>543.264432</td>\n",
       "      <td>2.686352</td>\n",
       "      <td>1.329738</td>\n",
       "      <td>1.619459</td>\n",
       "      <td>1.112208</td>\n",
       "      <td>149.862407</td>\n",
       "    </tr>\n",
       "    <tr>\n",
       "      <th>min</th>\n",
       "      <td>20.000000</td>\n",
       "      <td>0.000000</td>\n",
       "      <td>21.000000</td>\n",
       "      <td>1300.000000</td>\n",
       "      <td>0.000000</td>\n",
       "      <td>0.000000</td>\n",
       "      <td>0.000000</td>\n",
       "      <td>0.000000</td>\n",
       "      <td>0.0</td>\n",
       "      <td>0.000000</td>\n",
       "      <td>...</td>\n",
       "      <td>0.000000</td>\n",
       "      <td>0.000000</td>\n",
       "      <td>0.000000</td>\n",
       "      <td>0.000000</td>\n",
       "      <td>0.000000</td>\n",
       "      <td>1.000000</td>\n",
       "      <td>0.000000</td>\n",
       "      <td>0.000000</td>\n",
       "      <td>0.000000</td>\n",
       "      <td>0.000000</td>\n",
       "    </tr>\n",
       "    <tr>\n",
       "      <th>25%</th>\n",
       "      <td>20.000000</td>\n",
       "      <td>3.000000</td>\n",
       "      <td>60.000000</td>\n",
       "      <td>7621.500000</td>\n",
       "      <td>1.000000</td>\n",
       "      <td>0.000000</td>\n",
       "      <td>0.000000</td>\n",
       "      <td>3.000000</td>\n",
       "      <td>0.0</td>\n",
       "      <td>2.000000</td>\n",
       "      <td>...</td>\n",
       "      <td>0.000000</td>\n",
       "      <td>0.000000</td>\n",
       "      <td>2.000000</td>\n",
       "      <td>2.000000</td>\n",
       "      <td>0.000000</td>\n",
       "      <td>5.000000</td>\n",
       "      <td>1.000000</td>\n",
       "      <td>8.000000</td>\n",
       "      <td>4.000000</td>\n",
       "      <td>137.750000</td>\n",
       "    </tr>\n",
       "    <tr>\n",
       "      <th>50%</th>\n",
       "      <td>50.000000</td>\n",
       "      <td>3.000000</td>\n",
       "      <td>70.988470</td>\n",
       "      <td>9522.500000</td>\n",
       "      <td>1.000000</td>\n",
       "      <td>0.000000</td>\n",
       "      <td>3.000000</td>\n",
       "      <td>3.000000</td>\n",
       "      <td>0.0</td>\n",
       "      <td>4.000000</td>\n",
       "      <td>...</td>\n",
       "      <td>0.000000</td>\n",
       "      <td>0.000000</td>\n",
       "      <td>2.000000</td>\n",
       "      <td>2.000000</td>\n",
       "      <td>0.000000</td>\n",
       "      <td>6.000000</td>\n",
       "      <td>2.000000</td>\n",
       "      <td>8.000000</td>\n",
       "      <td>4.000000</td>\n",
       "      <td>245.500000</td>\n",
       "    </tr>\n",
       "    <tr>\n",
       "      <th>75%</th>\n",
       "      <td>70.000000</td>\n",
       "      <td>3.000000</td>\n",
       "      <td>79.250000</td>\n",
       "      <td>11515.500000</td>\n",
       "      <td>1.000000</td>\n",
       "      <td>0.000000</td>\n",
       "      <td>3.000000</td>\n",
       "      <td>3.000000</td>\n",
       "      <td>0.0</td>\n",
       "      <td>4.000000</td>\n",
       "      <td>...</td>\n",
       "      <td>0.000000</td>\n",
       "      <td>0.000000</td>\n",
       "      <td>2.000000</td>\n",
       "      <td>2.000000</td>\n",
       "      <td>0.000000</td>\n",
       "      <td>8.000000</td>\n",
       "      <td>3.000000</td>\n",
       "      <td>8.000000</td>\n",
       "      <td>4.000000</td>\n",
       "      <td>379.000000</td>\n",
       "    </tr>\n",
       "    <tr>\n",
       "      <th>max</th>\n",
       "      <td>190.000000</td>\n",
       "      <td>4.000000</td>\n",
       "      <td>313.000000</td>\n",
       "      <td>164660.000000</td>\n",
       "      <td>1.000000</td>\n",
       "      <td>1.000000</td>\n",
       "      <td>3.000000</td>\n",
       "      <td>3.000000</td>\n",
       "      <td>0.0</td>\n",
       "      <td>4.000000</td>\n",
       "      <td>...</td>\n",
       "      <td>508.000000</td>\n",
       "      <td>480.000000</td>\n",
       "      <td>3.000000</td>\n",
       "      <td>3.000000</td>\n",
       "      <td>15500.000000</td>\n",
       "      <td>12.000000</td>\n",
       "      <td>4.000000</td>\n",
       "      <td>8.000000</td>\n",
       "      <td>5.000000</td>\n",
       "      <td>580.000000</td>\n",
       "    </tr>\n",
       "  </tbody>\n",
       "</table>\n",
       "<p>8 rows × 78 columns</p>\n",
       "</div>"
      ],
      "text/plain": [
       "        MSSubClass     MSZoning  LotFrontage        LotArea       Street  \\\n",
       "count  1168.000000  1168.000000  1168.000000    1168.000000  1168.000000   \n",
       "mean     56.767979     3.013699    70.988470   10484.749144     0.996575   \n",
       "std      41.940650     0.633120    22.437056    8957.442311     0.058445   \n",
       "min      20.000000     0.000000    21.000000    1300.000000     0.000000   \n",
       "25%      20.000000     3.000000    60.000000    7621.500000     1.000000   \n",
       "50%      50.000000     3.000000    70.988470    9522.500000     1.000000   \n",
       "75%      70.000000     3.000000    79.250000   11515.500000     1.000000   \n",
       "max     190.000000     4.000000   313.000000  164660.000000     1.000000   \n",
       "\n",
       "             Alley     LotShape  LandContour  Utilities    LotConfig  ...  \\\n",
       "count  1168.000000  1168.000000  1168.000000     1168.0  1168.000000  ...   \n",
       "mean      0.030822     1.938356     2.773973        0.0     3.004281  ...   \n",
       "std       0.172909     1.412262     0.710027        0.0     1.642667  ...   \n",
       "min       0.000000     0.000000     0.000000        0.0     0.000000  ...   \n",
       "25%       0.000000     0.000000     3.000000        0.0     2.000000  ...   \n",
       "50%       0.000000     3.000000     3.000000        0.0     4.000000  ...   \n",
       "75%       0.000000     3.000000     3.000000        0.0     4.000000  ...   \n",
       "max       1.000000     3.000000     3.000000        0.0     4.000000  ...   \n",
       "\n",
       "         3SsnPorch  ScreenPorch        Fence  MiscFeature       MiscVal  \\\n",
       "count  1168.000000  1168.000000  1168.000000  1168.000000   1168.000000   \n",
       "mean      3.639555    15.051370     1.880993     1.996575     47.315068   \n",
       "std      29.088867    55.080816     0.457685     0.092505    543.264432   \n",
       "min       0.000000     0.000000     0.000000     0.000000      0.000000   \n",
       "25%       0.000000     0.000000     2.000000     2.000000      0.000000   \n",
       "50%       0.000000     0.000000     2.000000     2.000000      0.000000   \n",
       "75%       0.000000     0.000000     2.000000     2.000000      0.000000   \n",
       "max     508.000000   480.000000     3.000000     3.000000  15500.000000   \n",
       "\n",
       "            MoSold       YrSold     SaleType  SaleCondition    SalePrice  \n",
       "count  1168.000000  1168.000000  1168.000000    1168.000000  1168.000000  \n",
       "mean      6.344178     1.804795     7.465753       3.768836   261.805651  \n",
       "std       2.686352     1.329738     1.619459       1.112208   149.862407  \n",
       "min       1.000000     0.000000     0.000000       0.000000     0.000000  \n",
       "25%       5.000000     1.000000     8.000000       4.000000   137.750000  \n",
       "50%       6.000000     2.000000     8.000000       4.000000   245.500000  \n",
       "75%       8.000000     3.000000     8.000000       4.000000   379.000000  \n",
       "max      12.000000     4.000000     8.000000       5.000000   580.000000  \n",
       "\n",
       "[8 rows x 78 columns]"
      ]
     },
     "execution_count": 72,
     "metadata": {},
     "output_type": "execute_result"
    }
   ],
   "source": [
    "train.describe()"
   ]
  },
  {
   "cell_type": "markdown",
   "metadata": {},
   "source": [
    "The above Summary provide Statistical information about whole data i.e. Count, Mean, Standard Deviation, Minimum value, 25%, 50% 75% and Maximum Value and statistical report is mentioned above"
   ]
  },
  {
   "cell_type": "markdown",
   "metadata": {},
   "source": [
    "# Spliting the Independent and Target Variables."
   ]
  },
  {
   "cell_type": "code",
   "execution_count": 73,
   "metadata": {},
   "outputs": [],
   "source": [
    "x=train.drop('SalePrice',axis=1)\n",
    "y=train['SalePrice']"
   ]
  },
  {
   "cell_type": "code",
   "execution_count": 74,
   "metadata": {},
   "outputs": [
    {
     "data": {
      "text/html": [
       "<div>\n",
       "<style scoped>\n",
       "    .dataframe tbody tr th:only-of-type {\n",
       "        vertical-align: middle;\n",
       "    }\n",
       "\n",
       "    .dataframe tbody tr th {\n",
       "        vertical-align: top;\n",
       "    }\n",
       "\n",
       "    .dataframe thead th {\n",
       "        text-align: right;\n",
       "    }\n",
       "</style>\n",
       "<table border=\"1\" class=\"dataframe\">\n",
       "  <thead>\n",
       "    <tr style=\"text-align: right;\">\n",
       "      <th></th>\n",
       "      <th>MSSubClass</th>\n",
       "      <th>MSZoning</th>\n",
       "      <th>LotFrontage</th>\n",
       "      <th>LotArea</th>\n",
       "      <th>Street</th>\n",
       "      <th>Alley</th>\n",
       "      <th>LotShape</th>\n",
       "      <th>LandContour</th>\n",
       "      <th>Utilities</th>\n",
       "      <th>LotConfig</th>\n",
       "      <th>...</th>\n",
       "      <th>EnclosedPorch</th>\n",
       "      <th>3SsnPorch</th>\n",
       "      <th>ScreenPorch</th>\n",
       "      <th>Fence</th>\n",
       "      <th>MiscFeature</th>\n",
       "      <th>MiscVal</th>\n",
       "      <th>MoSold</th>\n",
       "      <th>YrSold</th>\n",
       "      <th>SaleType</th>\n",
       "      <th>SaleCondition</th>\n",
       "    </tr>\n",
       "  </thead>\n",
       "  <tbody>\n",
       "    <tr>\n",
       "      <th>0</th>\n",
       "      <td>120</td>\n",
       "      <td>3</td>\n",
       "      <td>70.98847</td>\n",
       "      <td>4928</td>\n",
       "      <td>1</td>\n",
       "      <td>0</td>\n",
       "      <td>0</td>\n",
       "      <td>3</td>\n",
       "      <td>0</td>\n",
       "      <td>4</td>\n",
       "      <td>...</td>\n",
       "      <td>0</td>\n",
       "      <td>0</td>\n",
       "      <td>0</td>\n",
       "      <td>2</td>\n",
       "      <td>2</td>\n",
       "      <td>0</td>\n",
       "      <td>2</td>\n",
       "      <td>1</td>\n",
       "      <td>8</td>\n",
       "      <td>4</td>\n",
       "    </tr>\n",
       "    <tr>\n",
       "      <th>1</th>\n",
       "      <td>20</td>\n",
       "      <td>3</td>\n",
       "      <td>95.00000</td>\n",
       "      <td>15865</td>\n",
       "      <td>1</td>\n",
       "      <td>0</td>\n",
       "      <td>0</td>\n",
       "      <td>3</td>\n",
       "      <td>0</td>\n",
       "      <td>4</td>\n",
       "      <td>...</td>\n",
       "      <td>0</td>\n",
       "      <td>0</td>\n",
       "      <td>224</td>\n",
       "      <td>2</td>\n",
       "      <td>2</td>\n",
       "      <td>0</td>\n",
       "      <td>10</td>\n",
       "      <td>1</td>\n",
       "      <td>8</td>\n",
       "      <td>4</td>\n",
       "    </tr>\n",
       "    <tr>\n",
       "      <th>2</th>\n",
       "      <td>60</td>\n",
       "      <td>3</td>\n",
       "      <td>92.00000</td>\n",
       "      <td>9920</td>\n",
       "      <td>1</td>\n",
       "      <td>0</td>\n",
       "      <td>0</td>\n",
       "      <td>3</td>\n",
       "      <td>0</td>\n",
       "      <td>1</td>\n",
       "      <td>...</td>\n",
       "      <td>0</td>\n",
       "      <td>0</td>\n",
       "      <td>0</td>\n",
       "      <td>2</td>\n",
       "      <td>2</td>\n",
       "      <td>0</td>\n",
       "      <td>6</td>\n",
       "      <td>1</td>\n",
       "      <td>8</td>\n",
       "      <td>4</td>\n",
       "    </tr>\n",
       "    <tr>\n",
       "      <th>3</th>\n",
       "      <td>20</td>\n",
       "      <td>3</td>\n",
       "      <td>105.00000</td>\n",
       "      <td>11751</td>\n",
       "      <td>1</td>\n",
       "      <td>0</td>\n",
       "      <td>0</td>\n",
       "      <td>3</td>\n",
       "      <td>0</td>\n",
       "      <td>4</td>\n",
       "      <td>...</td>\n",
       "      <td>0</td>\n",
       "      <td>0</td>\n",
       "      <td>0</td>\n",
       "      <td>2</td>\n",
       "      <td>2</td>\n",
       "      <td>0</td>\n",
       "      <td>1</td>\n",
       "      <td>4</td>\n",
       "      <td>0</td>\n",
       "      <td>4</td>\n",
       "    </tr>\n",
       "    <tr>\n",
       "      <th>4</th>\n",
       "      <td>20</td>\n",
       "      <td>3</td>\n",
       "      <td>70.98847</td>\n",
       "      <td>16635</td>\n",
       "      <td>1</td>\n",
       "      <td>0</td>\n",
       "      <td>0</td>\n",
       "      <td>3</td>\n",
       "      <td>0</td>\n",
       "      <td>2</td>\n",
       "      <td>...</td>\n",
       "      <td>0</td>\n",
       "      <td>0</td>\n",
       "      <td>0</td>\n",
       "      <td>2</td>\n",
       "      <td>2</td>\n",
       "      <td>0</td>\n",
       "      <td>6</td>\n",
       "      <td>3</td>\n",
       "      <td>8</td>\n",
       "      <td>4</td>\n",
       "    </tr>\n",
       "  </tbody>\n",
       "</table>\n",
       "<p>5 rows × 77 columns</p>\n",
       "</div>"
      ],
      "text/plain": [
       "   MSSubClass  MSZoning  LotFrontage  LotArea  Street  Alley  LotShape  \\\n",
       "0         120         3     70.98847     4928       1      0         0   \n",
       "1          20         3     95.00000    15865       1      0         0   \n",
       "2          60         3     92.00000     9920       1      0         0   \n",
       "3          20         3    105.00000    11751       1      0         0   \n",
       "4          20         3     70.98847    16635       1      0         0   \n",
       "\n",
       "   LandContour  Utilities  LotConfig  ...  EnclosedPorch  3SsnPorch  \\\n",
       "0            3          0          4  ...              0          0   \n",
       "1            3          0          4  ...              0          0   \n",
       "2            3          0          1  ...              0          0   \n",
       "3            3          0          4  ...              0          0   \n",
       "4            3          0          2  ...              0          0   \n",
       "\n",
       "   ScreenPorch  Fence  MiscFeature  MiscVal  MoSold  YrSold  SaleType  \\\n",
       "0            0      2            2        0       2       1         8   \n",
       "1          224      2            2        0      10       1         8   \n",
       "2            0      2            2        0       6       1         8   \n",
       "3            0      2            2        0       1       4         0   \n",
       "4            0      2            2        0       6       3         8   \n",
       "\n",
       "   SaleCondition  \n",
       "0              4  \n",
       "1              4  \n",
       "2              4  \n",
       "3              4  \n",
       "4              4  \n",
       "\n",
       "[5 rows x 77 columns]"
      ]
     },
     "execution_count": 74,
     "metadata": {},
     "output_type": "execute_result"
    }
   ],
   "source": [
    "x.head()"
   ]
  },
  {
   "cell_type": "code",
   "execution_count": 75,
   "metadata": {},
   "outputs": [
    {
     "data": {
      "text/plain": [
       "0    129\n",
       "1    468\n",
       "2    470\n",
       "3    326\n",
       "4    379\n",
       "Name: SalePrice, dtype: int64"
      ]
     },
     "execution_count": 75,
     "metadata": {},
     "output_type": "execute_result"
    }
   ],
   "source": [
    "y.head()"
   ]
  },
  {
   "cell_type": "markdown",
   "metadata": {},
   "source": [
    "# Data Scaling"
   ]
  },
  {
   "cell_type": "code",
   "execution_count": 76,
   "metadata": {},
   "outputs": [
    {
     "data": {
      "text/html": [
       "<div>\n",
       "<style scoped>\n",
       "    .dataframe tbody tr th:only-of-type {\n",
       "        vertical-align: middle;\n",
       "    }\n",
       "\n",
       "    .dataframe tbody tr th {\n",
       "        vertical-align: top;\n",
       "    }\n",
       "\n",
       "    .dataframe thead th {\n",
       "        text-align: right;\n",
       "    }\n",
       "</style>\n",
       "<table border=\"1\" class=\"dataframe\">\n",
       "  <thead>\n",
       "    <tr style=\"text-align: right;\">\n",
       "      <th></th>\n",
       "      <th>MSSubClass</th>\n",
       "      <th>MSZoning</th>\n",
       "      <th>LotFrontage</th>\n",
       "      <th>LotArea</th>\n",
       "      <th>Street</th>\n",
       "      <th>Alley</th>\n",
       "      <th>LotShape</th>\n",
       "      <th>LandContour</th>\n",
       "      <th>Utilities</th>\n",
       "      <th>LotConfig</th>\n",
       "      <th>...</th>\n",
       "      <th>EnclosedPorch</th>\n",
       "      <th>3SsnPorch</th>\n",
       "      <th>ScreenPorch</th>\n",
       "      <th>Fence</th>\n",
       "      <th>MiscFeature</th>\n",
       "      <th>MiscVal</th>\n",
       "      <th>MoSold</th>\n",
       "      <th>YrSold</th>\n",
       "      <th>SaleType</th>\n",
       "      <th>SaleCondition</th>\n",
       "    </tr>\n",
       "  </thead>\n",
       "  <tbody>\n",
       "    <tr>\n",
       "      <th>0</th>\n",
       "      <td>0.588235</td>\n",
       "      <td>0.75</td>\n",
       "      <td>0.171193</td>\n",
       "      <td>0.022209</td>\n",
       "      <td>1.0</td>\n",
       "      <td>0.0</td>\n",
       "      <td>0.0</td>\n",
       "      <td>1.0</td>\n",
       "      <td>0.0</td>\n",
       "      <td>1.00</td>\n",
       "      <td>...</td>\n",
       "      <td>0.000000</td>\n",
       "      <td>0.0</td>\n",
       "      <td>0.000000</td>\n",
       "      <td>0.666667</td>\n",
       "      <td>0.666667</td>\n",
       "      <td>0.0</td>\n",
       "      <td>0.090909</td>\n",
       "      <td>0.25</td>\n",
       "      <td>1.0</td>\n",
       "      <td>0.8</td>\n",
       "    </tr>\n",
       "    <tr>\n",
       "      <th>1</th>\n",
       "      <td>0.000000</td>\n",
       "      <td>0.75</td>\n",
       "      <td>0.253425</td>\n",
       "      <td>0.089159</td>\n",
       "      <td>1.0</td>\n",
       "      <td>0.0</td>\n",
       "      <td>0.0</td>\n",
       "      <td>1.0</td>\n",
       "      <td>0.0</td>\n",
       "      <td>1.00</td>\n",
       "      <td>...</td>\n",
       "      <td>0.000000</td>\n",
       "      <td>0.0</td>\n",
       "      <td>0.466667</td>\n",
       "      <td>0.666667</td>\n",
       "      <td>0.666667</td>\n",
       "      <td>0.0</td>\n",
       "      <td>0.818182</td>\n",
       "      <td>0.25</td>\n",
       "      <td>1.0</td>\n",
       "      <td>0.8</td>\n",
       "    </tr>\n",
       "    <tr>\n",
       "      <th>2</th>\n",
       "      <td>0.235294</td>\n",
       "      <td>0.75</td>\n",
       "      <td>0.243151</td>\n",
       "      <td>0.052767</td>\n",
       "      <td>1.0</td>\n",
       "      <td>0.0</td>\n",
       "      <td>0.0</td>\n",
       "      <td>1.0</td>\n",
       "      <td>0.0</td>\n",
       "      <td>0.25</td>\n",
       "      <td>...</td>\n",
       "      <td>0.000000</td>\n",
       "      <td>0.0</td>\n",
       "      <td>0.000000</td>\n",
       "      <td>0.666667</td>\n",
       "      <td>0.666667</td>\n",
       "      <td>0.0</td>\n",
       "      <td>0.454545</td>\n",
       "      <td>0.25</td>\n",
       "      <td>1.0</td>\n",
       "      <td>0.8</td>\n",
       "    </tr>\n",
       "    <tr>\n",
       "      <th>3</th>\n",
       "      <td>0.000000</td>\n",
       "      <td>0.75</td>\n",
       "      <td>0.287671</td>\n",
       "      <td>0.063975</td>\n",
       "      <td>1.0</td>\n",
       "      <td>0.0</td>\n",
       "      <td>0.0</td>\n",
       "      <td>1.0</td>\n",
       "      <td>0.0</td>\n",
       "      <td>1.00</td>\n",
       "      <td>...</td>\n",
       "      <td>0.000000</td>\n",
       "      <td>0.0</td>\n",
       "      <td>0.000000</td>\n",
       "      <td>0.666667</td>\n",
       "      <td>0.666667</td>\n",
       "      <td>0.0</td>\n",
       "      <td>0.000000</td>\n",
       "      <td>1.00</td>\n",
       "      <td>0.0</td>\n",
       "      <td>0.8</td>\n",
       "    </tr>\n",
       "    <tr>\n",
       "      <th>4</th>\n",
       "      <td>0.000000</td>\n",
       "      <td>0.75</td>\n",
       "      <td>0.171193</td>\n",
       "      <td>0.093872</td>\n",
       "      <td>1.0</td>\n",
       "      <td>0.0</td>\n",
       "      <td>0.0</td>\n",
       "      <td>1.0</td>\n",
       "      <td>0.0</td>\n",
       "      <td>0.50</td>\n",
       "      <td>...</td>\n",
       "      <td>0.000000</td>\n",
       "      <td>0.0</td>\n",
       "      <td>0.000000</td>\n",
       "      <td>0.666667</td>\n",
       "      <td>0.666667</td>\n",
       "      <td>0.0</td>\n",
       "      <td>0.454545</td>\n",
       "      <td>0.75</td>\n",
       "      <td>1.0</td>\n",
       "      <td>0.8</td>\n",
       "    </tr>\n",
       "    <tr>\n",
       "      <th>...</th>\n",
       "      <td>...</td>\n",
       "      <td>...</td>\n",
       "      <td>...</td>\n",
       "      <td>...</td>\n",
       "      <td>...</td>\n",
       "      <td>...</td>\n",
       "      <td>...</td>\n",
       "      <td>...</td>\n",
       "      <td>...</td>\n",
       "      <td>...</td>\n",
       "      <td>...</td>\n",
       "      <td>...</td>\n",
       "      <td>...</td>\n",
       "      <td>...</td>\n",
       "      <td>...</td>\n",
       "      <td>...</td>\n",
       "      <td>...</td>\n",
       "      <td>...</td>\n",
       "      <td>...</td>\n",
       "      <td>...</td>\n",
       "      <td>...</td>\n",
       "    </tr>\n",
       "    <tr>\n",
       "      <th>1163</th>\n",
       "      <td>0.000000</td>\n",
       "      <td>0.75</td>\n",
       "      <td>0.171193</td>\n",
       "      <td>0.052149</td>\n",
       "      <td>1.0</td>\n",
       "      <td>0.0</td>\n",
       "      <td>0.0</td>\n",
       "      <td>1.0</td>\n",
       "      <td>0.0</td>\n",
       "      <td>1.00</td>\n",
       "      <td>...</td>\n",
       "      <td>0.000000</td>\n",
       "      <td>0.0</td>\n",
       "      <td>0.000000</td>\n",
       "      <td>0.666667</td>\n",
       "      <td>0.666667</td>\n",
       "      <td>0.0</td>\n",
       "      <td>0.090909</td>\n",
       "      <td>1.00</td>\n",
       "      <td>1.0</td>\n",
       "      <td>0.8</td>\n",
       "    </tr>\n",
       "    <tr>\n",
       "      <th>1164</th>\n",
       "      <td>0.000000</td>\n",
       "      <td>0.75</td>\n",
       "      <td>0.157534</td>\n",
       "      <td>0.045770</td>\n",
       "      <td>1.0</td>\n",
       "      <td>0.0</td>\n",
       "      <td>1.0</td>\n",
       "      <td>1.0</td>\n",
       "      <td>0.0</td>\n",
       "      <td>1.00</td>\n",
       "      <td>...</td>\n",
       "      <td>0.000000</td>\n",
       "      <td>0.0</td>\n",
       "      <td>0.000000</td>\n",
       "      <td>0.666667</td>\n",
       "      <td>0.666667</td>\n",
       "      <td>0.0</td>\n",
       "      <td>0.363636</td>\n",
       "      <td>0.75</td>\n",
       "      <td>1.0</td>\n",
       "      <td>0.8</td>\n",
       "    </tr>\n",
       "    <tr>\n",
       "      <th>1165</th>\n",
       "      <td>0.823529</td>\n",
       "      <td>0.75</td>\n",
       "      <td>0.010274</td>\n",
       "      <td>0.005999</td>\n",
       "      <td>1.0</td>\n",
       "      <td>0.0</td>\n",
       "      <td>1.0</td>\n",
       "      <td>1.0</td>\n",
       "      <td>0.0</td>\n",
       "      <td>0.50</td>\n",
       "      <td>...</td>\n",
       "      <td>0.000000</td>\n",
       "      <td>0.0</td>\n",
       "      <td>0.000000</td>\n",
       "      <td>0.666667</td>\n",
       "      <td>0.666667</td>\n",
       "      <td>0.0</td>\n",
       "      <td>0.545455</td>\n",
       "      <td>0.75</td>\n",
       "      <td>1.0</td>\n",
       "      <td>0.8</td>\n",
       "    </tr>\n",
       "    <tr>\n",
       "      <th>1166</th>\n",
       "      <td>0.294118</td>\n",
       "      <td>0.00</td>\n",
       "      <td>0.099315</td>\n",
       "      <td>0.044074</td>\n",
       "      <td>1.0</td>\n",
       "      <td>1.0</td>\n",
       "      <td>1.0</td>\n",
       "      <td>1.0</td>\n",
       "      <td>0.0</td>\n",
       "      <td>1.00</td>\n",
       "      <td>...</td>\n",
       "      <td>0.311594</td>\n",
       "      <td>0.0</td>\n",
       "      <td>0.000000</td>\n",
       "      <td>0.666667</td>\n",
       "      <td>0.666667</td>\n",
       "      <td>0.0</td>\n",
       "      <td>0.545455</td>\n",
       "      <td>0.50</td>\n",
       "      <td>1.0</td>\n",
       "      <td>0.8</td>\n",
       "    </tr>\n",
       "    <tr>\n",
       "      <th>1167</th>\n",
       "      <td>0.235294</td>\n",
       "      <td>0.75</td>\n",
       "      <td>0.171193</td>\n",
       "      <td>0.040163</td>\n",
       "      <td>1.0</td>\n",
       "      <td>0.0</td>\n",
       "      <td>0.0</td>\n",
       "      <td>1.0</td>\n",
       "      <td>0.0</td>\n",
       "      <td>1.00</td>\n",
       "      <td>...</td>\n",
       "      <td>0.000000</td>\n",
       "      <td>0.0</td>\n",
       "      <td>0.000000</td>\n",
       "      <td>0.666667</td>\n",
       "      <td>0.666667</td>\n",
       "      <td>0.0</td>\n",
       "      <td>0.454545</td>\n",
       "      <td>0.00</td>\n",
       "      <td>1.0</td>\n",
       "      <td>0.8</td>\n",
       "    </tr>\n",
       "  </tbody>\n",
       "</table>\n",
       "<p>1168 rows × 77 columns</p>\n",
       "</div>"
      ],
      "text/plain": [
       "      MSSubClass  MSZoning  LotFrontage   LotArea  Street  Alley  LotShape  \\\n",
       "0       0.588235      0.75     0.171193  0.022209     1.0    0.0       0.0   \n",
       "1       0.000000      0.75     0.253425  0.089159     1.0    0.0       0.0   \n",
       "2       0.235294      0.75     0.243151  0.052767     1.0    0.0       0.0   \n",
       "3       0.000000      0.75     0.287671  0.063975     1.0    0.0       0.0   \n",
       "4       0.000000      0.75     0.171193  0.093872     1.0    0.0       0.0   \n",
       "...          ...       ...          ...       ...     ...    ...       ...   \n",
       "1163    0.000000      0.75     0.171193  0.052149     1.0    0.0       0.0   \n",
       "1164    0.000000      0.75     0.157534  0.045770     1.0    0.0       1.0   \n",
       "1165    0.823529      0.75     0.010274  0.005999     1.0    0.0       1.0   \n",
       "1166    0.294118      0.00     0.099315  0.044074     1.0    1.0       1.0   \n",
       "1167    0.235294      0.75     0.171193  0.040163     1.0    0.0       0.0   \n",
       "\n",
       "      LandContour  Utilities  LotConfig  ...  EnclosedPorch  3SsnPorch  \\\n",
       "0             1.0        0.0       1.00  ...       0.000000        0.0   \n",
       "1             1.0        0.0       1.00  ...       0.000000        0.0   \n",
       "2             1.0        0.0       0.25  ...       0.000000        0.0   \n",
       "3             1.0        0.0       1.00  ...       0.000000        0.0   \n",
       "4             1.0        0.0       0.50  ...       0.000000        0.0   \n",
       "...           ...        ...        ...  ...            ...        ...   \n",
       "1163          1.0        0.0       1.00  ...       0.000000        0.0   \n",
       "1164          1.0        0.0       1.00  ...       0.000000        0.0   \n",
       "1165          1.0        0.0       0.50  ...       0.000000        0.0   \n",
       "1166          1.0        0.0       1.00  ...       0.311594        0.0   \n",
       "1167          1.0        0.0       1.00  ...       0.000000        0.0   \n",
       "\n",
       "      ScreenPorch     Fence  MiscFeature  MiscVal    MoSold  YrSold  SaleType  \\\n",
       "0        0.000000  0.666667     0.666667      0.0  0.090909    0.25       1.0   \n",
       "1        0.466667  0.666667     0.666667      0.0  0.818182    0.25       1.0   \n",
       "2        0.000000  0.666667     0.666667      0.0  0.454545    0.25       1.0   \n",
       "3        0.000000  0.666667     0.666667      0.0  0.000000    1.00       0.0   \n",
       "4        0.000000  0.666667     0.666667      0.0  0.454545    0.75       1.0   \n",
       "...           ...       ...          ...      ...       ...     ...       ...   \n",
       "1163     0.000000  0.666667     0.666667      0.0  0.090909    1.00       1.0   \n",
       "1164     0.000000  0.666667     0.666667      0.0  0.363636    0.75       1.0   \n",
       "1165     0.000000  0.666667     0.666667      0.0  0.545455    0.75       1.0   \n",
       "1166     0.000000  0.666667     0.666667      0.0  0.545455    0.50       1.0   \n",
       "1167     0.000000  0.666667     0.666667      0.0  0.454545    0.00       1.0   \n",
       "\n",
       "      SaleCondition  \n",
       "0               0.8  \n",
       "1               0.8  \n",
       "2               0.8  \n",
       "3               0.8  \n",
       "4               0.8  \n",
       "...             ...  \n",
       "1163            0.8  \n",
       "1164            0.8  \n",
       "1165            0.8  \n",
       "1166            0.8  \n",
       "1167            0.8  \n",
       "\n",
       "[1168 rows x 77 columns]"
      ]
     },
     "execution_count": 76,
     "metadata": {},
     "output_type": "execute_result"
    }
   ],
   "source": [
    "from sklearn.preprocessing import MinMaxScaler\n",
    "sc=MinMaxScaler()\n",
    "dx=sc.fit_transform(x)\n",
    "dx=pd.DataFrame(dx,columns=x.columns)\n",
    "dx"
   ]
  },
  {
   "cell_type": "code",
   "execution_count": 77,
   "metadata": {},
   "outputs": [],
   "source": [
    "test = pd.DataFrame(test)"
   ]
  },
  {
   "cell_type": "code",
   "execution_count": 78,
   "metadata": {},
   "outputs": [
    {
     "data": {
      "text/html": [
       "<div>\n",
       "<style scoped>\n",
       "    .dataframe tbody tr th:only-of-type {\n",
       "        vertical-align: middle;\n",
       "    }\n",
       "\n",
       "    .dataframe tbody tr th {\n",
       "        vertical-align: top;\n",
       "    }\n",
       "\n",
       "    .dataframe thead th {\n",
       "        text-align: right;\n",
       "    }\n",
       "</style>\n",
       "<table border=\"1\" class=\"dataframe\">\n",
       "  <thead>\n",
       "    <tr style=\"text-align: right;\">\n",
       "      <th></th>\n",
       "      <th>MSSubClass</th>\n",
       "      <th>MSZoning</th>\n",
       "      <th>LotFrontage</th>\n",
       "      <th>LotArea</th>\n",
       "      <th>Street</th>\n",
       "      <th>Alley</th>\n",
       "      <th>LotShape</th>\n",
       "      <th>LandContour</th>\n",
       "      <th>Utilities</th>\n",
       "      <th>LotConfig</th>\n",
       "      <th>...</th>\n",
       "      <th>EnclosedPorch</th>\n",
       "      <th>3SsnPorch</th>\n",
       "      <th>ScreenPorch</th>\n",
       "      <th>Fence</th>\n",
       "      <th>MiscFeature</th>\n",
       "      <th>MiscVal</th>\n",
       "      <th>MoSold</th>\n",
       "      <th>YrSold</th>\n",
       "      <th>SaleType</th>\n",
       "      <th>SaleCondition</th>\n",
       "    </tr>\n",
       "  </thead>\n",
       "  <tbody>\n",
       "    <tr>\n",
       "      <th>0</th>\n",
       "      <td>0.000000</td>\n",
       "      <td>0.666667</td>\n",
       "      <td>0.503876</td>\n",
       "      <td>0.059101</td>\n",
       "      <td>1.0</td>\n",
       "      <td>0.0</td>\n",
       "      <td>0.000000</td>\n",
       "      <td>0.333333</td>\n",
       "      <td>0.0</td>\n",
       "      <td>0.00</td>\n",
       "      <td>...</td>\n",
       "      <td>0.000000</td>\n",
       "      <td>0.0</td>\n",
       "      <td>0.0</td>\n",
       "      <td>0.666667</td>\n",
       "      <td>1.0</td>\n",
       "      <td>0.0</td>\n",
       "      <td>0.545455</td>\n",
       "      <td>0.25</td>\n",
       "      <td>1.0</td>\n",
       "      <td>0.666667</td>\n",
       "    </tr>\n",
       "    <tr>\n",
       "      <th>1</th>\n",
       "      <td>0.588235</td>\n",
       "      <td>0.666667</td>\n",
       "      <td>0.352133</td>\n",
       "      <td>0.020064</td>\n",
       "      <td>1.0</td>\n",
       "      <td>0.0</td>\n",
       "      <td>0.000000</td>\n",
       "      <td>1.000000</td>\n",
       "      <td>0.0</td>\n",
       "      <td>0.25</td>\n",
       "      <td>...</td>\n",
       "      <td>0.000000</td>\n",
       "      <td>0.0</td>\n",
       "      <td>0.0</td>\n",
       "      <td>0.666667</td>\n",
       "      <td>1.0</td>\n",
       "      <td>0.0</td>\n",
       "      <td>0.636364</td>\n",
       "      <td>0.75</td>\n",
       "      <td>0.0</td>\n",
       "      <td>0.000000</td>\n",
       "    </tr>\n",
       "    <tr>\n",
       "      <th>2</th>\n",
       "      <td>0.000000</td>\n",
       "      <td>0.666667</td>\n",
       "      <td>0.352133</td>\n",
       "      <td>0.048250</td>\n",
       "      <td>1.0</td>\n",
       "      <td>0.0</td>\n",
       "      <td>1.000000</td>\n",
       "      <td>1.000000</td>\n",
       "      <td>0.0</td>\n",
       "      <td>1.00</td>\n",
       "      <td>...</td>\n",
       "      <td>0.000000</td>\n",
       "      <td>0.0</td>\n",
       "      <td>0.0</td>\n",
       "      <td>0.666667</td>\n",
       "      <td>1.0</td>\n",
       "      <td>0.0</td>\n",
       "      <td>0.454545</td>\n",
       "      <td>0.75</td>\n",
       "      <td>1.0</td>\n",
       "      <td>0.666667</td>\n",
       "    </tr>\n",
       "    <tr>\n",
       "      <th>3</th>\n",
       "      <td>0.294118</td>\n",
       "      <td>0.666667</td>\n",
       "      <td>0.418605</td>\n",
       "      <td>0.049008</td>\n",
       "      <td>1.0</td>\n",
       "      <td>0.0</td>\n",
       "      <td>1.000000</td>\n",
       "      <td>0.000000</td>\n",
       "      <td>0.0</td>\n",
       "      <td>1.00</td>\n",
       "      <td>...</td>\n",
       "      <td>0.000000</td>\n",
       "      <td>0.0</td>\n",
       "      <td>0.0</td>\n",
       "      <td>0.666667</td>\n",
       "      <td>1.0</td>\n",
       "      <td>0.0</td>\n",
       "      <td>0.545455</td>\n",
       "      <td>0.75</td>\n",
       "      <td>1.0</td>\n",
       "      <td>0.666667</td>\n",
       "    </tr>\n",
       "    <tr>\n",
       "      <th>4</th>\n",
       "      <td>0.235294</td>\n",
       "      <td>0.666667</td>\n",
       "      <td>0.503876</td>\n",
       "      <td>0.061164</td>\n",
       "      <td>1.0</td>\n",
       "      <td>0.0</td>\n",
       "      <td>0.000000</td>\n",
       "      <td>1.000000</td>\n",
       "      <td>0.0</td>\n",
       "      <td>0.25</td>\n",
       "      <td>...</td>\n",
       "      <td>0.000000</td>\n",
       "      <td>0.0</td>\n",
       "      <td>0.0</td>\n",
       "      <td>0.666667</td>\n",
       "      <td>1.0</td>\n",
       "      <td>0.0</td>\n",
       "      <td>0.000000</td>\n",
       "      <td>0.50</td>\n",
       "      <td>1.0</td>\n",
       "      <td>0.666667</td>\n",
       "    </tr>\n",
       "    <tr>\n",
       "      <th>...</th>\n",
       "      <td>...</td>\n",
       "      <td>...</td>\n",
       "      <td>...</td>\n",
       "      <td>...</td>\n",
       "      <td>...</td>\n",
       "      <td>...</td>\n",
       "      <td>...</td>\n",
       "      <td>...</td>\n",
       "      <td>...</td>\n",
       "      <td>...</td>\n",
       "      <td>...</td>\n",
       "      <td>...</td>\n",
       "      <td>...</td>\n",
       "      <td>...</td>\n",
       "      <td>...</td>\n",
       "      <td>...</td>\n",
       "      <td>...</td>\n",
       "      <td>...</td>\n",
       "      <td>...</td>\n",
       "      <td>...</td>\n",
       "      <td>...</td>\n",
       "    </tr>\n",
       "    <tr>\n",
       "      <th>287</th>\n",
       "      <td>0.000000</td>\n",
       "      <td>0.666667</td>\n",
       "      <td>0.441860</td>\n",
       "      <td>0.040614</td>\n",
       "      <td>1.0</td>\n",
       "      <td>0.0</td>\n",
       "      <td>1.000000</td>\n",
       "      <td>1.000000</td>\n",
       "      <td>0.0</td>\n",
       "      <td>1.00</td>\n",
       "      <td>...</td>\n",
       "      <td>0.000000</td>\n",
       "      <td>0.0</td>\n",
       "      <td>0.0</td>\n",
       "      <td>0.666667</td>\n",
       "      <td>1.0</td>\n",
       "      <td>0.0</td>\n",
       "      <td>0.818182</td>\n",
       "      <td>0.50</td>\n",
       "      <td>1.0</td>\n",
       "      <td>0.666667</td>\n",
       "    </tr>\n",
       "    <tr>\n",
       "      <th>288</th>\n",
       "      <td>0.000000</td>\n",
       "      <td>0.666667</td>\n",
       "      <td>0.279070</td>\n",
       "      <td>0.036118</td>\n",
       "      <td>1.0</td>\n",
       "      <td>0.0</td>\n",
       "      <td>0.333333</td>\n",
       "      <td>1.000000</td>\n",
       "      <td>0.0</td>\n",
       "      <td>1.00</td>\n",
       "      <td>...</td>\n",
       "      <td>0.000000</td>\n",
       "      <td>0.0</td>\n",
       "      <td>0.0</td>\n",
       "      <td>0.666667</td>\n",
       "      <td>1.0</td>\n",
       "      <td>0.0</td>\n",
       "      <td>0.090909</td>\n",
       "      <td>0.50</td>\n",
       "      <td>1.0</td>\n",
       "      <td>0.666667</td>\n",
       "    </tr>\n",
       "    <tr>\n",
       "      <th>289</th>\n",
       "      <td>0.000000</td>\n",
       "      <td>0.666667</td>\n",
       "      <td>0.352133</td>\n",
       "      <td>0.045457</td>\n",
       "      <td>1.0</td>\n",
       "      <td>0.0</td>\n",
       "      <td>0.000000</td>\n",
       "      <td>1.000000</td>\n",
       "      <td>0.0</td>\n",
       "      <td>0.25</td>\n",
       "      <td>...</td>\n",
       "      <td>0.000000</td>\n",
       "      <td>0.0</td>\n",
       "      <td>0.0</td>\n",
       "      <td>0.666667</td>\n",
       "      <td>1.0</td>\n",
       "      <td>0.2</td>\n",
       "      <td>0.181818</td>\n",
       "      <td>1.00</td>\n",
       "      <td>1.0</td>\n",
       "      <td>0.666667</td>\n",
       "    </tr>\n",
       "    <tr>\n",
       "      <th>290</th>\n",
       "      <td>0.176471</td>\n",
       "      <td>1.000000</td>\n",
       "      <td>0.224806</td>\n",
       "      <td>0.016255</td>\n",
       "      <td>1.0</td>\n",
       "      <td>0.0</td>\n",
       "      <td>1.000000</td>\n",
       "      <td>1.000000</td>\n",
       "      <td>0.0</td>\n",
       "      <td>0.00</td>\n",
       "      <td>...</td>\n",
       "      <td>0.109091</td>\n",
       "      <td>0.0</td>\n",
       "      <td>0.0</td>\n",
       "      <td>0.666667</td>\n",
       "      <td>1.0</td>\n",
       "      <td>0.0</td>\n",
       "      <td>0.818182</td>\n",
       "      <td>0.00</td>\n",
       "      <td>1.0</td>\n",
       "      <td>0.666667</td>\n",
       "    </tr>\n",
       "    <tr>\n",
       "      <th>291</th>\n",
       "      <td>0.823529</td>\n",
       "      <td>1.000000</td>\n",
       "      <td>0.000000</td>\n",
       "      <td>0.001998</td>\n",
       "      <td>1.0</td>\n",
       "      <td>0.0</td>\n",
       "      <td>1.000000</td>\n",
       "      <td>1.000000</td>\n",
       "      <td>0.0</td>\n",
       "      <td>1.00</td>\n",
       "      <td>...</td>\n",
       "      <td>0.000000</td>\n",
       "      <td>0.0</td>\n",
       "      <td>0.0</td>\n",
       "      <td>0.666667</td>\n",
       "      <td>1.0</td>\n",
       "      <td>0.0</td>\n",
       "      <td>0.454545</td>\n",
       "      <td>0.00</td>\n",
       "      <td>1.0</td>\n",
       "      <td>0.666667</td>\n",
       "    </tr>\n",
       "  </tbody>\n",
       "</table>\n",
       "<p>292 rows × 77 columns</p>\n",
       "</div>"
      ],
      "text/plain": [
       "     MSSubClass  MSZoning  LotFrontage   LotArea  Street  Alley  LotShape  \\\n",
       "0      0.000000  0.666667     0.503876  0.059101     1.0    0.0  0.000000   \n",
       "1      0.588235  0.666667     0.352133  0.020064     1.0    0.0  0.000000   \n",
       "2      0.000000  0.666667     0.352133  0.048250     1.0    0.0  1.000000   \n",
       "3      0.294118  0.666667     0.418605  0.049008     1.0    0.0  1.000000   \n",
       "4      0.235294  0.666667     0.503876  0.061164     1.0    0.0  0.000000   \n",
       "..          ...       ...          ...       ...     ...    ...       ...   \n",
       "287    0.000000  0.666667     0.441860  0.040614     1.0    0.0  1.000000   \n",
       "288    0.000000  0.666667     0.279070  0.036118     1.0    0.0  0.333333   \n",
       "289    0.000000  0.666667     0.352133  0.045457     1.0    0.0  0.000000   \n",
       "290    0.176471  1.000000     0.224806  0.016255     1.0    0.0  1.000000   \n",
       "291    0.823529  1.000000     0.000000  0.001998     1.0    0.0  1.000000   \n",
       "\n",
       "     LandContour  Utilities  LotConfig  ...  EnclosedPorch  3SsnPorch  \\\n",
       "0       0.333333        0.0       0.00  ...       0.000000        0.0   \n",
       "1       1.000000        0.0       0.25  ...       0.000000        0.0   \n",
       "2       1.000000        0.0       1.00  ...       0.000000        0.0   \n",
       "3       0.000000        0.0       1.00  ...       0.000000        0.0   \n",
       "4       1.000000        0.0       0.25  ...       0.000000        0.0   \n",
       "..           ...        ...        ...  ...            ...        ...   \n",
       "287     1.000000        0.0       1.00  ...       0.000000        0.0   \n",
       "288     1.000000        0.0       1.00  ...       0.000000        0.0   \n",
       "289     1.000000        0.0       0.25  ...       0.000000        0.0   \n",
       "290     1.000000        0.0       0.00  ...       0.109091        0.0   \n",
       "291     1.000000        0.0       1.00  ...       0.000000        0.0   \n",
       "\n",
       "     ScreenPorch     Fence  MiscFeature  MiscVal    MoSold  YrSold  SaleType  \\\n",
       "0            0.0  0.666667          1.0      0.0  0.545455    0.25       1.0   \n",
       "1            0.0  0.666667          1.0      0.0  0.636364    0.75       0.0   \n",
       "2            0.0  0.666667          1.0      0.0  0.454545    0.75       1.0   \n",
       "3            0.0  0.666667          1.0      0.0  0.545455    0.75       1.0   \n",
       "4            0.0  0.666667          1.0      0.0  0.000000    0.50       1.0   \n",
       "..           ...       ...          ...      ...       ...     ...       ...   \n",
       "287          0.0  0.666667          1.0      0.0  0.818182    0.50       1.0   \n",
       "288          0.0  0.666667          1.0      0.0  0.090909    0.50       1.0   \n",
       "289          0.0  0.666667          1.0      0.2  0.181818    1.00       1.0   \n",
       "290          0.0  0.666667          1.0      0.0  0.818182    0.00       1.0   \n",
       "291          0.0  0.666667          1.0      0.0  0.454545    0.00       1.0   \n",
       "\n",
       "     SaleCondition  \n",
       "0         0.666667  \n",
       "1         0.000000  \n",
       "2         0.666667  \n",
       "3         0.666667  \n",
       "4         0.666667  \n",
       "..             ...  \n",
       "287       0.666667  \n",
       "288       0.666667  \n",
       "289       0.666667  \n",
       "290       0.666667  \n",
       "291       0.666667  \n",
       "\n",
       "[292 rows x 77 columns]"
      ]
     },
     "execution_count": 78,
     "metadata": {},
     "output_type": "execute_result"
    }
   ],
   "source": [
    "from sklearn.preprocessing import MinMaxScaler\n",
    "sc=MinMaxScaler()\n",
    "td=sc.fit_transform(test)\n",
    "td=pd.DataFrame(td,columns=test.columns)\n",
    "td"
   ]
  },
  {
   "cell_type": "code",
   "execution_count": 79,
   "metadata": {},
   "outputs": [],
   "source": [
    "X=dx"
   ]
  },
  {
   "cell_type": "code",
   "execution_count": 80,
   "metadata": {},
   "outputs": [
    {
     "data": {
      "text/plain": [
       "((1168, 77), (1168,))"
      ]
     },
     "execution_count": 80,
     "metadata": {},
     "output_type": "execute_result"
    }
   ],
   "source": [
    "X.shape, y.shape"
   ]
  },
  {
   "cell_type": "markdown",
   "metadata": {},
   "source": [
    "# Finding best Random State for Train Test Split."
   ]
  },
  {
   "cell_type": "code",
   "execution_count": 81,
   "metadata": {},
   "outputs": [
    {
     "name": "stdout",
     "output_type": "stream",
     "text": [
      "Best accuracy is:  0.9216408052813344  on Random State  135\n"
     ]
    }
   ],
   "source": [
    "from sklearn.linear_model import LinearRegression\n",
    "from sklearn.metrics import mean_squared_error,r2_score,mean_absolute_error\n",
    "from sklearn.model_selection import train_test_split\n",
    "maxAccu = 0\n",
    "maxRS = 0\n",
    "for i in range(1,1000):\n",
    "    X_train,X_test,y_train,y_test = train_test_split(X,y,test_size = .20, random_state = i)\n",
    "    LR = LinearRegression()\n",
    "    LR.fit(X_train, y_train)\n",
    "    predf = LR.predict(X_test)\n",
    "    acc = r2_score(y_test, predf)\n",
    "    if acc>maxAccu:\n",
    "        maxAccu = acc\n",
    "        maxRS = i\n",
    "print(\"Best accuracy is: \", maxAccu, \" on Random State \", maxRS)"
   ]
  },
  {
   "cell_type": "code",
   "execution_count": null,
   "metadata": {},
   "outputs": [],
   "source": []
  },
  {
   "cell_type": "code",
   "execution_count": 82,
   "metadata": {},
   "outputs": [],
   "source": [
    "X_train,X_test,y_train,y_test=train_test_split(X,y,test_size=.20,random_state=135)"
   ]
  },
  {
   "cell_type": "code",
   "execution_count": 83,
   "metadata": {},
   "outputs": [
    {
     "name": "stdout",
     "output_type": "stream",
     "text": [
      "(934, 77) (934,) (234, 77) (234,)\n"
     ]
    }
   ],
   "source": [
    "#Checking shape of Data after spliting into train data and test data.\n",
    "print(X_train.shape,y_train.shape,X_test.shape,y_test.shape)"
   ]
  },
  {
   "cell_type": "markdown",
   "metadata": {},
   "source": [
    "# Linear Regression"
   ]
  },
  {
   "cell_type": "code",
   "execution_count": 84,
   "metadata": {},
   "outputs": [
    {
     "data": {
      "text/plain": [
       "LinearRegression()"
      ]
     },
     "execution_count": 84,
     "metadata": {},
     "output_type": "execute_result"
    }
   ],
   "source": [
    "lr=LinearRegression()\n",
    "lr.fit(X_train,y_train)"
   ]
  },
  {
   "cell_type": "code",
   "execution_count": 85,
   "metadata": {},
   "outputs": [
    {
     "data": {
      "text/plain": [
       "array([-3.41219484e+01, -3.70048647e+01, -9.04338393e+01,  1.11662599e+02,\n",
       "        7.12413275e+01,  1.47168694e+01, -7.04061062e+00,  1.34939330e+01,\n",
       "       -2.25099127e+14, -3.90625000e-01,  3.27148438e+01,  1.25781250e+00,\n",
       "        8.03320312e+00, -1.65271484e+02, -1.04218750e+01,  5.71289062e-01,\n",
       "        2.41480469e+02,  7.55156250e+01,  6.95861816e+01,  2.22714844e+01,\n",
       "       -2.48779297e-01,  2.82109375e+01, -3.64023438e+01,  3.18046875e+01,\n",
       "        4.88281250e+00, -1.59116211e+01, -1.68691406e+01,  4.63671875e+00,\n",
       "        1.62695312e+01, -1.90326233e+01,  7.51562500e+00, -8.07812500e+00,\n",
       "       -2.86293945e+01,  8.00571108e+14,  1.32167969e+01,  2.09078989e+14,\n",
       "        3.31349063e+14, -8.66670707e+14,  2.05629883e+01, -1.79218750e+01,\n",
       "        5.90429688e+00, -1.24609375e+01, -7.39104646e+13, -3.50218241e+13,\n",
       "       -9.70096048e+12,  9.00221997e+13,  8.47832031e+01, -1.48469238e+01,\n",
       "        7.85742188e+01,  1.83281250e+01,  3.19062500e+01, -9.53906250e+01,\n",
       "       -3.10722656e+01,  6.55937500e+01,  4.22382812e+01,  4.66484375e+01,\n",
       "        9.70312500e+00, -2.69062500e+01, -3.45156250e+01, -1.40703125e+01,\n",
       "        9.33251953e+01,  4.16640625e+01, -1.59653320e+01,  3.81523438e+01,\n",
       "        5.32031250e+00,  5.09042969e+01,  8.35839844e+00,  3.72539062e+01,\n",
       "        5.03388672e+01,  6.46416016e+01,  1.35332031e+01, -2.23160889e+02,\n",
       "       -1.30813477e+02,  1.45852051e+01, -3.44140625e+00,  4.22460938e+00,\n",
       "        2.99687500e+01])"
      ]
     },
     "execution_count": 85,
     "metadata": {},
     "output_type": "execute_result"
    }
   ],
   "source": [
    "lr.coef_"
   ]
  },
  {
   "cell_type": "code",
   "execution_count": 86,
   "metadata": {},
   "outputs": [
    {
     "data": {
      "text/plain": [
       "0.8674571542789126"
      ]
     },
     "execution_count": 86,
     "metadata": {},
     "output_type": "execute_result"
    }
   ],
   "source": [
    "lr.score(X_train,y_train)"
   ]
  },
  {
   "cell_type": "code",
   "execution_count": 87,
   "metadata": {},
   "outputs": [
    {
     "name": "stdout",
     "output_type": "stream",
     "text": [
      "Predicted Result Price: [ 159.18110526  161.50126234  279.65596725  423.62221152   57.67270414\n",
      "  449.77489733  293.47274714  108.37482921  146.06240554  130.4026417\n",
      "  -61.52242842  241.31244629  407.93053894  227.7810079   168.41752788\n",
      "  283.96736382  316.84287889  244.07468879  487.34274883  292.02406736\n",
      "  169.68485257  187.59377765  190.82659973  452.33399242   41.38838278\n",
      "  236.96271018  408.90524766  412.97978264   45.04376507  223.38413082\n",
      "  264.31853154   99.14557925  316.72308417  101.94840291  169.45276002\n",
      "  231.89702239  472.36718189  181.65552502  106.95946618  231.19014218\n",
      "  456.87014614  296.20713071  625.77283925 -101.57505202    6.43788728\n",
      "  445.70857139  186.01759367  637.34282487  396.35252433  147.56988381\n",
      "  216.17276043  146.17159047  301.69781742   17.92609682  427.02182456\n",
      "  231.06678415  407.14665074  109.89325762  536.09630527  526.47330222\n",
      "  169.83566477  238.76337987  303.12618918  197.51713223  270.81659958\n",
      "  295.45672308  393.65616345  414.06601278  331.44900104   22.61017682\n",
      "  116.78364433   19.65001624  598.11976367  206.61230898  202.48648348\n",
      "  513.68390668  309.65073508  490.73374396  559.32004153  219.78194581\n",
      "   59.83823238  238.21689914  146.24997749  118.29565177  423.73446951\n",
      "  -50.00318446   93.48379292  387.99571201  508.96481779  447.48651244\n",
      "  273.88299739   -9.20621618  271.75506366   92.87033902   73.43781955\n",
      "  453.7645484    47.69760226   36.95083515   66.19958397  495.42718994\n",
      "  389.68512517  145.35877413  179.78019785  433.88950429   65.2904622\n",
      "  145.92934553  366.01356716  445.68995035  220.09006301  371.02887839\n",
      "  383.16169245  172.08536685  296.42994573   60.7898312   369.20335208\n",
      "  139.39792129  223.39104862  388.00326366  450.37158504  335.24750456\n",
      "  503.98922833  123.21931405   14.51509708   99.49700474  305.32574109\n",
      "  166.24886453  366.74692482  195.59229593  179.27201428  362.11701815\n",
      "  499.32742231  469.63747763   35.49378033  261.2529863   213.69166139\n",
      "  123.25762973  223.01242953  354.03730812  292.28227966  318.87555835\n",
      "  272.58310076  379.00061561  -30.4034848   185.22176121  286.2553084\n",
      "  587.93657319  327.19137901  228.34715341   81.79143876  398.68178421\n",
      "  194.37652269  161.61500126   83.97966199  418.51749991  127.41346818\n",
      "  246.52702915  342.76704099  253.25395845  406.0304667   326.1688459\n",
      "   99.52811172  350.19493924  245.6953806   546.80172096  259.33794254\n",
      "  666.52883384  198.42837821  377.83930787  147.55076061  378.02940002\n",
      "  519.71141089  244.18808091  547.36519749  548.66987322  212.78749267\n",
      "  128.17167965  192.9064579   219.04323544  121.62004332  304.09539086\n",
      "  419.06683794   97.95746161  335.84664841   77.69819332  214.22291786\n",
      "  -67.77936202  181.48196057  352.78843767  216.76501272  441.82389742\n",
      "  171.89481155  232.23419408   62.5155642   504.93250931  420.80859466\n",
      "   21.97496611  209.27515549   87.0971249   520.07917672  440.11493942\n",
      "  418.87685341  299.08953533  130.45823192  202.56053475  163.73903139\n",
      "  439.89541376   14.15562147  330.21024967  150.7131422   325.84574919\n",
      "  336.70472495  270.58734914  529.3800997   285.49357244  358.76428061\n",
      "  129.04416733  -40.68678007  160.37164848  415.98902561  138.934652\n",
      "  144.72726999  206.08663649  222.37017969  556.29245774   91.50631199\n",
      "  331.12940013  106.02639337  308.35775508  213.28676961  179.46978494\n",
      "  506.60166573  357.14184095   43.84607654  146.70201297]\n",
      "error:\n",
      "Mean absolute error: 33.83684985386009\n",
      "Mean squared error: 2046.0331324001593\n",
      "Root Mean Squared error: 45.23309775374841\n",
      "0.9216408052813344\n"
     ]
    }
   ],
   "source": [
    "pred=lr.predict(X_test)\n",
    "print('Predicted Result Price:',pred)\n",
    "print('error:')\n",
    "print('Mean absolute error:',mean_absolute_error(y_test,pred))\n",
    "print('Mean squared error:',mean_squared_error(y_test,pred))\n",
    "print('Root Mean Squared error:',np.sqrt(mean_squared_error(y_test,pred)))\n",
    "print(r2_score(y_test,pred))"
   ]
  },
  {
   "cell_type": "markdown",
   "metadata": {},
   "source": [
    "# Random Forest Regressor"
   ]
  },
  {
   "cell_type": "code",
   "execution_count": 88,
   "metadata": {},
   "outputs": [
    {
     "name": "stdout",
     "output_type": "stream",
     "text": [
      "Predicted Result Price: [144.11 185.41 279.7  429.14  52.71 463.23 233.68 114.38 124.74  89.74\n",
      "  37.05 228.64 407.9  236.8  167.74 280.03 322.19 291.16 526.58 219.57\n",
      " 128.5  194.44 143.3  479.8   89.65 230.92 446.08 373.77  76.48 230.23\n",
      " 264.47 149.56 315.11  94.76 192.49 234.88 491.7  149.31  82.02 172.07\n",
      " 494.27 316.38 548.09  16.85  59.88 429.39 165.39 508.46 434.83 168.67\n",
      " 193.15  89.45 300.86 109.54 369.59 185.24 378.25 112.07 538.78 497.15\n",
      " 202.58 251.22 362.66 216.38 271.4  272.93 375.33 408.75 374.52  67.35\n",
      " 110.51  54.89 526.85 225.78 187.32 488.99 293.37 495.69 510.53 188.16\n",
      "  92.82 201.04 140.07 118.39 448.41  61.05 105.28 384.61 494.09 442.19\n",
      " 204.87  42.32 240.56  48.79  59.98 390.78  73.08 122.18  78.42 490.58\n",
      " 359.88  82.65 181.77 478.03  88.55 111.36 412.03 442.73 231.06 371.32\n",
      " 440.85 120.67 247.07  42.6  359.03 160.3  251.68 393.15 432.25 373.19\n",
      " 493.38 117.85  73.41  65.   346.27 194.96 422.15 153.21 168.63 394.97\n",
      " 530.63 488.47  72.88 296.75 199.04 136.98 245.92 371.56 265.22 290.53\n",
      " 220.9  395.59  56.63 169.64 276.27 556.58 314.75 136.74 138.16 341.16\n",
      " 155.51 150.37 114.86 472.82 238.22 252.76 394.68 236.1  485.93 372.42\n",
      " 202.06 377.16 260.37 462.37 216.1  554.32 240.25 444.79 129.13 329.09\n",
      " 473.91 222.98 519.64 531.88 209.78 145.25 223.43 192.19 132.24 281.25\n",
      " 462.82 124.25 388.03  79.27 152.2   60.26 183.54 312.86 240.22 439.02\n",
      " 135.38 251.25 129.59 503.56 447.36  70.95 247.74 137.34 517.38 433.23\n",
      " 467.47 289.17 118.06 190.61 142.12 447.05  67.81 327.59  93.81 320.05\n",
      " 290.78 246.57 465.37 246.87 359.12 123.4   58.83 147.76 452.3  179.42\n",
      " 157.37 183.27 163.64 526.28 135.22 304.79 134.78 289.04 184.34 222.01\n",
      " 474.48 400.31  77.76 136.56]\n",
      "error:\n",
      "Mean absolute error: 33.51217948717948\n",
      "Mean squared error: 1911.5811363247865\n",
      "Root Mean Squared error: 43.72163236116404\n",
      "0.9267900621403493\n"
     ]
    }
   ],
   "source": [
    "from sklearn.ensemble import RandomForestRegressor\n",
    "rf=RandomForestRegressor(n_estimators=100)\n",
    "rf.fit(X_train,y_train)\n",
    "rf.score(X_train,y_train)\n",
    "predrf=rf.predict(X_test)\n",
    "print('Predicted Result Price:',predrf)\n",
    "print('error:')\n",
    "print('Mean absolute error:',mean_absolute_error(y_test,predrf))\n",
    "print('Mean squared error:',mean_squared_error(y_test,predrf))\n",
    "print('Root Mean Squared error:',np.sqrt(mean_squared_error(y_test,predrf)))\n",
    "print(r2_score(y_test,predrf))"
   ]
  },
  {
   "cell_type": "markdown",
   "metadata": {},
   "source": [
    "# Decision Tree Regressor"
   ]
  },
  {
   "cell_type": "code",
   "execution_count": 89,
   "metadata": {},
   "outputs": [
    {
     "name": "stdout",
     "output_type": "stream",
     "text": [
      "Predicted Result Price: [ 92. 227. 327. 471.  16. 465. 273. 110.  84.  28.  21. 153. 396. 271.\n",
      " 144. 245. 337. 340. 562. 243. 175. 229. 205. 409.  97. 220. 543. 324.\n",
      "  12. 170. 311. 129. 366.  97. 277. 322. 447. 191.  76. 127. 498. 266.\n",
      " 551.   6.   5. 526. 119. 528. 406. 169. 222.  76. 311. 119. 448. 134.\n",
      " 396.  97. 573. 402. 218. 327. 359. 377. 252. 236. 408. 427. 278.  68.\n",
      " 120.  19. 447. 273. 277. 468. 271. 519. 440. 243. 122. 259. 168. 139.\n",
      " 476.  38.  57. 346. 543. 459. 134.  57. 278.  37.  30. 390.  95. 137.\n",
      "  76. 406. 265. 128. 240. 478.  21. 122. 435. 509. 280. 337. 351. 139.\n",
      " 276.  24. 346. 206. 231. 389. 525. 421. 532. 127.  38.  82. 390. 233.\n",
      " 468. 236. 206. 519. 510. 436.  60. 308. 164. 250. 271. 271. 227. 286.\n",
      " 281. 399.  23. 240. 294. 517. 327. 196. 124. 386. 110. 153. 131. 519.\n",
      " 362. 323. 411. 298. 510. 137. 191. 423. 258. 396.  42. 566. 251. 422.\n",
      " 131. 354. 468. 175. 447. 551. 169.  99. 213. 175. 100. 253. 526. 169.\n",
      " 376.  95. 103.  78. 209. 282. 153. 324. 122. 231.  76. 436. 417.  41.\n",
      " 286.  69. 515. 538. 535. 419. 118. 222. 135. 346. 152. 380. 109. 329.\n",
      " 281. 278. 196. 266. 297. 117.  82. 129. 506. 174. 222. 175. 250. 512.\n",
      "  69. 291. 135. 336. 171. 266. 496. 490.  57.  87.]\n",
      "error:\n",
      "Mean absolute error: 52.743589743589745\n",
      "Mean squared error: 5158.8376068376065\n",
      "Root Mean Squared error: 71.8250486030995\n",
      "0.8024262881403321\n"
     ]
    }
   ],
   "source": [
    "from sklearn.tree import DecisionTreeRegressor\n",
    "dtc=DecisionTreeRegressor()\n",
    "dtc.fit(X_train,y_train)\n",
    "dtc.score(X_train,y_train)\n",
    "pred=dtc.predict(X_test)\n",
    "print('Predicted Result Price:',pred)\n",
    "print('error:')\n",
    "print('Mean absolute error:',mean_absolute_error(y_test,pred))\n",
    "print('Mean squared error:',mean_squared_error(y_test,pred))\n",
    "print('Root Mean Squared error:',np.sqrt(mean_squared_error(y_test,pred)))\n",
    "print(r2_score(y_test,pred))"
   ]
  },
  {
   "cell_type": "markdown",
   "metadata": {},
   "source": [
    "# AdaBoost Regressor"
   ]
  },
  {
   "cell_type": "code",
   "execution_count": 90,
   "metadata": {},
   "outputs": [
    {
     "name": "stdout",
     "output_type": "stream",
     "text": [
      "Predicted Result Price: [156.95 182.51 275.4  421.01  48.61 457.33 243.73 120.61 109.18  88.05\n",
      "  33.01 228.12 394.36 250.21 159.91 279.67 327.55 292.42 520.83 215.22\n",
      " 145.93 190.67 159.02 469.71 103.82 237.2  450.34 372.99  71.53 248.97\n",
      " 269.36 147.83 319.22  97.16 198.59 239.57 495.05 141.01  82.17 165.93\n",
      " 487.04 319.66 544.18  18.71  66.11 442.86 173.18 508.71 431.62 169.3\n",
      " 195.4   94.86 291.73 129.19 361.15 173.09 383.69 107.68 539.56 491.22\n",
      " 196.93 279.97 360.74 187.38 283.51 287.14 367.22 403.28 380.51  73.15\n",
      " 102.86  55.52 522.35 220.19 191.72 494.46 285.69 494.08 503.13 181.88\n",
      "  81.53 197.3  144.07 117.89 456.6   59.13 104.49 386.76 498.46 441.72\n",
      " 190.27  44.01 239.14  52.66  67.14 378.4   71.83 116.56  78.93 480.22\n",
      " 360.36 106.48 171.67 473.23  88.52 103.51 427.74 440.48 227.25 371.29\n",
      " 440.72 124.77 239.9   43.75 365.61 157.3  247.1  394.56 435.34 379.86\n",
      " 487.45 120.47  67.61  65.38 348.12 192.   422.45 162.45 171.71 396.4\n",
      " 531.61 486.19  80.64 306.81 199.3  156.87 249.29 369.13 284.68 274.1\n",
      " 224.65 394.33  62.76 196.65 276.05 549.65 316.24 124.34 128.75 328.18\n",
      " 153.66 153.01 117.57 469.72 262.44 246.61 397.02 245.29 474.   386.36\n",
      " 212.74 377.53 272.64 465.19 211.3  555.5  245.59 425.62 139.73 324.8\n",
      " 464.8  228.89 517.56 530.82 202.92 145.68 227.1  190.89 139.77 287.61\n",
      " 450.03 122.9  386.34  70.86 157.39  62.04 180.45 320.54 251.43 437.35\n",
      " 137.79 259.06 124.28 498.46 456.09  71.17 253.43 139.89 512.7  430.05\n",
      " 469.57 299.89 117.85 190.73 149.86 433.04  64.8  340.89  89.3  330.75\n",
      " 284.61 248.14 469.85 239.73 363.25 122.27  61.7  127.89 431.27 183.91\n",
      " 152.83 182.79 172.69 528.47 125.35 290.06 141.37 288.06 188.24 225.9\n",
      " 497.65 392.67  76.25 134.73]\n",
      "error:\n",
      "Mean absolute error: 34.98188034188034\n",
      "Mean squared error: 2084.217106837607\n",
      "Root Mean Squared error: 45.65322668593762\n",
      "0.9201784313633878\n"
     ]
    }
   ],
   "source": [
    "from sklearn.ensemble import AdaBoostRegressor\n",
    "ad=RandomForestRegressor(n_estimators=100)\n",
    "ad.fit(X_train,y_train)\n",
    "ad.score(X_train,y_train)\n",
    "pred=ad.predict(X_test)\n",
    "print('Predicted Result Price:',pred)\n",
    "print('error:')\n",
    "print('Mean absolute error:',mean_absolute_error(y_test,pred))\n",
    "print('Mean squared error:',mean_squared_error(y_test,pred))\n",
    "print('Root Mean Squared error:',np.sqrt(mean_squared_error(y_test,pred)))\n",
    "print(r2_score(y_test,pred))"
   ]
  },
  {
   "cell_type": "markdown",
   "metadata": {},
   "source": [
    "# Cross Validation"
   ]
  },
  {
   "cell_type": "markdown",
   "metadata": {},
   "source": [
    "# Checking Cross Validation to remove over fiting and under fiting cases"
   ]
  },
  {
   "cell_type": "code",
   "execution_count": 91,
   "metadata": {},
   "outputs": [
    {
     "name": "stdout",
     "output_type": "stream",
     "text": [
      "Cross Validation Score of Linear Regression Model: 0.8295100588739001\n"
     ]
    }
   ],
   "source": [
    "from sklearn.model_selection import cross_val_score\n",
    "LR=cross_val_score(lr,X,y,cv=5)\n",
    "print(\"Cross Validation Score of Linear Regression Model:\", LR.mean())"
   ]
  },
  {
   "cell_type": "code",
   "execution_count": 92,
   "metadata": {},
   "outputs": [
    {
     "name": "stdout",
     "output_type": "stream",
     "text": [
      "Cross Validation Score of Rendom Forest Regressor Model: 0.8826122622980949\n"
     ]
    }
   ],
   "source": [
    "RFR=cross_val_score(rf,X,y,cv=5)\n",
    "print(\"Cross Validation Score of Rendom Forest Regressor Model:\", RFR.mean())"
   ]
  },
  {
   "cell_type": "code",
   "execution_count": 93,
   "metadata": {},
   "outputs": [
    {
     "name": "stdout",
     "output_type": "stream",
     "text": [
      "Cross Validation Score of Decision Tree Regressor Model: 0.7342100123210027\n"
     ]
    }
   ],
   "source": [
    "DTC=cross_val_score(dtc,X,y,cv=5)\n",
    "print(\"Cross Validation Score of Decision Tree Regressor Model:\", DTC.mean())"
   ]
  },
  {
   "cell_type": "code",
   "execution_count": 94,
   "metadata": {},
   "outputs": [
    {
     "name": "stdout",
     "output_type": "stream",
     "text": [
      "Cross Validation Score of AdaBoost Regression Model: 0.8831042723662718\n"
     ]
    }
   ],
   "source": [
    "AB=cross_val_score(ad,X,y,cv=5)\n",
    "print(\"Cross Validation Score of AdaBoost Regression Model:\", AB.mean())"
   ]
  },
  {
   "cell_type": "markdown",
   "metadata": {},
   "source": [
    "# Regularization Algorithms"
   ]
  },
  {
   "cell_type": "markdown",
   "metadata": {},
   "source": [
    "# Ridge Regression"
   ]
  },
  {
   "cell_type": "code",
   "execution_count": 95,
   "metadata": {},
   "outputs": [
    {
     "name": "stdout",
     "output_type": "stream",
     "text": [
      "Ridge_train_score: 0.8677489833428402\n",
      "Ridge_test_score: 0.9223666748573114\n"
     ]
    }
   ],
   "source": [
    "from sklearn.linear_model import Ridge\n",
    "ridge=Ridge(alpha=0.001)\n",
    "ridge.fit(X_train,y_train)\n",
    "Ridge_train_score = ridge.score(X_train,y_train)\n",
    "print('Ridge_train_score:',Ridge_train_score)\n",
    "Ridge_test_score = ridge.score(X_test,y_test)\n",
    "print('Ridge_test_score:',Ridge_test_score)"
   ]
  },
  {
   "cell_type": "markdown",
   "metadata": {},
   "source": [
    "# Lasso Regression"
   ]
  },
  {
   "cell_type": "code",
   "execution_count": 96,
   "metadata": {},
   "outputs": [
    {
     "name": "stdout",
     "output_type": "stream",
     "text": [
      "Lasso_train_score: 0.8677489833428402\n",
      "Lasso_test_score: 0.9223666748573114\n"
     ]
    }
   ],
   "source": [
    "from sklearn.linear_model import Lasso\n",
    "lasso=Ridge(alpha=0.001)\n",
    "lasso.fit(X_train,y_train)\n",
    "Lasso_train_score = lasso.score(X_train,y_train)\n",
    "print('Lasso_train_score:',Lasso_train_score)\n",
    "Lasso_test_score = lasso.score(X_test,y_test)\n",
    "print('Lasso_test_score:',Lasso_test_score)"
   ]
  },
  {
   "cell_type": "markdown",
   "metadata": {},
   "source": [
    "# ElasticNet Regression"
   ]
  },
  {
   "cell_type": "code",
   "execution_count": 97,
   "metadata": {},
   "outputs": [
    {
     "name": "stdout",
     "output_type": "stream",
     "text": [
      "0.8670161285683079\n",
      "0.924995612472369\n"
     ]
    }
   ],
   "source": [
    "from sklearn.linear_model import ElasticNet\n",
    "EL=ElasticNet(alpha=0.001)\n",
    "EL.fit(X_train,y_train)\n",
    "EL_train_score = EL.score(X_train,y_train)\n",
    "print(EL_train_score)\n",
    "EL_test_score = EL.score(X_test,y_test)\n",
    "print(EL_test_score)"
   ]
  },
  {
   "cell_type": "markdown",
   "metadata": {},
   "source": [
    "# Hyper parameter tuning with Lasso Regression"
   ]
  },
  {
   "cell_type": "code",
   "execution_count": null,
   "metadata": {},
   "outputs": [],
   "source": []
  },
  {
   "cell_type": "code",
   "execution_count": 98,
   "metadata": {},
   "outputs": [
    {
     "data": {
      "text/plain": [
       "LassoCV(alphas=[0.001, 0.01, 0.1, 1])"
      ]
     },
     "execution_count": 98,
     "metadata": {},
     "output_type": "execute_result"
    }
   ],
   "source": [
    "from sklearn.linear_model import LassoCV\n",
    "lasso_cv = LassoCV(alphas=[0.001, 0.01, 0.1, 1])\n",
    "lasso_cv.fit(X_train,y_train)"
   ]
  },
  {
   "cell_type": "code",
   "execution_count": 99,
   "metadata": {},
   "outputs": [
    {
     "data": {
      "text/plain": [
       "1.0"
      ]
     },
     "execution_count": 99,
     "metadata": {},
     "output_type": "execute_result"
    }
   ],
   "source": [
    "lasso_cv.alpha_"
   ]
  },
  {
   "cell_type": "code",
   "execution_count": 100,
   "metadata": {},
   "outputs": [
    {
     "data": {
      "text/plain": [
       "0.9057169717664049"
      ]
     },
     "execution_count": 100,
     "metadata": {},
     "output_type": "execute_result"
    }
   ],
   "source": [
    "lassopred = lasso_cv.predict(X_test)\n",
    "lasso_cv.score(X_train,y_train)\n",
    "lasso_cv.score(X_test,y_test)"
   ]
  },
  {
   "cell_type": "code",
   "execution_count": 101,
   "metadata": {},
   "outputs": [
    {
     "data": {
      "text/plain": [
       "array([166.99827512, 216.49738802, 280.75872428, 414.81677186,\n",
       "        88.00400919, 426.11633469, 301.10768798, 126.71218114,\n",
       "       157.12329776, 107.5486442 ,  -9.91119383, 259.38900967,\n",
       "       382.63234048, 236.32160971, 139.2911961 , 325.80204413,\n",
       "       330.37666996, 257.97663868, 485.94014813, 252.65911663,\n",
       "       214.62807947, 195.30895968, 182.49879986, 439.41213318,\n",
       "        84.81098174, 245.1739605 , 413.87366183, 397.53761361,\n",
       "        92.94741948, 221.56456307, 274.79074376, 104.09363072,\n",
       "       293.41707989,  91.74871209, 187.83102482, 259.65730081,\n",
       "       460.9510643 , 125.19434121, 111.2939459 , 229.56225163,\n",
       "       451.27909169, 276.1224435 , 582.23474014, -68.39226298,\n",
       "        61.68372675, 452.68457911, 177.27575413, 537.86404254,\n",
       "       390.12493442, 120.14625848, 265.80673301, 152.10184065,\n",
       "       298.80537973,  51.06607964, 342.03572114, 209.7589348 ,\n",
       "       397.09332043, 122.12349815, 509.09821006, 436.64869375,\n",
       "       170.068507  , 257.92677798, 322.0798728 , 191.19435526,\n",
       "       272.22978729, 331.88929351, 394.562722  , 396.48488491,\n",
       "       332.20643465,  40.06445669, 112.47930816,  22.2369132 ,\n",
       "       593.31096661, 196.82481903, 193.05269493, 487.4325408 ,\n",
       "       285.23153545, 438.20387574, 511.30739403, 219.02526135,\n",
       "        80.95118761, 226.19485705, 147.40876377, 119.59717886,\n",
       "       414.61114911,  -3.56690988, 104.60359474, 359.2590619 ,\n",
       "       472.82989388, 417.42342824, 246.2079557 ,   3.51656384,\n",
       "       255.23826777,  80.44262434, 102.06986354, 359.64929187,\n",
       "        57.11271229, 172.25744031,  91.06831817, 497.41172971,\n",
       "       389.00445023, 120.40801472, 181.33633092, 452.24649178,\n",
       "        71.01733509, 140.38048489, 376.83985734, 439.75884499,\n",
       "       236.98834644, 344.62304407, 376.21273556, 137.46427197,\n",
       "       311.85164916,  61.18903762, 379.99248092, 136.98651377,\n",
       "       248.00188411, 367.78332283, 435.60225614, 360.36270603,\n",
       "       505.32144843, 136.31758546,  69.17853667,  58.599041  ,\n",
       "       316.53424751, 194.06058706, 359.4901912 , 207.68441599,\n",
       "       188.36910589, 364.69207415, 492.89611764, 443.37418643,\n",
       "        27.76025995, 314.32935996, 184.27367922, 119.77608594,\n",
       "       227.42096505, 363.54605839, 304.90792058, 327.92079792,\n",
       "       291.25928428, 349.2733374 , -44.30538331, 198.47205591,\n",
       "       322.96682491, 575.69236465, 339.75049414, 131.10560375,\n",
       "        88.8718147 , 372.70029021, 197.93558898, 166.29925359,\n",
       "        90.74577163, 426.42190481, 222.60911116, 240.065584  ,\n",
       "       335.0159064 , 273.47395421, 420.06197609, 354.12111929,\n",
       "       140.42990381, 348.12459655, 274.94965995, 483.65243628,\n",
       "       226.35029067, 635.4594175 , 195.81841148, 370.49969999,\n",
       "       147.53468781, 398.04483311, 459.50321198, 231.32722759,\n",
       "       537.75392455, 511.44785612, 222.28528275, 146.88994195,\n",
       "       170.10411362, 229.65443342, 140.66501972, 303.52726494,\n",
       "       424.83655433, 112.51828178, 350.9601988 , 112.09735374,\n",
       "       160.52516514,  -7.86075305, 179.57854641, 353.40335617,\n",
       "       220.58562253, 428.02260959, 146.82783186, 238.49815324,\n",
       "        63.80326117, 485.8269776 , 429.79966718,  57.60558746,\n",
       "       228.07595009,  78.3681295 , 494.94377562, 404.06431826,\n",
       "       412.54715419, 250.90220581, 129.74693306, 254.68971609,\n",
       "       159.39965904, 403.88614927,  46.36042275, 317.91864256,\n",
       "       163.87616888, 319.1388809 , 324.62485055, 287.40984177,\n",
       "       466.2835214 , 304.0639339 , 371.70262145, 122.5680524 ,\n",
       "         5.52291069, 173.98971129, 387.37589909, 122.95206061,\n",
       "       164.44624883, 242.19245764, 187.89839345, 557.6857376 ,\n",
       "       119.92959841, 334.86600535, 152.50764901, 289.4989351 ,\n",
       "       216.19371727, 213.91964356, 533.76800203, 360.3414455 ,\n",
       "       108.40347383, 154.3353838 ])"
      ]
     },
     "execution_count": 101,
     "metadata": {},
     "output_type": "execute_result"
    }
   ],
   "source": [
    "lassopred"
   ]
  },
  {
   "cell_type": "markdown",
   "metadata": {},
   "source": [
    "# Prediction"
   ]
  },
  {
   "cell_type": "code",
   "execution_count": 102,
   "metadata": {},
   "outputs": [
    {
     "data": {
      "text/html": [
       "<div>\n",
       "<style scoped>\n",
       "    .dataframe tbody tr th:only-of-type {\n",
       "        vertical-align: middle;\n",
       "    }\n",
       "\n",
       "    .dataframe tbody tr th {\n",
       "        vertical-align: top;\n",
       "    }\n",
       "\n",
       "    .dataframe thead th {\n",
       "        text-align: right;\n",
       "    }\n",
       "</style>\n",
       "<table border=\"1\" class=\"dataframe\">\n",
       "  <thead>\n",
       "    <tr style=\"text-align: right;\">\n",
       "      <th></th>\n",
       "      <th>orginal</th>\n",
       "      <th>predicted</th>\n",
       "    </tr>\n",
       "  </thead>\n",
       "  <tbody>\n",
       "    <tr>\n",
       "      <th>0</th>\n",
       "      <td>109</td>\n",
       "      <td>166.998275</td>\n",
       "    </tr>\n",
       "    <tr>\n",
       "      <th>1</th>\n",
       "      <td>175</td>\n",
       "      <td>216.497388</td>\n",
       "    </tr>\n",
       "    <tr>\n",
       "      <th>2</th>\n",
       "      <td>271</td>\n",
       "      <td>280.758724</td>\n",
       "    </tr>\n",
       "    <tr>\n",
       "      <th>3</th>\n",
       "      <td>432</td>\n",
       "      <td>414.816772</td>\n",
       "    </tr>\n",
       "    <tr>\n",
       "      <th>4</th>\n",
       "      <td>38</td>\n",
       "      <td>88.004009</td>\n",
       "    </tr>\n",
       "    <tr>\n",
       "      <th>...</th>\n",
       "      <td>...</td>\n",
       "      <td>...</td>\n",
       "    </tr>\n",
       "    <tr>\n",
       "      <th>229</th>\n",
       "      <td>72</td>\n",
       "      <td>213.919644</td>\n",
       "    </tr>\n",
       "    <tr>\n",
       "      <th>230</th>\n",
       "      <td>518</td>\n",
       "      <td>533.768002</td>\n",
       "    </tr>\n",
       "    <tr>\n",
       "      <th>231</th>\n",
       "      <td>340</td>\n",
       "      <td>360.341446</td>\n",
       "    </tr>\n",
       "    <tr>\n",
       "      <th>232</th>\n",
       "      <td>34</td>\n",
       "      <td>108.403474</td>\n",
       "    </tr>\n",
       "    <tr>\n",
       "      <th>233</th>\n",
       "      <td>254</td>\n",
       "      <td>154.335384</td>\n",
       "    </tr>\n",
       "  </tbody>\n",
       "</table>\n",
       "<p>234 rows × 2 columns</p>\n",
       "</div>"
      ],
      "text/plain": [
       "     orginal   predicted\n",
       "0        109  166.998275\n",
       "1        175  216.497388\n",
       "2        271  280.758724\n",
       "3        432  414.816772\n",
       "4         38   88.004009\n",
       "..       ...         ...\n",
       "229       72  213.919644\n",
       "230      518  533.768002\n",
       "231      340  360.341446\n",
       "232       34  108.403474\n",
       "233      254  154.335384\n",
       "\n",
       "[234 rows x 2 columns]"
      ]
     },
     "execution_count": 102,
     "metadata": {},
     "output_type": "execute_result"
    }
   ],
   "source": [
    "import numpy as np\n",
    "a = np.array(y_test)\n",
    "predicted = np.array(lassopred)\n",
    "df_con = pd.DataFrame({\"orginal\":a, \"predicted\":predicted}, index = range(len(a)))\n",
    "df_con"
   ]
  },
  {
   "cell_type": "code",
   "execution_count": 103,
   "metadata": {},
   "outputs": [
    {
     "data": {
      "image/png": "[encoded data removed]",
      "text/plain": [
       "<Figure size 432x288 with 1 Axes>"
      ]
     },
     "metadata": {
      "needs_background": "light"
     },
     "output_type": "display_data"
    }
   ],
   "source": [
    "plt.scatter(x=y_test, y=lassopred, color = \"blue\")\n",
    "plt.plot(y_test,y_test, color='r')\n",
    "plt.xlabel(\"Actual\", fontsize =20)\n",
    "plt.ylabel(\"Predicted\", fontsize=20)\n",
    "plt.title(\"The predicted model plot\", fontsize=20)\n",
    "plt.show()"
   ]
  },
  {
   "cell_type": "markdown",
   "metadata": {},
   "source": [
    "# Saving Final Model"
   ]
  },
  {
   "cell_type": "code",
   "execution_count": 105,
   "metadata": {},
   "outputs": [
    {
     "data": {
      "text/plain": [
       "['Housing_Price_Prediction.obj']"
      ]
     },
     "execution_count": 105,
     "metadata": {},
     "output_type": "execute_result"
    }
   ],
   "source": [
    "import joblib\n",
    "joblib.dump(lasso,'Housing_Price_Prediction.obj')"
   ]
  },
  {
   "cell_type": "markdown",
   "metadata": {},
   "source": [
    "# End......."
   ]
  }
 ],
 "metadata": {
  "kernelspec": {
   "display_name": "Python 3",
   "language": "python",
   "name": "python3"
  },
  "language_info": {
   "codemirror_mode": {
    "name": "ipython",
    "version": 3
   },
   "file_extension": ".py",
   "mimetype": "text/x-python",
   "name": "python",
   "nbconvert_exporter": "python",
   "pygments_lexer": "ipython3",
   "version": "3.8.5"
  }
 },
 "nbformat": 4,
 "nbformat_minor": 4
}

{
 "cells": [
  {
   "cell_type": "markdown",
   "metadata": {},
   "source": [
    "# Importing Libraries"
   ]
  },
  {
   "cell_type": "code",
   "execution_count": 69,
   "metadata": {},
   "outputs": [],
   "source": [
    "import numpy as np\n",
    "import pandas as pd\n",
    "import matplotlib.pyplot as plt\n",
    "import seaborn as sns\n",
    "import warnings\n",
    "warnings.filterwarnings('ignore')"
   ]
  },
  {
   "cell_type": "markdown",
   "metadata": {},
   "source": [
    "# Data Importing"
   ]
  },
  {
   "cell_type": "code",
   "execution_count": 70,
   "metadata": {},
   "outputs": [
    {
     "data": {
      "text/html": [
       "<div>\n",
       "<style scoped>\n",
       "    .dataframe tbody tr th:only-of-type {\n",
       "        vertical-align: middle;\n",
       "    }\n",
       "\n",
       "    .dataframe tbody tr th {\n",
       "        vertical-align: top;\n",
       "    }\n",
       "\n",
       "    .dataframe thead th {\n",
       "        text-align: right;\n",
       "    }\n",
       "</style>\n",
       "<table border=\"1\" class=\"dataframe\">\n",
       "  <thead>\n",
       "    <tr style=\"text-align: right;\">\n",
       "      <th></th>\n",
       "      <th>customerID</th>\n",
       "      <th>gender</th>\n",
       "      <th>SeniorCitizen</th>\n",
       "      <th>Partner</th>\n",
       "      <th>Dependents</th>\n",
       "      <th>tenure</th>\n",
       "      <th>PhoneService</th>\n",
       "      <th>MultipleLines</th>\n",
       "      <th>InternetService</th>\n",
       "      <th>OnlineSecurity</th>\n",
       "      <th>...</th>\n",
       "      <th>DeviceProtection</th>\n",
       "      <th>TechSupport</th>\n",
       "      <th>StreamingTV</th>\n",
       "      <th>StreamingMovies</th>\n",
       "      <th>Contract</th>\n",
       "      <th>PaperlessBilling</th>\n",
       "      <th>PaymentMethod</th>\n",
       "      <th>MonthlyCharges</th>\n",
       "      <th>TotalCharges</th>\n",
       "      <th>Churn</th>\n",
       "    </tr>\n",
       "  </thead>\n",
       "  <tbody>\n",
       "    <tr>\n",
       "      <th>0</th>\n",
       "      <td>7590-VHVEG</td>\n",
       "      <td>Female</td>\n",
       "      <td>0</td>\n",
       "      <td>Yes</td>\n",
       "      <td>No</td>\n",
       "      <td>1</td>\n",
       "      <td>No</td>\n",
       "      <td>No phone service</td>\n",
       "      <td>DSL</td>\n",
       "      <td>No</td>\n",
       "      <td>...</td>\n",
       "      <td>No</td>\n",
       "      <td>No</td>\n",
       "      <td>No</td>\n",
       "      <td>No</td>\n",
       "      <td>Month-to-month</td>\n",
       "      <td>Yes</td>\n",
       "      <td>Electronic check</td>\n",
       "      <td>29.85</td>\n",
       "      <td>29.85</td>\n",
       "      <td>No</td>\n",
       "    </tr>\n",
       "    <tr>\n",
       "      <th>1</th>\n",
       "      <td>5575-GNVDE</td>\n",
       "      <td>Male</td>\n",
       "      <td>0</td>\n",
       "      <td>No</td>\n",
       "      <td>No</td>\n",
       "      <td>34</td>\n",
       "      <td>Yes</td>\n",
       "      <td>No</td>\n",
       "      <td>DSL</td>\n",
       "      <td>Yes</td>\n",
       "      <td>...</td>\n",
       "      <td>Yes</td>\n",
       "      <td>No</td>\n",
       "      <td>No</td>\n",
       "      <td>No</td>\n",
       "      <td>One year</td>\n",
       "      <td>No</td>\n",
       "      <td>Mailed check</td>\n",
       "      <td>56.95</td>\n",
       "      <td>1889.5</td>\n",
       "      <td>No</td>\n",
       "    </tr>\n",
       "    <tr>\n",
       "      <th>2</th>\n",
       "      <td>3668-QPYBK</td>\n",
       "      <td>Male</td>\n",
       "      <td>0</td>\n",
       "      <td>No</td>\n",
       "      <td>No</td>\n",
       "      <td>2</td>\n",
       "      <td>Yes</td>\n",
       "      <td>No</td>\n",
       "      <td>DSL</td>\n",
       "      <td>Yes</td>\n",
       "      <td>...</td>\n",
       "      <td>No</td>\n",
       "      <td>No</td>\n",
       "      <td>No</td>\n",
       "      <td>No</td>\n",
       "      <td>Month-to-month</td>\n",
       "      <td>Yes</td>\n",
       "      <td>Mailed check</td>\n",
       "      <td>53.85</td>\n",
       "      <td>108.15</td>\n",
       "      <td>Yes</td>\n",
       "    </tr>\n",
       "    <tr>\n",
       "      <th>3</th>\n",
       "      <td>7795-CFOCW</td>\n",
       "      <td>Male</td>\n",
       "      <td>0</td>\n",
       "      <td>No</td>\n",
       "      <td>No</td>\n",
       "      <td>45</td>\n",
       "      <td>No</td>\n",
       "      <td>No phone service</td>\n",
       "      <td>DSL</td>\n",
       "      <td>Yes</td>\n",
       "      <td>...</td>\n",
       "      <td>Yes</td>\n",
       "      <td>Yes</td>\n",
       "      <td>No</td>\n",
       "      <td>No</td>\n",
       "      <td>One year</td>\n",
       "      <td>No</td>\n",
       "      <td>Bank transfer (automatic)</td>\n",
       "      <td>42.30</td>\n",
       "      <td>1840.75</td>\n",
       "      <td>No</td>\n",
       "    </tr>\n",
       "    <tr>\n",
       "      <th>4</th>\n",
       "      <td>9237-HQITU</td>\n",
       "      <td>Female</td>\n",
       "      <td>0</td>\n",
       "      <td>No</td>\n",
       "      <td>No</td>\n",
       "      <td>2</td>\n",
       "      <td>Yes</td>\n",
       "      <td>No</td>\n",
       "      <td>Fiber optic</td>\n",
       "      <td>No</td>\n",
       "      <td>...</td>\n",
       "      <td>No</td>\n",
       "      <td>No</td>\n",
       "      <td>No</td>\n",
       "      <td>No</td>\n",
       "      <td>Month-to-month</td>\n",
       "      <td>Yes</td>\n",
       "      <td>Electronic check</td>\n",
       "      <td>70.70</td>\n",
       "      <td>151.65</td>\n",
       "      <td>Yes</td>\n",
       "    </tr>\n",
       "  </tbody>\n",
       "</table>\n",
       "<p>5 rows × 21 columns</p>\n",
       "</div>"
      ],
      "text/plain": [
       "   customerID  gender  SeniorCitizen Partner Dependents  tenure PhoneService  \\\n",
       "0  7590-VHVEG  Female              0     Yes         No       1           No   \n",
       "1  5575-GNVDE    Male              0      No         No      34          Yes   \n",
       "2  3668-QPYBK    Male              0      No         No       2          Yes   \n",
       "3  7795-CFOCW    Male              0      No         No      45           No   \n",
       "4  9237-HQITU  Female              0      No         No       2          Yes   \n",
       "\n",
       "      MultipleLines InternetService OnlineSecurity  ... DeviceProtection  \\\n",
       "0  No phone service             DSL             No  ...               No   \n",
       "1                No             DSL            Yes  ...              Yes   \n",
       "2                No             DSL            Yes  ...               No   \n",
       "3  No phone service             DSL            Yes  ...              Yes   \n",
       "4                No     Fiber optic             No  ...               No   \n",
       "\n",
       "  TechSupport StreamingTV StreamingMovies        Contract PaperlessBilling  \\\n",
       "0          No          No              No  Month-to-month              Yes   \n",
       "1          No          No              No        One year               No   \n",
       "2          No          No              No  Month-to-month              Yes   \n",
       "3         Yes          No              No        One year               No   \n",
       "4          No          No              No  Month-to-month              Yes   \n",
       "\n",
       "               PaymentMethod MonthlyCharges  TotalCharges Churn  \n",
       "0           Electronic check          29.85         29.85    No  \n",
       "1               Mailed check          56.95        1889.5    No  \n",
       "2               Mailed check          53.85        108.15   Yes  \n",
       "3  Bank transfer (automatic)          42.30       1840.75    No  \n",
       "4           Electronic check          70.70        151.65   Yes  \n",
       "\n",
       "[5 rows x 21 columns]"
      ]
     },
     "execution_count": 70,
     "metadata": {},
     "output_type": "execute_result"
    }
   ],
   "source": [
    "df=pd.read_csv('https://raw.githubusercontent.com/dsrscientist/DSData/master/Telecom_customer_churn.csv')\n",
    "df.head()"
   ]
  },
  {
   "cell_type": "markdown",
   "metadata": {},
   "source": [
    "# Exploratory Data Analysis"
   ]
  },
  {
   "cell_type": "code",
   "execution_count": 71,
   "metadata": {},
   "outputs": [
    {
     "data": {
      "text/plain": [
       "(7043, 21)"
      ]
     },
     "execution_count": 71,
     "metadata": {},
     "output_type": "execute_result"
    }
   ],
   "source": [
    "#checking shape of Data.\n",
    "df.shape"
   ]
  },
  {
   "cell_type": "code",
   "execution_count": 72,
   "metadata": {},
   "outputs": [
    {
     "data": {
      "text/plain": [
       "customerID           object\n",
       "gender               object\n",
       "SeniorCitizen         int64\n",
       "Partner              object\n",
       "Dependents           object\n",
       "tenure                int64\n",
       "PhoneService         object\n",
       "MultipleLines        object\n",
       "InternetService      object\n",
       "OnlineSecurity       object\n",
       "OnlineBackup         object\n",
       "DeviceProtection     object\n",
       "TechSupport          object\n",
       "StreamingTV          object\n",
       "StreamingMovies      object\n",
       "Contract             object\n",
       "PaperlessBilling     object\n",
       "PaymentMethod        object\n",
       "MonthlyCharges      float64\n",
       "TotalCharges         object\n",
       "Churn                object\n",
       "dtype: object"
      ]
     },
     "execution_count": 72,
     "metadata": {},
     "output_type": "execute_result"
    }
   ],
   "source": [
    "#Checking Data Types.\n",
    "df.dtypes"
   ]
  },
  {
   "cell_type": "code",
   "execution_count": 73,
   "metadata": {},
   "outputs": [
    {
     "name": "stdout",
     "output_type": "stream",
     "text": [
      "<class 'pandas.core.frame.DataFrame'>\n",
      "RangeIndex: 7043 entries, 0 to 7042\n",
      "Data columns (total 21 columns):\n",
      " #   Column            Non-Null Count  Dtype  \n",
      "---  ------            --------------  -----  \n",
      " 0   customerID        7043 non-null   object \n",
      " 1   gender            7043 non-null   object \n",
      " 2   SeniorCitizen     7043 non-null   int64  \n",
      " 3   Partner           7043 non-null   object \n",
      " 4   Dependents        7043 non-null   object \n",
      " 5   tenure            7043 non-null   int64  \n",
      " 6   PhoneService      7043 non-null   object \n",
      " 7   MultipleLines     7043 non-null   object \n",
      " 8   InternetService   7043 non-null   object \n",
      " 9   OnlineSecurity    7043 non-null   object \n",
      " 10  OnlineBackup      7043 non-null   object \n",
      " 11  DeviceProtection  7043 non-null   object \n",
      " 12  TechSupport       7043 non-null   object \n",
      " 13  StreamingTV       7043 non-null   object \n",
      " 14  StreamingMovies   7043 non-null   object \n",
      " 15  Contract          7043 non-null   object \n",
      " 16  PaperlessBilling  7043 non-null   object \n",
      " 17  PaymentMethod     7043 non-null   object \n",
      " 18  MonthlyCharges    7043 non-null   float64\n",
      " 19  TotalCharges      7043 non-null   object \n",
      " 20  Churn             7043 non-null   object \n",
      "dtypes: float64(1), int64(2), object(18)\n",
      "memory usage: 1.1+ MB\n"
     ]
    }
   ],
   "source": [
    "#Getting details from all features.\n",
    "df.info()"
   ]
  },
  {
   "cell_type": "code",
   "execution_count": 74,
   "metadata": {},
   "outputs": [
    {
     "data": {
      "text/plain": [
       "customerID          0\n",
       "gender              0\n",
       "SeniorCitizen       0\n",
       "Partner             0\n",
       "Dependents          0\n",
       "tenure              0\n",
       "PhoneService        0\n",
       "MultipleLines       0\n",
       "InternetService     0\n",
       "OnlineSecurity      0\n",
       "OnlineBackup        0\n",
       "DeviceProtection    0\n",
       "TechSupport         0\n",
       "StreamingTV         0\n",
       "StreamingMovies     0\n",
       "Contract            0\n",
       "PaperlessBilling    0\n",
       "PaymentMethod       0\n",
       "MonthlyCharges      0\n",
       "TotalCharges        0\n",
       "Churn               0\n",
       "dtype: int64"
      ]
     },
     "execution_count": 74,
     "metadata": {},
     "output_type": "execute_result"
    }
   ],
   "source": [
    "df.isnull().sum()"
   ]
  },
  {
   "cell_type": "markdown",
   "metadata": {},
   "source": [
    "No Missing values are present."
   ]
  },
  {
   "cell_type": "code",
   "execution_count": 75,
   "metadata": {},
   "outputs": [
    {
     "data": {
      "text/html": [
       "<div>\n",
       "<style scoped>\n",
       "    .dataframe tbody tr th:only-of-type {\n",
       "        vertical-align: middle;\n",
       "    }\n",
       "\n",
       "    .dataframe tbody tr th {\n",
       "        vertical-align: top;\n",
       "    }\n",
       "\n",
       "    .dataframe thead th {\n",
       "        text-align: right;\n",
       "    }\n",
       "</style>\n",
       "<table border=\"1\" class=\"dataframe\">\n",
       "  <thead>\n",
       "    <tr style=\"text-align: right;\">\n",
       "      <th></th>\n",
       "      <th>unique values</th>\n",
       "      <th>number of unique values</th>\n",
       "    </tr>\n",
       "  </thead>\n",
       "  <tbody>\n",
       "    <tr>\n",
       "      <th>customerID</th>\n",
       "      <td>[7590-VHVEG, 5575-GNVDE, 3668-QPYBK, 7795-CFOC...</td>\n",
       "      <td>7043</td>\n",
       "    </tr>\n",
       "    <tr>\n",
       "      <th>gender</th>\n",
       "      <td>[Female, Male]</td>\n",
       "      <td>2</td>\n",
       "    </tr>\n",
       "    <tr>\n",
       "      <th>SeniorCitizen</th>\n",
       "      <td>[0, 1]</td>\n",
       "      <td>2</td>\n",
       "    </tr>\n",
       "    <tr>\n",
       "      <th>Partner</th>\n",
       "      <td>[Yes, No]</td>\n",
       "      <td>2</td>\n",
       "    </tr>\n",
       "    <tr>\n",
       "      <th>Dependents</th>\n",
       "      <td>[No, Yes]</td>\n",
       "      <td>2</td>\n",
       "    </tr>\n",
       "    <tr>\n",
       "      <th>tenure</th>\n",
       "      <td>[1, 34, 2, 45, 8, 22, 10, 28, 62, 13, 16, 58, ...</td>\n",
       "      <td>73</td>\n",
       "    </tr>\n",
       "    <tr>\n",
       "      <th>PhoneService</th>\n",
       "      <td>[No, Yes]</td>\n",
       "      <td>2</td>\n",
       "    </tr>\n",
       "    <tr>\n",
       "      <th>MultipleLines</th>\n",
       "      <td>[No phone service, No, Yes]</td>\n",
       "      <td>3</td>\n",
       "    </tr>\n",
       "    <tr>\n",
       "      <th>InternetService</th>\n",
       "      <td>[DSL, Fiber optic, No]</td>\n",
       "      <td>3</td>\n",
       "    </tr>\n",
       "    <tr>\n",
       "      <th>OnlineSecurity</th>\n",
       "      <td>[No, Yes, No internet service]</td>\n",
       "      <td>3</td>\n",
       "    </tr>\n",
       "    <tr>\n",
       "      <th>OnlineBackup</th>\n",
       "      <td>[Yes, No, No internet service]</td>\n",
       "      <td>3</td>\n",
       "    </tr>\n",
       "    <tr>\n",
       "      <th>DeviceProtection</th>\n",
       "      <td>[No, Yes, No internet service]</td>\n",
       "      <td>3</td>\n",
       "    </tr>\n",
       "    <tr>\n",
       "      <th>TechSupport</th>\n",
       "      <td>[No, Yes, No internet service]</td>\n",
       "      <td>3</td>\n",
       "    </tr>\n",
       "    <tr>\n",
       "      <th>StreamingTV</th>\n",
       "      <td>[No, Yes, No internet service]</td>\n",
       "      <td>3</td>\n",
       "    </tr>\n",
       "    <tr>\n",
       "      <th>StreamingMovies</th>\n",
       "      <td>[No, Yes, No internet service]</td>\n",
       "      <td>3</td>\n",
       "    </tr>\n",
       "    <tr>\n",
       "      <th>Contract</th>\n",
       "      <td>[Month-to-month, One year, Two year]</td>\n",
       "      <td>3</td>\n",
       "    </tr>\n",
       "    <tr>\n",
       "      <th>PaperlessBilling</th>\n",
       "      <td>[Yes, No]</td>\n",
       "      <td>2</td>\n",
       "    </tr>\n",
       "    <tr>\n",
       "      <th>PaymentMethod</th>\n",
       "      <td>[Electronic check, Mailed check, Bank transfer...</td>\n",
       "      <td>4</td>\n",
       "    </tr>\n",
       "    <tr>\n",
       "      <th>MonthlyCharges</th>\n",
       "      <td>[29.85, 56.95, 53.85, 42.3, 70.7, 99.65, 89.1,...</td>\n",
       "      <td>1585</td>\n",
       "    </tr>\n",
       "    <tr>\n",
       "      <th>TotalCharges</th>\n",
       "      <td>[29.85, 1889.5, 108.15, 1840.75, 151.65, 820.5...</td>\n",
       "      <td>6531</td>\n",
       "    </tr>\n",
       "    <tr>\n",
       "      <th>Churn</th>\n",
       "      <td>[No, Yes]</td>\n",
       "      <td>2</td>\n",
       "    </tr>\n",
       "  </tbody>\n",
       "</table>\n",
       "</div>"
      ],
      "text/plain": [
       "                                                      unique values  \\\n",
       "customerID        [7590-VHVEG, 5575-GNVDE, 3668-QPYBK, 7795-CFOC...   \n",
       "gender                                               [Female, Male]   \n",
       "SeniorCitizen                                                [0, 1]   \n",
       "Partner                                                   [Yes, No]   \n",
       "Dependents                                                [No, Yes]   \n",
       "tenure            [1, 34, 2, 45, 8, 22, 10, 28, 62, 13, 16, 58, ...   \n",
       "PhoneService                                              [No, Yes]   \n",
       "MultipleLines                           [No phone service, No, Yes]   \n",
       "InternetService                              [DSL, Fiber optic, No]   \n",
       "OnlineSecurity                       [No, Yes, No internet service]   \n",
       "OnlineBackup                         [Yes, No, No internet service]   \n",
       "DeviceProtection                     [No, Yes, No internet service]   \n",
       "TechSupport                          [No, Yes, No internet service]   \n",
       "StreamingTV                          [No, Yes, No internet service]   \n",
       "StreamingMovies                      [No, Yes, No internet service]   \n",
       "Contract                       [Month-to-month, One year, Two year]   \n",
       "PaperlessBilling                                          [Yes, No]   \n",
       "PaymentMethod     [Electronic check, Mailed check, Bank transfer...   \n",
       "MonthlyCharges    [29.85, 56.95, 53.85, 42.3, 70.7, 99.65, 89.1,...   \n",
       "TotalCharges      [29.85, 1889.5, 108.15, 1840.75, 151.65, 820.5...   \n",
       "Churn                                                     [No, Yes]   \n",
       "\n",
       "                  number of unique values  \n",
       "customerID                           7043  \n",
       "gender                                  2  \n",
       "SeniorCitizen                           2  \n",
       "Partner                                 2  \n",
       "Dependents                              2  \n",
       "tenure                                 73  \n",
       "PhoneService                            2  \n",
       "MultipleLines                           3  \n",
       "InternetService                         3  \n",
       "OnlineSecurity                          3  \n",
       "OnlineBackup                            3  \n",
       "DeviceProtection                        3  \n",
       "TechSupport                             3  \n",
       "StreamingTV                             3  \n",
       "StreamingMovies                         3  \n",
       "Contract                                3  \n",
       "PaperlessBilling                        2  \n",
       "PaymentMethod                           4  \n",
       "MonthlyCharges                       1585  \n",
       "TotalCharges                         6531  \n",
       "Churn                                   2  "
      ]
     },
     "execution_count": 75,
     "metadata": {},
     "output_type": "execute_result"
    }
   ],
   "source": [
    "pd.concat({'unique values': df.apply(pd.unique), 'number of unique values': df.nunique()}, axis=1)"
   ]
  },
  {
   "cell_type": "markdown",
   "metadata": {},
   "source": [
    "Here, We are checking unique values of all features in Data and How many columns are categorical."
   ]
  },
  {
   "cell_type": "code",
   "execution_count": null,
   "metadata": {},
   "outputs": [],
   "source": [
    "#Droping column as we are getting it is not related with prediction.\n",
    "df.drop(['customerID'],axis=1,inplace=True)"
   ]
  },
  {
   "cell_type": "markdown",
   "metadata": {},
   "source": [
    "# Statistical Summary"
   ]
  },
  {
   "cell_type": "code",
   "execution_count": 77,
   "metadata": {},
   "outputs": [
    {
     "data": {
      "text/html": [
       "<div>\n",
       "<style scoped>\n",
       "    .dataframe tbody tr th:only-of-type {\n",
       "        vertical-align: middle;\n",
       "    }\n",
       "\n",
       "    .dataframe tbody tr th {\n",
       "        vertical-align: top;\n",
       "    }\n",
       "\n",
       "    .dataframe thead th {\n",
       "        text-align: right;\n",
       "    }\n",
       "</style>\n",
       "<table border=\"1\" class=\"dataframe\">\n",
       "  <thead>\n",
       "    <tr style=\"text-align: right;\">\n",
       "      <th></th>\n",
       "      <th>SeniorCitizen</th>\n",
       "      <th>tenure</th>\n",
       "      <th>MonthlyCharges</th>\n",
       "    </tr>\n",
       "  </thead>\n",
       "  <tbody>\n",
       "    <tr>\n",
       "      <th>count</th>\n",
       "      <td>7043.000000</td>\n",
       "      <td>7043.000000</td>\n",
       "      <td>7043.000000</td>\n",
       "    </tr>\n",
       "    <tr>\n",
       "      <th>mean</th>\n",
       "      <td>0.162147</td>\n",
       "      <td>32.371149</td>\n",
       "      <td>64.761692</td>\n",
       "    </tr>\n",
       "    <tr>\n",
       "      <th>std</th>\n",
       "      <td>0.368612</td>\n",
       "      <td>24.559481</td>\n",
       "      <td>30.090047</td>\n",
       "    </tr>\n",
       "    <tr>\n",
       "      <th>min</th>\n",
       "      <td>0.000000</td>\n",
       "      <td>0.000000</td>\n",
       "      <td>18.250000</td>\n",
       "    </tr>\n",
       "    <tr>\n",
       "      <th>25%</th>\n",
       "      <td>0.000000</td>\n",
       "      <td>9.000000</td>\n",
       "      <td>35.500000</td>\n",
       "    </tr>\n",
       "    <tr>\n",
       "      <th>50%</th>\n",
       "      <td>0.000000</td>\n",
       "      <td>29.000000</td>\n",
       "      <td>70.350000</td>\n",
       "    </tr>\n",
       "    <tr>\n",
       "      <th>75%</th>\n",
       "      <td>0.000000</td>\n",
       "      <td>55.000000</td>\n",
       "      <td>89.850000</td>\n",
       "    </tr>\n",
       "    <tr>\n",
       "      <th>max</th>\n",
       "      <td>1.000000</td>\n",
       "      <td>72.000000</td>\n",
       "      <td>118.750000</td>\n",
       "    </tr>\n",
       "  </tbody>\n",
       "</table>\n",
       "</div>"
      ],
      "text/plain": [
       "       SeniorCitizen       tenure  MonthlyCharges\n",
       "count    7043.000000  7043.000000     7043.000000\n",
       "mean        0.162147    32.371149       64.761692\n",
       "std         0.368612    24.559481       30.090047\n",
       "min         0.000000     0.000000       18.250000\n",
       "25%         0.000000     9.000000       35.500000\n",
       "50%         0.000000    29.000000       70.350000\n",
       "75%         0.000000    55.000000       89.850000\n",
       "max         1.000000    72.000000      118.750000"
      ]
     },
     "execution_count": 77,
     "metadata": {},
     "output_type": "execute_result"
    }
   ],
   "source": [
    "df.describe()"
   ]
  },
  {
   "cell_type": "markdown",
   "metadata": {},
   "source": [
    "Here we are analysing the all numerical features statistically and as we are seeing here all numerical features describing with count,mean,std,minm,25%,50%, 75% and max."
   ]
  },
  {
   "cell_type": "markdown",
   "metadata": {},
   "source": [
    "# Data Visualization"
   ]
  },
  {
   "cell_type": "code",
   "execution_count": 78,
   "metadata": {},
   "outputs": [
    {
     "data": {
      "text/plain": [
       "<AxesSubplot:>"
      ]
     },
     "execution_count": 78,
     "metadata": {},
     "output_type": "execute_result"
    },
    {
     "data": {
      "image/png": "[encoded data removed]",
      "text/plain": [
       "<Figure size 432x288 with 2 Axes>"
      ]
     },
     "metadata": {
      "needs_background": "light"
     },
     "output_type": "display_data"
    },
    {
     "data": {
      "image/png": "[encoded data removed]",
      "text/plain": [
       "<Figure size 720x576 with 2 Axes>"
      ]
     },
     "metadata": {
      "needs_background": "light"
     },
     "output_type": "display_data"
    }
   ],
   "source": [
    "dfcor=df.corr()\n",
    "dfcor\n",
    "sns.heatmap(dfcor)\n",
    "plt.figure(figsize=(10,8))\n",
    "sns.heatmap(dfcor,cmap='Reds',annot=True)"
   ]
  },
  {
   "cell_type": "markdown",
   "metadata": {},
   "source": [
    "# Univariate Analysis"
   ]
  },
  {
   "cell_type": "code",
   "execution_count": 80,
   "metadata": {},
   "outputs": [
    {
     "data": {
      "text/plain": [
       "Text(0.5, 1.0, 'gender')"
      ]
     },
     "execution_count": 80,
     "metadata": {},
     "output_type": "execute_result"
    },
    {
     "data": {
      "image/png": "[encoded data removed]",
      "text/plain": [
       "<Figure size 576x360 with 1 Axes>"
      ]
     },
     "metadata": {
      "needs_background": "light"
     },
     "output_type": "display_data"
    }
   ],
   "source": [
    "fig_size = (8,5)\n",
    "fig, ax = plt.subplots(figsize = fig_size)\n",
    "sns.countplot(data=df, x=\"gender\")\n",
    "plt.xticks(rotation=90)\n",
    "plt.title(\"gender\", fontsize = 20)"
   ]
  },
  {
   "cell_type": "markdown",
   "metadata": {},
   "source": [
    "Here we are ploting Gender column and as we getting male and female both are equal."
   ]
  },
  {
   "cell_type": "code",
   "execution_count": 81,
   "metadata": {},
   "outputs": [
    {
     "data": {
      "text/plain": [
       "Text(0.5, 1.0, 'SeniorCitizen')"
      ]
     },
     "execution_count": 81,
     "metadata": {},
     "output_type": "execute_result"
    },
    {
     "data": {
      "image/png": "[encoded data removed]",
      "text/plain": [
       "<Figure size 576x360 with 1 Axes>"
      ]
     },
     "metadata": {
      "needs_background": "light"
     },
     "output_type": "display_data"
    }
   ],
   "source": [
    "fig_size = (8,5)\n",
    "fig, ax = plt.subplots(figsize = fig_size)\n",
    "sns.countplot(data=df, x=\"SeniorCitizen\")\n",
    "plt.xticks(rotation=90)\n",
    "plt.title(\"SeniorCitizen\", fontsize = 20)"
   ]
  },
  {
   "cell_type": "markdown",
   "metadata": {},
   "source": [
    "Here 0 is very high then 1"
   ]
  },
  {
   "cell_type": "code",
   "execution_count": 82,
   "metadata": {},
   "outputs": [
    {
     "data": {
      "text/plain": [
       "Text(0.5, 1.0, 'Partner')"
      ]
     },
     "execution_count": 82,
     "metadata": {},
     "output_type": "execute_result"
    },
    {
     "data": {
      "image/png": "[encoded data removed]",
      "text/plain": [
       "<Figure size 576x360 with 1 Axes>"
      ]
     },
     "metadata": {
      "needs_background": "light"
     },
     "output_type": "display_data"
    }
   ],
   "source": [
    "fig_size = (8,5)\n",
    "fig, ax = plt.subplots(figsize = fig_size)\n",
    "sns.countplot(data=df, x=\"Partner\")\n",
    "plt.xticks(rotation=90)\n",
    "plt.title(\"Partner\", fontsize = 20)"
   ]
  },
  {
   "cell_type": "markdown",
   "metadata": {},
   "source": [
    "Both are almost equal Yes and No."
   ]
  },
  {
   "cell_type": "code",
   "execution_count": 83,
   "metadata": {},
   "outputs": [
    {
     "data": {
      "text/plain": [
       "Text(0.5, 1.0, 'Dependents')"
      ]
     },
     "execution_count": 83,
     "metadata": {},
     "output_type": "execute_result"
    },
    {
     "data": {
      "image/png": "[encoded data removed]",
      "text/plain": [
       "<Figure size 576x360 with 1 Axes>"
      ]
     },
     "metadata": {
      "needs_background": "light"
     },
     "output_type": "display_data"
    }
   ],
   "source": [
    "fig_size = (8,5)\n",
    "fig, ax = plt.subplots(figsize = fig_size)\n",
    "sns.countplot(data=df, x=\"Dependents\")\n",
    "plt.xticks(rotation=90)\n",
    "plt.title(\"Dependents\", fontsize = 20)"
   ]
  },
  {
   "cell_type": "markdown",
   "metadata": {},
   "source": [
    "the maximum have no dependents."
   ]
  },
  {
   "cell_type": "code",
   "execution_count": 84,
   "metadata": {},
   "outputs": [
    {
     "data": {
      "text/plain": [
       "Text(0.5, 1.0, 'tenure')"
      ]
     },
     "execution_count": 84,
     "metadata": {},
     "output_type": "execute_result"
    },
    {
     "data": {
      "image/png": "[encoded data removed]",
      "text/plain": [
       "<Figure size 1080x720 with 1 Axes>"
      ]
     },
     "metadata": {
      "needs_background": "light"
     },
     "output_type": "display_data"
    }
   ],
   "source": [
    "fig_size = (15,10)\n",
    "fig, ax = plt.subplots(figsize = fig_size)\n",
    "sns.countplot(data=df, x=\"tenure\")\n",
    "plt.xticks(rotation=90)\n",
    "plt.title(\"tenure\", fontsize = 20)"
   ]
  },
  {
   "cell_type": "markdown",
   "metadata": {},
   "source": [
    "The 1 and 2 no. are highest counts "
   ]
  },
  {
   "cell_type": "code",
   "execution_count": 85,
   "metadata": {},
   "outputs": [
    {
     "data": {
      "text/plain": [
       "Text(0.5, 1.0, 'PhoneService')"
      ]
     },
     "execution_count": 85,
     "metadata": {},
     "output_type": "execute_result"
    },
    {
     "data": {
      "image/png": "[encoded data removed]",
      "text/plain": [
       "<Figure size 576x360 with 1 Axes>"
      ]
     },
     "metadata": {
      "needs_background": "light"
     },
     "output_type": "display_data"
    }
   ],
   "source": [
    "fig_size = (8,5)\n",
    "fig, ax = plt.subplots(figsize = fig_size)\n",
    "sns.countplot(data=df, x=\"PhoneService\")\n",
    "plt.xticks(rotation=90)\n",
    "plt.title(\"PhoneService\", fontsize = 20)"
   ]
  },
  {
   "cell_type": "markdown",
   "metadata": {},
   "source": [
    "very few who's have no phone service."
   ]
  },
  {
   "cell_type": "code",
   "execution_count": 86,
   "metadata": {},
   "outputs": [
    {
     "data": {
      "text/plain": [
       "Text(0.5, 1.0, 'MultipleLines')"
      ]
     },
     "execution_count": 86,
     "metadata": {},
     "output_type": "execute_result"
    },
    {
     "data": {
      "image/png": "[encoded data removed]",
      "text/plain": [
       "<Figure size 576x360 with 1 Axes>"
      ]
     },
     "metadata": {
      "needs_background": "light"
     },
     "output_type": "display_data"
    }
   ],
   "source": [
    "fig_size = (8,5)\n",
    "fig, ax = plt.subplots(figsize = fig_size)\n",
    "sns.countplot(data=df, x=\"MultipleLines\")\n",
    "plt.xticks(rotation=90)\n",
    "plt.title(\"MultipleLines\", fontsize = 20)"
   ]
  },
  {
   "cell_type": "markdown",
   "metadata": {},
   "source": [
    "If we check according to Multiplelines, Maximum have No multiplelines."
   ]
  },
  {
   "cell_type": "code",
   "execution_count": 87,
   "metadata": {},
   "outputs": [
    {
     "data": {
      "text/plain": [
       "Text(0.5, 1.0, 'InternetService')"
      ]
     },
     "execution_count": 87,
     "metadata": {},
     "output_type": "execute_result"
    },
    {
     "data": {
      "image/png": "[encoded data removed]",
      "text/plain": [
       "<Figure size 576x360 with 1 Axes>"
      ]
     },
     "metadata": {
      "needs_background": "light"
     },
     "output_type": "display_data"
    }
   ],
   "source": [
    "fig_size = (8,5)\n",
    "fig, ax = plt.subplots(figsize = fig_size)\n",
    "sns.countplot(data=df, x=\"InternetService\")\n",
    "plt.xticks(rotation=90)\n",
    "plt.title(\"InternetService\", fontsize = 20)"
   ]
  },
  {
   "cell_type": "markdown",
   "metadata": {},
   "source": [
    "Maximum customer have Fiber optical"
   ]
  },
  {
   "cell_type": "code",
   "execution_count": 89,
   "metadata": {},
   "outputs": [
    {
     "data": {
      "text/plain": [
       "Text(0.5, 1.0, 'TechSupport')"
      ]
     },
     "execution_count": 89,
     "metadata": {},
     "output_type": "execute_result"
    },
    {
     "data": {
      "image/png": "[encoded data removed]",
      "text/plain": [
       "<Figure size 576x360 with 1 Axes>"
      ]
     },
     "metadata": {
      "needs_background": "light"
     },
     "output_type": "display_data"
    }
   ],
   "source": [
    "fig_size = (8,5)\n",
    "fig, ax = plt.subplots(figsize = fig_size)\n",
    "sns.countplot(data=df, x=\"TechSupport\")\n",
    "plt.xticks(rotation=90)\n",
    "plt.title(\"TechSupport\", fontsize = 20)"
   ]
  },
  {
   "cell_type": "markdown",
   "metadata": {},
   "source": [
    "Maximum customers have No Tech Support."
   ]
  },
  {
   "cell_type": "code",
   "execution_count": 90,
   "metadata": {},
   "outputs": [
    {
     "data": {
      "text/plain": [
       "Text(0.5, 1.0, 'StreamingTV')"
      ]
     },
     "execution_count": 90,
     "metadata": {},
     "output_type": "execute_result"
    },
    {
     "data": {
      "image/png": "[encoded data removed]",
      "text/plain": [
       "<Figure size 576x360 with 1 Axes>"
      ]
     },
     "metadata": {
      "needs_background": "light"
     },
     "output_type": "display_data"
    }
   ],
   "source": [
    "fig_size = (8,5)\n",
    "fig, ax = plt.subplots(figsize = fig_size)\n",
    "sns.countplot(data=df, x=\"StreamingTV\")\n",
    "plt.xticks(rotation=90)\n",
    "plt.title(\"StreamingTV\", fontsize = 20)"
   ]
  },
  {
   "cell_type": "markdown",
   "metadata": {},
   "source": [
    "According to Streaming TV, both are equal who's streaming TV or not streaming TV."
   ]
  },
  {
   "cell_type": "code",
   "execution_count": 91,
   "metadata": {},
   "outputs": [
    {
     "data": {
      "text/plain": [
       "Text(0.5, 1.0, 'StreamingMovies')"
      ]
     },
     "execution_count": 91,
     "metadata": {},
     "output_type": "execute_result"
    },
    {
     "data": {
      "image/png": "[encoded data removed]",
      "text/plain": [
       "<Figure size 576x360 with 1 Axes>"
      ]
     },
     "metadata": {
      "needs_background": "light"
     },
     "output_type": "display_data"
    }
   ],
   "source": [
    "fig_size = (8,5)\n",
    "fig, ax = plt.subplots(figsize = fig_size)\n",
    "sns.countplot(data=df, x=\"StreamingMovies\")\n",
    "plt.xticks(rotation=90)\n",
    "plt.title(\"StreamingMovies\", fontsize = 20)"
   ]
  },
  {
   "cell_type": "markdown",
   "metadata": {},
   "source": [
    "According to Streaming Movies, both are equal who's streaming Movies or not streaming Movies. Few customers have no internet servie."
   ]
  },
  {
   "cell_type": "code",
   "execution_count": 92,
   "metadata": {},
   "outputs": [
    {
     "data": {
      "text/plain": [
       "Text(0.5, 1.0, 'Contract')"
      ]
     },
     "execution_count": 92,
     "metadata": {},
     "output_type": "execute_result"
    },
    {
     "data": {
      "image/png": "[encoded data removed]",
      "text/plain": [
       "<Figure size 576x360 with 1 Axes>"
      ]
     },
     "metadata": {
      "needs_background": "light"
     },
     "output_type": "display_data"
    }
   ],
   "source": [
    "fig_size = (8,5)\n",
    "fig, ax = plt.subplots(figsize = fig_size)\n",
    "sns.countplot(data=df, x=\"Contract\")\n",
    "plt.xticks(rotation=90)\n",
    "plt.title(\"Contract\", fontsize = 20)"
   ]
  },
  {
   "cell_type": "markdown",
   "metadata": {},
   "source": [
    "The maximum customers are month to month contract cusotmers."
   ]
  },
  {
   "cell_type": "code",
   "execution_count": 93,
   "metadata": {},
   "outputs": [
    {
     "data": {
      "text/plain": [
       "Text(0.5, 1.0, 'PaymentMethod')"
      ]
     },
     "execution_count": 93,
     "metadata": {},
     "output_type": "execute_result"
    },
    {
     "data": {
      "image/png": "[encoded data removed]",
      "text/plain": [
       "<Figure size 576x360 with 1 Axes>"
      ]
     },
     "metadata": {
      "needs_background": "light"
     },
     "output_type": "display_data"
    }
   ],
   "source": [
    "fig_size = (8,5)\n",
    "fig, ax = plt.subplots(figsize = fig_size)\n",
    "sns.countplot(data=df, x=\"PaymentMethod\")\n",
    "plt.xticks(rotation=90)\n",
    "plt.title(\"PaymentMethod\", fontsize = 20)"
   ]
  },
  {
   "cell_type": "markdown",
   "metadata": {},
   "source": [
    "The maximum customers paymentmethod are Electronic check."
   ]
  },
  {
   "cell_type": "code",
   "execution_count": 94,
   "metadata": {},
   "outputs": [
    {
     "data": {
      "text/plain": [
       "Text(0.5, 1.0, 'Churn')"
      ]
     },
     "execution_count": 94,
     "metadata": {},
     "output_type": "execute_result"
    },
    {
     "data": {
      "image/png": "[encoded data removed]",
      "text/plain": [
       "<Figure size 576x360 with 1 Axes>"
      ]
     },
     "metadata": {
      "needs_background": "light"
     },
     "output_type": "display_data"
    }
   ],
   "source": [
    "fig_size = (8,5)\n",
    "fig, ax = plt.subplots(figsize = fig_size)\n",
    "sns.countplot(data=df, x=\"Churn\")\n",
    "plt.xticks(rotation=90)\n",
    "plt.title(\"Churn\", fontsize = 20)"
   ]
  },
  {
   "cell_type": "markdown",
   "metadata": {},
   "source": [
    "According to target variable maximum customers no churn."
   ]
  },
  {
   "cell_type": "markdown",
   "metadata": {},
   "source": [
    "# Bivariate Analysis"
   ]
  },
  {
   "cell_type": "code",
   "execution_count": 96,
   "metadata": {},
   "outputs": [
    {
     "data": {
      "text/plain": [
       "<AxesSubplot:xlabel='gender', ylabel='count'>"
      ]
     },
     "execution_count": 96,
     "metadata": {},
     "output_type": "execute_result"
    },
    {
     "data": {
      "image/png": "[encoded data removed]",
      "text/plain": [
       "<Figure size 864x432 with 1 Axes>"
      ]
     },
     "metadata": {
      "needs_background": "light"
     },
     "output_type": "display_data"
    }
   ],
   "source": [
    "plt.figure(figsize = (12,6))\n",
    "sns.countplot(x = 'gender' , hue = 'Churn' , data = df , dodge = True , color = 'Blue' , saturation = 1)"
   ]
  },
  {
   "cell_type": "markdown",
   "metadata": {},
   "source": [
    "There is negligible difference in customer percentage/ count who chnaged the service provider. Both genders behaved in similar fashion when it comes to migrating to another service provider/firm."
   ]
  },
  {
   "cell_type": "code",
   "execution_count": 97,
   "metadata": {},
   "outputs": [
    {
     "data": {
      "text/plain": [
       "<AxesSubplot:xlabel='SeniorCitizen', ylabel='count'>"
      ]
     },
     "execution_count": 97,
     "metadata": {},
     "output_type": "execute_result"
    },
    {
     "data": {
      "image/png": "[encoded data removed]",
      "text/plain": [
       "<Figure size 864x432 with 1 Axes>"
      ]
     },
     "metadata": {
      "needs_background": "light"
     },
     "output_type": "display_data"
    }
   ],
   "source": [
    "plt.figure(figsize = (12,6))\n",
    "sns.countplot(x = 'SeniorCitizen' , hue = 'Churn' , data = df , dodge = True , color = 'Blue' , saturation = 1)"
   ]
  },
  {
   "cell_type": "markdown",
   "metadata": {},
   "source": [
    "It can be observed that the fraction of senior citizen is very less and Most of the senior citizens churn."
   ]
  },
  {
   "cell_type": "code",
   "execution_count": 98,
   "metadata": {},
   "outputs": [
    {
     "data": {
      "text/plain": [
       "<AxesSubplot:xlabel='Partner', ylabel='count'>"
      ]
     },
     "execution_count": 98,
     "metadata": {},
     "output_type": "execute_result"
    },
    {
     "data": {
      "image/png": "[encoded data removed]",
      "text/plain": [
       "<Figure size 864x432 with 1 Axes>"
      ]
     },
     "metadata": {
      "needs_background": "light"
     },
     "output_type": "display_data"
    }
   ],
   "source": [
    "plt.figure(figsize = (12,6))\n",
    "sns.countplot(x = 'Partner' , hue = 'Churn' , data = df , dodge = True , color = 'Blue' , saturation = 1)"
   ]
  },
  {
   "cell_type": "markdown",
   "metadata": {},
   "source": [
    "Customers that doesn't have partners are more likely to churn."
   ]
  },
  {
   "cell_type": "code",
   "execution_count": 99,
   "metadata": {},
   "outputs": [
    {
     "data": {
      "text/plain": [
       "<AxesSubplot:xlabel='Dependents', ylabel='count'>"
      ]
     },
     "execution_count": 99,
     "metadata": {},
     "output_type": "execute_result"
    },
    {
     "data": {
      "image/png": "[encoded data removed]",
      "text/plain": [
       "<Figure size 864x432 with 1 Axes>"
      ]
     },
     "metadata": {
      "needs_background": "light"
     },
     "output_type": "display_data"
    }
   ],
   "source": [
    "plt.figure(figsize = (12,6))\n",
    "sns.countplot(x = 'Dependents' , hue = 'Churn' , data = df , dodge = True , color = 'Blue' , saturation = 1)"
   ]
  },
  {
   "cell_type": "markdown",
   "metadata": {},
   "source": [
    "according to dependent NO is higher then Yes churn."
   ]
  },
  {
   "cell_type": "code",
   "execution_count": 100,
   "metadata": {},
   "outputs": [
    {
     "data": {
      "text/plain": [
       "<AxesSubplot:xlabel='tenure', ylabel='count'>"
      ]
     },
     "execution_count": 100,
     "metadata": {},
     "output_type": "execute_result"
    },
    {
     "data": {
      "image/png": "[encoded data removed]",
      "text/plain": [
       "<Figure size 864x432 with 1 Axes>"
      ]
     },
     "metadata": {
      "needs_background": "light"
     },
     "output_type": "display_data"
    }
   ],
   "source": [
    "plt.figure(figsize = (12,6))\n",
    "sns.countplot(x = 'tenure' , hue = 'Churn' , data = df , dodge = True , color = 'Blue' , saturation = 1)"
   ]
  },
  {
   "cell_type": "markdown",
   "metadata": {},
   "source": [
    "New customers are more likely to churn"
   ]
  },
  {
   "cell_type": "code",
   "execution_count": 102,
   "metadata": {},
   "outputs": [
    {
     "data": {
      "text/plain": [
       "<AxesSubplot:xlabel='PhoneService', ylabel='count'>"
      ]
     },
     "execution_count": 102,
     "metadata": {},
     "output_type": "execute_result"
    },
    {
     "data": {
      "image/png": "[encoded data removed]",
      "text/plain": [
       "<Figure size 864x432 with 1 Axes>"
      ]
     },
     "metadata": {
      "needs_background": "light"
     },
     "output_type": "display_data"
    }
   ],
   "source": [
    "plt.figure(figsize = (12,6))\n",
    "sns.countplot(x = 'PhoneService' , hue = 'Churn' , data = df , dodge = True , color = 'Blue' , saturation = 1)"
   ]
  },
  {
   "cell_type": "markdown",
   "metadata": {},
   "source": [
    "Very small fraction of customers don't have a phone service and out of that, 1/3rd Customers are more likely to churn."
   ]
  },
  {
   "cell_type": "code",
   "execution_count": 104,
   "metadata": {},
   "outputs": [
    {
     "data": {
      "text/plain": [
       "<AxesSubplot:xlabel='InternetService', ylabel='count'>"
      ]
     },
     "execution_count": 104,
     "metadata": {},
     "output_type": "execute_result"
    },
    {
     "data": {
      "image/png": "[encoded data removed]",
      "text/plain": [
       "<Figure size 864x432 with 1 Axes>"
      ]
     },
     "metadata": {
      "needs_background": "light"
     },
     "output_type": "display_data"
    }
   ],
   "source": [
    "plt.figure(figsize = (12,6))\n",
    "sns.countplot(x = 'InternetService' , hue = 'Churn' , data = df , dodge = True , color = 'Blue' , saturation = 1)"
   ]
  },
  {
   "cell_type": "markdown",
   "metadata": {},
   "source": [
    "Fiber optic has highest churn others are less."
   ]
  },
  {
   "cell_type": "code",
   "execution_count": 105,
   "metadata": {},
   "outputs": [
    {
     "data": {
      "text/plain": [
       "<AxesSubplot:xlabel='OnlineSecurity', ylabel='count'>"
      ]
     },
     "execution_count": 105,
     "metadata": {},
     "output_type": "execute_result"
    },
    {
     "data": {
      "image/png": "[encoded data removed]",
      "text/plain": [
       "<Figure size 864x432 with 1 Axes>"
      ]
     },
     "metadata": {
      "needs_background": "light"
     },
     "output_type": "display_data"
    }
   ],
   "source": [
    "plt.figure(figsize = (12,6))\n",
    "sns.countplot(x = 'OnlineSecurity' , hue = 'Churn' , data = df , dodge = True , color = 'Blue' , saturation = 1)"
   ]
  },
  {
   "cell_type": "markdown",
   "metadata": {},
   "source": [
    "Most customers churn in the absence of online security,"
   ]
  },
  {
   "cell_type": "code",
   "execution_count": 106,
   "metadata": {},
   "outputs": [
    {
     "data": {
      "text/plain": [
       "<AxesSubplot:xlabel='OnlineBackup', ylabel='count'>"
      ]
     },
     "execution_count": 106,
     "metadata": {},
     "output_type": "execute_result"
    },
    {
     "data": {
      "image/png": "[encoded data removed]",
      "text/plain": [
       "<Figure size 864x432 with 1 Axes>"
      ]
     },
     "metadata": {
      "needs_background": "light"
     },
     "output_type": "display_data"
    }
   ],
   "source": [
    "plt.figure(figsize = (12,6))\n",
    "sns.countplot(x = 'OnlineBackup' , hue = 'Churn' , data = df , dodge = True , color = 'Blue' , saturation = 1)"
   ]
  },
  {
   "cell_type": "code",
   "execution_count": 107,
   "metadata": {},
   "outputs": [
    {
     "data": {
      "text/plain": [
       "<AxesSubplot:xlabel='DeviceProtection', ylabel='count'>"
      ]
     },
     "execution_count": 107,
     "metadata": {},
     "output_type": "execute_result"
    },
    {
     "data": {
      "image/png": "[encoded data removed]",
      "text/plain": [
       "<Figure size 864x432 with 1 Axes>"
      ]
     },
     "metadata": {
      "needs_background": "light"
     },
     "output_type": "display_data"
    }
   ],
   "source": [
    "plt.figure(figsize = (12,6))\n",
    "sns.countplot(x = 'DeviceProtection' , hue = 'Churn' , data = df , dodge = True , color = 'Blue' , saturation = 1)"
   ]
  },
  {
   "cell_type": "code",
   "execution_count": 108,
   "metadata": {},
   "outputs": [
    {
     "data": {
      "text/plain": [
       "<AxesSubplot:xlabel='TechSupport', ylabel='count'>"
      ]
     },
     "execution_count": 108,
     "metadata": {},
     "output_type": "execute_result"
    },
    {
     "data": {
      "image/png": "[encoded data removed]",
      "text/plain": [
       "<Figure size 864x432 with 1 Axes>"
      ]
     },
     "metadata": {
      "needs_background": "light"
     },
     "output_type": "display_data"
    }
   ],
   "source": [
    "plt.figure(figsize = (12,6))\n",
    "sns.countplot(x = 'TechSupport' , hue = 'Churn' , data = df , dodge = True , color = 'Blue' , saturation = 1)"
   ]
  },
  {
   "cell_type": "markdown",
   "metadata": {},
   "source": [
    "Customers with no TechSupport are most likely to migrate to another service provider."
   ]
  },
  {
   "cell_type": "code",
   "execution_count": 109,
   "metadata": {},
   "outputs": [
    {
     "data": {
      "text/plain": [
       "<AxesSubplot:xlabel='StreamingTV', ylabel='count'>"
      ]
     },
     "execution_count": 109,
     "metadata": {},
     "output_type": "execute_result"
    },
    {
     "data": {
      "image/png": "[encoded data removed]",
      "text/plain": [
       "<Figure size 864x432 with 1 Axes>"
      ]
     },
     "metadata": {
      "needs_background": "light"
     },
     "output_type": "display_data"
    }
   ],
   "source": [
    "plt.figure(figsize = (12,6))\n",
    "sns.countplot(x = 'StreamingTV' , hue = 'Churn' , data = df , dodge = True , color = 'Blue' , saturation = 1)"
   ]
  },
  {
   "cell_type": "markdown",
   "metadata": {},
   "source": [
    "According to above Highest churn are not streaming TV."
   ]
  },
  {
   "cell_type": "code",
   "execution_count": 110,
   "metadata": {},
   "outputs": [
    {
     "data": {
      "text/plain": [
       "<AxesSubplot:xlabel='StreamingMovies', ylabel='count'>"
      ]
     },
     "execution_count": 110,
     "metadata": {},
     "output_type": "execute_result"
    },
    {
     "data": {
      "image/png": "[encoded data removed]",
      "text/plain": [
       "<Figure size 864x432 with 1 Axes>"
      ]
     },
     "metadata": {
      "needs_background": "light"
     },
     "output_type": "display_data"
    }
   ],
   "source": [
    "plt.figure(figsize = (12,6))\n",
    "sns.countplot(x = 'StreamingMovies' , hue = 'Churn' , data = df , dodge = True , color = 'Blue' , saturation = 1)"
   ]
  },
  {
   "cell_type": "markdown",
   "metadata": {},
   "source": [
    "According to above Highest churn are not streaming Movies."
   ]
  },
  {
   "cell_type": "code",
   "execution_count": 111,
   "metadata": {},
   "outputs": [
    {
     "data": {
      "text/plain": [
       "<AxesSubplot:xlabel='Contract', ylabel='count'>"
      ]
     },
     "execution_count": 111,
     "metadata": {},
     "output_type": "execute_result"
    },
    {
     "data": {
      "image/png": "[encoded data removed]",
      "text/plain": [
       "<Figure size 864x432 with 1 Axes>"
      ]
     },
     "metadata": {
      "needs_background": "light"
     },
     "output_type": "display_data"
    }
   ],
   "source": [
    "plt.figure(figsize = (12,6))\n",
    "sns.countplot(x = 'Contract' , hue = 'Churn' , data = df , dodge = True , color = 'Blue' , saturation = 1)"
   ]
  },
  {
   "cell_type": "markdown",
   "metadata": {},
   "source": [
    "Highest churn have month_to_month contract."
   ]
  },
  {
   "cell_type": "code",
   "execution_count": 112,
   "metadata": {},
   "outputs": [
    {
     "data": {
      "text/plain": [
       "<AxesSubplot:xlabel='PaperlessBilling', ylabel='count'>"
      ]
     },
     "execution_count": 112,
     "metadata": {},
     "output_type": "execute_result"
    },
    {
     "data": {
      "image/png": "[encoded data removed]",
      "text/plain": [
       "<Figure size 864x432 with 1 Axes>"
      ]
     },
     "metadata": {
      "needs_background": "light"
     },
     "output_type": "display_data"
    }
   ],
   "source": [
    "plt.figure(figsize = (12,6))\n",
    "sns.countplot(x = 'PaperlessBilling' , hue = 'Churn' , data = df , dodge = True , color = 'Blue' , saturation = 1)"
   ]
  },
  {
   "cell_type": "markdown",
   "metadata": {},
   "source": [
    "Customers with Paperless Billing are most likely to churn."
   ]
  },
  {
   "cell_type": "code",
   "execution_count": 113,
   "metadata": {},
   "outputs": [
    {
     "data": {
      "text/plain": [
       "<AxesSubplot:xlabel='PaymentMethod', ylabel='count'>"
      ]
     },
     "execution_count": 113,
     "metadata": {},
     "output_type": "execute_result"
    },
    {
     "data": {
      "image/png": "[encoded data removed]",
      "text/plain": [
       "<Figure size 864x432 with 1 Axes>"
      ]
     },
     "metadata": {
      "needs_background": "light"
     },
     "output_type": "display_data"
    }
   ],
   "source": [
    "plt.figure(figsize = (12,6))\n",
    "sns.countplot(x = 'PaymentMethod' , hue = 'Churn' , data = df , dodge = True , color = 'Blue' , saturation = 1)"
   ]
  },
  {
   "cell_type": "markdown",
   "metadata": {},
   "source": [
    "Electronic Check is the highest to churn."
   ]
  },
  {
   "cell_type": "code",
   "execution_count": 115,
   "metadata": {},
   "outputs": [
    {
     "data": {
      "text/html": [
       "<div>\n",
       "<style scoped>\n",
       "    .dataframe tbody tr th:only-of-type {\n",
       "        vertical-align: middle;\n",
       "    }\n",
       "\n",
       "    .dataframe tbody tr th {\n",
       "        vertical-align: top;\n",
       "    }\n",
       "\n",
       "    .dataframe thead th {\n",
       "        text-align: right;\n",
       "    }\n",
       "</style>\n",
       "<table border=\"1\" class=\"dataframe\">\n",
       "  <thead>\n",
       "    <tr style=\"text-align: right;\">\n",
       "      <th></th>\n",
       "      <th>gender</th>\n",
       "      <th>SeniorCitizen</th>\n",
       "      <th>Partner</th>\n",
       "      <th>Dependents</th>\n",
       "      <th>tenure</th>\n",
       "      <th>PhoneService</th>\n",
       "      <th>MultipleLines</th>\n",
       "      <th>InternetService</th>\n",
       "      <th>OnlineSecurity</th>\n",
       "      <th>OnlineBackup</th>\n",
       "      <th>DeviceProtection</th>\n",
       "      <th>TechSupport</th>\n",
       "      <th>StreamingTV</th>\n",
       "      <th>StreamingMovies</th>\n",
       "      <th>Contract</th>\n",
       "      <th>PaperlessBilling</th>\n",
       "      <th>PaymentMethod</th>\n",
       "      <th>MonthlyCharges</th>\n",
       "      <th>TotalCharges</th>\n",
       "      <th>Churn</th>\n",
       "    </tr>\n",
       "  </thead>\n",
       "  <tbody>\n",
       "    <tr>\n",
       "      <th>0</th>\n",
       "      <td>Female</td>\n",
       "      <td>0</td>\n",
       "      <td>Yes</td>\n",
       "      <td>No</td>\n",
       "      <td>1</td>\n",
       "      <td>No</td>\n",
       "      <td>No phone service</td>\n",
       "      <td>DSL</td>\n",
       "      <td>No</td>\n",
       "      <td>Yes</td>\n",
       "      <td>No</td>\n",
       "      <td>No</td>\n",
       "      <td>No</td>\n",
       "      <td>No</td>\n",
       "      <td>Month-to-month</td>\n",
       "      <td>Yes</td>\n",
       "      <td>Electronic check</td>\n",
       "      <td>29.85</td>\n",
       "      <td>29.85</td>\n",
       "      <td>No</td>\n",
       "    </tr>\n",
       "    <tr>\n",
       "      <th>1</th>\n",
       "      <td>Male</td>\n",
       "      <td>0</td>\n",
       "      <td>No</td>\n",
       "      <td>No</td>\n",
       "      <td>34</td>\n",
       "      <td>Yes</td>\n",
       "      <td>No</td>\n",
       "      <td>DSL</td>\n",
       "      <td>Yes</td>\n",
       "      <td>No</td>\n",
       "      <td>Yes</td>\n",
       "      <td>No</td>\n",
       "      <td>No</td>\n",
       "      <td>No</td>\n",
       "      <td>One year</td>\n",
       "      <td>No</td>\n",
       "      <td>Mailed check</td>\n",
       "      <td>56.95</td>\n",
       "      <td>1889.5</td>\n",
       "      <td>No</td>\n",
       "    </tr>\n",
       "    <tr>\n",
       "      <th>2</th>\n",
       "      <td>Male</td>\n",
       "      <td>0</td>\n",
       "      <td>No</td>\n",
       "      <td>No</td>\n",
       "      <td>2</td>\n",
       "      <td>Yes</td>\n",
       "      <td>No</td>\n",
       "      <td>DSL</td>\n",
       "      <td>Yes</td>\n",
       "      <td>Yes</td>\n",
       "      <td>No</td>\n",
       "      <td>No</td>\n",
       "      <td>No</td>\n",
       "      <td>No</td>\n",
       "      <td>Month-to-month</td>\n",
       "      <td>Yes</td>\n",
       "      <td>Mailed check</td>\n",
       "      <td>53.85</td>\n",
       "      <td>108.15</td>\n",
       "      <td>Yes</td>\n",
       "    </tr>\n",
       "    <tr>\n",
       "      <th>3</th>\n",
       "      <td>Male</td>\n",
       "      <td>0</td>\n",
       "      <td>No</td>\n",
       "      <td>No</td>\n",
       "      <td>45</td>\n",
       "      <td>No</td>\n",
       "      <td>No phone service</td>\n",
       "      <td>DSL</td>\n",
       "      <td>Yes</td>\n",
       "      <td>No</td>\n",
       "      <td>Yes</td>\n",
       "      <td>Yes</td>\n",
       "      <td>No</td>\n",
       "      <td>No</td>\n",
       "      <td>One year</td>\n",
       "      <td>No</td>\n",
       "      <td>Bank transfer (automatic)</td>\n",
       "      <td>42.30</td>\n",
       "      <td>1840.75</td>\n",
       "      <td>No</td>\n",
       "    </tr>\n",
       "    <tr>\n",
       "      <th>4</th>\n",
       "      <td>Female</td>\n",
       "      <td>0</td>\n",
       "      <td>No</td>\n",
       "      <td>No</td>\n",
       "      <td>2</td>\n",
       "      <td>Yes</td>\n",
       "      <td>No</td>\n",
       "      <td>Fiber optic</td>\n",
       "      <td>No</td>\n",
       "      <td>No</td>\n",
       "      <td>No</td>\n",
       "      <td>No</td>\n",
       "      <td>No</td>\n",
       "      <td>No</td>\n",
       "      <td>Month-to-month</td>\n",
       "      <td>Yes</td>\n",
       "      <td>Electronic check</td>\n",
       "      <td>70.70</td>\n",
       "      <td>151.65</td>\n",
       "      <td>Yes</td>\n",
       "    </tr>\n",
       "  </tbody>\n",
       "</table>\n",
       "</div>"
      ],
      "text/plain": [
       "   gender  SeniorCitizen Partner Dependents  tenure PhoneService  \\\n",
       "0  Female              0     Yes         No       1           No   \n",
       "1    Male              0      No         No      34          Yes   \n",
       "2    Male              0      No         No       2          Yes   \n",
       "3    Male              0      No         No      45           No   \n",
       "4  Female              0      No         No       2          Yes   \n",
       "\n",
       "      MultipleLines InternetService OnlineSecurity OnlineBackup  \\\n",
       "0  No phone service             DSL             No          Yes   \n",
       "1                No             DSL            Yes           No   \n",
       "2                No             DSL            Yes          Yes   \n",
       "3  No phone service             DSL            Yes           No   \n",
       "4                No     Fiber optic             No           No   \n",
       "\n",
       "  DeviceProtection TechSupport StreamingTV StreamingMovies        Contract  \\\n",
       "0               No          No          No              No  Month-to-month   \n",
       "1              Yes          No          No              No        One year   \n",
       "2               No          No          No              No  Month-to-month   \n",
       "3              Yes         Yes          No              No        One year   \n",
       "4               No          No          No              No  Month-to-month   \n",
       "\n",
       "  PaperlessBilling              PaymentMethod  MonthlyCharges TotalCharges  \\\n",
       "0              Yes           Electronic check           29.85        29.85   \n",
       "1               No               Mailed check           56.95       1889.5   \n",
       "2              Yes               Mailed check           53.85       108.15   \n",
       "3               No  Bank transfer (automatic)           42.30      1840.75   \n",
       "4              Yes           Electronic check           70.70       151.65   \n",
       "\n",
       "  Churn  \n",
       "0    No  \n",
       "1    No  \n",
       "2   Yes  \n",
       "3    No  \n",
       "4   Yes  "
      ]
     },
     "execution_count": 115,
     "metadata": {},
     "output_type": "execute_result"
    }
   ],
   "source": [
    "df.head()"
   ]
  },
  {
   "cell_type": "code",
   "execution_count": 116,
   "metadata": {},
   "outputs": [],
   "source": [
    "#replacing target variable into 0 and 1\n",
    "df['Churn'] = df['Churn'].str.replace('No', '0')\n",
    "df['Churn'] = df['Churn'].str.replace('Yes', '1')\n",
    "df['Churn'] = df['Churn'].astype(np.int64)"
   ]
  },
  {
   "cell_type": "markdown",
   "metadata": {},
   "source": [
    "# Data Encoding"
   ]
  },
  {
   "cell_type": "code",
   "execution_count": 118,
   "metadata": {},
   "outputs": [],
   "source": [
    "from sklearn.preprocessing import LabelEncoder\n",
    "encoded = ['gender', 'Partner', 'Dependents', 'PhoneService', 'MultipleLines', 'InternetService', 'OnlineSecurity',\n",
    "       'OnlineBackup', 'DeviceProtection', 'TechSupport', 'StreamingTV',\n",
    "       'StreamingMovies', 'Contract', 'PaperlessBilling', 'PaymentMethod',]\n",
    "\n",
    "encoders = {column: LabelEncoder() for column in encoded}\n",
    "\n",
    "for column in encoded:\n",
    "    df[column] = encoders[column].fit_transform(df[column])"
   ]
  },
  {
   "cell_type": "code",
   "execution_count": 119,
   "metadata": {},
   "outputs": [
    {
     "data": {
      "text/html": [
       "<div>\n",
       "<style scoped>\n",
       "    .dataframe tbody tr th:only-of-type {\n",
       "        vertical-align: middle;\n",
       "    }\n",
       "\n",
       "    .dataframe tbody tr th {\n",
       "        vertical-align: top;\n",
       "    }\n",
       "\n",
       "    .dataframe thead th {\n",
       "        text-align: right;\n",
       "    }\n",
       "</style>\n",
       "<table border=\"1\" class=\"dataframe\">\n",
       "  <thead>\n",
       "    <tr style=\"text-align: right;\">\n",
       "      <th></th>\n",
       "      <th>gender</th>\n",
       "      <th>SeniorCitizen</th>\n",
       "      <th>Partner</th>\n",
       "      <th>Dependents</th>\n",
       "      <th>tenure</th>\n",
       "      <th>PhoneService</th>\n",
       "      <th>MultipleLines</th>\n",
       "      <th>InternetService</th>\n",
       "      <th>OnlineSecurity</th>\n",
       "      <th>OnlineBackup</th>\n",
       "      <th>DeviceProtection</th>\n",
       "      <th>TechSupport</th>\n",
       "      <th>StreamingTV</th>\n",
       "      <th>StreamingMovies</th>\n",
       "      <th>Contract</th>\n",
       "      <th>PaperlessBilling</th>\n",
       "      <th>PaymentMethod</th>\n",
       "      <th>MonthlyCharges</th>\n",
       "      <th>TotalCharges</th>\n",
       "      <th>Churn</th>\n",
       "    </tr>\n",
       "  </thead>\n",
       "  <tbody>\n",
       "    <tr>\n",
       "      <th>0</th>\n",
       "      <td>0</td>\n",
       "      <td>0</td>\n",
       "      <td>1</td>\n",
       "      <td>0</td>\n",
       "      <td>1</td>\n",
       "      <td>0</td>\n",
       "      <td>1</td>\n",
       "      <td>0</td>\n",
       "      <td>0</td>\n",
       "      <td>2</td>\n",
       "      <td>0</td>\n",
       "      <td>0</td>\n",
       "      <td>0</td>\n",
       "      <td>0</td>\n",
       "      <td>0</td>\n",
       "      <td>1</td>\n",
       "      <td>2</td>\n",
       "      <td>29.85</td>\n",
       "      <td>29.85</td>\n",
       "      <td>0</td>\n",
       "    </tr>\n",
       "    <tr>\n",
       "      <th>1</th>\n",
       "      <td>1</td>\n",
       "      <td>0</td>\n",
       "      <td>0</td>\n",
       "      <td>0</td>\n",
       "      <td>34</td>\n",
       "      <td>1</td>\n",
       "      <td>0</td>\n",
       "      <td>0</td>\n",
       "      <td>2</td>\n",
       "      <td>0</td>\n",
       "      <td>2</td>\n",
       "      <td>0</td>\n",
       "      <td>0</td>\n",
       "      <td>0</td>\n",
       "      <td>1</td>\n",
       "      <td>0</td>\n",
       "      <td>3</td>\n",
       "      <td>56.95</td>\n",
       "      <td>1889.5</td>\n",
       "      <td>0</td>\n",
       "    </tr>\n",
       "    <tr>\n",
       "      <th>2</th>\n",
       "      <td>1</td>\n",
       "      <td>0</td>\n",
       "      <td>0</td>\n",
       "      <td>0</td>\n",
       "      <td>2</td>\n",
       "      <td>1</td>\n",
       "      <td>0</td>\n",
       "      <td>0</td>\n",
       "      <td>2</td>\n",
       "      <td>2</td>\n",
       "      <td>0</td>\n",
       "      <td>0</td>\n",
       "      <td>0</td>\n",
       "      <td>0</td>\n",
       "      <td>0</td>\n",
       "      <td>1</td>\n",
       "      <td>3</td>\n",
       "      <td>53.85</td>\n",
       "      <td>108.15</td>\n",
       "      <td>1</td>\n",
       "    </tr>\n",
       "    <tr>\n",
       "      <th>3</th>\n",
       "      <td>1</td>\n",
       "      <td>0</td>\n",
       "      <td>0</td>\n",
       "      <td>0</td>\n",
       "      <td>45</td>\n",
       "      <td>0</td>\n",
       "      <td>1</td>\n",
       "      <td>0</td>\n",
       "      <td>2</td>\n",
       "      <td>0</td>\n",
       "      <td>2</td>\n",
       "      <td>2</td>\n",
       "      <td>0</td>\n",
       "      <td>0</td>\n",
       "      <td>1</td>\n",
       "      <td>0</td>\n",
       "      <td>0</td>\n",
       "      <td>42.30</td>\n",
       "      <td>1840.75</td>\n",
       "      <td>0</td>\n",
       "    </tr>\n",
       "    <tr>\n",
       "      <th>4</th>\n",
       "      <td>0</td>\n",
       "      <td>0</td>\n",
       "      <td>0</td>\n",
       "      <td>0</td>\n",
       "      <td>2</td>\n",
       "      <td>1</td>\n",
       "      <td>0</td>\n",
       "      <td>1</td>\n",
       "      <td>0</td>\n",
       "      <td>0</td>\n",
       "      <td>0</td>\n",
       "      <td>0</td>\n",
       "      <td>0</td>\n",
       "      <td>0</td>\n",
       "      <td>0</td>\n",
       "      <td>1</td>\n",
       "      <td>2</td>\n",
       "      <td>70.70</td>\n",
       "      <td>151.65</td>\n",
       "      <td>1</td>\n",
       "    </tr>\n",
       "  </tbody>\n",
       "</table>\n",
       "</div>"
      ],
      "text/plain": [
       "   gender  SeniorCitizen  Partner  Dependents  tenure  PhoneService  \\\n",
       "0       0              0        1           0       1             0   \n",
       "1       1              0        0           0      34             1   \n",
       "2       1              0        0           0       2             1   \n",
       "3       1              0        0           0      45             0   \n",
       "4       0              0        0           0       2             1   \n",
       "\n",
       "   MultipleLines  InternetService  OnlineSecurity  OnlineBackup  \\\n",
       "0              1                0               0             2   \n",
       "1              0                0               2             0   \n",
       "2              0                0               2             2   \n",
       "3              1                0               2             0   \n",
       "4              0                1               0             0   \n",
       "\n",
       "   DeviceProtection  TechSupport  StreamingTV  StreamingMovies  Contract  \\\n",
       "0                 0            0            0                0         0   \n",
       "1                 2            0            0                0         1   \n",
       "2                 0            0            0                0         0   \n",
       "3                 2            2            0                0         1   \n",
       "4                 0            0            0                0         0   \n",
       "\n",
       "   PaperlessBilling  PaymentMethod  MonthlyCharges TotalCharges  Churn  \n",
       "0                 1              2           29.85        29.85      0  \n",
       "1                 0              3           56.95       1889.5      0  \n",
       "2                 1              3           53.85       108.15      1  \n",
       "3                 0              0           42.30      1840.75      0  \n",
       "4                 1              2           70.70       151.65      1  "
      ]
     },
     "execution_count": 119,
     "metadata": {},
     "output_type": "execute_result"
    }
   ],
   "source": [
    "df.head()"
   ]
  },
  {
   "cell_type": "markdown",
   "metadata": {},
   "source": [
    "# Removing Missing or NaN values."
   ]
  },
  {
   "cell_type": "code",
   "execution_count": 120,
   "metadata": {},
   "outputs": [
    {
     "data": {
      "text/plain": [
       "gender                int32\n",
       "SeniorCitizen         int64\n",
       "Partner               int32\n",
       "Dependents            int32\n",
       "tenure                int64\n",
       "PhoneService          int32\n",
       "MultipleLines         int32\n",
       "InternetService       int32\n",
       "OnlineSecurity        int32\n",
       "OnlineBackup          int32\n",
       "DeviceProtection      int32\n",
       "TechSupport           int32\n",
       "StreamingTV           int32\n",
       "StreamingMovies       int32\n",
       "Contract              int32\n",
       "PaperlessBilling      int32\n",
       "PaymentMethod         int32\n",
       "MonthlyCharges      float64\n",
       "TotalCharges         object\n",
       "Churn                 int64\n",
       "dtype: object"
      ]
     },
     "execution_count": 120,
     "metadata": {},
     "output_type": "execute_result"
    }
   ],
   "source": [
    "df.dtypes"
   ]
  },
  {
   "cell_type": "code",
   "execution_count": 121,
   "metadata": {},
   "outputs": [
    {
     "data": {
      "text/plain": [
       "gender               0\n",
       "SeniorCitizen        0\n",
       "Partner              0\n",
       "Dependents           0\n",
       "tenure               0\n",
       "PhoneService         0\n",
       "MultipleLines        0\n",
       "InternetService      0\n",
       "OnlineSecurity       0\n",
       "OnlineBackup         0\n",
       "DeviceProtection     0\n",
       "TechSupport          0\n",
       "StreamingTV          0\n",
       "StreamingMovies      0\n",
       "Contract             0\n",
       "PaperlessBilling     0\n",
       "PaymentMethod        0\n",
       "MonthlyCharges       0\n",
       "TotalCharges        11\n",
       "Churn                0\n",
       "dtype: int64"
      ]
     },
     "execution_count": 121,
     "metadata": {},
     "output_type": "execute_result"
    }
   ],
   "source": [
    "df['TotalCharges'] = pd.to_numeric(df.TotalCharges, errors='coerce')\n",
    "df.isnull().sum()"
   ]
  },
  {
   "cell_type": "code",
   "execution_count": 122,
   "metadata": {},
   "outputs": [
    {
     "data": {
      "text/html": [
       "<div>\n",
       "<style scoped>\n",
       "    .dataframe tbody tr th:only-of-type {\n",
       "        vertical-align: middle;\n",
       "    }\n",
       "\n",
       "    .dataframe tbody tr th {\n",
       "        vertical-align: top;\n",
       "    }\n",
       "\n",
       "    .dataframe thead th {\n",
       "        text-align: right;\n",
       "    }\n",
       "</style>\n",
       "<table border=\"1\" class=\"dataframe\">\n",
       "  <thead>\n",
       "    <tr style=\"text-align: right;\">\n",
       "      <th></th>\n",
       "      <th>gender</th>\n",
       "      <th>SeniorCitizen</th>\n",
       "      <th>Partner</th>\n",
       "      <th>Dependents</th>\n",
       "      <th>tenure</th>\n",
       "      <th>PhoneService</th>\n",
       "      <th>MultipleLines</th>\n",
       "      <th>InternetService</th>\n",
       "      <th>OnlineSecurity</th>\n",
       "      <th>OnlineBackup</th>\n",
       "      <th>DeviceProtection</th>\n",
       "      <th>TechSupport</th>\n",
       "      <th>StreamingTV</th>\n",
       "      <th>StreamingMovies</th>\n",
       "      <th>Contract</th>\n",
       "      <th>PaperlessBilling</th>\n",
       "      <th>PaymentMethod</th>\n",
       "      <th>MonthlyCharges</th>\n",
       "      <th>TotalCharges</th>\n",
       "      <th>Churn</th>\n",
       "    </tr>\n",
       "  </thead>\n",
       "  <tbody>\n",
       "    <tr>\n",
       "      <th>488</th>\n",
       "      <td>0</td>\n",
       "      <td>0</td>\n",
       "      <td>1</td>\n",
       "      <td>1</td>\n",
       "      <td>0</td>\n",
       "      <td>0</td>\n",
       "      <td>1</td>\n",
       "      <td>0</td>\n",
       "      <td>2</td>\n",
       "      <td>0</td>\n",
       "      <td>2</td>\n",
       "      <td>2</td>\n",
       "      <td>2</td>\n",
       "      <td>0</td>\n",
       "      <td>2</td>\n",
       "      <td>1</td>\n",
       "      <td>0</td>\n",
       "      <td>52.55</td>\n",
       "      <td>NaN</td>\n",
       "      <td>0</td>\n",
       "    </tr>\n",
       "    <tr>\n",
       "      <th>753</th>\n",
       "      <td>1</td>\n",
       "      <td>0</td>\n",
       "      <td>0</td>\n",
       "      <td>1</td>\n",
       "      <td>0</td>\n",
       "      <td>1</td>\n",
       "      <td>0</td>\n",
       "      <td>2</td>\n",
       "      <td>1</td>\n",
       "      <td>1</td>\n",
       "      <td>1</td>\n",
       "      <td>1</td>\n",
       "      <td>1</td>\n",
       "      <td>1</td>\n",
       "      <td>2</td>\n",
       "      <td>0</td>\n",
       "      <td>3</td>\n",
       "      <td>20.25</td>\n",
       "      <td>NaN</td>\n",
       "      <td>0</td>\n",
       "    </tr>\n",
       "    <tr>\n",
       "      <th>936</th>\n",
       "      <td>0</td>\n",
       "      <td>0</td>\n",
       "      <td>1</td>\n",
       "      <td>1</td>\n",
       "      <td>0</td>\n",
       "      <td>1</td>\n",
       "      <td>0</td>\n",
       "      <td>0</td>\n",
       "      <td>2</td>\n",
       "      <td>2</td>\n",
       "      <td>2</td>\n",
       "      <td>0</td>\n",
       "      <td>2</td>\n",
       "      <td>2</td>\n",
       "      <td>2</td>\n",
       "      <td>0</td>\n",
       "      <td>3</td>\n",
       "      <td>80.85</td>\n",
       "      <td>NaN</td>\n",
       "      <td>0</td>\n",
       "    </tr>\n",
       "    <tr>\n",
       "      <th>1082</th>\n",
       "      <td>1</td>\n",
       "      <td>0</td>\n",
       "      <td>1</td>\n",
       "      <td>1</td>\n",
       "      <td>0</td>\n",
       "      <td>1</td>\n",
       "      <td>2</td>\n",
       "      <td>2</td>\n",
       "      <td>1</td>\n",
       "      <td>1</td>\n",
       "      <td>1</td>\n",
       "      <td>1</td>\n",
       "      <td>1</td>\n",
       "      <td>1</td>\n",
       "      <td>2</td>\n",
       "      <td>0</td>\n",
       "      <td>3</td>\n",
       "      <td>25.75</td>\n",
       "      <td>NaN</td>\n",
       "      <td>0</td>\n",
       "    </tr>\n",
       "    <tr>\n",
       "      <th>1340</th>\n",
       "      <td>0</td>\n",
       "      <td>0</td>\n",
       "      <td>1</td>\n",
       "      <td>1</td>\n",
       "      <td>0</td>\n",
       "      <td>0</td>\n",
       "      <td>1</td>\n",
       "      <td>0</td>\n",
       "      <td>2</td>\n",
       "      <td>2</td>\n",
       "      <td>2</td>\n",
       "      <td>2</td>\n",
       "      <td>2</td>\n",
       "      <td>0</td>\n",
       "      <td>2</td>\n",
       "      <td>0</td>\n",
       "      <td>1</td>\n",
       "      <td>56.05</td>\n",
       "      <td>NaN</td>\n",
       "      <td>0</td>\n",
       "    </tr>\n",
       "    <tr>\n",
       "      <th>3331</th>\n",
       "      <td>1</td>\n",
       "      <td>0</td>\n",
       "      <td>1</td>\n",
       "      <td>1</td>\n",
       "      <td>0</td>\n",
       "      <td>1</td>\n",
       "      <td>0</td>\n",
       "      <td>2</td>\n",
       "      <td>1</td>\n",
       "      <td>1</td>\n",
       "      <td>1</td>\n",
       "      <td>1</td>\n",
       "      <td>1</td>\n",
       "      <td>1</td>\n",
       "      <td>2</td>\n",
       "      <td>0</td>\n",
       "      <td>3</td>\n",
       "      <td>19.85</td>\n",
       "      <td>NaN</td>\n",
       "      <td>0</td>\n",
       "    </tr>\n",
       "    <tr>\n",
       "      <th>3826</th>\n",
       "      <td>1</td>\n",
       "      <td>0</td>\n",
       "      <td>1</td>\n",
       "      <td>1</td>\n",
       "      <td>0</td>\n",
       "      <td>1</td>\n",
       "      <td>2</td>\n",
       "      <td>2</td>\n",
       "      <td>1</td>\n",
       "      <td>1</td>\n",
       "      <td>1</td>\n",
       "      <td>1</td>\n",
       "      <td>1</td>\n",
       "      <td>1</td>\n",
       "      <td>2</td>\n",
       "      <td>0</td>\n",
       "      <td>3</td>\n",
       "      <td>25.35</td>\n",
       "      <td>NaN</td>\n",
       "      <td>0</td>\n",
       "    </tr>\n",
       "    <tr>\n",
       "      <th>4380</th>\n",
       "      <td>0</td>\n",
       "      <td>0</td>\n",
       "      <td>1</td>\n",
       "      <td>1</td>\n",
       "      <td>0</td>\n",
       "      <td>1</td>\n",
       "      <td>0</td>\n",
       "      <td>2</td>\n",
       "      <td>1</td>\n",
       "      <td>1</td>\n",
       "      <td>1</td>\n",
       "      <td>1</td>\n",
       "      <td>1</td>\n",
       "      <td>1</td>\n",
       "      <td>2</td>\n",
       "      <td>0</td>\n",
       "      <td>3</td>\n",
       "      <td>20.00</td>\n",
       "      <td>NaN</td>\n",
       "      <td>0</td>\n",
       "    </tr>\n",
       "    <tr>\n",
       "      <th>5218</th>\n",
       "      <td>1</td>\n",
       "      <td>0</td>\n",
       "      <td>1</td>\n",
       "      <td>1</td>\n",
       "      <td>0</td>\n",
       "      <td>1</td>\n",
       "      <td>0</td>\n",
       "      <td>2</td>\n",
       "      <td>1</td>\n",
       "      <td>1</td>\n",
       "      <td>1</td>\n",
       "      <td>1</td>\n",
       "      <td>1</td>\n",
       "      <td>1</td>\n",
       "      <td>1</td>\n",
       "      <td>1</td>\n",
       "      <td>3</td>\n",
       "      <td>19.70</td>\n",
       "      <td>NaN</td>\n",
       "      <td>0</td>\n",
       "    </tr>\n",
       "    <tr>\n",
       "      <th>6670</th>\n",
       "      <td>0</td>\n",
       "      <td>0</td>\n",
       "      <td>1</td>\n",
       "      <td>1</td>\n",
       "      <td>0</td>\n",
       "      <td>1</td>\n",
       "      <td>2</td>\n",
       "      <td>0</td>\n",
       "      <td>0</td>\n",
       "      <td>2</td>\n",
       "      <td>2</td>\n",
       "      <td>2</td>\n",
       "      <td>2</td>\n",
       "      <td>0</td>\n",
       "      <td>2</td>\n",
       "      <td>0</td>\n",
       "      <td>3</td>\n",
       "      <td>73.35</td>\n",
       "      <td>NaN</td>\n",
       "      <td>0</td>\n",
       "    </tr>\n",
       "    <tr>\n",
       "      <th>6754</th>\n",
       "      <td>1</td>\n",
       "      <td>0</td>\n",
       "      <td>0</td>\n",
       "      <td>1</td>\n",
       "      <td>0</td>\n",
       "      <td>1</td>\n",
       "      <td>2</td>\n",
       "      <td>0</td>\n",
       "      <td>2</td>\n",
       "      <td>2</td>\n",
       "      <td>0</td>\n",
       "      <td>2</td>\n",
       "      <td>0</td>\n",
       "      <td>0</td>\n",
       "      <td>2</td>\n",
       "      <td>1</td>\n",
       "      <td>0</td>\n",
       "      <td>61.90</td>\n",
       "      <td>NaN</td>\n",
       "      <td>0</td>\n",
       "    </tr>\n",
       "  </tbody>\n",
       "</table>\n",
       "</div>"
      ],
      "text/plain": [
       "      gender  SeniorCitizen  Partner  Dependents  tenure  PhoneService  \\\n",
       "488        0              0        1           1       0             0   \n",
       "753        1              0        0           1       0             1   \n",
       "936        0              0        1           1       0             1   \n",
       "1082       1              0        1           1       0             1   \n",
       "1340       0              0        1           1       0             0   \n",
       "3331       1              0        1           1       0             1   \n",
       "3826       1              0        1           1       0             1   \n",
       "4380       0              0        1           1       0             1   \n",
       "5218       1              0        1           1       0             1   \n",
       "6670       0              0        1           1       0             1   \n",
       "6754       1              0        0           1       0             1   \n",
       "\n",
       "      MultipleLines  InternetService  OnlineSecurity  OnlineBackup  \\\n",
       "488               1                0               2             0   \n",
       "753               0                2               1             1   \n",
       "936               0                0               2             2   \n",
       "1082              2                2               1             1   \n",
       "1340              1                0               2             2   \n",
       "3331              0                2               1             1   \n",
       "3826              2                2               1             1   \n",
       "4380              0                2               1             1   \n",
       "5218              0                2               1             1   \n",
       "6670              2                0               0             2   \n",
       "6754              2                0               2             2   \n",
       "\n",
       "      DeviceProtection  TechSupport  StreamingTV  StreamingMovies  Contract  \\\n",
       "488                  2            2            2                0         2   \n",
       "753                  1            1            1                1         2   \n",
       "936                  2            0            2                2         2   \n",
       "1082                 1            1            1                1         2   \n",
       "1340                 2            2            2                0         2   \n",
       "3331                 1            1            1                1         2   \n",
       "3826                 1            1            1                1         2   \n",
       "4380                 1            1            1                1         2   \n",
       "5218                 1            1            1                1         1   \n",
       "6670                 2            2            2                0         2   \n",
       "6754                 0            2            0                0         2   \n",
       "\n",
       "      PaperlessBilling  PaymentMethod  MonthlyCharges  TotalCharges  Churn  \n",
       "488                  1              0           52.55           NaN      0  \n",
       "753                  0              3           20.25           NaN      0  \n",
       "936                  0              3           80.85           NaN      0  \n",
       "1082                 0              3           25.75           NaN      0  \n",
       "1340                 0              1           56.05           NaN      0  \n",
       "3331                 0              3           19.85           NaN      0  \n",
       "3826                 0              3           25.35           NaN      0  \n",
       "4380                 0              3           20.00           NaN      0  \n",
       "5218                 1              3           19.70           NaN      0  \n",
       "6670                 0              3           73.35           NaN      0  \n",
       "6754                 1              0           61.90           NaN      0  "
      ]
     },
     "execution_count": 122,
     "metadata": {},
     "output_type": "execute_result"
    }
   ],
   "source": [
    "df[np.isnan(df['TotalCharges'])]"
   ]
  },
  {
   "cell_type": "code",
   "execution_count": 123,
   "metadata": {},
   "outputs": [
    {
     "data": {
      "text/plain": [
       "gender                int32\n",
       "SeniorCitizen         int64\n",
       "Partner               int32\n",
       "Dependents            int32\n",
       "tenure                int64\n",
       "PhoneService          int32\n",
       "MultipleLines         int32\n",
       "InternetService       int32\n",
       "OnlineSecurity        int32\n",
       "OnlineBackup          int32\n",
       "DeviceProtection      int32\n",
       "TechSupport           int32\n",
       "StreamingTV           int32\n",
       "StreamingMovies       int32\n",
       "Contract              int32\n",
       "PaperlessBilling      int32\n",
       "PaymentMethod         int32\n",
       "MonthlyCharges      float64\n",
       "TotalCharges        float64\n",
       "Churn                 int64\n",
       "dtype: object"
      ]
     },
     "execution_count": 123,
     "metadata": {},
     "output_type": "execute_result"
    }
   ],
   "source": [
    "df.dtypes"
   ]
  },
  {
   "cell_type": "code",
   "execution_count": 124,
   "metadata": {},
   "outputs": [
    {
     "data": {
      "text/plain": [
       "array([  29.85, 1889.5 ,  108.15, ...,  346.45,  306.6 , 6844.5 ])"
      ]
     },
     "execution_count": 124,
     "metadata": {},
     "output_type": "execute_result"
    }
   ],
   "source": [
    "df['TotalCharges'].unique()"
   ]
  },
  {
   "cell_type": "code",
   "execution_count": 125,
   "metadata": {},
   "outputs": [
    {
     "data": {
      "text/html": [
       "<div>\n",
       "<style scoped>\n",
       "    .dataframe tbody tr th:only-of-type {\n",
       "        vertical-align: middle;\n",
       "    }\n",
       "\n",
       "    .dataframe tbody tr th {\n",
       "        vertical-align: top;\n",
       "    }\n",
       "\n",
       "    .dataframe thead th {\n",
       "        text-align: right;\n",
       "    }\n",
       "</style>\n",
       "<table border=\"1\" class=\"dataframe\">\n",
       "  <thead>\n",
       "    <tr style=\"text-align: right;\">\n",
       "      <th></th>\n",
       "      <th>gender</th>\n",
       "      <th>SeniorCitizen</th>\n",
       "      <th>Partner</th>\n",
       "      <th>Dependents</th>\n",
       "      <th>tenure</th>\n",
       "      <th>PhoneService</th>\n",
       "      <th>MultipleLines</th>\n",
       "      <th>InternetService</th>\n",
       "      <th>OnlineSecurity</th>\n",
       "      <th>OnlineBackup</th>\n",
       "      <th>DeviceProtection</th>\n",
       "      <th>TechSupport</th>\n",
       "      <th>StreamingTV</th>\n",
       "      <th>StreamingMovies</th>\n",
       "      <th>Contract</th>\n",
       "      <th>PaperlessBilling</th>\n",
       "      <th>PaymentMethod</th>\n",
       "      <th>MonthlyCharges</th>\n",
       "      <th>TotalCharges</th>\n",
       "      <th>Churn</th>\n",
       "    </tr>\n",
       "  </thead>\n",
       "  <tbody>\n",
       "    <tr>\n",
       "      <th>0</th>\n",
       "      <td>0</td>\n",
       "      <td>0</td>\n",
       "      <td>1</td>\n",
       "      <td>0</td>\n",
       "      <td>1</td>\n",
       "      <td>0</td>\n",
       "      <td>1</td>\n",
       "      <td>0</td>\n",
       "      <td>0</td>\n",
       "      <td>2</td>\n",
       "      <td>0</td>\n",
       "      <td>0</td>\n",
       "      <td>0</td>\n",
       "      <td>0</td>\n",
       "      <td>0</td>\n",
       "      <td>1</td>\n",
       "      <td>2</td>\n",
       "      <td>29.85</td>\n",
       "      <td>29.85</td>\n",
       "      <td>0</td>\n",
       "    </tr>\n",
       "    <tr>\n",
       "      <th>1</th>\n",
       "      <td>1</td>\n",
       "      <td>0</td>\n",
       "      <td>0</td>\n",
       "      <td>0</td>\n",
       "      <td>34</td>\n",
       "      <td>1</td>\n",
       "      <td>0</td>\n",
       "      <td>0</td>\n",
       "      <td>2</td>\n",
       "      <td>0</td>\n",
       "      <td>2</td>\n",
       "      <td>0</td>\n",
       "      <td>0</td>\n",
       "      <td>0</td>\n",
       "      <td>1</td>\n",
       "      <td>0</td>\n",
       "      <td>3</td>\n",
       "      <td>56.95</td>\n",
       "      <td>1889.50</td>\n",
       "      <td>0</td>\n",
       "    </tr>\n",
       "    <tr>\n",
       "      <th>2</th>\n",
       "      <td>1</td>\n",
       "      <td>0</td>\n",
       "      <td>0</td>\n",
       "      <td>0</td>\n",
       "      <td>2</td>\n",
       "      <td>1</td>\n",
       "      <td>0</td>\n",
       "      <td>0</td>\n",
       "      <td>2</td>\n",
       "      <td>2</td>\n",
       "      <td>0</td>\n",
       "      <td>0</td>\n",
       "      <td>0</td>\n",
       "      <td>0</td>\n",
       "      <td>0</td>\n",
       "      <td>1</td>\n",
       "      <td>3</td>\n",
       "      <td>53.85</td>\n",
       "      <td>108.15</td>\n",
       "      <td>1</td>\n",
       "    </tr>\n",
       "    <tr>\n",
       "      <th>3</th>\n",
       "      <td>1</td>\n",
       "      <td>0</td>\n",
       "      <td>0</td>\n",
       "      <td>0</td>\n",
       "      <td>45</td>\n",
       "      <td>0</td>\n",
       "      <td>1</td>\n",
       "      <td>0</td>\n",
       "      <td>2</td>\n",
       "      <td>0</td>\n",
       "      <td>2</td>\n",
       "      <td>2</td>\n",
       "      <td>0</td>\n",
       "      <td>0</td>\n",
       "      <td>1</td>\n",
       "      <td>0</td>\n",
       "      <td>0</td>\n",
       "      <td>42.30</td>\n",
       "      <td>1840.75</td>\n",
       "      <td>0</td>\n",
       "    </tr>\n",
       "    <tr>\n",
       "      <th>4</th>\n",
       "      <td>0</td>\n",
       "      <td>0</td>\n",
       "      <td>0</td>\n",
       "      <td>0</td>\n",
       "      <td>2</td>\n",
       "      <td>1</td>\n",
       "      <td>0</td>\n",
       "      <td>1</td>\n",
       "      <td>0</td>\n",
       "      <td>0</td>\n",
       "      <td>0</td>\n",
       "      <td>0</td>\n",
       "      <td>0</td>\n",
       "      <td>0</td>\n",
       "      <td>0</td>\n",
       "      <td>1</td>\n",
       "      <td>2</td>\n",
       "      <td>70.70</td>\n",
       "      <td>151.65</td>\n",
       "      <td>1</td>\n",
       "    </tr>\n",
       "    <tr>\n",
       "      <th>...</th>\n",
       "      <td>...</td>\n",
       "      <td>...</td>\n",
       "      <td>...</td>\n",
       "      <td>...</td>\n",
       "      <td>...</td>\n",
       "      <td>...</td>\n",
       "      <td>...</td>\n",
       "      <td>...</td>\n",
       "      <td>...</td>\n",
       "      <td>...</td>\n",
       "      <td>...</td>\n",
       "      <td>...</td>\n",
       "      <td>...</td>\n",
       "      <td>...</td>\n",
       "      <td>...</td>\n",
       "      <td>...</td>\n",
       "      <td>...</td>\n",
       "      <td>...</td>\n",
       "      <td>...</td>\n",
       "      <td>...</td>\n",
       "    </tr>\n",
       "    <tr>\n",
       "      <th>7038</th>\n",
       "      <td>1</td>\n",
       "      <td>0</td>\n",
       "      <td>1</td>\n",
       "      <td>1</td>\n",
       "      <td>24</td>\n",
       "      <td>1</td>\n",
       "      <td>2</td>\n",
       "      <td>0</td>\n",
       "      <td>2</td>\n",
       "      <td>0</td>\n",
       "      <td>2</td>\n",
       "      <td>2</td>\n",
       "      <td>2</td>\n",
       "      <td>2</td>\n",
       "      <td>1</td>\n",
       "      <td>1</td>\n",
       "      <td>3</td>\n",
       "      <td>84.80</td>\n",
       "      <td>1990.50</td>\n",
       "      <td>0</td>\n",
       "    </tr>\n",
       "    <tr>\n",
       "      <th>7039</th>\n",
       "      <td>0</td>\n",
       "      <td>0</td>\n",
       "      <td>1</td>\n",
       "      <td>1</td>\n",
       "      <td>72</td>\n",
       "      <td>1</td>\n",
       "      <td>2</td>\n",
       "      <td>1</td>\n",
       "      <td>0</td>\n",
       "      <td>2</td>\n",
       "      <td>2</td>\n",
       "      <td>0</td>\n",
       "      <td>2</td>\n",
       "      <td>2</td>\n",
       "      <td>1</td>\n",
       "      <td>1</td>\n",
       "      <td>1</td>\n",
       "      <td>103.20</td>\n",
       "      <td>7362.90</td>\n",
       "      <td>0</td>\n",
       "    </tr>\n",
       "    <tr>\n",
       "      <th>7040</th>\n",
       "      <td>0</td>\n",
       "      <td>0</td>\n",
       "      <td>1</td>\n",
       "      <td>1</td>\n",
       "      <td>11</td>\n",
       "      <td>0</td>\n",
       "      <td>1</td>\n",
       "      <td>0</td>\n",
       "      <td>2</td>\n",
       "      <td>0</td>\n",
       "      <td>0</td>\n",
       "      <td>0</td>\n",
       "      <td>0</td>\n",
       "      <td>0</td>\n",
       "      <td>0</td>\n",
       "      <td>1</td>\n",
       "      <td>2</td>\n",
       "      <td>29.60</td>\n",
       "      <td>346.45</td>\n",
       "      <td>0</td>\n",
       "    </tr>\n",
       "    <tr>\n",
       "      <th>7041</th>\n",
       "      <td>1</td>\n",
       "      <td>1</td>\n",
       "      <td>1</td>\n",
       "      <td>0</td>\n",
       "      <td>4</td>\n",
       "      <td>1</td>\n",
       "      <td>2</td>\n",
       "      <td>1</td>\n",
       "      <td>0</td>\n",
       "      <td>0</td>\n",
       "      <td>0</td>\n",
       "      <td>0</td>\n",
       "      <td>0</td>\n",
       "      <td>0</td>\n",
       "      <td>0</td>\n",
       "      <td>1</td>\n",
       "      <td>3</td>\n",
       "      <td>74.40</td>\n",
       "      <td>306.60</td>\n",
       "      <td>1</td>\n",
       "    </tr>\n",
       "    <tr>\n",
       "      <th>7042</th>\n",
       "      <td>1</td>\n",
       "      <td>0</td>\n",
       "      <td>0</td>\n",
       "      <td>0</td>\n",
       "      <td>66</td>\n",
       "      <td>1</td>\n",
       "      <td>0</td>\n",
       "      <td>1</td>\n",
       "      <td>2</td>\n",
       "      <td>0</td>\n",
       "      <td>2</td>\n",
       "      <td>2</td>\n",
       "      <td>2</td>\n",
       "      <td>2</td>\n",
       "      <td>2</td>\n",
       "      <td>1</td>\n",
       "      <td>0</td>\n",
       "      <td>105.65</td>\n",
       "      <td>6844.50</td>\n",
       "      <td>0</td>\n",
       "    </tr>\n",
       "  </tbody>\n",
       "</table>\n",
       "<p>7043 rows × 20 columns</p>\n",
       "</div>"
      ],
      "text/plain": [
       "      gender  SeniorCitizen  Partner  Dependents  tenure  PhoneService  \\\n",
       "0          0              0        1           0       1             0   \n",
       "1          1              0        0           0      34             1   \n",
       "2          1              0        0           0       2             1   \n",
       "3          1              0        0           0      45             0   \n",
       "4          0              0        0           0       2             1   \n",
       "...      ...            ...      ...         ...     ...           ...   \n",
       "7038       1              0        1           1      24             1   \n",
       "7039       0              0        1           1      72             1   \n",
       "7040       0              0        1           1      11             0   \n",
       "7041       1              1        1           0       4             1   \n",
       "7042       1              0        0           0      66             1   \n",
       "\n",
       "      MultipleLines  InternetService  OnlineSecurity  OnlineBackup  \\\n",
       "0                 1                0               0             2   \n",
       "1                 0                0               2             0   \n",
       "2                 0                0               2             2   \n",
       "3                 1                0               2             0   \n",
       "4                 0                1               0             0   \n",
       "...             ...              ...             ...           ...   \n",
       "7038              2                0               2             0   \n",
       "7039              2                1               0             2   \n",
       "7040              1                0               2             0   \n",
       "7041              2                1               0             0   \n",
       "7042              0                1               2             0   \n",
       "\n",
       "      DeviceProtection  TechSupport  StreamingTV  StreamingMovies  Contract  \\\n",
       "0                    0            0            0                0         0   \n",
       "1                    2            0            0                0         1   \n",
       "2                    0            0            0                0         0   \n",
       "3                    2            2            0                0         1   \n",
       "4                    0            0            0                0         0   \n",
       "...                ...          ...          ...              ...       ...   \n",
       "7038                 2            2            2                2         1   \n",
       "7039                 2            0            2                2         1   \n",
       "7040                 0            0            0                0         0   \n",
       "7041                 0            0            0                0         0   \n",
       "7042                 2            2            2                2         2   \n",
       "\n",
       "      PaperlessBilling  PaymentMethod  MonthlyCharges  TotalCharges  Churn  \n",
       "0                    1              2           29.85         29.85      0  \n",
       "1                    0              3           56.95       1889.50      0  \n",
       "2                    1              3           53.85        108.15      1  \n",
       "3                    0              0           42.30       1840.75      0  \n",
       "4                    1              2           70.70        151.65      1  \n",
       "...                ...            ...             ...           ...    ...  \n",
       "7038                 1              3           84.80       1990.50      0  \n",
       "7039                 1              1          103.20       7362.90      0  \n",
       "7040                 1              2           29.60        346.45      0  \n",
       "7041                 1              3           74.40        306.60      1  \n",
       "7042                 1              0          105.65       6844.50      0  \n",
       "\n",
       "[7043 rows x 20 columns]"
      ]
     },
     "execution_count": 125,
     "metadata": {},
     "output_type": "execute_result"
    }
   ],
   "source": [
    "df.fillna(df[\"TotalCharges\"].mean())"
   ]
  },
  {
   "cell_type": "code",
   "execution_count": 126,
   "metadata": {},
   "outputs": [
    {
     "data": {
      "text/plain": [
       "gender               0\n",
       "SeniorCitizen        0\n",
       "Partner              0\n",
       "Dependents           0\n",
       "tenure               0\n",
       "PhoneService         0\n",
       "MultipleLines        0\n",
       "InternetService      0\n",
       "OnlineSecurity       0\n",
       "OnlineBackup         0\n",
       "DeviceProtection     0\n",
       "TechSupport          0\n",
       "StreamingTV          0\n",
       "StreamingMovies      0\n",
       "Contract             0\n",
       "PaperlessBilling     0\n",
       "PaymentMethod        0\n",
       "MonthlyCharges       0\n",
       "TotalCharges        11\n",
       "Churn                0\n",
       "dtype: int64"
      ]
     },
     "execution_count": 126,
     "metadata": {},
     "output_type": "execute_result"
    }
   ],
   "source": [
    "df['Churn'] = pd.to_numeric(df.Churn, errors='coerce')\n",
    "df.isnull().sum()"
   ]
  },
  {
   "cell_type": "code",
   "execution_count": 127,
   "metadata": {},
   "outputs": [
    {
     "data": {
      "text/html": [
       "<div>\n",
       "<style scoped>\n",
       "    .dataframe tbody tr th:only-of-type {\n",
       "        vertical-align: middle;\n",
       "    }\n",
       "\n",
       "    .dataframe tbody tr th {\n",
       "        vertical-align: top;\n",
       "    }\n",
       "\n",
       "    .dataframe thead th {\n",
       "        text-align: right;\n",
       "    }\n",
       "</style>\n",
       "<table border=\"1\" class=\"dataframe\">\n",
       "  <thead>\n",
       "    <tr style=\"text-align: right;\">\n",
       "      <th></th>\n",
       "      <th>gender</th>\n",
       "      <th>SeniorCitizen</th>\n",
       "      <th>Partner</th>\n",
       "      <th>Dependents</th>\n",
       "      <th>tenure</th>\n",
       "      <th>PhoneService</th>\n",
       "      <th>MultipleLines</th>\n",
       "      <th>InternetService</th>\n",
       "      <th>OnlineSecurity</th>\n",
       "      <th>OnlineBackup</th>\n",
       "      <th>DeviceProtection</th>\n",
       "      <th>TechSupport</th>\n",
       "      <th>StreamingTV</th>\n",
       "      <th>StreamingMovies</th>\n",
       "      <th>Contract</th>\n",
       "      <th>PaperlessBilling</th>\n",
       "      <th>PaymentMethod</th>\n",
       "      <th>MonthlyCharges</th>\n",
       "      <th>TotalCharges</th>\n",
       "      <th>Churn</th>\n",
       "    </tr>\n",
       "  </thead>\n",
       "  <tbody>\n",
       "  </tbody>\n",
       "</table>\n",
       "</div>"
      ],
      "text/plain": [
       "Empty DataFrame\n",
       "Columns: [gender, SeniorCitizen, Partner, Dependents, tenure, PhoneService, MultipleLines, InternetService, OnlineSecurity, OnlineBackup, DeviceProtection, TechSupport, StreamingTV, StreamingMovies, Contract, PaperlessBilling, PaymentMethod, MonthlyCharges, TotalCharges, Churn]\n",
       "Index: []"
      ]
     },
     "execution_count": 127,
     "metadata": {},
     "output_type": "execute_result"
    }
   ],
   "source": [
    "df[np.isnan(df['Churn'])]"
   ]
  },
  {
   "cell_type": "code",
   "execution_count": 128,
   "metadata": {},
   "outputs": [
    {
     "data": {
      "text/plain": [
       "array([0, 1], dtype=int64)"
      ]
     },
     "execution_count": 128,
     "metadata": {},
     "output_type": "execute_result"
    }
   ],
   "source": [
    "df['Churn'].unique()"
   ]
  },
  {
   "cell_type": "code",
   "execution_count": 129,
   "metadata": {},
   "outputs": [],
   "source": [
    "df = df.fillna(df['Churn'].value_counts().index[0])"
   ]
  },
  {
   "cell_type": "code",
   "execution_count": 130,
   "metadata": {},
   "outputs": [
    {
     "data": {
      "text/plain": [
       "gender                int32\n",
       "SeniorCitizen         int64\n",
       "Partner               int32\n",
       "Dependents            int32\n",
       "tenure                int64\n",
       "PhoneService          int32\n",
       "MultipleLines         int32\n",
       "InternetService       int32\n",
       "OnlineSecurity        int32\n",
       "OnlineBackup          int32\n",
       "DeviceProtection      int32\n",
       "TechSupport           int32\n",
       "StreamingTV           int32\n",
       "StreamingMovies       int32\n",
       "Contract              int32\n",
       "PaperlessBilling      int32\n",
       "PaymentMethod         int32\n",
       "MonthlyCharges      float64\n",
       "TotalCharges        float64\n",
       "Churn                 int64\n",
       "dtype: object"
      ]
     },
     "execution_count": 130,
     "metadata": {},
     "output_type": "execute_result"
    }
   ],
   "source": [
    "df.dtypes"
   ]
  },
  {
   "cell_type": "markdown",
   "metadata": {},
   "source": [
    "# Checking Outliers"
   ]
  },
  {
   "cell_type": "code",
   "execution_count": 131,
   "metadata": {},
   "outputs": [
    {
     "data": {
      "image/png": "[encoded data removed]",
      "text/plain": [
       "<Figure size 2160x1800 with 20 Axes>"
      ]
     },
     "metadata": {
      "needs_background": "light"
     },
     "output_type": "display_data"
    }
   ],
   "source": [
    "collist=df.columns.values\n",
    "ncol=12\n",
    "nrows=10\n",
    "plt.figure(figsize=(30,25))\n",
    "for i in range(0,len(collist)):\n",
    "    plt.subplot(nrows,ncol,i+1)\n",
    "    sns.boxplot(df[collist[i]],color='Pink', orient='v')\n",
    "    plt.tight_layout()"
   ]
  },
  {
   "cell_type": "markdown",
   "metadata": {},
   "source": [
    "There are no outliers and as we are getting few are present but it is not affecting the data."
   ]
  },
  {
   "cell_type": "markdown",
   "metadata": {},
   "source": [
    "# Spliting the Independent and Target Variables."
   ]
  },
  {
   "cell_type": "code",
   "execution_count": 132,
   "metadata": {},
   "outputs": [],
   "source": [
    "x=df.drop('Churn',axis=1)\n",
    "y=df['Churn']"
   ]
  },
  {
   "cell_type": "markdown",
   "metadata": {},
   "source": [
    "# Data Scaling"
   ]
  },
  {
   "cell_type": "code",
   "execution_count": 133,
   "metadata": {},
   "outputs": [
    {
     "data": {
      "text/html": [
       "<div>\n",
       "<style scoped>\n",
       "    .dataframe tbody tr th:only-of-type {\n",
       "        vertical-align: middle;\n",
       "    }\n",
       "\n",
       "    .dataframe tbody tr th {\n",
       "        vertical-align: top;\n",
       "    }\n",
       "\n",
       "    .dataframe thead th {\n",
       "        text-align: right;\n",
       "    }\n",
       "</style>\n",
       "<table border=\"1\" class=\"dataframe\">\n",
       "  <thead>\n",
       "    <tr style=\"text-align: right;\">\n",
       "      <th></th>\n",
       "      <th>gender</th>\n",
       "      <th>SeniorCitizen</th>\n",
       "      <th>Partner</th>\n",
       "      <th>Dependents</th>\n",
       "      <th>tenure</th>\n",
       "      <th>PhoneService</th>\n",
       "      <th>MultipleLines</th>\n",
       "      <th>InternetService</th>\n",
       "      <th>OnlineSecurity</th>\n",
       "      <th>OnlineBackup</th>\n",
       "      <th>DeviceProtection</th>\n",
       "      <th>TechSupport</th>\n",
       "      <th>StreamingTV</th>\n",
       "      <th>StreamingMovies</th>\n",
       "      <th>Contract</th>\n",
       "      <th>PaperlessBilling</th>\n",
       "      <th>PaymentMethod</th>\n",
       "      <th>MonthlyCharges</th>\n",
       "      <th>TotalCharges</th>\n",
       "    </tr>\n",
       "  </thead>\n",
       "  <tbody>\n",
       "    <tr>\n",
       "      <th>0</th>\n",
       "      <td>0.0</td>\n",
       "      <td>0.0</td>\n",
       "      <td>1.0</td>\n",
       "      <td>0.0</td>\n",
       "      <td>0.013889</td>\n",
       "      <td>0.0</td>\n",
       "      <td>0.5</td>\n",
       "      <td>0.0</td>\n",
       "      <td>0.0</td>\n",
       "      <td>1.0</td>\n",
       "      <td>0.0</td>\n",
       "      <td>0.0</td>\n",
       "      <td>0.0</td>\n",
       "      <td>0.0</td>\n",
       "      <td>0.0</td>\n",
       "      <td>1.0</td>\n",
       "      <td>0.666667</td>\n",
       "      <td>0.115423</td>\n",
       "      <td>0.003437</td>\n",
       "    </tr>\n",
       "    <tr>\n",
       "      <th>1</th>\n",
       "      <td>1.0</td>\n",
       "      <td>0.0</td>\n",
       "      <td>0.0</td>\n",
       "      <td>0.0</td>\n",
       "      <td>0.472222</td>\n",
       "      <td>1.0</td>\n",
       "      <td>0.0</td>\n",
       "      <td>0.0</td>\n",
       "      <td>1.0</td>\n",
       "      <td>0.0</td>\n",
       "      <td>1.0</td>\n",
       "      <td>0.0</td>\n",
       "      <td>0.0</td>\n",
       "      <td>0.0</td>\n",
       "      <td>0.5</td>\n",
       "      <td>0.0</td>\n",
       "      <td>1.000000</td>\n",
       "      <td>0.385075</td>\n",
       "      <td>0.217564</td>\n",
       "    </tr>\n",
       "    <tr>\n",
       "      <th>2</th>\n",
       "      <td>1.0</td>\n",
       "      <td>0.0</td>\n",
       "      <td>0.0</td>\n",
       "      <td>0.0</td>\n",
       "      <td>0.027778</td>\n",
       "      <td>1.0</td>\n",
       "      <td>0.0</td>\n",
       "      <td>0.0</td>\n",
       "      <td>1.0</td>\n",
       "      <td>1.0</td>\n",
       "      <td>0.0</td>\n",
       "      <td>0.0</td>\n",
       "      <td>0.0</td>\n",
       "      <td>0.0</td>\n",
       "      <td>0.0</td>\n",
       "      <td>1.0</td>\n",
       "      <td>1.000000</td>\n",
       "      <td>0.354229</td>\n",
       "      <td>0.012453</td>\n",
       "    </tr>\n",
       "    <tr>\n",
       "      <th>3</th>\n",
       "      <td>1.0</td>\n",
       "      <td>0.0</td>\n",
       "      <td>0.0</td>\n",
       "      <td>0.0</td>\n",
       "      <td>0.625000</td>\n",
       "      <td>0.0</td>\n",
       "      <td>0.5</td>\n",
       "      <td>0.0</td>\n",
       "      <td>1.0</td>\n",
       "      <td>0.0</td>\n",
       "      <td>1.0</td>\n",
       "      <td>1.0</td>\n",
       "      <td>0.0</td>\n",
       "      <td>0.0</td>\n",
       "      <td>0.5</td>\n",
       "      <td>0.0</td>\n",
       "      <td>0.000000</td>\n",
       "      <td>0.239303</td>\n",
       "      <td>0.211951</td>\n",
       "    </tr>\n",
       "    <tr>\n",
       "      <th>4</th>\n",
       "      <td>0.0</td>\n",
       "      <td>0.0</td>\n",
       "      <td>0.0</td>\n",
       "      <td>0.0</td>\n",
       "      <td>0.027778</td>\n",
       "      <td>1.0</td>\n",
       "      <td>0.0</td>\n",
       "      <td>0.5</td>\n",
       "      <td>0.0</td>\n",
       "      <td>0.0</td>\n",
       "      <td>0.0</td>\n",
       "      <td>0.0</td>\n",
       "      <td>0.0</td>\n",
       "      <td>0.0</td>\n",
       "      <td>0.0</td>\n",
       "      <td>1.0</td>\n",
       "      <td>0.666667</td>\n",
       "      <td>0.521891</td>\n",
       "      <td>0.017462</td>\n",
       "    </tr>\n",
       "    <tr>\n",
       "      <th>...</th>\n",
       "      <td>...</td>\n",
       "      <td>...</td>\n",
       "      <td>...</td>\n",
       "      <td>...</td>\n",
       "      <td>...</td>\n",
       "      <td>...</td>\n",
       "      <td>...</td>\n",
       "      <td>...</td>\n",
       "      <td>...</td>\n",
       "      <td>...</td>\n",
       "      <td>...</td>\n",
       "      <td>...</td>\n",
       "      <td>...</td>\n",
       "      <td>...</td>\n",
       "      <td>...</td>\n",
       "      <td>...</td>\n",
       "      <td>...</td>\n",
       "      <td>...</td>\n",
       "      <td>...</td>\n",
       "    </tr>\n",
       "    <tr>\n",
       "      <th>7038</th>\n",
       "      <td>1.0</td>\n",
       "      <td>0.0</td>\n",
       "      <td>1.0</td>\n",
       "      <td>1.0</td>\n",
       "      <td>0.333333</td>\n",
       "      <td>1.0</td>\n",
       "      <td>1.0</td>\n",
       "      <td>0.0</td>\n",
       "      <td>1.0</td>\n",
       "      <td>0.0</td>\n",
       "      <td>1.0</td>\n",
       "      <td>1.0</td>\n",
       "      <td>1.0</td>\n",
       "      <td>1.0</td>\n",
       "      <td>0.5</td>\n",
       "      <td>1.0</td>\n",
       "      <td>1.000000</td>\n",
       "      <td>0.662189</td>\n",
       "      <td>0.229194</td>\n",
       "    </tr>\n",
       "    <tr>\n",
       "      <th>7039</th>\n",
       "      <td>0.0</td>\n",
       "      <td>0.0</td>\n",
       "      <td>1.0</td>\n",
       "      <td>1.0</td>\n",
       "      <td>1.000000</td>\n",
       "      <td>1.0</td>\n",
       "      <td>1.0</td>\n",
       "      <td>0.5</td>\n",
       "      <td>0.0</td>\n",
       "      <td>1.0</td>\n",
       "      <td>1.0</td>\n",
       "      <td>0.0</td>\n",
       "      <td>1.0</td>\n",
       "      <td>1.0</td>\n",
       "      <td>0.5</td>\n",
       "      <td>1.0</td>\n",
       "      <td>0.333333</td>\n",
       "      <td>0.845274</td>\n",
       "      <td>0.847792</td>\n",
       "    </tr>\n",
       "    <tr>\n",
       "      <th>7040</th>\n",
       "      <td>0.0</td>\n",
       "      <td>0.0</td>\n",
       "      <td>1.0</td>\n",
       "      <td>1.0</td>\n",
       "      <td>0.152778</td>\n",
       "      <td>0.0</td>\n",
       "      <td>0.5</td>\n",
       "      <td>0.0</td>\n",
       "      <td>1.0</td>\n",
       "      <td>0.0</td>\n",
       "      <td>0.0</td>\n",
       "      <td>0.0</td>\n",
       "      <td>0.0</td>\n",
       "      <td>0.0</td>\n",
       "      <td>0.0</td>\n",
       "      <td>1.0</td>\n",
       "      <td>0.666667</td>\n",
       "      <td>0.112935</td>\n",
       "      <td>0.039892</td>\n",
       "    </tr>\n",
       "    <tr>\n",
       "      <th>7041</th>\n",
       "      <td>1.0</td>\n",
       "      <td>1.0</td>\n",
       "      <td>1.0</td>\n",
       "      <td>0.0</td>\n",
       "      <td>0.055556</td>\n",
       "      <td>1.0</td>\n",
       "      <td>1.0</td>\n",
       "      <td>0.5</td>\n",
       "      <td>0.0</td>\n",
       "      <td>0.0</td>\n",
       "      <td>0.0</td>\n",
       "      <td>0.0</td>\n",
       "      <td>0.0</td>\n",
       "      <td>0.0</td>\n",
       "      <td>0.0</td>\n",
       "      <td>1.0</td>\n",
       "      <td>1.000000</td>\n",
       "      <td>0.558706</td>\n",
       "      <td>0.035303</td>\n",
       "    </tr>\n",
       "    <tr>\n",
       "      <th>7042</th>\n",
       "      <td>1.0</td>\n",
       "      <td>0.0</td>\n",
       "      <td>0.0</td>\n",
       "      <td>0.0</td>\n",
       "      <td>0.916667</td>\n",
       "      <td>1.0</td>\n",
       "      <td>0.0</td>\n",
       "      <td>0.5</td>\n",
       "      <td>1.0</td>\n",
       "      <td>0.0</td>\n",
       "      <td>1.0</td>\n",
       "      <td>1.0</td>\n",
       "      <td>1.0</td>\n",
       "      <td>1.0</td>\n",
       "      <td>1.0</td>\n",
       "      <td>1.0</td>\n",
       "      <td>0.000000</td>\n",
       "      <td>0.869652</td>\n",
       "      <td>0.788101</td>\n",
       "    </tr>\n",
       "  </tbody>\n",
       "</table>\n",
       "<p>7043 rows × 19 columns</p>\n",
       "</div>"
      ],
      "text/plain": [
       "      gender  SeniorCitizen  Partner  Dependents    tenure  PhoneService  \\\n",
       "0        0.0            0.0      1.0         0.0  0.013889           0.0   \n",
       "1        1.0            0.0      0.0         0.0  0.472222           1.0   \n",
       "2        1.0            0.0      0.0         0.0  0.027778           1.0   \n",
       "3        1.0            0.0      0.0         0.0  0.625000           0.0   \n",
       "4        0.0            0.0      0.0         0.0  0.027778           1.0   \n",
       "...      ...            ...      ...         ...       ...           ...   \n",
       "7038     1.0            0.0      1.0         1.0  0.333333           1.0   \n",
       "7039     0.0            0.0      1.0         1.0  1.000000           1.0   \n",
       "7040     0.0            0.0      1.0         1.0  0.152778           0.0   \n",
       "7041     1.0            1.0      1.0         0.0  0.055556           1.0   \n",
       "7042     1.0            0.0      0.0         0.0  0.916667           1.0   \n",
       "\n",
       "      MultipleLines  InternetService  OnlineSecurity  OnlineBackup  \\\n",
       "0               0.5              0.0             0.0           1.0   \n",
       "1               0.0              0.0             1.0           0.0   \n",
       "2               0.0              0.0             1.0           1.0   \n",
       "3               0.5              0.0             1.0           0.0   \n",
       "4               0.0              0.5             0.0           0.0   \n",
       "...             ...              ...             ...           ...   \n",
       "7038            1.0              0.0             1.0           0.0   \n",
       "7039            1.0              0.5             0.0           1.0   \n",
       "7040            0.5              0.0             1.0           0.0   \n",
       "7041            1.0              0.5             0.0           0.0   \n",
       "7042            0.0              0.5             1.0           0.0   \n",
       "\n",
       "      DeviceProtection  TechSupport  StreamingTV  StreamingMovies  Contract  \\\n",
       "0                  0.0          0.0          0.0              0.0       0.0   \n",
       "1                  1.0          0.0          0.0              0.0       0.5   \n",
       "2                  0.0          0.0          0.0              0.0       0.0   \n",
       "3                  1.0          1.0          0.0              0.0       0.5   \n",
       "4                  0.0          0.0          0.0              0.0       0.0   \n",
       "...                ...          ...          ...              ...       ...   \n",
       "7038               1.0          1.0          1.0              1.0       0.5   \n",
       "7039               1.0          0.0          1.0              1.0       0.5   \n",
       "7040               0.0          0.0          0.0              0.0       0.0   \n",
       "7041               0.0          0.0          0.0              0.0       0.0   \n",
       "7042               1.0          1.0          1.0              1.0       1.0   \n",
       "\n",
       "      PaperlessBilling  PaymentMethod  MonthlyCharges  TotalCharges  \n",
       "0                  1.0       0.666667        0.115423      0.003437  \n",
       "1                  0.0       1.000000        0.385075      0.217564  \n",
       "2                  1.0       1.000000        0.354229      0.012453  \n",
       "3                  0.0       0.000000        0.239303      0.211951  \n",
       "4                  1.0       0.666667        0.521891      0.017462  \n",
       "...                ...            ...             ...           ...  \n",
       "7038               1.0       1.000000        0.662189      0.229194  \n",
       "7039               1.0       0.333333        0.845274      0.847792  \n",
       "7040               1.0       0.666667        0.112935      0.039892  \n",
       "7041               1.0       1.000000        0.558706      0.035303  \n",
       "7042               1.0       0.000000        0.869652      0.788101  \n",
       "\n",
       "[7043 rows x 19 columns]"
      ]
     },
     "execution_count": 133,
     "metadata": {},
     "output_type": "execute_result"
    }
   ],
   "source": [
    "from sklearn.preprocessing import MinMaxScaler\n",
    "sc=MinMaxScaler()\n",
    "X=sc.fit_transform(x)\n",
    "X=pd.DataFrame(X,columns=x.columns)\n",
    "X"
   ]
  },
  {
   "cell_type": "markdown",
   "metadata": {},
   "source": [
    "# Data Imbalance"
   ]
  },
  {
   "cell_type": "code",
   "execution_count": 134,
   "metadata": {},
   "outputs": [
    {
     "data": {
      "text/plain": [
       "Text(0.5, 1.0, 'Target Variable')"
      ]
     },
     "execution_count": 134,
     "metadata": {},
     "output_type": "execute_result"
    },
    {
     "data": {
      "image/png": "[encoded data removed]",
      "text/plain": [
       "<Figure size 576x360 with 1 Axes>"
      ]
     },
     "metadata": {
      "needs_background": "light"
     },
     "output_type": "display_data"
    }
   ],
   "source": [
    "fig_size = (8,5)\n",
    "fig, ax = plt.subplots(figsize = fig_size)\n",
    "sns.countplot(data=df, x=\"Churn\")\n",
    "plt.xticks(rotation=90)\n",
    "plt.title(\"Target Variable\", fontsize = 10)"
   ]
  },
  {
   "cell_type": "code",
   "execution_count": 135,
   "metadata": {},
   "outputs": [],
   "source": [
    "from imblearn.over_sampling import SMOTE\n",
    "SM=SMOTE()\n",
    "x_over, y_over=SM.fit_resample(X,y)"
   ]
  },
  {
   "cell_type": "code",
   "execution_count": 136,
   "metadata": {},
   "outputs": [],
   "source": [
    "y_over=pd.DataFrame(y_over)"
   ]
  },
  {
   "cell_type": "code",
   "execution_count": 137,
   "metadata": {},
   "outputs": [],
   "source": [
    "X=x_over\n",
    "y=y_over"
   ]
  },
  {
   "cell_type": "code",
   "execution_count": 138,
   "metadata": {},
   "outputs": [
    {
     "name": "stdout",
     "output_type": "stream",
     "text": [
      "(10348, 19) (10348, 1)\n"
     ]
    }
   ],
   "source": [
    "print(X.shape,y.shape)"
   ]
  },
  {
   "cell_type": "markdown",
   "metadata": {},
   "source": [
    "# Finding best Random State for train test split."
   ]
  },
  {
   "cell_type": "code",
   "execution_count": 139,
   "metadata": {},
   "outputs": [
    {
     "name": "stdout",
     "output_type": "stream",
     "text": [
      "Best Random State is 132, 79.22705314009661\n"
     ]
    }
   ],
   "source": [
    "from sklearn.linear_model import LogisticRegression\n",
    "from sklearn.metrics import accuracy_score\n",
    "from sklearn.model_selection import train_test_split\n",
    "\n",
    "max_accuracy = 0\n",
    "best_rs = 0\n",
    "for i in range(1, 150):\n",
    "    X_train, X_test, y_train, y_test = train_test_split(X, y, test_size = 0.30, random_state = i)\n",
    "    lg = LogisticRegression()\n",
    "    lg.fit(X_train, y_train)\n",
    "    pred = lg.predict(X_test)\n",
    "    acc = accuracy_score(y_test, pred)\n",
    "    if acc > max_accuracy:\n",
    "        max_accuracy = acc\n",
    "        best_rs = i\n",
    "print(f\"Best Random State is {best_rs}, {max_accuracy*100}\")"
   ]
  },
  {
   "cell_type": "code",
   "execution_count": 140,
   "metadata": {},
   "outputs": [],
   "source": [
    "X_train,X_test,y_train,y_test=train_test_split(X,y,test_size=.30,random_state=132)"
   ]
  },
  {
   "cell_type": "markdown",
   "metadata": {},
   "source": [
    "# Importing Algorithms"
   ]
  },
  {
   "cell_type": "code",
   "execution_count": 141,
   "metadata": {},
   "outputs": [],
   "source": [
    "from sklearn.linear_model import LogisticRegression\n",
    "from sklearn.ensemble import RandomForestClassifier\n",
    "from sklearn.tree import DecisionTreeClassifier\n",
    "from sklearn.ensemble import AdaBoostClassifier\n",
    "from sklearn.naive_bayes import MultinomialNB\n",
    "from sklearn.neighbors import KNeighborsClassifier\n",
    "from sklearn.svm import SVC\n",
    "from sklearn.metrics import accuracy_score\n",
    "from sklearn.metrics import confusion_matrix, classification_report"
   ]
  },
  {
   "cell_type": "markdown",
   "metadata": {},
   "source": [
    "# LogisticRegression"
   ]
  },
  {
   "cell_type": "code",
   "execution_count": 142,
   "metadata": {},
   "outputs": [
    {
     "name": "stdout",
     "output_type": "stream",
     "text": [
      "0.7922705314009661\n",
      "[[1170  381]\n",
      " [ 264 1290]]\n",
      "              precision    recall  f1-score   support\n",
      "\n",
      "           0       0.82      0.75      0.78      1551\n",
      "           1       0.77      0.83      0.80      1554\n",
      "\n",
      "    accuracy                           0.79      3105\n",
      "   macro avg       0.79      0.79      0.79      3105\n",
      "weighted avg       0.79      0.79      0.79      3105\n",
      "\n"
     ]
    }
   ],
   "source": [
    "lg = LogisticRegression()\n",
    "lg.fit(X_train, y_train)\n",
    "pred_lg = lg.predict(X_test)\n",
    "print(accuracy_score(y_test,pred_lg))\n",
    "print(confusion_matrix(y_test,pred_lg))\n",
    "print(classification_report(y_test,pred_lg))"
   ]
  },
  {
   "cell_type": "markdown",
   "metadata": {},
   "source": [
    "# RandomForestClassifier"
   ]
  },
  {
   "cell_type": "code",
   "execution_count": 143,
   "metadata": {},
   "outputs": [
    {
     "name": "stdout",
     "output_type": "stream",
     "text": [
      "0.8582930756843801\n",
      "[[1315  236]\n",
      " [ 204 1350]]\n",
      "              precision    recall  f1-score   support\n",
      "\n",
      "           0       0.87      0.85      0.86      1551\n",
      "           1       0.85      0.87      0.86      1554\n",
      "\n",
      "    accuracy                           0.86      3105\n",
      "   macro avg       0.86      0.86      0.86      3105\n",
      "weighted avg       0.86      0.86      0.86      3105\n",
      "\n"
     ]
    }
   ],
   "source": [
    "rf=RandomForestClassifier(n_estimators=100,random_state=49)\n",
    "rf.fit(X_train,y_train)\n",
    "predrf=rf.predict(X_test)\n",
    "print(accuracy_score(y_test,predrf))\n",
    "print(confusion_matrix(y_test,predrf))\n",
    "print(classification_report(y_test,predrf))"
   ]
  },
  {
   "cell_type": "markdown",
   "metadata": {},
   "source": [
    "# DecisionTreeClassifier"
   ]
  },
  {
   "cell_type": "code",
   "execution_count": 144,
   "metadata": {},
   "outputs": [
    {
     "name": "stdout",
     "output_type": "stream",
     "text": [
      "0.7932367149758454\n",
      "[[1240  311]\n",
      " [ 331 1223]]\n",
      "              precision    recall  f1-score   support\n",
      "\n",
      "           0       0.79      0.80      0.79      1551\n",
      "           1       0.80      0.79      0.79      1554\n",
      "\n",
      "    accuracy                           0.79      3105\n",
      "   macro avg       0.79      0.79      0.79      3105\n",
      "weighted avg       0.79      0.79      0.79      3105\n",
      "\n"
     ]
    }
   ],
   "source": [
    "from sklearn.tree import DecisionTreeClassifier\n",
    "dtc=DecisionTreeClassifier(criterion='entropy',splitter='best', max_depth=None)\n",
    "dtc.fit(X_train,y_train)\n",
    "preddtc=dtc.predict(X_test)\n",
    "print(accuracy_score(y_test,preddtc))\n",
    "print(confusion_matrix(y_test,preddtc))\n",
    "print(classification_report(y_test,preddtc))"
   ]
  },
  {
   "cell_type": "markdown",
   "metadata": {},
   "source": [
    "# AdaBoostClassifier"
   ]
  },
  {
   "cell_type": "code",
   "execution_count": 145,
   "metadata": {},
   "outputs": [
    {
     "name": "stdout",
     "output_type": "stream",
     "text": [
      "0.826731078904992\n",
      "[[1229  322]\n",
      " [ 216 1338]]\n",
      "              precision    recall  f1-score   support\n",
      "\n",
      "           0       0.85      0.79      0.82      1551\n",
      "           1       0.81      0.86      0.83      1554\n",
      "\n",
      "    accuracy                           0.83      3105\n",
      "   macro avg       0.83      0.83      0.83      3105\n",
      "weighted avg       0.83      0.83      0.83      3105\n",
      "\n"
     ]
    }
   ],
   "source": [
    "ad=AdaBoostClassifier()\n",
    "ad.fit(X_train,y_train) \n",
    "predad=ad.predict(X_test)\n",
    "print(accuracy_score(y_test,predad))\n",
    "print(confusion_matrix(y_test,predad))\n",
    "print(classification_report(y_test,predad))"
   ]
  },
  {
   "cell_type": "markdown",
   "metadata": {},
   "source": [
    "# MultinomialNB"
   ]
  },
  {
   "cell_type": "code",
   "execution_count": 146,
   "metadata": {},
   "outputs": [
    {
     "name": "stdout",
     "output_type": "stream",
     "text": [
      "0.7584541062801933\n",
      "[[1131  420]\n",
      " [ 330 1224]]\n",
      "              precision    recall  f1-score   support\n",
      "\n",
      "           0       0.77      0.73      0.75      1551\n",
      "           1       0.74      0.79      0.77      1554\n",
      "\n",
      "    accuracy                           0.76      3105\n",
      "   macro avg       0.76      0.76      0.76      3105\n",
      "weighted avg       0.76      0.76      0.76      3105\n",
      "\n"
     ]
    }
   ],
   "source": [
    "mnb=MultinomialNB()\n",
    "mnb.fit(X_train,y_train) \n",
    "pred_mnb=mnb.predict(X_test)\n",
    "print(accuracy_score(y_test,pred_mnb))\n",
    "print(confusion_matrix(y_test,pred_mnb))\n",
    "print(classification_report(y_test,pred_mnb))"
   ]
  },
  {
   "cell_type": "markdown",
   "metadata": {},
   "source": [
    "# KNeighborsClassifier"
   ]
  },
  {
   "cell_type": "code",
   "execution_count": 147,
   "metadata": {},
   "outputs": [
    {
     "name": "stdout",
     "output_type": "stream",
     "text": [
      "0.777133655394525\n",
      "[[1038  513]\n",
      " [ 179 1375]]\n",
      "              precision    recall  f1-score   support\n",
      "\n",
      "           0       0.85      0.67      0.75      1551\n",
      "           1       0.73      0.88      0.80      1554\n",
      "\n",
      "    accuracy                           0.78      3105\n",
      "   macro avg       0.79      0.78      0.77      3105\n",
      "weighted avg       0.79      0.78      0.77      3105\n",
      "\n"
     ]
    }
   ],
   "source": [
    "knn=KNeighborsClassifier(n_neighbors=5)\n",
    "knn.fit(X_train,y_train)\n",
    "predknn=knn.predict(X_test)\n",
    "print(accuracy_score(y_test,predknn))\n",
    "print(confusion_matrix(y_test,predknn))\n",
    "print(classification_report(y_test,predknn))"
   ]
  },
  {
   "cell_type": "markdown",
   "metadata": {},
   "source": [
    "# Spport Vector Classifier"
   ]
  },
  {
   "cell_type": "code",
   "execution_count": 148,
   "metadata": {},
   "outputs": [
    {
     "name": "stdout",
     "output_type": "stream",
     "text": [
      "0.8173913043478261\n",
      "[[1209  342]\n",
      " [ 225 1329]]\n",
      "              precision    recall  f1-score   support\n",
      "\n",
      "           0       0.84      0.78      0.81      1551\n",
      "           1       0.80      0.86      0.82      1554\n",
      "\n",
      "    accuracy                           0.82      3105\n",
      "   macro avg       0.82      0.82      0.82      3105\n",
      "weighted avg       0.82      0.82      0.82      3105\n",
      "\n"
     ]
    }
   ],
   "source": [
    "svc=SVC()\n",
    "svc.fit(X_train,y_train) \n",
    "pred_svc=svc.predict(X_test)\n",
    "print(accuracy_score(y_test,pred_svc))\n",
    "print(confusion_matrix(y_test,pred_svc))\n",
    "print(classification_report(y_test,pred_svc))"
   ]
  },
  {
   "cell_type": "markdown",
   "metadata": {},
   "source": [
    "# Cross Validation"
   ]
  },
  {
   "cell_type": "markdown",
   "metadata": {},
   "source": [
    "As we know the Random Forest Classifier is given hight score but we are Cross validating the models to see thre are underfitting or overfitting present or not."
   ]
  },
  {
   "cell_type": "code",
   "execution_count": 149,
   "metadata": {},
   "outputs": [
    {
     "name": "stdout",
     "output_type": "stream",
     "text": [
      "[0.77294686 0.76280193 0.76811594 0.78347028 0.79023683]\n",
      "Mean of accuracy scores is for Logistic Regression is 77.55143678362204\n",
      "\n",
      "[0.77101449 0.79130435 0.88115942 0.89415176 0.90865152]\n",
      "Mean of accuracy scores is for Random Forest Classifier is 84.92563094962911\n",
      "\n",
      "[0.71062802 0.72222222 0.83478261 0.81971967 0.83470275]\n",
      "Mean of accuracy scores is for Decision Tree Classifier is 78.44110553068882\n",
      "\n",
      "[0.77004831 0.7705314  0.82028986 0.84920251 0.84871919]\n",
      "Mean of accuracy scores is for ADA Boost Classifier is 81.17582533044738\n",
      "\n",
      "[0.75797101 0.74347826 0.73961353 0.76848719 0.76655389]\n",
      "Mean of accuracy scores is for MultinomialNB is 75.5220776916198\n",
      "\n",
      "[0.76811594 0.77342995 0.79903382 0.78540358 0.79700338]\n",
      "Mean of accuracy scores is for KNN Classifier is 78.45973340057859\n",
      "\n",
      "[0.77777778 0.77149758 0.81352657 0.82358627 0.83566941]\n",
      "Mean of accuracy scores is for SVC Classifier is 80.44115222878331\n",
      "\n"
     ]
    }
   ],
   "source": [
    "from sklearn.model_selection import cross_val_score\n",
    "\n",
    "lg_scores = cross_val_score(lg, X, y, cv = 5)\n",
    "print(lg_scores)\n",
    "print(f\"Mean of accuracy scores is for Logistic Regression is {lg_scores.mean()*100}\\n\")\n",
    "\n",
    "rf_scores = cross_val_score(rf, X, y, cv = 5)\n",
    "print(rf_scores)\n",
    "print(f\"Mean of accuracy scores is for Random Forest Classifier is {rf_scores.mean()*100}\\n\")\n",
    "\n",
    "dtc_scores = cross_val_score(dtc, X, y, cv = 5)\n",
    "print(dtc_scores)\n",
    "print(f\"Mean of accuracy scores is for Decision Tree Classifier is {dtc_scores.mean()*100}\\n\")\n",
    "\n",
    "ad_scores = cross_val_score(ad, X, y, cv = 5)\n",
    "print(ad_scores)\n",
    "print(f\"Mean of accuracy scores is for ADA Boost Classifier is {ad_scores.mean()*100}\\n\")\n",
    "\n",
    "mnb_scores = cross_val_score(mnb, X, y, cv = 5)\n",
    "print(mnb_scores)\n",
    "print(f\"Mean of accuracy scores is for MultinomialNB is {mnb_scores.mean()*100}\\n\")\n",
    "\n",
    "knn_scores = cross_val_score(knn, X, y, cv = 5)\n",
    "print(knn_scores)\n",
    "print(f\"Mean of accuracy scores is for KNN Classifier is {knn_scores.mean()*100}\\n\")\n",
    "\n",
    "svc_scores = cross_val_score(svc, X, y, cv = 5)\n",
    "print(svc_scores)\n",
    "print(f\"Mean of accuracy scores is for SVC Classifier is {svc_scores.mean()*100}\\n\")"
   ]
  },
  {
   "cell_type": "markdown",
   "metadata": {},
   "source": [
    "# Hyper parameter tuning"
   ]
  },
  {
   "cell_type": "code",
   "execution_count": 150,
   "metadata": {},
   "outputs": [],
   "source": [
    "from sklearn.model_selection import GridSearchCV"
   ]
  },
  {
   "cell_type": "code",
   "execution_count": 151,
   "metadata": {},
   "outputs": [
    {
     "name": "stdout",
     "output_type": "stream",
     "text": [
      "{'criterion': 'entropy', 'min_samples_split': 5, 'n_estimators': 200}\n",
      "0.8403972638779269\n",
      "RandomForestClassifier(criterion='entropy', min_samples_split=5,\n",
      "                       n_estimators=200)\n"
     ]
    }
   ],
   "source": [
    "rf = RandomForestClassifier()\n",
    "grid_parameters = dict()\n",
    "grid_parameters['criterion'] = ['gini', 'entropy']\n",
    "grid_parameters['n_estimators'] = [1, 2, 4, 8, 10, 16, 32, 64, 100, 200]\n",
    "grid_parameters['min_samples_split'] = [1,2,5,8,10,15,20,25,50,55,60,80,100]\n",
    "grid_sr = GridSearchCV(estimator=rf,param_grid=grid_parameters,scoring='accuracy', cv=5)\n",
    "grid_sr.fit(X_train, y_train)\n",
    "best_parameters=grid_sr.best_params_\n",
    "best_result=grid_sr.best_score_\n",
    "best_model = grid_sr.best_estimator_\n",
    "print(best_parameters)\n",
    "print(best_result)\n",
    "print(best_model)"
   ]
  },
  {
   "cell_type": "code",
   "execution_count": 152,
   "metadata": {},
   "outputs": [
    {
     "name": "stdout",
     "output_type": "stream",
     "text": [
      "0.9797045423167196\n"
     ]
    }
   ],
   "source": [
    "RF = RandomForestClassifier(criterion = 'entropy', min_samples_split = 5, n_estimators = 100)\n",
    "RF.fit(X_train, y_train)\n",
    "print(RF.score(X_train, y_train))\n",
    "pred_rf = RF.predict(X_test)"
   ]
  },
  {
   "cell_type": "markdown",
   "metadata": {},
   "source": [
    "# Model Evaluation"
   ]
  },
  {
   "cell_type": "markdown",
   "metadata": {},
   "source": [
    "# Metrics"
   ]
  },
  {
   "cell_type": "code",
   "execution_count": 153,
   "metadata": {},
   "outputs": [],
   "source": [
    "from sklearn.metrics import roc_curve\n",
    "import matplotlib.pyplot as plt"
   ]
  },
  {
   "cell_type": "code",
   "execution_count": 154,
   "metadata": {},
   "outputs": [],
   "source": [
    "#Import ROC_AUC_SCORE.\n",
    "from sklearn.metrics import roc_auc_score"
   ]
  },
  {
   "cell_type": "code",
   "execution_count": 155,
   "metadata": {},
   "outputs": [
    {
     "data": {
      "text/plain": [
       "array([0.84928571, 0.904     , 0.46088095, ..., 0.11719048, 0.86625   ,\n",
       "       0.89286905])"
      ]
     },
     "execution_count": 155,
     "metadata": {},
     "output_type": "execute_result"
    }
   ],
   "source": [
    "y_pred_prob=RF.predict_proba(X_test)[:,1]\n",
    "y_pred_prob"
   ]
  },
  {
   "cell_type": "code",
   "execution_count": 156,
   "metadata": {},
   "outputs": [],
   "source": [
    "fpr,tpr,thresholds=roc_curve(y_test,y_pred_prob)"
   ]
  },
  {
   "cell_type": "code",
   "execution_count": 157,
   "metadata": {},
   "outputs": [
    {
     "data": {
      "text/plain": [
       "array([0.00000000e+00, 0.00000000e+00, 0.00000000e+00, 0.00000000e+00,\n",
       "       0.00000000e+00, 0.00000000e+00, 0.00000000e+00, 0.00000000e+00,\n",
       "       0.00000000e+00, 0.00000000e+00, 0.00000000e+00, 0.00000000e+00,\n",
       "       0.00000000e+00, 0.00000000e+00, 0.00000000e+00, 0.00000000e+00,\n",
       "       0.00000000e+00, 0.00000000e+00, 0.00000000e+00, 0.00000000e+00,\n",
       "       0.00000000e+00, 0.00000000e+00, 0.00000000e+00, 0.00000000e+00,\n",
       "       0.00000000e+00, 0.00000000e+00, 0.00000000e+00, 0.00000000e+00,\n",
       "       0.00000000e+00, 0.00000000e+00, 0.00000000e+00, 0.00000000e+00,\n",
       "       0.00000000e+00, 0.00000000e+00, 0.00000000e+00, 6.44745326e-04,\n",
       "       6.44745326e-04, 6.44745326e-04, 6.44745326e-04, 6.44745326e-04,\n",
       "       6.44745326e-04, 6.44745326e-04, 6.44745326e-04, 6.44745326e-04,\n",
       "       6.44745326e-04, 6.44745326e-04, 6.44745326e-04, 6.44745326e-04,\n",
       "       6.44745326e-04, 6.44745326e-04, 6.44745326e-04, 1.28949065e-03,\n",
       "       1.28949065e-03, 1.28949065e-03, 1.28949065e-03, 1.93423598e-03,\n",
       "       1.93423598e-03, 1.93423598e-03, 1.93423598e-03, 1.93423598e-03,\n",
       "       1.93423598e-03, 1.93423598e-03, 2.57898130e-03, 2.57898130e-03,\n",
       "       2.57898130e-03, 2.57898130e-03, 2.57898130e-03, 2.57898130e-03,\n",
       "       2.57898130e-03, 2.57898130e-03, 3.22372663e-03, 3.22372663e-03,\n",
       "       3.86847195e-03, 3.86847195e-03, 4.51321728e-03, 4.51321728e-03,\n",
       "       5.15796260e-03, 5.80270793e-03, 5.80270793e-03, 6.44745326e-03,\n",
       "       6.44745326e-03, 6.44745326e-03, 6.44745326e-03, 6.44745326e-03,\n",
       "       6.44745326e-03, 7.09219858e-03, 7.09219858e-03, 7.73694391e-03,\n",
       "       7.73694391e-03, 8.38168923e-03, 8.38168923e-03, 9.02643456e-03,\n",
       "       9.02643456e-03, 9.67117988e-03, 9.67117988e-03, 9.67117988e-03,\n",
       "       9.67117988e-03, 1.09606705e-02, 1.09606705e-02, 1.09606705e-02,\n",
       "       1.09606705e-02, 1.16054159e-02, 1.16054159e-02, 1.16054159e-02,\n",
       "       1.22501612e-02, 1.22501612e-02, 1.28949065e-02, 1.28949065e-02,\n",
       "       1.41843972e-02, 1.41843972e-02, 1.48291425e-02, 1.48291425e-02,\n",
       "       1.54738878e-02, 1.54738878e-02, 1.61186331e-02, 1.61186331e-02,\n",
       "       1.67633785e-02, 1.67633785e-02, 1.74081238e-02, 1.80528691e-02,\n",
       "       1.80528691e-02, 1.86976144e-02, 1.86976144e-02, 1.93423598e-02,\n",
       "       1.93423598e-02, 1.99871051e-02, 1.99871051e-02, 2.06318504e-02,\n",
       "       2.06318504e-02, 2.12765957e-02, 2.12765957e-02, 2.19213411e-02,\n",
       "       2.19213411e-02, 2.25660864e-02, 2.25660864e-02, 2.32108317e-02,\n",
       "       2.32108317e-02, 2.32108317e-02, 2.32108317e-02, 2.38555770e-02,\n",
       "       2.38555770e-02, 2.45003224e-02, 2.45003224e-02, 2.51450677e-02,\n",
       "       2.51450677e-02, 2.57898130e-02, 2.57898130e-02, 2.64345583e-02,\n",
       "       2.64345583e-02, 2.70793037e-02, 2.70793037e-02, 2.77240490e-02,\n",
       "       2.77240490e-02, 2.83687943e-02, 2.83687943e-02, 2.83687943e-02,\n",
       "       2.90135397e-02, 2.90135397e-02, 2.90135397e-02, 2.90135397e-02,\n",
       "       2.96582850e-02, 2.96582850e-02, 3.03030303e-02, 3.03030303e-02,\n",
       "       3.15925210e-02, 3.15925210e-02, 3.22372663e-02, 3.22372663e-02,\n",
       "       3.28820116e-02, 3.28820116e-02, 3.35267569e-02, 3.41715023e-02,\n",
       "       3.41715023e-02, 3.48162476e-02, 3.48162476e-02, 3.54609929e-02,\n",
       "       3.54609929e-02, 3.67504836e-02, 3.67504836e-02, 3.80399742e-02,\n",
       "       3.80399742e-02, 3.86847195e-02, 3.86847195e-02, 3.93294649e-02,\n",
       "       3.93294649e-02, 4.06189555e-02, 4.06189555e-02, 4.12637008e-02,\n",
       "       4.12637008e-02, 4.25531915e-02, 4.25531915e-02, 4.31979368e-02,\n",
       "       4.31979368e-02, 4.38426821e-02, 4.38426821e-02, 4.44874275e-02,\n",
       "       4.44874275e-02, 4.57769181e-02, 4.57769181e-02, 4.64216634e-02,\n",
       "       4.64216634e-02, 4.70664088e-02, 4.70664088e-02, 4.77111541e-02,\n",
       "       4.77111541e-02, 4.83558994e-02, 4.83558994e-02, 4.90006447e-02,\n",
       "       4.90006447e-02, 4.96453901e-02, 4.96453901e-02, 5.02901354e-02,\n",
       "       5.02901354e-02, 5.15796260e-02, 5.15796260e-02, 5.22243714e-02,\n",
       "       5.22243714e-02, 5.35138620e-02, 5.35138620e-02, 5.41586074e-02,\n",
       "       5.41586074e-02, 5.54480980e-02, 5.54480980e-02, 5.60928433e-02,\n",
       "       5.60928433e-02, 5.67375887e-02, 5.67375887e-02, 5.80270793e-02,\n",
       "       5.80270793e-02, 5.86718246e-02, 5.86718246e-02, 5.93165700e-02,\n",
       "       5.93165700e-02, 5.99613153e-02, 5.99613153e-02, 6.06060606e-02,\n",
       "       6.06060606e-02, 6.18955513e-02, 6.18955513e-02, 6.31850419e-02,\n",
       "       6.31850419e-02, 6.38297872e-02, 6.38297872e-02, 6.44745326e-02,\n",
       "       6.44745326e-02, 6.51192779e-02, 6.51192779e-02, 6.57640232e-02,\n",
       "       6.57640232e-02, 6.64087685e-02, 6.64087685e-02, 6.70535139e-02,\n",
       "       6.70535139e-02, 6.76982592e-02, 6.76982592e-02, 6.83430045e-02,\n",
       "       6.83430045e-02, 6.96324952e-02, 6.96324952e-02, 7.02772405e-02,\n",
       "       7.02772405e-02, 7.15667311e-02, 7.15667311e-02, 7.22114765e-02,\n",
       "       7.22114765e-02, 7.35009671e-02, 7.35009671e-02, 7.41457124e-02,\n",
       "       7.41457124e-02, 7.47904578e-02, 7.47904578e-02, 7.54352031e-02,\n",
       "       7.54352031e-02, 7.60799484e-02, 7.60799484e-02, 7.67246937e-02,\n",
       "       7.67246937e-02, 7.80141844e-02, 7.80141844e-02, 8.05931657e-02,\n",
       "       8.05931657e-02, 8.12379110e-02, 8.12379110e-02, 8.25274017e-02,\n",
       "       8.25274017e-02, 8.31721470e-02, 8.31721470e-02, 8.44616377e-02,\n",
       "       8.44616377e-02, 8.51063830e-02, 8.51063830e-02, 8.57511283e-02,\n",
       "       8.57511283e-02, 8.63958736e-02, 8.63958736e-02, 8.76853643e-02,\n",
       "       8.76853643e-02, 8.83301096e-02, 8.83301096e-02, 8.89748549e-02,\n",
       "       8.89748549e-02, 9.02643456e-02, 9.02643456e-02, 9.09090909e-02,\n",
       "       9.09090909e-02, 9.15538362e-02, 9.15538362e-02, 9.21985816e-02,\n",
       "       9.21985816e-02, 9.28433269e-02, 9.28433269e-02, 9.34880722e-02,\n",
       "       9.34880722e-02, 9.54223082e-02, 9.54223082e-02, 9.54223082e-02,\n",
       "       9.60670535e-02, 9.60670535e-02, 9.73565442e-02, 9.73565442e-02,\n",
       "       9.80012895e-02, 9.80012895e-02, 9.86460348e-02, 9.86460348e-02,\n",
       "       9.92907801e-02, 9.92907801e-02, 9.99355255e-02, 9.99355255e-02,\n",
       "       1.00580271e-01, 1.00580271e-01, 1.01225016e-01, 1.01225016e-01,\n",
       "       1.01869761e-01, 1.01869761e-01, 1.03159252e-01, 1.03159252e-01,\n",
       "       1.05093488e-01, 1.05093488e-01, 1.05738233e-01, 1.05738233e-01,\n",
       "       1.07027724e-01, 1.07027724e-01, 1.07672469e-01, 1.07672469e-01,\n",
       "       1.08317215e-01, 1.08317215e-01, 1.08961960e-01, 1.08961960e-01,\n",
       "       1.09606705e-01, 1.09606705e-01, 1.10251451e-01, 1.10251451e-01,\n",
       "       1.10896196e-01, 1.10896196e-01, 1.11540941e-01, 1.11540941e-01,\n",
       "       1.12830432e-01, 1.12830432e-01, 1.14119923e-01, 1.14119923e-01,\n",
       "       1.17343649e-01, 1.17343649e-01, 1.19277885e-01, 1.19277885e-01,\n",
       "       1.19922631e-01, 1.19922631e-01, 1.21212121e-01, 1.21212121e-01,\n",
       "       1.21856867e-01, 1.21856867e-01, 1.23146357e-01, 1.23146357e-01,\n",
       "       1.23791103e-01, 1.23791103e-01, 1.25080593e-01, 1.25080593e-01,\n",
       "       1.25080593e-01, 1.25725338e-01, 1.25725338e-01, 1.27014829e-01,\n",
       "       1.27014829e-01, 1.27659574e-01, 1.27659574e-01, 1.32172792e-01,\n",
       "       1.32172792e-01, 1.33462282e-01, 1.33462282e-01, 1.34751773e-01,\n",
       "       1.34751773e-01, 1.35396518e-01, 1.35396518e-01, 1.36041264e-01,\n",
       "       1.36041264e-01, 1.36686009e-01, 1.36686009e-01, 1.37975500e-01,\n",
       "       1.37975500e-01, 1.38620245e-01, 1.38620245e-01, 1.39264990e-01,\n",
       "       1.39264990e-01, 1.39909736e-01, 1.39909736e-01, 1.41199226e-01,\n",
       "       1.41199226e-01, 1.43778208e-01, 1.43778208e-01, 1.45067698e-01,\n",
       "       1.45067698e-01, 1.49580916e-01, 1.49580916e-01, 1.52159897e-01,\n",
       "       1.52159897e-01, 1.52804642e-01, 1.52804642e-01, 1.56028369e-01,\n",
       "       1.56028369e-01, 1.56673114e-01, 1.56673114e-01, 1.57317859e-01,\n",
       "       1.57317859e-01, 1.58607350e-01, 1.58607350e-01, 1.59252095e-01,\n",
       "       1.59252095e-01, 1.63765313e-01, 1.63765313e-01, 1.66989039e-01,\n",
       "       1.66989039e-01, 1.68278530e-01, 1.68278530e-01, 1.68923275e-01,\n",
       "       1.68923275e-01, 1.69568021e-01, 1.69568021e-01, 1.70212766e-01,\n",
       "       1.70212766e-01, 1.70857511e-01, 1.70857511e-01, 1.72791747e-01,\n",
       "       1.72791747e-01, 1.75370729e-01, 1.75370729e-01, 1.76015474e-01,\n",
       "       1.76015474e-01, 1.78594455e-01, 1.78594455e-01, 1.80528691e-01,\n",
       "       1.80528691e-01, 1.81818182e-01, 1.81818182e-01, 1.83752418e-01,\n",
       "       1.83752418e-01, 1.84397163e-01, 1.84397163e-01, 1.85041908e-01,\n",
       "       1.85041908e-01, 1.85686654e-01, 1.85686654e-01, 1.86976144e-01,\n",
       "       1.86976144e-01, 1.88910380e-01, 1.88910380e-01, 1.90199871e-01,\n",
       "       1.90199871e-01, 1.90844616e-01, 1.90844616e-01, 1.91489362e-01,\n",
       "       1.91489362e-01, 1.92134107e-01, 1.92134107e-01, 1.92778852e-01,\n",
       "       1.92778852e-01, 1.94068343e-01, 1.94068343e-01, 1.97292070e-01,\n",
       "       1.97292070e-01, 1.97936815e-01, 1.97936815e-01, 1.98581560e-01,\n",
       "       1.98581560e-01, 2.00515796e-01, 2.00515796e-01, 2.01805287e-01,\n",
       "       2.01805287e-01, 2.03739523e-01, 2.03739523e-01, 2.04384268e-01,\n",
       "       2.04384268e-01, 2.05029014e-01, 2.05029014e-01, 2.06318504e-01,\n",
       "       2.06318504e-01, 2.06963250e-01, 2.06963250e-01, 2.08252740e-01,\n",
       "       2.08252740e-01, 2.08897485e-01, 2.08897485e-01, 2.10831721e-01,\n",
       "       2.10831721e-01, 2.15344939e-01, 2.15344939e-01, 2.16634429e-01,\n",
       "       2.16634429e-01, 2.21147647e-01, 2.21147647e-01, 2.23726628e-01,\n",
       "       2.23726628e-01, 2.25016119e-01, 2.25016119e-01, 2.30818827e-01,\n",
       "       2.30818827e-01, 2.31463572e-01, 2.31463572e-01, 2.32108317e-01,\n",
       "       2.32108317e-01, 2.32753063e-01, 2.32753063e-01, 2.34042553e-01,\n",
       "       2.34042553e-01, 2.35332044e-01, 2.35332044e-01, 2.37911025e-01,\n",
       "       2.37911025e-01, 2.42424242e-01, 2.42424242e-01, 2.43068988e-01,\n",
       "       2.43068988e-01, 2.46292714e-01, 2.46292714e-01, 2.50161186e-01,\n",
       "       2.50161186e-01, 2.54674404e-01, 2.54674404e-01, 2.55963894e-01,\n",
       "       2.55963894e-01, 2.58542876e-01, 2.58542876e-01, 2.63056093e-01,\n",
       "       2.63056093e-01, 2.64345583e-01, 2.64345583e-01, 2.65635074e-01,\n",
       "       2.65635074e-01, 2.66279819e-01, 2.66279819e-01, 2.69503546e-01,\n",
       "       2.69503546e-01, 2.71437782e-01, 2.71437782e-01, 2.72082527e-01,\n",
       "       2.72082527e-01, 2.72727273e-01, 2.72727273e-01, 2.74016763e-01,\n",
       "       2.74016763e-01, 2.78529981e-01, 2.78529981e-01, 2.79174726e-01,\n",
       "       2.79174726e-01, 2.80464217e-01, 2.80464217e-01, 2.83043198e-01,\n",
       "       2.83043198e-01, 2.85622179e-01, 2.85622179e-01, 2.86266925e-01,\n",
       "       2.86266925e-01, 2.87556415e-01, 2.87556415e-01, 2.94648614e-01,\n",
       "       2.94648614e-01, 2.95293359e-01, 2.95293359e-01, 3.00451322e-01,\n",
       "       3.00451322e-01, 3.01096067e-01, 3.01096067e-01, 3.03675048e-01,\n",
       "       3.03675048e-01, 3.04964539e-01, 3.04964539e-01, 3.08833011e-01,\n",
       "       3.08833011e-01, 3.17859446e-01, 3.17859446e-01, 3.19148936e-01,\n",
       "       3.19148936e-01, 3.21083172e-01, 3.21083172e-01, 3.23662153e-01,\n",
       "       3.23662153e-01, 3.24306899e-01, 3.24306899e-01, 3.25596389e-01,\n",
       "       3.25596389e-01, 3.28175371e-01, 3.28175371e-01, 3.28820116e-01,\n",
       "       3.29464861e-01, 3.33978079e-01, 3.33978079e-01, 3.34622824e-01,\n",
       "       3.35267569e-01, 3.44294004e-01, 3.44294004e-01, 3.48807221e-01,\n",
       "       3.48807221e-01, 3.52030948e-01, 3.52030948e-01, 3.53320438e-01,\n",
       "       3.53320438e-01, 3.57188910e-01, 3.57188910e-01, 3.63636364e-01,\n",
       "       3.63636364e-01, 3.64925854e-01, 3.64925854e-01, 3.66215345e-01,\n",
       "       3.66215345e-01, 3.70083817e-01, 3.70083817e-01, 3.72018053e-01,\n",
       "       3.72018053e-01, 3.83623469e-01, 3.83623469e-01, 3.85557705e-01,\n",
       "       3.85557705e-01, 3.89426177e-01, 3.89426177e-01, 3.90070922e-01,\n",
       "       3.90070922e-01, 3.92649903e-01, 3.92649903e-01, 3.93939394e-01,\n",
       "       3.93939394e-01, 4.02965828e-01, 4.02965828e-01, 4.08123791e-01,\n",
       "       4.08123791e-01, 4.13281754e-01, 4.13281754e-01, 4.14571244e-01,\n",
       "       4.14571244e-01, 4.18439716e-01, 4.18439716e-01, 4.22308188e-01,\n",
       "       4.22308188e-01, 4.30689877e-01, 4.30689877e-01, 4.31334623e-01,\n",
       "       4.31334623e-01, 4.38426821e-01, 4.38426821e-01, 4.40361057e-01,\n",
       "       4.40361057e-01, 4.48098001e-01, 4.48098001e-01, 4.53255964e-01,\n",
       "       4.53255964e-01, 4.57124436e-01, 4.57124436e-01, 4.60348162e-01,\n",
       "       4.60348162e-01, 4.65506125e-01, 4.65506125e-01, 4.70019342e-01,\n",
       "       4.70019342e-01, 4.77756286e-01, 4.77756286e-01, 4.95164410e-01,\n",
       "       4.95164410e-01, 4.96453901e-01, 4.96453901e-01, 4.97743391e-01,\n",
       "       5.00322373e-01, 5.00322373e-01, 5.02901354e-01, 5.02901354e-01,\n",
       "       5.04190845e-01, 5.04835590e-01, 5.08059317e-01, 5.08059317e-01,\n",
       "       5.20954223e-01, 5.20954223e-01, 5.21598968e-01, 5.21598968e-01,\n",
       "       5.37717602e-01, 5.37717602e-01, 5.38362347e-01, 5.38362347e-01,\n",
       "       5.54480980e-01, 5.54480980e-01, 5.78336557e-01, 5.78336557e-01,\n",
       "       5.95099936e-01, 5.96389426e-01, 6.02836879e-01, 6.02836879e-01,\n",
       "       6.19600258e-01, 6.20889749e-01, 6.29271438e-01, 6.29271438e-01,\n",
       "       6.46034816e-01, 6.46034816e-01, 6.47324307e-01, 6.56995487e-01,\n",
       "       6.56995487e-01, 6.67311412e-01, 6.68600903e-01, 6.68600903e-01,\n",
       "       6.70535139e-01, 6.71824629e-01, 6.77627337e-01, 6.77627337e-01,\n",
       "       6.79561573e-01, 6.79561573e-01, 6.82140554e-01, 6.84719536e-01,\n",
       "       6.87298517e-01, 6.88588008e-01, 6.96324952e-01, 6.96324952e-01,\n",
       "       7.01482914e-01, 7.01482914e-01, 7.09219858e-01, 7.10509349e-01,\n",
       "       7.20180529e-01, 7.21470019e-01, 7.24049001e-01, 7.24049001e-01,\n",
       "       7.33720181e-01, 7.35009671e-01, 7.36943907e-01, 7.38233398e-01,\n",
       "       7.40167634e-01, 7.40167634e-01, 7.44036106e-01, 7.44036106e-01,\n",
       "       7.44680851e-01, 7.46615087e-01, 7.51128304e-01, 7.52417795e-01,\n",
       "       7.56931012e-01, 7.59509994e-01, 7.60154739e-01, 7.60154739e-01,\n",
       "       7.61444230e-01, 7.62733720e-01, 7.64023211e-01, 7.65312701e-01,\n",
       "       7.67246937e-01, 7.68536428e-01, 7.70470664e-01, 7.71760155e-01,\n",
       "       7.79497099e-01, 7.80786589e-01, 7.91102515e-01, 7.92392005e-01,\n",
       "       7.93036750e-01, 7.94970986e-01, 8.02707930e-01, 8.04642166e-01,\n",
       "       8.10444874e-01, 8.10444874e-01, 8.12379110e-01, 8.17537073e-01,\n",
       "       8.18826564e-01, 8.22695035e-01, 8.23984526e-01, 8.25918762e-01,\n",
       "       8.27852998e-01, 8.28497743e-01, 8.31721470e-01, 8.33655706e-01,\n",
       "       8.35589942e-01, 8.36879433e-01, 8.39458414e-01, 8.42682141e-01,\n",
       "       8.43971631e-01, 8.45905867e-01, 8.49774339e-01, 8.53642811e-01,\n",
       "       8.57511283e-01, 8.58800774e-01, 8.60090264e-01, 8.72985171e-01,\n",
       "       8.74919407e-01, 8.76208897e-01, 8.76853643e-01, 8.78787879e-01,\n",
       "       8.79432624e-01, 8.82656351e-01, 8.85880077e-01, 8.87814313e-01,\n",
       "       8.91038040e-01, 8.92972276e-01, 8.94261767e-01, 8.97485493e-01,\n",
       "       9.03932946e-01, 9.05222437e-01, 9.07156673e-01, 9.11669890e-01,\n",
       "       9.14248872e-01, 9.21985816e-01, 9.24564797e-01, 9.27143778e-01,\n",
       "       9.27788524e-01, 1.00000000e+00])"
      ]
     },
     "execution_count": 157,
     "metadata": {},
     "output_type": "execute_result"
    }
   ],
   "source": [
    "fpr"
   ]
  },
  {
   "cell_type": "code",
   "execution_count": 158,
   "metadata": {},
   "outputs": [
    {
     "data": {
      "text/plain": [
       "array([0.        , 0.01480051, 0.01544402, 0.01673102, 0.01994852,\n",
       "       0.02123552, 0.02316602, 0.02445302, 0.02509653, 0.02702703,\n",
       "       0.02960103, 0.03088803, 0.03346203, 0.03474903, 0.03539254,\n",
       "       0.03796654, 0.04697555, 0.04890605, 0.05019305, 0.05148005,\n",
       "       0.05341055, 0.05598456, 0.05662806, 0.05791506, 0.06241956,\n",
       "       0.06370656, 0.06563707, 0.06885457, 0.06949807, 0.07078507,\n",
       "       0.07335907, 0.07464607, 0.07786358, 0.08043758, 0.08365508,\n",
       "       0.08365508, 0.0965251 , 0.0978121 , 0.0984556 , 0.1010296 ,\n",
       "       0.1048906 , 0.10617761, 0.10939511, 0.11068211, 0.11196911,\n",
       "       0.11325611, 0.11711712, 0.11840412, 0.12419562, 0.12548263,\n",
       "       0.13127413, 0.13127413, 0.13577864, 0.13835264, 0.13963964,\n",
       "       0.13963964, 0.14221364, 0.14350064, 0.15057915, 0.15186615,\n",
       "       0.17503218, 0.17631918, 0.17631918, 0.22007722, 0.22136422,\n",
       "       0.23101673, 0.23230373, 0.24324324, 0.24453024, 0.24646075,\n",
       "       0.24646075, 0.27027027, 0.27027027, 0.27155727, 0.27155727,\n",
       "       0.28442728, 0.28507079, 0.28507079, 0.2966538 , 0.2972973 ,\n",
       "       0.3011583 , 0.3024453 , 0.30566281, 0.30694981, 0.31788932,\n",
       "       0.31788932, 0.32882883, 0.32882883, 0.33590734, 0.33590734,\n",
       "       0.34105534, 0.34105534, 0.35135135, 0.35135135, 0.35392535,\n",
       "       0.35521236, 0.35907336, 0.35907336, 0.35971686, 0.36100386,\n",
       "       0.36422136, 0.36422136, 0.36550837, 0.38481338, 0.38481338,\n",
       "       0.38867439, 0.38867439, 0.39446589, 0.39446589, 0.4041184 ,\n",
       "       0.4041184 , 0.40926641, 0.40926641, 0.41055341, 0.41055341,\n",
       "       0.42213642, 0.42213642, 0.42277992, 0.42342342, 0.42342342,\n",
       "       0.43436293, 0.43500644, 0.43822394, 0.43822394, 0.44272844,\n",
       "       0.44272844, 0.44594595, 0.44594595, 0.45238095, 0.45238095,\n",
       "       0.45688546, 0.45688546, 0.45817246, 0.45817246, 0.46332046,\n",
       "       0.46332046, 0.47168597, 0.47297297, 0.47361647, 0.47361647,\n",
       "       0.47554698, 0.47554698, 0.4967825 , 0.4967825 , 0.4980695 ,\n",
       "       0.4980695 , 0.498713  , 0.498713  , 0.4993565 , 0.4993565 ,\n",
       "       0.502574  , 0.502574  , 0.503861  , 0.503861  , 0.50965251,\n",
       "       0.51093951, 0.51093951, 0.51544402, 0.51673102, 0.53989704,\n",
       "       0.53989704, 0.54568855, 0.54568855, 0.54697555, 0.54697555,\n",
       "       0.55855856, 0.55855856, 0.56499356, 0.56499356, 0.56821107,\n",
       "       0.56821107, 0.56885457, 0.57271557, 0.57271557, 0.57915058,\n",
       "       0.57915058, 0.58236808, 0.58236808, 0.59137709, 0.59137709,\n",
       "       0.5984556 , 0.5984556 , 0.60939511, 0.60939511, 0.62934363,\n",
       "       0.62934363, 0.63127413, 0.63127413, 0.63191763, 0.63191763,\n",
       "       0.63320463, 0.63320463, 0.63642214, 0.63642214, 0.65379665,\n",
       "       0.65379665, 0.65701416, 0.65701416, 0.65765766, 0.65765766,\n",
       "       0.66023166, 0.66023166, 0.66151866, 0.66151866, 0.66280566,\n",
       "       0.66280566, 0.66409266, 0.66409266, 0.66537967, 0.66537967,\n",
       "       0.66988417, 0.66988417, 0.67953668, 0.67953668, 0.68082368,\n",
       "       0.68082368, 0.68339768, 0.68339768, 0.68725869, 0.68725869,\n",
       "       0.69111969, 0.69111969, 0.69176319, 0.69176319, 0.69498069,\n",
       "       0.69498069, 0.6956242 , 0.6956242 , 0.6994852 , 0.6994852 ,\n",
       "       0.7007722 , 0.7007722 , 0.7014157 , 0.7014157 , 0.7039897 ,\n",
       "       0.7039897 , 0.7046332 , 0.7046332 , 0.70592021, 0.70592021,\n",
       "       0.71106821, 0.71106821, 0.71299871, 0.71299871, 0.71557272,\n",
       "       0.71557272, 0.71621622, 0.71621622, 0.72007722, 0.72007722,\n",
       "       0.72136422, 0.72136422, 0.72200772, 0.72200772, 0.73101673,\n",
       "       0.73101673, 0.73230373, 0.73230373, 0.73359073, 0.73359073,\n",
       "       0.73487773, 0.73487773, 0.73552124, 0.73552124, 0.73680824,\n",
       "       0.73680824, 0.74002574, 0.74002574, 0.74324324, 0.74324324,\n",
       "       0.74517375, 0.74517375, 0.74581725, 0.74581725, 0.74710425,\n",
       "       0.74710425, 0.74903475, 0.74903475, 0.75160875, 0.75160875,\n",
       "       0.75482625, 0.75482625, 0.75933076, 0.75933076, 0.76061776,\n",
       "       0.76061776, 0.76383526, 0.76383526, 0.76640927, 0.76640927,\n",
       "       0.77027027, 0.77027027, 0.77091377, 0.77091377, 0.77348777,\n",
       "       0.77348777, 0.77413127, 0.77413127, 0.77477477, 0.77477477,\n",
       "       0.77734878, 0.77734878, 0.77992278, 0.77992278, 0.78378378,\n",
       "       0.78378378, 0.79021879, 0.79021879, 0.79279279, 0.79279279,\n",
       "       0.7953668 , 0.7953668 , 0.7966538 , 0.7966538 , 0.7979408 ,\n",
       "       0.7985843 , 0.7985843 , 0.7992278 , 0.7992278 , 0.8005148 ,\n",
       "       0.8005148 , 0.8030888 , 0.8030888 , 0.8037323 , 0.8037323 ,\n",
       "       0.81016731, 0.81016731, 0.81145431, 0.81145431, 0.81338481,\n",
       "       0.81338481, 0.82110682, 0.82110682, 0.82175032, 0.82175032,\n",
       "       0.82303732, 0.82303732, 0.82368082, 0.82368082, 0.82432432,\n",
       "       0.82432432, 0.82496782, 0.82496782, 0.82561133, 0.82561133,\n",
       "       0.82625483, 0.82625483, 0.82818533, 0.82818533, 0.83140283,\n",
       "       0.83140283, 0.83333333, 0.83333333, 0.83783784, 0.83783784,\n",
       "       0.83848134, 0.83848134, 0.83976834, 0.83976834, 0.84105534,\n",
       "       0.84105534, 0.84169884, 0.84169884, 0.84234234, 0.84234234,\n",
       "       0.84298584, 0.84298584, 0.84362934, 0.84362934, 0.84491634,\n",
       "       0.84491634, 0.84620335, 0.84620335, 0.84813385, 0.84813385,\n",
       "       0.84877735, 0.85006435, 0.85006435, 0.85328185, 0.85328185,\n",
       "       0.85456885, 0.85456885, 0.85649936, 0.85649936, 0.85778636,\n",
       "       0.85778636, 0.85842986, 0.85842986, 0.85971686, 0.85971686,\n",
       "       0.86100386, 0.86100386, 0.86229086, 0.86229086, 0.86872587,\n",
       "       0.86872587, 0.86936937, 0.86936937, 0.87001287, 0.87001287,\n",
       "       0.87065637, 0.87065637, 0.87129987, 0.87129987, 0.87258687,\n",
       "       0.87258687, 0.87323037, 0.87323037, 0.87387387, 0.87387387,\n",
       "       0.87451737, 0.87451737, 0.87644788, 0.87644788, 0.87709138,\n",
       "       0.87709138, 0.87966538, 0.87966538, 0.88030888, 0.88030888,\n",
       "       0.88095238, 0.88095238, 0.88159588, 0.88159588, 0.88223938,\n",
       "       0.88223938, 0.88288288, 0.88288288, 0.88352638, 0.88352638,\n",
       "       0.88481338, 0.88481338, 0.88545689, 0.88545689, 0.88803089,\n",
       "       0.88803089, 0.88867439, 0.88867439, 0.88931789, 0.88931789,\n",
       "       0.88996139, 0.88996139, 0.89060489, 0.89060489, 0.89189189,\n",
       "       0.89189189, 0.89317889, 0.89317889, 0.89382239, 0.89382239,\n",
       "       0.89446589, 0.89446589, 0.8957529 , 0.8957529 , 0.8970399 ,\n",
       "       0.8970399 , 0.8983269 , 0.8983269 , 0.9009009 , 0.9009009 ,\n",
       "       0.9021879 , 0.9021879 , 0.9034749 , 0.9034749 , 0.9041184 ,\n",
       "       0.9041184 , 0.9047619 , 0.9047619 , 0.90540541, 0.90540541,\n",
       "       0.90604891, 0.90604891, 0.90669241, 0.90669241, 0.90733591,\n",
       "       0.90733591, 0.90797941, 0.90797941, 0.90862291, 0.90862291,\n",
       "       0.90926641, 0.90926641, 0.90990991, 0.90990991, 0.91119691,\n",
       "       0.91119691, 0.91184041, 0.91184041, 0.91248391, 0.91248391,\n",
       "       0.91377091, 0.91377091, 0.91505792, 0.91505792, 0.91570142,\n",
       "       0.91570142, 0.91698842, 0.91698842, 0.91763192, 0.91763192,\n",
       "       0.91827542, 0.91827542, 0.91891892, 0.91891892, 0.91956242,\n",
       "       0.91956242, 0.92149292, 0.92149292, 0.92277992, 0.92277992,\n",
       "       0.92406692, 0.92406692, 0.92471042, 0.92471042, 0.92535393,\n",
       "       0.92535393, 0.92664093, 0.92664093, 0.92728443, 0.92728443,\n",
       "       0.92792793, 0.92792793, 0.92921493, 0.92921493, 0.92985843,\n",
       "       0.92985843, 0.93050193, 0.93050193, 0.93114543, 0.93114543,\n",
       "       0.93178893, 0.93178893, 0.93307593, 0.93307593, 0.93371943,\n",
       "       0.93371943, 0.93436293, 0.93436293, 0.93500644, 0.93500644,\n",
       "       0.93693694, 0.93693694, 0.93822394, 0.93822394, 0.93886744,\n",
       "       0.93886744, 0.94015444, 0.94015444, 0.94079794, 0.94079794,\n",
       "       0.94144144, 0.94144144, 0.94208494, 0.94208494, 0.94272844,\n",
       "       0.94272844, 0.94337194, 0.94337194, 0.94401544, 0.94401544,\n",
       "       0.94465894, 0.94465894, 0.94530245, 0.94530245, 0.94594595,\n",
       "       0.94594595, 0.94658945, 0.94658945, 0.94723295, 0.94723295,\n",
       "       0.94851995, 0.94851995, 0.94916345, 0.94916345, 0.94980695,\n",
       "       0.94980695, 0.95045045, 0.95045045, 0.95109395, 0.95109395,\n",
       "       0.95238095, 0.95238095, 0.95302445, 0.95302445, 0.95366795,\n",
       "       0.95366795, 0.95431145, 0.95431145, 0.95495495, 0.95495495,\n",
       "       0.95559846, 0.95559846, 0.95624196, 0.95624196, 0.95688546,\n",
       "       0.95688546, 0.95752896, 0.95752896, 0.95817246, 0.95817246,\n",
       "       0.95881596, 0.95881596, 0.95945946, 0.95945946, 0.96010296,\n",
       "       0.96010296, 0.96074646, 0.96074646, 0.96138996, 0.96138996,\n",
       "       0.96203346, 0.96203346, 0.96267696, 0.96267696, 0.96332046,\n",
       "       0.96332046, 0.96396396, 0.96396396, 0.96460746, 0.96460746,\n",
       "       0.96525097, 0.96525097, 0.96589447, 0.96589447, 0.96653797,\n",
       "       0.96653797, 0.96718147, 0.96718147, 0.96782497, 0.96782497,\n",
       "       0.96846847, 0.96846847, 0.96911197, 0.96911197, 0.96975547,\n",
       "       0.96975547, 0.97039897, 0.97039897, 0.97104247, 0.97104247,\n",
       "       0.97168597, 0.97168597, 0.97232947, 0.97232947, 0.97361647,\n",
       "       0.97361647, 0.97425997, 0.97425997, 0.97490347, 0.97490347,\n",
       "       0.97554698, 0.97554698, 0.97619048, 0.97619048, 0.97683398,\n",
       "       0.97683398, 0.97747748, 0.97747748, 0.97812098, 0.97812098,\n",
       "       0.97876448, 0.97876448, 0.97940798, 0.97940798, 0.98005148,\n",
       "       0.98005148, 0.98069498, 0.98069498, 0.98133848, 0.98133848,\n",
       "       0.98198198, 0.98198198, 0.98326898, 0.98326898, 0.98391248,\n",
       "       0.98391248, 0.98391248, 0.98455598, 0.98455598, 0.98519949,\n",
       "       0.98519949, 0.98584299, 0.98584299, 0.98648649, 0.98648649,\n",
       "       0.98712999, 0.98712999, 0.98777349, 0.98777349, 0.98841699,\n",
       "       0.98841699, 0.98906049, 0.98906049, 0.98970399, 0.98970399,\n",
       "       0.99034749, 0.99034749, 0.99034749, 0.99034749, 0.99099099,\n",
       "       0.99099099, 0.99099099, 0.99099099, 0.99163449, 0.99163449,\n",
       "       0.99227799, 0.99227799, 0.99227799, 0.99292149, 0.99292149,\n",
       "       0.99292149, 0.99356499, 0.99356499, 0.99356499, 0.99356499,\n",
       "       0.99420849, 0.99420849, 0.9954955 , 0.9954955 , 0.9954955 ,\n",
       "       0.9954955 , 0.9954955 , 0.9954955 , 0.996139  , 0.996139  ,\n",
       "       0.9967825 , 0.9967825 , 0.9967825 , 0.9967825 , 0.9967825 ,\n",
       "       0.9967825 , 0.997426  , 0.997426  , 0.997426  , 0.997426  ,\n",
       "       0.997426  , 0.997426  , 0.9980695 , 0.9980695 , 0.998713  ,\n",
       "       0.998713  , 0.998713  , 0.998713  , 0.998713  , 0.998713  ,\n",
       "       0.998713  , 0.998713  , 0.9993565 , 0.9993565 , 0.9993565 ,\n",
       "       0.9993565 , 0.9993565 , 0.9993565 , 0.9993565 , 0.9993565 ,\n",
       "       0.9993565 , 0.9993565 , 0.9993565 , 0.9993565 , 0.9993565 ,\n",
       "       0.9993565 , 0.9993565 , 0.9993565 , 0.9993565 , 0.9993565 ,\n",
       "       1.        , 1.        , 1.        , 1.        , 1.        ,\n",
       "       1.        , 1.        , 1.        , 1.        , 1.        ,\n",
       "       1.        , 1.        , 1.        , 1.        , 1.        ,\n",
       "       1.        , 1.        , 1.        , 1.        , 1.        ,\n",
       "       1.        , 1.        , 1.        , 1.        , 1.        ,\n",
       "       1.        , 1.        , 1.        , 1.        , 1.        ,\n",
       "       1.        , 1.        , 1.        , 1.        , 1.        ,\n",
       "       1.        , 1.        , 1.        , 1.        , 1.        ,\n",
       "       1.        , 1.        , 1.        , 1.        , 1.        ])"
      ]
     },
     "execution_count": 158,
     "metadata": {},
     "output_type": "execute_result"
    }
   ],
   "source": [
    "tpr"
   ]
  },
  {
   "cell_type": "code",
   "execution_count": 159,
   "metadata": {},
   "outputs": [
    {
     "data": {
      "text/plain": [
       "array([2.00000000e+00, 1.00000000e+00, 9.98571429e-01, 9.98333333e-01,\n",
       "       9.97500000e-01, 9.97142857e-01, 9.94920635e-01, 9.94666667e-01,\n",
       "       9.94333333e-01, 9.94000000e-01, 9.93333333e-01, 9.93000000e-01,\n",
       "       9.92920635e-01, 9.92500000e-01, 9.92142857e-01, 9.91666667e-01,\n",
       "       9.88571429e-01, 9.88000000e-01, 9.87416667e-01, 9.87250000e-01,\n",
       "       9.86952381e-01, 9.86333333e-01, 9.86250000e-01, 9.86000000e-01,\n",
       "       9.83833333e-01, 9.83500000e-01, 9.83095238e-01, 9.82833333e-01,\n",
       "       9.82777778e-01, 9.82500000e-01, 9.81333333e-01, 9.81333333e-01,\n",
       "       9.80357143e-01, 9.80000000e-01, 9.78500000e-01, 9.78333333e-01,\n",
       "       9.73214286e-01, 9.72916667e-01, 9.72750000e-01, 9.72000000e-01,\n",
       "       9.71238095e-01, 9.71166667e-01, 9.70500000e-01, 9.70359307e-01,\n",
       "       9.70166667e-01, 9.70000000e-01, 9.67666667e-01, 9.67619048e-01,\n",
       "       9.65702381e-01, 9.65000000e-01, 9.62202381e-01, 9.61666667e-01,\n",
       "       9.60777778e-01, 9.60000000e-01, 9.59333333e-01, 9.58654762e-01,\n",
       "       9.58000000e-01, 9.57777778e-01, 9.56111111e-01, 9.56000000e-01,\n",
       "       9.48785714e-01, 9.48238095e-01, 9.48095238e-01, 9.31952381e-01,\n",
       "       9.31404762e-01, 9.28583333e-01, 9.28500000e-01, 9.25666667e-01,\n",
       "       9.25500000e-01, 9.24642857e-01, 9.24583333e-01, 9.17833333e-01,\n",
       "       9.17821429e-01, 9.17285714e-01, 9.17238095e-01, 9.12190476e-01,\n",
       "       9.12166667e-01, 9.12142857e-01, 9.08714286e-01, 9.08333333e-01,\n",
       "       9.07583333e-01, 9.07555556e-01, 9.06416667e-01, 9.06333333e-01,\n",
       "       9.02869048e-01, 9.02738095e-01, 9.00476190e-01, 9.00416667e-01,\n",
       "       8.98238095e-01, 8.97916667e-01, 8.96238095e-01, 8.95952381e-01,\n",
       "       8.92202381e-01, 8.91619048e-01, 8.89952381e-01, 8.89666667e-01,\n",
       "       8.88309524e-01, 8.87571429e-01, 8.86857143e-01, 8.86047619e-01,\n",
       "       8.84738095e-01, 8.83690476e-01, 8.83000000e-01, 8.75717949e-01,\n",
       "       8.75575397e-01, 8.72928571e-01, 8.72888889e-01, 8.70642857e-01,\n",
       "       8.69500000e-01, 8.65563492e-01, 8.64916667e-01, 8.63619048e-01,\n",
       "       8.63214286e-01, 8.63126984e-01, 8.62845238e-01, 8.59261905e-01,\n",
       "       8.58880952e-01, 8.58500000e-01, 8.58404762e-01, 8.58293651e-01,\n",
       "       8.55500000e-01, 8.55261905e-01, 8.53595238e-01, 8.53226190e-01,\n",
       "       8.51706349e-01, 8.51297619e-01, 8.49916667e-01, 8.49809524e-01,\n",
       "       8.47142857e-01, 8.47055556e-01, 8.45277778e-01, 8.45257937e-01,\n",
       "       8.45130952e-01, 8.44904762e-01, 8.42726190e-01, 8.42587302e-01,\n",
       "       8.39496032e-01, 8.38261905e-01, 8.38217949e-01, 8.37976190e-01,\n",
       "       8.36773810e-01, 8.36535714e-01, 8.30059524e-01, 8.29833333e-01,\n",
       "       8.28547619e-01, 8.28000000e-01, 8.27404762e-01, 8.27345238e-01,\n",
       "       8.26357143e-01, 8.25916667e-01, 8.24864358e-01, 8.24476190e-01,\n",
       "       8.23650794e-01, 8.23500000e-01, 8.19325397e-01, 8.19309524e-01,\n",
       "       8.18833333e-01, 8.17142857e-01, 8.16742063e-01, 8.07357143e-01,\n",
       "       8.07349206e-01, 8.05226190e-01, 8.04976190e-01, 8.03261905e-01,\n",
       "       8.02833333e-01, 7.98476190e-01, 7.98198413e-01, 7.95750000e-01,\n",
       "       7.95051587e-01, 7.93916667e-01, 7.93595238e-01, 7.92476190e-01,\n",
       "       7.91206349e-01, 7.91190476e-01, 7.88337302e-01, 7.87948413e-01,\n",
       "       7.86500000e-01, 7.86226190e-01, 7.81440476e-01, 7.79821429e-01,\n",
       "       7.76595238e-01, 7.76317460e-01, 7.68198413e-01, 7.67964286e-01,\n",
       "       7.60416667e-01, 7.59107143e-01, 7.57285714e-01, 7.56777778e-01,\n",
       "       7.56257937e-01, 7.55515873e-01, 7.54678571e-01, 7.54138889e-01,\n",
       "       7.51916667e-01, 7.50904762e-01, 7.43166667e-01, 7.42833333e-01,\n",
       "       7.40829004e-01, 7.39726190e-01, 7.39416667e-01, 7.39369048e-01,\n",
       "       7.38543651e-01, 7.37559524e-01, 7.34293651e-01, 7.34261905e-01,\n",
       "       7.32976190e-01, 7.32214286e-01, 7.31702381e-01, 7.30964286e-01,\n",
       "       7.30571429e-01, 7.29904762e-01, 7.26369048e-01, 7.25932540e-01,\n",
       "       7.19575397e-01, 7.17047619e-01, 7.16345238e-01, 7.15761905e-01,\n",
       "       7.15000000e-01, 7.13880952e-01, 7.13111111e-01, 7.12682540e-01,\n",
       "       7.11357143e-01, 7.10857143e-01, 7.10357143e-01, 7.09952381e-01,\n",
       "       7.08595238e-01, 7.08345238e-01, 7.08071429e-01, 7.07928571e-01,\n",
       "       7.04690476e-01, 7.04619048e-01, 7.04273810e-01, 7.04095238e-01,\n",
       "       7.04000000e-01, 7.03369048e-01, 7.01819264e-01, 7.01642857e-01,\n",
       "       7.01603175e-01, 7.01380952e-01, 7.00738095e-01, 7.00702381e-01,\n",
       "       6.96642857e-01, 6.96000000e-01, 6.94674603e-01, 6.94301587e-01,\n",
       "       6.92642857e-01, 6.92261905e-01, 6.91380952e-01, 6.90904762e-01,\n",
       "       6.89392857e-01, 6.88345238e-01, 6.88309524e-01, 6.88253968e-01,\n",
       "       6.88047619e-01, 6.87412698e-01, 6.82428571e-01, 6.82400794e-01,\n",
       "       6.81722222e-01, 6.80916667e-01, 6.80039683e-01, 6.79738095e-01,\n",
       "       6.78162698e-01, 6.77750000e-01, 6.77678571e-01, 6.77059524e-01,\n",
       "       6.76678571e-01, 6.76484127e-01, 6.74928571e-01, 6.74738095e-01,\n",
       "       6.73444444e-01, 6.73130952e-01, 6.71642857e-01, 6.71325397e-01,\n",
       "       6.70964286e-01, 6.70261905e-01, 6.68908730e-01, 6.67690476e-01,\n",
       "       6.65317460e-01, 6.63293651e-01, 6.60400794e-01, 6.59206349e-01,\n",
       "       6.56464286e-01, 6.56414502e-01, 6.52238095e-01, 6.51404762e-01,\n",
       "       6.50714286e-01, 6.50500000e-01, 6.48333333e-01, 6.46349206e-01,\n",
       "       6.45559524e-01, 6.45357143e-01, 6.42023810e-01, 6.41464286e-01,\n",
       "       6.41107143e-01, 6.41071429e-01, 6.40369048e-01, 6.39623016e-01,\n",
       "       6.39119048e-01, 6.38436508e-01, 6.38428571e-01, 6.37761905e-01,\n",
       "       6.36670635e-01, 6.36043651e-01, 6.34301587e-01, 6.34075397e-01,\n",
       "       6.30345238e-01, 6.30261905e-01, 6.26369048e-01, 6.25408730e-01,\n",
       "       6.20857143e-01, 6.20761905e-01, 6.19202381e-01, 6.18757937e-01,\n",
       "       6.17928571e-01, 6.16345238e-01, 6.16309524e-01, 6.16174603e-01,\n",
       "       6.15226967e-01, 6.15190476e-01, 6.14357143e-01, 6.12698413e-01,\n",
       "       6.12329365e-01, 6.09273810e-01, 6.09250000e-01, 6.08757937e-01,\n",
       "       6.08726190e-01, 6.03007937e-01, 6.02047619e-01, 6.01392857e-01,\n",
       "       6.00928571e-01, 5.99547619e-01, 5.99309524e-01, 5.92773810e-01,\n",
       "       5.91599206e-01, 5.91293651e-01, 5.91047619e-01, 5.90555556e-01,\n",
       "       5.89940476e-01, 5.89440476e-01, 5.88769841e-01, 5.88507937e-01,\n",
       "       5.85845238e-01, 5.85833333e-01, 5.85226190e-01, 5.84940476e-01,\n",
       "       5.84202381e-01, 5.83857143e-01, 5.83083333e-01, 5.82091270e-01,\n",
       "       5.81976190e-01, 5.80523810e-01, 5.80107143e-01, 5.78821429e-01,\n",
       "       5.77940476e-01, 5.73011905e-01, 5.72309524e-01, 5.71285714e-01,\n",
       "       5.70896825e-01, 5.69595238e-01, 5.68238095e-01, 5.67547619e-01,\n",
       "       5.64837302e-01, 5.64238095e-01, 5.62373016e-01, 5.61452381e-01,\n",
       "       5.60515873e-01, 5.59619048e-01, 5.58337302e-01, 5.58214286e-01,\n",
       "       5.57619048e-01, 5.55797619e-01, 5.54583333e-01, 5.53547619e-01,\n",
       "       5.53285714e-01, 5.51642857e-01, 5.48988095e-01, 5.48273810e-01,\n",
       "       5.47948413e-01, 5.46988095e-01, 5.44452381e-01, 5.42650794e-01,\n",
       "       5.41678571e-01, 5.41202381e-01, 5.40035714e-01, 5.37079365e-01,\n",
       "       5.35216117e-01, 5.32380952e-01, 5.32202381e-01, 5.31345238e-01,\n",
       "       5.30345238e-01, 5.29349206e-01, 5.27373016e-01, 5.26551587e-01,\n",
       "       5.24452381e-01, 5.24408730e-01, 5.16523810e-01, 5.15722222e-01,\n",
       "       5.13857143e-01, 5.13694444e-01, 5.13452381e-01, 5.12166667e-01,\n",
       "       5.11845238e-01, 5.11500000e-01, 5.11321429e-01, 5.10198413e-01,\n",
       "       5.09384921e-01, 5.08055556e-01, 5.07941087e-01, 5.07158730e-01,\n",
       "       5.06500000e-01, 5.02904762e-01, 5.02626263e-01, 5.01186508e-01,\n",
       "       4.98595238e-01, 4.97500000e-01, 4.97091270e-01, 4.93821429e-01,\n",
       "       4.91579365e-01, 4.91075397e-01, 4.90952381e-01, 4.90880952e-01,\n",
       "       4.90503968e-01, 4.89880952e-01, 4.89702381e-01, 4.86793651e-01,\n",
       "       4.86638889e-01, 4.83452381e-01, 4.82119048e-01, 4.77309524e-01,\n",
       "       4.77146825e-01, 4.76428571e-01, 4.74297619e-01, 4.73888889e-01,\n",
       "       4.71765873e-01, 4.71428571e-01, 4.68833333e-01, 4.68678571e-01,\n",
       "       4.68543651e-01, 4.67674603e-01, 4.67547619e-01, 4.64650794e-01,\n",
       "       4.64035714e-01, 4.60880952e-01, 4.60404762e-01, 4.59837302e-01,\n",
       "       4.59230159e-01, 4.58214286e-01, 4.56869048e-01, 4.54908730e-01,\n",
       "       4.54369048e-01, 4.51916667e-01, 4.51654762e-01, 4.50166667e-01,\n",
       "       4.49333333e-01, 4.48976190e-01, 4.48455628e-01, 4.48023810e-01,\n",
       "       4.47107143e-01, 4.46746032e-01, 4.41559524e-01, 4.40190476e-01,\n",
       "       4.38940476e-01, 4.35869048e-01, 4.35833333e-01, 4.35428571e-01,\n",
       "       4.34186508e-01, 4.33726190e-01, 4.32992063e-01, 4.32773810e-01,\n",
       "       4.29702381e-01, 4.29285714e-01, 4.27690476e-01, 4.26777778e-01,\n",
       "       4.26226190e-01, 4.25845238e-01, 4.25726190e-01, 4.23010462e-01,\n",
       "       4.22734127e-01, 4.21634921e-01, 4.20960317e-01, 4.18166667e-01,\n",
       "       4.16988095e-01, 4.16511905e-01, 4.16019841e-01, 4.15531746e-01,\n",
       "       4.15503968e-01, 4.10527778e-01, 4.09928571e-01, 4.09777778e-01,\n",
       "       4.09373016e-01, 4.09202381e-01, 4.07980519e-01, 4.07277778e-01,\n",
       "       4.04527778e-01, 4.04357143e-01, 4.03476190e-01, 4.02376984e-01,\n",
       "       3.99125902e-01, 3.98940476e-01, 3.98424603e-01, 3.96654762e-01,\n",
       "       3.96119048e-01, 3.92202381e-01, 3.91642857e-01, 3.91119048e-01,\n",
       "       3.90334110e-01, 3.86773810e-01, 3.83103175e-01, 3.82083333e-01,\n",
       "       3.79404762e-01, 3.79119048e-01, 3.77456349e-01, 3.72392857e-01,\n",
       "       3.72321429e-01, 3.72309524e-01, 3.71980519e-01, 3.71619048e-01,\n",
       "       3.70797619e-01, 3.70547619e-01, 3.69392857e-01, 3.68523810e-01,\n",
       "       3.68107504e-01, 3.66646825e-01, 3.64142857e-01, 3.63988095e-01,\n",
       "       3.63964286e-01, 3.57714286e-01, 3.57595238e-01, 3.57210317e-01,\n",
       "       3.56666667e-01, 3.53345238e-01, 3.52833333e-01, 3.49988095e-01,\n",
       "       3.49642857e-01, 3.48206349e-01, 3.47734127e-01, 3.44388889e-01,\n",
       "       3.44365079e-01, 3.42385531e-01, 3.42190476e-01, 3.37547619e-01,\n",
       "       3.35944444e-01, 3.34666667e-01, 3.34181818e-01, 3.32928571e-01,\n",
       "       3.32880952e-01, 3.32238095e-01, 3.31750000e-01, 3.27107143e-01,\n",
       "       3.27095238e-01, 3.25738095e-01, 3.25313492e-01, 3.25119048e-01,\n",
       "       3.24666667e-01, 3.24452381e-01, 3.24135531e-01, 3.23892857e-01,\n",
       "       3.22750000e-01, 3.17630952e-01, 3.15559524e-01, 3.15396825e-01,\n",
       "       3.15085859e-01, 3.14500000e-01, 3.14380952e-01, 3.12583333e-01,\n",
       "       3.12496032e-01, 3.09333333e-01, 3.08984127e-01, 3.08523810e-01,\n",
       "       3.08384921e-01, 3.08039683e-01, 3.07710317e-01, 3.02873016e-01,\n",
       "       3.02095238e-01, 3.02047619e-01, 3.02000000e-01, 2.96523810e-01,\n",
       "       2.96250000e-01, 2.95761905e-01, 2.95261905e-01, 2.93345238e-01,\n",
       "       2.91857143e-01, 2.90750000e-01, 2.90436508e-01, 2.88507937e-01,\n",
       "       2.87583333e-01, 2.82928571e-01, 2.82714286e-01, 2.81190476e-01,\n",
       "       2.78706349e-01, 2.77809524e-01, 2.77571429e-01, 2.75242063e-01,\n",
       "       2.75222222e-01, 2.74992063e-01, 2.74753968e-01, 2.74412698e-01,\n",
       "       2.73464286e-01, 2.72071429e-01, 2.71809524e-01, 2.71380952e-01,\n",
       "       2.71154762e-01, 2.67761905e-01, 2.66166667e-01, 2.65976190e-01,\n",
       "       2.64488095e-01, 2.54946970e-01, 2.54797619e-01, 2.52238095e-01,\n",
       "       2.51845238e-01, 2.50238095e-01, 2.49538240e-01, 2.49380952e-01,\n",
       "       2.49365079e-01, 2.47023810e-01, 2.45750000e-01, 2.38976190e-01,\n",
       "       2.37880952e-01, 2.37476190e-01, 2.36726190e-01, 2.36000000e-01,\n",
       "       2.35170635e-01, 2.33198413e-01, 2.33119048e-01, 2.31817460e-01,\n",
       "       2.31261905e-01, 2.24218254e-01, 2.23944444e-01, 2.21119048e-01,\n",
       "       2.21047619e-01, 2.17523810e-01, 2.17265873e-01, 2.16964286e-01,\n",
       "       2.15488095e-01, 2.15011905e-01, 2.14666667e-01, 2.13142857e-01,\n",
       "       2.13095238e-01, 2.07547619e-01, 2.07380952e-01, 2.03027778e-01,\n",
       "       2.02500000e-01, 1.98809524e-01, 1.98075397e-01, 1.97722222e-01,\n",
       "       1.97333333e-01, 1.95202381e-01, 1.94333333e-01, 1.92349206e-01,\n",
       "       1.91940476e-01, 1.88198413e-01, 1.88166667e-01, 1.87833333e-01,\n",
       "       1.87500000e-01, 1.83166667e-01, 1.82833333e-01, 1.80928571e-01,\n",
       "       1.80123377e-01, 1.77349206e-01, 1.76773810e-01, 1.74553030e-01,\n",
       "       1.74321429e-01, 1.70642857e-01, 1.70212121e-01, 1.68611111e-01,\n",
       "       1.67720779e-01, 1.64940476e-01, 1.64785714e-01, 1.63063492e-01,\n",
       "       1.62833333e-01, 1.58051587e-01, 1.57825397e-01, 1.48297619e-01,\n",
       "       1.46714286e-01, 1.45023810e-01, 1.44892857e-01, 1.43571429e-01,\n",
       "       1.41896825e-01, 1.41809524e-01, 1.41285714e-01, 1.40642857e-01,\n",
       "       1.39523810e-01, 1.38392857e-01, 1.37500000e-01, 1.37146825e-01,\n",
       "       1.27865079e-01, 1.27619048e-01, 1.27333333e-01, 1.27261905e-01,\n",
       "       1.18178571e-01, 1.17964286e-01, 1.17190476e-01, 1.17000000e-01,\n",
       "       1.10761905e-01, 1.10452381e-01, 9.74126984e-02, 9.70000000e-02,\n",
       "       9.11666667e-02, 9.10000000e-02, 8.73968254e-02, 8.63571429e-02,\n",
       "       8.17619048e-02, 8.16666667e-02, 7.88174603e-02, 7.86904762e-02,\n",
       "       7.26349206e-02, 7.25119048e-02, 7.25000000e-02, 6.80238095e-02,\n",
       "       6.78571429e-02, 6.47142857e-02, 6.45833333e-02, 6.45119048e-02,\n",
       "       6.38571429e-02, 6.37500000e-02, 6.18809524e-02, 6.15238095e-02,\n",
       "       6.00952381e-02, 6.00595238e-02, 5.92976190e-02, 5.92380952e-02,\n",
       "       5.86666667e-02, 5.80000000e-02, 5.40000000e-02, 5.38888889e-02,\n",
       "       5.19722222e-02, 5.18055556e-02, 4.99722222e-02, 4.95000000e-02,\n",
       "       4.66904762e-02, 4.66666667e-02, 4.58730159e-02, 4.58571429e-02,\n",
       "       4.25238095e-02, 4.25000000e-02, 4.20000000e-02, 4.16666667e-02,\n",
       "       4.09285714e-02, 4.08095238e-02, 3.95000000e-02, 3.92976190e-02,\n",
       "       3.91666667e-02, 3.91666667e-02, 3.80000000e-02, 3.78571429e-02,\n",
       "       3.64285714e-02, 3.61666667e-02, 3.55238095e-02, 3.55000000e-02,\n",
       "       3.50952381e-02, 3.50000000e-02, 3.41666667e-02, 3.40000000e-02,\n",
       "       3.32142857e-02, 3.30000000e-02, 3.26666667e-02, 3.25000000e-02,\n",
       "       3.03333333e-02, 3.00000000e-02, 2.53333333e-02, 2.50000000e-02,\n",
       "       2.49523810e-02, 2.45000000e-02, 2.25238095e-02, 2.25000000e-02,\n",
       "       2.07619048e-02, 2.07500000e-02, 2.00000000e-02, 1.93333333e-02,\n",
       "       1.91666667e-02, 1.80000000e-02, 1.75000000e-02, 1.71785714e-02,\n",
       "       1.70000000e-02, 1.68571429e-02, 1.66666667e-02, 1.55357143e-02,\n",
       "       1.53571429e-02, 1.53333333e-02, 1.50000000e-02, 1.43333333e-02,\n",
       "       1.41666667e-02, 1.33333333e-02, 1.28333333e-02, 1.16666667e-02,\n",
       "       1.08571429e-02, 1.08333333e-02, 1.03333333e-02, 1.00000000e-02,\n",
       "       9.50000000e-03, 9.00000000e-03, 8.85714286e-03, 8.66666667e-03,\n",
       "       8.42857143e-03, 8.33333333e-03, 7.66666667e-03, 7.50000000e-03,\n",
       "       7.14285714e-03, 7.00000000e-03, 6.66666667e-03, 5.33333333e-03,\n",
       "       5.00000000e-03, 4.28571429e-03, 4.00000000e-03, 3.33333333e-03,\n",
       "       2.85714286e-03, 2.00000000e-03, 1.42857143e-03, 1.25000000e-03,\n",
       "       1.11111111e-03, 0.00000000e+00])"
      ]
     },
     "execution_count": 159,
     "metadata": {},
     "output_type": "execute_result"
    }
   ],
   "source": [
    "thresholds"
   ]
  },
  {
   "cell_type": "code",
   "execution_count": 160,
   "metadata": {},
   "outputs": [
    {
     "data": {
      "image/png": "[encoded data removed]",
      "text/plain": [
       "<Figure size 432x288 with 1 Axes>"
      ]
     },
     "metadata": {
      "needs_background": "light"
     },
     "output_type": "display_data"
    }
   ],
   "source": [
    "plt.plot([0,1],[0,1],'k--')\n",
    "plt.plot(fpr,tpr,label='Random Forest Classifier')\n",
    "plt.xlabel('False Positive Rate')\n",
    "plt.ylabel('True Positive Rate')\n",
    "plt.title('Random Forest Classifier')\n",
    "plt.show()"
   ]
  },
  {
   "cell_type": "code",
   "execution_count": 161,
   "metadata": {},
   "outputs": [
    {
     "name": "stdout",
     "output_type": "stream",
     "text": [
      "0.8615004891600635\n"
     ]
    }
   ],
   "source": [
    "auc_score=roc_auc_score(y_test,RF.predict(X_test))\n",
    "print(auc_score)"
   ]
  },
  {
   "cell_type": "code",
   "execution_count": 162,
   "metadata": {},
   "outputs": [],
   "source": [
    "from sklearn import metrics"
   ]
  },
  {
   "cell_type": "code",
   "execution_count": 163,
   "metadata": {},
   "outputs": [
    {
     "data": {
      "text/plain": [
       "<sklearn.metrics._plot.confusion_matrix.ConfusionMatrixDisplay at 0x2732fa24af0>"
      ]
     },
     "execution_count": 163,
     "metadata": {},
     "output_type": "execute_result"
    },
    {
     "data": {
      "image/png": "[encoded data removed]",
      "text/plain": [
       "<Figure size 432x288 with 2 Axes>"
      ]
     },
     "metadata": {
      "needs_background": "light"
     },
     "output_type": "display_data"
    }
   ],
   "source": [
    "metrics.plot_confusion_matrix(RF, X_test, y_test, display_labels=['Negative', 'Positive'])"
   ]
  },
  {
   "cell_type": "markdown",
   "metadata": {},
   "source": [
    "# Saving Model"
   ]
  },
  {
   "cell_type": "code",
   "execution_count": 164,
   "metadata": {},
   "outputs": [
    {
     "data": {
      "text/plain": [
       "['Customer_Churn_Prediction.obj']"
      ]
     },
     "execution_count": 164,
     "metadata": {},
     "output_type": "execute_result"
    }
   ],
   "source": [
    "import joblib\n",
    "joblib.dump(RF,'Customer_Churn_Prediction.obj')"
   ]
  },
  {
   "cell_type": "code",
   "execution_count": null,
   "metadata": {},
   "outputs": [],
   "source": []
  },
  {
   "cell_type": "code",
   "execution_count": null,
   "metadata": {},
   "outputs": [],
   "source": []
  },
  {
   "cell_type": "code",
   "execution_count": null,
   "metadata": {},
   "outputs": [],
   "source": []
  },
  {
   "cell_type": "code",
   "execution_count": null,
   "metadata": {},
   "outputs": [],
   "source": []
  },
  {
   "cell_type": "code",
   "execution_count": null,
   "metadata": {},
   "outputs": [],
   "source": []
  }
 ],
 "metadata": {
  "kernelspec": {
   "display_name": "Python 3",
   "language": "python",
   "name": "python3"
  },
  "language_info": {
   "codemirror_mode": {
    "name": "ipython",
    "version": 3
   },
   "file_extension": ".py",
   "mimetype": "text/x-python",
   "name": "python",
   "nbconvert_exporter": "python",
   "pygments_lexer": "ipython3",
   "version": "3.8.5"
  }
 },
 "nbformat": 4,
 "nbformat_minor": 4
}

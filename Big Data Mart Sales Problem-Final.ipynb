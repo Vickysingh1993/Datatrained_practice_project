{
 "cells": [
  {
   "cell_type": "code",
   "execution_count": 1,
   "metadata": {},
   "outputs": [],
   "source": [
    "import pandas as pd\n",
    "import numpy as np\n",
    "import matplotlib.pyplot as plt\n",
    "import seaborn as sns\n",
    "import warnings\n",
    "warnings.filterwarnings('ignore')"
   ]
  },
  {
   "cell_type": "code",
   "execution_count": 2,
   "metadata": {},
   "outputs": [
    {
     "data": {
      "text/html": [
       "<div>\n",
       "<style scoped>\n",
       "    .dataframe tbody tr th:only-of-type {\n",
       "        vertical-align: middle;\n",
       "    }\n",
       "\n",
       "    .dataframe tbody tr th {\n",
       "        vertical-align: top;\n",
       "    }\n",
       "\n",
       "    .dataframe thead th {\n",
       "        text-align: right;\n",
       "    }\n",
       "</style>\n",
       "<table border=\"1\" class=\"dataframe\">\n",
       "  <thead>\n",
       "    <tr style=\"text-align: right;\">\n",
       "      <th></th>\n",
       "      <th>Item_Identifier</th>\n",
       "      <th>Item_Weight</th>\n",
       "      <th>Item_Fat_Content</th>\n",
       "      <th>Item_Visibility</th>\n",
       "      <th>Item_Type</th>\n",
       "      <th>Item_MRP</th>\n",
       "      <th>Outlet_Identifier</th>\n",
       "      <th>Outlet_Establishment_Year</th>\n",
       "      <th>Outlet_Size</th>\n",
       "      <th>Outlet_Location_Type</th>\n",
       "      <th>Outlet_Type</th>\n",
       "      <th>Item_Outlet_Sales</th>\n",
       "    </tr>\n",
       "  </thead>\n",
       "  <tbody>\n",
       "    <tr>\n",
       "      <th>0</th>\n",
       "      <td>FDA15</td>\n",
       "      <td>9.300</td>\n",
       "      <td>Low Fat</td>\n",
       "      <td>0.016047</td>\n",
       "      <td>Dairy</td>\n",
       "      <td>249.8092</td>\n",
       "      <td>OUT049</td>\n",
       "      <td>1999</td>\n",
       "      <td>Medium</td>\n",
       "      <td>Tier 1</td>\n",
       "      <td>Supermarket Type1</td>\n",
       "      <td>3735.1380</td>\n",
       "    </tr>\n",
       "    <tr>\n",
       "      <th>1</th>\n",
       "      <td>DRC01</td>\n",
       "      <td>5.920</td>\n",
       "      <td>Regular</td>\n",
       "      <td>0.019278</td>\n",
       "      <td>Soft Drinks</td>\n",
       "      <td>48.2692</td>\n",
       "      <td>OUT018</td>\n",
       "      <td>2009</td>\n",
       "      <td>Medium</td>\n",
       "      <td>Tier 3</td>\n",
       "      <td>Supermarket Type2</td>\n",
       "      <td>443.4228</td>\n",
       "    </tr>\n",
       "    <tr>\n",
       "      <th>2</th>\n",
       "      <td>FDN15</td>\n",
       "      <td>17.500</td>\n",
       "      <td>Low Fat</td>\n",
       "      <td>0.016760</td>\n",
       "      <td>Meat</td>\n",
       "      <td>141.6180</td>\n",
       "      <td>OUT049</td>\n",
       "      <td>1999</td>\n",
       "      <td>Medium</td>\n",
       "      <td>Tier 1</td>\n",
       "      <td>Supermarket Type1</td>\n",
       "      <td>2097.2700</td>\n",
       "    </tr>\n",
       "    <tr>\n",
       "      <th>3</th>\n",
       "      <td>FDX07</td>\n",
       "      <td>19.200</td>\n",
       "      <td>Regular</td>\n",
       "      <td>0.000000</td>\n",
       "      <td>Fruits and Vegetables</td>\n",
       "      <td>182.0950</td>\n",
       "      <td>OUT010</td>\n",
       "      <td>1998</td>\n",
       "      <td>NaN</td>\n",
       "      <td>Tier 3</td>\n",
       "      <td>Grocery Store</td>\n",
       "      <td>732.3800</td>\n",
       "    </tr>\n",
       "    <tr>\n",
       "      <th>4</th>\n",
       "      <td>NCD19</td>\n",
       "      <td>8.930</td>\n",
       "      <td>Low Fat</td>\n",
       "      <td>0.000000</td>\n",
       "      <td>Household</td>\n",
       "      <td>53.8614</td>\n",
       "      <td>OUT013</td>\n",
       "      <td>1987</td>\n",
       "      <td>High</td>\n",
       "      <td>Tier 3</td>\n",
       "      <td>Supermarket Type1</td>\n",
       "      <td>994.7052</td>\n",
       "    </tr>\n",
       "    <tr>\n",
       "      <th>5</th>\n",
       "      <td>FDP36</td>\n",
       "      <td>10.395</td>\n",
       "      <td>Regular</td>\n",
       "      <td>0.000000</td>\n",
       "      <td>Baking Goods</td>\n",
       "      <td>51.4008</td>\n",
       "      <td>OUT018</td>\n",
       "      <td>2009</td>\n",
       "      <td>Medium</td>\n",
       "      <td>Tier 3</td>\n",
       "      <td>Supermarket Type2</td>\n",
       "      <td>556.6088</td>\n",
       "    </tr>\n",
       "    <tr>\n",
       "      <th>6</th>\n",
       "      <td>FDO10</td>\n",
       "      <td>13.650</td>\n",
       "      <td>Regular</td>\n",
       "      <td>0.012741</td>\n",
       "      <td>Snack Foods</td>\n",
       "      <td>57.6588</td>\n",
       "      <td>OUT013</td>\n",
       "      <td>1987</td>\n",
       "      <td>High</td>\n",
       "      <td>Tier 3</td>\n",
       "      <td>Supermarket Type1</td>\n",
       "      <td>343.5528</td>\n",
       "    </tr>\n",
       "    <tr>\n",
       "      <th>7</th>\n",
       "      <td>FDP10</td>\n",
       "      <td>NaN</td>\n",
       "      <td>Low Fat</td>\n",
       "      <td>0.127470</td>\n",
       "      <td>Snack Foods</td>\n",
       "      <td>107.7622</td>\n",
       "      <td>OUT027</td>\n",
       "      <td>1985</td>\n",
       "      <td>Medium</td>\n",
       "      <td>Tier 3</td>\n",
       "      <td>Supermarket Type3</td>\n",
       "      <td>4022.7636</td>\n",
       "    </tr>\n",
       "    <tr>\n",
       "      <th>8</th>\n",
       "      <td>FDH17</td>\n",
       "      <td>16.200</td>\n",
       "      <td>Regular</td>\n",
       "      <td>0.016687</td>\n",
       "      <td>Frozen Foods</td>\n",
       "      <td>96.9726</td>\n",
       "      <td>OUT045</td>\n",
       "      <td>2002</td>\n",
       "      <td>NaN</td>\n",
       "      <td>Tier 2</td>\n",
       "      <td>Supermarket Type1</td>\n",
       "      <td>1076.5986</td>\n",
       "    </tr>\n",
       "    <tr>\n",
       "      <th>9</th>\n",
       "      <td>FDU28</td>\n",
       "      <td>19.200</td>\n",
       "      <td>Regular</td>\n",
       "      <td>0.094450</td>\n",
       "      <td>Frozen Foods</td>\n",
       "      <td>187.8214</td>\n",
       "      <td>OUT017</td>\n",
       "      <td>2007</td>\n",
       "      <td>NaN</td>\n",
       "      <td>Tier 2</td>\n",
       "      <td>Supermarket Type1</td>\n",
       "      <td>4710.5350</td>\n",
       "    </tr>\n",
       "  </tbody>\n",
       "</table>\n",
       "</div>"
      ],
      "text/plain": [
       "  Item_Identifier  Item_Weight Item_Fat_Content  Item_Visibility  \\\n",
       "0           FDA15        9.300          Low Fat         0.016047   \n",
       "1           DRC01        5.920          Regular         0.019278   \n",
       "2           FDN15       17.500          Low Fat         0.016760   \n",
       "3           FDX07       19.200          Regular         0.000000   \n",
       "4           NCD19        8.930          Low Fat         0.000000   \n",
       "5           FDP36       10.395          Regular         0.000000   \n",
       "6           FDO10       13.650          Regular         0.012741   \n",
       "7           FDP10          NaN          Low Fat         0.127470   \n",
       "8           FDH17       16.200          Regular         0.016687   \n",
       "9           FDU28       19.200          Regular         0.094450   \n",
       "\n",
       "               Item_Type  Item_MRP Outlet_Identifier  \\\n",
       "0                  Dairy  249.8092            OUT049   \n",
       "1            Soft Drinks   48.2692            OUT018   \n",
       "2                   Meat  141.6180            OUT049   \n",
       "3  Fruits and Vegetables  182.0950            OUT010   \n",
       "4              Household   53.8614            OUT013   \n",
       "5           Baking Goods   51.4008            OUT018   \n",
       "6            Snack Foods   57.6588            OUT013   \n",
       "7            Snack Foods  107.7622            OUT027   \n",
       "8           Frozen Foods   96.9726            OUT045   \n",
       "9           Frozen Foods  187.8214            OUT017   \n",
       "\n",
       "   Outlet_Establishment_Year Outlet_Size Outlet_Location_Type  \\\n",
       "0                       1999      Medium               Tier 1   \n",
       "1                       2009      Medium               Tier 3   \n",
       "2                       1999      Medium               Tier 1   \n",
       "3                       1998         NaN               Tier 3   \n",
       "4                       1987        High               Tier 3   \n",
       "5                       2009      Medium               Tier 3   \n",
       "6                       1987        High               Tier 3   \n",
       "7                       1985      Medium               Tier 3   \n",
       "8                       2002         NaN               Tier 2   \n",
       "9                       2007         NaN               Tier 2   \n",
       "\n",
       "         Outlet_Type  Item_Outlet_Sales  \n",
       "0  Supermarket Type1          3735.1380  \n",
       "1  Supermarket Type2           443.4228  \n",
       "2  Supermarket Type1          2097.2700  \n",
       "3      Grocery Store           732.3800  \n",
       "4  Supermarket Type1           994.7052  \n",
       "5  Supermarket Type2           556.6088  \n",
       "6  Supermarket Type1           343.5528  \n",
       "7  Supermarket Type3          4022.7636  \n",
       "8  Supermarket Type1          1076.5986  \n",
       "9  Supermarket Type1          4710.5350  "
      ]
     },
     "execution_count": 2,
     "metadata": {},
     "output_type": "execute_result"
    }
   ],
   "source": [
    "train=pd.read_csv('https://raw.githubusercontent.com/dsrscientist/bigdatamart_rep/master/bigdatamart_Train.csv')\n",
    "train.head(10)"
   ]
  },
  {
   "cell_type": "markdown",
   "metadata": {},
   "source": [
    "Import Train dataset for github to predict Big Data Mart Sales Problem. "
   ]
  },
  {
   "cell_type": "code",
   "execution_count": 3,
   "metadata": {},
   "outputs": [
    {
     "data": {
      "text/html": [
       "<div>\n",
       "<style scoped>\n",
       "    .dataframe tbody tr th:only-of-type {\n",
       "        vertical-align: middle;\n",
       "    }\n",
       "\n",
       "    .dataframe tbody tr th {\n",
       "        vertical-align: top;\n",
       "    }\n",
       "\n",
       "    .dataframe thead th {\n",
       "        text-align: right;\n",
       "    }\n",
       "</style>\n",
       "<table border=\"1\" class=\"dataframe\">\n",
       "  <thead>\n",
       "    <tr style=\"text-align: right;\">\n",
       "      <th></th>\n",
       "      <th>Item_Identifier</th>\n",
       "      <th>Item_Weight</th>\n",
       "      <th>Item_Fat_Content</th>\n",
       "      <th>Item_Visibility</th>\n",
       "      <th>Item_Type</th>\n",
       "      <th>Item_MRP</th>\n",
       "      <th>Outlet_Identifier</th>\n",
       "      <th>Outlet_Establishment_Year</th>\n",
       "      <th>Outlet_Size</th>\n",
       "      <th>Outlet_Location_Type</th>\n",
       "      <th>Outlet_Type</th>\n",
       "    </tr>\n",
       "  </thead>\n",
       "  <tbody>\n",
       "    <tr>\n",
       "      <th>0</th>\n",
       "      <td>FDW58</td>\n",
       "      <td>20.750</td>\n",
       "      <td>Low Fat</td>\n",
       "      <td>0.007565</td>\n",
       "      <td>Snack Foods</td>\n",
       "      <td>107.8622</td>\n",
       "      <td>OUT049</td>\n",
       "      <td>1999</td>\n",
       "      <td>Medium</td>\n",
       "      <td>Tier 1</td>\n",
       "      <td>Supermarket Type1</td>\n",
       "    </tr>\n",
       "    <tr>\n",
       "      <th>1</th>\n",
       "      <td>FDW14</td>\n",
       "      <td>8.300</td>\n",
       "      <td>reg</td>\n",
       "      <td>0.038428</td>\n",
       "      <td>Dairy</td>\n",
       "      <td>87.3198</td>\n",
       "      <td>OUT017</td>\n",
       "      <td>2007</td>\n",
       "      <td>NaN</td>\n",
       "      <td>Tier 2</td>\n",
       "      <td>Supermarket Type1</td>\n",
       "    </tr>\n",
       "    <tr>\n",
       "      <th>2</th>\n",
       "      <td>NCN55</td>\n",
       "      <td>14.600</td>\n",
       "      <td>Low Fat</td>\n",
       "      <td>0.099575</td>\n",
       "      <td>Others</td>\n",
       "      <td>241.7538</td>\n",
       "      <td>OUT010</td>\n",
       "      <td>1998</td>\n",
       "      <td>NaN</td>\n",
       "      <td>Tier 3</td>\n",
       "      <td>Grocery Store</td>\n",
       "    </tr>\n",
       "    <tr>\n",
       "      <th>3</th>\n",
       "      <td>FDQ58</td>\n",
       "      <td>7.315</td>\n",
       "      <td>Low Fat</td>\n",
       "      <td>0.015388</td>\n",
       "      <td>Snack Foods</td>\n",
       "      <td>155.0340</td>\n",
       "      <td>OUT017</td>\n",
       "      <td>2007</td>\n",
       "      <td>NaN</td>\n",
       "      <td>Tier 2</td>\n",
       "      <td>Supermarket Type1</td>\n",
       "    </tr>\n",
       "    <tr>\n",
       "      <th>4</th>\n",
       "      <td>FDY38</td>\n",
       "      <td>NaN</td>\n",
       "      <td>Regular</td>\n",
       "      <td>0.118599</td>\n",
       "      <td>Dairy</td>\n",
       "      <td>234.2300</td>\n",
       "      <td>OUT027</td>\n",
       "      <td>1985</td>\n",
       "      <td>Medium</td>\n",
       "      <td>Tier 3</td>\n",
       "      <td>Supermarket Type3</td>\n",
       "    </tr>\n",
       "  </tbody>\n",
       "</table>\n",
       "</div>"
      ],
      "text/plain": [
       "  Item_Identifier  Item_Weight Item_Fat_Content  Item_Visibility    Item_Type  \\\n",
       "0           FDW58       20.750          Low Fat         0.007565  Snack Foods   \n",
       "1           FDW14        8.300              reg         0.038428        Dairy   \n",
       "2           NCN55       14.600          Low Fat         0.099575       Others   \n",
       "3           FDQ58        7.315          Low Fat         0.015388  Snack Foods   \n",
       "4           FDY38          NaN          Regular         0.118599        Dairy   \n",
       "\n",
       "   Item_MRP Outlet_Identifier  Outlet_Establishment_Year Outlet_Size  \\\n",
       "0  107.8622            OUT049                       1999      Medium   \n",
       "1   87.3198            OUT017                       2007         NaN   \n",
       "2  241.7538            OUT010                       1998         NaN   \n",
       "3  155.0340            OUT017                       2007         NaN   \n",
       "4  234.2300            OUT027                       1985      Medium   \n",
       "\n",
       "  Outlet_Location_Type        Outlet_Type  \n",
       "0               Tier 1  Supermarket Type1  \n",
       "1               Tier 2  Supermarket Type1  \n",
       "2               Tier 3      Grocery Store  \n",
       "3               Tier 2  Supermarket Type1  \n",
       "4               Tier 3  Supermarket Type3  "
      ]
     },
     "execution_count": 3,
     "metadata": {},
     "output_type": "execute_result"
    }
   ],
   "source": [
    "test=pd.read_csv('https://raw.githubusercontent.com/dsrscientist/bigdatamart_rep/master/bigdatamart_Test.csv')\n",
    "test.head()"
   ]
  },
  {
   "cell_type": "markdown",
   "metadata": {},
   "source": [
    "Import Test Dataset from github and to predict train data as well as test data."
   ]
  },
  {
   "cell_type": "markdown",
   "metadata": {},
   "source": [
    "# Exploratory Data Analysis"
   ]
  },
  {
   "cell_type": "code",
   "execution_count": 4,
   "metadata": {},
   "outputs": [
    {
     "data": {
      "text/plain": [
       "(8523, 12)"
      ]
     },
     "execution_count": 4,
     "metadata": {},
     "output_type": "execute_result"
    }
   ],
   "source": [
    "#Checking shape of Train data.\n",
    "train.shape"
   ]
  },
  {
   "cell_type": "code",
   "execution_count": 5,
   "metadata": {},
   "outputs": [
    {
     "data": {
      "text/plain": [
       "(5681, 11)"
      ]
     },
     "execution_count": 5,
     "metadata": {},
     "output_type": "execute_result"
    }
   ],
   "source": [
    "#Checking shape of Test data.\n",
    "test.shape"
   ]
  },
  {
   "cell_type": "code",
   "execution_count": 6,
   "metadata": {},
   "outputs": [
    {
     "name": "stdout",
     "output_type": "stream",
     "text": [
      "<class 'pandas.core.frame.DataFrame'>\n",
      "RangeIndex: 8523 entries, 0 to 8522\n",
      "Data columns (total 12 columns):\n",
      " #   Column                     Non-Null Count  Dtype  \n",
      "---  ------                     --------------  -----  \n",
      " 0   Item_Identifier            8523 non-null   object \n",
      " 1   Item_Weight                7060 non-null   float64\n",
      " 2   Item_Fat_Content           8523 non-null   object \n",
      " 3   Item_Visibility            8523 non-null   float64\n",
      " 4   Item_Type                  8523 non-null   object \n",
      " 5   Item_MRP                   8523 non-null   float64\n",
      " 6   Outlet_Identifier          8523 non-null   object \n",
      " 7   Outlet_Establishment_Year  8523 non-null   int64  \n",
      " 8   Outlet_Size                6113 non-null   object \n",
      " 9   Outlet_Location_Type       8523 non-null   object \n",
      " 10  Outlet_Type                8523 non-null   object \n",
      " 11  Item_Outlet_Sales          8523 non-null   float64\n",
      "dtypes: float64(4), int64(1), object(7)\n",
      "memory usage: 799.2+ KB\n"
     ]
    }
   ],
   "source": [
    "train.info()"
   ]
  },
  {
   "cell_type": "markdown",
   "metadata": {},
   "source": [
    "Getting information about data like as null value, dtypes, Columns."
   ]
  },
  {
   "cell_type": "code",
   "execution_count": 7,
   "metadata": {},
   "outputs": [
    {
     "name": "stdout",
     "output_type": "stream",
     "text": [
      "<class 'pandas.core.frame.DataFrame'>\n",
      "RangeIndex: 5681 entries, 0 to 5680\n",
      "Data columns (total 11 columns):\n",
      " #   Column                     Non-Null Count  Dtype  \n",
      "---  ------                     --------------  -----  \n",
      " 0   Item_Identifier            5681 non-null   object \n",
      " 1   Item_Weight                4705 non-null   float64\n",
      " 2   Item_Fat_Content           5681 non-null   object \n",
      " 3   Item_Visibility            5681 non-null   float64\n",
      " 4   Item_Type                  5681 non-null   object \n",
      " 5   Item_MRP                   5681 non-null   float64\n",
      " 6   Outlet_Identifier          5681 non-null   object \n",
      " 7   Outlet_Establishment_Year  5681 non-null   int64  \n",
      " 8   Outlet_Size                4075 non-null   object \n",
      " 9   Outlet_Location_Type       5681 non-null   object \n",
      " 10  Outlet_Type                5681 non-null   object \n",
      "dtypes: float64(3), int64(1), object(7)\n",
      "memory usage: 488.3+ KB\n"
     ]
    }
   ],
   "source": [
    "test.info()"
   ]
  },
  {
   "cell_type": "markdown",
   "metadata": {},
   "source": [
    "Getting information about test data like as null value, dtypes, Columns."
   ]
  },
  {
   "cell_type": "code",
   "execution_count": 8,
   "metadata": {},
   "outputs": [
    {
     "data": {
      "text/html": [
       "<div>\n",
       "<style scoped>\n",
       "    .dataframe tbody tr th:only-of-type {\n",
       "        vertical-align: middle;\n",
       "    }\n",
       "\n",
       "    .dataframe tbody tr th {\n",
       "        vertical-align: top;\n",
       "    }\n",
       "\n",
       "    .dataframe thead th {\n",
       "        text-align: right;\n",
       "    }\n",
       "</style>\n",
       "<table border=\"1\" class=\"dataframe\">\n",
       "  <thead>\n",
       "    <tr style=\"text-align: right;\">\n",
       "      <th></th>\n",
       "      <th>unique values</th>\n",
       "      <th>number of unique values</th>\n",
       "    </tr>\n",
       "  </thead>\n",
       "  <tbody>\n",
       "    <tr>\n",
       "      <th>Item_Identifier</th>\n",
       "      <td>[FDA15, DRC01, FDN15, FDX07, NCD19, FDP36, FDO...</td>\n",
       "      <td>1559</td>\n",
       "    </tr>\n",
       "    <tr>\n",
       "      <th>Item_Weight</th>\n",
       "      <td>[9.3, 5.92, 17.5, 19.2, 8.93, 10.395, 13.65, n...</td>\n",
       "      <td>415</td>\n",
       "    </tr>\n",
       "    <tr>\n",
       "      <th>Item_Fat_Content</th>\n",
       "      <td>[Low Fat, Regular, low fat, LF, reg]</td>\n",
       "      <td>5</td>\n",
       "    </tr>\n",
       "    <tr>\n",
       "      <th>Item_Visibility</th>\n",
       "      <td>[0.016047301, 0.019278216, 0.016760075, 0.0, 0...</td>\n",
       "      <td>7880</td>\n",
       "    </tr>\n",
       "    <tr>\n",
       "      <th>Item_Type</th>\n",
       "      <td>[Dairy, Soft Drinks, Meat, Fruits and Vegetabl...</td>\n",
       "      <td>16</td>\n",
       "    </tr>\n",
       "    <tr>\n",
       "      <th>Item_MRP</th>\n",
       "      <td>[249.8092, 48.2692, 141.618, 182.095, 53.8614,...</td>\n",
       "      <td>5938</td>\n",
       "    </tr>\n",
       "    <tr>\n",
       "      <th>Outlet_Identifier</th>\n",
       "      <td>[OUT049, OUT018, OUT010, OUT013, OUT027, OUT04...</td>\n",
       "      <td>10</td>\n",
       "    </tr>\n",
       "    <tr>\n",
       "      <th>Outlet_Establishment_Year</th>\n",
       "      <td>[1999, 2009, 1998, 1987, 1985, 2002, 2007, 199...</td>\n",
       "      <td>9</td>\n",
       "    </tr>\n",
       "    <tr>\n",
       "      <th>Outlet_Size</th>\n",
       "      <td>[Medium, nan, High, Small]</td>\n",
       "      <td>3</td>\n",
       "    </tr>\n",
       "    <tr>\n",
       "      <th>Outlet_Location_Type</th>\n",
       "      <td>[Tier 1, Tier 3, Tier 2]</td>\n",
       "      <td>3</td>\n",
       "    </tr>\n",
       "    <tr>\n",
       "      <th>Outlet_Type</th>\n",
       "      <td>[Supermarket Type1, Supermarket Type2, Grocery...</td>\n",
       "      <td>4</td>\n",
       "    </tr>\n",
       "    <tr>\n",
       "      <th>Item_Outlet_Sales</th>\n",
       "      <td>[3735.138, 443.4228, 2097.27, 732.38, 994.7052...</td>\n",
       "      <td>3493</td>\n",
       "    </tr>\n",
       "  </tbody>\n",
       "</table>\n",
       "</div>"
      ],
      "text/plain": [
       "                                                               unique values  \\\n",
       "Item_Identifier            [FDA15, DRC01, FDN15, FDX07, NCD19, FDP36, FDO...   \n",
       "Item_Weight                [9.3, 5.92, 17.5, 19.2, 8.93, 10.395, 13.65, n...   \n",
       "Item_Fat_Content                        [Low Fat, Regular, low fat, LF, reg]   \n",
       "Item_Visibility            [0.016047301, 0.019278216, 0.016760075, 0.0, 0...   \n",
       "Item_Type                  [Dairy, Soft Drinks, Meat, Fruits and Vegetabl...   \n",
       "Item_MRP                   [249.8092, 48.2692, 141.618, 182.095, 53.8614,...   \n",
       "Outlet_Identifier          [OUT049, OUT018, OUT010, OUT013, OUT027, OUT04...   \n",
       "Outlet_Establishment_Year  [1999, 2009, 1998, 1987, 1985, 2002, 2007, 199...   \n",
       "Outlet_Size                                       [Medium, nan, High, Small]   \n",
       "Outlet_Location_Type                                [Tier 1, Tier 3, Tier 2]   \n",
       "Outlet_Type                [Supermarket Type1, Supermarket Type2, Grocery...   \n",
       "Item_Outlet_Sales          [3735.138, 443.4228, 2097.27, 732.38, 994.7052...   \n",
       "\n",
       "                           number of unique values  \n",
       "Item_Identifier                               1559  \n",
       "Item_Weight                                    415  \n",
       "Item_Fat_Content                                 5  \n",
       "Item_Visibility                               7880  \n",
       "Item_Type                                       16  \n",
       "Item_MRP                                      5938  \n",
       "Outlet_Identifier                               10  \n",
       "Outlet_Establishment_Year                        9  \n",
       "Outlet_Size                                      3  \n",
       "Outlet_Location_Type                             3  \n",
       "Outlet_Type                                      4  \n",
       "Item_Outlet_Sales                             3493  "
      ]
     },
     "execution_count": 8,
     "metadata": {},
     "output_type": "execute_result"
    }
   ],
   "source": [
    "pd.concat({'unique values': train.apply(pd.unique), 'number of unique values': train.nunique()}, axis=1)"
   ]
  },
  {
   "cell_type": "markdown",
   "metadata": {},
   "source": [
    "checking unique values in Train dataset."
   ]
  },
  {
   "cell_type": "code",
   "execution_count": 9,
   "metadata": {},
   "outputs": [
    {
     "data": {
      "text/plain": [
       "Item_Identifier                 0\n",
       "Item_Weight                  1463\n",
       "Item_Fat_Content                0\n",
       "Item_Visibility                 0\n",
       "Item_Type                       0\n",
       "Item_MRP                        0\n",
       "Outlet_Identifier               0\n",
       "Outlet_Establishment_Year       0\n",
       "Outlet_Size                  2410\n",
       "Outlet_Location_Type            0\n",
       "Outlet_Type                     0\n",
       "Item_Outlet_Sales               0\n",
       "dtype: int64"
      ]
     },
     "execution_count": 9,
     "metadata": {},
     "output_type": "execute_result"
    }
   ],
   "source": [
    "train.isnull().sum()"
   ]
  },
  {
   "cell_type": "code",
   "execution_count": 10,
   "metadata": {},
   "outputs": [
    {
     "data": {
      "text/plain": [
       "<AxesSubplot:>"
      ]
     },
     "execution_count": 10,
     "metadata": {},
     "output_type": "execute_result"
    },
    {
     "data": {
      "image/png": "[encoded data removed]",
      "text/plain": [
       "<Figure size 432x288 with 2 Axes>"
      ]
     },
     "metadata": {
      "needs_background": "light"
     },
     "output_type": "display_data"
    }
   ],
   "source": [
    "sns.heatmap(train.isnull())"
   ]
  },
  {
   "cell_type": "markdown",
   "metadata": {},
   "source": [
    "Null values are present in train dataset."
   ]
  },
  {
   "cell_type": "code",
   "execution_count": 11,
   "metadata": {},
   "outputs": [
    {
     "data": {
      "text/plain": [
       "Item_Identifier                 0\n",
       "Item_Weight                   976\n",
       "Item_Fat_Content                0\n",
       "Item_Visibility                 0\n",
       "Item_Type                       0\n",
       "Item_MRP                        0\n",
       "Outlet_Identifier               0\n",
       "Outlet_Establishment_Year       0\n",
       "Outlet_Size                  1606\n",
       "Outlet_Location_Type            0\n",
       "Outlet_Type                     0\n",
       "dtype: int64"
      ]
     },
     "execution_count": 11,
     "metadata": {},
     "output_type": "execute_result"
    }
   ],
   "source": [
    "test.isnull().sum()"
   ]
  },
  {
   "cell_type": "code",
   "execution_count": 12,
   "metadata": {},
   "outputs": [
    {
     "data": {
      "text/plain": [
       "<AxesSubplot:>"
      ]
     },
     "execution_count": 12,
     "metadata": {},
     "output_type": "execute_result"
    },
    {
     "data": {
      "image/png": "[encoded data removed]",
      "text/plain": [
       "<Figure size 432x288 with 2 Axes>"
      ]
     },
     "metadata": {
      "needs_background": "light"
     },
     "output_type": "display_data"
    }
   ],
   "source": [
    "sns.heatmap(test.isnull())"
   ]
  },
  {
   "cell_type": "markdown",
   "metadata": {},
   "source": [
    "There are two columns which have NaN values."
   ]
  },
  {
   "cell_type": "code",
   "execution_count": 13,
   "metadata": {},
   "outputs": [],
   "source": [
    "from sklearn.impute import SimpleImputer\n",
    "imp=SimpleImputer(strategy=\"most_frequent\")\n",
    "train['Outlet_Size']=imp.fit_transform(train['Outlet_Size'].values.reshape(-1,1))\n",
    "test['Outlet_Size']=imp.fit_transform(test['Outlet_Size'].values.reshape(-1,1))"
   ]
  },
  {
   "cell_type": "code",
   "execution_count": 14,
   "metadata": {},
   "outputs": [],
   "source": [
    "from sklearn.impute import SimpleImputer\n",
    "imp=SimpleImputer(strategy=\"mean\")\n",
    "train['Item_Weight']=imp.fit_transform(train['Item_Weight'].values.reshape(-1,1))\n",
    "test['Item_Weight']=imp.fit_transform(test['Item_Weight'].values.reshape(-1,1))"
   ]
  },
  {
   "cell_type": "markdown",
   "metadata": {},
   "source": [
    "Removing NaN value from both of datasets Train and Test data."
   ]
  },
  {
   "cell_type": "code",
   "execution_count": 15,
   "metadata": {},
   "outputs": [],
   "source": [
    "train.drop('Item_Identifier',axis=1,inplace=True)\n",
    "test.drop('Item_Identifier',axis=1,inplace=True)"
   ]
  },
  {
   "cell_type": "markdown",
   "metadata": {},
   "source": [
    "Drop Item_Identifier columns from both datasets."
   ]
  },
  {
   "cell_type": "code",
   "execution_count": 16,
   "metadata": {},
   "outputs": [
    {
     "data": {
      "text/plain": [
       "Low Fat    5089\n",
       "Regular    2889\n",
       "LF          316\n",
       "reg         117\n",
       "low fat     112\n",
       "Name: Item_Fat_Content, dtype: int64"
      ]
     },
     "execution_count": 16,
     "metadata": {},
     "output_type": "execute_result"
    }
   ],
   "source": [
    "train['Item_Fat_Content'].value_counts()"
   ]
  },
  {
   "cell_type": "markdown",
   "metadata": {},
   "source": [
    "Checking Identical Value in Item_Fat_Content column."
   ]
  },
  {
   "cell_type": "code",
   "execution_count": 17,
   "metadata": {},
   "outputs": [],
   "source": [
    "train.Item_Fat_Content.replace('LF','Low Fat',inplace=True)\n",
    "train.Item_Fat_Content.replace('low fat','Low Fat',inplace=True)\n",
    "test.Item_Fat_Content.replace('LF','Low Fat',inplace=True)\n",
    "test.Item_Fat_Content.replace('low fat','Low Fat',inplace=True)\n",
    "# Replacing reg with Regular \n",
    "train.Item_Fat_Content.replace('reg','Regular',inplace=True)\n",
    "test.Item_Fat_Content.replace('reg','Regular',inplace=True)"
   ]
  },
  {
   "cell_type": "markdown",
   "metadata": {},
   "source": [
    "Train Dataset\n",
    "Replacing LF,low fat with Low Fat\n",
    "Replacing reg with Regular\n",
    "\n",
    "Test Dataset\n",
    "Replacing LF,low fat with Low Fat\n",
    "Replacing reg with Regular"
   ]
  },
  {
   "cell_type": "markdown",
   "metadata": {},
   "source": [
    "# Train Data Encoding"
   ]
  },
  {
   "cell_type": "code",
   "execution_count": 18,
   "metadata": {},
   "outputs": [
    {
     "data": {
      "text/html": [
       "<div>\n",
       "<style scoped>\n",
       "    .dataframe tbody tr th:only-of-type {\n",
       "        vertical-align: middle;\n",
       "    }\n",
       "\n",
       "    .dataframe tbody tr th {\n",
       "        vertical-align: top;\n",
       "    }\n",
       "\n",
       "    .dataframe thead th {\n",
       "        text-align: right;\n",
       "    }\n",
       "</style>\n",
       "<table border=\"1\" class=\"dataframe\">\n",
       "  <thead>\n",
       "    <tr style=\"text-align: right;\">\n",
       "      <th></th>\n",
       "      <th>Item_Weight</th>\n",
       "      <th>Item_Fat_Content</th>\n",
       "      <th>Item_Visibility</th>\n",
       "      <th>Item_Type</th>\n",
       "      <th>Item_MRP</th>\n",
       "      <th>Outlet_Identifier</th>\n",
       "      <th>Outlet_Establishment_Year</th>\n",
       "      <th>Outlet_Size</th>\n",
       "      <th>Outlet_Location_Type</th>\n",
       "      <th>Outlet_Type</th>\n",
       "      <th>Item_Outlet_Sales</th>\n",
       "    </tr>\n",
       "  </thead>\n",
       "  <tbody>\n",
       "    <tr>\n",
       "      <th>0</th>\n",
       "      <td>9.300000</td>\n",
       "      <td>0</td>\n",
       "      <td>0.016047</td>\n",
       "      <td>4</td>\n",
       "      <td>249.8092</td>\n",
       "      <td>9</td>\n",
       "      <td>1999</td>\n",
       "      <td>1</td>\n",
       "      <td>0</td>\n",
       "      <td>1</td>\n",
       "      <td>3735.1380</td>\n",
       "    </tr>\n",
       "    <tr>\n",
       "      <th>1</th>\n",
       "      <td>5.920000</td>\n",
       "      <td>1</td>\n",
       "      <td>0.019278</td>\n",
       "      <td>14</td>\n",
       "      <td>48.2692</td>\n",
       "      <td>3</td>\n",
       "      <td>2009</td>\n",
       "      <td>1</td>\n",
       "      <td>2</td>\n",
       "      <td>2</td>\n",
       "      <td>443.4228</td>\n",
       "    </tr>\n",
       "    <tr>\n",
       "      <th>2</th>\n",
       "      <td>17.500000</td>\n",
       "      <td>0</td>\n",
       "      <td>0.016760</td>\n",
       "      <td>10</td>\n",
       "      <td>141.6180</td>\n",
       "      <td>9</td>\n",
       "      <td>1999</td>\n",
       "      <td>1</td>\n",
       "      <td>0</td>\n",
       "      <td>1</td>\n",
       "      <td>2097.2700</td>\n",
       "    </tr>\n",
       "    <tr>\n",
       "      <th>3</th>\n",
       "      <td>19.200000</td>\n",
       "      <td>1</td>\n",
       "      <td>0.000000</td>\n",
       "      <td>6</td>\n",
       "      <td>182.0950</td>\n",
       "      <td>0</td>\n",
       "      <td>1998</td>\n",
       "      <td>1</td>\n",
       "      <td>2</td>\n",
       "      <td>0</td>\n",
       "      <td>732.3800</td>\n",
       "    </tr>\n",
       "    <tr>\n",
       "      <th>4</th>\n",
       "      <td>8.930000</td>\n",
       "      <td>0</td>\n",
       "      <td>0.000000</td>\n",
       "      <td>9</td>\n",
       "      <td>53.8614</td>\n",
       "      <td>1</td>\n",
       "      <td>1987</td>\n",
       "      <td>0</td>\n",
       "      <td>2</td>\n",
       "      <td>1</td>\n",
       "      <td>994.7052</td>\n",
       "    </tr>\n",
       "    <tr>\n",
       "      <th>5</th>\n",
       "      <td>10.395000</td>\n",
       "      <td>1</td>\n",
       "      <td>0.000000</td>\n",
       "      <td>0</td>\n",
       "      <td>51.4008</td>\n",
       "      <td>3</td>\n",
       "      <td>2009</td>\n",
       "      <td>1</td>\n",
       "      <td>2</td>\n",
       "      <td>2</td>\n",
       "      <td>556.6088</td>\n",
       "    </tr>\n",
       "    <tr>\n",
       "      <th>6</th>\n",
       "      <td>13.650000</td>\n",
       "      <td>1</td>\n",
       "      <td>0.012741</td>\n",
       "      <td>13</td>\n",
       "      <td>57.6588</td>\n",
       "      <td>1</td>\n",
       "      <td>1987</td>\n",
       "      <td>0</td>\n",
       "      <td>2</td>\n",
       "      <td>1</td>\n",
       "      <td>343.5528</td>\n",
       "    </tr>\n",
       "    <tr>\n",
       "      <th>7</th>\n",
       "      <td>12.857645</td>\n",
       "      <td>0</td>\n",
       "      <td>0.127470</td>\n",
       "      <td>13</td>\n",
       "      <td>107.7622</td>\n",
       "      <td>5</td>\n",
       "      <td>1985</td>\n",
       "      <td>1</td>\n",
       "      <td>2</td>\n",
       "      <td>3</td>\n",
       "      <td>4022.7636</td>\n",
       "    </tr>\n",
       "    <tr>\n",
       "      <th>8</th>\n",
       "      <td>16.200000</td>\n",
       "      <td>1</td>\n",
       "      <td>0.016687</td>\n",
       "      <td>5</td>\n",
       "      <td>96.9726</td>\n",
       "      <td>7</td>\n",
       "      <td>2002</td>\n",
       "      <td>1</td>\n",
       "      <td>1</td>\n",
       "      <td>1</td>\n",
       "      <td>1076.5986</td>\n",
       "    </tr>\n",
       "    <tr>\n",
       "      <th>9</th>\n",
       "      <td>19.200000</td>\n",
       "      <td>1</td>\n",
       "      <td>0.094450</td>\n",
       "      <td>5</td>\n",
       "      <td>187.8214</td>\n",
       "      <td>2</td>\n",
       "      <td>2007</td>\n",
       "      <td>1</td>\n",
       "      <td>1</td>\n",
       "      <td>1</td>\n",
       "      <td>4710.5350</td>\n",
       "    </tr>\n",
       "  </tbody>\n",
       "</table>\n",
       "</div>"
      ],
      "text/plain": [
       "   Item_Weight  Item_Fat_Content  Item_Visibility  Item_Type  Item_MRP  \\\n",
       "0     9.300000                 0         0.016047          4  249.8092   \n",
       "1     5.920000                 1         0.019278         14   48.2692   \n",
       "2    17.500000                 0         0.016760         10  141.6180   \n",
       "3    19.200000                 1         0.000000          6  182.0950   \n",
       "4     8.930000                 0         0.000000          9   53.8614   \n",
       "5    10.395000                 1         0.000000          0   51.4008   \n",
       "6    13.650000                 1         0.012741         13   57.6588   \n",
       "7    12.857645                 0         0.127470         13  107.7622   \n",
       "8    16.200000                 1         0.016687          5   96.9726   \n",
       "9    19.200000                 1         0.094450          5  187.8214   \n",
       "\n",
       "   Outlet_Identifier  Outlet_Establishment_Year  Outlet_Size  \\\n",
       "0                  9                       1999            1   \n",
       "1                  3                       2009            1   \n",
       "2                  9                       1999            1   \n",
       "3                  0                       1998            1   \n",
       "4                  1                       1987            0   \n",
       "5                  3                       2009            1   \n",
       "6                  1                       1987            0   \n",
       "7                  5                       1985            1   \n",
       "8                  7                       2002            1   \n",
       "9                  2                       2007            1   \n",
       "\n",
       "   Outlet_Location_Type  Outlet_Type  Item_Outlet_Sales  \n",
       "0                     0            1          3735.1380  \n",
       "1                     2            2           443.4228  \n",
       "2                     0            1          2097.2700  \n",
       "3                     2            0           732.3800  \n",
       "4                     2            1           994.7052  \n",
       "5                     2            2           556.6088  \n",
       "6                     2            1           343.5528  \n",
       "7                     2            3          4022.7636  \n",
       "8                     1            1          1076.5986  \n",
       "9                     1            1          4710.5350  "
      ]
     },
     "execution_count": 18,
     "metadata": {},
     "output_type": "execute_result"
    }
   ],
   "source": [
    "from sklearn.preprocessing import LabelEncoder\n",
    "labelencoder = LabelEncoder()\n",
    "train['Item_Fat_Content'] = labelencoder.fit_transform(train['Item_Fat_Content'])\n",
    "train['Item_Type'] = labelencoder.fit_transform(train['Item_Type'])\n",
    "train['Outlet_Identifier'] = labelencoder.fit_transform(train['Outlet_Identifier'])\n",
    "train['Outlet_Size'] = labelencoder.fit_transform(train['Outlet_Size'])\n",
    "train['Outlet_Location_Type'] = labelencoder.fit_transform(train['Outlet_Location_Type'])\n",
    "train['Outlet_Type'] = labelencoder.fit_transform(train['Outlet_Type'])\n",
    "train.head(10)"
   ]
  },
  {
   "cell_type": "markdown",
   "metadata": {},
   "source": [
    "# Test Data Encoding"
   ]
  },
  {
   "cell_type": "code",
   "execution_count": 19,
   "metadata": {},
   "outputs": [
    {
     "data": {
      "text/html": [
       "<div>\n",
       "<style scoped>\n",
       "    .dataframe tbody tr th:only-of-type {\n",
       "        vertical-align: middle;\n",
       "    }\n",
       "\n",
       "    .dataframe tbody tr th {\n",
       "        vertical-align: top;\n",
       "    }\n",
       "\n",
       "    .dataframe thead th {\n",
       "        text-align: right;\n",
       "    }\n",
       "</style>\n",
       "<table border=\"1\" class=\"dataframe\">\n",
       "  <thead>\n",
       "    <tr style=\"text-align: right;\">\n",
       "      <th></th>\n",
       "      <th>Item_Weight</th>\n",
       "      <th>Item_Fat_Content</th>\n",
       "      <th>Item_Visibility</th>\n",
       "      <th>Item_Type</th>\n",
       "      <th>Item_MRP</th>\n",
       "      <th>Outlet_Identifier</th>\n",
       "      <th>Outlet_Establishment_Year</th>\n",
       "      <th>Outlet_Size</th>\n",
       "      <th>Outlet_Location_Type</th>\n",
       "      <th>Outlet_Type</th>\n",
       "    </tr>\n",
       "  </thead>\n",
       "  <tbody>\n",
       "    <tr>\n",
       "      <th>0</th>\n",
       "      <td>20.750000</td>\n",
       "      <td>0</td>\n",
       "      <td>0.007565</td>\n",
       "      <td>13</td>\n",
       "      <td>107.8622</td>\n",
       "      <td>9</td>\n",
       "      <td>1999</td>\n",
       "      <td>1</td>\n",
       "      <td>0</td>\n",
       "      <td>1</td>\n",
       "    </tr>\n",
       "    <tr>\n",
       "      <th>1</th>\n",
       "      <td>8.300000</td>\n",
       "      <td>1</td>\n",
       "      <td>0.038428</td>\n",
       "      <td>4</td>\n",
       "      <td>87.3198</td>\n",
       "      <td>2</td>\n",
       "      <td>2007</td>\n",
       "      <td>1</td>\n",
       "      <td>1</td>\n",
       "      <td>1</td>\n",
       "    </tr>\n",
       "    <tr>\n",
       "      <th>2</th>\n",
       "      <td>14.600000</td>\n",
       "      <td>0</td>\n",
       "      <td>0.099575</td>\n",
       "      <td>11</td>\n",
       "      <td>241.7538</td>\n",
       "      <td>0</td>\n",
       "      <td>1998</td>\n",
       "      <td>1</td>\n",
       "      <td>2</td>\n",
       "      <td>0</td>\n",
       "    </tr>\n",
       "    <tr>\n",
       "      <th>3</th>\n",
       "      <td>7.315000</td>\n",
       "      <td>0</td>\n",
       "      <td>0.015388</td>\n",
       "      <td>13</td>\n",
       "      <td>155.0340</td>\n",
       "      <td>2</td>\n",
       "      <td>2007</td>\n",
       "      <td>1</td>\n",
       "      <td>1</td>\n",
       "      <td>1</td>\n",
       "    </tr>\n",
       "    <tr>\n",
       "      <th>4</th>\n",
       "      <td>12.695633</td>\n",
       "      <td>1</td>\n",
       "      <td>0.118599</td>\n",
       "      <td>4</td>\n",
       "      <td>234.2300</td>\n",
       "      <td>5</td>\n",
       "      <td>1985</td>\n",
       "      <td>1</td>\n",
       "      <td>2</td>\n",
       "      <td>3</td>\n",
       "    </tr>\n",
       "    <tr>\n",
       "      <th>5</th>\n",
       "      <td>9.800000</td>\n",
       "      <td>1</td>\n",
       "      <td>0.063817</td>\n",
       "      <td>6</td>\n",
       "      <td>117.1492</td>\n",
       "      <td>8</td>\n",
       "      <td>1997</td>\n",
       "      <td>2</td>\n",
       "      <td>0</td>\n",
       "      <td>1</td>\n",
       "    </tr>\n",
       "    <tr>\n",
       "      <th>6</th>\n",
       "      <td>19.350000</td>\n",
       "      <td>1</td>\n",
       "      <td>0.082602</td>\n",
       "      <td>0</td>\n",
       "      <td>50.1034</td>\n",
       "      <td>3</td>\n",
       "      <td>2009</td>\n",
       "      <td>1</td>\n",
       "      <td>2</td>\n",
       "      <td>2</td>\n",
       "    </tr>\n",
       "    <tr>\n",
       "      <th>7</th>\n",
       "      <td>12.695633</td>\n",
       "      <td>0</td>\n",
       "      <td>0.015782</td>\n",
       "      <td>0</td>\n",
       "      <td>81.0592</td>\n",
       "      <td>5</td>\n",
       "      <td>1985</td>\n",
       "      <td>1</td>\n",
       "      <td>2</td>\n",
       "      <td>3</td>\n",
       "    </tr>\n",
       "    <tr>\n",
       "      <th>8</th>\n",
       "      <td>6.305000</td>\n",
       "      <td>1</td>\n",
       "      <td>0.123365</td>\n",
       "      <td>13</td>\n",
       "      <td>95.7436</td>\n",
       "      <td>7</td>\n",
       "      <td>2002</td>\n",
       "      <td>1</td>\n",
       "      <td>1</td>\n",
       "      <td>1</td>\n",
       "    </tr>\n",
       "    <tr>\n",
       "      <th>9</th>\n",
       "      <td>5.985000</td>\n",
       "      <td>0</td>\n",
       "      <td>0.005698</td>\n",
       "      <td>0</td>\n",
       "      <td>186.8924</td>\n",
       "      <td>2</td>\n",
       "      <td>2007</td>\n",
       "      <td>1</td>\n",
       "      <td>1</td>\n",
       "      <td>1</td>\n",
       "    </tr>\n",
       "  </tbody>\n",
       "</table>\n",
       "</div>"
      ],
      "text/plain": [
       "   Item_Weight  Item_Fat_Content  Item_Visibility  Item_Type  Item_MRP  \\\n",
       "0    20.750000                 0         0.007565         13  107.8622   \n",
       "1     8.300000                 1         0.038428          4   87.3198   \n",
       "2    14.600000                 0         0.099575         11  241.7538   \n",
       "3     7.315000                 0         0.015388         13  155.0340   \n",
       "4    12.695633                 1         0.118599          4  234.2300   \n",
       "5     9.800000                 1         0.063817          6  117.1492   \n",
       "6    19.350000                 1         0.082602          0   50.1034   \n",
       "7    12.695633                 0         0.015782          0   81.0592   \n",
       "8     6.305000                 1         0.123365         13   95.7436   \n",
       "9     5.985000                 0         0.005698          0  186.8924   \n",
       "\n",
       "   Outlet_Identifier  Outlet_Establishment_Year  Outlet_Size  \\\n",
       "0                  9                       1999            1   \n",
       "1                  2                       2007            1   \n",
       "2                  0                       1998            1   \n",
       "3                  2                       2007            1   \n",
       "4                  5                       1985            1   \n",
       "5                  8                       1997            2   \n",
       "6                  3                       2009            1   \n",
       "7                  5                       1985            1   \n",
       "8                  7                       2002            1   \n",
       "9                  2                       2007            1   \n",
       "\n",
       "   Outlet_Location_Type  Outlet_Type  \n",
       "0                     0            1  \n",
       "1                     1            1  \n",
       "2                     2            0  \n",
       "3                     1            1  \n",
       "4                     2            3  \n",
       "5                     0            1  \n",
       "6                     2            2  \n",
       "7                     2            3  \n",
       "8                     1            1  \n",
       "9                     1            1  "
      ]
     },
     "execution_count": 19,
     "metadata": {},
     "output_type": "execute_result"
    }
   ],
   "source": [
    "from sklearn.preprocessing import LabelEncoder\n",
    "labelencoder = LabelEncoder()\n",
    "test['Item_Fat_Content'] = labelencoder.fit_transform(test['Item_Fat_Content'])\n",
    "test['Item_Type'] = labelencoder.fit_transform(test['Item_Type'])\n",
    "test['Outlet_Identifier'] = labelencoder.fit_transform(test['Outlet_Identifier'])\n",
    "test['Outlet_Size'] = labelencoder.fit_transform(test['Outlet_Size'])\n",
    "test['Outlet_Location_Type'] = labelencoder.fit_transform(test['Outlet_Location_Type'])\n",
    "test['Outlet_Type'] = labelencoder.fit_transform(test['Outlet_Type'])\n",
    "test.head(10)"
   ]
  },
  {
   "cell_type": "markdown",
   "metadata": {},
   "source": [
    "# Data Visualization"
   ]
  },
  {
   "cell_type": "code",
   "execution_count": 20,
   "metadata": {},
   "outputs": [
    {
     "data": {
      "text/plain": [
       "<AxesSubplot:>"
      ]
     },
     "execution_count": 20,
     "metadata": {},
     "output_type": "execute_result"
    },
    {
     "data": {
      "image/png": "[encoded data removed]",
      "text/plain": [
       "<Figure size 720x432 with 2 Axes>"
      ]
     },
     "metadata": {
      "needs_background": "light"
     },
     "output_type": "display_data"
    }
   ],
   "source": [
    "dfcor=train.corr()\n",
    "dfcor\n",
    "plt.figure(figsize=(10,6))\n",
    "sns.heatmap(dfcor,cmap='Blues',annot=True)"
   ]
  },
  {
   "cell_type": "markdown",
   "metadata": {},
   "source": [
    "With the help of Correlatin checking relationship between all features."
   ]
  },
  {
   "cell_type": "code",
   "execution_count": 21,
   "metadata": {},
   "outputs": [
    {
     "data": {
      "text/plain": [
       "<AxesSubplot:>"
      ]
     },
     "execution_count": 21,
     "metadata": {},
     "output_type": "execute_result"
    },
    {
     "data": {
      "image/png": "[encoded data removed]",
      "text/plain": [
       "<Figure size 720x432 with 2 Axes>"
      ]
     },
     "metadata": {
      "needs_background": "light"
     },
     "output_type": "display_data"
    }
   ],
   "source": [
    "dfcor=test.corr()\n",
    "dfcor\n",
    "plt.figure(figsize=(10,6))\n",
    "sns.heatmap(dfcor,cmap='Blues',annot=True)"
   ]
  },
  {
   "cell_type": "markdown",
   "metadata": {},
   "source": [
    "With the help of Correlatin checking relationship between all features."
   ]
  },
  {
   "cell_type": "markdown",
   "metadata": {},
   "source": [
    "# Univariate Analysis"
   ]
  },
  {
   "cell_type": "code",
   "execution_count": 22,
   "metadata": {},
   "outputs": [
    {
     "data": {
      "image/png": "[encoded data removed]",
      "text/plain": [
       "<Figure size 432x288 with 1 Axes>"
      ]
     },
     "metadata": {
      "needs_background": "light"
     },
     "output_type": "display_data"
    }
   ],
   "source": [
    "sns.distplot(train.Item_Outlet_Sales, color = \"m\")\n",
    "plt.show()"
   ]
  },
  {
   "cell_type": "markdown",
   "metadata": {},
   "source": [
    "checking Target Variable data distribution by Distplot"
   ]
  },
  {
   "cell_type": "code",
   "execution_count": 23,
   "metadata": {},
   "outputs": [
    {
     "data": {
      "image/png": "[encoded data removed]",
      "text/plain": [
       "<Figure size 432x288 with 1 Axes>"
      ]
     },
     "metadata": {
      "needs_background": "light"
     },
     "output_type": "display_data"
    }
   ],
   "source": [
    "sns.distplot(train.Item_Weight, color = \"m\")\n",
    "plt.show()"
   ]
  },
  {
   "cell_type": "markdown",
   "metadata": {},
   "source": [
    "Ploting Item_Weight column with the help of distplot to check data distibution."
   ]
  },
  {
   "cell_type": "code",
   "execution_count": 24,
   "metadata": {},
   "outputs": [
    {
     "data": {
      "image/png": "[encoded data removed]",
      "text/plain": [
       "<Figure size 432x288 with 1 Axes>"
      ]
     },
     "metadata": {
      "needs_background": "light"
     },
     "output_type": "display_data"
    }
   ],
   "source": [
    "sns.distplot(train.Item_MRP, color = \"m\")\n",
    "plt.show()"
   ]
  },
  {
   "cell_type": "markdown",
   "metadata": {},
   "source": [
    "# Bivariate Analysis"
   ]
  },
  {
   "cell_type": "markdown",
   "metadata": {},
   "source": [
    "Ploting Item_MRP column with the help of distplot to check data distibution."
   ]
  },
  {
   "cell_type": "code",
   "execution_count": 25,
   "metadata": {},
   "outputs": [
    {
     "data": {
      "image/png": "[encoded data removed]",
      "text/plain": [
       "<Figure size 432x288 with 1 Axes>"
      ]
     },
     "metadata": {
      "needs_background": "light"
     },
     "output_type": "display_data"
    }
   ],
   "source": [
    "plt.scatter(train.Item_Weight, train.Item_Outlet_Sales, color = \"magenta\");"
   ]
  },
  {
   "cell_type": "markdown",
   "metadata": {},
   "source": [
    "Checking Relationship between Item_Weight and Item_Outlet_Sales with the help of Scatterplot."
   ]
  },
  {
   "cell_type": "code",
   "execution_count": 26,
   "metadata": {},
   "outputs": [
    {
     "data": {
      "image/png": "[encoded data removed]",
      "text/plain": [
       "<Figure size 432x288 with 1 Axes>"
      ]
     },
     "metadata": {
      "needs_background": "light"
     },
     "output_type": "display_data"
    }
   ],
   "source": [
    "plt.scatter(train.Item_MRP, train.Item_Outlet_Sales, color = \"hotpink\");"
   ]
  },
  {
   "cell_type": "markdown",
   "metadata": {},
   "source": [
    "Checking Relationship between Item_MRP and Item_Outlet_Sales with the help of Scatterplot."
   ]
  },
  {
   "cell_type": "code",
   "execution_count": 27,
   "metadata": {},
   "outputs": [
    {
     "data": {
      "image/png": "[encoded data removed]",
      "text/plain": [
       "<Figure size 432x288 with 1 Axes>"
      ]
     },
     "metadata": {
      "needs_background": "light"
     },
     "output_type": "display_data"
    }
   ],
   "source": [
    "plt.scatter(train.Item_Type, train.Item_Outlet_Sales, color = \"red\");"
   ]
  },
  {
   "cell_type": "markdown",
   "metadata": {},
   "source": [
    "Checking Relationship between Item_Type and Item_Outlet_Sales with the help of Scatterplot."
   ]
  },
  {
   "cell_type": "code",
   "execution_count": 28,
   "metadata": {},
   "outputs": [
    {
     "data": {
      "image/png": "[encoded data removed]",
      "text/plain": [
       "<Figure size 432x288 with 1 Axes>"
      ]
     },
     "metadata": {
      "needs_background": "light"
     },
     "output_type": "display_data"
    }
   ],
   "source": [
    "plt.scatter(train.Item_Visibility, train.Item_Outlet_Sales, color = \"hotpink\");"
   ]
  },
  {
   "cell_type": "markdown",
   "metadata": {},
   "source": [
    "Checking Relationship between Item_Visibility and Item_Outlet_Sales with the help of Scatterplot."
   ]
  },
  {
   "cell_type": "code",
   "execution_count": 29,
   "metadata": {},
   "outputs": [
    {
     "data": {
      "image/png": "[encoded data removed]",
      "text/plain": [
       "<Figure size 432x288 with 1 Axes>"
      ]
     },
     "metadata": {
      "needs_background": "light"
     },
     "output_type": "display_data"
    }
   ],
   "source": [
    "plt.scatter(train.Outlet_Type, train.Item_Outlet_Sales, color = \"green\");"
   ]
  },
  {
   "cell_type": "markdown",
   "metadata": {},
   "source": [
    "Checking Relationship between Outlet_Type and Item_Outlet_Sales with the help of Scatterplot."
   ]
  },
  {
   "cell_type": "code",
   "execution_count": 30,
   "metadata": {},
   "outputs": [
    {
     "data": {
      "text/plain": [
       "<AxesSubplot:xlabel='Item_Fat_Content', ylabel='Item_Outlet_Sales'>"
      ]
     },
     "execution_count": 30,
     "metadata": {},
     "output_type": "execute_result"
    },
    {
     "data": {
      "image/png": "[encoded data removed]",
      "text/plain": [
       "<Figure size 432x288 with 1 Axes>"
      ]
     },
     "metadata": {
      "needs_background": "light"
     },
     "output_type": "display_data"
    }
   ],
   "source": [
    "sns.boxplot(train.Item_Fat_Content, train.Item_Outlet_Sales)"
   ]
  },
  {
   "cell_type": "markdown",
   "metadata": {},
   "source": [
    "Ploting Item_Fat_Content and Item_Outlet_Sales columns with the help of Boxplot."
   ]
  },
  {
   "cell_type": "code",
   "execution_count": 31,
   "metadata": {},
   "outputs": [
    {
     "data": {
      "image/png": "[encoded data removed]",
      "text/plain": [
       "<Figure size 936x432 with 1 Axes>"
      ]
     },
     "metadata": {
      "needs_background": "light"
     },
     "output_type": "display_data"
    }
   ],
   "source": [
    "plt.figure(figsize = [13,6])\n",
    "sns.boxplot(train.Item_Type, train.Item_Outlet_Sales)\n",
    "plt.xticks(rotation = 90)\n",
    "plt.title(\"Boxplot - Item Type Vs Sales\")\n",
    "plt.xlabel(\"Item Type\")\n",
    "plt.ylabel(\"Sales\")\n",
    "plt.show()"
   ]
  },
  {
   "cell_type": "markdown",
   "metadata": {},
   "source": [
    "relating Item Type with Sales with the help of Boxplot."
   ]
  },
  {
   "cell_type": "code",
   "execution_count": 32,
   "metadata": {},
   "outputs": [
    {
     "data": {
      "image/png": "[encoded data removed]",
      "text/plain": [
       "<Figure size 936x432 with 1 Axes>"
      ]
     },
     "metadata": {
      "needs_background": "light"
     },
     "output_type": "display_data"
    }
   ],
   "source": [
    "plt.figure(figsize = [13,6])\n",
    "sns.boxplot(train.Outlet_Identifier, train.Item_Outlet_Sales)\n",
    "plt.xticks(rotation = 90)\n",
    "plt.title(\"Boxplot - Oultet ID Vs Sales\")\n",
    "plt.xlabel(\"Outlets\")\n",
    "plt.ylabel(\"Sales\")\n",
    "plt.show()"
   ]
  },
  {
   "cell_type": "markdown",
   "metadata": {},
   "source": [
    "Relating Outlets and Sales with the help of Boxplot"
   ]
  },
  {
   "cell_type": "code",
   "execution_count": 33,
   "metadata": {},
   "outputs": [
    {
     "data": {
      "image/png": "[encoded data removed]",
      "text/plain": [
       "<Figure size 936x432 with 1 Axes>"
      ]
     },
     "metadata": {
      "needs_background": "light"
     },
     "output_type": "display_data"
    }
   ],
   "source": [
    "plt.figure(figsize = [13,6])\n",
    "sns.boxplot(train.Outlet_Size, train.Item_Outlet_Sales)\n",
    "plt.xticks(rotation = 90)\n",
    "plt.title(\"Boxplot - Oultet Size Vs Sales\")\n",
    "plt.xlabel(\"Outlets\")\n",
    "plt.ylabel(\"Sales\")\n",
    "plt.show()"
   ]
  },
  {
   "cell_type": "markdown",
   "metadata": {},
   "source": [
    "Checking relationship between Outlet Size and Sales."
   ]
  },
  {
   "cell_type": "markdown",
   "metadata": {},
   "source": [
    "# Multivariate Analysis"
   ]
  },
  {
   "cell_type": "code",
   "execution_count": 34,
   "metadata": {},
   "outputs": [
    {
     "data": {
      "image/png": "[encoded data removed]",
      "text/plain": [
       "<Figure size 864x4320 with 10 Axes>"
      ]
     },
     "metadata": {
      "needs_background": "light"
     },
     "output_type": "display_data"
    }
   ],
   "source": [
    "collist=train.columns.values\n",
    "ncol=12\n",
    "nrows=10\n",
    "plt.figure(figsize=(ncol,5*ncol))\n",
    "for i in range(1,len(collist)):\n",
    "    plt.subplot(nrows,ncol,i+1)\n",
    "    sns.boxplot(train[collist[i]],color='green', orient='v')\n",
    "    plt.tight_layout()"
   ]
  },
  {
   "cell_type": "markdown",
   "metadata": {},
   "source": [
    "Ploting all columns by Boxplot to find all columns outliers in a one place."
   ]
  },
  {
   "cell_type": "markdown",
   "metadata": {},
   "source": [
    "# Zscore Value"
   ]
  },
  {
   "cell_type": "code",
   "execution_count": 35,
   "metadata": {},
   "outputs": [],
   "source": [
    "from scipy.stats import zscore"
   ]
  },
  {
   "cell_type": "code",
   "execution_count": 36,
   "metadata": {},
   "outputs": [
    {
     "data": {
      "text/plain": [
       "array([[0.84187169, 0.73814723, 0.97073217, ..., 1.36933384, 0.25265831,\n",
       "        0.910601  ],\n",
       "       [1.64170589, 1.35474328, 0.90811123, ..., 1.09156913, 1.00297245,\n",
       "        1.01844035],\n",
       "       [1.09855449, 0.73814723, 0.95691733, ..., 1.36933384, 0.25265831,\n",
       "        0.04923754],\n",
       "       ...,\n",
       "       [0.53424315, 0.73814723, 0.59978449, ..., 0.13888236, 0.25265831,\n",
       "        0.57909963],\n",
       "       [1.33644372, 1.35474328, 1.53287976, ..., 1.09156913, 1.00297245,\n",
       "        0.19672492],\n",
       "       [0.45963367, 0.73814723, 0.41193591, ..., 1.36933384, 0.25265831,\n",
       "        0.82959407]])"
      ]
     },
     "execution_count": 36,
     "metadata": {},
     "output_type": "execute_result"
    }
   ],
   "source": [
    "z=np.abs(zscore(train))\n",
    "z"
   ]
  },
  {
   "cell_type": "markdown",
   "metadata": {},
   "source": [
    "Applying Zscore functionality on entire data to remove outliers."
   ]
  },
  {
   "cell_type": "code",
   "execution_count": 37,
   "metadata": {},
   "outputs": [
    {
     "name": "stdout",
     "output_type": "stream",
     "text": [
      "(array([  49,   83,  108,  130,  145,  174,  276,  304,  333,  373,  434,\n",
      "        456,  472,  502,  521,  532,  661,  694,  753,  809,  854,  935,\n",
      "        991,  997, 1009, 1138, 1159, 1254, 1272, 1291, 1311, 1324, 1434,\n",
      "       1450, 1496, 1501, 1506, 1560, 1575, 1644, 1651, 1805, 1827, 1841,\n",
      "       1859, 1998, 2088, 2109, 2122, 2216, 2238, 2251, 2293, 2324, 2439,\n",
      "       2445, 2516, 2535, 2586, 2613, 2728, 2776, 2855, 2895, 3017, 3083,\n",
      "       3087, 3098, 3154, 3206, 3234, 3286, 3399, 3407, 3458, 3474, 3488,\n",
      "       3497, 3540, 3667, 3709, 3720, 3750, 3757, 3767, 3884, 3993, 4006,\n",
      "       4219, 4289, 4346, 4349, 4382, 4408, 4530, 4656, 4674, 4676, 4681,\n",
      "       4772, 4789, 4888, 4941, 4961, 4991, 5031, 5065, 5150, 5177, 5185,\n",
      "       5223, 5287, 5315, 5374, 5500, 5550, 5619, 5732, 5734, 5752, 5795,\n",
      "       5799, 5812, 5837, 5880, 5891, 5946, 5977, 6000, 6008, 6012, 6134,\n",
      "       6179, 6334, 6409, 6536, 6537, 6541, 6576, 6606, 6622, 6674, 6786,\n",
      "       6886, 6903, 6993, 7005, 7016, 7076, 7088, 7107, 7121, 7188, 7191,\n",
      "       7215, 7236, 7250, 7256, 7278, 7302, 7343, 7388, 7499, 7558, 7560,\n",
      "       7562, 7603, 7609, 7690, 7744, 7752, 7816, 7826, 7866, 7930, 7949,\n",
      "       8039, 8194, 8201, 8215, 8245, 8273, 8345, 8432, 8447], dtype=int64), array([ 2,  2,  2, 10, 10,  2, 10, 10, 10, 10,  2, 10, 10,  2,  2,  2, 10,\n",
      "       10, 10, 10,  2, 10, 10, 10, 10, 10,  2, 10,  2,  2,  2,  2,  2, 10,\n",
      "        2,  2, 10,  2,  2,  2,  2,  2,  2,  2, 10, 10,  2, 10,  2, 10, 10,\n",
      "        2, 10,  2,  2,  2, 10, 10,  2,  2,  2, 10,  2,  2,  2, 10, 10, 10,\n",
      "       10,  2, 10, 10,  2, 10,  2,  2,  2,  2,  2, 10, 10, 10,  2, 10,  2,\n",
      "        2,  2,  2,  2, 10, 10, 10,  2,  2,  2,  2,  2, 10, 10, 10,  2, 10,\n",
      "        2, 10, 10,  2, 10,  2, 10, 10, 10,  2, 10,  2, 10, 10, 10,  2,  2,\n",
      "       10,  2, 10, 10,  2,  2,  2,  2, 10, 10,  2,  2, 10,  2, 10, 10,  2,\n",
      "       10, 10,  2, 10,  2,  2,  2, 10,  2, 10,  2, 10, 10,  2,  2,  2, 10,\n",
      "       10,  2, 10,  2, 10,  2, 10, 10,  2,  2,  2, 10, 10,  2, 10, 10,  2,\n",
      "       10, 10, 10,  2, 10,  2, 10,  2, 10,  2, 10,  2,  2,  2, 10],\n",
      "      dtype=int64))\n"
     ]
    }
   ],
   "source": [
    "threshold=3\n",
    "print(np.where(z>3))"
   ]
  },
  {
   "cell_type": "markdown",
   "metadata": {},
   "source": [
    "Set Threshold Point and Markdown all those values that is above threshold point."
   ]
  },
  {
   "cell_type": "code",
   "execution_count": 38,
   "metadata": {
    "scrolled": true
   },
   "outputs": [
    {
     "data": {
      "text/html": [
       "<div>\n",
       "<style scoped>\n",
       "    .dataframe tbody tr th:only-of-type {\n",
       "        vertical-align: middle;\n",
       "    }\n",
       "\n",
       "    .dataframe tbody tr th {\n",
       "        vertical-align: top;\n",
       "    }\n",
       "\n",
       "    .dataframe thead th {\n",
       "        text-align: right;\n",
       "    }\n",
       "</style>\n",
       "<table border=\"1\" class=\"dataframe\">\n",
       "  <thead>\n",
       "    <tr style=\"text-align: right;\">\n",
       "      <th></th>\n",
       "      <th>Item_Weight</th>\n",
       "      <th>Item_Fat_Content</th>\n",
       "      <th>Item_Visibility</th>\n",
       "      <th>Item_Type</th>\n",
       "      <th>Item_MRP</th>\n",
       "      <th>Outlet_Identifier</th>\n",
       "      <th>Outlet_Establishment_Year</th>\n",
       "      <th>Outlet_Size</th>\n",
       "      <th>Outlet_Location_Type</th>\n",
       "      <th>Outlet_Type</th>\n",
       "      <th>Item_Outlet_Sales</th>\n",
       "    </tr>\n",
       "  </thead>\n",
       "  <tbody>\n",
       "    <tr>\n",
       "      <th>0</th>\n",
       "      <td>9.300</td>\n",
       "      <td>0</td>\n",
       "      <td>0.016047</td>\n",
       "      <td>4</td>\n",
       "      <td>249.8092</td>\n",
       "      <td>9</td>\n",
       "      <td>1999</td>\n",
       "      <td>1</td>\n",
       "      <td>0</td>\n",
       "      <td>1</td>\n",
       "      <td>3735.1380</td>\n",
       "    </tr>\n",
       "    <tr>\n",
       "      <th>1</th>\n",
       "      <td>5.920</td>\n",
       "      <td>1</td>\n",
       "      <td>0.019278</td>\n",
       "      <td>14</td>\n",
       "      <td>48.2692</td>\n",
       "      <td>3</td>\n",
       "      <td>2009</td>\n",
       "      <td>1</td>\n",
       "      <td>2</td>\n",
       "      <td>2</td>\n",
       "      <td>443.4228</td>\n",
       "    </tr>\n",
       "    <tr>\n",
       "      <th>2</th>\n",
       "      <td>17.500</td>\n",
       "      <td>0</td>\n",
       "      <td>0.016760</td>\n",
       "      <td>10</td>\n",
       "      <td>141.6180</td>\n",
       "      <td>9</td>\n",
       "      <td>1999</td>\n",
       "      <td>1</td>\n",
       "      <td>0</td>\n",
       "      <td>1</td>\n",
       "      <td>2097.2700</td>\n",
       "    </tr>\n",
       "    <tr>\n",
       "      <th>3</th>\n",
       "      <td>19.200</td>\n",
       "      <td>1</td>\n",
       "      <td>0.000000</td>\n",
       "      <td>6</td>\n",
       "      <td>182.0950</td>\n",
       "      <td>0</td>\n",
       "      <td>1998</td>\n",
       "      <td>1</td>\n",
       "      <td>2</td>\n",
       "      <td>0</td>\n",
       "      <td>732.3800</td>\n",
       "    </tr>\n",
       "    <tr>\n",
       "      <th>4</th>\n",
       "      <td>8.930</td>\n",
       "      <td>0</td>\n",
       "      <td>0.000000</td>\n",
       "      <td>9</td>\n",
       "      <td>53.8614</td>\n",
       "      <td>1</td>\n",
       "      <td>1987</td>\n",
       "      <td>0</td>\n",
       "      <td>2</td>\n",
       "      <td>1</td>\n",
       "      <td>994.7052</td>\n",
       "    </tr>\n",
       "    <tr>\n",
       "      <th>...</th>\n",
       "      <td>...</td>\n",
       "      <td>...</td>\n",
       "      <td>...</td>\n",
       "      <td>...</td>\n",
       "      <td>...</td>\n",
       "      <td>...</td>\n",
       "      <td>...</td>\n",
       "      <td>...</td>\n",
       "      <td>...</td>\n",
       "      <td>...</td>\n",
       "      <td>...</td>\n",
       "    </tr>\n",
       "    <tr>\n",
       "      <th>8518</th>\n",
       "      <td>6.865</td>\n",
       "      <td>0</td>\n",
       "      <td>0.056783</td>\n",
       "      <td>13</td>\n",
       "      <td>214.5218</td>\n",
       "      <td>1</td>\n",
       "      <td>1987</td>\n",
       "      <td>0</td>\n",
       "      <td>2</td>\n",
       "      <td>1</td>\n",
       "      <td>2778.3834</td>\n",
       "    </tr>\n",
       "    <tr>\n",
       "      <th>8519</th>\n",
       "      <td>8.380</td>\n",
       "      <td>1</td>\n",
       "      <td>0.046982</td>\n",
       "      <td>0</td>\n",
       "      <td>108.1570</td>\n",
       "      <td>7</td>\n",
       "      <td>2002</td>\n",
       "      <td>1</td>\n",
       "      <td>1</td>\n",
       "      <td>1</td>\n",
       "      <td>549.2850</td>\n",
       "    </tr>\n",
       "    <tr>\n",
       "      <th>8520</th>\n",
       "      <td>10.600</td>\n",
       "      <td>0</td>\n",
       "      <td>0.035186</td>\n",
       "      <td>8</td>\n",
       "      <td>85.1224</td>\n",
       "      <td>6</td>\n",
       "      <td>2004</td>\n",
       "      <td>2</td>\n",
       "      <td>1</td>\n",
       "      <td>1</td>\n",
       "      <td>1193.1136</td>\n",
       "    </tr>\n",
       "    <tr>\n",
       "      <th>8521</th>\n",
       "      <td>7.210</td>\n",
       "      <td>1</td>\n",
       "      <td>0.145221</td>\n",
       "      <td>13</td>\n",
       "      <td>103.1332</td>\n",
       "      <td>3</td>\n",
       "      <td>2009</td>\n",
       "      <td>1</td>\n",
       "      <td>2</td>\n",
       "      <td>2</td>\n",
       "      <td>1845.5976</td>\n",
       "    </tr>\n",
       "    <tr>\n",
       "      <th>8522</th>\n",
       "      <td>14.800</td>\n",
       "      <td>0</td>\n",
       "      <td>0.044878</td>\n",
       "      <td>14</td>\n",
       "      <td>75.4670</td>\n",
       "      <td>8</td>\n",
       "      <td>1997</td>\n",
       "      <td>2</td>\n",
       "      <td>0</td>\n",
       "      <td>1</td>\n",
       "      <td>765.6700</td>\n",
       "    </tr>\n",
       "  </tbody>\n",
       "</table>\n",
       "<p>8338 rows × 11 columns</p>\n",
       "</div>"
      ],
      "text/plain": [
       "      Item_Weight  Item_Fat_Content  Item_Visibility  Item_Type  Item_MRP  \\\n",
       "0           9.300                 0         0.016047          4  249.8092   \n",
       "1           5.920                 1         0.019278         14   48.2692   \n",
       "2          17.500                 0         0.016760         10  141.6180   \n",
       "3          19.200                 1         0.000000          6  182.0950   \n",
       "4           8.930                 0         0.000000          9   53.8614   \n",
       "...           ...               ...              ...        ...       ...   \n",
       "8518        6.865                 0         0.056783         13  214.5218   \n",
       "8519        8.380                 1         0.046982          0  108.1570   \n",
       "8520       10.600                 0         0.035186          8   85.1224   \n",
       "8521        7.210                 1         0.145221         13  103.1332   \n",
       "8522       14.800                 0         0.044878         14   75.4670   \n",
       "\n",
       "      Outlet_Identifier  Outlet_Establishment_Year  Outlet_Size  \\\n",
       "0                     9                       1999            1   \n",
       "1                     3                       2009            1   \n",
       "2                     9                       1999            1   \n",
       "3                     0                       1998            1   \n",
       "4                     1                       1987            0   \n",
       "...                 ...                        ...          ...   \n",
       "8518                  1                       1987            0   \n",
       "8519                  7                       2002            1   \n",
       "8520                  6                       2004            2   \n",
       "8521                  3                       2009            1   \n",
       "8522                  8                       1997            2   \n",
       "\n",
       "      Outlet_Location_Type  Outlet_Type  Item_Outlet_Sales  \n",
       "0                        0            1          3735.1380  \n",
       "1                        2            2           443.4228  \n",
       "2                        0            1          2097.2700  \n",
       "3                        2            0           732.3800  \n",
       "4                        2            1           994.7052  \n",
       "...                    ...          ...                ...  \n",
       "8518                     2            1          2778.3834  \n",
       "8519                     1            1           549.2850  \n",
       "8520                     1            1          1193.1136  \n",
       "8521                     2            2          1845.5976  \n",
       "8522                     0            1           765.6700  \n",
       "\n",
       "[8338 rows x 11 columns]"
      ]
     },
     "execution_count": 38,
     "metadata": {},
     "output_type": "execute_result"
    }
   ],
   "source": [
    "train_new=train[(z<3).all(axis=1)]\n",
    "train_new"
   ]
  },
  {
   "cell_type": "markdown",
   "metadata": {},
   "source": [
    "With the help of above functionality we are trying to get all the values that is below from threshold point."
   ]
  },
  {
   "cell_type": "code",
   "execution_count": 39,
   "metadata": {},
   "outputs": [
    {
     "data": {
      "text/plain": [
       "(8523, 11)"
      ]
     },
     "execution_count": 39,
     "metadata": {},
     "output_type": "execute_result"
    }
   ],
   "source": [
    "train.shape"
   ]
  },
  {
   "cell_type": "code",
   "execution_count": 40,
   "metadata": {},
   "outputs": [
    {
     "data": {
      "text/plain": [
       "(8338, 11)"
      ]
     },
     "execution_count": 40,
     "metadata": {},
     "output_type": "execute_result"
    }
   ],
   "source": [
    "train_new.shape"
   ]
  },
  {
   "cell_type": "code",
   "execution_count": 41,
   "metadata": {},
   "outputs": [
    {
     "data": {
      "text/plain": [
       "3.5316203214830457"
      ]
     },
     "execution_count": 41,
     "metadata": {},
     "output_type": "execute_result"
    }
   ],
   "source": [
    "(301/8523)*100"
   ]
  },
  {
   "cell_type": "markdown",
   "metadata": {},
   "source": [
    "# Feature Engg."
   ]
  },
  {
   "cell_type": "code",
   "execution_count": 42,
   "metadata": {},
   "outputs": [],
   "source": [
    "data_types = train_new.dtypes\n",
    "for cols in train_new.columns:\n",
    "    if data_types[cols]==data_types['Item_Type']:\n",
    "        temp = pd.get_dummies(train_new[cols],drop_first=True)\n",
    "        train_new.drop(cols,axis=1,inplace=True)\n",
    "        train_new = pd.concat([train_new,temp],axis=1)"
   ]
  },
  {
   "cell_type": "code",
   "execution_count": 43,
   "metadata": {},
   "outputs": [
    {
     "data": {
      "text/html": [
       "<div>\n",
       "<style scoped>\n",
       "    .dataframe tbody tr th:only-of-type {\n",
       "        vertical-align: middle;\n",
       "    }\n",
       "\n",
       "    .dataframe tbody tr th {\n",
       "        vertical-align: top;\n",
       "    }\n",
       "\n",
       "    .dataframe thead th {\n",
       "        text-align: right;\n",
       "    }\n",
       "</style>\n",
       "<table border=\"1\" class=\"dataframe\">\n",
       "  <thead>\n",
       "    <tr style=\"text-align: right;\">\n",
       "      <th></th>\n",
       "      <th>Item_Weight</th>\n",
       "      <th>Item_Visibility</th>\n",
       "      <th>Item_MRP</th>\n",
       "      <th>Outlet_Establishment_Year</th>\n",
       "      <th>Item_Outlet_Sales</th>\n",
       "      <th>1</th>\n",
       "      <th>1</th>\n",
       "      <th>2</th>\n",
       "      <th>3</th>\n",
       "      <th>4</th>\n",
       "      <th>...</th>\n",
       "      <th>7</th>\n",
       "      <th>8</th>\n",
       "      <th>9</th>\n",
       "      <th>1</th>\n",
       "      <th>2</th>\n",
       "      <th>1</th>\n",
       "      <th>2</th>\n",
       "      <th>1</th>\n",
       "      <th>2</th>\n",
       "      <th>3</th>\n",
       "    </tr>\n",
       "  </thead>\n",
       "  <tbody>\n",
       "    <tr>\n",
       "      <th>0</th>\n",
       "      <td>9.30</td>\n",
       "      <td>0.016047</td>\n",
       "      <td>249.8092</td>\n",
       "      <td>1999</td>\n",
       "      <td>3735.1380</td>\n",
       "      <td>0</td>\n",
       "      <td>0</td>\n",
       "      <td>0</td>\n",
       "      <td>0</td>\n",
       "      <td>1</td>\n",
       "      <td>...</td>\n",
       "      <td>0</td>\n",
       "      <td>0</td>\n",
       "      <td>1</td>\n",
       "      <td>1</td>\n",
       "      <td>0</td>\n",
       "      <td>0</td>\n",
       "      <td>0</td>\n",
       "      <td>1</td>\n",
       "      <td>0</td>\n",
       "      <td>0</td>\n",
       "    </tr>\n",
       "    <tr>\n",
       "      <th>1</th>\n",
       "      <td>5.92</td>\n",
       "      <td>0.019278</td>\n",
       "      <td>48.2692</td>\n",
       "      <td>2009</td>\n",
       "      <td>443.4228</td>\n",
       "      <td>1</td>\n",
       "      <td>0</td>\n",
       "      <td>0</td>\n",
       "      <td>0</td>\n",
       "      <td>0</td>\n",
       "      <td>...</td>\n",
       "      <td>0</td>\n",
       "      <td>0</td>\n",
       "      <td>0</td>\n",
       "      <td>1</td>\n",
       "      <td>0</td>\n",
       "      <td>0</td>\n",
       "      <td>1</td>\n",
       "      <td>0</td>\n",
       "      <td>1</td>\n",
       "      <td>0</td>\n",
       "    </tr>\n",
       "    <tr>\n",
       "      <th>2</th>\n",
       "      <td>17.50</td>\n",
       "      <td>0.016760</td>\n",
       "      <td>141.6180</td>\n",
       "      <td>1999</td>\n",
       "      <td>2097.2700</td>\n",
       "      <td>0</td>\n",
       "      <td>0</td>\n",
       "      <td>0</td>\n",
       "      <td>0</td>\n",
       "      <td>0</td>\n",
       "      <td>...</td>\n",
       "      <td>0</td>\n",
       "      <td>0</td>\n",
       "      <td>1</td>\n",
       "      <td>1</td>\n",
       "      <td>0</td>\n",
       "      <td>0</td>\n",
       "      <td>0</td>\n",
       "      <td>1</td>\n",
       "      <td>0</td>\n",
       "      <td>0</td>\n",
       "    </tr>\n",
       "    <tr>\n",
       "      <th>3</th>\n",
       "      <td>19.20</td>\n",
       "      <td>0.000000</td>\n",
       "      <td>182.0950</td>\n",
       "      <td>1998</td>\n",
       "      <td>732.3800</td>\n",
       "      <td>1</td>\n",
       "      <td>0</td>\n",
       "      <td>0</td>\n",
       "      <td>0</td>\n",
       "      <td>0</td>\n",
       "      <td>...</td>\n",
       "      <td>0</td>\n",
       "      <td>0</td>\n",
       "      <td>0</td>\n",
       "      <td>1</td>\n",
       "      <td>0</td>\n",
       "      <td>0</td>\n",
       "      <td>1</td>\n",
       "      <td>0</td>\n",
       "      <td>0</td>\n",
       "      <td>0</td>\n",
       "    </tr>\n",
       "    <tr>\n",
       "      <th>4</th>\n",
       "      <td>8.93</td>\n",
       "      <td>0.000000</td>\n",
       "      <td>53.8614</td>\n",
       "      <td>1987</td>\n",
       "      <td>994.7052</td>\n",
       "      <td>0</td>\n",
       "      <td>0</td>\n",
       "      <td>0</td>\n",
       "      <td>0</td>\n",
       "      <td>0</td>\n",
       "      <td>...</td>\n",
       "      <td>0</td>\n",
       "      <td>0</td>\n",
       "      <td>0</td>\n",
       "      <td>0</td>\n",
       "      <td>0</td>\n",
       "      <td>0</td>\n",
       "      <td>1</td>\n",
       "      <td>1</td>\n",
       "      <td>0</td>\n",
       "      <td>0</td>\n",
       "    </tr>\n",
       "  </tbody>\n",
       "</table>\n",
       "<p>5 rows × 37 columns</p>\n",
       "</div>"
      ],
      "text/plain": [
       "   Item_Weight  Item_Visibility  Item_MRP  Outlet_Establishment_Year  \\\n",
       "0         9.30         0.016047  249.8092                       1999   \n",
       "1         5.92         0.019278   48.2692                       2009   \n",
       "2        17.50         0.016760  141.6180                       1999   \n",
       "3        19.20         0.000000  182.0950                       1998   \n",
       "4         8.93         0.000000   53.8614                       1987   \n",
       "\n",
       "   Item_Outlet_Sales  1  1  2  3  4  ...  7  8  9  1  2  1  2  1  2  3  \n",
       "0          3735.1380  0  0  0  0  1  ...  0  0  1  1  0  0  0  1  0  0  \n",
       "1           443.4228  1  0  0  0  0  ...  0  0  0  1  0  0  1  0  1  0  \n",
       "2          2097.2700  0  0  0  0  0  ...  0  0  1  1  0  0  0  1  0  0  \n",
       "3           732.3800  1  0  0  0  0  ...  0  0  0  1  0  0  1  0  0  0  \n",
       "4           994.7052  0  0  0  0  0  ...  0  0  0  0  0  0  1  1  0  0  \n",
       "\n",
       "[5 rows x 37 columns]"
      ]
     },
     "execution_count": 43,
     "metadata": {},
     "output_type": "execute_result"
    }
   ],
   "source": [
    "train_new.head()"
   ]
  },
  {
   "cell_type": "code",
   "execution_count": 44,
   "metadata": {},
   "outputs": [],
   "source": [
    "x=train_new.drop('Item_Outlet_Sales',axis=1)\n",
    "y=train_new['Item_Outlet_Sales']"
   ]
  },
  {
   "cell_type": "code",
   "execution_count": 45,
   "metadata": {},
   "outputs": [
    {
     "data": {
      "text/plain": [
       "(8338, 36)"
      ]
     },
     "execution_count": 45,
     "metadata": {},
     "output_type": "execute_result"
    }
   ],
   "source": [
    "x.shape"
   ]
  },
  {
   "cell_type": "code",
   "execution_count": 46,
   "metadata": {},
   "outputs": [
    {
     "data": {
      "text/plain": [
       "(8338,)"
      ]
     },
     "execution_count": 46,
     "metadata": {},
     "output_type": "execute_result"
    }
   ],
   "source": [
    "y.shape"
   ]
  },
  {
   "cell_type": "markdown",
   "metadata": {},
   "source": [
    "# Applying Zscore Value on Test Dataset."
   ]
  },
  {
   "cell_type": "code",
   "execution_count": 47,
   "metadata": {},
   "outputs": [
    {
     "data": {
      "text/plain": [
       "array([[1.89745979, 0.74081066, 1.13407715, ..., 0.28473712, 1.369215  ,\n",
       "        0.25276858],\n",
       "       [1.03552991, 1.34987258, 0.53185019, ..., 0.28473712, 0.1388274 ,\n",
       "        0.25276858],\n",
       "       [0.44863355, 0.74081066, 0.6613164 , ..., 0.28473712, 1.0915602 ,\n",
       "        1.50799439],\n",
       "       ...,\n",
       "       [0.63504136, 0.74081066, 0.15307374, ..., 0.28473712, 0.1388274 ,\n",
       "        0.25276858],\n",
       "       [0.6135406 , 1.34987258, 1.28168987, ..., 0.28473712, 0.1388274 ,\n",
       "        0.25276858],\n",
       "       [0.75283211, 1.34987258, 0.76171558, ..., 0.28473712, 0.1388274 ,\n",
       "        0.25276858]])"
      ]
     },
     "execution_count": 47,
     "metadata": {},
     "output_type": "execute_result"
    }
   ],
   "source": [
    "z=np.abs(zscore(test))\n",
    "z"
   ]
  },
  {
   "cell_type": "code",
   "execution_count": 48,
   "metadata": {},
   "outputs": [
    {
     "name": "stdout",
     "output_type": "stream",
     "text": [
      "(array([  46,   76,   78,   89,  138,  333,  385,  474,  543,  637,  858,\n",
      "        871, 1046, 1191, 1256, 1270, 1411, 1516, 1547, 1577, 1616, 1710,\n",
      "       1812, 1823, 1857, 1915, 1919, 2019, 2179, 2230, 2365, 2380, 2393,\n",
      "       2504, 2516, 2561, 2605, 2609, 2625, 2628, 2677, 2779, 2836, 2843,\n",
      "       3267, 3294, 3313, 3316, 3346, 3378, 3502, 3638, 3679, 3970, 4052,\n",
      "       4147, 4159, 4208, 4255, 4328, 4365, 4421, 4575, 4616, 4689, 4801,\n",
      "       4804, 4846, 4919, 4976, 4999, 5121, 5157, 5277, 5290, 5435, 5469,\n",
      "       5482, 5514, 5571, 5668], dtype=int64), array([2, 2, 2, 2, 2, 2, 2, 2, 2, 2, 2, 2, 2, 2, 2, 2, 2, 2, 2, 2, 2, 2,\n",
      "       2, 2, 2, 2, 2, 2, 2, 2, 2, 2, 2, 2, 2, 2, 2, 2, 2, 2, 2, 2, 2, 2,\n",
      "       2, 2, 2, 2, 2, 2, 2, 2, 2, 2, 2, 2, 2, 2, 2, 2, 2, 2, 2, 2, 2, 2,\n",
      "       2, 2, 2, 2, 2, 2, 2, 2, 2, 2, 2, 2, 2, 2, 2], dtype=int64))\n"
     ]
    }
   ],
   "source": [
    "threshold=3\n",
    "print(np.where(z>3))"
   ]
  },
  {
   "cell_type": "code",
   "execution_count": 49,
   "metadata": {},
   "outputs": [
    {
     "data": {
      "text/html": [
       "<div>\n",
       "<style scoped>\n",
       "    .dataframe tbody tr th:only-of-type {\n",
       "        vertical-align: middle;\n",
       "    }\n",
       "\n",
       "    .dataframe tbody tr th {\n",
       "        vertical-align: top;\n",
       "    }\n",
       "\n",
       "    .dataframe thead th {\n",
       "        text-align: right;\n",
       "    }\n",
       "</style>\n",
       "<table border=\"1\" class=\"dataframe\">\n",
       "  <thead>\n",
       "    <tr style=\"text-align: right;\">\n",
       "      <th></th>\n",
       "      <th>Item_Weight</th>\n",
       "      <th>Item_Fat_Content</th>\n",
       "      <th>Item_Visibility</th>\n",
       "      <th>Item_Type</th>\n",
       "      <th>Item_MRP</th>\n",
       "      <th>Outlet_Identifier</th>\n",
       "      <th>Outlet_Establishment_Year</th>\n",
       "      <th>Outlet_Size</th>\n",
       "      <th>Outlet_Location_Type</th>\n",
       "      <th>Outlet_Type</th>\n",
       "    </tr>\n",
       "  </thead>\n",
       "  <tbody>\n",
       "    <tr>\n",
       "      <th>0</th>\n",
       "      <td>20.750000</td>\n",
       "      <td>0</td>\n",
       "      <td>0.007565</td>\n",
       "      <td>13</td>\n",
       "      <td>107.8622</td>\n",
       "      <td>9</td>\n",
       "      <td>1999</td>\n",
       "      <td>1</td>\n",
       "      <td>0</td>\n",
       "      <td>1</td>\n",
       "    </tr>\n",
       "    <tr>\n",
       "      <th>1</th>\n",
       "      <td>8.300000</td>\n",
       "      <td>1</td>\n",
       "      <td>0.038428</td>\n",
       "      <td>4</td>\n",
       "      <td>87.3198</td>\n",
       "      <td>2</td>\n",
       "      <td>2007</td>\n",
       "      <td>1</td>\n",
       "      <td>1</td>\n",
       "      <td>1</td>\n",
       "    </tr>\n",
       "    <tr>\n",
       "      <th>2</th>\n",
       "      <td>14.600000</td>\n",
       "      <td>0</td>\n",
       "      <td>0.099575</td>\n",
       "      <td>11</td>\n",
       "      <td>241.7538</td>\n",
       "      <td>0</td>\n",
       "      <td>1998</td>\n",
       "      <td>1</td>\n",
       "      <td>2</td>\n",
       "      <td>0</td>\n",
       "    </tr>\n",
       "    <tr>\n",
       "      <th>3</th>\n",
       "      <td>7.315000</td>\n",
       "      <td>0</td>\n",
       "      <td>0.015388</td>\n",
       "      <td>13</td>\n",
       "      <td>155.0340</td>\n",
       "      <td>2</td>\n",
       "      <td>2007</td>\n",
       "      <td>1</td>\n",
       "      <td>1</td>\n",
       "      <td>1</td>\n",
       "    </tr>\n",
       "    <tr>\n",
       "      <th>4</th>\n",
       "      <td>12.695633</td>\n",
       "      <td>1</td>\n",
       "      <td>0.118599</td>\n",
       "      <td>4</td>\n",
       "      <td>234.2300</td>\n",
       "      <td>5</td>\n",
       "      <td>1985</td>\n",
       "      <td>1</td>\n",
       "      <td>2</td>\n",
       "      <td>3</td>\n",
       "    </tr>\n",
       "    <tr>\n",
       "      <th>...</th>\n",
       "      <td>...</td>\n",
       "      <td>...</td>\n",
       "      <td>...</td>\n",
       "      <td>...</td>\n",
       "      <td>...</td>\n",
       "      <td>...</td>\n",
       "      <td>...</td>\n",
       "      <td>...</td>\n",
       "      <td>...</td>\n",
       "      <td>...</td>\n",
       "    </tr>\n",
       "    <tr>\n",
       "      <th>5676</th>\n",
       "      <td>10.500000</td>\n",
       "      <td>1</td>\n",
       "      <td>0.013496</td>\n",
       "      <td>13</td>\n",
       "      <td>141.3154</td>\n",
       "      <td>8</td>\n",
       "      <td>1997</td>\n",
       "      <td>2</td>\n",
       "      <td>0</td>\n",
       "      <td>1</td>\n",
       "    </tr>\n",
       "    <tr>\n",
       "      <th>5677</th>\n",
       "      <td>7.600000</td>\n",
       "      <td>1</td>\n",
       "      <td>0.142991</td>\n",
       "      <td>15</td>\n",
       "      <td>169.1448</td>\n",
       "      <td>3</td>\n",
       "      <td>2009</td>\n",
       "      <td>1</td>\n",
       "      <td>2</td>\n",
       "      <td>2</td>\n",
       "    </tr>\n",
       "    <tr>\n",
       "      <th>5678</th>\n",
       "      <td>10.000000</td>\n",
       "      <td>0</td>\n",
       "      <td>0.073529</td>\n",
       "      <td>8</td>\n",
       "      <td>118.7440</td>\n",
       "      <td>7</td>\n",
       "      <td>2002</td>\n",
       "      <td>1</td>\n",
       "      <td>1</td>\n",
       "      <td>1</td>\n",
       "    </tr>\n",
       "    <tr>\n",
       "      <th>5679</th>\n",
       "      <td>15.300000</td>\n",
       "      <td>1</td>\n",
       "      <td>0.000000</td>\n",
       "      <td>3</td>\n",
       "      <td>214.6218</td>\n",
       "      <td>2</td>\n",
       "      <td>2007</td>\n",
       "      <td>1</td>\n",
       "      <td>1</td>\n",
       "      <td>1</td>\n",
       "    </tr>\n",
       "    <tr>\n",
       "      <th>5680</th>\n",
       "      <td>9.500000</td>\n",
       "      <td>1</td>\n",
       "      <td>0.104720</td>\n",
       "      <td>3</td>\n",
       "      <td>79.7960</td>\n",
       "      <td>7</td>\n",
       "      <td>2002</td>\n",
       "      <td>1</td>\n",
       "      <td>1</td>\n",
       "      <td>1</td>\n",
       "    </tr>\n",
       "  </tbody>\n",
       "</table>\n",
       "<p>5600 rows × 10 columns</p>\n",
       "</div>"
      ],
      "text/plain": [
       "      Item_Weight  Item_Fat_Content  Item_Visibility  Item_Type  Item_MRP  \\\n",
       "0       20.750000                 0         0.007565         13  107.8622   \n",
       "1        8.300000                 1         0.038428          4   87.3198   \n",
       "2       14.600000                 0         0.099575         11  241.7538   \n",
       "3        7.315000                 0         0.015388         13  155.0340   \n",
       "4       12.695633                 1         0.118599          4  234.2300   \n",
       "...           ...               ...              ...        ...       ...   \n",
       "5676    10.500000                 1         0.013496         13  141.3154   \n",
       "5677     7.600000                 1         0.142991         15  169.1448   \n",
       "5678    10.000000                 0         0.073529          8  118.7440   \n",
       "5679    15.300000                 1         0.000000          3  214.6218   \n",
       "5680     9.500000                 1         0.104720          3   79.7960   \n",
       "\n",
       "      Outlet_Identifier  Outlet_Establishment_Year  Outlet_Size  \\\n",
       "0                     9                       1999            1   \n",
       "1                     2                       2007            1   \n",
       "2                     0                       1998            1   \n",
       "3                     2                       2007            1   \n",
       "4                     5                       1985            1   \n",
       "...                 ...                        ...          ...   \n",
       "5676                  8                       1997            2   \n",
       "5677                  3                       2009            1   \n",
       "5678                  7                       2002            1   \n",
       "5679                  2                       2007            1   \n",
       "5680                  7                       2002            1   \n",
       "\n",
       "      Outlet_Location_Type  Outlet_Type  \n",
       "0                        0            1  \n",
       "1                        1            1  \n",
       "2                        2            0  \n",
       "3                        1            1  \n",
       "4                        2            3  \n",
       "...                    ...          ...  \n",
       "5676                     0            1  \n",
       "5677                     2            2  \n",
       "5678                     1            1  \n",
       "5679                     1            1  \n",
       "5680                     1            1  \n",
       "\n",
       "[5600 rows x 10 columns]"
      ]
     },
     "execution_count": 49,
     "metadata": {},
     "output_type": "execute_result"
    }
   ],
   "source": [
    "test_new=test[(z<3).all(axis=1)]\n",
    "test_new"
   ]
  },
  {
   "cell_type": "code",
   "execution_count": 50,
   "metadata": {},
   "outputs": [
    {
     "data": {
      "text/plain": [
       "(5681, 10)"
      ]
     },
     "execution_count": 50,
     "metadata": {},
     "output_type": "execute_result"
    }
   ],
   "source": [
    "test.shape"
   ]
  },
  {
   "cell_type": "code",
   "execution_count": 51,
   "metadata": {},
   "outputs": [
    {
     "data": {
      "text/plain": [
       "(5600, 10)"
      ]
     },
     "execution_count": 51,
     "metadata": {},
     "output_type": "execute_result"
    }
   ],
   "source": [
    "test_new.shape"
   ]
  },
  {
   "cell_type": "code",
   "execution_count": 52,
   "metadata": {},
   "outputs": [
    {
     "data": {
      "text/plain": [
       "2.745995423340961"
      ]
     },
     "execution_count": 52,
     "metadata": {},
     "output_type": "execute_result"
    }
   ],
   "source": [
    "(156/5681)*100"
   ]
  },
  {
   "cell_type": "markdown",
   "metadata": {},
   "source": [
    "# Feature Engg."
   ]
  },
  {
   "cell_type": "code",
   "execution_count": 53,
   "metadata": {},
   "outputs": [],
   "source": [
    "data_types = test_new.dtypes\n",
    "for cols in test_new.columns:\n",
    "    if data_types[cols]==data_types['Item_Type']:\n",
    "        temp = pd.get_dummies(test_new[cols],drop_first=True)\n",
    "        test_new.drop(cols,axis=1,inplace=True)\n",
    "        test_new = pd.concat([test_new,temp],axis=1)"
   ]
  },
  {
   "cell_type": "markdown",
   "metadata": {},
   "source": [
    "# Data Scaling"
   ]
  },
  {
   "cell_type": "code",
   "execution_count": 54,
   "metadata": {},
   "outputs": [
    {
     "data": {
      "text/html": [
       "<div>\n",
       "<style scoped>\n",
       "    .dataframe tbody tr th:only-of-type {\n",
       "        vertical-align: middle;\n",
       "    }\n",
       "\n",
       "    .dataframe tbody tr th {\n",
       "        vertical-align: top;\n",
       "    }\n",
       "\n",
       "    .dataframe thead th {\n",
       "        text-align: right;\n",
       "    }\n",
       "</style>\n",
       "<table border=\"1\" class=\"dataframe\">\n",
       "  <thead>\n",
       "    <tr style=\"text-align: right;\">\n",
       "      <th></th>\n",
       "      <th>Item_Weight</th>\n",
       "      <th>Item_Visibility</th>\n",
       "      <th>Item_MRP</th>\n",
       "      <th>Outlet_Establishment_Year</th>\n",
       "      <th>1</th>\n",
       "      <th>1</th>\n",
       "      <th>2</th>\n",
       "      <th>3</th>\n",
       "      <th>4</th>\n",
       "      <th>5</th>\n",
       "      <th>...</th>\n",
       "      <th>7</th>\n",
       "      <th>8</th>\n",
       "      <th>9</th>\n",
       "      <th>1</th>\n",
       "      <th>2</th>\n",
       "      <th>1</th>\n",
       "      <th>2</th>\n",
       "      <th>1</th>\n",
       "      <th>2</th>\n",
       "      <th>3</th>\n",
       "    </tr>\n",
       "  </thead>\n",
       "  <tbody>\n",
       "    <tr>\n",
       "      <th>0</th>\n",
       "      <td>-0.837178</td>\n",
       "      <td>-1.011507</td>\n",
       "      <td>1.771831</td>\n",
       "      <td>0.120549</td>\n",
       "      <td>-0.736645</td>\n",
       "      <td>-0.174722</td>\n",
       "      <td>-0.112386</td>\n",
       "      <td>-0.288337</td>\n",
       "      <td>3.424875</td>\n",
       "      <td>-0.334265</td>\n",
       "      <td>...</td>\n",
       "      <td>-0.353028</td>\n",
       "      <td>-0.353243</td>\n",
       "      <td>2.827473</td>\n",
       "      <td>0.799828</td>\n",
       "      <td>-0.622007</td>\n",
       "      <td>-0.704945</td>\n",
       "      <td>-0.797813</td>\n",
       "      <td>0.709334</td>\n",
       "      <td>-0.353887</td>\n",
       "      <td>-0.342411</td>\n",
       "    </tr>\n",
       "    <tr>\n",
       "      <th>1</th>\n",
       "      <td>-1.632036</td>\n",
       "      <td>-0.943320</td>\n",
       "      <td>-1.482939</td>\n",
       "      <td>1.322724</td>\n",
       "      <td>1.357506</td>\n",
       "      <td>-0.174722</td>\n",
       "      <td>-0.112386</td>\n",
       "      <td>-0.288337</td>\n",
       "      <td>-0.291981</td>\n",
       "      <td>-0.334265</td>\n",
       "      <td>...</td>\n",
       "      <td>-0.353028</td>\n",
       "      <td>-0.353243</td>\n",
       "      <td>-0.353673</td>\n",
       "      <td>0.799828</td>\n",
       "      <td>-0.622007</td>\n",
       "      <td>-0.704945</td>\n",
       "      <td>1.253426</td>\n",
       "      <td>-1.409773</td>\n",
       "      <td>2.825759</td>\n",
       "      <td>-0.342411</td>\n",
       "    </tr>\n",
       "    <tr>\n",
       "      <th>2</th>\n",
       "      <td>1.091176</td>\n",
       "      <td>-0.996464</td>\n",
       "      <td>0.024597</td>\n",
       "      <td>0.120549</td>\n",
       "      <td>-0.736645</td>\n",
       "      <td>-0.174722</td>\n",
       "      <td>-0.112386</td>\n",
       "      <td>-0.288337</td>\n",
       "      <td>-0.291981</td>\n",
       "      <td>-0.334265</td>\n",
       "      <td>...</td>\n",
       "      <td>-0.353028</td>\n",
       "      <td>-0.353243</td>\n",
       "      <td>2.827473</td>\n",
       "      <td>0.799828</td>\n",
       "      <td>-0.622007</td>\n",
       "      <td>-0.704945</td>\n",
       "      <td>-0.797813</td>\n",
       "      <td>0.709334</td>\n",
       "      <td>-0.353887</td>\n",
       "      <td>-0.342411</td>\n",
       "    </tr>\n",
       "    <tr>\n",
       "      <th>3</th>\n",
       "      <td>1.490957</td>\n",
       "      <td>-1.350181</td>\n",
       "      <td>0.678281</td>\n",
       "      <td>0.000332</td>\n",
       "      <td>1.357506</td>\n",
       "      <td>-0.174722</td>\n",
       "      <td>-0.112386</td>\n",
       "      <td>-0.288337</td>\n",
       "      <td>-0.291981</td>\n",
       "      <td>-0.334265</td>\n",
       "      <td>...</td>\n",
       "      <td>-0.353028</td>\n",
       "      <td>-0.353243</td>\n",
       "      <td>-0.353673</td>\n",
       "      <td>0.799828</td>\n",
       "      <td>-0.622007</td>\n",
       "      <td>-0.704945</td>\n",
       "      <td>1.253426</td>\n",
       "      <td>-1.409773</td>\n",
       "      <td>-0.353887</td>\n",
       "      <td>-0.342411</td>\n",
       "    </tr>\n",
       "    <tr>\n",
       "      <th>4</th>\n",
       "      <td>-0.924189</td>\n",
       "      <td>-1.350181</td>\n",
       "      <td>-1.392628</td>\n",
       "      <td>-1.322060</td>\n",
       "      <td>-0.736645</td>\n",
       "      <td>-0.174722</td>\n",
       "      <td>-0.112386</td>\n",
       "      <td>-0.288337</td>\n",
       "      <td>-0.291981</td>\n",
       "      <td>-0.334265</td>\n",
       "      <td>...</td>\n",
       "      <td>-0.353028</td>\n",
       "      <td>-0.353243</td>\n",
       "      <td>-0.353673</td>\n",
       "      <td>-1.250269</td>\n",
       "      <td>-0.622007</td>\n",
       "      <td>-0.704945</td>\n",
       "      <td>1.253426</td>\n",
       "      <td>0.709334</td>\n",
       "      <td>-0.353887</td>\n",
       "      <td>-0.342411</td>\n",
       "    </tr>\n",
       "    <tr>\n",
       "      <th>...</th>\n",
       "      <td>...</td>\n",
       "      <td>...</td>\n",
       "      <td>...</td>\n",
       "      <td>...</td>\n",
       "      <td>...</td>\n",
       "      <td>...</td>\n",
       "      <td>...</td>\n",
       "      <td>...</td>\n",
       "      <td>...</td>\n",
       "      <td>...</td>\n",
       "      <td>...</td>\n",
       "      <td>...</td>\n",
       "      <td>...</td>\n",
       "      <td>...</td>\n",
       "      <td>...</td>\n",
       "      <td>...</td>\n",
       "      <td>...</td>\n",
       "      <td>...</td>\n",
       "      <td>...</td>\n",
       "      <td>...</td>\n",
       "      <td>...</td>\n",
       "    </tr>\n",
       "    <tr>\n",
       "      <th>8333</th>\n",
       "      <td>-1.409805</td>\n",
       "      <td>-0.151783</td>\n",
       "      <td>1.201957</td>\n",
       "      <td>-1.322060</td>\n",
       "      <td>-0.736645</td>\n",
       "      <td>-0.174722</td>\n",
       "      <td>-0.112386</td>\n",
       "      <td>-0.288337</td>\n",
       "      <td>-0.291981</td>\n",
       "      <td>-0.334265</td>\n",
       "      <td>...</td>\n",
       "      <td>-0.353028</td>\n",
       "      <td>-0.353243</td>\n",
       "      <td>-0.353673</td>\n",
       "      <td>-1.250269</td>\n",
       "      <td>-0.622007</td>\n",
       "      <td>-0.704945</td>\n",
       "      <td>1.253426</td>\n",
       "      <td>0.709334</td>\n",
       "      <td>-0.353887</td>\n",
       "      <td>-0.342411</td>\n",
       "    </tr>\n",
       "    <tr>\n",
       "      <th>8334</th>\n",
       "      <td>-1.053529</td>\n",
       "      <td>-0.358630</td>\n",
       "      <td>-0.515781</td>\n",
       "      <td>0.481201</td>\n",
       "      <td>1.357506</td>\n",
       "      <td>-0.174722</td>\n",
       "      <td>-0.112386</td>\n",
       "      <td>-0.288337</td>\n",
       "      <td>-0.291981</td>\n",
       "      <td>-0.334265</td>\n",
       "      <td>...</td>\n",
       "      <td>2.832633</td>\n",
       "      <td>-0.353243</td>\n",
       "      <td>-0.353673</td>\n",
       "      <td>0.799828</td>\n",
       "      <td>-0.622007</td>\n",
       "      <td>1.418550</td>\n",
       "      <td>-0.797813</td>\n",
       "      <td>0.709334</td>\n",
       "      <td>-0.353887</td>\n",
       "      <td>-0.342411</td>\n",
       "    </tr>\n",
       "    <tr>\n",
       "      <th>8335</th>\n",
       "      <td>-0.531463</td>\n",
       "      <td>-0.607585</td>\n",
       "      <td>-0.887778</td>\n",
       "      <td>0.721636</td>\n",
       "      <td>-0.736645</td>\n",
       "      <td>-0.174722</td>\n",
       "      <td>-0.112386</td>\n",
       "      <td>-0.288337</td>\n",
       "      <td>-0.291981</td>\n",
       "      <td>-0.334265</td>\n",
       "      <td>...</td>\n",
       "      <td>-0.353028</td>\n",
       "      <td>-0.353243</td>\n",
       "      <td>-0.353673</td>\n",
       "      <td>-1.250269</td>\n",
       "      <td>1.607699</td>\n",
       "      <td>1.418550</td>\n",
       "      <td>-0.797813</td>\n",
       "      <td>0.709334</td>\n",
       "      <td>-0.353887</td>\n",
       "      <td>-0.342411</td>\n",
       "    </tr>\n",
       "    <tr>\n",
       "      <th>8336</th>\n",
       "      <td>-1.328673</td>\n",
       "      <td>1.714661</td>\n",
       "      <td>-0.596913</td>\n",
       "      <td>1.322724</td>\n",
       "      <td>1.357506</td>\n",
       "      <td>-0.174722</td>\n",
       "      <td>-0.112386</td>\n",
       "      <td>-0.288337</td>\n",
       "      <td>-0.291981</td>\n",
       "      <td>-0.334265</td>\n",
       "      <td>...</td>\n",
       "      <td>-0.353028</td>\n",
       "      <td>-0.353243</td>\n",
       "      <td>-0.353673</td>\n",
       "      <td>0.799828</td>\n",
       "      <td>-0.622007</td>\n",
       "      <td>-0.704945</td>\n",
       "      <td>1.253426</td>\n",
       "      <td>-1.409773</td>\n",
       "      <td>2.825759</td>\n",
       "      <td>-0.342411</td>\n",
       "    </tr>\n",
       "    <tr>\n",
       "      <th>8337</th>\n",
       "      <td>0.456231</td>\n",
       "      <td>-0.403037</td>\n",
       "      <td>-1.043708</td>\n",
       "      <td>-0.119886</td>\n",
       "      <td>-0.736645</td>\n",
       "      <td>-0.174722</td>\n",
       "      <td>-0.112386</td>\n",
       "      <td>-0.288337</td>\n",
       "      <td>-0.291981</td>\n",
       "      <td>-0.334265</td>\n",
       "      <td>...</td>\n",
       "      <td>-0.353028</td>\n",
       "      <td>2.830910</td>\n",
       "      <td>-0.353673</td>\n",
       "      <td>-1.250269</td>\n",
       "      <td>1.607699</td>\n",
       "      <td>-0.704945</td>\n",
       "      <td>-0.797813</td>\n",
       "      <td>0.709334</td>\n",
       "      <td>-0.353887</td>\n",
       "      <td>-0.342411</td>\n",
       "    </tr>\n",
       "  </tbody>\n",
       "</table>\n",
       "<p>8338 rows × 36 columns</p>\n",
       "</div>"
      ],
      "text/plain": [
       "      Item_Weight  Item_Visibility  Item_MRP  Outlet_Establishment_Year  \\\n",
       "0       -0.837178        -1.011507  1.771831                   0.120549   \n",
       "1       -1.632036        -0.943320 -1.482939                   1.322724   \n",
       "2        1.091176        -0.996464  0.024597                   0.120549   \n",
       "3        1.490957        -1.350181  0.678281                   0.000332   \n",
       "4       -0.924189        -1.350181 -1.392628                  -1.322060   \n",
       "...           ...              ...       ...                        ...   \n",
       "8333    -1.409805        -0.151783  1.201957                  -1.322060   \n",
       "8334    -1.053529        -0.358630 -0.515781                   0.481201   \n",
       "8335    -0.531463        -0.607585 -0.887778                   0.721636   \n",
       "8336    -1.328673         1.714661 -0.596913                   1.322724   \n",
       "8337     0.456231        -0.403037 -1.043708                  -0.119886   \n",
       "\n",
       "             1         1         2         3         4         5  ...  \\\n",
       "0    -0.736645 -0.174722 -0.112386 -0.288337  3.424875 -0.334265  ...   \n",
       "1     1.357506 -0.174722 -0.112386 -0.288337 -0.291981 -0.334265  ...   \n",
       "2    -0.736645 -0.174722 -0.112386 -0.288337 -0.291981 -0.334265  ...   \n",
       "3     1.357506 -0.174722 -0.112386 -0.288337 -0.291981 -0.334265  ...   \n",
       "4    -0.736645 -0.174722 -0.112386 -0.288337 -0.291981 -0.334265  ...   \n",
       "...        ...       ...       ...       ...       ...       ...  ...   \n",
       "8333 -0.736645 -0.174722 -0.112386 -0.288337 -0.291981 -0.334265  ...   \n",
       "8334  1.357506 -0.174722 -0.112386 -0.288337 -0.291981 -0.334265  ...   \n",
       "8335 -0.736645 -0.174722 -0.112386 -0.288337 -0.291981 -0.334265  ...   \n",
       "8336  1.357506 -0.174722 -0.112386 -0.288337 -0.291981 -0.334265  ...   \n",
       "8337 -0.736645 -0.174722 -0.112386 -0.288337 -0.291981 -0.334265  ...   \n",
       "\n",
       "             7         8         9         1         2         1         2  \\\n",
       "0    -0.353028 -0.353243  2.827473  0.799828 -0.622007 -0.704945 -0.797813   \n",
       "1    -0.353028 -0.353243 -0.353673  0.799828 -0.622007 -0.704945  1.253426   \n",
       "2    -0.353028 -0.353243  2.827473  0.799828 -0.622007 -0.704945 -0.797813   \n",
       "3    -0.353028 -0.353243 -0.353673  0.799828 -0.622007 -0.704945  1.253426   \n",
       "4    -0.353028 -0.353243 -0.353673 -1.250269 -0.622007 -0.704945  1.253426   \n",
       "...        ...       ...       ...       ...       ...       ...       ...   \n",
       "8333 -0.353028 -0.353243 -0.353673 -1.250269 -0.622007 -0.704945  1.253426   \n",
       "8334  2.832633 -0.353243 -0.353673  0.799828 -0.622007  1.418550 -0.797813   \n",
       "8335 -0.353028 -0.353243 -0.353673 -1.250269  1.607699  1.418550 -0.797813   \n",
       "8336 -0.353028 -0.353243 -0.353673  0.799828 -0.622007 -0.704945  1.253426   \n",
       "8337 -0.353028  2.830910 -0.353673 -1.250269  1.607699 -0.704945 -0.797813   \n",
       "\n",
       "             1         2         3  \n",
       "0     0.709334 -0.353887 -0.342411  \n",
       "1    -1.409773  2.825759 -0.342411  \n",
       "2     0.709334 -0.353887 -0.342411  \n",
       "3    -1.409773 -0.353887 -0.342411  \n",
       "4     0.709334 -0.353887 -0.342411  \n",
       "...        ...       ...       ...  \n",
       "8333  0.709334 -0.353887 -0.342411  \n",
       "8334  0.709334 -0.353887 -0.342411  \n",
       "8335  0.709334 -0.353887 -0.342411  \n",
       "8336 -1.409773  2.825759 -0.342411  \n",
       "8337  0.709334 -0.353887 -0.342411  \n",
       "\n",
       "[8338 rows x 36 columns]"
      ]
     },
     "execution_count": 54,
     "metadata": {},
     "output_type": "execute_result"
    }
   ],
   "source": [
    "from sklearn.preprocessing import StandardScaler\n",
    "sc=StandardScaler()\n",
    "X=sc.fit_transform(x)\n",
    "X=pd.DataFrame(X,columns=x.columns)\n",
    "X"
   ]
  },
  {
   "cell_type": "code",
   "execution_count": 55,
   "metadata": {},
   "outputs": [
    {
     "data": {
      "text/html": [
       "<div>\n",
       "<style scoped>\n",
       "    .dataframe tbody tr th:only-of-type {\n",
       "        vertical-align: middle;\n",
       "    }\n",
       "\n",
       "    .dataframe tbody tr th {\n",
       "        vertical-align: top;\n",
       "    }\n",
       "\n",
       "    .dataframe thead th {\n",
       "        text-align: right;\n",
       "    }\n",
       "</style>\n",
       "<table border=\"1\" class=\"dataframe\">\n",
       "  <thead>\n",
       "    <tr style=\"text-align: right;\">\n",
       "      <th></th>\n",
       "      <th>Item_Weight</th>\n",
       "      <th>Item_Visibility</th>\n",
       "      <th>Item_MRP</th>\n",
       "      <th>Outlet_Establishment_Year</th>\n",
       "      <th>1</th>\n",
       "      <th>1</th>\n",
       "      <th>2</th>\n",
       "      <th>3</th>\n",
       "      <th>4</th>\n",
       "      <th>5</th>\n",
       "      <th>...</th>\n",
       "      <th>7</th>\n",
       "      <th>8</th>\n",
       "      <th>9</th>\n",
       "      <th>1</th>\n",
       "      <th>2</th>\n",
       "      <th>1</th>\n",
       "      <th>2</th>\n",
       "      <th>1</th>\n",
       "      <th>2</th>\n",
       "      <th>3</th>\n",
       "    </tr>\n",
       "  </thead>\n",
       "  <tbody>\n",
       "    <tr>\n",
       "      <th>0</th>\n",
       "      <td>1.888840</td>\n",
       "      <td>-1.205139</td>\n",
       "      <td>-0.538563</td>\n",
       "      <td>0.128501</td>\n",
       "      <td>-0.738413</td>\n",
       "      <td>-0.172049</td>\n",
       "      <td>-0.11651</td>\n",
       "      <td>-0.286211</td>\n",
       "      <td>-0.294526</td>\n",
       "      <td>-0.332009</td>\n",
       "      <td>...</td>\n",
       "      <td>-0.352523</td>\n",
       "      <td>-0.352843</td>\n",
       "      <td>2.834124</td>\n",
       "      <td>0.795395</td>\n",
       "      <td>-0.618365</td>\n",
       "      <td>-0.704078</td>\n",
       "      <td>-0.802895</td>\n",
       "      <td>0.711752</td>\n",
       "      <td>-0.352202</td>\n",
       "      <td>-0.354121</td>\n",
       "    </tr>\n",
       "    <tr>\n",
       "      <th>1</th>\n",
       "      <td>-1.032779</td>\n",
       "      <td>-0.532968</td>\n",
       "      <td>-0.871149</td>\n",
       "      <td>1.085897</td>\n",
       "      <td>1.354256</td>\n",
       "      <td>-0.172049</td>\n",
       "      <td>-0.11651</td>\n",
       "      <td>-0.286211</td>\n",
       "      <td>3.395286</td>\n",
       "      <td>-0.332009</td>\n",
       "      <td>...</td>\n",
       "      <td>-0.352523</td>\n",
       "      <td>-0.352843</td>\n",
       "      <td>-0.352843</td>\n",
       "      <td>0.795395</td>\n",
       "      <td>-0.618365</td>\n",
       "      <td>1.420296</td>\n",
       "      <td>-0.802895</td>\n",
       "      <td>0.711752</td>\n",
       "      <td>-0.352202</td>\n",
       "      <td>-0.354121</td>\n",
       "    </tr>\n",
       "    <tr>\n",
       "      <th>2</th>\n",
       "      <td>0.445631</td>\n",
       "      <td>0.798776</td>\n",
       "      <td>1.629171</td>\n",
       "      <td>0.008826</td>\n",
       "      <td>-0.738413</td>\n",
       "      <td>-0.172049</td>\n",
       "      <td>-0.11651</td>\n",
       "      <td>-0.286211</td>\n",
       "      <td>-0.294526</td>\n",
       "      <td>-0.332009</td>\n",
       "      <td>...</td>\n",
       "      <td>-0.352523</td>\n",
       "      <td>-0.352843</td>\n",
       "      <td>-0.352843</td>\n",
       "      <td>0.795395</td>\n",
       "      <td>-0.618365</td>\n",
       "      <td>-0.704078</td>\n",
       "      <td>1.245493</td>\n",
       "      <td>-1.404983</td>\n",
       "      <td>-0.352202</td>\n",
       "      <td>-0.354121</td>\n",
       "    </tr>\n",
       "    <tr>\n",
       "      <th>3</th>\n",
       "      <td>-1.263927</td>\n",
       "      <td>-1.034748</td>\n",
       "      <td>0.225158</td>\n",
       "      <td>1.085897</td>\n",
       "      <td>-0.738413</td>\n",
       "      <td>-0.172049</td>\n",
       "      <td>-0.11651</td>\n",
       "      <td>-0.286211</td>\n",
       "      <td>-0.294526</td>\n",
       "      <td>-0.332009</td>\n",
       "      <td>...</td>\n",
       "      <td>-0.352523</td>\n",
       "      <td>-0.352843</td>\n",
       "      <td>-0.352843</td>\n",
       "      <td>0.795395</td>\n",
       "      <td>-0.618365</td>\n",
       "      <td>1.420296</td>\n",
       "      <td>-0.802895</td>\n",
       "      <td>0.711752</td>\n",
       "      <td>-0.352202</td>\n",
       "      <td>-0.354121</td>\n",
       "    </tr>\n",
       "    <tr>\n",
       "      <th>4</th>\n",
       "      <td>-0.001263</td>\n",
       "      <td>1.213115</td>\n",
       "      <td>1.507359</td>\n",
       "      <td>-1.546944</td>\n",
       "      <td>1.354256</td>\n",
       "      <td>-0.172049</td>\n",
       "      <td>-0.11651</td>\n",
       "      <td>-0.286211</td>\n",
       "      <td>3.395286</td>\n",
       "      <td>-0.332009</td>\n",
       "      <td>...</td>\n",
       "      <td>-0.352523</td>\n",
       "      <td>-0.352843</td>\n",
       "      <td>-0.352843</td>\n",
       "      <td>0.795395</td>\n",
       "      <td>-0.618365</td>\n",
       "      <td>-0.704078</td>\n",
       "      <td>1.245493</td>\n",
       "      <td>-1.404983</td>\n",
       "      <td>-0.352202</td>\n",
       "      <td>2.823891</td>\n",
       "    </tr>\n",
       "    <tr>\n",
       "      <th>...</th>\n",
       "      <td>...</td>\n",
       "      <td>...</td>\n",
       "      <td>...</td>\n",
       "      <td>...</td>\n",
       "      <td>...</td>\n",
       "      <td>...</td>\n",
       "      <td>...</td>\n",
       "      <td>...</td>\n",
       "      <td>...</td>\n",
       "      <td>...</td>\n",
       "      <td>...</td>\n",
       "      <td>...</td>\n",
       "      <td>...</td>\n",
       "      <td>...</td>\n",
       "      <td>...</td>\n",
       "      <td>...</td>\n",
       "      <td>...</td>\n",
       "      <td>...</td>\n",
       "      <td>...</td>\n",
       "      <td>...</td>\n",
       "      <td>...</td>\n",
       "    </tr>\n",
       "    <tr>\n",
       "      <th>5595</th>\n",
       "      <td>-0.516509</td>\n",
       "      <td>-1.075952</td>\n",
       "      <td>0.003051</td>\n",
       "      <td>-0.110849</td>\n",
       "      <td>1.354256</td>\n",
       "      <td>-0.172049</td>\n",
       "      <td>-0.11651</td>\n",
       "      <td>-0.286211</td>\n",
       "      <td>-0.294526</td>\n",
       "      <td>-0.332009</td>\n",
       "      <td>...</td>\n",
       "      <td>-0.352523</td>\n",
       "      <td>2.834124</td>\n",
       "      <td>-0.352843</td>\n",
       "      <td>-1.257237</td>\n",
       "      <td>1.617169</td>\n",
       "      <td>-0.704078</td>\n",
       "      <td>-0.802895</td>\n",
       "      <td>0.711752</td>\n",
       "      <td>-0.352202</td>\n",
       "      <td>-0.354121</td>\n",
       "    </tr>\n",
       "    <tr>\n",
       "      <th>5596</th>\n",
       "      <td>-1.197046</td>\n",
       "      <td>1.744347</td>\n",
       "      <td>0.453615</td>\n",
       "      <td>1.325247</td>\n",
       "      <td>1.354256</td>\n",
       "      <td>-0.172049</td>\n",
       "      <td>-0.11651</td>\n",
       "      <td>-0.286211</td>\n",
       "      <td>-0.294526</td>\n",
       "      <td>-0.332009</td>\n",
       "      <td>...</td>\n",
       "      <td>-0.352523</td>\n",
       "      <td>-0.352843</td>\n",
       "      <td>-0.352843</td>\n",
       "      <td>0.795395</td>\n",
       "      <td>-0.618365</td>\n",
       "      <td>-0.704078</td>\n",
       "      <td>1.245493</td>\n",
       "      <td>-1.404983</td>\n",
       "      <td>2.839276</td>\n",
       "      <td>-0.354121</td>\n",
       "    </tr>\n",
       "    <tr>\n",
       "      <th>5597</th>\n",
       "      <td>-0.633843</td>\n",
       "      <td>0.231505</td>\n",
       "      <td>-0.362385</td>\n",
       "      <td>0.487524</td>\n",
       "      <td>-0.738413</td>\n",
       "      <td>-0.172049</td>\n",
       "      <td>-0.11651</td>\n",
       "      <td>-0.286211</td>\n",
       "      <td>-0.294526</td>\n",
       "      <td>-0.332009</td>\n",
       "      <td>...</td>\n",
       "      <td>2.836697</td>\n",
       "      <td>-0.352843</td>\n",
       "      <td>-0.352843</td>\n",
       "      <td>0.795395</td>\n",
       "      <td>-0.618365</td>\n",
       "      <td>1.420296</td>\n",
       "      <td>-0.802895</td>\n",
       "      <td>0.711752</td>\n",
       "      <td>-0.352202</td>\n",
       "      <td>-0.354121</td>\n",
       "    </tr>\n",
       "    <tr>\n",
       "      <th>5598</th>\n",
       "      <td>0.609899</td>\n",
       "      <td>-1.369896</td>\n",
       "      <td>1.189898</td>\n",
       "      <td>1.085897</td>\n",
       "      <td>1.354256</td>\n",
       "      <td>-0.172049</td>\n",
       "      <td>-0.11651</td>\n",
       "      <td>3.493930</td>\n",
       "      <td>-0.294526</td>\n",
       "      <td>-0.332009</td>\n",
       "      <td>...</td>\n",
       "      <td>-0.352523</td>\n",
       "      <td>-0.352843</td>\n",
       "      <td>-0.352843</td>\n",
       "      <td>0.795395</td>\n",
       "      <td>-0.618365</td>\n",
       "      <td>1.420296</td>\n",
       "      <td>-0.802895</td>\n",
       "      <td>0.711752</td>\n",
       "      <td>-0.352202</td>\n",
       "      <td>-0.354121</td>\n",
       "    </tr>\n",
       "    <tr>\n",
       "      <th>5599</th>\n",
       "      <td>-0.751177</td>\n",
       "      <td>0.910836</td>\n",
       "      <td>-0.992961</td>\n",
       "      <td>0.487524</td>\n",
       "      <td>1.354256</td>\n",
       "      <td>-0.172049</td>\n",
       "      <td>-0.11651</td>\n",
       "      <td>3.493930</td>\n",
       "      <td>-0.294526</td>\n",
       "      <td>-0.332009</td>\n",
       "      <td>...</td>\n",
       "      <td>2.836697</td>\n",
       "      <td>-0.352843</td>\n",
       "      <td>-0.352843</td>\n",
       "      <td>0.795395</td>\n",
       "      <td>-0.618365</td>\n",
       "      <td>1.420296</td>\n",
       "      <td>-0.802895</td>\n",
       "      <td>0.711752</td>\n",
       "      <td>-0.352202</td>\n",
       "      <td>-0.354121</td>\n",
       "    </tr>\n",
       "  </tbody>\n",
       "</table>\n",
       "<p>5600 rows × 36 columns</p>\n",
       "</div>"
      ],
      "text/plain": [
       "      Item_Weight  Item_Visibility  Item_MRP  Outlet_Establishment_Year  \\\n",
       "0        1.888840        -1.205139 -0.538563                   0.128501   \n",
       "1       -1.032779        -0.532968 -0.871149                   1.085897   \n",
       "2        0.445631         0.798776  1.629171                   0.008826   \n",
       "3       -1.263927        -1.034748  0.225158                   1.085897   \n",
       "4       -0.001263         1.213115  1.507359                  -1.546944   \n",
       "...           ...              ...       ...                        ...   \n",
       "5595    -0.516509        -1.075952  0.003051                  -0.110849   \n",
       "5596    -1.197046         1.744347  0.453615                   1.325247   \n",
       "5597    -0.633843         0.231505 -0.362385                   0.487524   \n",
       "5598     0.609899        -1.369896  1.189898                   1.085897   \n",
       "5599    -0.751177         0.910836 -0.992961                   0.487524   \n",
       "\n",
       "             1         1        2         3         4         5  ...  \\\n",
       "0    -0.738413 -0.172049 -0.11651 -0.286211 -0.294526 -0.332009  ...   \n",
       "1     1.354256 -0.172049 -0.11651 -0.286211  3.395286 -0.332009  ...   \n",
       "2    -0.738413 -0.172049 -0.11651 -0.286211 -0.294526 -0.332009  ...   \n",
       "3    -0.738413 -0.172049 -0.11651 -0.286211 -0.294526 -0.332009  ...   \n",
       "4     1.354256 -0.172049 -0.11651 -0.286211  3.395286 -0.332009  ...   \n",
       "...        ...       ...      ...       ...       ...       ...  ...   \n",
       "5595  1.354256 -0.172049 -0.11651 -0.286211 -0.294526 -0.332009  ...   \n",
       "5596  1.354256 -0.172049 -0.11651 -0.286211 -0.294526 -0.332009  ...   \n",
       "5597 -0.738413 -0.172049 -0.11651 -0.286211 -0.294526 -0.332009  ...   \n",
       "5598  1.354256 -0.172049 -0.11651  3.493930 -0.294526 -0.332009  ...   \n",
       "5599  1.354256 -0.172049 -0.11651  3.493930 -0.294526 -0.332009  ...   \n",
       "\n",
       "             7         8         9         1         2         1         2  \\\n",
       "0    -0.352523 -0.352843  2.834124  0.795395 -0.618365 -0.704078 -0.802895   \n",
       "1    -0.352523 -0.352843 -0.352843  0.795395 -0.618365  1.420296 -0.802895   \n",
       "2    -0.352523 -0.352843 -0.352843  0.795395 -0.618365 -0.704078  1.245493   \n",
       "3    -0.352523 -0.352843 -0.352843  0.795395 -0.618365  1.420296 -0.802895   \n",
       "4    -0.352523 -0.352843 -0.352843  0.795395 -0.618365 -0.704078  1.245493   \n",
       "...        ...       ...       ...       ...       ...       ...       ...   \n",
       "5595 -0.352523  2.834124 -0.352843 -1.257237  1.617169 -0.704078 -0.802895   \n",
       "5596 -0.352523 -0.352843 -0.352843  0.795395 -0.618365 -0.704078  1.245493   \n",
       "5597  2.836697 -0.352843 -0.352843  0.795395 -0.618365  1.420296 -0.802895   \n",
       "5598 -0.352523 -0.352843 -0.352843  0.795395 -0.618365  1.420296 -0.802895   \n",
       "5599  2.836697 -0.352843 -0.352843  0.795395 -0.618365  1.420296 -0.802895   \n",
       "\n",
       "             1         2         3  \n",
       "0     0.711752 -0.352202 -0.354121  \n",
       "1     0.711752 -0.352202 -0.354121  \n",
       "2    -1.404983 -0.352202 -0.354121  \n",
       "3     0.711752 -0.352202 -0.354121  \n",
       "4    -1.404983 -0.352202  2.823891  \n",
       "...        ...       ...       ...  \n",
       "5595  0.711752 -0.352202 -0.354121  \n",
       "5596 -1.404983  2.839276 -0.354121  \n",
       "5597  0.711752 -0.352202 -0.354121  \n",
       "5598  0.711752 -0.352202 -0.354121  \n",
       "5599  0.711752 -0.352202 -0.354121  \n",
       "\n",
       "[5600 rows x 36 columns]"
      ]
     },
     "execution_count": 55,
     "metadata": {},
     "output_type": "execute_result"
    }
   ],
   "source": [
    "from sklearn.preprocessing import StandardScaler\n",
    "sc=StandardScaler()\n",
    "dx=sc.fit_transform(test_new)\n",
    "dx=pd.DataFrame(dx,columns=test_new.columns)\n",
    "dx"
   ]
  },
  {
   "cell_type": "code",
   "execution_count": 56,
   "metadata": {},
   "outputs": [],
   "source": [
    "Test=dx"
   ]
  },
  {
   "cell_type": "markdown",
   "metadata": {},
   "source": [
    "# Spliting X and y into Train data and Test data for model building."
   ]
  },
  {
   "cell_type": "code",
   "execution_count": 57,
   "metadata": {},
   "outputs": [],
   "source": [
    "from sklearn.model_selection import train_test_split\n",
    "X_train,X_test,y_train,y_test=train_test_split(X,y,test_size=.33,random_state=42)"
   ]
  },
  {
   "cell_type": "markdown",
   "metadata": {},
   "source": [
    "# Model Building"
   ]
  },
  {
   "cell_type": "code",
   "execution_count": 58,
   "metadata": {},
   "outputs": [],
   "source": [
    "from sklearn.linear_model import LinearRegression\n",
    "from sklearn.metrics import mean_squared_error,r2_score,mean_absolute_error\n",
    "from sklearn.tree import DecisionTreeRegressor \n",
    "from sklearn.ensemble import RandomForestRegressor\n",
    "from sklearn.model_selection import GridSearchCV"
   ]
  },
  {
   "cell_type": "markdown",
   "metadata": {},
   "source": [
    "# Linear Regression"
   ]
  },
  {
   "cell_type": "code",
   "execution_count": 59,
   "metadata": {},
   "outputs": [
    {
     "data": {
      "text/plain": [
       "LinearRegression()"
      ]
     },
     "execution_count": 59,
     "metadata": {},
     "output_type": "execute_result"
    }
   ],
   "source": [
    "lr=LinearRegression()\n",
    "lr.fit(X_train,y_train)"
   ]
  },
  {
   "cell_type": "code",
   "execution_count": 60,
   "metadata": {},
   "outputs": [
    {
     "data": {
      "text/plain": [
       "array([-8.67812053e+00, -1.28568116e+01,  9.20985489e+02,  6.97941202e+15,\n",
       "        5.48608607e+00,  2.91216864e+00, -1.05299141e+01,  9.78210286e+00,\n",
       "       -1.65886455e+01,  5.49230236e+00, -2.46292592e+01,  1.58616010e+01,\n",
       "        1.02704485e+01,  2.40146100e-01,  5.08445161e+00,  1.24430051e-01,\n",
       "        1.80934189e+01, -1.89752503e+01, -1.50018150e+01,  2.22446854e+01,\n",
       "       -1.13135235e+16, -1.61263731e+16, -3.67037616e+15, -2.24145905e+15,\n",
       "       -1.12805631e+16, -1.35048089e+16, -1.48555332e+16, -1.08998238e+16,\n",
       "       -1.33305855e+16, -1.47563292e+16, -1.62683512e+16,  1.13069107e+15,\n",
       "       -1.29677254e+16,  7.06315707e+15,  7.67688886e+14,  1.46235030e+16])"
      ]
     },
     "execution_count": 60,
     "metadata": {},
     "output_type": "execute_result"
    }
   ],
   "source": [
    "lr.coef_"
   ]
  },
  {
   "cell_type": "code",
   "execution_count": 61,
   "metadata": {},
   "outputs": [
    {
     "data": {
      "text/plain": [
       "2233.1408939939133"
      ]
     },
     "execution_count": 61,
     "metadata": {},
     "output_type": "execute_result"
    }
   ],
   "source": [
    "lr.intercept_"
   ]
  },
  {
   "cell_type": "code",
   "execution_count": 62,
   "metadata": {},
   "outputs": [
    {
     "data": {
      "text/plain": [
       "0.558123465533484"
      ]
     },
     "execution_count": 62,
     "metadata": {},
     "output_type": "execute_result"
    }
   ],
   "source": [
    "lr.score(X_train,y_train)"
   ]
  },
  {
   "cell_type": "code",
   "execution_count": 63,
   "metadata": {},
   "outputs": [
    {
     "name": "stdout",
     "output_type": "stream",
     "text": [
      "Predicted Result Price: [1834.14089399 2600.14089399 2154.14089399 ... 1834.14089399 1004.14089399\n",
      " 2690.14089399]\n",
      "Actual Price,y_test\n"
     ]
    }
   ],
   "source": [
    "pred=lr.predict(X_test)\n",
    "print('Predicted Result Price:',pred)\n",
    "print('Actual Price,y_test')"
   ]
  },
  {
   "cell_type": "code",
   "execution_count": 64,
   "metadata": {},
   "outputs": [
    {
     "name": "stdout",
     "output_type": "stream",
     "text": [
      "error:\n",
      "Mean absolute error: 789.825062169576\n",
      "Mean squared error: 1079007.8241260515\n",
      "Root Mean Squared error: 1038.7530140153874\n",
      "0.5532676451669813\n"
     ]
    },
    {
     "data": {
      "image/png": "[encoded data removed]",
      "text/plain": [
       "<Figure size 432x288 with 1 Axes>"
      ]
     },
     "metadata": {
      "needs_background": "light"
     },
     "output_type": "display_data"
    }
   ],
   "source": [
    "print('error:')\n",
    "print('Mean absolute error:',mean_absolute_error(y_test,pred))\n",
    "print('Mean squared error:',mean_squared_error(y_test,pred))\n",
    "print('Root Mean Squared error:',np.sqrt(mean_squared_error(y_test,pred)))\n",
    "print(r2_score(y_test,pred))\n",
    "plt.scatter(y_test,pred)\n",
    "plt.show()"
   ]
  },
  {
   "cell_type": "markdown",
   "metadata": {},
   "source": [
    "# Ramdom Forest Regressor"
   ]
  },
  {
   "cell_type": "code",
   "execution_count": 65,
   "metadata": {},
   "outputs": [
    {
     "name": "stdout",
     "output_type": "stream",
     "text": [
      "Predicted Result Price: [1642.8615   2236.462148 2324.361064 ... 2120.646238  902.95796\n",
      " 2845.822282]\n",
      "Actual Price,y_test\n",
      "error:\n",
      "Mean absolute error: 755.8291614869186\n",
      "Mean squared error: 1116038.3982588274\n",
      "Root Mean Squared error: 1056.4271854978115\n",
      "0.5379361941679559\n"
     ]
    }
   ],
   "source": [
    "rf=RandomForestRegressor(n_estimators=100,random_state=42)\n",
    "rf.fit(X_train,y_train)\n",
    "rf.score(X_train,y_train)\n",
    "pred=rf.predict(X_test)\n",
    "print('Predicted Result Price:',pred)\n",
    "print('Actual Price,y_test')\n",
    "print('error:')\n",
    "print('Mean absolute error:',mean_absolute_error(y_test,pred))\n",
    "print('Mean squared error:',mean_squared_error(y_test,pred))\n",
    "print('Root Mean Squared error:',np.sqrt(mean_squared_error(y_test,pred)))\n",
    "print(r2_score(y_test,pred))"
   ]
  },
  {
   "cell_type": "markdown",
   "metadata": {},
   "source": [
    "# Cross Validation"
   ]
  },
  {
   "cell_type": "code",
   "execution_count": 66,
   "metadata": {},
   "outputs": [],
   "source": [
    "from sklearn.model_selection import cross_val_score"
   ]
  },
  {
   "cell_type": "code",
   "execution_count": 67,
   "metadata": {},
   "outputs": [],
   "source": [
    "from sklearn.linear_model import ElasticNet"
   ]
  },
  {
   "cell_type": "code",
   "execution_count": 68,
   "metadata": {},
   "outputs": [
    {
     "name": "stdout",
     "output_type": "stream",
     "text": [
      "0.5589255581268148\n"
     ]
    },
    {
     "data": {
      "text/plain": [
       "array([-8.58565775e+00, -8.10816257e+00,  9.18385790e+02, -1.85891718e+02,\n",
       "        1.45732707e+01, -1.33211088e-01, -1.57797924e+01,  1.71928755e+01,\n",
       "       -2.10515374e+01,  1.97526714e+00, -1.57154097e+01,  1.12681049e+01,\n",
       "        2.95769388e+00, -8.46595785e+00,  4.78848616e+00,  2.36924764e+00,\n",
       "        9.49852473e+00, -1.61355117e+01, -1.46315073e+01,  1.80519331e+01,\n",
       "        2.49619652e+02,  3.17834662e+02,  1.64487733e+02, -2.49485676e+02,\n",
       "        4.33413066e+02,  1.40659757e+02,  2.06910943e+02,  2.23907583e+02,\n",
       "        4.42451909e+02, -3.04362258e+02, -4.85796459e+01,  2.84260719e+02,\n",
       "       -1.73708285e+02,  1.34962988e+02,  4.32957927e+02,  4.53528600e+02])"
      ]
     },
     "execution_count": 68,
     "metadata": {},
     "output_type": "execute_result"
    }
   ],
   "source": [
    "Enr=ElasticNet(alpha=0.0001)\n",
    "Enr.fit(X_train,y_train)\n",
    "Enrpred=Enr.predict(X_test)\n",
    "print(Enr.score(X_train,y_train))\n",
    "Enr.coef_"
   ]
  },
  {
   "cell_type": "code",
   "execution_count": 69,
   "metadata": {},
   "outputs": [
    {
     "name": "stdout",
     "output_type": "stream",
     "text": [
      "0.5358813886313325\n"
     ]
    }
   ],
   "source": [
    "print(cross_val_score(rf,x,y,cv=5).mean())"
   ]
  },
  {
   "cell_type": "markdown",
   "metadata": {},
   "source": [
    "# Hyperparameter Tuning"
   ]
  },
  {
   "cell_type": "code",
   "execution_count": 70,
   "metadata": {},
   "outputs": [],
   "source": [
    "from sklearn.model_selection import GridSearchCV"
   ]
  },
  {
   "cell_type": "code",
   "execution_count": 71,
   "metadata": {},
   "outputs": [
    {
     "name": "stdout",
     "output_type": "stream",
     "text": [
      "r2 / variance :  0.552717928262606\n",
      "Residual sum of squares: 1078331.04\n"
     ]
    }
   ],
   "source": [
    "from sklearn import datasets, linear_model\n",
    "model = linear_model.LinearRegression()\n",
    "parameters = {'fit_intercept':[True,False], 'normalize':[True,False], 'copy_X':[True, False]}\n",
    "grid = GridSearchCV(model,parameters, cv=None)\n",
    "grid.fit(X_train, y_train)\n",
    "print (\"r2 / variance : \", grid.best_score_)\n",
    "print(\"Residual sum of squares: %.2f\" % np.mean((grid.predict(X_test) - y_test) ** 2))"
   ]
  },
  {
   "cell_type": "code",
   "execution_count": 72,
   "metadata": {},
   "outputs": [
    {
     "data": {
      "text/html": [
       "<div>\n",
       "<style scoped>\n",
       "    .dataframe tbody tr th:only-of-type {\n",
       "        vertical-align: middle;\n",
       "    }\n",
       "\n",
       "    .dataframe tbody tr th {\n",
       "        vertical-align: top;\n",
       "    }\n",
       "\n",
       "    .dataframe thead th {\n",
       "        text-align: right;\n",
       "    }\n",
       "</style>\n",
       "<table border=\"1\" class=\"dataframe\">\n",
       "  <thead>\n",
       "    <tr style=\"text-align: right;\">\n",
       "      <th></th>\n",
       "      <th>Item_Weight</th>\n",
       "      <th>Item_Visibility</th>\n",
       "      <th>Item_MRP</th>\n",
       "      <th>Outlet_Establishment_Year</th>\n",
       "      <th>1</th>\n",
       "      <th>1</th>\n",
       "      <th>2</th>\n",
       "      <th>3</th>\n",
       "      <th>4</th>\n",
       "      <th>5</th>\n",
       "      <th>...</th>\n",
       "      <th>7</th>\n",
       "      <th>8</th>\n",
       "      <th>9</th>\n",
       "      <th>1</th>\n",
       "      <th>2</th>\n",
       "      <th>1</th>\n",
       "      <th>2</th>\n",
       "      <th>1</th>\n",
       "      <th>2</th>\n",
       "      <th>3</th>\n",
       "    </tr>\n",
       "  </thead>\n",
       "  <tbody>\n",
       "    <tr>\n",
       "      <th>0</th>\n",
       "      <td>1.888840</td>\n",
       "      <td>-1.205139</td>\n",
       "      <td>-0.538563</td>\n",
       "      <td>0.128501</td>\n",
       "      <td>-0.738413</td>\n",
       "      <td>-0.172049</td>\n",
       "      <td>-0.11651</td>\n",
       "      <td>-0.286211</td>\n",
       "      <td>-0.294526</td>\n",
       "      <td>-0.332009</td>\n",
       "      <td>...</td>\n",
       "      <td>-0.352523</td>\n",
       "      <td>-0.352843</td>\n",
       "      <td>2.834124</td>\n",
       "      <td>0.795395</td>\n",
       "      <td>-0.618365</td>\n",
       "      <td>-0.704078</td>\n",
       "      <td>-0.802895</td>\n",
       "      <td>0.711752</td>\n",
       "      <td>-0.352202</td>\n",
       "      <td>-0.354121</td>\n",
       "    </tr>\n",
       "    <tr>\n",
       "      <th>1</th>\n",
       "      <td>-1.032779</td>\n",
       "      <td>-0.532968</td>\n",
       "      <td>-0.871149</td>\n",
       "      <td>1.085897</td>\n",
       "      <td>1.354256</td>\n",
       "      <td>-0.172049</td>\n",
       "      <td>-0.11651</td>\n",
       "      <td>-0.286211</td>\n",
       "      <td>3.395286</td>\n",
       "      <td>-0.332009</td>\n",
       "      <td>...</td>\n",
       "      <td>-0.352523</td>\n",
       "      <td>-0.352843</td>\n",
       "      <td>-0.352843</td>\n",
       "      <td>0.795395</td>\n",
       "      <td>-0.618365</td>\n",
       "      <td>1.420296</td>\n",
       "      <td>-0.802895</td>\n",
       "      <td>0.711752</td>\n",
       "      <td>-0.352202</td>\n",
       "      <td>-0.354121</td>\n",
       "    </tr>\n",
       "    <tr>\n",
       "      <th>2</th>\n",
       "      <td>0.445631</td>\n",
       "      <td>0.798776</td>\n",
       "      <td>1.629171</td>\n",
       "      <td>0.008826</td>\n",
       "      <td>-0.738413</td>\n",
       "      <td>-0.172049</td>\n",
       "      <td>-0.11651</td>\n",
       "      <td>-0.286211</td>\n",
       "      <td>-0.294526</td>\n",
       "      <td>-0.332009</td>\n",
       "      <td>...</td>\n",
       "      <td>-0.352523</td>\n",
       "      <td>-0.352843</td>\n",
       "      <td>-0.352843</td>\n",
       "      <td>0.795395</td>\n",
       "      <td>-0.618365</td>\n",
       "      <td>-0.704078</td>\n",
       "      <td>1.245493</td>\n",
       "      <td>-1.404983</td>\n",
       "      <td>-0.352202</td>\n",
       "      <td>-0.354121</td>\n",
       "    </tr>\n",
       "    <tr>\n",
       "      <th>3</th>\n",
       "      <td>-1.263927</td>\n",
       "      <td>-1.034748</td>\n",
       "      <td>0.225158</td>\n",
       "      <td>1.085897</td>\n",
       "      <td>-0.738413</td>\n",
       "      <td>-0.172049</td>\n",
       "      <td>-0.11651</td>\n",
       "      <td>-0.286211</td>\n",
       "      <td>-0.294526</td>\n",
       "      <td>-0.332009</td>\n",
       "      <td>...</td>\n",
       "      <td>-0.352523</td>\n",
       "      <td>-0.352843</td>\n",
       "      <td>-0.352843</td>\n",
       "      <td>0.795395</td>\n",
       "      <td>-0.618365</td>\n",
       "      <td>1.420296</td>\n",
       "      <td>-0.802895</td>\n",
       "      <td>0.711752</td>\n",
       "      <td>-0.352202</td>\n",
       "      <td>-0.354121</td>\n",
       "    </tr>\n",
       "    <tr>\n",
       "      <th>4</th>\n",
       "      <td>-0.001263</td>\n",
       "      <td>1.213115</td>\n",
       "      <td>1.507359</td>\n",
       "      <td>-1.546944</td>\n",
       "      <td>1.354256</td>\n",
       "      <td>-0.172049</td>\n",
       "      <td>-0.11651</td>\n",
       "      <td>-0.286211</td>\n",
       "      <td>3.395286</td>\n",
       "      <td>-0.332009</td>\n",
       "      <td>...</td>\n",
       "      <td>-0.352523</td>\n",
       "      <td>-0.352843</td>\n",
       "      <td>-0.352843</td>\n",
       "      <td>0.795395</td>\n",
       "      <td>-0.618365</td>\n",
       "      <td>-0.704078</td>\n",
       "      <td>1.245493</td>\n",
       "      <td>-1.404983</td>\n",
       "      <td>-0.352202</td>\n",
       "      <td>2.823891</td>\n",
       "    </tr>\n",
       "  </tbody>\n",
       "</table>\n",
       "<p>5 rows × 36 columns</p>\n",
       "</div>"
      ],
      "text/plain": [
       "   Item_Weight  Item_Visibility  Item_MRP  Outlet_Establishment_Year  \\\n",
       "0     1.888840        -1.205139 -0.538563                   0.128501   \n",
       "1    -1.032779        -0.532968 -0.871149                   1.085897   \n",
       "2     0.445631         0.798776  1.629171                   0.008826   \n",
       "3    -1.263927        -1.034748  0.225158                   1.085897   \n",
       "4    -0.001263         1.213115  1.507359                  -1.546944   \n",
       "\n",
       "          1         1        2         3         4         5  ...         7  \\\n",
       "0 -0.738413 -0.172049 -0.11651 -0.286211 -0.294526 -0.332009  ... -0.352523   \n",
       "1  1.354256 -0.172049 -0.11651 -0.286211  3.395286 -0.332009  ... -0.352523   \n",
       "2 -0.738413 -0.172049 -0.11651 -0.286211 -0.294526 -0.332009  ... -0.352523   \n",
       "3 -0.738413 -0.172049 -0.11651 -0.286211 -0.294526 -0.332009  ... -0.352523   \n",
       "4  1.354256 -0.172049 -0.11651 -0.286211  3.395286 -0.332009  ... -0.352523   \n",
       "\n",
       "          8         9         1         2         1         2         1  \\\n",
       "0 -0.352843  2.834124  0.795395 -0.618365 -0.704078 -0.802895  0.711752   \n",
       "1 -0.352843 -0.352843  0.795395 -0.618365  1.420296 -0.802895  0.711752   \n",
       "2 -0.352843 -0.352843  0.795395 -0.618365 -0.704078  1.245493 -1.404983   \n",
       "3 -0.352843 -0.352843  0.795395 -0.618365  1.420296 -0.802895  0.711752   \n",
       "4 -0.352843 -0.352843  0.795395 -0.618365 -0.704078  1.245493 -1.404983   \n",
       "\n",
       "          2         3  \n",
       "0 -0.352202 -0.354121  \n",
       "1 -0.352202 -0.354121  \n",
       "2 -0.352202 -0.354121  \n",
       "3 -0.352202 -0.354121  \n",
       "4 -0.352202  2.823891  \n",
       "\n",
       "[5 rows x 36 columns]"
      ]
     },
     "execution_count": 72,
     "metadata": {},
     "output_type": "execute_result"
    }
   ],
   "source": [
    "Test.head()"
   ]
  },
  {
   "cell_type": "markdown",
   "metadata": {},
   "source": [
    "# Prediction with Random Forest Regressor"
   ]
  },
  {
   "cell_type": "code",
   "execution_count": 73,
   "metadata": {},
   "outputs": [],
   "source": [
    "Item_Outlet_Sales = rf.predict(Test)"
   ]
  },
  {
   "cell_type": "code",
   "execution_count": 74,
   "metadata": {},
   "outputs": [
    {
     "data": {
      "text/plain": [
       "array([1780.522308, 1352.692544,  583.100982, ..., 1319.023038,\n",
       "       5222.009218, 1279.387964])"
      ]
     },
     "execution_count": 74,
     "metadata": {},
     "output_type": "execute_result"
    }
   ],
   "source": [
    "Item_Outlet_Sales"
   ]
  },
  {
   "cell_type": "code",
   "execution_count": 75,
   "metadata": {},
   "outputs": [
    {
     "data": {
      "text/html": [
       "<div>\n",
       "<style scoped>\n",
       "    .dataframe tbody tr th:only-of-type {\n",
       "        vertical-align: middle;\n",
       "    }\n",
       "\n",
       "    .dataframe tbody tr th {\n",
       "        vertical-align: top;\n",
       "    }\n",
       "\n",
       "    .dataframe thead th {\n",
       "        text-align: right;\n",
       "    }\n",
       "</style>\n",
       "<table border=\"1\" class=\"dataframe\">\n",
       "  <thead>\n",
       "    <tr style=\"text-align: right;\">\n",
       "      <th></th>\n",
       "      <th>0</th>\n",
       "    </tr>\n",
       "  </thead>\n",
       "  <tbody>\n",
       "    <tr>\n",
       "      <th>0</th>\n",
       "      <td>1780.522308</td>\n",
       "    </tr>\n",
       "    <tr>\n",
       "      <th>1</th>\n",
       "      <td>1352.692544</td>\n",
       "    </tr>\n",
       "    <tr>\n",
       "      <th>2</th>\n",
       "      <td>583.100982</td>\n",
       "    </tr>\n",
       "    <tr>\n",
       "      <th>3</th>\n",
       "      <td>2084.912752</td>\n",
       "    </tr>\n",
       "    <tr>\n",
       "      <th>4</th>\n",
       "      <td>3314.165976</td>\n",
       "    </tr>\n",
       "    <tr>\n",
       "      <th>...</th>\n",
       "      <td>...</td>\n",
       "    </tr>\n",
       "    <tr>\n",
       "      <th>5595</th>\n",
       "      <td>2331.132250</td>\n",
       "    </tr>\n",
       "    <tr>\n",
       "      <th>5596</th>\n",
       "      <td>2134.268506</td>\n",
       "    </tr>\n",
       "    <tr>\n",
       "      <th>5597</th>\n",
       "      <td>1319.023038</td>\n",
       "    </tr>\n",
       "    <tr>\n",
       "      <th>5598</th>\n",
       "      <td>5222.009218</td>\n",
       "    </tr>\n",
       "    <tr>\n",
       "      <th>5599</th>\n",
       "      <td>1279.387964</td>\n",
       "    </tr>\n",
       "  </tbody>\n",
       "</table>\n",
       "<p>5600 rows × 1 columns</p>\n",
       "</div>"
      ],
      "text/plain": [
       "                0\n",
       "0     1780.522308\n",
       "1     1352.692544\n",
       "2      583.100982\n",
       "3     2084.912752\n",
       "4     3314.165976\n",
       "...           ...\n",
       "5595  2331.132250\n",
       "5596  2134.268506\n",
       "5597  1319.023038\n",
       "5598  5222.009218\n",
       "5599  1279.387964\n",
       "\n",
       "[5600 rows x 1 columns]"
      ]
     },
     "execution_count": 75,
     "metadata": {},
     "output_type": "execute_result"
    }
   ],
   "source": [
    "df = pd.DataFrame(data =Item_Outlet_Sales )\n",
    "df"
   ]
  },
  {
   "cell_type": "markdown",
   "metadata": {},
   "source": [
    "# Saving Model"
   ]
  },
  {
   "cell_type": "code",
   "execution_count": 80,
   "metadata": {},
   "outputs": [
    {
     "data": {
      "text/plain": [
       "['BigMartSales.obj']"
      ]
     },
     "execution_count": 80,
     "metadata": {},
     "output_type": "execute_result"
    }
   ],
   "source": [
    "import joblib\n",
    "joblib.dump(lr,'BigMartSales.obj')"
   ]
  },
  {
   "cell_type": "code",
   "execution_count": null,
   "metadata": {},
   "outputs": [],
   "source": []
  }
 ],
 "metadata": {
  "kernelspec": {
   "display_name": "Python 3",
   "language": "python",
   "name": "python3"
  },
  "language_info": {
   "codemirror_mode": {
    "name": "ipython",
    "version": 3
   },
   "file_extension": ".py",
   "mimetype": "text/x-python",
   "name": "python",
   "nbconvert_exporter": "python",
   "pygments_lexer": "ipython3",
   "version": "3.8.5"
  }
 },
 "nbformat": 4,
 "nbformat_minor": 4
}
